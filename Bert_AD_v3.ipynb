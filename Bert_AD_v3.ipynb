{
 "cells": [
  {
   "cell_type": "markdown",
   "metadata": {},
   "source": [
    "## Setup"
   ]
  },
  {
   "cell_type": "code",
   "execution_count": 1,
   "metadata": {},
   "outputs": [],
   "source": [
    "#imports\n",
    "import pandas as pd\n",
    "import numpy as np\n",
    "from sklearn.metrics import f1_score\n",
    "import time\n",
    "import re\n",
    "import tensorflow as tf\n",
    "import tensorflow_hub as hub\n",
    "import os\n",
    "from sklearn.metrics import confusion_matrix, classification_report\n",
    "import matplotlib.pyplot as plt\n",
    "import string\n",
    "import sys\n",
    "from datetime import datetime\n",
    "from sklearn.utils.class_weight import compute_class_weight\n",
    "from sklearn.model_selection import train_test_split\n",
    "\n",
    "\n",
    "from tensorflow.keras import backend as K\n",
    "from tensorflow.keras import layers\n",
    "from tensorflow.python.keras.layers import Lambda\n",
    "from tensorflow.keras.callbacks import TensorBoard\n",
    "from tensorflow.keras.backend import sparse_categorical_crossentropy\n",
    "from tensorflow.keras.layers import Dense, TimeDistributed\n",
    "from datetime import datetime\n",
    "\n",
    "%matplotlib inline\n",
    "\n",
    "#set working directory\n",
    "#os.chdir(\"/Users/alexdessouky/Desktop/MIDS/w266\")"
   ]
  },
  {
   "cell_type": "code",
   "execution_count": 9,
   "metadata": {
    "scrolled": true
   },
   "outputs": [],
   "source": [
    "#load training data\n",
    "twitter_train = pd.read_excel('./StanceDataset/train.xlsx')\n",
    "train_x = twitter_train['Tweet']\n",
    "train_y = twitter_train[['Stance','Target']]\n",
    "\n",
    "\n",
    "#load test data\n",
    "twitter_test = pd.read_excel('./StanceDataset/test.xlsx')\n",
    "test_x = twitter_test['Tweet']\n",
    "test_y = twitter_test[['Stance','Target']]\n",
    "\n",
    "# Carve out 15% of train data to use as dev data\n",
    "train_x, dev_x, train_y, dev_y = train_test_split(train_x, train_y, test_size=0.15, random_state=42)\n",
    "\n",
    "# Need to save the target arrays for test & dev separately; then can drop them from our y arrays\n",
    "train_target = train_y['Target']\n",
    "test_target = test_y['Target']\n",
    "dev_target = dev_y['Target']\n",
    "\n",
    "train_y = train_y['Stance']\n",
    "test_y = test_y['Stance']\n",
    "dev_y = dev_y['Stance']"
   ]
  },
  {
   "cell_type": "code",
   "execution_count": 10,
   "metadata": {},
   "outputs": [],
   "source": [
    "#store the paths to bert & data\n",
    "bert_path =   '/Users/alexdessouky/Desktop/MIDS/w266/bert' \n",
    "#bert_path = r'/home/timspittle/w266_final_project/bert/' \n",
    "\n",
    "\n",
    "now = datetime.now() # current date and time\n",
    "\n",
    "# make sure that the paths are accessible within the notebook\n",
    "sys.path.insert(0,bert_path)"
   ]
  },
  {
   "cell_type": "code",
   "execution_count": 11,
   "metadata": {},
   "outputs": [],
   "source": [
    "import optimization\n",
    "import run_classifier\n",
    "import tokenization\n",
    "import run_classifier_with_tfhub\n",
    "\n",
    "# Tensorflow hub path to BERT module\n",
    "bert_url = \"https://tfhub.dev/google/bert_cased_L-12_H-768_A-12/1\"\n",
    "\n",
    "# Define maximal length of input 'sentences' (post tokenization).\n",
    "max_length = 83 ## max length with no preprocessing"
   ]
  },
  {
   "cell_type": "markdown",
   "metadata": {},
   "source": [
    "## Bert tokenizer"
   ]
  },
  {
   "cell_type": "code",
   "execution_count": 12,
   "metadata": {},
   "outputs": [],
   "source": [
    "def create_tokenizer_from_hub_module():\n",
    "    \"\"\"Get the vocab file and casing info from the Hub module.\"\"\"\n",
    "    with tf.Graph().as_default():\n",
    "        bert_module = hub.Module(bert_url)\n",
    "        tokenization_info = bert_module(signature=\"tokenization_info\", as_dict=True)\n",
    "        with tf.Session() as sess:\n",
    "            vocab_file, do_lower_case = sess.run([tokenization_info[\"vocab_file\"],\n",
    "                                            tokenization_info[\"do_lower_case\"]])\n",
    "      \n",
    "    return tokenization.FullTokenizer(\n",
    "      vocab_file=vocab_file, do_lower_case=do_lower_case)\n",
    "\n",
    "tokenizer = create_tokenizer_from_hub_module()"
   ]
  },
  {
   "cell_type": "markdown",
   "metadata": {},
   "source": [
    "## If we want to \"Clean\" the tweets; uncomment out this cell (performs better without)"
   ]
  },
  {
   "cell_type": "code",
   "execution_count": 13,
   "metadata": {},
   "outputs": [],
   "source": [
    "#def preprocess_tweets(x):\n",
    "    \n",
    "    # Remove punctuation EXCEPT for hashtags (#) and handles (@)\n",
    "#    exclude_punc = [punc for punc in string.punctuation if punc not in ['#', '@']]\n",
    "#    x_nopunc = ''.join(ch for ch in x if ch not in exclude_punc)\n",
    "\n",
    "    # lower case\n",
    "#    x_lower = x_nopunc.lower()\n",
    "    \n",
    "    # Replace digits with DIGIT\n",
    "#    x_digits = re.sub(\"\\d+\", \"DIGIT\", x_lower)\n",
    "    \n",
    "#    return x_digits\n",
    "\n",
    "#train_x = twitter_train['Tweet'].apply(lambda x: preprocess_tweets(x))\n",
    "#test_x = twitter_test['Tweet'].apply(lambda x: preprocess_tweets(x))\n",
    "\n",
    "#max_length = 95 #redefine max length - this is what it is when we clean the tweets"
   ]
  },
  {
   "cell_type": "markdown",
   "metadata": {},
   "source": [
    "## Create Inputs for BERT"
   ]
  },
  {
   "cell_type": "code",
   "execution_count": 14,
   "metadata": {},
   "outputs": [],
   "source": [
    "#create tokens surrounded by the [CLS] and [SEP] tokens\n",
    "train_tokens = train_x.apply(lambda x: ['[CLS]'] + tokenizer.tokenize(x) + ['[SEP]'])\n",
    "test_tokens = test_x.apply(lambda x: ['[CLS]'] + tokenizer.tokenize(x) + ['[SEP]'])\n",
    "dev_tokens = dev_x.apply(lambda x: ['[CLS]'] + tokenizer.tokenize(x) + ['[SEP]'])\n",
    "\n",
    "#mask ids (mask out the paddings)\n",
    "train_mask_ids = train_tokens.apply(lambda x: len(x)*[1])\n",
    "test_mask_ids = test_tokens.apply(lambda x: len(x)*[1])\n",
    "dev_mask_ids = dev_tokens.apply(lambda x: len(x)*[1])\n",
    "\n",
    "train_mask_ids = train_mask_ids.apply(lambda x: np.array(x + (max_length - len(x)) * [0]) if len(x) < max_length else \n",
    "                                      np.array(x)).tolist()\n",
    "test_mask_ids = test_mask_ids.apply(lambda x: np.array(x + (max_length - len(x)) * [0]) if len(x) < max_length else \n",
    "                                    np.array(x)).tolist()\n",
    "dev_mask_ids = dev_mask_ids.apply(lambda x: np.array(x + (max_length - len(x)) * [0]) if len(x) < max_length else \n",
    "                                    np.array(x)).tolist()\n",
    "\n",
    "#add padding to tokens\n",
    "train_tokens = train_tokens.apply(lambda x: x + (max_length - len(x)) * ['[PAD]'] if len(x) < max_length else x)\n",
    "test_tokens = test_tokens.apply(lambda x: x + (max_length - len(x)) * ['[PAD]'] if len(x) < max_length else x)\n",
    "dev_tokens = dev_tokens.apply(lambda x: x + (max_length - len(x)) * ['[PAD]'] if len(x) < max_length else x)\n",
    "\n",
    "#test/train sequence vectors\n",
    "train_sequenceids = train_tokens.apply(lambda x: np.array(max_length*[0])).tolist()\n",
    "test_sequenceids = test_tokens.apply(lambda x: np.array(max_length*[0])).tolist()\n",
    "dev_sequenceids = dev_tokens.apply(lambda x: np.array(max_length*[0])).tolist()\n",
    "\n",
    "#convert tokens to sentence ids\n",
    "train_sentenceids = train_tokens.apply(lambda x: np.array(tokenizer.convert_tokens_to_ids(x))).tolist()\n",
    "test_sentenceids = test_tokens.apply(lambda x: np.array(tokenizer.convert_tokens_to_ids(x))).tolist()\n",
    "dev_sentenceids = dev_tokens.apply(lambda x: np.array(tokenizer.convert_tokens_to_ids(x))).tolist()\n",
    "\n",
    "#bert features\n",
    "bert_train = [np.array(train_sentenceids),np.array(train_mask_ids),np.array(train_sequenceids)]\n",
    "bert_test = [np.array(test_sentenceids),np.array(test_mask_ids),np.array(test_sequenceids)]\n",
    "bert_dev = [np.array(dev_sentenceids),np.array(dev_mask_ids),np.array(dev_sequenceids)]\n",
    "\n",
    "#labels\n",
    "stance_labels_train = np.array(train_y.apply(lambda x: \n",
    "                                             2 if x == \"FAVOR\" else \n",
    "                                             (1 if x == \"NONE\" else 0)))\n",
    "\n",
    "stance_labels_test = np.array(test_y.apply(lambda x: \n",
    "                                           2 if x == \"FAVOR\" else \n",
    "                                           (1 if x == \"NONE\" else 0)))\n",
    "\n",
    "stance_labels_dev = np.array(dev_y.apply(lambda x: \n",
    "                                         2 if x == \"FAVOR\" else \n",
    "                                         (1 if x == \"NONE\" else 0)))\n",
    "      \n",
    "\n",
    "#PREP LABELS FOR NN\n",
    "train_y = np.zeros(shape = (stance_labels_train.shape[0],3))\n",
    "train_y[stance_labels_train == 0,0] = 1\n",
    "train_y[stance_labels_train == 1,1] = 1\n",
    "train_y[stance_labels_train == 2,2] = 1\n",
    "\n",
    "test_y = np.zeros(shape = (stance_labels_test.shape[0],3))\n",
    "test_y[stance_labels_test == 0,0] = 1\n",
    "test_y[stance_labels_test == 1,1] = 1\n",
    "test_y[stance_labels_test == 2,2] = 1\n",
    "\n",
    "dev_y = np.zeros(shape = (stance_labels_dev.shape[0],3))\n",
    "dev_y[stance_labels_dev == 0,0] = 1\n",
    "dev_y[stance_labels_dev == 1,1] = 1\n",
    "dev_y[stance_labels_dev == 2,2] = 1"
   ]
  },
  {
   "cell_type": "markdown",
   "metadata": {},
   "source": [
    "## Check data shapes"
   ]
  },
  {
   "cell_type": "code",
   "execution_count": 15,
   "metadata": {},
   "outputs": [
    {
     "name": "stdout",
     "output_type": "stream",
     "text": [
      "Train (raw)\n",
      "2914\n",
      "Train (minus Dev)\n",
      "(2476, 83)(2476, 83)(2476, 83)\n",
      "(2476, 3)\n",
      "Dev\n",
      "(438, 83)(438, 83)(438, 83)\n",
      "(438, 3)\n",
      "Test\n",
      "(1956, 83)(1956, 83)(1956, 83)\n",
      "(1956, 3)\n"
     ]
    }
   ],
   "source": [
    "print(\"Train (raw)\")\n",
    "print(len(twitter_train['Stance']))\n",
    "\n",
    "print(\"Train (minus Dev)\")\n",
    "print(str(bert_train[0].shape) + str(bert_train[1].shape) + str(bert_train[2].shape))\n",
    "print(train_y.shape)\n",
    "\n",
    "print(\"Dev\")\n",
    "print(str(bert_dev[0].shape) + str(bert_dev[1].shape) + str(bert_dev[2].shape))\n",
    "print(dev_y.shape)\n",
    "\n",
    "print(\"Test\")\n",
    "print(str(bert_test[0].shape) + str(bert_test[1].shape) + str(bert_test[2].shape))\n",
    "print(test_y.shape)"
   ]
  },
  {
   "cell_type": "markdown",
   "metadata": {},
   "source": [
    "## Function to obtain a subset of the data"
   ]
  },
  {
   "cell_type": "code",
   "execution_count": 19,
   "metadata": {},
   "outputs": [],
   "source": [
    "def topic_subset(topic_list):\n",
    "        \n",
    "    #convert topic list to lower case\n",
    "    for i in range(0,len(topic_list)):\n",
    "        topic_list[i] = topic_list[i].lower()\n",
    "    \n",
    "    #Find boolean series of all rows pertaining to the relevant topics\n",
    "    matches_train = train_target.apply(lambda x: x.lower() in topic_list)\n",
    "    matches_dev = dev_target.apply(lambda x: x.lower() in topic_list)\n",
    "    matches_test = test_target.apply(lambda x: x.lower() in topic_list)\n",
    "    \n",
    "    # Subset tweets\n",
    "    train_x_sub = train_x[matches_train]\n",
    "    dev_x_sub = dev_x[matches_dev]\n",
    "    test_x_sub = test_x[matches_test]\n",
    "    \n",
    "    # Initialize bert training lists for subsetting\n",
    "    train_bert_sub = []\n",
    "    dev_bert_sub = []\n",
    "    test_bert_sub = []\n",
    "    \n",
    "    for train_input in bert_train:\n",
    "        train_bert_sub.append(train_input[matches_train,:])\n",
    "    for dev_input in bert_dev:\n",
    "        dev_bert_sub.append(dev_input[matches_dev,:])\n",
    "    for test_input in bert_test:\n",
    "        test_bert_sub.append(test_input[matches_test,:])\n",
    "        \n",
    "    # Subset labels\n",
    "    train_y_sub = train_y[matches_train,:]\n",
    "    dev_y_sub = dev_y[matches_dev,:]\n",
    "    test_y_sub = test_y[matches_test,:]\n",
    "    \n",
    "    # Also need to return the labels in this format for metrics\n",
    "    train_true_labels = stance_labels_train[matches_train]\n",
    "    dev_true_labels = stance_labels_dev[matches_dev]\n",
    "    test_true_labels = stance_labels_test[matches_test]\n",
    "    \n",
    "    return train_x_sub, train_bert_sub, train_y_sub, train_true_labels, \\\n",
    "            dev_x_sub, dev_bert_sub, dev_y_sub, dev_true_labels, \\\n",
    "            test_x_sub, test_bert_sub, test_y_sub, test_true_labels,"
   ]
  },
  {
   "cell_type": "markdown",
   "metadata": {},
   "source": [
    "## Functions to Run Standard Metrics"
   ]
  },
  {
   "cell_type": "code",
   "execution_count": 15,
   "metadata": {},
   "outputs": [],
   "source": [
    "def confusion_plot(confusion_matrix, target_names):\n",
    "    \n",
    "    # Plot confusion matrix (via imshow)\n",
    "    plt.imshow(confusion_matrix, interpolation = \"nearest\", cmap = plt.cm.Blues)\n",
    "    plt.title(\"Confusion matrix\")\n",
    "    plt.colorbar()\n",
    "    tick_marks = np.arange(len(target_names))\n",
    "    plt.xticks(tick_marks, target_names)\n",
    "    plt.yticks(tick_marks, target_names)\n",
    "    plt.ylim([-0.5, 2.5]) # Fixed values for now\n",
    "    plt.tight_layout()\n",
    "\n",
    "    # Loop through each value of the matrix to add data labels\n",
    "    width, height = confusion_matrix.shape\n",
    "    for x in range(width):\n",
    "        for y in range(height):\n",
    "            plt.annotate(str(confusion_matrix[x][y]), xy = (y, x), \n",
    "                        horizontalalignment = \"center\",\n",
    "                        verticalalignment = \"center\")\n",
    "    plt.ylabel(\"True label\")\n",
    "    plt.xlabel(\"Predicted label\")\n",
    "    \n",
    "def metrics(true_labels, test_probs):\n",
    "    \n",
    "    #find predicted labels\n",
    "    test_predicts = np.argmax(test_probs, axis = 1)\n",
    "    \n",
    "    #calculate f1 score and print classification report\n",
    "    class_report = classification_report(y_true = true_labels, \n",
    "                                        y_pred = test_predicts,\n",
    "                                        target_names = ['Against', 'None', 'Favor'], output_dict=True)\n",
    "    \n",
    "    print(\"F1 macro score (Favor and Against only)\", str((class_report['Favor']['f1-score'] + \n",
    "         class_report['Against']['f1-score']) / 2))\n",
    "    \n",
    "    print(classification_report(y_true = true_labels, \n",
    "                                        y_pred = test_predicts,\n",
    "                                        target_names = ['Against', 'None', 'Favor']))\n",
    "    \n",
    "    confuse = confusion_matrix(y_true = true_labels, y_pred = test_predicts)\n",
    "    \n",
    "    plt.figure(figsize=(15, 5))\n",
    "    confusion_plot(confuse, ['Against', 'None', 'Favor'])\n",
    "    plt.show()"
   ]
  },
  {
   "cell_type": "markdown",
   "metadata": {},
   "source": [
    "## Custom layer for BERT Embeddings"
   ]
  },
  {
   "cell_type": "code",
   "execution_count": 16,
   "metadata": {},
   "outputs": [],
   "source": [
    "class BertLayer_Seq(tf.keras.layers.Layer):\n",
    "    def __init__(self, n_fine_tune_layers=10, **kwargs):\n",
    "        self.n_fine_tune_layers = n_fine_tune_layers\n",
    "        self.trainable = True\n",
    "        self.output_size = 768\n",
    "        super(BertLayer_Seq, self).__init__(**kwargs)\n",
    "\n",
    "    def build(self, input_shape):\n",
    "        self.bert = hub.Module(\n",
    "            bert_url,\n",
    "            trainable=self.trainable,\n",
    "            name=\"{}_module\".format(self.name)\n",
    "        )\n",
    "        trainable_vars = self.bert.variables\n",
    "        \n",
    "        # Remove unused layers\n",
    "        trainable_vars = [var for var in trainable_vars if not \"/cls/\" in var.name and not \"/pooler/\" in var.name]\n",
    "        \n",
    "        # Select how many layers to fine tune\n",
    "        trainable_vars = trainable_vars[-self.n_fine_tune_layers :]\n",
    "        \n",
    "        # Add to trainable weights\n",
    "        for var in trainable_vars:\n",
    "            self._trainable_weights.append(var)\n",
    "        \n",
    "        # Add non-trainable weights\n",
    "        for var in self.bert.variables:\n",
    "            if var not in self._trainable_weights:\n",
    "                self._non_trainable_weights.append(var)\n",
    "        \n",
    "        super(BertLayer_Seq, self).build(input_shape)\n",
    "\n",
    "    def call(self, inputs):\n",
    "        inputs = [K.cast(x, dtype=\"int32\") for x in inputs]\n",
    "        input_ids, input_mask, segment_ids = inputs\n",
    "        bert_inputs = dict(\n",
    "            input_ids=input_ids, input_mask=input_mask, segment_ids=segment_ids\n",
    "        )\n",
    "        result = self.bert(inputs=bert_inputs, signature=\"tokens\", as_dict=True)[\n",
    "            \"sequence_output\"\n",
    "        ]\n",
    "        \n",
    "        mul_mask = lambda x, m: x * tf.expand_dims(m, axis=-1)\n",
    "        \n",
    "        return result\n",
    "\n",
    "    def compute_output_shape(self, input_shape):\n",
    "        return (input_shape[0], self.output_size)"
   ]
  },
  {
   "cell_type": "markdown",
   "metadata": {},
   "source": [
    "## Define Model"
   ]
  },
  {
   "cell_type": "code",
   "execution_count": 17,
   "metadata": {},
   "outputs": [],
   "source": [
    "def bert_model_seq(max_length, train_layers, optimizer, dropout_rate):\n",
    "    \n",
    "    #inputs\n",
    "    in_id = tf.keras.layers.Input(shape=(max_length,), name=\"input_ids\")\n",
    "    in_mask = tf.keras.layers.Input(shape=(max_length,), name=\"input_masks\")\n",
    "    in_segment = tf.keras.layers.Input(shape=(max_length,), name=\"segment_ids\")\n",
    "    \n",
    "    bert_inputs = [in_id, in_mask, in_segment]\n",
    "    \n",
    "    #obtain bert Sequential output\n",
    "    bert_sequence = BertLayer_Seq(n_fine_tune_layers=train_layers)(bert_inputs)\n",
    "    \n",
    "    #perform dropout\n",
    "    dropout1= tf.keras.layers.Dropout(rate=dropout_rate)(bert_sequence)\n",
    "    \n",
    "    #LSTM layer to handle Sequential output\n",
    "    lstm1 = tf.keras.layers.LSTM(128, name='lstm1')(dropout1)\n",
    "    \n",
    "    #Feed LSTM layer to 1 dense layer\n",
    "    dense1 = tf.keras.layers.Dense(64, activation='relu', \n",
    "                                 kernel_initializer = tf.keras.initializers.he_normal(), \n",
    "                                 name='dense1')(lstm1)\n",
    "    \n",
    "    #perform another dropout\n",
    "    dropout2 = tf.keras.layers.Dropout(rate=dropout_rate)(dense1)\n",
    "    \n",
    "    #classification layer\n",
    "    pred = tf.keras.layers.Dense(3, activation='softmax', name='classification')(dropout2)\n",
    "    \n",
    "    #compile model\n",
    "    model = tf.keras.models.Model(inputs=bert_inputs, outputs=pred)\n",
    "    model.compile(loss='categorical_crossentropy', optimizer=optimizer, metrics = ['categorical_accuracy'])\n",
    "    model.summary()\n",
    "    \n",
    "    return model\n",
    "\n",
    "def initialize_vars(sess):\n",
    "    sess.run(tf.local_variables_initializer())\n",
    "    sess.run(tf.global_variables_initializer())\n",
    "    sess.run(tf.tables_initializer())\n",
    "    K.set_session(sess)"
   ]
  },
  {
   "cell_type": "markdown",
   "metadata": {},
   "source": [
    "## Run Models on each Target"
   ]
  },
  {
   "cell_type": "markdown",
   "metadata": {},
   "source": [
    "## Atheism"
   ]
  },
  {
   "cell_type": "code",
   "execution_count": 67,
   "metadata": {
    "scrolled": true
   },
   "outputs": [
    {
     "name": "stdout",
     "output_type": "stream",
     "text": [
      "INFO:tensorflow:Saver not created because there are no variables in the graph to restore\n"
     ]
    },
    {
     "name": "stderr",
     "output_type": "stream",
     "text": [
      "INFO:tensorflow:Saver not created because there are no variables in the graph to restore\n"
     ]
    },
    {
     "name": "stdout",
     "output_type": "stream",
     "text": [
      "Model: \"model_3\"\n",
      "__________________________________________________________________________________________________\n",
      "Layer (type)                    Output Shape         Param #     Connected to                     \n",
      "==================================================================================================\n",
      "input_ids (InputLayer)          [(None, 83)]         0                                            \n",
      "__________________________________________________________________________________________________\n",
      "input_masks (InputLayer)        [(None, 83)]         0                                            \n",
      "__________________________________________________________________________________________________\n",
      "segment_ids (InputLayer)        [(None, 83)]         0                                            \n",
      "__________________________________________________________________________________________________\n",
      "bert_layer__seq_4 (BertLayer_Se (None, None, 768)    108931396   input_ids[0][0]                  \n",
      "                                                                 input_masks[0][0]                \n",
      "                                                                 segment_ids[0][0]                \n",
      "__________________________________________________________________________________________________\n",
      "dropout_6 (Dropout)             (None, None, 768)    0           bert_layer__seq_4[0][0]          \n",
      "__________________________________________________________________________________________________\n",
      "lstm1 (LSTM)                    (None, 128)          459264      dropout_6[0][0]                  \n",
      "__________________________________________________________________________________________________\n",
      "dense1 (Dense)                  (None, 64)           8256        lstm1[0][0]                      \n",
      "__________________________________________________________________________________________________\n",
      "dropout_7 (Dropout)             (None, 64)           0           dense1[0][0]                     \n",
      "__________________________________________________________________________________________________\n",
      "classification (Dense)          (None, 3)            195         dropout_7[0][0]                  \n",
      "==================================================================================================\n",
      "Total params: 109,399,111\n",
      "Trainable params: 5,191,683\n",
      "Non-trainable params: 104,207,428\n",
      "__________________________________________________________________________________________________\n",
      "Train on 425 samples, validate on 88 samples\n",
      "WARNING:tensorflow:From /home/timspittle/.local/lib/python3.7/site-packages/tensorflow/python/ops/math_grad.py:1250: add_dispatch_support.<locals>.wrapper (from tensorflow.python.ops.array_ops) is deprecated and will be removed in a future version.\n",
      "Instructions for updating:\n",
      "Use tf.where in 2.0, which has the same broadcast rule as np.where\n"
     ]
    },
    {
     "name": "stderr",
     "output_type": "stream",
     "text": [
      "WARNING:tensorflow:From /home/timspittle/.local/lib/python3.7/site-packages/tensorflow/python/ops/math_grad.py:1250: add_dispatch_support.<locals>.wrapper (from tensorflow.python.ops.array_ops) is deprecated and will be removed in a future version.\n",
      "Instructions for updating:\n",
      "Use tf.where in 2.0, which has the same broadcast rule as np.where\n"
     ]
    },
    {
     "name": "stdout",
     "output_type": "stream",
     "text": [
      "Epoch 1/20\n",
      "425/425 [==============================] - 42s 98ms/sample - loss: 1.1445 - categorical_accuracy: 0.3882 - val_loss: 0.9769 - val_categorical_accuracy: 0.5455\n",
      "Epoch 2/20\n",
      "425/425 [==============================] - 33s 78ms/sample - loss: 0.9464 - categorical_accuracy: 0.5812 - val_loss: 0.7705 - val_categorical_accuracy: 0.5455\n",
      "Epoch 3/20\n",
      "425/425 [==============================] - 33s 78ms/sample - loss: 0.7768 - categorical_accuracy: 0.6729 - val_loss: 0.6185 - val_categorical_accuracy: 0.7614\n",
      "Epoch 4/20\n",
      "425/425 [==============================] - 33s 78ms/sample - loss: 0.5603 - categorical_accuracy: 0.7953 - val_loss: 0.5608 - val_categorical_accuracy: 0.8068\n",
      "Epoch 5/20\n",
      "425/425 [==============================] - 33s 77ms/sample - loss: 0.4215 - categorical_accuracy: 0.8612 - val_loss: 0.8348 - val_categorical_accuracy: 0.6818\n",
      "Epoch 6/20\n",
      "425/425 [==============================] - 32s 75ms/sample - loss: 0.2579 - categorical_accuracy: 0.9035 - val_loss: 0.7883 - val_categorical_accuracy: 0.7841\n",
      "Epoch 7/20\n",
      "425/425 [==============================] - 32s 76ms/sample - loss: 0.2761 - categorical_accuracy: 0.8941 - val_loss: 0.6740 - val_categorical_accuracy: 0.8068\n",
      "Epoch 8/20\n",
      "425/425 [==============================] - 33s 77ms/sample - loss: 0.2374 - categorical_accuracy: 0.9247 - val_loss: 1.0047 - val_categorical_accuracy: 0.7614\n",
      "Epoch 9/20\n",
      "425/425 [==============================] - 33s 78ms/sample - loss: 0.1535 - categorical_accuracy: 0.9412 - val_loss: 0.7847 - val_categorical_accuracy: 0.7841\n",
      "Epoch 10/20\n",
      "425/425 [==============================] - 32s 76ms/sample - loss: 0.0910 - categorical_accuracy: 0.9765 - val_loss: 1.2248 - val_categorical_accuracy: 0.7841\n",
      "Epoch 11/20\n",
      "425/425 [==============================] - 33s 77ms/sample - loss: 0.0647 - categorical_accuracy: 0.9741 - val_loss: 1.2048 - val_categorical_accuracy: 0.7500\n",
      "Epoch 12/20\n",
      "425/425 [==============================] - 33s 77ms/sample - loss: 0.0851 - categorical_accuracy: 0.9624 - val_loss: 1.0531 - val_categorical_accuracy: 0.7727\n",
      "Epoch 13/20\n",
      "425/425 [==============================] - 32s 75ms/sample - loss: 0.0310 - categorical_accuracy: 0.9953 - val_loss: 1.2213 - val_categorical_accuracy: 0.7727\n",
      "Epoch 14/20\n",
      "425/425 [==============================] - 33s 77ms/sample - loss: 0.0099 - categorical_accuracy: 0.9976 - val_loss: 1.3906 - val_categorical_accuracy: 0.7614\n",
      "Epoch 15/20\n",
      "425/425 [==============================] - 32s 76ms/sample - loss: 0.0077 - categorical_accuracy: 1.0000 - val_loss: 1.3440 - val_categorical_accuracy: 0.7727\n",
      "Epoch 16/20\n",
      "425/425 [==============================] - 33s 77ms/sample - loss: 0.0060 - categorical_accuracy: 0.9976 - val_loss: 1.4238 - val_categorical_accuracy: 0.7955\n",
      "Epoch 17/20\n",
      "425/425 [==============================] - 33s 77ms/sample - loss: 0.0032 - categorical_accuracy: 1.0000 - val_loss: 1.4828 - val_categorical_accuracy: 0.7955\n",
      "Epoch 18/20\n",
      "425/425 [==============================] - 33s 78ms/sample - loss: 0.0023 - categorical_accuracy: 1.0000 - val_loss: 1.5344 - val_categorical_accuracy: 0.7955\n",
      "Epoch 19/20\n",
      "425/425 [==============================] - 33s 77ms/sample - loss: 0.0029 - categorical_accuracy: 1.0000 - val_loss: 1.5751 - val_categorical_accuracy: 0.7727\n",
      "Epoch 20/20\n",
      "425/425 [==============================] - 33s 77ms/sample - loss: 0.0030 - categorical_accuracy: 1.0000 - val_loss: 1.6207 - val_categorical_accuracy: 0.7841\n"
     ]
    },
    {
     "data": {
      "text/plain": [
       "<tensorflow.python.keras.callbacks.History at 0x7f1387657978>"
      ]
     },
     "execution_count": 67,
     "metadata": {},
     "output_type": "execute_result"
    }
   ],
   "source": [
    "#subset the data\n",
    "train_tweets, train_data, train_y_array, train_y_labels, dev_tweets, dev_data, dev_y_array, dev_y_labels, test_tweets, test_data, test_y_array, test_y_labels = topic_subset(['Atheism'])\n",
    "\n",
    "#Start session\n",
    "compute_class = compute_class_weight('balanced', np.unique(train_y_labels), train_y_labels)\n",
    "weights = {0: compute_class[0], 1:compute_class[1], 2:compute_class[2]}\n",
    "\n",
    "sess = tf.Session()\n",
    "\n",
    "#create model instance\n",
    "model = bert_model_seq(max_length = max_length, \n",
    "                       train_layers = 6, \n",
    "                       optimizer = tf.keras.optimizers.Adam(learning_rate = 0.001,\n",
    "                                                            beta_1 = 0.9,\n",
    "                                                            beta_2 = 0.999),\n",
    "                       dropout_rate = 0.5)\n",
    "\n",
    "# Instantiate variables\n",
    "initialize_vars(sess)\n",
    "\n",
    "#train model\n",
    "model.fit(\n",
    "    train_data, \n",
    "    train_y_array,\n",
    "    validation_data = [dev_data, dev_y_array],\n",
    "    epochs = 20,\n",
    "    verbose = 1,\n",
    "    batch_size = 32,\n",
    "    class_weight = weights)"
   ]
  },
  {
   "cell_type": "code",
   "execution_count": 68,
   "metadata": {},
   "outputs": [
    {
     "name": "stdout",
     "output_type": "stream",
     "text": [
      "F1 macro score (Favor and Against only) 0.6965715209832619\n",
      "              precision    recall  f1-score   support\n",
      "\n",
      "     Against       0.91      0.78      0.84       160\n",
      "        None       0.65      0.71      0.68        28\n",
      "       Favor       0.45      0.72      0.55        32\n",
      "\n",
      "    accuracy                           0.76       220\n",
      "   macro avg       0.67      0.74      0.69       220\n",
      "weighted avg       0.81      0.76      0.78       220\n",
      "\n"
     ]
    },
    {
     "data": {
      "image/png": "[encoded data removed]",
      "text/plain": [
       "<Figure size 1080x360 with 2 Axes>"
      ]
     },
     "metadata": {
      "needs_background": "light"
     },
     "output_type": "display_data"
    }
   ],
   "source": [
    "#make predictions and run metrics\n",
    "test_probs = model.predict(test_data)\n",
    "metrics(test_y_labels, test_probs)"
   ]
  },
  {
   "cell_type": "code",
   "execution_count": 70,
   "metadata": {},
   "outputs": [],
   "source": [
    "#store predictions and true labels for calculating overall F score later\n",
    "ath_tweets = test_tweets\n",
    "ath_predictions =  np.argmax(test_probs, axis = 1)\n",
    "ath_labels = test_y_labels"
   ]
  },
  {
   "cell_type": "code",
   "execution_count": 71,
   "metadata": {},
   "outputs": [
    {
     "name": "stderr",
     "output_type": "stream",
     "text": [
      "/home/timspittle/anaconda3/lib/python3.7/site-packages/ipykernel_launcher.py:2: FutureWarning: The signature of `Series.to_csv` was aligned to that of `DataFrame.to_csv`, and argument 'header' will change its default value from False to True: please pass an explicit value to suppress this warning.\n",
      "  \n",
      "/home/timspittle/anaconda3/lib/python3.7/site-packages/ipykernel_launcher.py:3: FutureWarning: The signature of `Series.to_csv` was aligned to that of `DataFrame.to_csv`, and argument 'header' will change its default value from False to True: please pass an explicit value to suppress this warning.\n",
      "  This is separate from the ipykernel package so we can avoid doing imports until\n",
      "/home/timspittle/anaconda3/lib/python3.7/site-packages/ipykernel_launcher.py:4: FutureWarning: The signature of `Series.to_csv` was aligned to that of `DataFrame.to_csv`, and argument 'header' will change its default value from False to True: please pass an explicit value to suppress this warning.\n",
      "  after removing the cwd from sys.path.\n"
     ]
    }
   ],
   "source": [
    "##write predictions to csv files\n",
    "pd.Series(ath_tweets).to_csv('./final_outputs/atheism_tweets_v3.csv')\n",
    "pd.Series(ath_predictions).to_csv('./final_outputs/atheism_preds_v3.csv')\n",
    "pd.Series(ath_labels).to_csv('./final_outputs/atheism_true_v3.csv')"
   ]
  },
  {
   "cell_type": "markdown",
   "metadata": {},
   "source": [
    "## Hillary Clinton"
   ]
  },
  {
   "cell_type": "code",
   "execution_count": 85,
   "metadata": {
    "scrolled": true
   },
   "outputs": [
    {
     "name": "stdout",
     "output_type": "stream",
     "text": [
      "INFO:tensorflow:Saver not created because there are no variables in the graph to restore\n"
     ]
    },
    {
     "name": "stderr",
     "output_type": "stream",
     "text": [
      "INFO:tensorflow:Saver not created because there are no variables in the graph to restore\n"
     ]
    },
    {
     "name": "stdout",
     "output_type": "stream",
     "text": [
      "Model: \"model_7\"\n",
      "__________________________________________________________________________________________________\n",
      "Layer (type)                    Output Shape         Param #     Connected to                     \n",
      "==================================================================================================\n",
      "input_ids (InputLayer)          [(None, 83)]         0                                            \n",
      "__________________________________________________________________________________________________\n",
      "input_masks (InputLayer)        [(None, 83)]         0                                            \n",
      "__________________________________________________________________________________________________\n",
      "segment_ids (InputLayer)        [(None, 83)]         0                                            \n",
      "__________________________________________________________________________________________________\n",
      "bert_layer__seq_8 (BertLayer_Se (None, None, 768)    108931396   input_ids[0][0]                  \n",
      "                                                                 input_masks[0][0]                \n",
      "                                                                 segment_ids[0][0]                \n",
      "__________________________________________________________________________________________________\n",
      "dropout_14 (Dropout)            (None, None, 768)    0           bert_layer__seq_8[0][0]          \n",
      "__________________________________________________________________________________________________\n",
      "lstm1 (LSTM)                    (None, 128)          459264      dropout_14[0][0]                 \n",
      "__________________________________________________________________________________________________\n",
      "dense1 (Dense)                  (None, 64)           8256        lstm1[0][0]                      \n",
      "__________________________________________________________________________________________________\n",
      "dropout_15 (Dropout)            (None, 64)           0           dense1[0][0]                     \n",
      "__________________________________________________________________________________________________\n",
      "classification (Dense)          (None, 3)            195         dropout_15[0][0]                 \n",
      "==================================================================================================\n",
      "Total params: 109,399,111\n",
      "Trainable params: 5,191,683\n",
      "Non-trainable params: 104,207,428\n",
      "__________________________________________________________________________________________________\n",
      "Train on 590 samples, validate on 99 samples\n",
      "Epoch 1/20\n",
      "590/590 [==============================] - 56s 95ms/sample - loss: 1.1819 - categorical_accuracy: 0.3678 - val_loss: 1.0934 - val_categorical_accuracy: 0.2525\n",
      "Epoch 2/20\n",
      "590/590 [==============================] - 43s 73ms/sample - loss: 1.0438 - categorical_accuracy: 0.3508 - val_loss: 0.9473 - val_categorical_accuracy: 0.4646\n",
      "Epoch 3/20\n",
      "590/590 [==============================] - 44s 74ms/sample - loss: 0.8352 - categorical_accuracy: 0.5559 - val_loss: 1.0229 - val_categorical_accuracy: 0.3636\n",
      "Epoch 4/20\n",
      "590/590 [==============================] - 44s 74ms/sample - loss: 0.7036 - categorical_accuracy: 0.6068 - val_loss: 0.9205 - val_categorical_accuracy: 0.6768\n",
      "Epoch 5/20\n",
      "590/590 [==============================] - 44s 74ms/sample - loss: 0.5782 - categorical_accuracy: 0.7169 - val_loss: 0.8463 - val_categorical_accuracy: 0.6364\n",
      "Epoch 6/20\n",
      "590/590 [==============================] - 45s 76ms/sample - loss: 0.4849 - categorical_accuracy: 0.7644 - val_loss: 1.0056 - val_categorical_accuracy: 0.6667\n",
      "Epoch 7/20\n",
      "590/590 [==============================] - 43s 73ms/sample - loss: 0.3890 - categorical_accuracy: 0.8271 - val_loss: 0.8516 - val_categorical_accuracy: 0.7475\n",
      "Epoch 8/20\n",
      "590/590 [==============================] - 43s 73ms/sample - loss: 0.1678 - categorical_accuracy: 0.9356 - val_loss: 1.0510 - val_categorical_accuracy: 0.6970\n",
      "Epoch 9/20\n",
      "590/590 [==============================] - 43s 73ms/sample - loss: 0.1074 - categorical_accuracy: 0.9610 - val_loss: 1.3242 - val_categorical_accuracy: 0.6768\n",
      "Epoch 10/20\n",
      "590/590 [==============================] - 44s 74ms/sample - loss: 0.1568 - categorical_accuracy: 0.9441 - val_loss: 1.1074 - val_categorical_accuracy: 0.7576\n",
      "Epoch 11/20\n",
      "590/590 [==============================] - 45s 76ms/sample - loss: 0.0715 - categorical_accuracy: 0.9729 - val_loss: 1.2333 - val_categorical_accuracy: 0.7778\n",
      "Epoch 12/20\n",
      "590/590 [==============================] - 45s 76ms/sample - loss: 0.1277 - categorical_accuracy: 0.9644 - val_loss: 1.7315 - val_categorical_accuracy: 0.6364\n",
      "Epoch 13/20\n",
      "590/590 [==============================] - 45s 76ms/sample - loss: 0.1145 - categorical_accuracy: 0.9559 - val_loss: 1.2624 - val_categorical_accuracy: 0.7273\n",
      "Epoch 14/20\n",
      "590/590 [==============================] - 42s 72ms/sample - loss: 0.1052 - categorical_accuracy: 0.9847 - val_loss: 1.4062 - val_categorical_accuracy: 0.7576\n",
      "Epoch 15/20\n",
      "590/590 [==============================] - 42s 71ms/sample - loss: 0.0534 - categorical_accuracy: 0.9746 - val_loss: 1.3632 - val_categorical_accuracy: 0.7071\n",
      "Epoch 16/20\n",
      "590/590 [==============================] - 43s 73ms/sample - loss: 0.0735 - categorical_accuracy: 0.9695 - val_loss: 1.2288 - val_categorical_accuracy: 0.7778\n",
      "Epoch 17/20\n",
      "590/590 [==============================] - 44s 74ms/sample - loss: 0.0492 - categorical_accuracy: 0.9814 - val_loss: 1.4557 - val_categorical_accuracy: 0.6970\n",
      "Epoch 18/20\n",
      "590/590 [==============================] - 44s 75ms/sample - loss: 0.0570 - categorical_accuracy: 0.9814 - val_loss: 1.4411 - val_categorical_accuracy: 0.7778\n",
      "Epoch 19/20\n",
      "590/590 [==============================] - 44s 74ms/sample - loss: 0.0393 - categorical_accuracy: 0.9932 - val_loss: 1.4803 - val_categorical_accuracy: 0.7475\n",
      "Epoch 20/20\n",
      "590/590 [==============================] - 44s 75ms/sample - loss: 0.0368 - categorical_accuracy: 0.9847 - val_loss: 1.6686 - val_categorical_accuracy: 0.6970\n"
     ]
    },
    {
     "data": {
      "text/plain": [
       "<tensorflow.python.keras.callbacks.History at 0x7f12feba9710>"
      ]
     },
     "execution_count": 85,
     "metadata": {},
     "output_type": "execute_result"
    }
   ],
   "source": [
    "#subset the data\n",
    "train_tweets, train_data, train_y_array, train_y_labels, dev_tweets, dev_data, dev_y_array, dev_y_labels, test_tweets, test_data, test_y_array, test_y_labels = topic_subset(['Hillary Clinton'])\n",
    "\n",
    "#Start session\n",
    "compute_class = compute_class_weight('balanced', np.unique(train_y_labels), train_y_labels)\n",
    "weights = {0: compute_class[0], 1:compute_class[1], 2:compute_class[2]}\n",
    "\n",
    "sess = tf.Session()\n",
    "\n",
    "#create model instance\n",
    "model = bert_model_seq(max_length = max_length, \n",
    "                       train_layers = 6, \n",
    "                       optimizer = tf.keras.optimizers.Adam(learning_rate = 0.001,\n",
    "                                                            beta_1 = 0.9,\n",
    "                                                            beta_2 = 0.999),\n",
    "                       dropout_rate = 0.5)\n",
    "\n",
    "# Instantiate variables\n",
    "initialize_vars(sess)\n",
    "\n",
    "#train model\n",
    "model.fit(\n",
    "    train_data, \n",
    "    train_y_array,\n",
    "    validation_data = [dev_data, dev_y_array],\n",
    "    epochs = 20,\n",
    "    verbose = 1,\n",
    "    batch_size = 32,\n",
    "    class_weight = weights)"
   ]
  },
  {
   "cell_type": "code",
   "execution_count": 86,
   "metadata": {},
   "outputs": [
    {
     "name": "stdout",
     "output_type": "stream",
     "text": [
      "F1 macro score (Favor and Against only) 0.6447502548419979\n",
      "              precision    recall  f1-score   support\n",
      "\n",
      "     Against       0.77      0.70      0.73       172\n",
      "        None       0.58      0.71      0.64        78\n",
      "       Favor       0.56      0.56      0.56        45\n",
      "\n",
      "    accuracy                           0.68       295\n",
      "   macro avg       0.64      0.65      0.64       295\n",
      "weighted avg       0.69      0.68      0.68       295\n",
      "\n"
     ]
    },
    {
     "data": {
      "image/png": "[encoded data removed]",
      "text/plain": [
       "<Figure size 1080x360 with 2 Axes>"
      ]
     },
     "metadata": {
      "needs_background": "light"
     },
     "output_type": "display_data"
    }
   ],
   "source": [
    "#make predictions and run metrics\n",
    "test_probs = model.predict(test_data)\n",
    "metrics(test_y_labels, test_probs)"
   ]
  },
  {
   "cell_type": "code",
   "execution_count": 87,
   "metadata": {},
   "outputs": [],
   "source": [
    "#store predictions and true labels for calculating overall F score later\n",
    "hil_tweets = test_tweets\n",
    "hil_predictions =  np.argmax(test_probs, axis = 1)\n",
    "hil_labels = test_y_labels"
   ]
  },
  {
   "cell_type": "code",
   "execution_count": 132,
   "metadata": {},
   "outputs": [
    {
     "name": "stderr",
     "output_type": "stream",
     "text": [
      "/home/timspittle/anaconda3/lib/python3.7/site-packages/ipykernel_launcher.py:2: FutureWarning: The signature of `Series.to_csv` was aligned to that of `DataFrame.to_csv`, and argument 'header' will change its default value from False to True: please pass an explicit value to suppress this warning.\n",
      "  \n",
      "/home/timspittle/anaconda3/lib/python3.7/site-packages/ipykernel_launcher.py:3: FutureWarning: The signature of `Series.to_csv` was aligned to that of `DataFrame.to_csv`, and argument 'header' will change its default value from False to True: please pass an explicit value to suppress this warning.\n",
      "  This is separate from the ipykernel package so we can avoid doing imports until\n",
      "/home/timspittle/anaconda3/lib/python3.7/site-packages/ipykernel_launcher.py:4: FutureWarning: The signature of `Series.to_csv` was aligned to that of `DataFrame.to_csv`, and argument 'header' will change its default value from False to True: please pass an explicit value to suppress this warning.\n",
      "  after removing the cwd from sys.path.\n"
     ]
    }
   ],
   "source": [
    "##write predictions to csv files\n",
    "pd.Series(hil_tweets).to_csv('./final_outputs/hil_tweets_v3.csv')\n",
    "pd.Series(hil_predictions).to_csv('./final_outputs/hil_preds_v3.csv')\n",
    "pd.Series(hil_labels).to_csv('./final_outputs/hil_true_v3.csv')"
   ]
  },
  {
   "cell_type": "markdown",
   "metadata": {},
   "source": [
    "## Abortion"
   ]
  },
  {
   "cell_type": "code",
   "execution_count": 72,
   "metadata": {
    "scrolled": true
   },
   "outputs": [
    {
     "name": "stdout",
     "output_type": "stream",
     "text": [
      "INFO:tensorflow:Saver not created because there are no variables in the graph to restore\n"
     ]
    },
    {
     "name": "stderr",
     "output_type": "stream",
     "text": [
      "INFO:tensorflow:Saver not created because there are no variables in the graph to restore\n"
     ]
    },
    {
     "name": "stdout",
     "output_type": "stream",
     "text": [
      "Model: \"model_4\"\n",
      "__________________________________________________________________________________________________\n",
      "Layer (type)                    Output Shape         Param #     Connected to                     \n",
      "==================================================================================================\n",
      "input_ids (InputLayer)          [(None, 83)]         0                                            \n",
      "__________________________________________________________________________________________________\n",
      "input_masks (InputLayer)        [(None, 83)]         0                                            \n",
      "__________________________________________________________________________________________________\n",
      "segment_ids (InputLayer)        [(None, 83)]         0                                            \n",
      "__________________________________________________________________________________________________\n",
      "bert_layer__seq_5 (BertLayer_Se (None, None, 768)    108931396   input_ids[0][0]                  \n",
      "                                                                 input_masks[0][0]                \n",
      "                                                                 segment_ids[0][0]                \n",
      "__________________________________________________________________________________________________\n",
      "dropout_8 (Dropout)             (None, None, 768)    0           bert_layer__seq_5[0][0]          \n",
      "__________________________________________________________________________________________________\n",
      "lstm1 (LSTM)                    (None, 128)          459264      dropout_8[0][0]                  \n",
      "__________________________________________________________________________________________________\n",
      "dense1 (Dense)                  (None, 64)           8256        lstm1[0][0]                      \n",
      "__________________________________________________________________________________________________\n",
      "dropout_9 (Dropout)             (None, 64)           0           dense1[0][0]                     \n",
      "__________________________________________________________________________________________________\n",
      "classification (Dense)          (None, 3)            195         dropout_9[0][0]                  \n",
      "==================================================================================================\n",
      "Total params: 109,399,111\n",
      "Trainable params: 5,191,683\n",
      "Non-trainable params: 104,207,428\n",
      "__________________________________________________________________________________________________\n",
      "Train on 561 samples, validate on 92 samples\n",
      "Epoch 1/20\n",
      "561/561 [==============================] - 52s 93ms/sample - loss: 1.1792 - categorical_accuracy: 0.3351 - val_loss: 1.0668 - val_categorical_accuracy: 0.4674\n",
      "Epoch 2/20\n",
      "561/561 [==============================] - 44s 78ms/sample - loss: 1.0370 - categorical_accuracy: 0.4332 - val_loss: 0.8383 - val_categorical_accuracy: 0.5978\n",
      "Epoch 3/20\n",
      "561/561 [==============================] - 42s 76ms/sample - loss: 0.8118 - categorical_accuracy: 0.6328 - val_loss: 0.9295 - val_categorical_accuracy: 0.5326\n",
      "Epoch 4/20\n",
      "561/561 [==============================] - 43s 77ms/sample - loss: 0.5843 - categorical_accuracy: 0.7611 - val_loss: 0.7338 - val_categorical_accuracy: 0.6630\n",
      "Epoch 5/20\n",
      "561/561 [==============================] - 43s 76ms/sample - loss: 0.4382 - categorical_accuracy: 0.8200 - val_loss: 0.8168 - val_categorical_accuracy: 0.6413\n",
      "Epoch 6/20\n",
      "561/561 [==============================] - 42s 76ms/sample - loss: 0.2506 - categorical_accuracy: 0.9037 - val_loss: 0.9045 - val_categorical_accuracy: 0.6848\n",
      "Epoch 7/20\n",
      "561/561 [==============================] - 43s 76ms/sample - loss: 0.2046 - categorical_accuracy: 0.9216 - val_loss: 1.0606 - val_categorical_accuracy: 0.6739\n",
      "Epoch 8/20\n",
      "561/561 [==============================] - 42s 75ms/sample - loss: 0.1463 - categorical_accuracy: 0.9465 - val_loss: 1.4022 - val_categorical_accuracy: 0.6522\n",
      "Epoch 9/20\n",
      "561/561 [==============================] - 43s 76ms/sample - loss: 0.1177 - categorical_accuracy: 0.9679 - val_loss: 1.5456 - val_categorical_accuracy: 0.6739\n",
      "Epoch 10/20\n",
      "561/561 [==============================] - 43s 76ms/sample - loss: 0.0594 - categorical_accuracy: 0.9857 - val_loss: 1.4724 - val_categorical_accuracy: 0.7391\n",
      "Epoch 11/20\n",
      "561/561 [==============================] - 43s 76ms/sample - loss: 0.0726 - categorical_accuracy: 0.9893 - val_loss: 1.9908 - val_categorical_accuracy: 0.6413\n",
      "Epoch 12/20\n",
      "561/561 [==============================] - 42s 75ms/sample - loss: 0.0978 - categorical_accuracy: 0.9590 - val_loss: 1.6496 - val_categorical_accuracy: 0.6630\n",
      "Epoch 13/20\n",
      "561/561 [==============================] - 42s 75ms/sample - loss: 0.0452 - categorical_accuracy: 0.9857 - val_loss: 1.5848 - val_categorical_accuracy: 0.7283\n",
      "Epoch 14/20\n",
      "561/561 [==============================] - 41s 73ms/sample - loss: 0.0730 - categorical_accuracy: 0.9715 - val_loss: 2.0274 - val_categorical_accuracy: 0.6630\n",
      "Epoch 15/20\n",
      "561/561 [==============================] - 41s 74ms/sample - loss: 0.0893 - categorical_accuracy: 0.9715 - val_loss: 1.6345 - val_categorical_accuracy: 0.6957\n",
      "Epoch 16/20\n",
      "561/561 [==============================] - 42s 74ms/sample - loss: 0.0513 - categorical_accuracy: 0.9875 - val_loss: 1.4898 - val_categorical_accuracy: 0.6848\n",
      "Epoch 17/20\n",
      "561/561 [==============================] - 42s 74ms/sample - loss: 0.0501 - categorical_accuracy: 0.9857 - val_loss: 1.4963 - val_categorical_accuracy: 0.6739\n",
      "Epoch 18/20\n",
      "561/561 [==============================] - 41s 73ms/sample - loss: 0.0145 - categorical_accuracy: 0.9964 - val_loss: 1.8750 - val_categorical_accuracy: 0.6413\n",
      "Epoch 19/20\n",
      "561/561 [==============================] - 41s 73ms/sample - loss: 0.0060 - categorical_accuracy: 1.0000 - val_loss: 1.9060 - val_categorical_accuracy: 0.6848\n",
      "Epoch 20/20\n",
      "561/561 [==============================] - 41s 73ms/sample - loss: 0.0034 - categorical_accuracy: 1.0000 - val_loss: 1.9748 - val_categorical_accuracy: 0.7174\n"
     ]
    },
    {
     "data": {
      "text/plain": [
       "<tensorflow.python.keras.callbacks.History at 0x7f1377604438>"
      ]
     },
     "execution_count": 72,
     "metadata": {},
     "output_type": "execute_result"
    }
   ],
   "source": [
    "#subset the data\n",
    "train_tweets, train_data, train_y_array, train_y_labels, dev_tweets, dev_data, dev_y_array, dev_y_labels, test_tweets, test_data, test_y_array, test_y_labels = topic_subset(['Legalization of Abortion'])\n",
    "\n",
    "#Start session\n",
    "compute_class = compute_class_weight('balanced', np.unique(train_y_labels), train_y_labels)\n",
    "weights = {0: compute_class[0], 1:compute_class[1], 2:compute_class[2]}\n",
    "\n",
    "sess = tf.Session()\n",
    "\n",
    "#create model instance\n",
    "model = bert_model_seq(max_length = max_length, \n",
    "                       train_layers = 6, \n",
    "                       optimizer = tf.keras.optimizers.Adam(learning_rate = 0.001,\n",
    "                                                            beta_1 = 0.9,\n",
    "                                                            beta_2 = 0.999),\n",
    "                       dropout_rate = 0.5)\n",
    "\n",
    "# Instantiate variables\n",
    "initialize_vars(sess)\n",
    "\n",
    "#train the model\n",
    "model.fit(\n",
    "    train_data, \n",
    "    train_y_array,\n",
    "    validation_data = [dev_data, dev_y_array],\n",
    "    epochs = 20,\n",
    "    verbose = 1,\n",
    "    batch_size = 32,\n",
    "    class_weight = weights)"
   ]
  },
  {
   "cell_type": "code",
   "execution_count": 73,
   "metadata": {},
   "outputs": [
    {
     "name": "stdout",
     "output_type": "stream",
     "text": [
      "F1 macro score (Favor and Against only) 0.640554096011464\n",
      "              precision    recall  f1-score   support\n",
      "\n",
      "     Against       0.87      0.58      0.70       189\n",
      "        None       0.40      0.82      0.54        45\n",
      "       Favor       0.52      0.67      0.58        46\n",
      "\n",
      "    accuracy                           0.64       280\n",
      "   macro avg       0.59      0.69      0.61       280\n",
      "weighted avg       0.73      0.64      0.65       280\n",
      "\n"
     ]
    },
    {
     "data": {
      "image/png": "[encoded data removed]",
      "text/plain": [
       "<Figure size 1080x360 with 2 Axes>"
      ]
     },
     "metadata": {
      "needs_background": "light"
     },
     "output_type": "display_data"
    }
   ],
   "source": [
    "#make predictions and run metrics\n",
    "test_probs = model.predict(test_data)\n",
    "metrics(test_y_labels, test_probs)"
   ]
  },
  {
   "cell_type": "code",
   "execution_count": 74,
   "metadata": {},
   "outputs": [],
   "source": [
    "#store predictions and true labels for calculating overall F score later\n",
    "abort_tweets = test_tweets\n",
    "abort_predictions =  np.argmax(test_probs, axis = 1)\n",
    "abort_labels = test_y_labels"
   ]
  },
  {
   "cell_type": "code",
   "execution_count": 75,
   "metadata": {},
   "outputs": [
    {
     "name": "stderr",
     "output_type": "stream",
     "text": [
      "/home/timspittle/anaconda3/lib/python3.7/site-packages/ipykernel_launcher.py:2: FutureWarning: The signature of `Series.to_csv` was aligned to that of `DataFrame.to_csv`, and argument 'header' will change its default value from False to True: please pass an explicit value to suppress this warning.\n",
      "  \n",
      "/home/timspittle/anaconda3/lib/python3.7/site-packages/ipykernel_launcher.py:3: FutureWarning: The signature of `Series.to_csv` was aligned to that of `DataFrame.to_csv`, and argument 'header' will change its default value from False to True: please pass an explicit value to suppress this warning.\n",
      "  This is separate from the ipykernel package so we can avoid doing imports until\n",
      "/home/timspittle/anaconda3/lib/python3.7/site-packages/ipykernel_launcher.py:4: FutureWarning: The signature of `Series.to_csv` was aligned to that of `DataFrame.to_csv`, and argument 'header' will change its default value from False to True: please pass an explicit value to suppress this warning.\n",
      "  after removing the cwd from sys.path.\n"
     ]
    }
   ],
   "source": [
    "##write predictions to csv files\n",
    "pd.Series(abort_tweets).to_csv('./final_outputs/abort_tweets_v3.csv')\n",
    "pd.Series(abort_predictions).to_csv('./final_outputs/abort_preds_v3.csv')\n",
    "pd.Series(abort_labels).to_csv('./final_outputs/abort_true_v3.csv')"
   ]
  },
  {
   "cell_type": "markdown",
   "metadata": {},
   "source": [
    "## Climate Change"
   ]
  },
  {
   "cell_type": "code",
   "execution_count": 22,
   "metadata": {
    "scrolled": true
   },
   "outputs": [
    {
     "name": "stdout",
     "output_type": "stream",
     "text": [
      "Model: \"model_1\"\n",
      "__________________________________________________________________________________________________\n",
      "Layer (type)                    Output Shape         Param #     Connected to                     \n",
      "==================================================================================================\n",
      "input_ids (InputLayer)          [(None, 83)]         0                                            \n",
      "__________________________________________________________________________________________________\n",
      "input_masks (InputLayer)        [(None, 83)]         0                                            \n",
      "__________________________________________________________________________________________________\n",
      "segment_ids (InputLayer)        [(None, 83)]         0                                            \n",
      "__________________________________________________________________________________________________\n",
      "bert_layer__seq_1 (BertLayer_Se (None, None, 768)    108931396   input_ids[0][0]                  \n",
      "                                                                 input_masks[0][0]                \n",
      "                                                                 segment_ids[0][0]                \n",
      "__________________________________________________________________________________________________\n",
      "dropout_2 (Dropout)             (None, None, 768)    0           bert_layer__seq_1[0][0]          \n",
      "__________________________________________________________________________________________________\n",
      "lstm1 (LSTM)                    (None, 128)          459264      dropout_2[0][0]                  \n",
      "__________________________________________________________________________________________________\n",
      "dense1 (Dense)                  (None, 64)           8256        lstm1[0][0]                      \n",
      "__________________________________________________________________________________________________\n",
      "dropout_3 (Dropout)             (None, 64)           0           dense1[0][0]                     \n",
      "__________________________________________________________________________________________________\n",
      "classification (Dense)          (None, 3)            195         dropout_3[0][0]                  \n",
      "==================================================================================================\n",
      "Total params: 109,399,111\n",
      "Trainable params: 5,191,683\n",
      "Non-trainable params: 104,207,428\n",
      "__________________________________________________________________________________________________\n",
      "Train on 339 samples, validate on 56 samples\n",
      "Epoch 1/7\n",
      "339/339 [==============================] - 69s 203ms/sample - loss: 1.1811 - categorical_accuracy: 0.3923 - val_loss: 0.8941 - val_categorical_accuracy: 0.5357\n",
      "Epoch 2/7\n",
      "339/339 [==============================] - 67s 197ms/sample - loss: 1.0813 - categorical_accuracy: 0.4543 - val_loss: 1.3377 - val_categorical_accuracy: 0.0357\n",
      "Epoch 3/7\n",
      "339/339 [==============================] - 67s 197ms/sample - loss: 1.0197 - categorical_accuracy: 0.3805 - val_loss: 1.0019 - val_categorical_accuracy: 0.5000\n",
      "Epoch 4/7\n",
      "339/339 [==============================] - 67s 198ms/sample - loss: 0.7069 - categorical_accuracy: 0.6136 - val_loss: 0.9887 - val_categorical_accuracy: 0.6071\n",
      "Epoch 5/7\n",
      "339/339 [==============================] - 68s 200ms/sample - loss: 0.5620 - categorical_accuracy: 0.7139 - val_loss: 1.0206 - val_categorical_accuracy: 0.5179\n",
      "Epoch 6/7\n",
      "339/339 [==============================] - 68s 201ms/sample - loss: 0.3655 - categorical_accuracy: 0.8260 - val_loss: 0.7038 - val_categorical_accuracy: 0.6786\n",
      "Epoch 7/7\n",
      "339/339 [==============================] - 68s 201ms/sample - loss: 0.2659 - categorical_accuracy: 0.8732 - val_loss: 1.0086 - val_categorical_accuracy: 0.5893\n"
     ]
    },
    {
     "data": {
      "text/plain": [
       "<tensorflow.python.keras.callbacks.History at 0x1a9576a780>"
      ]
     },
     "execution_count": 22,
     "metadata": {},
     "output_type": "execute_result"
    }
   ],
   "source": [
    "# subset the data\n",
    "train_tweets, train_data, train_y_array, train_y_labels, dev_tweets, dev_data, dev_y_array, dev_y_labels, test_tweets, test_data, test_y_array, test_y_labels = topic_subset(['Climate Change is a Real Concern'])\n",
    "\n",
    "#Start session\n",
    "compute_class = compute_class_weight('balanced', np.unique(train_y_labels), train_y_labels)\n",
    "weights = {0: compute_class[0], 1:compute_class[1], 2:compute_class[2]}\n",
    "\n",
    "sess = tf.Session()\n",
    "\n",
    "#create model instance\n",
    "model = bert_model_seq(max_length = max_length, \n",
    "                       train_layers = 6, \n",
    "                       optimizer = tf.keras.optimizers.Adam(learning_rate = 0.001,\n",
    "                                                            beta_1 = 0.9,\n",
    "                                                            beta_2 = 0.999),\n",
    "                       dropout_rate = 0.5)\n",
    "\n",
    "# Instantiate variables\n",
    "initialize_vars(sess)\n",
    "\n",
    "#train model\n",
    "model.fit(\n",
    "    train_data, \n",
    "    train_y_array,\n",
    "    validation_data = [dev_data, dev_y_array],\n",
    "    epochs = 7,\n",
    "    verbose = 1,\n",
    "    batch_size = 32,\n",
    "    class_weight = weights)"
   ]
  },
  {
   "cell_type": "code",
   "execution_count": 23,
   "metadata": {},
   "outputs": [
    {
     "name": "stdout",
     "output_type": "stream",
     "text": [
      "F1 macro score (Favor and Against only) 0.4847222222222223\n",
      "              precision    recall  f1-score   support\n",
      "\n",
      "     Against       0.20      0.09      0.13        11\n",
      "        None       0.53      0.26      0.35        35\n",
      "       Favor       0.78      0.93      0.84       123\n",
      "\n",
      "   micro avg       0.73      0.73      0.73       169\n",
      "   macro avg       0.50      0.42      0.44       169\n",
      "weighted avg       0.69      0.73      0.69       169\n",
      "\n"
     ]
    },
    {
     "data": {
      "image/png": "[encoded data removed]",
      "text/plain": [
       "<Figure size 1080x360 with 2 Axes>"
      ]
     },
     "metadata": {
      "needs_background": "light"
     },
     "output_type": "display_data"
    }
   ],
   "source": [
    "#make predictions and run metrics\n",
    "test_probs = model.predict(test_data)\n",
    "metrics(test_y_labels, test_probs)"
   ]
  },
  {
   "cell_type": "code",
   "execution_count": 24,
   "metadata": {},
   "outputs": [],
   "source": [
    "#store predictions and true labels for calculating overall F score later\n",
    "clim_tweets = test_tweets\n",
    "clim_predictions =  np.argmax(test_probs, axis = 1)\n",
    "clim_labels = test_y_labels"
   ]
  },
  {
   "cell_type": "code",
   "execution_count": 38,
   "metadata": {},
   "outputs": [
    {
     "name": "stderr",
     "output_type": "stream",
     "text": [
      "/Users/alexdessouky/anaconda3/lib/python3.6/site-packages/ipykernel_launcher.py:2: FutureWarning: The signature of `Series.to_csv` was aligned to that of `DataFrame.to_csv`, and argument 'header' will change its default value from False to True: please pass an explicit value to suppress this warning.\n",
      "  \n",
      "/Users/alexdessouky/anaconda3/lib/python3.6/site-packages/ipykernel_launcher.py:3: FutureWarning: The signature of `Series.to_csv` was aligned to that of `DataFrame.to_csv`, and argument 'header' will change its default value from False to True: please pass an explicit value to suppress this warning.\n",
      "  This is separate from the ipykernel package so we can avoid doing imports until\n",
      "/Users/alexdessouky/anaconda3/lib/python3.6/site-packages/ipykernel_launcher.py:4: FutureWarning: The signature of `Series.to_csv` was aligned to that of `DataFrame.to_csv`, and argument 'header' will change its default value from False to True: please pass an explicit value to suppress this warning.\n",
      "  after removing the cwd from sys.path.\n"
     ]
    }
   ],
   "source": [
    "##write predictions to csv files\n",
    "pd.Series(clim_tweets).to_csv('./final_outputs/clim_tweets_v3.csv')\n",
    "pd.Series(np.reshape(clim_predictions,(clim_predictions.shape[0],))).to_csv('./final_outputs/clim_preds_v3.csv')\n",
    "pd.Series(np.reshape(clim_labels,(clim_labels.shape[0],))).to_csv('./final_outputs/clim_true_v3.csv')"
   ]
  },
  {
   "cell_type": "markdown",
   "metadata": {},
   "source": [
    "## Feminism"
   ]
  },
  {
   "cell_type": "code",
   "execution_count": 80,
   "metadata": {
    "scrolled": true
   },
   "outputs": [
    {
     "name": "stdout",
     "output_type": "stream",
     "text": [
      "INFO:tensorflow:Saver not created because there are no variables in the graph to restore\n"
     ]
    },
    {
     "name": "stderr",
     "output_type": "stream",
     "text": [
      "INFO:tensorflow:Saver not created because there are no variables in the graph to restore\n"
     ]
    },
    {
     "name": "stdout",
     "output_type": "stream",
     "text": [
      "Model: \"model_6\"\n",
      "__________________________________________________________________________________________________\n",
      "Layer (type)                    Output Shape         Param #     Connected to                     \n",
      "==================================================================================================\n",
      "input_ids (InputLayer)          [(None, 83)]         0                                            \n",
      "__________________________________________________________________________________________________\n",
      "input_masks (InputLayer)        [(None, 83)]         0                                            \n",
      "__________________________________________________________________________________________________\n",
      "segment_ids (InputLayer)        [(None, 83)]         0                                            \n",
      "__________________________________________________________________________________________________\n",
      "bert_layer__seq_7 (BertLayer_Se (None, None, 768)    108931396   input_ids[0][0]                  \n",
      "                                                                 input_masks[0][0]                \n",
      "                                                                 segment_ids[0][0]                \n",
      "__________________________________________________________________________________________________\n",
      "dropout_12 (Dropout)            (None, None, 768)    0           bert_layer__seq_7[0][0]          \n",
      "__________________________________________________________________________________________________\n",
      "lstm1 (LSTM)                    (None, 128)          459264      dropout_12[0][0]                 \n",
      "__________________________________________________________________________________________________\n",
      "dense1 (Dense)                  (None, 64)           8256        lstm1[0][0]                      \n",
      "__________________________________________________________________________________________________\n",
      "dropout_13 (Dropout)            (None, 64)           0           dense1[0][0]                     \n",
      "__________________________________________________________________________________________________\n",
      "classification (Dense)          (None, 3)            195         dropout_13[0][0]                 \n",
      "==================================================================================================\n",
      "Total params: 109,399,111\n",
      "Trainable params: 5,191,683\n",
      "Non-trainable params: 104,207,428\n",
      "__________________________________________________________________________________________________\n",
      "Train on 561 samples, validate on 103 samples\n",
      "Epoch 1/20\n",
      "561/561 [==============================] - 54s 95ms/sample - loss: 1.1508 - categorical_accuracy: 0.3476 - val_loss: 1.1192 - val_categorical_accuracy: 0.2816\n",
      "Epoch 2/20\n",
      "561/561 [==============================] - 43s 77ms/sample - loss: 0.9535 - categorical_accuracy: 0.4973 - val_loss: 0.9789 - val_categorical_accuracy: 0.4757\n",
      "Epoch 3/20\n",
      "561/561 [==============================] - 42s 75ms/sample - loss: 0.8219 - categorical_accuracy: 0.5954 - val_loss: 0.9258 - val_categorical_accuracy: 0.5049\n",
      "Epoch 4/20\n",
      "561/561 [==============================] - 42s 75ms/sample - loss: 0.6513 - categorical_accuracy: 0.6738 - val_loss: 0.9605 - val_categorical_accuracy: 0.5922\n",
      "Epoch 5/20\n",
      "561/561 [==============================] - 42s 74ms/sample - loss: 0.4202 - categorical_accuracy: 0.8485 - val_loss: 1.2085 - val_categorical_accuracy: 0.5728\n",
      "Epoch 6/20\n",
      "561/561 [==============================] - 42s 74ms/sample - loss: 0.3237 - categorical_accuracy: 0.8556 - val_loss: 1.1423 - val_categorical_accuracy: 0.5631\n",
      "Epoch 7/20\n",
      "561/561 [==============================] - 42s 74ms/sample - loss: 0.2415 - categorical_accuracy: 0.9055 - val_loss: 1.5063 - val_categorical_accuracy: 0.5049\n",
      "Epoch 8/20\n",
      "561/561 [==============================] - 42s 75ms/sample - loss: 0.1485 - categorical_accuracy: 0.9447 - val_loss: 1.6611 - val_categorical_accuracy: 0.5243\n",
      "Epoch 9/20\n",
      "561/561 [==============================] - 42s 75ms/sample - loss: 0.0929 - categorical_accuracy: 0.9768 - val_loss: 1.5887 - val_categorical_accuracy: 0.5437\n",
      "Epoch 10/20\n",
      "561/561 [==============================] - 43s 76ms/sample - loss: 0.1637 - categorical_accuracy: 0.9376 - val_loss: 1.5948 - val_categorical_accuracy: 0.5437\n",
      "Epoch 11/20\n",
      "561/561 [==============================] - 42s 75ms/sample - loss: 0.0896 - categorical_accuracy: 0.9733 - val_loss: 1.9500 - val_categorical_accuracy: 0.5243\n",
      "Epoch 12/20\n",
      "561/561 [==============================] - 42s 74ms/sample - loss: 0.0617 - categorical_accuracy: 0.9804 - val_loss: 2.1018 - val_categorical_accuracy: 0.5340\n",
      "Epoch 13/20\n",
      "561/561 [==============================] - 41s 74ms/sample - loss: 0.1992 - categorical_accuracy: 0.9412 - val_loss: 1.6853 - val_categorical_accuracy: 0.5825\n",
      "Epoch 14/20\n",
      "561/561 [==============================] - 41s 74ms/sample - loss: 0.1268 - categorical_accuracy: 0.9572 - val_loss: 1.9037 - val_categorical_accuracy: 0.5631\n",
      "Epoch 15/20\n",
      "561/561 [==============================] - 42s 74ms/sample - loss: 0.0404 - categorical_accuracy: 0.9929 - val_loss: 2.2543 - val_categorical_accuracy: 0.5922\n",
      "Epoch 16/20\n",
      "561/561 [==============================] - 41s 74ms/sample - loss: 0.0230 - categorical_accuracy: 0.9947 - val_loss: 2.3770 - val_categorical_accuracy: 0.5825\n",
      "Epoch 17/20\n",
      "561/561 [==============================] - 42s 75ms/sample - loss: 0.0080 - categorical_accuracy: 1.0000 - val_loss: 2.2710 - val_categorical_accuracy: 0.6214\n",
      "Epoch 18/20\n",
      "561/561 [==============================] - 42s 74ms/sample - loss: 0.0048 - categorical_accuracy: 1.0000 - val_loss: 2.9145 - val_categorical_accuracy: 0.5922\n",
      "Epoch 19/20\n",
      "561/561 [==============================] - 41s 73ms/sample - loss: 0.0063 - categorical_accuracy: 0.9982 - val_loss: 2.4857 - val_categorical_accuracy: 0.5728\n",
      "Epoch 20/20\n",
      "561/561 [==============================] - 41s 74ms/sample - loss: 0.0027 - categorical_accuracy: 1.0000 - val_loss: 3.0362 - val_categorical_accuracy: 0.6019\n"
     ]
    },
    {
     "data": {
      "text/plain": [
       "<tensorflow.python.keras.callbacks.History at 0x7f132d111a90>"
      ]
     },
     "execution_count": 80,
     "metadata": {},
     "output_type": "execute_result"
    }
   ],
   "source": [
    "# subset the data\n",
    "train_tweets, train_data, train_y_array, train_y_labels, dev_tweets, dev_data, dev_y_array, dev_y_labels, test_tweets, test_data, test_y_array, test_y_labels = topic_subset(['Feminist Movement'])\n",
    "\n",
    "#Start session\n",
    "compute_class = compute_class_weight('balanced', np.unique(train_y_labels), train_y_labels)\n",
    "weights = {0: compute_class[0], 1:compute_class[1], 2:compute_class[2]}\n",
    "\n",
    "sess = tf.Session()\n",
    "\n",
    "#create model instance\n",
    "model = bert_model_seq(max_length = max_length, \n",
    "                       train_layers = 6, \n",
    "                       optimizer = tf.keras.optimizers.Adam(learning_rate = 0.001,\n",
    "                                                            beta_1 = 0.9,\n",
    "                                                            beta_2 = 0.999),\n",
    "                       dropout_rate = 0.5)\n",
    "\n",
    "# Instantiate variables\n",
    "initialize_vars(sess)\n",
    "\n",
    "#train model\n",
    "model.fit(\n",
    "    train_data, \n",
    "    train_y_array,\n",
    "    validation_data = [dev_data, dev_y_array],\n",
    "    epochs = 20,\n",
    "    verbose = 1,\n",
    "    batch_size = 32,\n",
    "    class_weight = weights)"
   ]
  },
  {
   "cell_type": "code",
   "execution_count": 81,
   "metadata": {},
   "outputs": [
    {
     "name": "stdout",
     "output_type": "stream",
     "text": [
      "F1 macro score (Favor and Against only) 0.5775720618127494\n",
      "              precision    recall  f1-score   support\n",
      "\n",
      "     Against       0.77      0.69      0.73       183\n",
      "        None       0.47      0.64      0.54        44\n",
      "       Favor       0.42      0.43      0.43        58\n",
      "\n",
      "    accuracy                           0.63       285\n",
      "   macro avg       0.55      0.59      0.56       285\n",
      "weighted avg       0.65      0.63      0.64       285\n",
      "\n"
     ]
    },
    {
     "data": {
      "image/png": "[encoded data removed]",
      "text/plain": [
       "<Figure size 1080x360 with 2 Axes>"
      ]
     },
     "metadata": {
      "needs_background": "light"
     },
     "output_type": "display_data"
    }
   ],
   "source": [
    "#make predictions and run metrics\n",
    "test_probs = model.predict(test_data)\n",
    "metrics(test_y_labels, test_probs)"
   ]
  },
  {
   "cell_type": "code",
   "execution_count": 83,
   "metadata": {},
   "outputs": [],
   "source": [
    "#store predictions and true labels for calculating overall F score later\n",
    "fem_tweets = test_tweets\n",
    "fem_predictions =  np.argmax(test_probs, axis = 1)\n",
    "fem_labels = test_y_labels"
   ]
  },
  {
   "cell_type": "code",
   "execution_count": 84,
   "metadata": {},
   "outputs": [
    {
     "name": "stderr",
     "output_type": "stream",
     "text": [
      "/home/timspittle/anaconda3/lib/python3.7/site-packages/ipykernel_launcher.py:2: FutureWarning: The signature of `Series.to_csv` was aligned to that of `DataFrame.to_csv`, and argument 'header' will change its default value from False to True: please pass an explicit value to suppress this warning.\n",
      "  \n",
      "/home/timspittle/anaconda3/lib/python3.7/site-packages/ipykernel_launcher.py:3: FutureWarning: The signature of `Series.to_csv` was aligned to that of `DataFrame.to_csv`, and argument 'header' will change its default value from False to True: please pass an explicit value to suppress this warning.\n",
      "  This is separate from the ipykernel package so we can avoid doing imports until\n",
      "/home/timspittle/anaconda3/lib/python3.7/site-packages/ipykernel_launcher.py:4: FutureWarning: The signature of `Series.to_csv` was aligned to that of `DataFrame.to_csv`, and argument 'header' will change its default value from False to True: please pass an explicit value to suppress this warning.\n",
      "  after removing the cwd from sys.path.\n"
     ]
    }
   ],
   "source": [
    "##write predictions to csv files\n",
    "pd.Series(fem_tweets).to_csv('./final_outputs/fem_tweets_v3.csv')\n",
    "pd.Series(fem_predictions).to_csv('./final_outputs/fem_preds_v3.csv')\n",
    "pd.Series(fem_labels).to_csv('./final_outputs/fem_true_v3.csv')"
   ]
  },
  {
   "cell_type": "markdown",
   "metadata": {},
   "source": [
    "## Overall Performance"
   ]
  },
  {
   "cell_type": "code",
   "execution_count": 39,
   "metadata": {},
   "outputs": [
    {
     "name": "stdout",
     "output_type": "stream",
     "text": [
      "F1 macro score (Favor and Against only) 0.6971588740348311\n",
      "              precision    recall  f1-score   support\n",
      "\n",
      "     Against       0.82      0.68      0.74       715\n",
      "        None       0.50      0.65      0.57       230\n",
      "       Favor       0.60      0.72      0.65       304\n",
      "\n",
      "   micro avg       0.68      0.68      0.68      1249\n",
      "   macro avg       0.64      0.68      0.65      1249\n",
      "weighted avg       0.71      0.68      0.69      1249\n",
      "\n"
     ]
    },
    {
     "data": {
      "image/png": "[encoded data removed]",
      "text/plain": [
       "<Figure size 1080x360 with 2 Axes>"
      ]
     },
     "metadata": {
      "needs_background": "light"
     },
     "output_type": "display_data"
    }
   ],
   "source": [
    "#read in predictions\n",
    "ath_predictions = pd.read_csv('final_outputs/atheism_preds_v3.csv',header = None, index_col = 0).values\n",
    "hil_predictions = pd.read_csv('final_outputs/hil_preds_v3.csv', header = None, index_col = 0).values\n",
    "abort_predictions = pd.read_csv('final_outputs/abort_preds_v3.csv',header = None, index_col = 0).values\n",
    "clim_predictions = pd.read_csv('final_outputs/clim_preds_v3.csv', header = None, index_col = 0).values\n",
    "fem_predictions = pd.read_csv('final_outputs/fem_preds_v3.csv', header = None, index_col = 0).values\n",
    "\n",
    "#read in true labels\n",
    "ath_labels = pd.read_csv('final_outputs/atheism_true_v3.csv',header = None, index_col = 0).values\n",
    "hil_labels = pd.read_csv('final_outputs/hil_true_v3.csv', header = None, index_col = 0).values\n",
    "abort_labels = pd.read_csv('final_outputs/abort_true_v3.csv',header = None, index_col = 0).values\n",
    "clim_labels = pd.read_csv('final_outputs/clim_true_v3.csv', header = None, index_col = 0).values\n",
    "fem_labels = pd.read_csv('final_outputs/fem_true_v3.csv', header = None, index_col = 0).values\n",
    "\n",
    "#stack and reshape\n",
    "all_preds = np.vstack((ath_predictions, hil_predictions, abort_predictions, clim_predictions, fem_predictions))\n",
    "all_preds = np.reshape(all_preds, (all_preds.shape[0],))\n",
    "\n",
    "all_labels = np.vstack((ath_labels, hil_labels, abort_labels, clim_labels, fem_labels))\n",
    "all_labels = np.reshape(all_labels, (all_labels.shape[0],))\n",
    "\n",
    "#metrics\n",
    "#calculate f1 score and print classification report\n",
    "class_report = classification_report(y_true = all_labels, \n",
    "                                        y_pred = all_preds,\n",
    "                                        target_names = ['Against', 'None', 'Favor'], output_dict=True)\n",
    "    \n",
    "print(\"F1 macro score (Favor and Against only)\", str((class_report['Favor']['f1-score'] + \n",
    "         class_report['Against']['f1-score']) / 2))\n",
    "    \n",
    "print(classification_report(y_true = all_labels, \n",
    "                                        y_pred = all_preds,\n",
    "                                        target_names = ['Against', 'None', 'Favor']))\n",
    "    \n",
    "confuse = confusion_matrix(y_true = all_labels, y_pred = all_preds)\n",
    "    \n",
    "plt.figure(figsize=(15, 5))\n",
    "confusion_plot(confuse, ['Against', 'None', 'Favor'])\n",
    "plt.show()"
   ]
  },
  {
   "cell_type": "code",
   "execution_count": null,
   "metadata": {},
   "outputs": [],
   "source": []
  }
 ],
 "metadata": {
  "kernelspec": {
   "display_name": "Python 3",
   "language": "python",
   "name": "python3"
  },
  "language_info": {
   "codemirror_mode": {
    "name": "ipython",
    "version": 3
   },
   "file_extension": ".py",
   "mimetype": "text/x-python",
   "name": "python",
   "nbconvert_exporter": "python",
   "pygments_lexer": "ipython3",
   "version": "3.6.8"
  }
 },
 "nbformat": 4,
 "nbformat_minor": 2
}
