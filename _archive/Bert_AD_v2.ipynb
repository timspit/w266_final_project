{
 "cells": [
  {
   "cell_type": "markdown",
   "metadata": {},
   "source": [
    "## Setup"
   ]
  },
  {
   "cell_type": "code",
   "execution_count": 1,
   "metadata": {},
   "outputs": [],
   "source": [
    "#imports\n",
    "import pandas as pd\n",
    "import numpy as np\n",
    "from sklearn.metrics import f1_score\n",
    "import time\n",
    "import re\n",
    "import tensorflow as tf\n",
    "import tensorflow_hub as hub\n",
    "import os\n",
    "from sklearn.metrics import confusion_matrix, classification_report\n",
    "import matplotlib.pyplot as plt\n",
    "import string\n",
    "import sys\n",
    "from datetime import datetime\n",
    "from sklearn.utils.class_weight import compute_class_weight\n",
    "from sklearn.model_selection import train_test_split\n",
    "\n",
    "\n",
    "from tensorflow.keras import backend as K\n",
    "from tensorflow.keras import layers\n",
    "from tensorflow.python.keras.layers import Lambda\n",
    "from tensorflow.keras.callbacks import TensorBoard\n",
    "from tensorflow.keras.backend import sparse_categorical_crossentropy\n",
    "from tensorflow.keras.layers import Dense, TimeDistributed\n",
    "from datetime import datetime\n",
    "\n",
    "%matplotlib inline\n",
    "\n",
    "#set working directory\n",
    "# os.chdir(\"/Users/alexdessouky/Desktop/MIDS/w266\")\n",
    "\n",
    "#load training data\n",
    "twitter_train = pd.read_excel('./StanceDataset/train.xlsx')\n",
    "train_x = twitter_train['Tweet']\n",
    "train_y = twitter_train['Stance']\n",
    "\n",
    "\n",
    "#load test data\n",
    "twitter_test = pd.read_excel('./StanceDataset/test.xlsx')\n",
    "test_x = twitter_test['Tweet']\n",
    "test_y = twitter_test[['Stance','Target']]\n",
    "\n",
    "#carve out 15% of test data to use as dev data\n",
    "test_x, dev_x, test_y, dev_y = train_test_split(test_x, test_y, test_size=0.15, random_state=42)\n",
    "\n",
    "#need to save the target arrays for test & dev separately; then can drop them from our y arrays\n",
    "target_test = test_y['Target']\n",
    "target_dev = dev_y['Target']\n",
    "\n",
    "test_y = test_y['Stance']\n",
    "dev_y = dev_y['Stance']"
   ]
  },
  {
   "cell_type": "code",
   "execution_count": 2,
   "metadata": {},
   "outputs": [],
   "source": [
    "#store the paths to bert & data\n",
    "# bert_path =   '/Users/alexdessouky/Desktop/MIDS/w266/bert' \n",
    "bert_path = r'/home/timspittle/w266_final_project/bert/' \n",
    "#data_path = '/Users/alexdessouky/Desktop/MIDS/w266/w266_final_project/StanceDataset'  \n",
    "\n",
    "now = datetime.now() # current date and time\n",
    "\n",
    "# make sure that the paths are accessible within the notebook\n",
    "sys.path.insert(0,bert_path)\n",
    "# sys.path.insert(0,data_path)"
   ]
  },
  {
   "cell_type": "code",
   "execution_count": 3,
   "metadata": {},
   "outputs": [
    {
     "name": "stdout",
     "output_type": "stream",
     "text": [
      "WARNING:tensorflow:From /home/timspittle/w266_final_project/bert/optimization.py:87: The name tf.train.Optimizer is deprecated. Please use tf.compat.v1.train.Optimizer instead.\n",
      "\n"
     ]
    }
   ],
   "source": [
    "import optimization\n",
    "import run_classifier\n",
    "import tokenization\n",
    "import run_classifier_with_tfhub\n",
    "\n",
    "# Tensorflow hub path to BERT module of choice\n",
    "bert_url = \"https://tfhub.dev/google/bert_cased_L-12_H-768_A-12/1\"\n",
    "\n",
    "# Define maximal length of input 'sentences' (post tokenization).\n",
    "max_length = 83 ## max length with no preprocessing"
   ]
  },
  {
   "cell_type": "markdown",
   "metadata": {},
   "source": [
    "## Bert tokenizer"
   ]
  },
  {
   "cell_type": "code",
   "execution_count": 4,
   "metadata": {},
   "outputs": [
    {
     "name": "stdout",
     "output_type": "stream",
     "text": [
      "INFO:tensorflow:Saver not created because there are no variables in the graph to restore\n"
     ]
    },
    {
     "name": "stderr",
     "output_type": "stream",
     "text": [
      "INFO:tensorflow:Saver not created because there are no variables in the graph to restore\n"
     ]
    },
    {
     "name": "stdout",
     "output_type": "stream",
     "text": [
      "WARNING:tensorflow:From /home/timspittle/w266_final_project/bert/tokenization.py:125: The name tf.gfile.GFile is deprecated. Please use tf.io.gfile.GFile instead.\n",
      "\n"
     ]
    },
    {
     "name": "stderr",
     "output_type": "stream",
     "text": [
      "WARNING:tensorflow:From /home/timspittle/w266_final_project/bert/tokenization.py:125: The name tf.gfile.GFile is deprecated. Please use tf.io.gfile.GFile instead.\n",
      "\n"
     ]
    }
   ],
   "source": [
    "def create_tokenizer_from_hub_module():\n",
    "    \"\"\"Get the vocab file and casing info from the Hub module.\"\"\"\n",
    "    with tf.Graph().as_default():\n",
    "        bert_module = hub.Module(bert_url)\n",
    "        tokenization_info = bert_module(signature=\"tokenization_info\", as_dict=True)\n",
    "        with tf.Session() as sess:\n",
    "            vocab_file, do_lower_case = sess.run([tokenization_info[\"vocab_file\"],\n",
    "                                            tokenization_info[\"do_lower_case\"]])\n",
    "      \n",
    "    return tokenization.FullTokenizer(\n",
    "      vocab_file=vocab_file, do_lower_case=do_lower_case)\n",
    "\n",
    "tokenizer = create_tokenizer_from_hub_module()"
   ]
  },
  {
   "cell_type": "markdown",
   "metadata": {},
   "source": [
    "## If we want to \"Clean\" the tweets; uncomment out this cell (performs better without)"
   ]
  },
  {
   "cell_type": "code",
   "execution_count": 5,
   "metadata": {},
   "outputs": [],
   "source": [
    "#def preprocess_tweets(x):\n",
    "    \n",
    "    # Remove punctuation EXCEPT for hashtags (#) and handles (@)\n",
    "#    exclude_punc = [punc for punc in string.punctuation if punc not in ['#', '@']]\n",
    "#    x_nopunc = ''.join(ch for ch in x if ch not in exclude_punc)\n",
    "\n",
    "    # lower case\n",
    "#    x_lower = x_nopunc.lower()\n",
    "    \n",
    "    # Replace digits with DIGIT\n",
    "#    x_digits = re.sub(\"\\d+\", \"DIGIT\", x_lower)\n",
    "    \n",
    "#    return x_digits\n",
    "\n",
    "#train_x = twitter_train['Tweet'].apply(lambda x: preprocess_tweets(x))\n",
    "#test_x = twitter_test['Tweet'].apply(lambda x: preprocess_tweets(x))\n",
    "\n",
    "#max_length = 95 #redefine max length - this is what it is when we clean the tweets"
   ]
  },
  {
   "cell_type": "markdown",
   "metadata": {},
   "source": [
    "## Pre-Process Data"
   ]
  },
  {
   "cell_type": "code",
   "execution_count": 6,
   "metadata": {},
   "outputs": [],
   "source": [
    "#create tokens surrounded by the [CLS] and [SEP] tokens\n",
    "train_tokens = train_x.apply(lambda x: ['[CLS]'] + tokenizer.tokenize(x) + ['[SEP]'])\n",
    "test_tokens = test_x.apply(lambda x: ['[CLS]'] + tokenizer.tokenize(x) + ['[SEP]'])\n",
    "dev_tokens = dev_x.apply(lambda x: ['[CLS]'] + tokenizer.tokenize(x) + ['[SEP]'])\n",
    "\n",
    "#mask ids (mask out the paddings)\n",
    "train_mask_ids = train_tokens.apply(lambda x: len(x)*[1])\n",
    "test_mask_ids = test_tokens.apply(lambda x: len(x)*[1])\n",
    "dev_mask_ids = dev_tokens.apply(lambda x: len(x)*[1])\n",
    "\n",
    "train_mask_ids = train_mask_ids.apply(lambda x: np.array(x + (max_length - len(x)) * [0]) if len(x) < max_length else \n",
    "                                      np.array(x)).tolist()\n",
    "test_mask_ids = test_mask_ids.apply(lambda x: np.array(x + (max_length - len(x)) * [0]) if len(x) < max_length else \n",
    "                                    np.array(x)).tolist()\n",
    "dev_mask_ids = dev_mask_ids.apply(lambda x: np.array(x + (max_length - len(x)) * [0]) if len(x) < max_length else \n",
    "                                    np.array(x)).tolist()\n",
    "\n",
    "#add padding to tokens\n",
    "train_tokens = train_tokens.apply(lambda x: x + (max_length - len(x)) * ['[PAD]'] if len(x) < max_length else x)\n",
    "test_tokens = test_tokens.apply(lambda x: x + (max_length - len(x)) * ['[PAD]'] if len(x) < max_length else x)\n",
    "dev_tokens = dev_tokens.apply(lambda x: x + (max_length - len(x)) * ['[PAD]'] if len(x) < max_length else x)\n",
    "\n",
    "#test/train sequence vectors\n",
    "train_sequenceids = train_tokens.apply(lambda x: np.array(max_length*[0])).tolist()\n",
    "test_sequenceids = test_tokens.apply(lambda x: np.array(max_length*[0])).tolist()\n",
    "dev_sequenceids = dev_tokens.apply(lambda x: np.array(max_length*[0])).tolist()\n",
    "\n",
    "#convert tokens to sentence ids\n",
    "train_sentenceids = train_tokens.apply(lambda x: np.array(tokenizer.convert_tokens_to_ids(x))).tolist()\n",
    "test_sentenceids = test_tokens.apply(lambda x: np.array(tokenizer.convert_tokens_to_ids(x))).tolist()\n",
    "dev_sentenceids = dev_tokens.apply(lambda x: np.array(tokenizer.convert_tokens_to_ids(x))).tolist()\n",
    "\n",
    "#bert features\n",
    "bert_train = [np.array(train_sentenceids),np.array(train_mask_ids),np.array(train_sequenceids)]\n",
    "bert_test = [np.array(test_sentenceids),np.array(test_mask_ids),np.array(test_sequenceids)]\n",
    "bert_dev = [np.array(dev_sentenceids),np.array(dev_mask_ids),np.array(dev_sequenceids)]\n",
    "\n",
    "#labels\n",
    "stance_labels_train = np.array(twitter_train['Stance'].apply(lambda x: \n",
    "                                                                    2 if x == \"FAVOR\" else \n",
    "                                                                    (1 if x == \"NONE\" else 0)))\n",
    "\n",
    "stance_labels_test = np.array(pd.Series(test_y).apply(lambda x: \n",
    "                                                                2 if x == \"FAVOR\" else \n",
    "                                                                (1 if x == \"NONE\" else 0)))\n",
    "\n",
    "stance_labels_dev = np.array(pd.Series(dev_y).apply(lambda x: \n",
    "                                                                2 if x == \"FAVOR\" else \n",
    "                                                                (1 if x == \"NONE\" else 0)))\n",
    "      \n",
    "\n",
    "#PREP LABELS FOR NN\n",
    "train_y = np.zeros(shape = (stance_labels_train.shape[0],3))\n",
    "train_y[stance_labels_train == 0,0] = 1\n",
    "train_y[stance_labels_train == 1,1] = 1\n",
    "train_y[stance_labels_train == 2,2] = 1\n",
    "\n",
    "test_y = np.zeros(shape = (stance_labels_test.shape[0],3))\n",
    "test_y[stance_labels_test == 0,0] = 1\n",
    "test_y[stance_labels_test == 1,1] = 1\n",
    "test_y[stance_labels_test == 2,2] = 1\n",
    "\n",
    "dev_y = np.zeros(shape = (stance_labels_dev.shape[0],3))\n",
    "dev_y[stance_labels_dev == 0,0] = 1\n",
    "dev_y[stance_labels_dev == 1,1] = 1\n",
    "dev_y[stance_labels_dev == 2,2] = 1"
   ]
  },
  {
   "cell_type": "markdown",
   "metadata": {},
   "source": [
    "## Check data shapes"
   ]
  },
  {
   "cell_type": "code",
   "execution_count": 7,
   "metadata": {},
   "outputs": [
    {
     "name": "stdout",
     "output_type": "stream",
     "text": [
      "(2914, 83)(2914, 83)(2914, 83)\n",
      "(2914, 3)\n",
      "(1662, 83)(1662, 83)(1662, 83)\n",
      "(1662, 3)\n",
      "(294, 83)(294, 83)(294, 83)\n",
      "(294, 3)\n"
     ]
    }
   ],
   "source": [
    "print(str(bert_train[0].shape) + str(bert_train[1].shape) + str(bert_train[2].shape))\n",
    "print(train_y.shape)\n",
    "\n",
    "print(str(bert_test[0].shape) + str(bert_test[1].shape) + str(bert_test[2].shape))\n",
    "print(test_y.shape)\n",
    "\n",
    "print(str(bert_dev[0].shape) + str(bert_dev[1].shape) + str(bert_dev[2].shape))\n",
    "print(dev_y.shape)"
   ]
  },
  {
   "cell_type": "markdown",
   "metadata": {},
   "source": [
    "## Function to obtain a subset of the data"
   ]
  },
  {
   "cell_type": "code",
   "execution_count": 8,
   "metadata": {},
   "outputs": [],
   "source": [
    "def topic_subset(topic_list):\n",
    "        \n",
    "    #convert topic list to lower case\n",
    "    for i in range(0,len(topic_list)):\n",
    "        topic_list[i] = topic_list[i].lower()\n",
    "    \n",
    "    #find boolean series of all rows pertaining to the relevant topics\n",
    "    matches_train = twitter_train['Target'].apply(lambda x: x.lower() in topic_list)\n",
    "    matches_test = pd.Series(target_test).apply(lambda x: x.lower() in topic_list)\n",
    "    matches_dev = pd.Series(target_dev).apply(lambda x: x.lower() in topic_list)\n",
    "    \n",
    "    #subset labels\n",
    "    train_y_sub = train_y[matches_train,:]\n",
    "    test_y_sub = test_y[matches_test,:]\n",
    "    dev_y_sub = dev_y[matches_dev,:]\n",
    "    \n",
    "    \n",
    "    #initialize bert training lists for subsetting\n",
    "    bert_train_sub = []\n",
    "    bert_test_sub = []\n",
    "    bert_dev_sub = []\n",
    "    \n",
    "    for train_input in bert_train:\n",
    "        bert_train_sub.append(train_input[matches_train,:])\n",
    "        \n",
    "    for test_input in bert_test:\n",
    "        bert_test_sub.append(test_input[matches_test,:])\n",
    "        \n",
    "    for dev_input in bert_dev:\n",
    "        bert_dev_sub.append(dev_input[matches_dev,:])\n",
    "        \n",
    "    #also need to return the test labels in this format for metrics\n",
    "    true_labels = stance_labels_test[matches_test]\n",
    "    \n",
    "    return bert_train_sub, train_y_sub, bert_test_sub, test_y_sub, true_labels, bert_dev_sub, dev_y_sub"
   ]
  },
  {
   "cell_type": "markdown",
   "metadata": {},
   "source": [
    "## Functions to Run Metrics"
   ]
  },
  {
   "cell_type": "code",
   "execution_count": 9,
   "metadata": {},
   "outputs": [],
   "source": [
    "def confusion_plot(confusion_matrix, target_names):\n",
    "    # Plot confusion matrix (via imshow)\n",
    "    plt.imshow(confusion_matrix, interpolation = \"nearest\", cmap = plt.cm.Blues)\n",
    "    plt.title(\"Confusion matrix\")\n",
    "    plt.colorbar()\n",
    "    tick_marks = np.arange(len(target_names))\n",
    "    plt.xticks(tick_marks, target_names)\n",
    "    plt.yticks(tick_marks, target_names)\n",
    "    plt.ylim([-0.5, 2.5]) # Fixed values for now\n",
    "    plt.tight_layout()\n",
    "\n",
    "    # Loop through each value of the matrix to add data labels\n",
    "    width, height = confusion_matrix.shape\n",
    "    for x in range(width):\n",
    "        for y in range(height):\n",
    "            plt.annotate(str(confusion_matrix[x][y]), xy = (y, x), \n",
    "                        horizontalalignment = \"center\",\n",
    "                        verticalalignment = \"center\")\n",
    "    plt.ylabel(\"True label\")\n",
    "    plt.xlabel(\"Predicted label\")\n",
    "    \n",
    "def metrics(true_labels, test_probs):\n",
    "    \n",
    "    #find predicted labels\n",
    "    test_predicts = np.argmax(test_probs, axis = 1)\n",
    "    \n",
    "    #calculate f1 score and print classification report\n",
    "    class_report = classification_report(y_true = true_labels, \n",
    "                                        y_pred = test_predicts,\n",
    "                                        target_names = ['Against', 'None', 'Favor'], output_dict=True)\n",
    "    \n",
    "    print(\"F1 macro score (Favor and Against only)\", str((class_report['Favor']['f1-score'] + \n",
    "         class_report['Against']['f1-score']) / 2))\n",
    "    \n",
    "    print(classification_report(y_true = true_labels, \n",
    "                                        y_pred = test_predicts,\n",
    "                                        target_names = ['Against', 'None', 'Favor']))\n",
    "    \n",
    "    confuse = confusion_matrix(y_true = true_labels, y_pred = test_predicts)\n",
    "    \n",
    "    plt.figure(figsize=(15, 5))\n",
    "    confusion_plot(confuse, ['Against', 'None', 'Favor'])\n",
    "    plt.show()"
   ]
  },
  {
   "cell_type": "markdown",
   "metadata": {},
   "source": [
    "## Custom layer to create Bert"
   ]
  },
  {
   "cell_type": "code",
   "execution_count": 10,
   "metadata": {},
   "outputs": [],
   "source": [
    "class BertLayer_Seq(tf.keras.layers.Layer):\n",
    "    def __init__(self, n_fine_tune_layers=10, **kwargs):\n",
    "        self.n_fine_tune_layers = n_fine_tune_layers\n",
    "        self.trainable = True\n",
    "        self.output_size = 768\n",
    "        super(BertLayer_Seq, self).__init__(**kwargs)\n",
    "\n",
    "    def build(self, input_shape):\n",
    "        self.bert = hub.Module(\n",
    "            bert_url,\n",
    "            trainable=self.trainable,\n",
    "            name=\"{}_module\".format(self.name)\n",
    "        )\n",
    "        trainable_vars = self.bert.variables\n",
    "        \n",
    "        # Remove unused layers\n",
    "        trainable_vars = [var for var in trainable_vars if not \"/cls/\" in var.name and not \"/pooler/\" in var.name]\n",
    "        \n",
    "        # Select how many layers to fine tune\n",
    "        trainable_vars = trainable_vars[-self.n_fine_tune_layers :]\n",
    "        \n",
    "        # Add to trainable weights\n",
    "        for var in trainable_vars:\n",
    "            self._trainable_weights.append(var)\n",
    "        \n",
    "        # Add non-trainable weights\n",
    "        for var in self.bert.variables:\n",
    "            if var not in self._trainable_weights:\n",
    "                self._non_trainable_weights.append(var)\n",
    "        \n",
    "        super(BertLayer_Seq, self).build(input_shape)\n",
    "\n",
    "    def call(self, inputs):\n",
    "        inputs = [K.cast(x, dtype=\"int32\") for x in inputs]\n",
    "        input_ids, input_mask, segment_ids = inputs\n",
    "        bert_inputs = dict(\n",
    "            input_ids=input_ids, input_mask=input_mask, segment_ids=segment_ids\n",
    "        )\n",
    "        result = self.bert(inputs=bert_inputs, signature=\"tokens\", as_dict=True)[\n",
    "            \"sequence_output\"\n",
    "        ]\n",
    "        \n",
    "        mul_mask = lambda x, m: x * tf.expand_dims(m, axis=-1)\n",
    "        \n",
    "        return result\n",
    "\n",
    "    def compute_output_shape(self, input_shape):\n",
    "        return (input_shape[0], self.output_size)"
   ]
  },
  {
   "cell_type": "markdown",
   "metadata": {},
   "source": [
    "## Define Model"
   ]
  },
  {
   "cell_type": "code",
   "execution_count": 11,
   "metadata": {},
   "outputs": [],
   "source": [
    "def bert_model_seq(max_length, train_layers, optimizer, dropout_rate):\n",
    "    \n",
    "    #inputs\n",
    "    in_id = tf.keras.layers.Input(shape=(max_length,), name=\"input_ids\")\n",
    "    in_mask = tf.keras.layers.Input(shape=(max_length,), name=\"input_masks\")\n",
    "    in_segment = tf.keras.layers.Input(shape=(max_length,), name=\"segment_ids\")\n",
    "    \n",
    "    bert_inputs = [in_id, in_mask, in_segment]\n",
    "    \n",
    "    #obtain bert Sequential output\n",
    "    bert_sequence = BertLayer_Seq(n_fine_tune_layers=train_layers)(bert_inputs)\n",
    "    \n",
    "    #perform dropout\n",
    "    dropout1= tf.keras.layers.Dropout(rate=dropout_rate)(bert_sequence)\n",
    "    \n",
    "    #LSTM layer to handle Sequential output\n",
    "    lstm1 = tf.keras.layers.LSTM(128, name='lstm1')(dropout1)\n",
    "    \n",
    "    #Feed LSTM layer to 1 dense layer\n",
    "    dense1 = tf.keras.layers.Dense(64, activation='relu', \n",
    "                                 kernel_initializer = tf.keras.initializers.he_normal(), \n",
    "                                 name='dense1')(lstm1)\n",
    "    \n",
    "    #perform another dropout\n",
    "    dropout2 = tf.keras.layers.Dropout(rate=dropout_rate)(dense1)\n",
    "    \n",
    "    #classification layer\n",
    "    pred = tf.keras.layers.Dense(3, activation='softmax', name='classification')(dropout2)\n",
    "    \n",
    "    #compile model\n",
    "    model = tf.keras.models.Model(inputs=bert_inputs, outputs=pred)\n",
    "    model.compile(loss='categorical_crossentropy', optimizer=optimizer, metrics = ['categorical_accuracy'])\n",
    "    model.summary()\n",
    "    \n",
    "    return model\n",
    "\n",
    "def initialize_vars(sess):\n",
    "    sess.run(tf.local_variables_initializer())\n",
    "    sess.run(tf.global_variables_initializer())\n",
    "    sess.run(tf.tables_initializer())\n",
    "    K.set_session(sess)"
   ]
  },
  {
   "cell_type": "markdown",
   "metadata": {},
   "source": [
    "## Atheism"
   ]
  },
  {
   "cell_type": "code",
   "execution_count": 21,
   "metadata": {},
   "outputs": [
    {
     "name": "stdout",
     "output_type": "stream",
     "text": [
      "Model: \"model_3\"\n",
      "__________________________________________________________________________________________________\n",
      "Layer (type)                    Output Shape         Param #     Connected to                     \n",
      "==================================================================================================\n",
      "input_ids (InputLayer)          [(None, 83)]         0                                            \n",
      "__________________________________________________________________________________________________\n",
      "input_masks (InputLayer)        [(None, 83)]         0                                            \n",
      "__________________________________________________________________________________________________\n",
      "segment_ids (InputLayer)        [(None, 83)]         0                                            \n",
      "__________________________________________________________________________________________________\n",
      "bert_layer__seq_3 (BertLayer_Se (None, None, 768)    108931396   input_ids[0][0]                  \n",
      "                                                                 input_masks[0][0]                \n",
      "                                                                 segment_ids[0][0]                \n",
      "__________________________________________________________________________________________________\n",
      "dropout_6 (Dropout)             (None, None, 768)    0           bert_layer__seq_3[0][0]          \n",
      "__________________________________________________________________________________________________\n",
      "lstm1 (LSTM)                    (None, 128)          459264      dropout_6[0][0]                  \n",
      "__________________________________________________________________________________________________\n",
      "dense1 (Dense)                  (None, 64)           8256        lstm1[0][0]                      \n",
      "__________________________________________________________________________________________________\n",
      "dropout_7 (Dropout)             (None, 64)           0           dense1[0][0]                     \n",
      "__________________________________________________________________________________________________\n",
      "classification (Dense)          (None, 3)            195         dropout_7[0][0]                  \n",
      "==================================================================================================\n",
      "Total params: 109,399,111\n",
      "Trainable params: 5,191,683\n",
      "Non-trainable params: 104,207,428\n",
      "__________________________________________________________________________________________________\n",
      "Train on 513 samples, validate on 35 samples\n",
      "Epoch 1/10\n",
      "513/513 [==============================] - 107s 209ms/sample - loss: 1.3514 - categorical_accuracy: 0.3294 - val_loss: 1.1166 - val_categorical_accuracy: 0.5429\n",
      "Epoch 2/10\n",
      "513/513 [==============================] - 99s 194ms/sample - loss: 0.9526 - categorical_accuracy: 0.6023 - val_loss: 0.3740 - val_categorical_accuracy: 0.8286\n",
      "Epoch 3/10\n",
      "513/513 [==============================] - 99s 193ms/sample - loss: 0.6813 - categorical_accuracy: 0.7407 - val_loss: 0.7267 - val_categorical_accuracy: 0.6571\n",
      "Epoch 4/10\n",
      "513/513 [==============================] - 113s 221ms/sample - loss: 0.4382 - categorical_accuracy: 0.8187 - val_loss: 1.2003 - val_categorical_accuracy: 0.6000\n",
      "Epoch 5/10\n",
      "513/513 [==============================] - 111s 216ms/sample - loss: 0.3250 - categorical_accuracy: 0.8402 - val_loss: 0.6188 - val_categorical_accuracy: 0.7143\n",
      "Epoch 6/10\n",
      "513/513 [==============================] - 107s 209ms/sample - loss: 0.2904 - categorical_accuracy: 0.8441 - val_loss: 0.3584 - val_categorical_accuracy: 0.8857\n",
      "Epoch 7/10\n",
      "513/513 [==============================] - 101s 197ms/sample - loss: 0.1621 - categorical_accuracy: 0.9357 - val_loss: 0.7446 - val_categorical_accuracy: 0.8000\n",
      "Epoch 8/10\n",
      "513/513 [==============================] - 101s 197ms/sample - loss: 0.1320 - categorical_accuracy: 0.9571 - val_loss: 1.0264 - val_categorical_accuracy: 0.8000\n",
      "Epoch 9/10\n",
      "513/513 [==============================] - 101s 197ms/sample - loss: 0.1258 - categorical_accuracy: 0.9396 - val_loss: 1.1309 - val_categorical_accuracy: 0.7143\n",
      "Epoch 10/10\n",
      "513/513 [==============================] - 101s 197ms/sample - loss: 0.0693 - categorical_accuracy: 0.9708 - val_loss: 0.6389 - val_categorical_accuracy: 0.8286\n"
     ]
    },
    {
     "data": {
      "text/plain": [
       "<tensorflow.python.keras.callbacks.History at 0x1b453a9a90>"
      ]
     },
     "execution_count": 21,
     "metadata": {},
     "output_type": "execute_result"
    }
   ],
   "source": [
    "train_data, train_labels, test_data, test_labels, true_labels, val_data, val_y = topic_subset(['Atheism'])\n",
    "\n",
    "#Start session\n",
    "compute_class = compute_class_weight('balanced', np.unique(true_labels), true_labels)\n",
    "weights = {0: compute_class[0], 1:compute_class[1], 2:compute_class[2]}\n",
    "\n",
    "sess = tf.Session()\n",
    "\n",
    "model = bert_model_seq(max_length = max_length, \n",
    "                     train_layers=6, \n",
    "                     optimizer = tf.keras.optimizers.Adam(learning_rate=0.001,\n",
    "                                                         beta_1 = 0.9,\n",
    "                                                         beta_2 = 0.999),\n",
    "                     dropout_rate= 0.5)\n",
    "\n",
    "# Instantiate variables\n",
    "initialize_vars(sess)\n",
    "\n",
    "\n",
    "model.fit(\n",
    "    train_data, \n",
    "    train_labels,\n",
    "    validation_data = [val_data, val_y],\n",
    "    epochs=10,\n",
    "    verbose=1,\n",
    "    batch_size=32,\n",
    "    class_weight = weights)"
   ]
  },
  {
   "cell_type": "code",
   "execution_count": 22,
   "metadata": {},
   "outputs": [
    {
     "name": "stdout",
     "output_type": "stream",
     "text": [
      "F1 macro score (Favor and Against only) 0.6888470749230242\n",
      "              precision    recall  f1-score   support\n",
      "\n",
      "     Against       0.88      0.75      0.81       128\n",
      "        None       0.58      0.64      0.61        28\n",
      "       Favor       0.47      0.72      0.57        29\n",
      "\n",
      "   micro avg       0.73      0.73      0.73       185\n",
      "   macro avg       0.64      0.71      0.66       185\n",
      "weighted avg       0.77      0.73      0.74       185\n",
      "\n"
     ]
    },
    {
     "data": {
      "image/png": "[encoded data removed]",
      "text/plain": [
       "<Figure size 1080x360 with 2 Axes>"
      ]
     },
     "metadata": {
      "needs_background": "light"
     },
     "output_type": "display_data"
    }
   ],
   "source": [
    "test_probs = model.predict(test_data)\n",
    "metrics(true_labels, test_probs)"
   ]
  },
  {
   "cell_type": "code",
   "execution_count": 24,
   "metadata": {},
   "outputs": [],
   "source": [
    "#store predictions and true labels for calculating overall F score later\n",
    "ath_predictions =  np.argmax(test_probs, axis = 1)\n",
    "ath_labels = true_labels"
   ]
  },
  {
   "cell_type": "code",
   "execution_count": 44,
   "metadata": {},
   "outputs": [
    {
     "name": "stderr",
     "output_type": "stream",
     "text": [
      "/Users/alexdessouky/anaconda3/lib/python3.6/site-packages/ipykernel_launcher.py:2: FutureWarning: The signature of `Series.to_csv` was aligned to that of `DataFrame.to_csv`, and argument 'header' will change its default value from False to True: please pass an explicit value to suppress this warning.\n",
      "  \n",
      "/Users/alexdessouky/anaconda3/lib/python3.6/site-packages/ipykernel_launcher.py:3: FutureWarning: The signature of `Series.to_csv` was aligned to that of `DataFrame.to_csv`, and argument 'header' will change its default value from False to True: please pass an explicit value to suppress this warning.\n",
      "  This is separate from the ipykernel package so we can avoid doing imports until\n"
     ]
    }
   ],
   "source": [
    "##write predictions to csv files\n",
    "#pd.Series(ath_predictions).to_csv('atheism_preds.csv')\n",
    "#pd.Series(ath_labels).to_csv('atheism_true.csv')"
   ]
  },
  {
   "cell_type": "markdown",
   "metadata": {},
   "source": [
    "## Hillary Clinton"
   ]
  },
  {
   "cell_type": "code",
   "execution_count": 53,
   "metadata": {},
   "outputs": [
    {
     "name": "stdout",
     "output_type": "stream",
     "text": [
      "Model: \"model_10\"\n",
      "__________________________________________________________________________________________________\n",
      "Layer (type)                    Output Shape         Param #     Connected to                     \n",
      "==================================================================================================\n",
      "input_ids (InputLayer)          [(None, 83)]         0                                            \n",
      "__________________________________________________________________________________________________\n",
      "input_masks (InputLayer)        [(None, 83)]         0                                            \n",
      "__________________________________________________________________________________________________\n",
      "segment_ids (InputLayer)        [(None, 83)]         0                                            \n",
      "__________________________________________________________________________________________________\n",
      "bert_layer__seq_10 (BertLayer_S (None, None, 768)    108931396   input_ids[0][0]                  \n",
      "                                                                 input_masks[0][0]                \n",
      "                                                                 segment_ids[0][0]                \n",
      "__________________________________________________________________________________________________\n",
      "dropout_20 (Dropout)            (None, None, 768)    0           bert_layer__seq_10[0][0]         \n",
      "__________________________________________________________________________________________________\n",
      "lstm1 (LSTM)                    (None, 128)          459264      dropout_20[0][0]                 \n",
      "__________________________________________________________________________________________________\n",
      "dense1 (Dense)                  (None, 64)           8256        lstm1[0][0]                      \n",
      "__________________________________________________________________________________________________\n",
      "dropout_21 (Dropout)            (None, 64)           0           dense1[0][0]                     \n",
      "__________________________________________________________________________________________________\n",
      "classification (Dense)          (None, 3)            195         dropout_21[0][0]                 \n",
      "==================================================================================================\n",
      "Total params: 109,399,111\n",
      "Trainable params: 5,191,683\n",
      "Non-trainable params: 104,207,428\n",
      "__________________________________________________________________________________________________\n",
      "Train on 689 samples, validate on 48 samples\n",
      "Epoch 1/12\n",
      "689/689 [==============================] - 134s 194ms/sample - loss: 1.2181 - categorical_accuracy: 0.2874 - val_loss: 1.1837 - val_categorical_accuracy: 0.2292\n",
      "Epoch 2/12\n",
      "689/689 [==============================] - 128s 186ms/sample - loss: 1.0000 - categorical_accuracy: 0.3948 - val_loss: 0.9046 - val_categorical_accuracy: 0.5833\n",
      "Epoch 3/12\n",
      "689/689 [==============================] - 131s 190ms/sample - loss: 0.8244 - categorical_accuracy: 0.5646 - val_loss: 0.8602 - val_categorical_accuracy: 0.6042\n",
      "Epoch 4/12\n",
      "689/689 [==============================] - 133s 193ms/sample - loss: 0.6481 - categorical_accuracy: 0.6720 - val_loss: 0.9902 - val_categorical_accuracy: 0.5833\n",
      "Epoch 5/12\n",
      "689/689 [==============================] - 138s 201ms/sample - loss: 0.5406 - categorical_accuracy: 0.7373 - val_loss: 1.1058 - val_categorical_accuracy: 0.6042\n",
      "Epoch 6/12\n",
      "689/689 [==============================] - 139s 202ms/sample - loss: 0.3477 - categorical_accuracy: 0.8128 - val_loss: 1.0802 - val_categorical_accuracy: 0.7083\n",
      "Epoch 7/12\n",
      "689/689 [==============================] - 141s 205ms/sample - loss: 0.2025 - categorical_accuracy: 0.9216 - val_loss: 1.4192 - val_categorical_accuracy: 0.6042\n",
      "Epoch 8/12\n",
      "689/689 [==============================] - 143s 207ms/sample - loss: 0.1286 - categorical_accuracy: 0.9419 - val_loss: 1.6666 - val_categorical_accuracy: 0.6458\n",
      "Epoch 9/12\n",
      "689/689 [==============================] - 146s 212ms/sample - loss: 0.1303 - categorical_accuracy: 0.9507 - val_loss: 1.5190 - val_categorical_accuracy: 0.5417\n",
      "Epoch 10/12\n",
      "689/689 [==============================] - 145s 210ms/sample - loss: 0.1079 - categorical_accuracy: 0.9608 - val_loss: 1.4742 - val_categorical_accuracy: 0.6667\n",
      "Epoch 11/12\n",
      "689/689 [==============================] - 141s 205ms/sample - loss: 0.1177 - categorical_accuracy: 0.9623 - val_loss: 1.7367 - val_categorical_accuracy: 0.6667\n",
      "Epoch 12/12\n",
      "689/689 [==============================] - 140s 203ms/sample - loss: 0.1130 - categorical_accuracy: 0.9579 - val_loss: 2.1955 - val_categorical_accuracy: 0.5417\n"
     ]
    },
    {
     "data": {
      "text/plain": [
       "<tensorflow.python.keras.callbacks.History at 0x218cca06a0>"
      ]
     },
     "execution_count": 53,
     "metadata": {},
     "output_type": "execute_result"
    }
   ],
   "source": [
    "train_data, train_labels, test_data, test_labels, true_labels, val_data, val_y = topic_subset(['Hillary Clinton'])\n",
    "\n",
    "#Start session\n",
    "compute_class = compute_class_weight('balanced', np.unique(true_labels), true_labels)\n",
    "weights = {0: compute_class[0], 1:compute_class[1], 2:compute_class[2]}\n",
    "\n",
    "sess = tf.Session()\n",
    "\n",
    "model = bert_model_seq(max_length = max_length, \n",
    "                     train_layers=6, \n",
    "                     optimizer = tf.keras.optimizers.Adam(learning_rate=0.001,\n",
    "                                                         beta_1 = 0.9,\n",
    "                                                         beta_2 = 0.999),\n",
    "                     dropout_rate= 0.5)\n",
    "\n",
    "# Instantiate variables\n",
    "initialize_vars(sess)\n",
    "\n",
    "model.fit(\n",
    "    train_data, \n",
    "    train_labels,\n",
    "    validation_data = [val_data, val_y],\n",
    "    epochs=12,\n",
    "    verbose=1,\n",
    "    batch_size=32,\n",
    "    class_weight = weights)"
   ]
  },
  {
   "cell_type": "code",
   "execution_count": 54,
   "metadata": {},
   "outputs": [
    {
     "name": "stdout",
     "output_type": "stream",
     "text": [
      "F1 macro score (Favor and Against only) 0.6432539682539683\n",
      "              precision    recall  f1-score   support\n",
      "\n",
      "     Against       0.84      0.73      0.78       150\n",
      "        None       0.57      0.79      0.66        63\n",
      "       Favor       0.55      0.47      0.51        34\n",
      "\n",
      "   micro avg       0.71      0.71      0.71       247\n",
      "   macro avg       0.65      0.66      0.65       247\n",
      "weighted avg       0.73      0.71      0.71       247\n",
      "\n"
     ]
    },
    {
     "data": {
      "image/png": "[encoded data removed]",
      "text/plain": [
       "<Figure size 1080x360 with 2 Axes>"
      ]
     },
     "metadata": {
      "needs_background": "light"
     },
     "output_type": "display_data"
    }
   ],
   "source": [
    "test_probs = model.predict(test_data)\n",
    "metrics(true_labels, test_probs)"
   ]
  },
  {
   "cell_type": "code",
   "execution_count": 55,
   "metadata": {},
   "outputs": [],
   "source": [
    "#store predictions and true labels for calculating overall F score later\n",
    "hil_predictions =  np.argmax(test_probs, axis = 1)\n",
    "hil_labels = true_labels"
   ]
  },
  {
   "cell_type": "code",
   "execution_count": 56,
   "metadata": {},
   "outputs": [
    {
     "name": "stderr",
     "output_type": "stream",
     "text": [
      "/Users/alexdessouky/anaconda3/lib/python3.6/site-packages/ipykernel_launcher.py:2: FutureWarning: The signature of `Series.to_csv` was aligned to that of `DataFrame.to_csv`, and argument 'header' will change its default value from False to True: please pass an explicit value to suppress this warning.\n",
      "  \n",
      "/Users/alexdessouky/anaconda3/lib/python3.6/site-packages/ipykernel_launcher.py:3: FutureWarning: The signature of `Series.to_csv` was aligned to that of `DataFrame.to_csv`, and argument 'header' will change its default value from False to True: please pass an explicit value to suppress this warning.\n",
      "  This is separate from the ipykernel package so we can avoid doing imports until\n"
     ]
    }
   ],
   "source": [
    "##write predictions to csv files\n",
    "#pd.Series(hil_predictions).to_csv('hil_preds.csv')\n",
    "#pd.Series(hil_labels).to_csv('hil_true.csv')"
   ]
  },
  {
   "cell_type": "markdown",
   "metadata": {},
   "source": [
    "## Abortion"
   ]
  },
  {
   "cell_type": "code",
   "execution_count": 32,
   "metadata": {},
   "outputs": [
    {
     "name": "stdout",
     "output_type": "stream",
     "text": [
      "Model: \"model_5\"\n",
      "__________________________________________________________________________________________________\n",
      "Layer (type)                    Output Shape         Param #     Connected to                     \n",
      "==================================================================================================\n",
      "input_ids (InputLayer)          [(None, 83)]         0                                            \n",
      "__________________________________________________________________________________________________\n",
      "input_masks (InputLayer)        [(None, 83)]         0                                            \n",
      "__________________________________________________________________________________________________\n",
      "segment_ids (InputLayer)        [(None, 83)]         0                                            \n",
      "__________________________________________________________________________________________________\n",
      "bert_layer__seq_5 (BertLayer_Se (None, None, 768)    108931396   input_ids[0][0]                  \n",
      "                                                                 input_masks[0][0]                \n",
      "                                                                 segment_ids[0][0]                \n",
      "__________________________________________________________________________________________________\n",
      "dropout_10 (Dropout)            (None, None, 768)    0           bert_layer__seq_5[0][0]          \n",
      "__________________________________________________________________________________________________\n",
      "lstm1 (LSTM)                    (None, 128)          459264      dropout_10[0][0]                 \n",
      "__________________________________________________________________________________________________\n",
      "dense1 (Dense)                  (None, 64)           8256        lstm1[0][0]                      \n",
      "__________________________________________________________________________________________________\n",
      "dropout_11 (Dropout)            (None, 64)           0           dense1[0][0]                     \n",
      "__________________________________________________________________________________________________\n",
      "classification (Dense)          (None, 3)            195         dropout_11[0][0]                 \n",
      "==================================================================================================\n",
      "Total params: 109,399,111\n",
      "Trainable params: 5,191,683\n",
      "Non-trainable params: 104,207,428\n",
      "__________________________________________________________________________________________________\n",
      "Train on 653 samples, validate on 41 samples\n",
      "Epoch 1/15\n",
      "653/653 [==============================] - 157s 240ms/sample - loss: 1.3429 - categorical_accuracy: 0.2726 - val_loss: 1.2655 - val_categorical_accuracy: 0.1707\n",
      "Epoch 2/15\n",
      "653/653 [==============================] - 131s 200ms/sample - loss: 1.0929 - categorical_accuracy: 0.3859 - val_loss: 1.2941 - val_categorical_accuracy: 0.4146\n",
      "Epoch 3/15\n",
      "653/653 [==============================] - 136s 208ms/sample - loss: 0.8663 - categorical_accuracy: 0.5421 - val_loss: 1.1219 - val_categorical_accuracy: 0.5122\n",
      "Epoch 4/15\n",
      "653/653 [==============================] - 135s 206ms/sample - loss: 0.6358 - categorical_accuracy: 0.7060 - val_loss: 0.9016 - val_categorical_accuracy: 0.6585\n",
      "Epoch 5/15\n",
      "653/653 [==============================] - 136s 209ms/sample - loss: 0.4494 - categorical_accuracy: 0.7902 - val_loss: 1.2356 - val_categorical_accuracy: 0.4634\n",
      "Epoch 6/15\n",
      "653/653 [==============================] - 137s 210ms/sample - loss: 0.3171 - categorical_accuracy: 0.8729 - val_loss: 1.5003 - val_categorical_accuracy: 0.5366\n",
      "Epoch 7/15\n",
      "653/653 [==============================] - 139s 213ms/sample - loss: 0.3157 - categorical_accuracy: 0.8469 - val_loss: 1.3429 - val_categorical_accuracy: 0.5610\n",
      "Epoch 8/15\n",
      "653/653 [==============================] - 139s 213ms/sample - loss: 0.2273 - categorical_accuracy: 0.9188 - val_loss: 1.2945 - val_categorical_accuracy: 0.6585\n",
      "Epoch 9/15\n",
      "653/653 [==============================] - 140s 214ms/sample - loss: 0.1141 - categorical_accuracy: 0.9571 - val_loss: 1.7123 - val_categorical_accuracy: 0.5366\n",
      "Epoch 10/15\n",
      "653/653 [==============================] - 139s 213ms/sample - loss: 0.1127 - categorical_accuracy: 0.9571 - val_loss: 2.3049 - val_categorical_accuracy: 0.5122\n",
      "Epoch 11/15\n",
      "653/653 [==============================] - 140s 214ms/sample - loss: 0.1015 - categorical_accuracy: 0.9709 - val_loss: 2.2757 - val_categorical_accuracy: 0.4878\n",
      "Epoch 12/15\n",
      "653/653 [==============================] - 141s 216ms/sample - loss: 0.1225 - categorical_accuracy: 0.9403 - val_loss: 2.0932 - val_categorical_accuracy: 0.5122\n",
      "Epoch 13/15\n",
      "653/653 [==============================] - 142s 217ms/sample - loss: 0.1139 - categorical_accuracy: 0.9740 - val_loss: 2.0445 - val_categorical_accuracy: 0.6098\n",
      "Epoch 14/15\n",
      "653/653 [==============================] - 141s 217ms/sample - loss: 0.1178 - categorical_accuracy: 0.9525 - val_loss: 1.5536 - val_categorical_accuracy: 0.5610\n",
      "Epoch 15/15\n",
      "653/653 [==============================] - 142s 217ms/sample - loss: 0.0629 - categorical_accuracy: 0.9786 - val_loss: 2.0516 - val_categorical_accuracy: 0.6341\n"
     ]
    },
    {
     "data": {
      "text/plain": [
       "<tensorflow.python.keras.callbacks.History at 0x1cadace828>"
      ]
     },
     "execution_count": 32,
     "metadata": {},
     "output_type": "execute_result"
    }
   ],
   "source": [
    "train_data, train_labels, test_data, test_labels, true_labels, val_data, val_y = topic_subset(['Legalization of Abortion'])\n",
    "\n",
    "#Start session\n",
    "compute_class = compute_class_weight('balanced', np.unique(true_labels), true_labels)\n",
    "weights = {0: compute_class[0], 1:compute_class[1], 2:compute_class[2]}\n",
    "\n",
    "sess = tf.Session()\n",
    "\n",
    "model = bert_model_seq(max_length = max_length, \n",
    "                     train_layers=6, \n",
    "                     optimizer = tf.keras.optimizers.Adam(learning_rate=0.001,\n",
    "                                                         beta_1 = 0.9,\n",
    "                                                         beta_2 = 0.999),\n",
    "                     dropout_rate= 0.5)\n",
    "\n",
    "# Instantiate variables\n",
    "initialize_vars(sess)\n",
    "\n",
    "\n",
    "model.fit(\n",
    "    train_data, \n",
    "    train_labels,\n",
    "    validation_data = [val_data, val_y],\n",
    "    epochs=15,\n",
    "    verbose=1,\n",
    "    batch_size=32,\n",
    "    class_weight = weights)"
   ]
  },
  {
   "cell_type": "code",
   "execution_count": 33,
   "metadata": {},
   "outputs": [
    {
     "name": "stdout",
     "output_type": "stream",
     "text": [
      "F1 macro score (Favor and Against only) 0.6394927536231885\n",
      "              precision    recall  f1-score   support\n",
      "\n",
      "     Against       0.83      0.60      0.70       161\n",
      "        None       0.35      0.65      0.45        37\n",
      "       Favor       0.51      0.68      0.58        41\n",
      "\n",
      "   micro avg       0.62      0.62      0.62       239\n",
      "   macro avg       0.56      0.64      0.58       239\n",
      "weighted avg       0.70      0.62      0.64       239\n",
      "\n"
     ]
    },
    {
     "data": {
      "image/png": "[encoded data removed]",
      "text/plain": [
       "<Figure size 1080x360 with 2 Axes>"
      ]
     },
     "metadata": {
      "needs_background": "light"
     },
     "output_type": "display_data"
    }
   ],
   "source": [
    "test_probs = model.predict(test_data)\n",
    "metrics(true_labels, test_probs)"
   ]
  },
  {
   "cell_type": "code",
   "execution_count": 36,
   "metadata": {},
   "outputs": [],
   "source": [
    "#store predictions and true labels for calculating overall F score later\n",
    "abort_predictions =  np.argmax(test_probs, axis = 1)\n",
    "abort_labels = true_labels"
   ]
  },
  {
   "cell_type": "code",
   "execution_count": 37,
   "metadata": {},
   "outputs": [
    {
     "name": "stderr",
     "output_type": "stream",
     "text": [
      "/Users/alexdessouky/anaconda3/lib/python3.6/site-packages/ipykernel_launcher.py:2: FutureWarning: The signature of `Series.to_csv` was aligned to that of `DataFrame.to_csv`, and argument 'header' will change its default value from False to True: please pass an explicit value to suppress this warning.\n",
      "  \n",
      "/Users/alexdessouky/anaconda3/lib/python3.6/site-packages/ipykernel_launcher.py:3: FutureWarning: The signature of `Series.to_csv` was aligned to that of `DataFrame.to_csv`, and argument 'header' will change its default value from False to True: please pass an explicit value to suppress this warning.\n",
      "  This is separate from the ipykernel package so we can avoid doing imports until\n"
     ]
    }
   ],
   "source": [
    "##write predictions to csv files\n",
    "#pd.Series(abort_predictions).to_csv('abort_preds.csv')\n",
    "#pd.Series(abort_labels).to_csv('abort_true.csv')"
   ]
  },
  {
   "cell_type": "markdown",
   "metadata": {},
   "source": [
    "## Climate Change"
   ]
  },
  {
   "cell_type": "code",
   "execution_count": 21,
   "metadata": {},
   "outputs": [
    {
     "name": "stdout",
     "output_type": "stream",
     "text": [
      "Model: \"model_3\"\n",
      "__________________________________________________________________________________________________\n",
      "Layer (type)                    Output Shape         Param #     Connected to                     \n",
      "==================================================================================================\n",
      "input_ids (InputLayer)          [(None, 83)]         0                                            \n",
      "__________________________________________________________________________________________________\n",
      "input_masks (InputLayer)        [(None, 83)]         0                                            \n",
      "__________________________________________________________________________________________________\n",
      "segment_ids (InputLayer)        [(None, 83)]         0                                            \n",
      "__________________________________________________________________________________________________\n",
      "bert_layer__seq_3 (BertLayer_Se (None, None, 768)    108931396   input_ids[0][0]                  \n",
      "                                                                 input_masks[0][0]                \n",
      "                                                                 segment_ids[0][0]                \n",
      "__________________________________________________________________________________________________\n",
      "dropout_6 (Dropout)             (None, None, 768)    0           bert_layer__seq_3[0][0]          \n",
      "__________________________________________________________________________________________________\n",
      "lstm1 (LSTM)                    (None, 128)          459264      dropout_6[0][0]                  \n",
      "__________________________________________________________________________________________________\n",
      "dense1 (Dense)                  (None, 64)           8256        lstm1[0][0]                      \n",
      "__________________________________________________________________________________________________\n",
      "dropout_7 (Dropout)             (None, 64)           0           dense1[0][0]                     \n",
      "__________________________________________________________________________________________________\n",
      "classification (Dense)          (None, 3)            195         dropout_7[0][0]                  \n",
      "==================================================================================================\n",
      "Total params: 109,399,111\n",
      "Trainable params: 5,191,683\n",
      "Non-trainable params: 104,207,428\n",
      "__________________________________________________________________________________________________\n",
      "Train on 395 samples, validate on 30 samples\n",
      "Epoch 1/7\n",
      "395/395 [==============================] - 80s 203ms/sample - loss: 1.1537 - categorical_accuracy: 0.4608 - val_loss: 1.1749 - val_categorical_accuracy: 0.3667\n",
      "Epoch 2/7\n",
      "395/395 [==============================] - 78s 197ms/sample - loss: 0.9010 - categorical_accuracy: 0.6633 - val_loss: 0.6281 - val_categorical_accuracy: 0.8333\n",
      "Epoch 3/7\n",
      "395/395 [==============================] - 78s 196ms/sample - loss: 0.6276 - categorical_accuracy: 0.7418 - val_loss: 0.5958 - val_categorical_accuracy: 0.8333\n",
      "Epoch 4/7\n",
      "395/395 [==============================] - 79s 200ms/sample - loss: 0.4231 - categorical_accuracy: 0.8329 - val_loss: 0.7735 - val_categorical_accuracy: 0.8333\n",
      "Epoch 5/7\n",
      "395/395 [==============================] - 79s 200ms/sample - loss: 0.2700 - categorical_accuracy: 0.9215 - val_loss: 0.8603 - val_categorical_accuracy: 0.7000\n",
      "Epoch 6/7\n",
      "395/395 [==============================] - 79s 200ms/sample - loss: 0.2132 - categorical_accuracy: 0.9215 - val_loss: 0.8165 - val_categorical_accuracy: 0.7667\n",
      "Epoch 7/7\n",
      "395/395 [==============================] - 79s 200ms/sample - loss: 0.1340 - categorical_accuracy: 0.9089 - val_loss: 1.1066 - val_categorical_accuracy: 0.6667\n"
     ]
    },
    {
     "data": {
      "text/plain": [
       "<tensorflow.python.keras.callbacks.History at 0x1b69e64a90>"
      ]
     },
     "execution_count": 21,
     "metadata": {},
     "output_type": "execute_result"
    }
   ],
   "source": [
    "train_data, train_labels, test_data, test_labels, true_labels, val_data, val_y = topic_subset(['Climate Change is a Real Concern'])\n",
    "\n",
    "#Start session\n",
    "compute_class = compute_class_weight('balanced', np.unique(true_labels), true_labels)\n",
    "weights = {0: compute_class[0], 1:compute_class[1], 2:compute_class[2]}\n",
    "\n",
    "sess = tf.Session()\n",
    "\n",
    "model = bert_model_seq(max_length = max_length, \n",
    "                     train_layers=6, \n",
    "                     optimizer = tf.keras.optimizers.Adam(learning_rate=0.001,\n",
    "                                                         beta_1 = 0.9,\n",
    "                                                         beta_2 = 0.999),\n",
    "                     dropout_rate= 0.5)\n",
    "\n",
    "# Instantiate variables\n",
    "initialize_vars(sess)\n",
    "\n",
    "\n",
    "model.fit(\n",
    "    train_data, \n",
    "    train_labels,\n",
    "    validation_data = [val_data, val_y],\n",
    "    epochs=7,\n",
    "    verbose=1,\n",
    "    batch_size=32,\n",
    "    class_weight = weights)"
   ]
  },
  {
   "cell_type": "code",
   "execution_count": 22,
   "metadata": {},
   "outputs": [
    {
     "name": "stdout",
     "output_type": "stream",
     "text": [
      "F1 macro score (Favor and Against only) 0.4950278923114237\n",
      "              precision    recall  f1-score   support\n",
      "\n",
      "     Against       0.11      0.10      0.11        10\n",
      "        None       0.78      0.58      0.67        24\n",
      "       Favor       0.86      0.91      0.88       105\n",
      "\n",
      "   micro avg       0.80      0.80      0.80       139\n",
      "   macro avg       0.58      0.53      0.55       139\n",
      "weighted avg       0.79      0.80      0.79       139\n",
      "\n"
     ]
    },
    {
     "data": {
      "image/png": "[encoded data removed]",
      "text/plain": [
       "<Figure size 1080x360 with 2 Axes>"
      ]
     },
     "metadata": {
      "needs_background": "light"
     },
     "output_type": "display_data"
    }
   ],
   "source": [
    "test_probs = model.predict(test_data)\n",
    "metrics(true_labels, test_probs)"
   ]
  },
  {
   "cell_type": "code",
   "execution_count": 25,
   "metadata": {},
   "outputs": [],
   "source": [
    "#store predictions and true labels for calculating overall F score later\n",
    "clim_predictions =  np.argmax(test_probs, axis = 1)\n",
    "clim_labels = true_labels"
   ]
  },
  {
   "cell_type": "code",
   "execution_count": 26,
   "metadata": {},
   "outputs": [
    {
     "name": "stderr",
     "output_type": "stream",
     "text": [
      "/Users/alexdessouky/anaconda3/lib/python3.6/site-packages/ipykernel_launcher.py:2: FutureWarning: The signature of `Series.to_csv` was aligned to that of `DataFrame.to_csv`, and argument 'header' will change its default value from False to True: please pass an explicit value to suppress this warning.\n",
      "  \n",
      "/Users/alexdessouky/anaconda3/lib/python3.6/site-packages/ipykernel_launcher.py:3: FutureWarning: The signature of `Series.to_csv` was aligned to that of `DataFrame.to_csv`, and argument 'header' will change its default value from False to True: please pass an explicit value to suppress this warning.\n",
      "  This is separate from the ipykernel package so we can avoid doing imports until\n"
     ]
    }
   ],
   "source": [
    "##write predictions to csv files\n",
    "#pd.Series(clim_predictions).to_csv('clim_preds.csv')\n",
    "#pd.Series(clim_labels).to_csv('clim_true.csv')"
   ]
  },
  {
   "cell_type": "markdown",
   "metadata": {},
   "source": [
    "## Feminism"
   ]
  },
  {
   "cell_type": "code",
   "execution_count": 27,
   "metadata": {},
   "outputs": [
    {
     "name": "stdout",
     "output_type": "stream",
     "text": [
      "Model: \"model_4\"\n",
      "__________________________________________________________________________________________________\n",
      "Layer (type)                    Output Shape         Param #     Connected to                     \n",
      "==================================================================================================\n",
      "input_ids (InputLayer)          [(None, 83)]         0                                            \n",
      "__________________________________________________________________________________________________\n",
      "input_masks (InputLayer)        [(None, 83)]         0                                            \n",
      "__________________________________________________________________________________________________\n",
      "segment_ids (InputLayer)        [(None, 83)]         0                                            \n",
      "__________________________________________________________________________________________________\n",
      "bert_layer__seq_4 (BertLayer_Se (None, None, 768)    108931396   input_ids[0][0]                  \n",
      "                                                                 input_masks[0][0]                \n",
      "                                                                 segment_ids[0][0]                \n",
      "__________________________________________________________________________________________________\n",
      "dropout_8 (Dropout)             (None, None, 768)    0           bert_layer__seq_4[0][0]          \n",
      "__________________________________________________________________________________________________\n",
      "lstm1 (LSTM)                    (None, 128)          459264      dropout_8[0][0]                  \n",
      "__________________________________________________________________________________________________\n",
      "dense1 (Dense)                  (None, 64)           8256        lstm1[0][0]                      \n",
      "__________________________________________________________________________________________________\n",
      "dropout_9 (Dropout)             (None, 64)           0           dense1[0][0]                     \n",
      "__________________________________________________________________________________________________\n",
      "classification (Dense)          (None, 3)            195         dropout_9[0][0]                  \n",
      "==================================================================================================\n",
      "Total params: 109,399,111\n",
      "Trainable params: 5,191,683\n",
      "Non-trainable params: 104,207,428\n",
      "__________________________________________________________________________________________________\n",
      "Train on 664 samples, validate on 37 samples\n",
      "Epoch 1/15\n",
      "664/664 [==============================] - 127s 191ms/sample - loss: 1.2837 - categorical_accuracy: 0.3223 - val_loss: 1.1517 - val_categorical_accuracy: 0.3243\n",
      "Epoch 2/15\n",
      "664/664 [==============================] - 128s 192ms/sample - loss: 0.9832 - categorical_accuracy: 0.4699 - val_loss: 1.0312 - val_categorical_accuracy: 0.4595\n",
      "Epoch 3/15\n",
      "664/664 [==============================] - 130s 196ms/sample - loss: 0.8017 - categorical_accuracy: 0.6235 - val_loss: 1.3295 - val_categorical_accuracy: 0.4324\n",
      "Epoch 4/15\n",
      "664/664 [==============================] - 134s 201ms/sample - loss: 0.6220 - categorical_accuracy: 0.6687 - val_loss: 1.4088 - val_categorical_accuracy: 0.5405\n",
      "Epoch 5/15\n",
      "664/664 [==============================] - 136s 205ms/sample - loss: 0.4457 - categorical_accuracy: 0.7515 - val_loss: 1.4269 - val_categorical_accuracy: 0.5405\n",
      "Epoch 6/15\n",
      "664/664 [==============================] - 140s 210ms/sample - loss: 0.3421 - categorical_accuracy: 0.8479 - val_loss: 1.4349 - val_categorical_accuracy: 0.5946\n",
      "Epoch 7/15\n",
      "664/664 [==============================] - 143s 215ms/sample - loss: 0.2757 - categorical_accuracy: 0.8735 - val_loss: 1.4233 - val_categorical_accuracy: 0.5405\n",
      "Epoch 8/15\n",
      "664/664 [==============================] - 145s 218ms/sample - loss: 0.1710 - categorical_accuracy: 0.9458 - val_loss: 1.6428 - val_categorical_accuracy: 0.5676\n",
      "Epoch 9/15\n",
      "664/664 [==============================] - 146s 220ms/sample - loss: 0.1637 - categorical_accuracy: 0.9548 - val_loss: 1.8626 - val_categorical_accuracy: 0.4865\n",
      "Epoch 10/15\n",
      "664/664 [==============================] - 148s 223ms/sample - loss: 0.1825 - categorical_accuracy: 0.9352 - val_loss: 1.8805 - val_categorical_accuracy: 0.4595\n",
      "Epoch 11/15\n",
      "664/664 [==============================] - 147s 222ms/sample - loss: 0.1838 - categorical_accuracy: 0.9277 - val_loss: 1.9084 - val_categorical_accuracy: 0.4865\n",
      "Epoch 12/15\n",
      "664/664 [==============================] - 148s 223ms/sample - loss: 0.0904 - categorical_accuracy: 0.9804 - val_loss: 2.1087 - val_categorical_accuracy: 0.5135\n",
      "Epoch 13/15\n",
      "664/664 [==============================] - 145s 218ms/sample - loss: 0.0292 - categorical_accuracy: 0.9925 - val_loss: 2.7639 - val_categorical_accuracy: 0.4865\n",
      "Epoch 14/15\n",
      "664/664 [==============================] - 145s 219ms/sample - loss: 0.0544 - categorical_accuracy: 0.9819 - val_loss: 2.0460 - val_categorical_accuracy: 0.5405\n",
      "Epoch 15/15\n",
      "664/664 [==============================] - 145s 218ms/sample - loss: 0.2274 - categorical_accuracy: 0.9172 - val_loss: 1.8006 - val_categorical_accuracy: 0.5135\n"
     ]
    },
    {
     "data": {
      "text/plain": [
       "<tensorflow.python.keras.callbacks.History at 0x1bfe23c470>"
      ]
     },
     "execution_count": 27,
     "metadata": {},
     "output_type": "execute_result"
    }
   ],
   "source": [
    "train_data, train_labels, test_data, test_labels, true_labels, val_data, val_y = topic_subset(['Feminist Movement'])\n",
    "\n",
    "#Start session\n",
    "compute_class = compute_class_weight('balanced', np.unique(true_labels), true_labels)\n",
    "weights = {0: compute_class[0], 1:compute_class[1], 2:compute_class[2]}\n",
    "\n",
    "sess = tf.Session()\n",
    "\n",
    "model = bert_model_seq(max_length = max_length, \n",
    "                     train_layers=6, \n",
    "                     optimizer = tf.keras.optimizers.Adam(learning_rate=0.001,\n",
    "                                                         beta_1 = 0.9,\n",
    "                                                         beta_2 = 0.999),\n",
    "                     dropout_rate= 0.5)\n",
    "\n",
    "# Instantiate variables\n",
    "initialize_vars(sess)\n",
    "\n",
    "\n",
    "model.fit(\n",
    "    train_data, \n",
    "    train_labels,\n",
    "    validation_data = [val_data, val_y],\n",
    "    epochs=15,\n",
    "    verbose=1,\n",
    "    batch_size=32,\n",
    "    class_weight = weights)"
   ]
  },
  {
   "cell_type": "code",
   "execution_count": 28,
   "metadata": {},
   "outputs": [
    {
     "name": "stdout",
     "output_type": "stream",
     "text": [
      "F1 macro score (Favor and Against only) 0.5312994915395516\n",
      "              precision    recall  f1-score   support\n",
      "\n",
      "     Against       0.77      0.58      0.66       159\n",
      "        None       0.49      0.68      0.57        37\n",
      "       Favor       0.34      0.50      0.40        52\n",
      "\n",
      "   micro avg       0.58      0.58      0.58       248\n",
      "   macro avg       0.53      0.58      0.54       248\n",
      "weighted avg       0.64      0.58      0.59       248\n",
      "\n"
     ]
    },
    {
     "data": {
      "image/png": "[encoded data removed]",
      "text/plain": [
       "<Figure size 1080x360 with 2 Axes>"
      ]
     },
     "metadata": {
      "needs_background": "light"
     },
     "output_type": "display_data"
    }
   ],
   "source": [
    "test_probs = model.predict(test_data)\n",
    "metrics(true_labels, test_probs)"
   ]
  },
  {
   "cell_type": "code",
   "execution_count": 30,
   "metadata": {},
   "outputs": [],
   "source": [
    "#store predictions and true labels for calculating overall F score later\n",
    "fem_predictions =  np.argmax(test_probs, axis = 1)\n",
    "fem_labels = true_labels"
   ]
  },
  {
   "cell_type": "code",
   "execution_count": 31,
   "metadata": {},
   "outputs": [
    {
     "name": "stderr",
     "output_type": "stream",
     "text": [
      "/Users/alexdessouky/anaconda3/lib/python3.6/site-packages/ipykernel_launcher.py:2: FutureWarning: The signature of `Series.to_csv` was aligned to that of `DataFrame.to_csv`, and argument 'header' will change its default value from False to True: please pass an explicit value to suppress this warning.\n",
      "  \n",
      "/Users/alexdessouky/anaconda3/lib/python3.6/site-packages/ipykernel_launcher.py:3: FutureWarning: The signature of `Series.to_csv` was aligned to that of `DataFrame.to_csv`, and argument 'header' will change its default value from False to True: please pass an explicit value to suppress this warning.\n",
      "  This is separate from the ipykernel package so we can avoid doing imports until\n"
     ]
    }
   ],
   "source": [
    "##write predictions to csv files\n",
    "#pd.Series(fem_predictions).to_csv('fem_preds.csv')\n",
    "#pd.Series(fem_labels).to_csv('fem_true.csv')"
   ]
  },
  {
   "cell_type": "markdown",
   "metadata": {},
   "source": [
    "## Overall Performance"
   ]
  },
  {
   "cell_type": "code",
   "execution_count": 3,
   "metadata": {},
   "outputs": [
    {
     "name": "stdout",
     "output_type": "stream",
     "text": [
      "F1 macro score (Favor and Against only) 0.6841072109851525\n",
      "              precision    recall  f1-score   support\n",
      "\n",
      "     Against       0.82      0.65      0.72       608\n",
      "        None       0.51      0.69      0.59       189\n",
      "       Favor       0.59      0.72      0.65       261\n",
      "\n",
      "    accuracy                           0.67      1058\n",
      "   macro avg       0.64      0.69      0.65      1058\n",
      "weighted avg       0.70      0.67      0.68      1058\n",
      "\n"
     ]
    },
    {
     "data": {
      "image/png": "[encoded data removed]",
      "text/plain": [
       "<Figure size 1080x360 with 2 Axes>"
      ]
     },
     "metadata": {
      "needs_background": "light"
     },
     "output_type": "display_data"
    }
   ],
   "source": [
    "#read in predictions\n",
    "aethism_preds = pd.read_csv('final_outputs/atheism_preds.csv',header = None, index_col = 0).values\n",
    "hil_preds = pd.read_csv('final_outputs/hil_preds.csv', header = None, index_col = 0).values\n",
    "abort_preds = pd.read_csv('final_outputs/abort_preds.csv',header = None, index_col = 0).values\n",
    "clim_preds = pd.read_csv('final_outputs/clim_preds.csv', header = None, index_col = 0).values\n",
    "fem_preds = pd.read_csv('final_outputs/fem_preds.csv', header = None, index_col = 0).values\n",
    "\n",
    "#read in true labels\n",
    "aethism_labels = pd.read_csv('final_outputs/atheism_true.csv',header = None, index_col = 0).values\n",
    "hil_labels = pd.read_csv('final_outputs/hil_true.csv', header = None, index_col = 0).values\n",
    "abort_labels = pd.read_csv('final_outputs/abort_true.csv',header = None, index_col = 0).values\n",
    "clim_labels = pd.read_csv('final_outputs/clim_true.csv', header = None, index_col = 0).values\n",
    "fem_labels = pd.read_csv('final_outputs/fem_true.csv', header = None, index_col = 0).values\n",
    "\n",
    "#stack and reshape\n",
    "all_preds = np.vstack((aethism_preds, hil_preds, abort_preds, clim_preds, fem_preds))\n",
    "all_preds = np.reshape(all_preds, (all_preds.shape[0],))\n",
    "\n",
    "all_labels = np.vstack((aethism_labels, hil_labels, abort_labels, clim_labels, fem_labels))\n",
    "all_labels = np.reshape(all_labels, (all_labels.shape[0],))\n",
    "\n",
    "#metrics\n",
    "#calculate f1 score and print classification report\n",
    "class_report = classification_report(y_true = all_labels, \n",
    "                                        y_pred = all_preds,\n",
    "                                        target_names = ['Against', 'None', 'Favor'], output_dict=True)\n",
    "    \n",
    "print(\"F1 macro score (Favor and Against only)\", str((class_report['Favor']['f1-score'] + \n",
    "         class_report['Against']['f1-score']) / 2))\n",
    "    \n",
    "print(classification_report(y_true = all_labels, \n",
    "                                        y_pred = all_preds,\n",
    "                                        target_names = ['Against', 'None', 'Favor']))\n",
    "    \n",
    "confuse = confusion_matrix(y_true = all_labels, y_pred = all_preds)\n",
    "    \n",
    "plt.figure(figsize=(15, 5))\n",
    "confusion_plot(confuse, ['Against', 'None', 'Favor'])\n",
    "plt.show()"
   ]
  },
  {
   "cell_type": "markdown",
   "metadata": {},
   "source": [
    "## ALL"
   ]
  },
  {
   "cell_type": "code",
   "execution_count": null,
   "metadata": {},
   "outputs": [],
   "source": [
    "train_data, train_labels, test_data, test_labels, true_labels = topic_subset(['Hillary Clinton', \n",
    "                                                                              'Legalization of Abortion', \n",
    "                                                                              'Climate Change is a Real Concern',\n",
    "                                                                             'Atheism',\n",
    "                                                                             'Feminist Movement'])\n",
    "\n",
    "\n",
    "#Start session\n",
    "compute_class = compute_class_weight('balanced', np.unique(true_labels), true_labels)\n",
    "weights = {0: compute_class[0], 1:compute_class[1], 2:compute_class[2]}\n",
    "\n",
    "sess = tf.Session()\n",
    "\n",
    "model = bert_model_2(max_length, train_layers=12, optimizer = 'adam')\n",
    "\n",
    "# Instantiate variables\n",
    "initialize_vars(sess)\n",
    "\n",
    "\n",
    "model.fit(\n",
    "    train_data, \n",
    "    train_labels,\n",
    "    validation_data=[test_data, test_labels],\n",
    "    epochs=20,\n",
    "    verbose=1,\n",
    "    batch_size=32,\n",
    "    class_weight = weights)"
   ]
  },
  {
   "cell_type": "code",
   "execution_count": null,
   "metadata": {},
   "outputs": [],
   "source": [
    "test_probs = model.predict(test_data)\n",
    "metrics(true_labels, test_probs)"
   ]
  }
 ],
 "metadata": {
  "kernelspec": {
   "display_name": "Python 3",
   "language": "python",
   "name": "python3"
  },
  "language_info": {
   "codemirror_mode": {
    "name": "ipython",
    "version": 3
   },
   "file_extension": ".py",
   "mimetype": "text/x-python",
   "name": "python",
   "nbconvert_exporter": "python",
   "pygments_lexer": "ipython3",
   "version": "3.7.3"
  }
 },
 "nbformat": 4,
 "nbformat_minor": 2
}
