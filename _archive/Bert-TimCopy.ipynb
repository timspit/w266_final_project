{
 "cells": [
  {
   "cell_type": "markdown",
   "metadata": {},
   "source": [
    "# Twitter Stance Detection  \n",
    "W266 - NLP  \n",
    "Alex Dessouky & Tim Spittle"
   ]
  },
  {
   "cell_type": "markdown",
   "metadata": {},
   "source": [
    "## Setup  \n",
    "\n",
    "### Packages"
   ]
  },
  {
   "cell_type": "code",
   "execution_count": 1,
   "metadata": {},
   "outputs": [],
   "source": [
    "# System and Storage\n",
    "import time\n",
    "import os\n",
    "import sys\n",
    "from datetime import datetime\n",
    "now = datetime.now() # current date and time\n",
    "\n",
    "# Data structures\n",
    "import pandas as pd\n",
    "import numpy as np\n",
    "\n",
    "# Strings\n",
    "import string\n",
    "import re\n",
    "\n",
    "# Pre-Processing\n",
    "from sklearn.preprocessing import OneHotEncoder\n",
    "from itertools import compress\n",
    "from sklearn.utils.class_weight import compute_class_weight\n",
    "\n",
    "# Tensorflow\n",
    "import tensorflow as tf\n",
    "import tensorflow_hub as hub\n",
    "from tensorflow.keras import backend as K\n",
    "from tensorflow.keras import layers\n",
    "from tensorflow.python.keras.layers import Lambda\n",
    "from tensorflow.keras.callbacks import TensorBoard\n",
    "from tensorflow.keras.backend import sparse_categorical_crossentropy\n",
    "from tensorflow.keras.layers import Dense, TimeDistributed\n",
    "\n",
    "from tensorflow.keras.wrappers.scikit_learn import KerasClassifier\n",
    "from sklearn.model_selection import GridSearchCV\n",
    "\n",
    "# Outputs\n",
    "from sklearn.metrics import f1_score\n",
    "from sklearn.metrics import confusion_matrix, classification_report\n",
    "import matplotlib.pyplot as plt\n",
    "%matplotlib inline\n",
    "import seaborn as sns"
   ]
  },
  {
   "cell_type": "markdown",
   "metadata": {},
   "source": [
    "### Paths & Local Packages"
   ]
  },
  {
   "cell_type": "code",
   "execution_count": 2,
   "metadata": {},
   "outputs": [],
   "source": [
    "## PATH STUFF FIRST SO EASY TO SWITCH BETWEEN US ##\n",
    "\n",
    "# Set working directory\n",
    "# os.chdir(\"/Users/alexdessouky/Desktop/MIDS/w266\")\n",
    "# os.chdir(\"/Users/manat/OneDrive/Documents/Tim/MIDS/266_NLP/Final Project\")\n",
    "\n",
    "# Store the paths to bert & data\n",
    "# bert_path =   '/Users/alexdessouky/Desktop/MIDS/w266/bert' \n",
    "# data_path = '/Users/alexdessouky/Desktop/MIDS/w266/w266_final_project/StanceDataset'  \n",
    "# TIM LOCAL\n",
    "# bert_path = r'C:\\Users\\manat\\OneDrive\\Documents\\Tim\\MIDS\\266_NLP\\w266\\bert\\\\' # change as needed\n",
    "# data_path = r'C:\\Users\\manat\\OneDrive\\Documents\\Tim\\MIDS\\266_NLP\\Final Project\\w266_final_project\\StanceDataset'  \n",
    "# TIM CLOUD\n",
    "bert_path = r'/home/timspittle/w266_final_project/bert/' \n",
    "data_path = r'/home/timspittle/w266_final_project/StanceDataset/'  \n",
    "\n",
    "# Make sure that the paths are accessible within the notebook\n",
    "sys.path.insert(0, bert_path)\n",
    "sys.path.insert(0, data_path)"
   ]
  },
  {
   "cell_type": "code",
   "execution_count": 3,
   "metadata": {},
   "outputs": [
    {
     "name": "stdout",
     "output_type": "stream",
     "text": [
      "WARNING:tensorflow:From /home/timspittle/w266_final_project/bert/optimization.py:87: The name tf.train.Optimizer is deprecated. Please use tf.compat.v1.train.Optimizer instead.\n",
      "\n"
     ]
    }
   ],
   "source": [
    "# Packages imported from bert local path\n",
    "import optimization\n",
    "import run_classifier\n",
    "import tokenization\n",
    "import run_classifier_with_tfhub\n",
    "\n",
    "# Tensorflow hub path to BERT module of choice\n",
    "bert_url = \"https://tfhub.dev/google/bert_cased_L-12_H-768_A-12/1\""
   ]
  },
  {
   "cell_type": "markdown",
   "metadata": {},
   "source": [
    "### Import Raw Data"
   ]
  },
  {
   "cell_type": "code",
   "execution_count": 4,
   "metadata": {},
   "outputs": [
    {
     "name": "stdout",
     "output_type": "stream",
     "text": [
      "Training (shape): (2914, 5)\n",
      "Test (shape): (1956, 5)\n"
     ]
    },
    {
     "data": {
      "text/html": [
       "<div>\n",
       "<style scoped>\n",
       "    .dataframe tbody tr th:only-of-type {\n",
       "        vertical-align: middle;\n",
       "    }\n",
       "\n",
       "    .dataframe tbody tr th {\n",
       "        vertical-align: top;\n",
       "    }\n",
       "\n",
       "    .dataframe thead th {\n",
       "        text-align: right;\n",
       "    }\n",
       "</style>\n",
       "<table border=\"1\" class=\"dataframe\">\n",
       "  <thead>\n",
       "    <tr style=\"text-align: right;\">\n",
       "      <th></th>\n",
       "      <th>Tweet</th>\n",
       "      <th>Target</th>\n",
       "      <th>Stance</th>\n",
       "      <th>Opinion Towards</th>\n",
       "      <th>Sentiment</th>\n",
       "    </tr>\n",
       "  </thead>\n",
       "  <tbody>\n",
       "    <tr>\n",
       "      <th>0</th>\n",
       "      <td>@tedcruz And, #HandOverTheServer she wiped cle...</td>\n",
       "      <td>Hillary Clinton</td>\n",
       "      <td>AGAINST</td>\n",
       "      <td>1.  The tweet explicitly expresses opinion abo...</td>\n",
       "      <td>neg</td>\n",
       "    </tr>\n",
       "    <tr>\n",
       "      <th>1</th>\n",
       "      <td>Hillary is our best choice if we truly want to...</td>\n",
       "      <td>Hillary Clinton</td>\n",
       "      <td>FAVOR</td>\n",
       "      <td>1.  The tweet explicitly expresses opinion abo...</td>\n",
       "      <td>pos</td>\n",
       "    </tr>\n",
       "    <tr>\n",
       "      <th>2</th>\n",
       "      <td>@TheView I think our country is ready for a fe...</td>\n",
       "      <td>Hillary Clinton</td>\n",
       "      <td>AGAINST</td>\n",
       "      <td>1.  The tweet explicitly expresses opinion abo...</td>\n",
       "      <td>neg</td>\n",
       "    </tr>\n",
       "    <tr>\n",
       "      <th>3</th>\n",
       "      <td>I just gave an unhealthy amount of my hard-ear...</td>\n",
       "      <td>Hillary Clinton</td>\n",
       "      <td>AGAINST</td>\n",
       "      <td>1.  The tweet explicitly expresses opinion abo...</td>\n",
       "      <td>neg</td>\n",
       "    </tr>\n",
       "    <tr>\n",
       "      <th>4</th>\n",
       "      <td>@PortiaABoulger Thank you for adding me to you...</td>\n",
       "      <td>Hillary Clinton</td>\n",
       "      <td>NONE</td>\n",
       "      <td>3.  The tweet is not explicitly expressing opi...</td>\n",
       "      <td>pos</td>\n",
       "    </tr>\n",
       "  </tbody>\n",
       "</table>\n",
       "</div>"
      ],
      "text/plain": [
       "                                               Tweet           Target  \\\n",
       "0  @tedcruz And, #HandOverTheServer she wiped cle...  Hillary Clinton   \n",
       "1  Hillary is our best choice if we truly want to...  Hillary Clinton   \n",
       "2  @TheView I think our country is ready for a fe...  Hillary Clinton   \n",
       "3  I just gave an unhealthy amount of my hard-ear...  Hillary Clinton   \n",
       "4  @PortiaABoulger Thank you for adding me to you...  Hillary Clinton   \n",
       "\n",
       "    Stance                                    Opinion Towards Sentiment  \n",
       "0  AGAINST  1.  The tweet explicitly expresses opinion abo...       neg  \n",
       "1    FAVOR  1.  The tweet explicitly expresses opinion abo...       pos  \n",
       "2  AGAINST  1.  The tweet explicitly expresses opinion abo...       neg  \n",
       "3  AGAINST  1.  The tweet explicitly expresses opinion abo...       neg  \n",
       "4     NONE  3.  The tweet is not explicitly expressing opi...       pos  "
      ]
     },
     "execution_count": 4,
     "metadata": {},
     "output_type": "execute_result"
    }
   ],
   "source": [
    "# Load data\n",
    "# Training data\n",
    "# twitter_train = pd.read_excel('./w266_final_project/StanceDataset/train.xlsx')\n",
    "twitter_train_raw = pd.read_excel('./StanceDataset/train.xlsx')\n",
    "\n",
    "# Test data\n",
    "# twitter_test = pd.read_excel('./w266_final_project/StanceDataset/test.xlsx')\n",
    "twitter_test_raw = pd.read_excel('./StanceDataset/test.xlsx')\n",
    "\n",
    "print(\"Training (shape): \" + str(twitter_train_raw.shape))\n",
    "print(\"Test (shape): \" + str(twitter_test_raw.shape))\n",
    "twitter_train_raw.head()"
   ]
  },
  {
   "cell_type": "markdown",
   "metadata": {},
   "source": [
    "## Pre-Process Data  \n",
    "\n",
    "### Labels $y$"
   ]
  },
  {
   "cell_type": "code",
   "execution_count": 5,
   "metadata": {},
   "outputs": [
    {
     "name": "stdout",
     "output_type": "stream",
     "text": [
      "['AGAINST' 'FAVOR' 'NONE']\n",
      "[[1. 0. 0.]\n",
      " [0. 1. 0.]\n",
      " [1. 0. 0.]\n",
      " [1. 0. 0.]\n",
      " [0. 0. 1.]]\n"
     ]
    }
   ],
   "source": [
    "# Text Labels (needed for plotting)\n",
    "labels_text_train = np.array(twitter_train_raw['Stance'])\n",
    "labels_text_test = np.array(twitter_test_raw['Stance'])\n",
    "\n",
    "# One-hot Encoder\n",
    "enc_labels = OneHotEncoder(handle_unknown = 'ignore')\n",
    "enc_labels.fit(labels_text_train.reshape(-1, 1))\n",
    "label_categories = enc_labels.categories_[0]\n",
    "\n",
    "# Encoded Labels (for NN)\n",
    "labels_encoded_train = enc_labels.transform(labels_text_train.reshape(-1, 1)).toarray()\n",
    "labels_encoded_test = enc_labels.transform(labels_text_test.reshape(-1, 1)).toarray()\n",
    "\n",
    "print(label_categories)\n",
    "print(labels_encoded_train[:5])"
   ]
  },
  {
   "cell_type": "code",
   "execution_count": 6,
   "metadata": {},
   "outputs": [
    {
     "data": {
      "text/html": [
       "<div>\n",
       "<style scoped>\n",
       "    .dataframe tbody tr th:only-of-type {\n",
       "        vertical-align: middle;\n",
       "    }\n",
       "\n",
       "    .dataframe tbody tr th {\n",
       "        vertical-align: top;\n",
       "    }\n",
       "\n",
       "    .dataframe thead th {\n",
       "        text-align: right;\n",
       "    }\n",
       "</style>\n",
       "<table border=\"1\" class=\"dataframe\">\n",
       "  <thead>\n",
       "    <tr style=\"text-align: right;\">\n",
       "      <th></th>\n",
       "      <th></th>\n",
       "      <th>Tweet</th>\n",
       "    </tr>\n",
       "    <tr>\n",
       "      <th>Target</th>\n",
       "      <th>Stance</th>\n",
       "      <th></th>\n",
       "    </tr>\n",
       "  </thead>\n",
       "  <tbody>\n",
       "    <tr>\n",
       "      <th rowspan=\"3\" valign=\"top\">Atheism</th>\n",
       "      <th>AGAINST</th>\n",
       "      <td>304</td>\n",
       "    </tr>\n",
       "    <tr>\n",
       "      <th>FAVOR</th>\n",
       "      <td>92</td>\n",
       "    </tr>\n",
       "    <tr>\n",
       "      <th>NONE</th>\n",
       "      <td>117</td>\n",
       "    </tr>\n",
       "    <tr>\n",
       "      <th rowspan=\"3\" valign=\"top\">Climate Change is a Real Concern</th>\n",
       "      <th>AGAINST</th>\n",
       "      <td>15</td>\n",
       "    </tr>\n",
       "    <tr>\n",
       "      <th>FAVOR</th>\n",
       "      <td>212</td>\n",
       "    </tr>\n",
       "    <tr>\n",
       "      <th>NONE</th>\n",
       "      <td>168</td>\n",
       "    </tr>\n",
       "    <tr>\n",
       "      <th rowspan=\"3\" valign=\"top\">Feminist Movement</th>\n",
       "      <th>AGAINST</th>\n",
       "      <td>328</td>\n",
       "    </tr>\n",
       "    <tr>\n",
       "      <th>FAVOR</th>\n",
       "      <td>210</td>\n",
       "    </tr>\n",
       "    <tr>\n",
       "      <th>NONE</th>\n",
       "      <td>126</td>\n",
       "    </tr>\n",
       "    <tr>\n",
       "      <th rowspan=\"3\" valign=\"top\">Hillary Clinton</th>\n",
       "      <th>AGAINST</th>\n",
       "      <td>393</td>\n",
       "    </tr>\n",
       "    <tr>\n",
       "      <th>FAVOR</th>\n",
       "      <td>118</td>\n",
       "    </tr>\n",
       "    <tr>\n",
       "      <th>NONE</th>\n",
       "      <td>178</td>\n",
       "    </tr>\n",
       "    <tr>\n",
       "      <th rowspan=\"3\" valign=\"top\">Legalization of Abortion</th>\n",
       "      <th>AGAINST</th>\n",
       "      <td>355</td>\n",
       "    </tr>\n",
       "    <tr>\n",
       "      <th>FAVOR</th>\n",
       "      <td>121</td>\n",
       "    </tr>\n",
       "    <tr>\n",
       "      <th>NONE</th>\n",
       "      <td>177</td>\n",
       "    </tr>\n",
       "  </tbody>\n",
       "</table>\n",
       "</div>"
      ],
      "text/plain": [
       "                                          Tweet\n",
       "Target                           Stance        \n",
       "Atheism                          AGAINST    304\n",
       "                                 FAVOR       92\n",
       "                                 NONE       117\n",
       "Climate Change is a Real Concern AGAINST     15\n",
       "                                 FAVOR      212\n",
       "                                 NONE       168\n",
       "Feminist Movement                AGAINST    328\n",
       "                                 FAVOR      210\n",
       "                                 NONE       126\n",
       "Hillary Clinton                  AGAINST    393\n",
       "                                 FAVOR      118\n",
       "                                 NONE       178\n",
       "Legalization of Abortion         AGAINST    355\n",
       "                                 FAVOR      121\n",
       "                                 NONE       177"
      ]
     },
     "execution_count": 6,
     "metadata": {},
     "output_type": "execute_result"
    }
   ],
   "source": [
    "stance_count_long_train = twitter_train_raw[['Target','Stance', 'Tweet']].groupby(['Target','Stance']).count()\n",
    "stance_count_long_train# stance_count_long_train.pivot(index='Target', columns='Stance', values='Tweet')"
   ]
  },
  {
   "cell_type": "code",
   "execution_count": 7,
   "metadata": {},
   "outputs": [
    {
     "data": {
      "text/html": [
       "<div>\n",
       "<style scoped>\n",
       "    .dataframe tbody tr th:only-of-type {\n",
       "        vertical-align: middle;\n",
       "    }\n",
       "\n",
       "    .dataframe tbody tr th {\n",
       "        vertical-align: top;\n",
       "    }\n",
       "\n",
       "    .dataframe thead th {\n",
       "        text-align: right;\n",
       "    }\n",
       "</style>\n",
       "<table border=\"1\" class=\"dataframe\">\n",
       "  <thead>\n",
       "    <tr style=\"text-align: right;\">\n",
       "      <th></th>\n",
       "      <th></th>\n",
       "      <th>Tweet</th>\n",
       "    </tr>\n",
       "    <tr>\n",
       "      <th>Target</th>\n",
       "      <th>Stance</th>\n",
       "      <th></th>\n",
       "    </tr>\n",
       "  </thead>\n",
       "  <tbody>\n",
       "    <tr>\n",
       "      <th rowspan=\"3\" valign=\"top\">Atheism</th>\n",
       "      <th>AGAINST</th>\n",
       "      <td>160</td>\n",
       "    </tr>\n",
       "    <tr>\n",
       "      <th>FAVOR</th>\n",
       "      <td>32</td>\n",
       "    </tr>\n",
       "    <tr>\n",
       "      <th>NONE</th>\n",
       "      <td>28</td>\n",
       "    </tr>\n",
       "    <tr>\n",
       "      <th rowspan=\"3\" valign=\"top\">Climate Change is a Real Concern</th>\n",
       "      <th>AGAINST</th>\n",
       "      <td>11</td>\n",
       "    </tr>\n",
       "    <tr>\n",
       "      <th>FAVOR</th>\n",
       "      <td>123</td>\n",
       "    </tr>\n",
       "    <tr>\n",
       "      <th>NONE</th>\n",
       "      <td>35</td>\n",
       "    </tr>\n",
       "    <tr>\n",
       "      <th rowspan=\"3\" valign=\"top\">Donald Trump</th>\n",
       "      <th>AGAINST</th>\n",
       "      <td>299</td>\n",
       "    </tr>\n",
       "    <tr>\n",
       "      <th>FAVOR</th>\n",
       "      <td>148</td>\n",
       "    </tr>\n",
       "    <tr>\n",
       "      <th>NONE</th>\n",
       "      <td>260</td>\n",
       "    </tr>\n",
       "    <tr>\n",
       "      <th rowspan=\"3\" valign=\"top\">Feminist Movement</th>\n",
       "      <th>AGAINST</th>\n",
       "      <td>183</td>\n",
       "    </tr>\n",
       "    <tr>\n",
       "      <th>FAVOR</th>\n",
       "      <td>58</td>\n",
       "    </tr>\n",
       "    <tr>\n",
       "      <th>NONE</th>\n",
       "      <td>44</td>\n",
       "    </tr>\n",
       "    <tr>\n",
       "      <th rowspan=\"3\" valign=\"top\">Hillary Clinton</th>\n",
       "      <th>AGAINST</th>\n",
       "      <td>172</td>\n",
       "    </tr>\n",
       "    <tr>\n",
       "      <th>FAVOR</th>\n",
       "      <td>45</td>\n",
       "    </tr>\n",
       "    <tr>\n",
       "      <th>NONE</th>\n",
       "      <td>78</td>\n",
       "    </tr>\n",
       "    <tr>\n",
       "      <th rowspan=\"3\" valign=\"top\">Legalization of Abortion</th>\n",
       "      <th>AGAINST</th>\n",
       "      <td>189</td>\n",
       "    </tr>\n",
       "    <tr>\n",
       "      <th>FAVOR</th>\n",
       "      <td>46</td>\n",
       "    </tr>\n",
       "    <tr>\n",
       "      <th>NONE</th>\n",
       "      <td>45</td>\n",
       "    </tr>\n",
       "  </tbody>\n",
       "</table>\n",
       "</div>"
      ],
      "text/plain": [
       "                                          Tweet\n",
       "Target                           Stance        \n",
       "Atheism                          AGAINST    160\n",
       "                                 FAVOR       32\n",
       "                                 NONE        28\n",
       "Climate Change is a Real Concern AGAINST     11\n",
       "                                 FAVOR      123\n",
       "                                 NONE        35\n",
       "Donald Trump                     AGAINST    299\n",
       "                                 FAVOR      148\n",
       "                                 NONE       260\n",
       "Feminist Movement                AGAINST    183\n",
       "                                 FAVOR       58\n",
       "                                 NONE        44\n",
       "Hillary Clinton                  AGAINST    172\n",
       "                                 FAVOR       45\n",
       "                                 NONE        78\n",
       "Legalization of Abortion         AGAINST    189\n",
       "                                 FAVOR       46\n",
       "                                 NONE        45"
      ]
     },
     "execution_count": 7,
     "metadata": {},
     "output_type": "execute_result"
    }
   ],
   "source": [
    "stance_count_long_test = twitter_test_raw[['Target','Stance', 'Tweet']].groupby(['Target','Stance']).count()\n",
    "stance_count_long_test"
   ]
  },
  {
   "cell_type": "markdown",
   "metadata": {},
   "source": [
    "### Tokens $x$"
   ]
  },
  {
   "cell_type": "code",
   "execution_count": 8,
   "metadata": {},
   "outputs": [
    {
     "name": "stdout",
     "output_type": "stream",
     "text": [
      "Raw: @tedcruz And, #HandOverTheServer she wiped clean + 30k deleted emails, explains dereliction of duty/lies re #Benghazi,etc #tcot\n",
      "Clean: @tedcruz and #handovertheserver she wiped clean  DIGITk deleted emails explains dereliction of dutylies re #benghazietc #tcot\n"
     ]
    }
   ],
   "source": [
    "def preprocess_tweets(x):\n",
    "    \n",
    "    # Remove punctuation EXCEPT for hashtags (#) and handles (@)\n",
    "    exclude_punc = [punc for punc in string.punctuation if punc not in ['#', '@']]\n",
    "    x_nopunc = ''.join(ch for ch in x if ch not in exclude_punc)\n",
    "\n",
    "    # lower case\n",
    "    x_lower = x_nopunc.lower()\n",
    "    \n",
    "    # Replace digits with DIGIT\n",
    "    x_digits = re.sub(\"\\d+\", \"DIGIT\", x_lower)\n",
    "    \n",
    "    return x_digits\n",
    "\n",
    "# Clean tweests\n",
    "twitter_train_raw['tweet_prep'] = np.array(twitter_train_raw['Tweet'].apply(lambda x: preprocess_tweets(x)))\n",
    "twitter_test_raw['tweet_prep'] = np.array(twitter_test_raw['Tweet'].apply(lambda x: preprocess_tweets(x)))\n",
    "\n",
    "# Example tweet\n",
    "print(\"Raw: \" + str(twitter_train_raw['Tweet'][0]))\n",
    "print(\"Clean: \" + str(preprocess_tweets(twitter_train_raw['Tweet'][0])))"
   ]
  },
  {
   "cell_type": "markdown",
   "metadata": {},
   "source": [
    "### Bert tokenizer"
   ]
  },
  {
   "cell_type": "code",
   "execution_count": 9,
   "metadata": {},
   "outputs": [
    {
     "name": "stdout",
     "output_type": "stream",
     "text": [
      "INFO:tensorflow:Saver not created because there are no variables in the graph to restore\n"
     ]
    },
    {
     "name": "stderr",
     "output_type": "stream",
     "text": [
      "INFO:tensorflow:Saver not created because there are no variables in the graph to restore\n"
     ]
    },
    {
     "name": "stdout",
     "output_type": "stream",
     "text": [
      "WARNING:tensorflow:From /home/timspittle/w266_final_project/bert/tokenization.py:125: The name tf.gfile.GFile is deprecated. Please use tf.io.gfile.GFile instead.\n",
      "\n"
     ]
    },
    {
     "name": "stderr",
     "output_type": "stream",
     "text": [
      "WARNING:tensorflow:From /home/timspittle/w266_final_project/bert/tokenization.py:125: The name tf.gfile.GFile is deprecated. Please use tf.io.gfile.GFile instead.\n",
      "\n"
     ]
    }
   ],
   "source": [
    "def create_tokenizer_from_hub_module():\n",
    "    \"\"\"Get the vocab file and casing info from the Hub module.\"\"\"\n",
    "    with tf.Graph().as_default():\n",
    "        bert_module = hub.Module(bert_url)\n",
    "        tokenization_info = bert_module(signature=\"tokenization_info\", as_dict=True)\n",
    "        with tf.Session() as sess:\n",
    "            vocab_file, do_lower_case = sess.run([tokenization_info[\"vocab_file\"],\n",
    "                                            tokenization_info[\"do_lower_case\"]])\n",
    "      \n",
    "    return tokenization.FullTokenizer(\n",
    "      vocab_file=vocab_file, do_lower_case=do_lower_case)\n",
    "\n",
    "tokenizer = create_tokenizer_from_hub_module()"
   ]
  },
  {
   "cell_type": "code",
   "execution_count": 10,
   "metadata": {},
   "outputs": [],
   "source": [
    "# Create tokens surrounded by the [CLS] and [SEP] tokens\n",
    "\n",
    "# IF pre-processed\n",
    "# tokens_train = twitter_train_raw['tweet_prep'].apply(lambda x: ['[CLS]'] + tokenizer.tokenize(x) + ['[SEP]'])\n",
    "# tokens_test = twitter_test_raw['tweet_prep'].apply(lambda x: ['[CLS]'] + tokenizer.tokenize(x) + ['[SEP]'])\n",
    "\n",
    "# ELSE as-is\n",
    "tokens_train = twitter_train_raw['Tweet'].apply(lambda x: ['[CLS]'] + tokenizer.tokenize(x) + ['[SEP]'])\n",
    "tokens_test = twitter_test_raw['Tweet'].apply(lambda x: ['[CLS]'] + tokenizer.tokenize(x) + ['[SEP]'])"
   ]
  },
  {
   "cell_type": "code",
   "execution_count": 11,
   "metadata": {},
   "outputs": [],
   "source": [
    "# Define maximal length of input 'sentences' (post tokenization).\n",
    "sen_length_list = []\n",
    "for sent in tokens_train.append(tokens_test):\n",
    "    sen_length_list.append(len(sent))\n",
    "max_length = np.max(sen_length_list)"
   ]
  },
  {
   "cell_type": "code",
   "execution_count": 12,
   "metadata": {},
   "outputs": [],
   "source": [
    "def bert_lists(tokens_in, max_length_in):\n",
    "\n",
    "    # Mask ids (mask out the paddings)\n",
    "    mask_ids = tokens_in.apply(lambda x: len(x)*[1])\n",
    "    \n",
    "    mask_ids = mask_ids.apply(lambda x: np.array(x + (max_length_in - len(x)) * [0])\n",
    "                              if len(x) < max_length_in else np.array(x)).tolist()\n",
    "    \n",
    "    # Add padding to tokens\n",
    "    tokens_pad = tokens_in.apply(lambda x: x + (max_length_in - len(x)) * ['[PAD]'] if len(x) < max_length_in else x)\n",
    "    \n",
    "    # Sequence vectors\n",
    "    sequenceids = tokens_pad.apply(lambda x: np.array(max_length_in*[0])).tolist()\n",
    "    \n",
    "    # Convert tokens to sentence ids\n",
    "    sentenceids = tokens_pad.apply(lambda x: tokenizer.convert_tokens_to_ids(x)).tolist()\n",
    "    \n",
    "    # Bert features\n",
    "    bert = [np.array(sentenceids), np.array(mask_ids), np.array(sequenceids)]\n",
    "    return(bert)"
   ]
  },
  {
   "cell_type": "code",
   "execution_count": 13,
   "metadata": {},
   "outputs": [],
   "source": [
    "bert_train = bert_lists(tokens_in = tokens_train, max_length_in = max_length)\n",
    "bert_test = bert_lists(tokens_in = tokens_test, max_length_in = max_length)"
   ]
  },
  {
   "cell_type": "code",
   "execution_count": 14,
   "metadata": {},
   "outputs": [
    {
     "name": "stdout",
     "output_type": "stream",
     "text": [
      "@tedcruz and #handovertheserver she wiped clean  DIGITk deleted emails explains dereliction of dutylies re #benghazietc #tcot\n",
      "['[CLS]', '@', 'te', '##d', '##c', '##ru', '##z', 'And', ',', '#', 'Hand', '##O', '##ver', '##T', '##he', '##S', '##erve', '##r', 'she', 'wiped', 'clean', '+', '30', '##k', 'deleted', 'emails', ',', 'explains', 'der', '##eli', '##ction', 'of', 'duty', '/', 'lies', 're', '#', 'Ben', '##gh', '##azi', ',', 'etc', '#', 't', '##cot', '[SEP]']\n",
      "[[  101   137 21359 ...     0     0     0]\n",
      " [  101 20001  1110 ...     0     0     0]\n",
      " [  101   137  1109 ...     0     0     0]\n",
      " ...\n",
      " [  101  1731  9164 ...     0     0     0]\n",
      " [  101 26933  2266 ...     0     0     0]\n",
      " [  101   108   153 ...     0     0     0]]\n",
      "[[1 1 1 ... 0 0 0]\n",
      " [1 1 1 ... 0 0 0]\n",
      " [1 1 1 ... 0 0 0]\n",
      " ...\n",
      " [1 1 1 ... 0 0 0]\n",
      " [1 1 1 ... 0 0 0]\n",
      " [1 1 1 ... 0 0 0]]\n",
      "[[0 0 0 ... 0 0 0]\n",
      " [0 0 0 ... 0 0 0]\n",
      " [0 0 0 ... 0 0 0]\n",
      " ...\n",
      " [0 0 0 ... 0 0 0]\n",
      " [0 0 0 ... 0 0 0]\n",
      " [0 0 0 ... 0 0 0]]\n"
     ]
    }
   ],
   "source": [
    "print(twitter_train_raw['tweet_prep'][0])\n",
    "print(tokens_train[0])\n",
    "# NOTES: why such small tokens? e.g. benghazi and ted cruz have to be important tokens by themselves, right?\n",
    "    # If mask token is \"#\" we're losing out on hashtags\n",
    "print(bert_train[0])\n",
    "# NOTES: converting tokens to IDs makes sense, why call them sentence IDs?\n",
    "print(bert_train[1])\n",
    "# NOTES: is this just a 0 for PADs?\n",
    "print(bert_train[2])\n",
    "# NOTES: what the hell is this? all 0's?"
   ]
  },
  {
   "cell_type": "code",
   "execution_count": 15,
   "metadata": {},
   "outputs": [
    {
     "name": "stdout",
     "output_type": "stream",
     "text": [
      "(2914, 83), (2914, 83), (2914, 83)\n",
      "(2914, 3)\n",
      "(1956, 83), (1956, 83), (1956, 83)\n",
      "(1956, 3)\n"
     ]
    }
   ],
   "source": [
    "# CHECK SIZES\n",
    "print(str(bert_train[0].shape) +\", \"+  str(bert_train[1].shape) +\", \"+ str(bert_train[2].shape))\n",
    "print(labels_encoded_train.shape)\n",
    "\n",
    "print(str(bert_test[0].shape) +\", \"+  str(bert_test[1].shape) +\", \"+ str(bert_test[2].shape))\n",
    "print(labels_encoded_test.shape)"
   ]
  },
  {
   "cell_type": "markdown",
   "metadata": {},
   "source": [
    "## Subset by Target"
   ]
  },
  {
   "cell_type": "code",
   "execution_count": 16,
   "metadata": {},
   "outputs": [],
   "source": [
    "def topic_subset(targets_in, labels_text_in, labels_encoded_in, bert_in, topic_in):\n",
    "        \n",
    "    # Convert topic lower case\n",
    "    topic_in = topic_in.lower()\n",
    "    \n",
    "    # Find boolean series of all rows pertaining to the relevant topics\n",
    "    matches_target_topic = targets_in.apply(lambda x: x.lower() == topic_in)\n",
    "    \n",
    "    # LABELS\n",
    "    labels_text_sub = labels_text_in[matches_target_topic]\n",
    "    labels_encoded_sub = labels_encoded_in[matches_target_topic,:]\n",
    "    compute_class = compute_class_weight('balanced', np.unique(labels_text_sub), labels_text_sub)\n",
    "    weights = {0: compute_class[0], 1:compute_class[1], 2:compute_class[2]}\n",
    "    \n",
    "    # BERT\n",
    "    bert_sub = []\n",
    "    for input_list in bert_in:\n",
    "        bert_sub.append(input_list[matches_target_topic])\n",
    "        \n",
    "    # Output Dictionary\n",
    "    subset_dict = {}\n",
    "    subset_dict['target'] = topic_in\n",
    "    subset_dict['labels_text'] = labels_text_sub\n",
    "    subset_dict['labels_encoded'] = labels_encoded_sub\n",
    "    subset_dict['class_weights'] = weights\n",
    "    subset_dict['bert'] = bert_sub\n",
    "    \n",
    "    return subset_dict"
   ]
  },
  {
   "cell_type": "code",
   "execution_count": 17,
   "metadata": {},
   "outputs": [
    {
     "data": {
      "text/plain": [
       "['Atheism',\n",
       " 'Climate Change is a Real Concern',\n",
       " 'Feminist Movement',\n",
       " 'Hillary Clinton',\n",
       " 'Legalization of Abortion']"
      ]
     },
     "execution_count": 17,
     "metadata": {},
     "output_type": "execute_result"
    }
   ],
   "source": [
    "target_list = list(set(twitter_train_raw['Target']))\n",
    "target_list.sort()\n",
    "target_atheism = target_list[0]\n",
    "target_climate_change = target_list[1]\n",
    "target_feminism = target_list[2]\n",
    "target_hillary = target_list[3]\n",
    "target_abortion = target_list[4]\n",
    "target_list"
   ]
  },
  {
   "cell_type": "code",
   "execution_count": 18,
   "metadata": {},
   "outputs": [],
   "source": [
    "#### Abortion\n",
    "abortion_train_subset = topic_subset(targets_in = twitter_train_raw['Target'], \n",
    "                                    labels_text_in = labels_text_train, \n",
    "                                    labels_encoded_in = labels_encoded_train, \n",
    "                                    bert_in = bert_train, \n",
    "                                    topic_in = target_abortion)\n",
    "\n",
    "abortion_test_subset = topic_subset(targets_in = twitter_test_raw['Target'], \n",
    "                                    labels_text_in = labels_text_test, \n",
    "                                    labels_encoded_in = labels_encoded_test, \n",
    "                                    bert_in = bert_test, \n",
    "                                    topic_in = target_abortion)"
   ]
  },
  {
   "cell_type": "code",
   "execution_count": 19,
   "metadata": {},
   "outputs": [],
   "source": [
    "#### Atheism\n",
    "atheism_train_subset = topic_subset(targets_in = twitter_train_raw['Target'], \n",
    "                                    labels_text_in = labels_text_train, \n",
    "                                    labels_encoded_in = labels_encoded_train, \n",
    "                                    bert_in = bert_train, \n",
    "                                    topic_in = target_atheism)\n",
    "\n",
    "atheism_test_subset = topic_subset(targets_in = twitter_test_raw['Target'], \n",
    "                                    labels_text_in = labels_text_test, \n",
    "                                    labels_encoded_in = labels_encoded_test, \n",
    "                                    bert_in = bert_test, \n",
    "                                    topic_in = target_atheism)"
   ]
  },
  {
   "cell_type": "code",
   "execution_count": 20,
   "metadata": {},
   "outputs": [],
   "source": [
    "#### Climate Change\n",
    "climate_change_train_subset = topic_subset(targets_in = twitter_train_raw['Target'], \n",
    "                                    labels_text_in = labels_text_train, \n",
    "                                    labels_encoded_in = labels_encoded_train, \n",
    "                                    bert_in = bert_train, \n",
    "                                    topic_in = target_climate_change)\n",
    "\n",
    "climate_change_test_subset = topic_subset(targets_in = twitter_test_raw['Target'], \n",
    "                                    labels_text_in = labels_text_test, \n",
    "                                    labels_encoded_in = labels_encoded_test, \n",
    "                                    bert_in = bert_test, \n",
    "                                    topic_in = target_climate_change)"
   ]
  },
  {
   "cell_type": "code",
   "execution_count": 21,
   "metadata": {},
   "outputs": [],
   "source": [
    "#### Feminism\n",
    "feminism_train_subset = topic_subset(targets_in = twitter_train_raw['Target'], \n",
    "                                    labels_text_in = labels_text_train, \n",
    "                                    labels_encoded_in = labels_encoded_train, \n",
    "                                    bert_in = bert_train, \n",
    "                                    topic_in = target_feminism)\n",
    "\n",
    "feminism_test_subset = topic_subset(targets_in = twitter_test_raw['Target'], \n",
    "                                    labels_text_in = labels_text_test, \n",
    "                                    labels_encoded_in = labels_encoded_test, \n",
    "                                    bert_in = bert_test, \n",
    "                                    topic_in = target_feminism)"
   ]
  },
  {
   "cell_type": "code",
   "execution_count": 22,
   "metadata": {},
   "outputs": [],
   "source": [
    "#### Hillary\n",
    "hillary_train_subset = topic_subset(targets_in = twitter_train_raw['Target'], \n",
    "                                    labels_text_in = labels_text_train, \n",
    "                                    labels_encoded_in = labels_encoded_train, \n",
    "                                    bert_in = bert_train, \n",
    "                                    topic_in = target_hillary)\n",
    "\n",
    "hillary_test_subset = topic_subset(targets_in = twitter_test_raw['Target'], \n",
    "                                    labels_text_in = labels_text_test, \n",
    "                                    labels_encoded_in = labels_encoded_test, \n",
    "                                    bert_in = bert_test, \n",
    "                                    topic_in = target_hillary)"
   ]
  },
  {
   "cell_type": "code",
   "execution_count": 23,
   "metadata": {},
   "outputs": [
    {
     "data": {
      "text/plain": [
       "True"
      ]
     },
     "execution_count": 23,
     "metadata": {},
     "output_type": "execute_result"
    }
   ],
   "source": [
    "len(twitter_train_raw['Target']) == len(abortion_train_subset['labels_text']) + len(atheism_train_subset['labels_text']) + len(climate_change_train_subset['labels_text']) + len(feminism_train_subset['labels_text']) + len(hillary_train_subset['labels_text'])"
   ]
  },
  {
   "cell_type": "markdown",
   "metadata": {},
   "source": [
    "## Custom layer to create Bert"
   ]
  },
  {
   "cell_type": "code",
   "execution_count": 24,
   "metadata": {},
   "outputs": [],
   "source": [
    "class BertLayer(tf.keras.layers.Layer):\n",
    "    def __init__(self, n_fine_tune_layers=10, **kwargs):\n",
    "        self.n_fine_tune_layers = n_fine_tune_layers\n",
    "        self.trainable = True\n",
    "        self.output_size = 768\n",
    "        super(BertLayer, self).__init__(**kwargs)\n",
    "\n",
    "    def build(self, input_shape):\n",
    "        self.bert = hub.Module(\n",
    "            bert_url,\n",
    "            trainable=self.trainable,\n",
    "            name=\"{}_module\".format(self.name)\n",
    "        )\n",
    "        trainable_vars = self.bert.variables\n",
    "        \n",
    "        # Remove unused layers\n",
    "        trainable_vars = [var for var in trainable_vars if not \"/cls/\" in var.name and not \"/pooler/\" in var.name]\n",
    "        \n",
    "        # Select how many layers to fine tune\n",
    "        trainable_vars = trainable_vars[-self.n_fine_tune_layers :]\n",
    "        \n",
    "        # Add to trainable weights\n",
    "        for var in trainable_vars:\n",
    "            self._trainable_weights.append(var)\n",
    "        \n",
    "        # Add non-trainable weights\n",
    "        for var in self.bert.variables:\n",
    "            if var not in self._trainable_weights:\n",
    "                self._non_trainable_weights.append(var)\n",
    "        \n",
    "        super(BertLayer, self).build(input_shape)\n",
    "\n",
    "    def call(self, inputs):\n",
    "        inputs = [K.cast(x, dtype=\"int32\") for x in inputs]\n",
    "        input_ids, input_mask, segment_ids = inputs\n",
    "        bert_inputs = dict(\n",
    "            input_ids=input_ids, input_mask=input_mask, segment_ids=segment_ids\n",
    "        )\n",
    "        result = self.bert(inputs=bert_inputs, signature=\"tokens\", as_dict=True)[\n",
    "            \"sequence_output\"\n",
    "        ]\n",
    "        \n",
    "        mul_mask = lambda x, m: x * tf.expand_dims(m, axis=-1)\n",
    "        \n",
    "        return result\n",
    "\n",
    "    def compute_output_shape(self, input_shape):\n",
    "        return (input_shape[0], self.output_size)"
   ]
  },
  {
   "cell_type": "markdown",
   "metadata": {},
   "source": [
    "## Define Model"
   ]
  },
  {
   "cell_type": "code",
   "execution_count": 54,
   "metadata": {},
   "outputs": [],
   "source": [
    "def custom_loss(y_true, y_pred):\n",
    "    return f1_score(y_true, y_pred, labels = [0,1], average = 'macro')"
   ]
  },
  {
   "cell_type": "code",
   "execution_count": 59,
   "metadata": {},
   "outputs": [
    {
     "data": {
      "text/plain": [
       "0.3683083511777302"
      ]
     },
     "execution_count": 59,
     "metadata": {},
     "output_type": "execute_result"
    }
   ],
   "source": [
    "custom_loss(y_true = hillary_test_subset['labels_encoded'], \n",
    "            y_pred = max_class_pred_hillary)"
   ]
  },
  {
   "cell_type": "code",
   "execution_count": 63,
   "metadata": {},
   "outputs": [],
   "source": [
    "# NTOE: paramterized a lot of this setup\n",
    "\n",
    "def bert_lstm_model(max_length_in, optimizer, \n",
    "                    bert_fine_tune_layers = 15, learning_rate_in = 0.01, dropout_rate_in = 0.8):\n",
    "    \n",
    "    in_id = tf.keras.layers.Input(shape=(max_length_in,), name=\"input_ids\")\n",
    "    in_mask = tf.keras.layers.Input(shape=(max_length_in,), name=\"input_masks\")\n",
    "    in_segment = tf.keras.layers.Input(shape=(max_length_in,), name=\"segment_ids\")\n",
    "    \n",
    "    bert_inputs = [in_id, in_mask, in_segment]\n",
    "    bert_sequence = BertLayer(n_fine_tune_layers=bert_fine_tune_layers)(bert_inputs)\n",
    "    dropout1= tf.keras.layers.Dropout(rate=dropout_rate_in)(bert_sequence)\n",
    "    \n",
    "    # Bi-Directional?\n",
    "    lstm1 = tf.keras.layers.LSTM(128, name='lstm1')(dropout1)\n",
    "    \n",
    "    dense1 = tf.keras.layers.Dense(64, \n",
    "                                   activation='relu', \n",
    "                                   kernel_initializer = tf.keras.initializers.he_normal(), \n",
    "                                   name='dense1')(lstm1)\n",
    "    dropout2 = tf.keras.layers.Dropout(rate=dropout_rate_in)(dense1)\n",
    "    \n",
    "    pred = tf.keras.layers.Dense(3, activation='softmax', name='classification')(dropout2)\n",
    "    \n",
    "    tf.keras.optimizers.Adam(learning_rate=learning_rate_in)\n",
    "    model = tf.keras.models.Model(inputs=bert_inputs, outputs=pred)\n",
    "    model.compile(loss='categorical_crossentropy', optimizer=optimizer, metrics = ['categorical_accuracy'])\n",
    "#     model.compile(loss=custom_loss, optimizer=optimizer, metrics = ['categorical_accuracy'])\n",
    "    model.summary()\n",
    "    \n",
    "    return model\n",
    "\n",
    "def initialize_vars(sess):\n",
    "    sess.run(tf.local_variables_initializer())\n",
    "    sess.run(tf.global_variables_initializer())\n",
    "    sess.run(tf.tables_initializer())\n",
    "    K.set_session(sess)"
   ]
  },
  {
   "cell_type": "code",
   "execution_count": 56,
   "metadata": {},
   "outputs": [],
   "source": [
    "def confusion_plot(confusion_matrix, target_names):\n",
    "    # Plot confusion matrix (via imshow)\n",
    "    plt.imshow(confusion_matrix, interpolation = \"nearest\", cmap = plt.cm.Blues)\n",
    "    plt.title(\"Confusion matrix\")\n",
    "    plt.colorbar()\n",
    "    tick_marks = np.arange(len(target_names))\n",
    "    plt.xticks(tick_marks, target_names)\n",
    "    plt.yticks(tick_marks, target_names)\n",
    "    plt.ylim([-0.5, 2.5]) # Fixed values for now\n",
    "    plt.tight_layout()\n",
    "\n",
    "    # Loop through each value of the matrix to add data labels\n",
    "    width, height = confusion_matrix.shape\n",
    "    for x in range(width):\n",
    "        for y in range(height):\n",
    "            plt.annotate(str(confusion_matrix[x][y]), xy = (y, x), \n",
    "                        horizontalalignment = \"center\",\n",
    "                        verticalalignment = \"center\")\n",
    "    plt.ylabel(\"True label\")\n",
    "    plt.xlabel(\"Predicted label\")"
   ]
  },
  {
   "cell_type": "code",
   "execution_count": 57,
   "metadata": {},
   "outputs": [],
   "source": [
    "def standard_metrics(true_labels, test_probs, label_titles):\n",
    "    # Find predicted labels\n",
    "    test_prob_max = np.argmax(test_probs, axis = 1)\n",
    "\n",
    "    test_predicts = []\n",
    "    for i in range(len(test_prob_max)):\n",
    "        test_predicts.append(label_titles[test_prob_max[i]])\n",
    "    \n",
    "    # F1 score\n",
    "    f1 = f1_score(true_labels, test_predicts, labels = label_titles[:2], average = 'macro')\n",
    "    print(\"F1 macro score (AGINST and FAVOR only):\", f1)\n",
    "    \n",
    "    # Classification Report\n",
    "    print(classification_report(y_true = true_labels, \n",
    "                                y_pred = test_predicts,\n",
    "                                target_names = label_titles))\n",
    "    \n",
    "    # Confusion Matrix plot\n",
    "    confuse = confusion_matrix(y_true = true_labels, y_pred = test_predicts)\n",
    "    plt.figure(figsize = (20, 5))\n",
    "    confusion_plot(confuse, label_titles)\n",
    "    plt.show()"
   ]
  },
  {
   "cell_type": "markdown",
   "metadata": {},
   "source": [
    "## Hyperparameter Tuning  \n",
    "### Hillary"
   ]
  },
  {
   "cell_type": "markdown",
   "metadata": {},
   "source": [
    "#### Baseline"
   ]
  },
  {
   "cell_type": "code",
   "execution_count": 60,
   "metadata": {},
   "outputs": [],
   "source": [
    "unique_hillary, unique_count_hillary = np.unique(hillary_train_subset['labels_text'], return_counts=True)\n",
    "max_class_hillary = unique_hillary[np.argmax(unique_count_hillary)]\n",
    "class_template = np.zeros(3)\n",
    "class_template[np.argmax(unique_count_hillary)] = 1\n",
    "max_class_pred_hillary = np.tile(class_template, reps = (len(hillary_test_subset['labels_text']), 1))"
   ]
  },
  {
   "cell_type": "code",
   "execution_count": 61,
   "metadata": {
    "scrolled": false
   },
   "outputs": [
    {
     "name": "stdout",
     "output_type": "stream",
     "text": [
      "F1 macro score (AGINST and FAVOR only): 0.3683083511777302\n",
      "              precision    recall  f1-score   support\n",
      "\n",
      "     AGAINST       0.58      1.00      0.74       172\n",
      "       FAVOR       0.00      0.00      0.00        45\n",
      "        NONE       0.00      0.00      0.00        78\n",
      "\n",
      "    accuracy                           0.58       295\n",
      "   macro avg       0.19      0.33      0.25       295\n",
      "weighted avg       0.34      0.58      0.43       295\n",
      "\n"
     ]
    },
    {
     "data": {
      "image/png": "[encoded data removed]",
      "text/plain": [
       "<Figure size 1440x360 with 2 Axes>"
      ]
     },
     "metadata": {
      "needs_background": "light"
     },
     "output_type": "display_data"
    }
   ],
   "source": [
    "standard_metrics(true_labels = hillary_test_subset['labels_text'], \n",
    "                 test_probs = max_class_pred_hillary,\n",
    "                 label_titles = label_categories)"
   ]
  },
  {
   "cell_type": "markdown",
   "metadata": {},
   "source": [
    "#### Iterate Model"
   ]
  },
  {
   "cell_type": "code",
   "execution_count": 64,
   "metadata": {
    "scrolled": true
   },
   "outputs": [
    {
     "name": "stdout",
     "output_type": "stream",
     "text": [
      "INFO:tensorflow:Saver not created because there are no variables in the graph to restore\n"
     ]
    },
    {
     "name": "stderr",
     "output_type": "stream",
     "text": [
      "INFO:tensorflow:Saver not created because there are no variables in the graph to restore\n"
     ]
    },
    {
     "name": "stdout",
     "output_type": "stream",
     "text": [
      "Model: \"model_1\"\n",
      "__________________________________________________________________________________________________\n",
      "Layer (type)                    Output Shape         Param #     Connected to                     \n",
      "==================================================================================================\n",
      "input_ids (InputLayer)          [(None, 83)]         0                                            \n",
      "__________________________________________________________________________________________________\n",
      "input_masks (InputLayer)        [(None, 83)]         0                                            \n",
      "__________________________________________________________________________________________________\n",
      "segment_ids (InputLayer)        [(None, 83)]         0                                            \n",
      "__________________________________________________________________________________________________\n",
      "bert_layer_1 (BertLayer)        (None, None, 768)    108931396   input_ids[0][0]                  \n",
      "                                                                 input_masks[0][0]                \n",
      "                                                                 segment_ids[0][0]                \n",
      "__________________________________________________________________________________________________\n",
      "dropout_2 (Dropout)             (None, None, 768)    0           bert_layer_1[0][0]               \n",
      "__________________________________________________________________________________________________\n",
      "lstm1 (LSTM)                    (None, 128)          459264      dropout_2[0][0]                  \n",
      "__________________________________________________________________________________________________\n",
      "dense1 (Dense)                  (None, 64)           8256        lstm1[0][0]                      \n",
      "__________________________________________________________________________________________________\n",
      "dropout_3 (Dropout)             (None, 64)           0           dense1[0][0]                     \n",
      "__________________________________________________________________________________________________\n",
      "classification (Dense)          (None, 3)            195         dropout_3[0][0]                  \n",
      "==================================================================================================\n",
      "Total params: 109,399,111\n",
      "Trainable params: 5,191,683\n",
      "Non-trainable params: 104,207,428\n",
      "__________________________________________________________________________________________________\n",
      "Epoch 1/20\n",
      "689/689 - 42s - loss: 1.0678 - categorical_accuracy: 0.3759\n",
      "Epoch 2/20\n",
      "689/689 - 39s - loss: 0.9235 - categorical_accuracy: 0.4427\n",
      "Epoch 3/20\n",
      "689/689 - 39s - loss: 0.8147 - categorical_accuracy: 0.4949\n",
      "Epoch 4/20\n",
      "689/689 - 39s - loss: 0.7840 - categorical_accuracy: 0.5414\n",
      "Epoch 5/20\n",
      "689/689 - 39s - loss: 0.6157 - categorical_accuracy: 0.6821\n",
      "Epoch 6/20\n",
      "689/689 - 39s - loss: 0.4913 - categorical_accuracy: 0.7634\n",
      "Epoch 7/20\n",
      "689/689 - 39s - loss: 0.3535 - categorical_accuracy: 0.8374\n",
      "Epoch 8/20\n",
      "689/689 - 39s - loss: 0.2312 - categorical_accuracy: 0.9071\n",
      "Epoch 9/20\n",
      "689/689 - 39s - loss: 0.1769 - categorical_accuracy: 0.9347\n",
      "Epoch 10/20\n",
      "689/689 - 39s - loss: 0.1611 - categorical_accuracy: 0.9274\n",
      "Epoch 11/20\n",
      "689/689 - 41s - loss: 0.1214 - categorical_accuracy: 0.9521\n",
      "Epoch 12/20\n",
      "689/689 - 43s - loss: 0.1949 - categorical_accuracy: 0.9289\n",
      "Epoch 13/20\n",
      "689/689 - 42s - loss: 0.1701 - categorical_accuracy: 0.9260\n",
      "Epoch 14/20\n",
      "689/689 - 41s - loss: 0.1478 - categorical_accuracy: 0.9492\n",
      "Epoch 15/20\n",
      "689/689 - 39s - loss: 0.1174 - categorical_accuracy: 0.9521\n",
      "Epoch 16/20\n",
      "689/689 - 39s - loss: 0.0525 - categorical_accuracy: 0.9826\n",
      "Epoch 17/20\n",
      "689/689 - 39s - loss: 0.0198 - categorical_accuracy: 0.9971\n",
      "Epoch 18/20\n",
      "689/689 - 39s - loss: 0.0179 - categorical_accuracy: 0.9927\n",
      "Epoch 19/20\n",
      "689/689 - 39s - loss: 0.0129 - categorical_accuracy: 0.9985\n",
      "Epoch 20/20\n",
      "689/689 - 39s - loss: 0.0065 - categorical_accuracy: 0.9971\n",
      "F1 macro score (AGINST and FAVOR only): 0.6059783519319057\n",
      "              precision    recall  f1-score   support\n",
      "\n",
      "     AGAINST       0.75      0.75      0.75       172\n",
      "       FAVOR       0.48      0.44      0.46        45\n",
      "        NONE       0.68      0.72      0.70        78\n",
      "\n",
      "    accuracy                           0.69       295\n",
      "   macro avg       0.64      0.64      0.64       295\n",
      "weighted avg       0.69      0.69      0.69       295\n",
      "\n"
     ]
    },
    {
     "data": {
      "image/png": "[encoded data removed]",
      "text/plain": [
       "<Figure size 1440x360 with 2 Axes>"
      ]
     },
     "metadata": {
      "needs_background": "light"
     },
     "output_type": "display_data"
    }
   ],
   "source": [
    "sess = tf.Session()\n",
    "\n",
    "model_hillary = bert_lstm_model(max_length_in = max_length, \n",
    "                                bert_fine_tune_layers = 6, \n",
    "                                optimizer = 'adam',\n",
    "                                learning_rate_in = 0.01,\n",
    "                                dropout_rate_in = 0.5)\n",
    "\n",
    "initialize_vars(sess)\n",
    "\n",
    "model_hillary.fit(\n",
    "    x = hillary_train_subset['bert'], \n",
    "    y = hillary_train_subset['labels_encoded'],\n",
    "#     validation_split = 0.1,\n",
    "    shuffle = True,\n",
    "    epochs = 20,\n",
    "    verbose = 2,\n",
    "    batch_size = 32,\n",
    "    class_weight = hillary_train_subset['class_weights'])\n",
    "\n",
    "pred_test_hillary = model_hillary.predict(x = hillary_test_subset['bert'])\n",
    "\n",
    "standard_metrics(true_labels = hillary_test_subset['labels_text'], \n",
    "                 test_probs = pred_test_hillary,\n",
    "                 label_titles = label_categories)"
   ]
  },
  {
   "cell_type": "code",
   "execution_count": 40,
   "metadata": {
    "scrolled": true
   },
   "outputs": [
    {
     "name": "stdout",
     "output_type": "stream",
     "text": [
      "INFO:tensorflow:Saver not created because there are no variables in the graph to restore\n"
     ]
    },
    {
     "name": "stderr",
     "output_type": "stream",
     "text": [
      "INFO:tensorflow:Saver not created because there are no variables in the graph to restore\n"
     ]
    },
    {
     "name": "stdout",
     "output_type": "stream",
     "text": [
      "Model: \"model_10\"\n",
      "__________________________________________________________________________________________________\n",
      "Layer (type)                    Output Shape         Param #     Connected to                     \n",
      "==================================================================================================\n",
      "input_ids (InputLayer)          [(None, 83)]         0                                            \n",
      "__________________________________________________________________________________________________\n",
      "input_masks (InputLayer)        [(None, 83)]         0                                            \n",
      "__________________________________________________________________________________________________\n",
      "segment_ids (InputLayer)        [(None, 83)]         0                                            \n",
      "__________________________________________________________________________________________________\n",
      "bert_layer_10 (BertLayer)       (None, None, 768)    108931396   input_ids[0][0]                  \n",
      "                                                                 input_masks[0][0]                \n",
      "                                                                 segment_ids[0][0]                \n",
      "__________________________________________________________________________________________________\n",
      "dropout_20 (Dropout)            (None, None, 768)    0           bert_layer_10[0][0]              \n",
      "__________________________________________________________________________________________________\n",
      "lstm1 (LSTM)                    (None, 128)          459264      dropout_20[0][0]                 \n",
      "__________________________________________________________________________________________________\n",
      "dense1 (Dense)                  (None, 64)           8256        lstm1[0][0]                      \n",
      "__________________________________________________________________________________________________\n",
      "dropout_21 (Dropout)            (None, 64)           0           dense1[0][0]                     \n",
      "__________________________________________________________________________________________________\n",
      "classification (Dense)          (None, 3)            195         dropout_21[0][0]                 \n",
      "==================================================================================================\n",
      "Total params: 109,399,111\n",
      "Trainable params: 5,191,683\n",
      "Non-trainable params: 104,207,428\n",
      "__________________________________________________________________________________________________\n",
      "Epoch 1/20\n",
      "689/689 - 44s - loss: 1.1493 - categorical_accuracy: 0.3628\n",
      "Epoch 2/20\n",
      "689/689 - 39s - loss: 0.9521 - categorical_accuracy: 0.4369\n",
      "Epoch 3/20\n",
      "689/689 - 39s - loss: 0.8282 - categorical_accuracy: 0.5457\n",
      "Epoch 4/20\n",
      "689/689 - 39s - loss: 0.7132 - categorical_accuracy: 0.6313\n",
      "Epoch 5/20\n",
      "689/689 - 39s - loss: 0.5647 - categorical_accuracy: 0.6909\n",
      "Epoch 6/20\n",
      "689/689 - 39s - loss: 0.3778 - categorical_accuracy: 0.8287\n",
      "Epoch 7/20\n",
      "689/689 - 39s - loss: 0.3238 - categorical_accuracy: 0.8766\n",
      "Epoch 8/20\n",
      "689/689 - 39s - loss: 0.2738 - categorical_accuracy: 0.8795\n",
      "Epoch 9/20\n",
      "689/689 - 40s - loss: 0.1910 - categorical_accuracy: 0.9245\n",
      "Epoch 10/20\n",
      "689/689 - 39s - loss: 0.0879 - categorical_accuracy: 0.9681\n",
      "Epoch 11/20\n",
      "689/689 - 39s - loss: 0.0886 - categorical_accuracy: 0.9710\n",
      "Epoch 12/20\n",
      "689/689 - 39s - loss: 0.0716 - categorical_accuracy: 0.9753\n",
      "Epoch 13/20\n",
      "689/689 - 38s - loss: 0.0667 - categorical_accuracy: 0.9826\n",
      "Epoch 14/20\n",
      "689/689 - 38s - loss: 0.1144 - categorical_accuracy: 0.9594\n",
      "Epoch 15/20\n",
      "689/689 - 39s - loss: 0.0804 - categorical_accuracy: 0.9782\n",
      "Epoch 16/20\n",
      "689/689 - 39s - loss: 0.0574 - categorical_accuracy: 0.9753\n",
      "Epoch 17/20\n",
      "689/689 - 40s - loss: 0.0256 - categorical_accuracy: 0.9942\n",
      "Epoch 18/20\n",
      "689/689 - 39s - loss: 0.0169 - categorical_accuracy: 0.9956\n",
      "Epoch 19/20\n",
      "689/689 - 39s - loss: 0.0486 - categorical_accuracy: 0.9826\n",
      "Epoch 20/20\n",
      "689/689 - 39s - loss: 0.1123 - categorical_accuracy: 0.9666\n",
      "F1 macro score (AGINST and FAVOR only): 0.5608629416678952\n",
      "              precision    recall  f1-score   support\n",
      "\n",
      "     AGAINST       0.73      0.57      0.64       172\n",
      "       FAVOR       0.36      0.71      0.48        45\n",
      "        NONE       0.64      0.60      0.62        78\n",
      "\n",
      "    accuracy                           0.60       295\n",
      "   macro avg       0.58      0.63      0.58       295\n",
      "weighted avg       0.65      0.60      0.61       295\n",
      "\n"
     ]
    },
    {
     "data": {
      "image/png": "[encoded data removed]",
      "text/plain": [
       "<Figure size 1440x360 with 2 Axes>"
      ]
     },
     "metadata": {
      "needs_background": "light"
     },
     "output_type": "display_data"
    }
   ],
   "source": [
    "sess = tf.Session()\n",
    "\n",
    "model_hillary = bert_lstm_model(max_length_in = max_length, \n",
    "                                bert_fine_tune_layers = 6, \n",
    "                                optimizer = 'adam',\n",
    "                                learning_rate_in = 0.01,\n",
    "                                dropout_rate_in = 0.5)\n",
    "\n",
    "initialize_vars(sess)\n",
    "\n",
    "model_hillary.fit(\n",
    "    x = hillary_train_subset['bert'], \n",
    "    y = hillary_train_subset['labels_encoded'],\n",
    "#     validation_split = 0.1,\n",
    "    shuffle = True,\n",
    "    epochs = 20,\n",
    "    verbose = 2,\n",
    "    batch_size = 64,\n",
    "    class_weight = hillary_train_subset['class_weights'])\n",
    "\n",
    "pred_test_hillary = model_hillary.predict(x = hillary_test_subset['bert'])\n",
    "\n",
    "standard_metrics(true_labels = hillary_test_subset['labels_text'], \n",
    "                 test_probs = pred_test_hillary,\n",
    "                 label_titles = label_categories)"
   ]
  },
  {
   "cell_type": "code",
   "execution_count": 41,
   "metadata": {
    "scrolled": true
   },
   "outputs": [
    {
     "name": "stdout",
     "output_type": "stream",
     "text": [
      "INFO:tensorflow:Saver not created because there are no variables in the graph to restore\n"
     ]
    },
    {
     "name": "stderr",
     "output_type": "stream",
     "text": [
      "INFO:tensorflow:Saver not created because there are no variables in the graph to restore\n"
     ]
    },
    {
     "name": "stdout",
     "output_type": "stream",
     "text": [
      "Model: \"model_11\"\n",
      "__________________________________________________________________________________________________\n",
      "Layer (type)                    Output Shape         Param #     Connected to                     \n",
      "==================================================================================================\n",
      "input_ids (InputLayer)          [(None, 83)]         0                                            \n",
      "__________________________________________________________________________________________________\n",
      "input_masks (InputLayer)        [(None, 83)]         0                                            \n",
      "__________________________________________________________________________________________________\n",
      "segment_ids (InputLayer)        [(None, 83)]         0                                            \n",
      "__________________________________________________________________________________________________\n",
      "bert_layer_11 (BertLayer)       (None, None, 768)    108931396   input_ids[0][0]                  \n",
      "                                                                 input_masks[0][0]                \n",
      "                                                                 segment_ids[0][0]                \n",
      "__________________________________________________________________________________________________\n",
      "dropout_22 (Dropout)            (None, None, 768)    0           bert_layer_11[0][0]              \n",
      "__________________________________________________________________________________________________\n",
      "lstm1 (LSTM)                    (None, 128)          459264      dropout_22[0][0]                 \n",
      "__________________________________________________________________________________________________\n",
      "dense1 (Dense)                  (None, 64)           8256        lstm1[0][0]                      \n",
      "__________________________________________________________________________________________________\n",
      "dropout_23 (Dropout)            (None, 64)           0           dense1[0][0]                     \n",
      "__________________________________________________________________________________________________\n",
      "classification (Dense)          (None, 3)            195         dropout_23[0][0]                 \n",
      "==================================================================================================\n",
      "Total params: 109,399,111\n",
      "Trainable params: 5,191,683\n",
      "Non-trainable params: 104,207,428\n",
      "__________________________________________________________________________________________________\n",
      "Epoch 1/20\n",
      "689/689 - 45s - loss: 1.0495 - categorical_accuracy: 0.3716\n",
      "Epoch 2/20\n",
      "689/689 - 41s - loss: 0.8573 - categorical_accuracy: 0.4978\n",
      "Epoch 3/20\n",
      "689/689 - 41s - loss: 0.6825 - categorical_accuracy: 0.5704\n",
      "Epoch 4/20\n",
      "689/689 - 40s - loss: 0.5420 - categorical_accuracy: 0.7329\n",
      "Epoch 5/20\n",
      "689/689 - 39s - loss: 0.3967 - categorical_accuracy: 0.8287\n",
      "Epoch 6/20\n",
      "689/689 - 39s - loss: 0.3309 - categorical_accuracy: 0.8679\n",
      "Epoch 7/20\n",
      "689/689 - 39s - loss: 0.2145 - categorical_accuracy: 0.9158\n",
      "Epoch 8/20\n",
      "689/689 - 40s - loss: 0.1394 - categorical_accuracy: 0.9448\n",
      "Epoch 9/20\n",
      "689/689 - 40s - loss: 0.1294 - categorical_accuracy: 0.9478\n",
      "Epoch 10/20\n",
      "689/689 - 41s - loss: 0.0905 - categorical_accuracy: 0.9753\n",
      "Epoch 11/20\n",
      "689/689 - 40s - loss: 0.0403 - categorical_accuracy: 0.9869\n",
      "Epoch 12/20\n",
      "689/689 - 41s - loss: 0.0390 - categorical_accuracy: 0.9913\n",
      "Epoch 13/20\n",
      "689/689 - 41s - loss: 0.1716 - categorical_accuracy: 0.9565\n",
      "Epoch 14/20\n",
      "689/689 - 40s - loss: 0.0718 - categorical_accuracy: 0.9753\n",
      "Epoch 15/20\n",
      "689/689 - 40s - loss: 0.0701 - categorical_accuracy: 0.9710\n",
      "Epoch 16/20\n",
      "689/689 - 41s - loss: 0.0907 - categorical_accuracy: 0.9739\n",
      "Epoch 17/20\n",
      "689/689 - 40s - loss: 0.0806 - categorical_accuracy: 0.9681\n",
      "Epoch 18/20\n",
      "689/689 - 41s - loss: 0.0415 - categorical_accuracy: 0.9855\n",
      "Epoch 19/20\n",
      "689/689 - 40s - loss: 0.0098 - categorical_accuracy: 0.9971\n",
      "Epoch 20/20\n",
      "689/689 - 39s - loss: 0.0028 - categorical_accuracy: 1.0000\n",
      "F1 macro score (AGINST and FAVOR only): 0.590664590558426\n",
      "              precision    recall  f1-score   support\n",
      "\n",
      "     AGAINST       0.67      0.88      0.76       172\n",
      "       FAVOR       0.58      0.33      0.42        45\n",
      "        NONE       0.67      0.37      0.48        78\n",
      "\n",
      "    accuracy                           0.66       295\n",
      "   macro avg       0.64      0.53      0.55       295\n",
      "weighted avg       0.66      0.66      0.63       295\n",
      "\n"
     ]
    },
    {
     "data": {
      "image/png": "[encoded data removed]",
      "text/plain": [
       "<Figure size 1440x360 with 2 Axes>"
      ]
     },
     "metadata": {
      "needs_background": "light"
     },
     "output_type": "display_data"
    }
   ],
   "source": [
    "sess = tf.Session()\n",
    "\n",
    "model_hillary = bert_lstm_model(max_length_in = max_length, \n",
    "                                bert_fine_tune_layers = 6, \n",
    "                                optimizer = 'adam',\n",
    "                                learning_rate_in = 0.01,\n",
    "                                dropout_rate_in = 0.4)\n",
    "\n",
    "initialize_vars(sess)\n",
    "\n",
    "model_hillary.fit(\n",
    "    x = hillary_train_subset['bert'], \n",
    "    y = hillary_train_subset['labels_encoded'],\n",
    "#     validation_split = 0.1,\n",
    "    shuffle = True,\n",
    "    epochs = 20,\n",
    "    verbose = 2,\n",
    "    batch_size = 32,\n",
    "    class_weight = hillary_train_subset['class_weights'])\n",
    "\n",
    "pred_test_hillary = model_hillary.predict(x = hillary_test_subset['bert'])\n",
    "\n",
    "standard_metrics(true_labels = hillary_test_subset['labels_text'], \n",
    "                 test_probs = pred_test_hillary,\n",
    "                 label_titles = label_categories)"
   ]
  },
  {
   "cell_type": "code",
   "execution_count": 42,
   "metadata": {
    "scrolled": true
   },
   "outputs": [
    {
     "name": "stdout",
     "output_type": "stream",
     "text": [
      "INFO:tensorflow:Saver not created because there are no variables in the graph to restore\n"
     ]
    },
    {
     "name": "stderr",
     "output_type": "stream",
     "text": [
      "INFO:tensorflow:Saver not created because there are no variables in the graph to restore\n"
     ]
    },
    {
     "name": "stdout",
     "output_type": "stream",
     "text": [
      "Model: \"model_12\"\n",
      "__________________________________________________________________________________________________\n",
      "Layer (type)                    Output Shape         Param #     Connected to                     \n",
      "==================================================================================================\n",
      "input_ids (InputLayer)          [(None, 83)]         0                                            \n",
      "__________________________________________________________________________________________________\n",
      "input_masks (InputLayer)        [(None, 83)]         0                                            \n",
      "__________________________________________________________________________________________________\n",
      "segment_ids (InputLayer)        [(None, 83)]         0                                            \n",
      "__________________________________________________________________________________________________\n",
      "bert_layer_12 (BertLayer)       (None, None, 768)    108931396   input_ids[0][0]                  \n",
      "                                                                 input_masks[0][0]                \n",
      "                                                                 segment_ids[0][0]                \n",
      "__________________________________________________________________________________________________\n",
      "dropout_24 (Dropout)            (None, None, 768)    0           bert_layer_12[0][0]              \n",
      "__________________________________________________________________________________________________\n",
      "lstm1 (LSTM)                    (None, 128)          459264      dropout_24[0][0]                 \n",
      "__________________________________________________________________________________________________\n",
      "dense1 (Dense)                  (None, 64)           8256        lstm1[0][0]                      \n",
      "__________________________________________________________________________________________________\n",
      "dropout_25 (Dropout)            (None, 64)           0           dense1[0][0]                     \n",
      "__________________________________________________________________________________________________\n",
      "classification (Dense)          (None, 3)            195         dropout_25[0][0]                 \n",
      "==================================================================================================\n",
      "Total params: 109,399,111\n",
      "Trainable params: 5,191,683\n",
      "Non-trainable params: 104,207,428\n",
      "__________________________________________________________________________________________________\n",
      "Epoch 1/20\n",
      "689/689 - 45s - loss: 1.1534 - categorical_accuracy: 0.3019\n",
      "Epoch 2/20\n",
      "689/689 - 40s - loss: 0.9671 - categorical_accuracy: 0.5254\n",
      "Epoch 3/20\n",
      "689/689 - 40s - loss: 0.8524 - categorical_accuracy: 0.5457\n",
      "Epoch 4/20\n",
      "689/689 - 40s - loss: 0.7600 - categorical_accuracy: 0.6110\n",
      "Epoch 5/20\n",
      "689/689 - 40s - loss: 0.5914 - categorical_accuracy: 0.7271\n",
      "Epoch 6/20\n",
      "689/689 - 40s - loss: 0.4783 - categorical_accuracy: 0.8070\n",
      "Epoch 7/20\n",
      "689/689 - 41s - loss: 0.3485 - categorical_accuracy: 0.8665\n",
      "Epoch 8/20\n",
      "689/689 - 40s - loss: 0.2346 - categorical_accuracy: 0.9187\n",
      "Epoch 9/20\n",
      "689/689 - 40s - loss: 0.1796 - categorical_accuracy: 0.9405\n",
      "Epoch 10/20\n",
      "689/689 - 40s - loss: 0.1684 - categorical_accuracy: 0.9478\n",
      "Epoch 11/20\n",
      "689/689 - 40s - loss: 0.1326 - categorical_accuracy: 0.9550\n",
      "Epoch 12/20\n",
      "689/689 - 39s - loss: 0.0633 - categorical_accuracy: 0.9768\n",
      "Epoch 13/20\n",
      "689/689 - 39s - loss: 0.0490 - categorical_accuracy: 0.9884\n",
      "Epoch 14/20\n",
      "689/689 - 39s - loss: 0.0171 - categorical_accuracy: 0.9985\n",
      "Epoch 15/20\n",
      "689/689 - 40s - loss: 0.0108 - categorical_accuracy: 0.9985\n",
      "Epoch 16/20\n",
      "689/689 - 40s - loss: 0.0095 - categorical_accuracy: 0.9985\n",
      "Epoch 17/20\n",
      "689/689 - 40s - loss: 0.0053 - categorical_accuracy: 1.0000\n",
      "Epoch 18/20\n",
      "689/689 - 41s - loss: 0.0111 - categorical_accuracy: 0.9971\n",
      "Epoch 19/20\n",
      "689/689 - 40s - loss: 0.1949 - categorical_accuracy: 0.9231\n",
      "Epoch 20/20\n",
      "689/689 - 40s - loss: 0.1980 - categorical_accuracy: 0.9419\n",
      "F1 macro score (AGINST and FAVOR only): 0.6214119928313306\n",
      "              precision    recall  f1-score   support\n",
      "\n",
      "     AGAINST       0.76      0.73      0.75       172\n",
      "       FAVOR       0.45      0.56      0.50        45\n",
      "        NONE       0.70      0.67      0.68        78\n",
      "\n",
      "    accuracy                           0.69       295\n",
      "   macro avg       0.64      0.65      0.64       295\n",
      "weighted avg       0.70      0.69      0.69       295\n",
      "\n"
     ]
    },
    {
     "data": {
      "image/png": "[encoded data removed]",
      "text/plain": [
       "<Figure size 1440x360 with 2 Axes>"
      ]
     },
     "metadata": {
      "needs_background": "light"
     },
     "output_type": "display_data"
    }
   ],
   "source": [
    "sess = tf.Session()\n",
    "\n",
    "model_hillary = bert_lstm_model(max_length_in = max_length, \n",
    "                                bert_fine_tune_layers = 6, \n",
    "                                optimizer = 'adam',\n",
    "                                learning_rate_in = 0.01,\n",
    "                                dropout_rate_in = 0.6)\n",
    "\n",
    "initialize_vars(sess)\n",
    "\n",
    "model_hillary.fit(\n",
    "    x = hillary_train_subset['bert'], \n",
    "    y = hillary_train_subset['labels_encoded'],\n",
    "#     validation_split = 0.1,\n",
    "    shuffle = True,\n",
    "    epochs = 20,\n",
    "    verbose = 2,\n",
    "    batch_size = 32,\n",
    "    class_weight = hillary_train_subset['class_weights'])\n",
    "\n",
    "pred_test_hillary = model_hillary.predict(x = hillary_test_subset['bert'])\n",
    "\n",
    "standard_metrics(true_labels = hillary_test_subset['labels_text'], \n",
    "                 test_probs = pred_test_hillary,\n",
    "                 label_titles = label_categories)"
   ]
  },
  {
   "cell_type": "markdown",
   "metadata": {},
   "source": [
    "## Run on other Targets\n",
    "### Abortion"
   ]
  },
  {
   "cell_type": "code",
   "execution_count": 43,
   "metadata": {
    "scrolled": true
   },
   "outputs": [
    {
     "name": "stdout",
     "output_type": "stream",
     "text": [
      "INFO:tensorflow:Saver not created because there are no variables in the graph to restore\n"
     ]
    },
    {
     "name": "stderr",
     "output_type": "stream",
     "text": [
      "INFO:tensorflow:Saver not created because there are no variables in the graph to restore\n"
     ]
    },
    {
     "name": "stdout",
     "output_type": "stream",
     "text": [
      "Model: \"model_13\"\n",
      "__________________________________________________________________________________________________\n",
      "Layer (type)                    Output Shape         Param #     Connected to                     \n",
      "==================================================================================================\n",
      "input_ids (InputLayer)          [(None, 83)]         0                                            \n",
      "__________________________________________________________________________________________________\n",
      "input_masks (InputLayer)        [(None, 83)]         0                                            \n",
      "__________________________________________________________________________________________________\n",
      "segment_ids (InputLayer)        [(None, 83)]         0                                            \n",
      "__________________________________________________________________________________________________\n",
      "bert_layer_13 (BertLayer)       (None, None, 768)    108931396   input_ids[0][0]                  \n",
      "                                                                 input_masks[0][0]                \n",
      "                                                                 segment_ids[0][0]                \n",
      "__________________________________________________________________________________________________\n",
      "dropout_26 (Dropout)            (None, None, 768)    0           bert_layer_13[0][0]              \n",
      "__________________________________________________________________________________________________\n",
      "lstm1 (LSTM)                    (None, 128)          459264      dropout_26[0][0]                 \n",
      "__________________________________________________________________________________________________\n",
      "dense1 (Dense)                  (None, 64)           8256        lstm1[0][0]                      \n",
      "__________________________________________________________________________________________________\n",
      "dropout_27 (Dropout)            (None, 64)           0           dense1[0][0]                     \n",
      "__________________________________________________________________________________________________\n",
      "classification (Dense)          (None, 3)            195         dropout_27[0][0]                 \n",
      "==================================================================================================\n",
      "Total params: 109,399,111\n",
      "Trainable params: 5,191,683\n",
      "Non-trainable params: 104,207,428\n",
      "__________________________________________________________________________________________________\n",
      "Epoch 1/20\n",
      "653/653 - 44s - loss: 1.1263 - categorical_accuracy: 0.3308\n",
      "Epoch 2/20\n",
      "653/653 - 38s - loss: 0.9131 - categorical_accuracy: 0.5191\n",
      "Epoch 3/20\n",
      "653/653 - 38s - loss: 0.7327 - categorical_accuracy: 0.6263\n",
      "Epoch 4/20\n",
      "653/653 - 38s - loss: 0.4556 - categorical_accuracy: 0.8086\n",
      "Epoch 5/20\n",
      "653/653 - 38s - loss: 0.4027 - categorical_accuracy: 0.8361\n",
      "Epoch 6/20\n",
      "653/653 - 39s - loss: 0.2432 - categorical_accuracy: 0.8989\n",
      "Epoch 7/20\n",
      "653/653 - 40s - loss: 0.1759 - categorical_accuracy: 0.9433\n",
      "Epoch 8/20\n",
      "653/653 - 39s - loss: 0.1515 - categorical_accuracy: 0.9311\n",
      "Epoch 9/20\n",
      "653/653 - 39s - loss: 0.1172 - categorical_accuracy: 0.9571\n",
      "Epoch 10/20\n",
      "653/653 - 39s - loss: 0.0759 - categorical_accuracy: 0.9724\n",
      "Epoch 11/20\n",
      "653/653 - 39s - loss: 0.1896 - categorical_accuracy: 0.9495\n",
      "Epoch 12/20\n",
      "653/653 - 39s - loss: 0.1706 - categorical_accuracy: 0.9357\n",
      "Epoch 13/20\n",
      "653/653 - 39s - loss: 0.0618 - categorical_accuracy: 0.9832\n",
      "Epoch 14/20\n",
      "653/653 - 39s - loss: 0.0350 - categorical_accuracy: 0.9877\n",
      "Epoch 15/20\n",
      "653/653 - 39s - loss: 0.0286 - categorical_accuracy: 0.9923\n",
      "Epoch 16/20\n",
      "653/653 - 38s - loss: 0.0134 - categorical_accuracy: 0.9939\n",
      "Epoch 17/20\n",
      "653/653 - 41s - loss: 0.0334 - categorical_accuracy: 0.9954\n",
      "Epoch 18/20\n",
      "653/653 - 37s - loss: 0.0084 - categorical_accuracy: 0.9969\n",
      "Epoch 19/20\n",
      "653/653 - 37s - loss: 0.0026 - categorical_accuracy: 1.0000\n",
      "Epoch 20/20\n",
      "653/653 - 37s - loss: 0.0029 - categorical_accuracy: 1.0000\n",
      "F1 macro score (AGINST and FAVOR only): 0.6373205741626795\n",
      "              precision    recall  f1-score   support\n",
      "\n",
      "     AGAINST       0.82      0.66      0.73       189\n",
      "       FAVOR       0.53      0.57      0.55        46\n",
      "        NONE       0.37      0.64      0.47        45\n",
      "\n",
      "    accuracy                           0.64       280\n",
      "   macro avg       0.57      0.62      0.58       280\n",
      "weighted avg       0.70      0.64      0.66       280\n",
      "\n"
     ]
    },
    {
     "data": {
      "image/png": "[encoded data removed]",
      "text/plain": [
       "<Figure size 1440x360 with 2 Axes>"
      ]
     },
     "metadata": {
      "needs_background": "light"
     },
     "output_type": "display_data"
    }
   ],
   "source": [
    "sess = tf.Session()\n",
    "\n",
    "model_abortion = bert_lstm_model(max_length_in = max_length, \n",
    "                                 bert_fine_tune_layers = 6, \n",
    "                                 optimizer = 'adam',\n",
    "                                 learning_rate_in = 0.01,\n",
    "                                 dropout_rate_in = 0.5)\n",
    "\n",
    "initialize_vars(sess)\n",
    "\n",
    "model_abortion.fit(\n",
    "    x = abortion_train_subset['bert'], \n",
    "    y = abortion_train_subset['labels_encoded'],\n",
    "#     validation_split = 0.2,\n",
    "    shuffle = True,\n",
    "    epochs = 20,\n",
    "    verbose = 2,\n",
    "    batch_size = 32,\n",
    "    class_weight = abortion_train_subset['class_weights'])\n",
    "\n",
    "# NOTES:\n",
    "    # Validation should not be on test data\n",
    "    # models and weights should be topic-specific\n",
    "    \n",
    "pred_test_abortion = model_abortion.predict(x = abortion_test_subset['bert'])\n",
    "\n",
    "standard_metrics(true_labels = abortion_test_subset['labels_text'], \n",
    "                 test_probs = pred_test_abortion,\n",
    "                 label_titles = label_categories)"
   ]
  },
  {
   "cell_type": "markdown",
   "metadata": {},
   "source": [
    "### Atheism"
   ]
  },
  {
   "cell_type": "code",
   "execution_count": 44,
   "metadata": {
    "scrolled": true
   },
   "outputs": [
    {
     "name": "stdout",
     "output_type": "stream",
     "text": [
      "INFO:tensorflow:Saver not created because there are no variables in the graph to restore\n"
     ]
    },
    {
     "name": "stderr",
     "output_type": "stream",
     "text": [
      "INFO:tensorflow:Saver not created because there are no variables in the graph to restore\n"
     ]
    },
    {
     "name": "stdout",
     "output_type": "stream",
     "text": [
      "Model: \"model_14\"\n",
      "__________________________________________________________________________________________________\n",
      "Layer (type)                    Output Shape         Param #     Connected to                     \n",
      "==================================================================================================\n",
      "input_ids (InputLayer)          [(None, 83)]         0                                            \n",
      "__________________________________________________________________________________________________\n",
      "input_masks (InputLayer)        [(None, 83)]         0                                            \n",
      "__________________________________________________________________________________________________\n",
      "segment_ids (InputLayer)        [(None, 83)]         0                                            \n",
      "__________________________________________________________________________________________________\n",
      "bert_layer_14 (BertLayer)       (None, None, 768)    108931396   input_ids[0][0]                  \n",
      "                                                                 input_masks[0][0]                \n",
      "                                                                 segment_ids[0][0]                \n",
      "__________________________________________________________________________________________________\n",
      "dropout_28 (Dropout)            (None, None, 768)    0           bert_layer_14[0][0]              \n",
      "__________________________________________________________________________________________________\n",
      "lstm1 (LSTM)                    (None, 128)          459264      dropout_28[0][0]                 \n",
      "__________________________________________________________________________________________________\n",
      "dense1 (Dense)                  (None, 64)           8256        lstm1[0][0]                      \n",
      "__________________________________________________________________________________________________\n",
      "dropout_29 (Dropout)            (None, 64)           0           dense1[0][0]                     \n",
      "__________________________________________________________________________________________________\n",
      "classification (Dense)          (None, 3)            195         dropout_29[0][0]                 \n",
      "==================================================================================================\n",
      "Total params: 109,399,111\n",
      "Trainable params: 5,191,683\n",
      "Non-trainable params: 104,207,428\n",
      "__________________________________________________________________________________________________\n",
      "Epoch 1/20\n",
      "513/513 - 36s - loss: 1.1411 - categorical_accuracy: 0.3938\n",
      "Epoch 2/20\n",
      "513/513 - 30s - loss: 1.0191 - categorical_accuracy: 0.4951\n",
      "Epoch 3/20\n",
      "513/513 - 30s - loss: 0.7135 - categorical_accuracy: 0.6959\n",
      "Epoch 4/20\n",
      "513/513 - 31s - loss: 0.6154 - categorical_accuracy: 0.7563\n",
      "Epoch 5/20\n",
      "513/513 - 30s - loss: 0.3647 - categorical_accuracy: 0.8441\n",
      "Epoch 6/20\n",
      "513/513 - 30s - loss: 0.2174 - categorical_accuracy: 0.9123\n",
      "Epoch 7/20\n",
      "513/513 - 30s - loss: 0.2323 - categorical_accuracy: 0.8928\n",
      "Epoch 8/20\n",
      "513/513 - 31s - loss: 0.1536 - categorical_accuracy: 0.9318\n",
      "Epoch 9/20\n",
      "513/513 - 31s - loss: 0.0833 - categorical_accuracy: 0.9708\n",
      "Epoch 10/20\n",
      "513/513 - 30s - loss: 0.0431 - categorical_accuracy: 0.9805\n",
      "Epoch 11/20\n",
      "513/513 - 30s - loss: 0.0212 - categorical_accuracy: 0.9942\n",
      "Epoch 12/20\n",
      "513/513 - 29s - loss: 0.0072 - categorical_accuracy: 1.0000\n",
      "Epoch 13/20\n",
      "513/513 - 29s - loss: 0.0712 - categorical_accuracy: 0.9766\n",
      "Epoch 14/20\n",
      "513/513 - 29s - loss: 0.0617 - categorical_accuracy: 0.9786\n",
      "Epoch 15/20\n",
      "513/513 - 30s - loss: 0.0756 - categorical_accuracy: 0.9649\n",
      "Epoch 16/20\n",
      "513/513 - 32s - loss: 0.0646 - categorical_accuracy: 0.9805\n",
      "Epoch 17/20\n",
      "513/513 - 30s - loss: 0.0143 - categorical_accuracy: 0.9961\n",
      "Epoch 18/20\n",
      "513/513 - 30s - loss: 0.0076 - categorical_accuracy: 0.9981\n",
      "Epoch 19/20\n",
      "513/513 - 31s - loss: 0.0028 - categorical_accuracy: 1.0000\n",
      "Epoch 20/20\n",
      "513/513 - 31s - loss: 0.0029 - categorical_accuracy: 1.0000\n",
      "F1 macro score (AGINST and FAVOR only): 0.6633068081343944\n",
      "              precision    recall  f1-score   support\n",
      "\n",
      "     AGAINST       0.91      0.74      0.81       160\n",
      "       FAVOR       0.43      0.62      0.51        32\n",
      "        NONE       0.50      0.79      0.61        28\n",
      "\n",
      "    accuracy                           0.73       220\n",
      "   macro avg       0.61      0.72      0.65       220\n",
      "weighted avg       0.79      0.73      0.74       220\n",
      "\n"
     ]
    },
    {
     "data": {
      "image/png": "[encoded data removed]",
      "text/plain": [
       "<Figure size 1440x360 with 2 Axes>"
      ]
     },
     "metadata": {
      "needs_background": "light"
     },
     "output_type": "display_data"
    }
   ],
   "source": [
    "sess = tf.Session()\n",
    "\n",
    "model_atheism = bert_lstm_model(max_length_in = max_length, \n",
    "                                bert_fine_tune_layers = 6, \n",
    "                                optimizer = 'adam',\n",
    "                                learning_rate_in = 0.01,\n",
    "                                dropout_rate_in = 0.5)\n",
    "\n",
    "initialize_vars(sess)\n",
    "\n",
    "model_atheism.fit(\n",
    "    x = atheism_train_subset['bert'], \n",
    "    y = atheism_train_subset['labels_encoded'],\n",
    "#     validation_split = 0.2,\n",
    "    shuffle = True,\n",
    "    epochs = 20,\n",
    "    verbose = 2,\n",
    "    batch_size = 32,\n",
    "    class_weight = atheism_train_subset['class_weights'])\n",
    "\n",
    "pred_test_atheism = model_atheism.predict(x = atheism_test_subset['bert'])\n",
    "\n",
    "standard_metrics(true_labels = atheism_test_subset['labels_text'], \n",
    "                 test_probs = pred_test_atheism,\n",
    "                 label_titles = label_categories)"
   ]
  },
  {
   "cell_type": "markdown",
   "metadata": {},
   "source": [
    "### Climate Change"
   ]
  },
  {
   "cell_type": "code",
   "execution_count": 45,
   "metadata": {
    "scrolled": true
   },
   "outputs": [
    {
     "name": "stdout",
     "output_type": "stream",
     "text": [
      "INFO:tensorflow:Saver not created because there are no variables in the graph to restore\n"
     ]
    },
    {
     "name": "stderr",
     "output_type": "stream",
     "text": [
      "INFO:tensorflow:Saver not created because there are no variables in the graph to restore\n"
     ]
    },
    {
     "name": "stdout",
     "output_type": "stream",
     "text": [
      "Model: \"model_15\"\n",
      "__________________________________________________________________________________________________\n",
      "Layer (type)                    Output Shape         Param #     Connected to                     \n",
      "==================================================================================================\n",
      "input_ids (InputLayer)          [(None, 83)]         0                                            \n",
      "__________________________________________________________________________________________________\n",
      "input_masks (InputLayer)        [(None, 83)]         0                                            \n",
      "__________________________________________________________________________________________________\n",
      "segment_ids (InputLayer)        [(None, 83)]         0                                            \n",
      "__________________________________________________________________________________________________\n",
      "bert_layer_15 (BertLayer)       (None, None, 768)    108931396   input_ids[0][0]                  \n",
      "                                                                 input_masks[0][0]                \n",
      "                                                                 segment_ids[0][0]                \n",
      "__________________________________________________________________________________________________\n",
      "dropout_30 (Dropout)            (None, None, 768)    0           bert_layer_15[0][0]              \n",
      "__________________________________________________________________________________________________\n",
      "lstm1 (LSTM)                    (None, 128)          459264      dropout_30[0][0]                 \n",
      "__________________________________________________________________________________________________\n",
      "dense1 (Dense)                  (None, 64)           8256        lstm1[0][0]                      \n",
      "__________________________________________________________________________________________________\n",
      "dropout_31 (Dropout)            (None, 64)           0           dense1[0][0]                     \n",
      "__________________________________________________________________________________________________\n",
      "classification (Dense)          (None, 3)            195         dropout_31[0][0]                 \n",
      "==================================================================================================\n",
      "Total params: 109,399,111\n",
      "Trainable params: 5,191,683\n",
      "Non-trainable params: 104,207,428\n",
      "__________________________________________________________________________________________________\n",
      "Epoch 1/20\n",
      "395/395 - 29s - loss: 1.1936 - categorical_accuracy: 0.4481\n",
      "Epoch 2/20\n",
      "395/395 - 23s - loss: 0.9474 - categorical_accuracy: 0.6101\n",
      "Epoch 3/20\n",
      "395/395 - 24s - loss: 0.8028 - categorical_accuracy: 0.6633\n",
      "Epoch 4/20\n",
      "395/395 - 23s - loss: 0.5519 - categorical_accuracy: 0.8278\n",
      "Epoch 5/20\n",
      "395/395 - 23s - loss: 0.3670 - categorical_accuracy: 0.8911\n",
      "Epoch 6/20\n",
      "395/395 - 25s - loss: 0.1758 - categorical_accuracy: 0.9418\n",
      "Epoch 7/20\n",
      "395/395 - 24s - loss: 0.0949 - categorical_accuracy: 0.9671\n",
      "Epoch 8/20\n",
      "395/395 - 23s - loss: 0.0608 - categorical_accuracy: 0.9772\n",
      "Epoch 9/20\n",
      "395/395 - 23s - loss: 0.0336 - categorical_accuracy: 0.9899\n",
      "Epoch 10/20\n",
      "395/395 - 23s - loss: 0.0224 - categorical_accuracy: 0.9924\n",
      "Epoch 11/20\n",
      "395/395 - 23s - loss: 0.0109 - categorical_accuracy: 1.0000\n",
      "Epoch 12/20\n",
      "395/395 - 23s - loss: 0.0118 - categorical_accuracy: 1.0000\n",
      "Epoch 13/20\n",
      "395/395 - 23s - loss: 0.0074 - categorical_accuracy: 1.0000\n",
      "Epoch 14/20\n",
      "395/395 - 24s - loss: 0.0086 - categorical_accuracy: 1.0000\n",
      "Epoch 15/20\n",
      "395/395 - 24s - loss: 0.0038 - categorical_accuracy: 1.0000\n",
      "Epoch 16/20\n",
      "395/395 - 24s - loss: 0.0079 - categorical_accuracy: 1.0000\n",
      "Epoch 17/20\n",
      "395/395 - 24s - loss: 0.0030 - categorical_accuracy: 1.0000\n",
      "Epoch 18/20\n",
      "395/395 - 24s - loss: 0.0038 - categorical_accuracy: 1.0000\n",
      "Epoch 19/20\n",
      "395/395 - 30s - loss: 0.0031 - categorical_accuracy: 1.0000\n",
      "Epoch 20/20\n",
      "395/395 - 23s - loss: 0.0045 - categorical_accuracy: 1.0000\n",
      "F1 macro score (AGINST and FAVOR only): 0.44621513944223107\n",
      "              precision    recall  f1-score   support\n",
      "\n",
      "     AGAINST       0.00      0.00      0.00        11\n",
      "       FAVOR       0.88      0.91      0.89       123\n",
      "        NONE       0.70      0.80      0.75        35\n",
      "\n",
      "    accuracy                           0.83       169\n",
      "   macro avg       0.53      0.57      0.55       169\n",
      "weighted avg       0.78      0.83      0.80       169\n",
      "\n"
     ]
    },
    {
     "data": {
      "image/png": "[encoded data removed]",
      "text/plain": [
       "<Figure size 1440x360 with 2 Axes>"
      ]
     },
     "metadata": {
      "needs_background": "light"
     },
     "output_type": "display_data"
    }
   ],
   "source": [
    "sess = tf.Session()\n",
    "\n",
    "model_climate = bert_lstm_model(max_length_in = max_length, \n",
    "                                bert_fine_tune_layers = 6, \n",
    "                                optimizer = 'adam',\n",
    "                                learning_rate_in = 0.01,\n",
    "                                dropout_rate_in = 0.5)\n",
    "\n",
    "initialize_vars(sess)\n",
    "\n",
    "model_climate.fit(\n",
    "    x = climate_change_train_subset['bert'], \n",
    "    y = climate_change_train_subset['labels_encoded'],\n",
    "#     validation_split = 0.2,\n",
    "    shuffle = True,\n",
    "    epochs = 20,\n",
    "    verbose = 2,\n",
    "    batch_size = 32,\n",
    "    class_weight = climate_change_train_subset['class_weights'])\n",
    "\n",
    "pred_test_climate_change = model_climate.predict(x = climate_change_test_subset['bert'])\n",
    "\n",
    "standard_metrics(true_labels = climate_change_test_subset['labels_text'], \n",
    "                 test_probs = pred_test_climate_change,\n",
    "                 label_titles = label_categories)"
   ]
  },
  {
   "cell_type": "markdown",
   "metadata": {},
   "source": [
    "### Feminism"
   ]
  },
  {
   "cell_type": "code",
   "execution_count": 46,
   "metadata": {
    "scrolled": true
   },
   "outputs": [
    {
     "name": "stdout",
     "output_type": "stream",
     "text": [
      "INFO:tensorflow:Saver not created because there are no variables in the graph to restore\n"
     ]
    },
    {
     "name": "stderr",
     "output_type": "stream",
     "text": [
      "INFO:tensorflow:Saver not created because there are no variables in the graph to restore\n"
     ]
    },
    {
     "name": "stdout",
     "output_type": "stream",
     "text": [
      "Model: \"model_16\"\n",
      "__________________________________________________________________________________________________\n",
      "Layer (type)                    Output Shape         Param #     Connected to                     \n",
      "==================================================================================================\n",
      "input_ids (InputLayer)          [(None, 83)]         0                                            \n",
      "__________________________________________________________________________________________________\n",
      "input_masks (InputLayer)        [(None, 83)]         0                                            \n",
      "__________________________________________________________________________________________________\n",
      "segment_ids (InputLayer)        [(None, 83)]         0                                            \n",
      "__________________________________________________________________________________________________\n",
      "bert_layer_16 (BertLayer)       (None, None, 768)    108931396   input_ids[0][0]                  \n",
      "                                                                 input_masks[0][0]                \n",
      "                                                                 segment_ids[0][0]                \n",
      "__________________________________________________________________________________________________\n",
      "dropout_32 (Dropout)            (None, None, 768)    0           bert_layer_16[0][0]              \n",
      "__________________________________________________________________________________________________\n",
      "lstm1 (LSTM)                    (None, 128)          459264      dropout_32[0][0]                 \n",
      "__________________________________________________________________________________________________\n",
      "dense1 (Dense)                  (None, 64)           8256        lstm1[0][0]                      \n",
      "__________________________________________________________________________________________________\n",
      "dropout_33 (Dropout)            (None, 64)           0           dense1[0][0]                     \n",
      "__________________________________________________________________________________________________\n",
      "classification (Dense)          (None, 3)            195         dropout_33[0][0]                 \n",
      "==================================================================================================\n",
      "Total params: 109,399,111\n",
      "Trainable params: 5,191,683\n",
      "Non-trainable params: 104,207,428\n",
      "__________________________________________________________________________________________________\n",
      "Epoch 1/20\n",
      "664/664 - 45s - loss: 1.1305 - categorical_accuracy: 0.3660\n",
      "Epoch 2/20\n",
      "664/664 - 39s - loss: 1.0094 - categorical_accuracy: 0.4623\n",
      "Epoch 3/20\n",
      "664/664 - 39s - loss: 0.8568 - categorical_accuracy: 0.5934\n",
      "Epoch 4/20\n",
      "664/664 - 39s - loss: 0.6955 - categorical_accuracy: 0.6777\n",
      "Epoch 5/20\n",
      "664/664 - 38s - loss: 0.5438 - categorical_accuracy: 0.7455\n",
      "Epoch 6/20\n",
      "664/664 - 38s - loss: 0.3647 - categorical_accuracy: 0.8584\n",
      "Epoch 7/20\n",
      "664/664 - 39s - loss: 0.2332 - categorical_accuracy: 0.9036\n",
      "Epoch 8/20\n",
      "664/664 - 39s - loss: 0.3643 - categorical_accuracy: 0.8720\n",
      "Epoch 9/20\n",
      "664/664 - 39s - loss: 0.1562 - categorical_accuracy: 0.9458\n",
      "Epoch 10/20\n",
      "664/664 - 39s - loss: 0.0604 - categorical_accuracy: 0.9834\n",
      "Epoch 11/20\n",
      "664/664 - 39s - loss: 0.0185 - categorical_accuracy: 0.9955\n",
      "Epoch 12/20\n",
      "664/664 - 40s - loss: 0.0453 - categorical_accuracy: 0.9759\n",
      "Epoch 13/20\n",
      "664/664 - 39s - loss: 0.0860 - categorical_accuracy: 0.9699\n",
      "Epoch 14/20\n",
      "664/664 - 39s - loss: 0.0330 - categorical_accuracy: 0.9925\n",
      "Epoch 15/20\n",
      "664/664 - 39s - loss: 0.0551 - categorical_accuracy: 0.9880\n",
      "Epoch 16/20\n",
      "664/664 - 39s - loss: 0.1056 - categorical_accuracy: 0.9699\n",
      "Epoch 17/20\n",
      "664/664 - 39s - loss: 0.1492 - categorical_accuracy: 0.9428\n",
      "Epoch 18/20\n",
      "664/664 - 39s - loss: 0.1027 - categorical_accuracy: 0.9714\n",
      "Epoch 19/20\n",
      "664/664 - 39s - loss: 0.0662 - categorical_accuracy: 0.9834\n",
      "Epoch 20/20\n",
      "664/664 - 38s - loss: 0.0366 - categorical_accuracy: 0.9910\n",
      "F1 macro score (AGINST and FAVOR only): 0.5091455091455093\n",
      "              precision    recall  f1-score   support\n",
      "\n",
      "     AGAINST       0.73      0.60      0.65       183\n",
      "       FAVOR       0.31      0.45      0.36        58\n",
      "        NONE       0.48      0.55      0.51        44\n",
      "\n",
      "    accuracy                           0.56       285\n",
      "   macro avg       0.50      0.53      0.51       285\n",
      "weighted avg       0.60      0.56      0.57       285\n",
      "\n"
     ]
    },
    {
     "data": {
      "image/png": "[encoded data removed]",
      "text/plain": [
       "<Figure size 1440x360 with 2 Axes>"
      ]
     },
     "metadata": {
      "needs_background": "light"
     },
     "output_type": "display_data"
    }
   ],
   "source": [
    "sess = tf.Session()\n",
    "\n",
    "model_feminism = bert_lstm_model(max_length_in = max_length, \n",
    "                                 bert_fine_tune_layers = 6, \n",
    "                                 optimizer = 'adam',\n",
    "                                 learning_rate_in = 0.01,\n",
    "                                 dropout_rate_in = 0.5)\n",
    "\n",
    "initialize_vars(sess)\n",
    "\n",
    "model_feminism.fit(\n",
    "    x = feminism_train_subset['bert'], \n",
    "    y = feminism_train_subset['labels_encoded'],\n",
    "#     validation_split = 0.2,\n",
    "    shuffle = True,\n",
    "    epochs = 20,\n",
    "    verbose = 2,\n",
    "    batch_size = 32,\n",
    "    class_weight = feminism_train_subset['class_weights'])\n",
    "\n",
    "pred_test_feminism = model_feminism.predict(x = feminism_test_subset['bert'])\n",
    "\n",
    "standard_metrics(true_labels = feminism_test_subset['labels_text'], \n",
    "                 test_probs = pred_test_feminism,\n",
    "                 label_titles = label_categories)"
   ]
  },
  {
   "cell_type": "markdown",
   "metadata": {},
   "source": [
    "## Extra"
   ]
  },
  {
   "cell_type": "code",
   "execution_count": 77,
   "metadata": {},
   "outputs": [],
   "source": [
    "# Histograms of predicted probabilities\n",
    "def class_prob_breakdown(true_labels, test_probs, label_titles):\n",
    "    plt.figure(figsize=(20, 10))\n",
    "\n",
    "    plt.subplot(2,3,1)\n",
    "    plt.title(\"Prob. Dist. - Predicted \" + label_titles[0])\n",
    "    plt.hist([item[0] for item in test_probs])\n",
    "\n",
    "    plt.subplot(2,3,2)\n",
    "    plt.title(\"Prob. Dist. - Predicted \" + label_titles[1])\n",
    "    plt.hist([item[1] for item in test_probs])\n",
    "\n",
    "    plt.subplot(2,3,3)\n",
    "    plt.title(\"Prob. Dist. - Predicted \" + label_titles[2])\n",
    "    plt.hist([item[2] for item in test_probs])\n",
    "\n",
    "    plt.subplot(2,3,4)\n",
    "    plt.title(\"Prob. Dist., by True Label - \" + label_titles[0])\n",
    "    sns.distplot([item[0] for item in test_probs[true_labels==label_titles[0]]], hist = False, label = \"True \" + label_titles[0])\n",
    "    sns.distplot([item[0] for item in test_probs[true_labels==label_titles[1]]], hist = False, label = \"True \" + label_titles[1])\n",
    "    sns.distplot([item[0] for item in test_probs[true_labels==label_titles[2]]], hist = False, label = \"True \" + label_titles[2])\n",
    "\n",
    "    plt.subplot(2,3,5)\n",
    "    plt.title(\"Prob. Dist., by True Label - \" + label_titles[1])\n",
    "    sns.distplot([item[1] for item in test_probs[true_labels==label_titles[0]]], hist = False, label = \"True \" + label_titles[0])\n",
    "    sns.distplot([item[1] for item in test_probs[true_labels==label_titles[1]]], hist = False, label = \"True \" + label_titles[1])\n",
    "    sns.distplot([item[1] for item in test_probs[true_labels==label_titles[2]]], hist = False, label = \"True \" + label_titles[2])\n",
    "    \n",
    "    plt.subplot(2,3,6)\n",
    "    plt.title(\"Prob. Dist., by True Label - \" + label_titles[2])\n",
    "    sns.distplot([item[2] for item in test_probs[true_labels==label_titles[0]]], hist = False, label = \"True \" + label_titles[0])\n",
    "    sns.distplot([item[2] for item in test_probs[true_labels==label_titles[1]]], hist = False, label = \"True \" + label_titles[1])\n",
    "    sns.distplot([item[2] for item in test_probs[true_labels==label_titles[2]]], hist = False, label = \"True \" + label_titles[2])\n",
    "\n",
    "    plt.show()"
   ]
  },
  {
   "cell_type": "code",
   "execution_count": 27,
   "metadata": {},
   "outputs": [],
   "source": [
    "# model_hillary = KerasClassifier(build_fn = bert_lstm_model(max_length_in = max_length, optimizer = 'adam'),\n",
    "#                                 validation_split = 0.2, verbose = 2,\n",
    "#                                 batch_size = 32, epochs = 15)\n",
    "\n",
    "\n",
    "# # Use GridSearchCV to find the best value for alpha \n",
    "# alpha_params = {'bert_fine_tune_layers': [10, 12, 14],\n",
    "#                'learning_rate_in': [0.1, 0.5, 1],\n",
    "#                'dropout_rate_in': [0.5, 0.75, 0.9]}\n",
    "# # alpha_params = {'epochs': [5,10,15],\n",
    "# #                'batches': [10,32,50]}\n",
    "\n",
    "# model_hillary_cv = GridSearchCV(estimator = model_hillary, \n",
    "#                                 param_grid = alpha_params, \n",
    "#                                 return_train_score = True,\n",
    "#                                 cv = 3, n_jobs = 1)\n",
    "\n",
    "# model_hillary_cv.fit(\n",
    "#     X = hillary_train_subset['bert'], \n",
    "#     Y = hillary_train_subset['labels_encoded'])\n",
    "\n",
    "# print('Best Bert Fine Tune Layers parameter: ' + str(model_hillary_cv.best_params_['bert_fine_tune_layers']))\n",
    "# print('Best Learning Rate parameter: ' + str(model_hillary_cv.best_params_['learning_rate_in']))\n",
    "# print('Best Dropout Rate parameter: ' + str(model_hillary_cv.best_params_['dropout_rate_in']))\n",
    "\n",
    "# pred_test_hillary = model_hillary_cv.predict(x = hillary_test_subset['bert'])\n",
    "\n",
    "# standard_metrics(true_labels = hillary_test_subset['labels_text'], \n",
    "#                  test_probs = pred_test_hillary,\n",
    "#                  label_titles = label_categories)"
   ]
  }
 ],
 "metadata": {
  "kernelspec": {
   "display_name": "Python 3",
   "language": "python",
   "name": "python3"
  },
  "language_info": {
   "codemirror_mode": {
    "name": "ipython",
    "version": 3
   },
   "file_extension": ".py",
   "mimetype": "text/x-python",
   "name": "python",
   "nbconvert_exporter": "python",
   "pygments_lexer": "ipython3",
   "version": "3.7.3"
  }
 },
 "nbformat": 4,
 "nbformat_minor": 2
}
