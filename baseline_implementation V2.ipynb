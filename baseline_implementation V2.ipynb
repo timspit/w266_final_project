{
 "cells": [
  {
   "cell_type": "code",
   "execution_count": 1,
   "metadata": {},
   "outputs": [],
   "source": [
    "import pandas as pd\n",
    "import numpy as np\n",
    "from common import utils\n",
    "from nltk.util import ngrams\n",
    "from sklearn.feature_extraction.text import CountVectorizer\n",
    "from scipy.sparse import csr_matrix, hstack\n",
    "from sklearn.svm import SVC\n",
    "from sklearn.metrics import f1_score\n",
    "import time\n",
    "import re\n",
    "from sklearn.metrics import confusion_matrix, classification_report\n",
    "import matplotlib.pyplot as plt\n",
    "from sklearn.model_selection import GridSearchCV\n",
    "import os\n",
    "%matplotlib inline\n",
    "\n",
    "os.chdir(\"/Users/alexdessouky/Desktop/MIDS/w266\")\n",
    "\n",
    "#load training data\n",
    "twitter_train = pd.read_excel('./w266_final_project/StanceDataset/train.xlsx')\n",
    "\n",
    "#load test data\n",
    "twitter_test = pd.read_excel('./w266_final_project/StanceDataset/test.xlsx')\n"
   ]
  },
  {
   "cell_type": "markdown",
   "metadata": {},
   "source": [
    "## Implement baseline - SVM with n-gram features as per the original paper"
   ]
  },
  {
   "cell_type": "code",
   "execution_count": 2,
   "metadata": {},
   "outputs": [
    {
     "data": {
      "text/html": [
       "<div>\n",
       "<style scoped>\n",
       "    .dataframe tbody tr th:only-of-type {\n",
       "        vertical-align: middle;\n",
       "    }\n",
       "\n",
       "    .dataframe tbody tr th {\n",
       "        vertical-align: top;\n",
       "    }\n",
       "\n",
       "    .dataframe thead th {\n",
       "        text-align: right;\n",
       "    }\n",
       "</style>\n",
       "<table border=\"1\" class=\"dataframe\">\n",
       "  <thead>\n",
       "    <tr style=\"text-align: right;\">\n",
       "      <th></th>\n",
       "      <th>Tweet</th>\n",
       "      <th>Target</th>\n",
       "      <th>Stance</th>\n",
       "      <th>Opinion Towards</th>\n",
       "      <th>Sentiment</th>\n",
       "    </tr>\n",
       "  </thead>\n",
       "  <tbody>\n",
       "    <tr>\n",
       "      <td>0</td>\n",
       "      <td>@tedcruz And, #HandOverTheServer she wiped cle...</td>\n",
       "      <td>Hillary Clinton</td>\n",
       "      <td>AGAINST</td>\n",
       "      <td>1.  The tweet explicitly expresses opinion abo...</td>\n",
       "      <td>neg</td>\n",
       "    </tr>\n",
       "    <tr>\n",
       "      <td>1</td>\n",
       "      <td>Hillary is our best choice if we truly want to...</td>\n",
       "      <td>Hillary Clinton</td>\n",
       "      <td>FAVOR</td>\n",
       "      <td>1.  The tweet explicitly expresses opinion abo...</td>\n",
       "      <td>pos</td>\n",
       "    </tr>\n",
       "    <tr>\n",
       "      <td>2</td>\n",
       "      <td>@TheView I think our country is ready for a fe...</td>\n",
       "      <td>Hillary Clinton</td>\n",
       "      <td>AGAINST</td>\n",
       "      <td>1.  The tweet explicitly expresses opinion abo...</td>\n",
       "      <td>neg</td>\n",
       "    </tr>\n",
       "    <tr>\n",
       "      <td>3</td>\n",
       "      <td>I just gave an unhealthy amount of my hard-ear...</td>\n",
       "      <td>Hillary Clinton</td>\n",
       "      <td>AGAINST</td>\n",
       "      <td>1.  The tweet explicitly expresses opinion abo...</td>\n",
       "      <td>neg</td>\n",
       "    </tr>\n",
       "    <tr>\n",
       "      <td>4</td>\n",
       "      <td>@PortiaABoulger Thank you for adding me to you...</td>\n",
       "      <td>Hillary Clinton</td>\n",
       "      <td>NONE</td>\n",
       "      <td>3.  The tweet is not explicitly expressing opi...</td>\n",
       "      <td>pos</td>\n",
       "    </tr>\n",
       "  </tbody>\n",
       "</table>\n",
       "</div>"
      ],
      "text/plain": [
       "                                               Tweet           Target  \\\n",
       "0  @tedcruz And, #HandOverTheServer she wiped cle...  Hillary Clinton   \n",
       "1  Hillary is our best choice if we truly want to...  Hillary Clinton   \n",
       "2  @TheView I think our country is ready for a fe...  Hillary Clinton   \n",
       "3  I just gave an unhealthy amount of my hard-ear...  Hillary Clinton   \n",
       "4  @PortiaABoulger Thank you for adding me to you...  Hillary Clinton   \n",
       "\n",
       "    Stance                                    Opinion Towards Sentiment  \n",
       "0  AGAINST  1.  The tweet explicitly expresses opinion abo...       neg  \n",
       "1    FAVOR  1.  The tweet explicitly expresses opinion abo...       pos  \n",
       "2  AGAINST  1.  The tweet explicitly expresses opinion abo...       neg  \n",
       "3  AGAINST  1.  The tweet explicitly expresses opinion abo...       neg  \n",
       "4     NONE  3.  The tweet is not explicitly expressing opi...       pos  "
      ]
     },
     "execution_count": 2,
     "metadata": {},
     "output_type": "execute_result"
    }
   ],
   "source": [
    "twitter_train.head()"
   ]
  },
  {
   "cell_type": "code",
   "execution_count": 3,
   "metadata": {},
   "outputs": [
    {
     "data": {
      "text/html": [
       "<div>\n",
       "<style scoped>\n",
       "    .dataframe tbody tr th:only-of-type {\n",
       "        vertical-align: middle;\n",
       "    }\n",
       "\n",
       "    .dataframe tbody tr th {\n",
       "        vertical-align: top;\n",
       "    }\n",
       "\n",
       "    .dataframe thead th {\n",
       "        text-align: right;\n",
       "    }\n",
       "</style>\n",
       "<table border=\"1\" class=\"dataframe\">\n",
       "  <thead>\n",
       "    <tr style=\"text-align: right;\">\n",
       "      <th></th>\n",
       "      <th>Tweet</th>\n",
       "      <th>Target</th>\n",
       "      <th>Stance</th>\n",
       "      <th>Opinion Towards</th>\n",
       "      <th>Sentiment</th>\n",
       "    </tr>\n",
       "  </thead>\n",
       "  <tbody>\n",
       "    <tr>\n",
       "      <td>0</td>\n",
       "      <td>He who exalts himself shall      be humbled; a...</td>\n",
       "      <td>Atheism</td>\n",
       "      <td>AGAINST</td>\n",
       "      <td>1.  The tweet explicitly expresses opinion abo...</td>\n",
       "      <td>pos</td>\n",
       "    </tr>\n",
       "    <tr>\n",
       "      <td>1</td>\n",
       "      <td>RT @prayerbullets: I remove Nehushtan -previou...</td>\n",
       "      <td>Atheism</td>\n",
       "      <td>AGAINST</td>\n",
       "      <td>1.  The tweet explicitly expresses opinion abo...</td>\n",
       "      <td>other</td>\n",
       "    </tr>\n",
       "    <tr>\n",
       "      <td>2</td>\n",
       "      <td>@Brainman365 @heidtjj @BenjaminLives I have so...</td>\n",
       "      <td>Atheism</td>\n",
       "      <td>AGAINST</td>\n",
       "      <td>1.  The tweet explicitly expresses opinion abo...</td>\n",
       "      <td>pos</td>\n",
       "    </tr>\n",
       "    <tr>\n",
       "      <td>3</td>\n",
       "      <td>#God is utterly powerless without Human interv...</td>\n",
       "      <td>Atheism</td>\n",
       "      <td>AGAINST</td>\n",
       "      <td>1.  The tweet explicitly expresses opinion abo...</td>\n",
       "      <td>neg</td>\n",
       "    </tr>\n",
       "    <tr>\n",
       "      <td>4</td>\n",
       "      <td>@David_Cameron   Miracles of #Multiculturalism...</td>\n",
       "      <td>Atheism</td>\n",
       "      <td>AGAINST</td>\n",
       "      <td>2. The tweet does NOT expresses opinion about ...</td>\n",
       "      <td>neg</td>\n",
       "    </tr>\n",
       "  </tbody>\n",
       "</table>\n",
       "</div>"
      ],
      "text/plain": [
       "                                               Tweet   Target   Stance  \\\n",
       "0  He who exalts himself shall      be humbled; a...  Atheism  AGAINST   \n",
       "1  RT @prayerbullets: I remove Nehushtan -previou...  Atheism  AGAINST   \n",
       "2  @Brainman365 @heidtjj @BenjaminLives I have so...  Atheism  AGAINST   \n",
       "3  #God is utterly powerless without Human interv...  Atheism  AGAINST   \n",
       "4  @David_Cameron   Miracles of #Multiculturalism...  Atheism  AGAINST   \n",
       "\n",
       "                                     Opinion Towards Sentiment  \n",
       "0  1.  The tweet explicitly expresses opinion abo...       pos  \n",
       "1  1.  The tweet explicitly expresses opinion abo...     other  \n",
       "2  1.  The tweet explicitly expresses opinion abo...       pos  \n",
       "3  1.  The tweet explicitly expresses opinion abo...       neg  \n",
       "4  2. The tweet does NOT expresses opinion about ...       neg  "
      ]
     },
     "execution_count": 3,
     "metadata": {},
     "output_type": "execute_result"
    }
   ],
   "source": [
    "twitter_test.head()"
   ]
  },
  {
   "cell_type": "code",
   "execution_count": 13,
   "metadata": {},
   "outputs": [
    {
     "data": {
      "text/plain": [
       "(1956, 5)"
      ]
     },
     "execution_count": 13,
     "metadata": {},
     "output_type": "execute_result"
    }
   ],
   "source": [
    "twitter_test.shape"
   ]
  },
  {
   "cell_type": "code",
   "execution_count": 4,
   "metadata": {},
   "outputs": [],
   "source": [
    "def preprocess_tweets(x):\n",
    "    \"\"\"Create preprocessor to retain @, !, #, ? when leveraging CountVectorizer to create word n-grams;\n",
    "    These characters are likely important to capturing stance given nature of a tweet\"\"\"\n",
    "    \n",
    "    tokens = x.replace(\"@\",\" ATSIGN \").replace(\"!\",\" XPT \").replace(\"#\",\" HASHTAG \").replace(\"?\",\" QUESTM \")\n",
    "    tokens = re.sub(\"\\d+\", \"DIGIT\", tokens)\n",
    "    return tokens"
   ]
  },
  {
   "cell_type": "code",
   "execution_count": 5,
   "metadata": {},
   "outputs": [],
   "source": [
    "def confusion_plot(confusion_matrix, target_names):\n",
    "    # Plot confusion matrix (via imshow)\n",
    "    plt.imshow(confusion_matrix, interpolation = \"nearest\", cmap = plt.cm.Blues)\n",
    "    plt.title(\"Confusion matrix\")\n",
    "    plt.colorbar()\n",
    "    tick_marks = np.arange(len(target_names))\n",
    "    plt.xticks(tick_marks, target_names)\n",
    "    plt.yticks(tick_marks, target_names)\n",
    "    plt.tight_layout()\n",
    "\n",
    "    # Loop through each value of the matrix to add data labels\n",
    "    width, height = confusion_matrix.shape\n",
    "    for x in range(width):\n",
    "        for y in range(height):\n",
    "            plt.annotate(str(confusion_matrix[x][y]), xy = (y, x), \n",
    "                        horizontalalignment = \"center\",\n",
    "                        verticalalignment = \"center\")\n",
    "    plt.ylabel(\"True label\")\n",
    "    plt.xlabel(\"Predicted label\")"
   ]
  },
  {
   "cell_type": "code",
   "execution_count": 6,
   "metadata": {},
   "outputs": [],
   "source": [
    "def svm_stance(train, test, topic_list):\n",
    "    \"\"\"This function takes a list of topics and returns the stance classification f1 score\n",
    "    of our baseline SVM implementation over the training / test data filtered for the applicable topics\"\"\"\n",
    "    \n",
    "    #convert topic list to lower case\n",
    "    for i in range(0,len(topic_list)):\n",
    "        topic_list[i] = topic_list[i].lower()\n",
    "    \n",
    "    #find boolean series of all rows pertaining to the relevant topics\n",
    "    matches_train = train['Target'].apply(lambda x: x.lower() in topic_list)\n",
    "    matches_test = test['Target'].apply(lambda x: x.lower() in topic_list)\n",
    "    \n",
    "    #carve out tweets\n",
    "    tweets_train = twitter_train[matches_train]['Tweet']\n",
    "    tweets_test = twitter_test[matches_test]['Tweet']\n",
    "\n",
    "    #convert stance to labels for feeding sklearn SVM\n",
    "    stance_labels_train = np.array(twitter_train[matches_train]['Stance'].apply(lambda x: \n",
    "                                                                                2 if x == \"FAVOR\" else \n",
    "                                                                                (1 if x == \"NONE\" else 0)))\n",
    "\n",
    "    stance_labels_test = np.array(twitter_test[matches_test]['Stance'].apply(lambda x: \n",
    "                                                                             2 if x == \"FAVOR\" else \n",
    "                                                                             (1 if x == \"NONE\" else 0)))\n",
    "\n",
    "    \n",
    "    #pass tweets through pre-processor before feeding to CountVectorizer for word n-gram features\n",
    "    preprocess_train = tweets_train.apply(lambda x: preprocess_tweets(x))\n",
    "    preprocess_test = tweets_test.apply(lambda x: preprocess_tweets(x))\n",
    "    \n",
    "    #convert training data to sparse matrix for n-gram words\n",
    "    word_grams = CountVectorizer(ngram_range = (1,3))\n",
    "    train_nwords = word_grams.fit_transform(preprocess_train)\n",
    "    \n",
    "    #convert test data to sparse matrix for n-gram words\n",
    "    test_nwords = word_grams.transform(preprocess_test)\n",
    "    \n",
    "    #convert training data to sparse matrix for n-gram chars\n",
    "    char_grams = CountVectorizer(ngram_range = (2,5), analyzer = 'char')\n",
    "    train_nchars = char_grams.fit_transform(tweets_train)\n",
    "    \n",
    "    #convert test data to sparse matrix for n-gram chars\n",
    "    test_nchars = char_grams.transform(tweets_test)\n",
    "    \n",
    "    #stack the word and char n-grams\n",
    "    train_grams = hstack((train_nwords, train_nchars))\n",
    "    test_grams = hstack((test_nwords, test_nchars))\n",
    "    \n",
    "    ##<<WE MAY WANT TO CONSIDER LEAVING OUT THE BELOW COMMENTED OUT CODE IT REALLY SLOWS IT DOWN\n",
    "    ##F1 SCORES ARE ALSO HIGHER WHEN WE DO NOT LEAVE IT IN THERE>>\n",
    "    \n",
    "    #turn counts into presence/absence indicators, as mentioned in the paper\n",
    "    #train_grams = pd.DataFrame(train_grams.todense())\n",
    "    #test_grams = pd.DataFrame(test_grams.todense())\n",
    "    \n",
    "    #train_grams = train_grams.applymap(lambda x: 1 if x > 1 else x)\n",
    "    #test_grams = test_grams.applymap(lambda x: 1 if x > 1 else x)\n",
    "    \n",
    "    #train_grams = csr_matrix(train_grams.values)\n",
    "    #test_grams = csr_matrix(test_grams.values)\n",
    "    \n",
    "    #Gridserach for tuning hyperparameters (C and class weights)\n",
    "    #param_grid = {'C':[0.001, 0.01, 0.05, 0.075, 0.1, 0.25, 0.5, 0.75, 1, 10, 100]}\n",
    "    \n",
    "    #svm_grid = SVC(kernel = 'linear')\n",
    "    \n",
    "    #grid = GridSearchCV(estimator=svm_grid, param_grid=param_grid, cv = 5, n_jobs = -1, verbose = 2)\n",
    "    #grid.fit(train_grams, stance_labels_train)\n",
    "    \n",
    "    #print(\"Best Hyperparameters:\")\n",
    "    #print(grid.best_params_)\n",
    "    \n",
    "    \n",
    "    #train SVM\n",
    "    start_time_train = time.time()\n",
    "    #svm = SVC(kernel = 'linear', C = grid.best_params_['C'])\n",
    "    svm = SVC(kernel = 'linear')\n",
    "    svm.fit(train_grams,stance_labels_train)\n",
    "    end_time_train = time.time()\n",
    "    print(\"Training time:\",end_time_train - start_time_train)\n",
    "\n",
    "    #prediction\n",
    "    start_time_predict = time.time()\n",
    "    stance_predict = svm.predict(test_grams)\n",
    "    end_time_predict = time.time()\n",
    "    print(\"Prediction time:\", end_time_predict - start_time_predict)\n",
    "\n",
    "    #calculate f1 score\n",
    "    f1 = f1_score(stance_labels_test, stance_predict, average = 'macro')\n",
    "    \n",
    "    report = classification_report(y_true = stance_labels_test, \n",
    "                                        y_pred = stance_predict,\n",
    "                                        target_names = ['Against', 'None', 'Favor'])\n",
    "    \n",
    "    confuse = confusion_matrix(y_true = stance_labels_test, y_pred = stance_predict) \n",
    "    \n",
    "    return f1, report, confuse"
   ]
  },
  {
   "cell_type": "code",
   "execution_count": 7,
   "metadata": {},
   "outputs": [
    {
     "name": "stdout",
     "output_type": "stream",
     "text": [
      "Training time: 0.7443690299987793\n",
      "Prediction time: 0.17616605758666992\n",
      "F1 score for atheism: 0.5854904526056756\n",
      "              precision    recall  f1-score   support\n",
      "\n",
      "     Against       0.81      0.85      0.83       160\n",
      "        None       0.47      0.50      0.48        28\n",
      "       Favor       0.55      0.38      0.44        32\n",
      "\n",
      "   micro avg       0.74      0.74      0.74       220\n",
      "   macro avg       0.61      0.58      0.59       220\n",
      "weighted avg       0.73      0.74      0.73       220\n",
      "\n"
     ]
    },
    {
     "data": {
      "image/png": "[encoded data removed]",
      "text/plain": [
       "<Figure size 1080x360 with 2 Axes>"
      ]
     },
     "metadata": {
      "needs_background": "light"
     },
     "output_type": "display_data"
    }
   ],
   "source": [
    "#Atheism\n",
    "f1_ath, report_ath, confuse_ath = svm_stance(twitter_train, twitter_test, ['Atheism'])\n",
    "print(\"F1 score for atheism:\", f1_ath)\n",
    "print(report_ath)\n",
    "\n",
    "plt.figure(figsize=(15, 5))\n",
    "confusion_plot(confuse_ath, ['Against', 'None', 'Favor'])\n",
    "plt.show()"
   ]
  },
  {
   "cell_type": "code",
   "execution_count": 8,
   "metadata": {},
   "outputs": [
    {
     "name": "stdout",
     "output_type": "stream",
     "text": [
      "Training time: 1.1621077060699463\n",
      "Prediction time: 0.3408083915710449\n",
      "F1 score for Hillary 0.6131716712675325\n",
      "              precision    recall  f1-score   support\n",
      "\n",
      "     Against       0.71      0.83      0.77       172\n",
      "        None       0.68      0.64      0.66        78\n",
      "       Favor       0.61      0.31      0.41        45\n",
      "\n",
      "   micro avg       0.70      0.70      0.70       295\n",
      "   macro avg       0.67      0.59      0.61       295\n",
      "weighted avg       0.69      0.70      0.68       295\n",
      "\n"
     ]
    },
    {
     "data": {
      "image/png": "[encoded data removed]",
      "text/plain": [
       "<Figure size 1080x360 with 2 Axes>"
      ]
     },
     "metadata": {
      "needs_background": "light"
     },
     "output_type": "display_data"
    }
   ],
   "source": [
    "#Hillary\n",
    "f1_hil, report_hil, confuse_hil = svm_stance(twitter_train, twitter_test, ['Hillary Clinton'])\n",
    "print(\"F1 score for Hillary\", f1_hil)\n",
    "print(report_hil)\n",
    "\n",
    "plt.figure(figsize=(15, 5))\n",
    "confusion_plot(confuse_hil, ['Against', 'None', 'Favor'])\n",
    "plt.show()"
   ]
  },
  {
   "cell_type": "code",
   "execution_count": 9,
   "metadata": {},
   "outputs": [
    {
     "name": "stdout",
     "output_type": "stream",
     "text": [
      "Training time: 1.143446922302246\n",
      "Prediction time: 0.32604098320007324\n",
      "F1 score for Abortion 0.581825535862803\n",
      "              precision    recall  f1-score   support\n",
      "\n",
      "     Against       0.81      0.67      0.74       189\n",
      "        None       0.39      0.62      0.48        45\n",
      "       Favor       0.50      0.57      0.53        46\n",
      "\n",
      "   micro avg       0.65      0.65      0.65       280\n",
      "   macro avg       0.57      0.62      0.58       280\n",
      "weighted avg       0.69      0.65      0.66       280\n",
      "\n"
     ]
    },
    {
     "data": {
      "image/png": "[encoded data removed]",
      "text/plain": [
       "<Figure size 1080x360 with 2 Axes>"
      ]
     },
     "metadata": {
      "needs_background": "light"
     },
     "output_type": "display_data"
    }
   ],
   "source": [
    "#Abortion\n",
    "f1_abort, report_abort, confuse_abort = svm_stance(twitter_train, twitter_test, ['Legalization of Abortion'])\n",
    "print(\"F1 score for Abortion\", f1_abort)\n",
    "print(report_abort)\n",
    "\n",
    "plt.figure(figsize=(15, 5))\n",
    "confusion_plot(confuse_abort, ['Against', 'None', 'Favor'])\n",
    "plt.show()"
   ]
  },
  {
   "cell_type": "code",
   "execution_count": 10,
   "metadata": {},
   "outputs": [
    {
     "name": "stdout",
     "output_type": "stream",
     "text": [
      "Training time: 0.4001598358154297\n",
      "Prediction time: 0.10959005355834961\n",
      "F1 score for climate change 0.4582788671023965\n",
      "              precision    recall  f1-score   support\n",
      "\n",
      "     Against       0.00      0.00      0.00        11\n",
      "        None       0.51      0.54      0.53        35\n",
      "       Favor       0.82      0.88      0.85       123\n",
      "\n",
      "   micro avg       0.75      0.75      0.75       169\n",
      "   macro avg       0.44      0.47      0.46       169\n",
      "weighted avg       0.70      0.75      0.73       169\n",
      "\n"
     ]
    },
    {
     "name": "stderr",
     "output_type": "stream",
     "text": [
      "/Users/alexdessouky/anaconda3/lib/python3.6/site-packages/sklearn/metrics/classification.py:1143: UndefinedMetricWarning: F-score is ill-defined and being set to 0.0 in labels with no predicted samples.\n",
      "  'precision', 'predicted', average, warn_for)\n",
      "/Users/alexdessouky/anaconda3/lib/python3.6/site-packages/sklearn/metrics/classification.py:1143: UndefinedMetricWarning: Precision and F-score are ill-defined and being set to 0.0 in labels with no predicted samples.\n",
      "  'precision', 'predicted', average, warn_for)\n"
     ]
    },
    {
     "data": {
      "image/png": "[encoded data removed]",
      "text/plain": [
       "<Figure size 1080x360 with 2 Axes>"
      ]
     },
     "metadata": {
      "needs_background": "light"
     },
     "output_type": "display_data"
    }
   ],
   "source": [
    "#Climate\n",
    "f1_clim, report_clim, confuse_clim = svm_stance(twitter_train, twitter_test, ['Climate Change is a Real Concern'])\n",
    "print(\"F1 score for climate change\", f1_clim)\n",
    "print(report_clim)\n",
    "\n",
    "plt.figure(figsize=(15, 5))\n",
    "confusion_plot(confuse_clim, ['Against', 'None', 'Favor'])\n",
    "plt.show()"
   ]
  },
  {
   "cell_type": "code",
   "execution_count": 11,
   "metadata": {},
   "outputs": [
    {
     "name": "stdout",
     "output_type": "stream",
     "text": [
      "Training time: 1.0987768173217773\n",
      "Prediction time: 0.31596899032592773\n",
      "F1 score for feminist mov 0.5683636145589733\n",
      "              precision    recall  f1-score   support\n",
      "\n",
      "     Against       0.79      0.62      0.70       183\n",
      "        None       0.50      0.52      0.51        44\n",
      "       Favor       0.40      0.66      0.50        58\n",
      "\n",
      "   micro avg       0.61      0.61      0.61       285\n",
      "   macro avg       0.56      0.60      0.57       285\n",
      "weighted avg       0.67      0.61      0.63       285\n",
      "\n"
     ]
    },
    {
     "data": {
      "image/png": "[encoded data removed]",
      "text/plain": [
       "<Figure size 1080x360 with 2 Axes>"
      ]
     },
     "metadata": {
      "needs_background": "light"
     },
     "output_type": "display_data"
    }
   ],
   "source": [
    "#Feminism\n",
    "f1_fem, report_fem, confuse_fem = svm_stance(twitter_train, twitter_test, ['Feminist Movement'])\n",
    "print(\"F1 score for feminist mov\", f1_fem)\n",
    "print(report_fem)\n",
    "\n",
    "plt.figure(figsize=(15, 5))\n",
    "confusion_plot(confuse_fem, ['Against', 'None', 'Favor'])\n",
    "plt.show()"
   ]
  },
  {
   "cell_type": "code",
   "execution_count": 12,
   "metadata": {},
   "outputs": [
    {
     "name": "stdout",
     "output_type": "stream",
     "text": [
      "Training time: 20.201112985610962\n",
      "Prediction time: 5.878521919250488\n",
      "F1 score for all topics 0.6016530892519937\n",
      "              precision    recall  f1-score   support\n",
      "\n",
      "     Against       0.74      0.69      0.71       715\n",
      "        None       0.52      0.60      0.55       230\n",
      "       Favor       0.53      0.55      0.54       304\n",
      "\n",
      "   micro avg       0.64      0.64      0.64      1249\n",
      "   macro avg       0.59      0.61      0.60      1249\n",
      "weighted avg       0.65      0.64      0.64      1249\n",
      "\n"
     ]
    },
    {
     "data": {
      "image/png": "[encoded data removed]",
      "text/plain": [
       "<Figure size 1080x360 with 2 Axes>"
      ]
     },
     "metadata": {
      "needs_background": "light"
     },
     "output_type": "display_data"
    }
   ],
   "source": [
    "#All\n",
    "all_tops = ['Hillary Clinton', 'Legalization of Abortion', 'Climate Change is a Real Concern',\n",
    "           'Feminist Movement', 'Atheism']\n",
    "f1_all, all_report, confuse_all = svm_stance(twitter_train, twitter_test, all_tops)\n",
    "print(\"F1 score for all topics\", f1_all)\n",
    "print(all_report)\n",
    "\n",
    "plt.figure(figsize=(15, 5))\n",
    "confusion_plot(confuse_all, ['Against', 'None', 'Favor'])\n",
    "plt.show()"
   ]
  },
  {
   "cell_type": "code",
   "execution_count": null,
   "metadata": {},
   "outputs": [],
   "source": []
  }
 ],
 "metadata": {
  "kernelspec": {
   "display_name": "Python 3",
   "language": "python",
   "name": "python3"
  },
  "language_info": {
   "codemirror_mode": {
    "name": "ipython",
    "version": 3
   },
   "file_extension": ".py",
   "mimetype": "text/x-python",
   "name": "python",
   "nbconvert_exporter": "python",
   "pygments_lexer": "ipython3",
   "version": "3.7.4"
  }
 },
 "nbformat": 4,
 "nbformat_minor": 2
}
