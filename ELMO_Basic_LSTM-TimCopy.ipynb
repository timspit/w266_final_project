{
 "cells": [
  {
   "cell_type": "code",
   "execution_count": 158,
   "metadata": {},
   "outputs": [],
   "source": [
    "# Systems and Storage\n",
    "import os\n",
    "import pickle\n",
    "import time\n",
    "from collections import Counter\n",
    "\n",
    "# Data structures\n",
    "import pandas as pd\n",
    "import numpy as np\n",
    "\n",
    "# Strings\n",
    "import re\n",
    "import string\n",
    "\n",
    "# Model: sklearn\n",
    "from sklearn.preprocessing import OneHotEncoder\n",
    "from sklearn.model_selection import train_test_split, GridSearchCV\n",
    "# Model: TensorFlow\n",
    "import tensorflow as tf\n",
    "import tensorflow_hub as hub\n",
    "\n",
    "# Outputs\n",
    "from sklearn.metrics import f1_score, confusion_matrix, classification_report\n",
    "import matplotlib.pyplot as plt\n",
    "%matplotlib inline\n",
    "import seaborn as sns"
   ]
  },
  {
   "cell_type": "markdown",
   "metadata": {},
   "source": [
    "## Import Data"
   ]
  },
  {
   "cell_type": "code",
   "execution_count": null,
   "metadata": {},
   "outputs": [],
   "source": [
    "# os.chdir(\"/Users/alexdessouky/Desktop/MIDS/w266\")\n",
    "os.chdir(\"/Users/manat/OneDrive/Documents/Tim/MIDS/266_NLP/Final Project\")\n",
    "\n",
    "#load training data\n",
    "twitter_train = pd.read_excel('./w266_final_project/StanceDataset/train.xlsx')\n",
    "\n",
    "#load test data\n",
    "twitter_test = pd.read_excel('./w266_final_project/StanceDataset/test.xlsx')"
   ]
  },
  {
   "cell_type": "code",
   "execution_count": 2,
   "metadata": {},
   "outputs": [
    {
     "data": {
      "text/html": [
       "<div>\n",
       "<style scoped>\n",
       "    .dataframe tbody tr th:only-of-type {\n",
       "        vertical-align: middle;\n",
       "    }\n",
       "\n",
       "    .dataframe tbody tr th {\n",
       "        vertical-align: top;\n",
       "    }\n",
       "\n",
       "    .dataframe thead th {\n",
       "        text-align: right;\n",
       "    }\n",
       "</style>\n",
       "<table border=\"1\" class=\"dataframe\">\n",
       "  <thead>\n",
       "    <tr style=\"text-align: right;\">\n",
       "      <th></th>\n",
       "      <th>Tweet</th>\n",
       "      <th>Target</th>\n",
       "      <th>Stance</th>\n",
       "      <th>Opinion Towards</th>\n",
       "      <th>Sentiment</th>\n",
       "    </tr>\n",
       "  </thead>\n",
       "  <tbody>\n",
       "    <tr>\n",
       "      <th>0</th>\n",
       "      <td>@tedcruz And, #HandOverTheServer she wiped cle...</td>\n",
       "      <td>Hillary Clinton</td>\n",
       "      <td>AGAINST</td>\n",
       "      <td>1.  The tweet explicitly expresses opinion abo...</td>\n",
       "      <td>neg</td>\n",
       "    </tr>\n",
       "    <tr>\n",
       "      <th>1</th>\n",
       "      <td>Hillary is our best choice if we truly want to...</td>\n",
       "      <td>Hillary Clinton</td>\n",
       "      <td>FAVOR</td>\n",
       "      <td>1.  The tweet explicitly expresses opinion abo...</td>\n",
       "      <td>pos</td>\n",
       "    </tr>\n",
       "    <tr>\n",
       "      <th>2</th>\n",
       "      <td>@TheView I think our country is ready for a fe...</td>\n",
       "      <td>Hillary Clinton</td>\n",
       "      <td>AGAINST</td>\n",
       "      <td>1.  The tweet explicitly expresses opinion abo...</td>\n",
       "      <td>neg</td>\n",
       "    </tr>\n",
       "    <tr>\n",
       "      <th>3</th>\n",
       "      <td>I just gave an unhealthy amount of my hard-ear...</td>\n",
       "      <td>Hillary Clinton</td>\n",
       "      <td>AGAINST</td>\n",
       "      <td>1.  The tweet explicitly expresses opinion abo...</td>\n",
       "      <td>neg</td>\n",
       "    </tr>\n",
       "    <tr>\n",
       "      <th>4</th>\n",
       "      <td>@PortiaABoulger Thank you for adding me to you...</td>\n",
       "      <td>Hillary Clinton</td>\n",
       "      <td>NONE</td>\n",
       "      <td>3.  The tweet is not explicitly expressing opi...</td>\n",
       "      <td>pos</td>\n",
       "    </tr>\n",
       "  </tbody>\n",
       "</table>\n",
       "</div>"
      ],
      "text/plain": [
       "                                               Tweet           Target  \\\n",
       "0  @tedcruz And, #HandOverTheServer she wiped cle...  Hillary Clinton   \n",
       "1  Hillary is our best choice if we truly want to...  Hillary Clinton   \n",
       "2  @TheView I think our country is ready for a fe...  Hillary Clinton   \n",
       "3  I just gave an unhealthy amount of my hard-ear...  Hillary Clinton   \n",
       "4  @PortiaABoulger Thank you for adding me to you...  Hillary Clinton   \n",
       "\n",
       "    Stance                                    Opinion Towards Sentiment  \n",
       "0  AGAINST  1.  The tweet explicitly expresses opinion abo...       neg  \n",
       "1    FAVOR  1.  The tweet explicitly expresses opinion abo...       pos  \n",
       "2  AGAINST  1.  The tweet explicitly expresses opinion abo...       neg  \n",
       "3  AGAINST  1.  The tweet explicitly expresses opinion abo...       neg  \n",
       "4     NONE  3.  The tweet is not explicitly expressing opi...       pos  "
      ]
     },
     "execution_count": 2,
     "metadata": {},
     "output_type": "execute_result"
    }
   ],
   "source": [
    "twitter_train.head()"
   ]
  },
  {
   "cell_type": "code",
   "execution_count": 3,
   "metadata": {},
   "outputs": [
    {
     "data": {
      "text/html": [
       "<div>\n",
       "<style scoped>\n",
       "    .dataframe tbody tr th:only-of-type {\n",
       "        vertical-align: middle;\n",
       "    }\n",
       "\n",
       "    .dataframe tbody tr th {\n",
       "        vertical-align: top;\n",
       "    }\n",
       "\n",
       "    .dataframe thead th {\n",
       "        text-align: right;\n",
       "    }\n",
       "</style>\n",
       "<table border=\"1\" class=\"dataframe\">\n",
       "  <thead>\n",
       "    <tr style=\"text-align: right;\">\n",
       "      <th></th>\n",
       "      <th>Tweet</th>\n",
       "      <th>Target</th>\n",
       "      <th>Stance</th>\n",
       "      <th>Opinion Towards</th>\n",
       "      <th>Sentiment</th>\n",
       "    </tr>\n",
       "  </thead>\n",
       "  <tbody>\n",
       "    <tr>\n",
       "      <th>0</th>\n",
       "      <td>He who exalts himself shall      be humbled; a...</td>\n",
       "      <td>Atheism</td>\n",
       "      <td>AGAINST</td>\n",
       "      <td>1.  The tweet explicitly expresses opinion abo...</td>\n",
       "      <td>pos</td>\n",
       "    </tr>\n",
       "    <tr>\n",
       "      <th>1</th>\n",
       "      <td>RT @prayerbullets: I remove Nehushtan -previou...</td>\n",
       "      <td>Atheism</td>\n",
       "      <td>AGAINST</td>\n",
       "      <td>1.  The tweet explicitly expresses opinion abo...</td>\n",
       "      <td>other</td>\n",
       "    </tr>\n",
       "    <tr>\n",
       "      <th>2</th>\n",
       "      <td>@Brainman365 @heidtjj @BenjaminLives I have so...</td>\n",
       "      <td>Atheism</td>\n",
       "      <td>AGAINST</td>\n",
       "      <td>1.  The tweet explicitly expresses opinion abo...</td>\n",
       "      <td>pos</td>\n",
       "    </tr>\n",
       "    <tr>\n",
       "      <th>3</th>\n",
       "      <td>#God is utterly powerless without Human interv...</td>\n",
       "      <td>Atheism</td>\n",
       "      <td>AGAINST</td>\n",
       "      <td>1.  The tweet explicitly expresses opinion abo...</td>\n",
       "      <td>neg</td>\n",
       "    </tr>\n",
       "    <tr>\n",
       "      <th>4</th>\n",
       "      <td>@David_Cameron   Miracles of #Multiculturalism...</td>\n",
       "      <td>Atheism</td>\n",
       "      <td>AGAINST</td>\n",
       "      <td>2. The tweet does NOT expresses opinion about ...</td>\n",
       "      <td>neg</td>\n",
       "    </tr>\n",
       "  </tbody>\n",
       "</table>\n",
       "</div>"
      ],
      "text/plain": [
       "                                               Tweet   Target   Stance  \\\n",
       "0  He who exalts himself shall      be humbled; a...  Atheism  AGAINST   \n",
       "1  RT @prayerbullets: I remove Nehushtan -previou...  Atheism  AGAINST   \n",
       "2  @Brainman365 @heidtjj @BenjaminLives I have so...  Atheism  AGAINST   \n",
       "3  #God is utterly powerless without Human interv...  Atheism  AGAINST   \n",
       "4  @David_Cameron   Miracles of #Multiculturalism...  Atheism  AGAINST   \n",
       "\n",
       "                                     Opinion Towards Sentiment  \n",
       "0  1.  The tweet explicitly expresses opinion abo...       pos  \n",
       "1  1.  The tweet explicitly expresses opinion abo...     other  \n",
       "2  1.  The tweet explicitly expresses opinion abo...       pos  \n",
       "3  1.  The tweet explicitly expresses opinion abo...       neg  \n",
       "4  2. The tweet does NOT expresses opinion about ...       neg  "
      ]
     },
     "execution_count": 3,
     "metadata": {},
     "output_type": "execute_result"
    }
   ],
   "source": [
    "twitter_test.head()"
   ]
  },
  {
   "cell_type": "markdown",
   "metadata": {},
   "source": [
    "## Elmo Embeddings  \n",
    "\n",
    "Read in from pre-calculated pickle files (temporary solution)"
   ]
  },
  {
   "cell_type": "code",
   "execution_count": 30,
   "metadata": {},
   "outputs": [],
   "source": [
    "# ELMO OUTPUTS\n",
    "with open(\"./ELMO Outputs v.2/elmo_train.pickle\", \"rb\") as f:\n",
    "    elmo_train = pickle.load(f)\n",
    "    \n",
    "with open(\"./ELMO Outputs v.2/elmo_test.pickle\", \"rb\") as f:\n",
    "    elmo_test = pickle.load(f)"
   ]
  },
  {
   "cell_type": "code",
   "execution_count": 36,
   "metadata": {},
   "outputs": [
    {
     "data": {
      "text/plain": [
       "dict_keys(['word_emb', 'sequence_len', 'elmo', 'default', 'lstm_outputs1', 'lstm_outputs2'])"
      ]
     },
     "execution_count": 36,
     "metadata": {},
     "output_type": "execute_result"
    }
   ],
   "source": [
    "elmo_train.keys()"
   ]
  },
  {
   "cell_type": "markdown",
   "metadata": {},
   "source": [
    "Padding"
   ]
  },
  {
   "cell_type": "code",
   "execution_count": 42,
   "metadata": {},
   "outputs": [
    {
     "name": "stdout",
     "output_type": "stream",
     "text": [
      "Train shape: (2914, 32, 1024)\n",
      "Test shape (pre-padding): (1956, 30, 1024)\n",
      "Test shape (post-padding): (1956, 32, 1024)\n"
     ]
    }
   ],
   "source": [
    "print(\"Train shape: \" + str(input_dict_train['elmo']['elmo'].shape))\n",
    "print(\"Test shape (pre-padding): \" + str(input_dict_test['elmo']['elmo'].shape))\n",
    "\n",
    "print(\"Test shape (post-padding): \" + str(np.pad(input_dict_test['elmo']['elmo'], \n",
    "                                                 pad_width = ((0,0),(1,1),(0,0)), \n",
    "                                                 mode = 'constant', \n",
    "                                                 constant_values = 0).shape))"
   ]
  },
  {
   "cell_type": "markdown",
   "metadata": {},
   "source": [
    "## Pre-Processing  \n",
    "\n",
    "### Labels"
   ]
  },
  {
   "cell_type": "code",
   "execution_count": 121,
   "metadata": {},
   "outputs": [
    {
     "name": "stdout",
     "output_type": "stream",
     "text": [
      "['AGAINST' 'FAVOR' 'NONE']\n",
      "[[1. 0. 0.]\n",
      " [0. 1. 0.]\n",
      " [1. 0. 0.]\n",
      " [1. 0. 0.]\n",
      " [0. 0. 1.]]\n"
     ]
    }
   ],
   "source": [
    "# PREP LABELS FOR NN\n",
    "stance_train = np.array(twitter_train['Stance'])\n",
    "stance_test = np.array(twitter_test['Stance'])\n",
    "\n",
    "# One-hot Encoder\n",
    "enc = OneHotEncoder(handle_unknown = 'ignore')\n",
    "enc.fit(stance_train.reshape(-1, 1))\n",
    "label_categories = enc.categories_[0]\n",
    "\n",
    "labels_train = enc.transform(stance_train.reshape(-1, 1)).toarray()\n",
    "labels_test = enc.transform(stance_test.reshape(-1, 1)).toarray()\n",
    "\n",
    "print(label_categories)\n",
    "print(labels_train[:5])"
   ]
  },
  {
   "cell_type": "code",
   "execution_count": 122,
   "metadata": {},
   "outputs": [
    {
     "name": "stdout",
     "output_type": "stream",
     "text": [
      "Train Data\n",
      "Data shape: (2914, 5)\n",
      "Labels shape: (2914, 3)\n",
      "Elmo shape: (2914, 32, 1024)\n"
     ]
    }
   ],
   "source": [
    "# CHECK resource sizes\n",
    "print(\"Train Data\")\n",
    "print(\"Data shape: \" + str(twitter_train.shape))\n",
    "print(\"Labels shape: \" + str(labels_train.shape))\n",
    "print(\"Elmo shape: \" + str(elmo_train['elmo'].shape))"
   ]
  },
  {
   "cell_type": "markdown",
   "metadata": {},
   "source": [
    "### Input Dictionaries"
   ]
  },
  {
   "cell_type": "code",
   "execution_count": 123,
   "metadata": {},
   "outputs": [],
   "source": [
    "input_dict_train = {}\n",
    "input_dict_train['data'] = twitter_train\n",
    "input_dict_train['labels_raw'] = stance_train\n",
    "input_dict_train['labels'] = labels_train\n",
    "input_dict_train['elmo'] = elmo_train\n",
    "\n",
    "input_dict_test = {}\n",
    "input_dict_test['data'] = twitter_test\n",
    "input_dict_test['labels_raw'] = stance_test\n",
    "input_dict_test['labels'] = labels_test\n",
    "input_dict_test['elmo'] = elmo_test"
   ]
  },
  {
   "cell_type": "markdown",
   "metadata": {},
   "source": [
    "## Topic subsets"
   ]
  },
  {
   "cell_type": "code",
   "execution_count": 177,
   "metadata": {},
   "outputs": [],
   "source": [
    "def topic_subset(input_train, input_test, \n",
    "                 topics_selected, embed_layer):\n",
    "        \n",
    "    # Topics to lower case\n",
    "    for i in range(0,len(topics_selected)):\n",
    "        topics_selected[i] = topics_selected[i].lower()\n",
    "    \n",
    "    # SUBSET - Boolean series of all rows pertaining to the relevant topics\n",
    "    matches_train = input_train['data']['Target'].apply(lambda x: x.lower() in topics_selected)\n",
    "    matches_test = input_test['data']['Target'].apply(lambda x: x.lower() in topics_selected)\n",
    "    \n",
    "    # Subset features\n",
    "    embeddings_train = input_train['elmo'][embed_layer][matches_train,:,:]\n",
    "    embeddings_test = np.pad(input_test['elmo'][embed_layer], \n",
    "                             pad_width = ((0,0),(1,1),(0,0)), \n",
    "                             mode = 'constant', \n",
    "                             constant_values = 0)[matches_test,:,:]\n",
    "    \n",
    "    # Subset labels\n",
    "    labels_train = input_train['labels'][matches_train,:]\n",
    "    labels_test = input_test['labels'][matches_test,:]\n",
    "    \n",
    "    # Training class counts\n",
    "    labels_weight_train = np.sum(labels_train, axis = 0) # Counter(input_train['labels_raw'])\n",
    "    \n",
    "    # Subset raw test labels for output metrics\n",
    "    labels_raw_test = input_test['labels_raw'][matches_test]\n",
    "    \n",
    "    # Dev Split - NOTE - keras fit function can do this automatically\n",
    "#     embeddings_train, embeddings_dev, labels_train, labels_dev = train_test_split(embeddings_train, \n",
    "#                                                                                   labels_train, \n",
    "#                                                                                   test_size = 0.2, random_state = 42)\n",
    "    \n",
    "    # Return dictionary\n",
    "    output_dict = {}\n",
    "    output_dict['embeddings_train'] = embeddings_train\n",
    "#     output_dict['embeddings_dev'] = embeddings_dev\n",
    "    output_dict['embeddings_test'] = embeddings_test\n",
    "    output_dict['labels_train'] = labels_train\n",
    "#     output_dict['labels_dev'] = labels_dev\n",
    "    output_dict['labels_test'] = labels_test\n",
    "    output_dict['labels_weight_train'] = labels_weight_train\n",
    "    output_dict['labels_raw_test'] = labels_raw_test\n",
    "    \n",
    "    return output_dict"
   ]
  },
  {
   "cell_type": "code",
   "execution_count": 178,
   "metadata": {},
   "outputs": [],
   "source": [
    "# Atheism\n",
    "atheism_dict = topic_subset(input_train = input_dict_train,\n",
    "                            input_test = input_dict_test,\n",
    "                            topics_selected = ['Atheism'], \n",
    "                            embed_layer = 'elmo')"
   ]
  },
  {
   "cell_type": "code",
   "execution_count": 179,
   "metadata": {},
   "outputs": [
    {
     "name": "stdout",
     "output_type": "stream",
     "text": [
      "Atheism Subset\n",
      "Embeddings (train) shape: (513, 32, 1024)\n",
      "Labels (train) shape: (513, 3)\n",
      "Embeddings (test) shape: (220, 32, 1024)\n",
      "Labels (test) shape: (220, 3)\n",
      "Raw Labels (test) shape: (220,)\n",
      "Class weights (train) shape: 3\n"
     ]
    }
   ],
   "source": [
    "# Check sizes\n",
    "print(\"Atheism Subset\")\n",
    "print(\"Embeddings (train) shape: \" + str(atheism_dict['embeddings_train'].shape))\n",
    "print(\"Labels (train) shape: \" + str(atheism_dict['labels_train'].shape))\n",
    "# print(\"Embeddings (dev) shape: \" + str(atheism_dict['embeddings_dev'].shape))\n",
    "# print(\"Labels (dev) shape: \" + str(atheism_dict['labels_dev'].shape))\n",
    "print(\"Embeddings (test) shape: \" + str(atheism_dict['embeddings_test'].shape))\n",
    "print(\"Labels (test) shape: \" + str(atheism_dict['labels_test'].shape))\n",
    "print(\"Raw Labels (test) shape: \" + str(atheism_dict['labels_raw_test'].shape))\n",
    "print(\"Class weights (train) shape: \" + str(len(atheism_dict['labels_weight_train'])))"
   ]
  },
  {
   "cell_type": "markdown",
   "metadata": {},
   "source": [
    "## Helper function for model performances"
   ]
  },
  {
   "cell_type": "code",
   "execution_count": 149,
   "metadata": {},
   "outputs": [],
   "source": [
    "def confusion_plot(confusion_matrix, target_names):\n",
    "    # Plot confusion matrix (via imshow)\n",
    "    plt.imshow(confusion_matrix, interpolation = \"nearest\", cmap = plt.cm.Blues)\n",
    "    plt.title(\"Confusion matrix\")\n",
    "    plt.colorbar()\n",
    "    tick_marks = np.arange(len(target_names))\n",
    "    plt.xticks(tick_marks, target_names)\n",
    "    plt.yticks(tick_marks, target_names)\n",
    "    plt.ylim([-0.5, 2.5]) # Fixed values for now\n",
    "    plt.tight_layout()\n",
    "\n",
    "    # Loop through each value of the matrix to add data labels\n",
    "    width, height = confusion_matrix.shape\n",
    "    for x in range(width):\n",
    "        for y in range(height):\n",
    "            plt.annotate(str(confusion_matrix[x][y]), xy = (y, x), \n",
    "                        horizontalalignment = \"center\",\n",
    "                        verticalalignment = \"center\")\n",
    "    plt.ylabel(\"True label\")\n",
    "    plt.xlabel(\"Predicted label\")"
   ]
  },
  {
   "cell_type": "code",
   "execution_count": 114,
   "metadata": {},
   "outputs": [],
   "source": [
    "def standard_metrics(true_labels, test_probs, label_titles):\n",
    "    # Find predicted labels\n",
    "    test_prob_max = np.argmax(test_probs, axis = 1)\n",
    "\n",
    "    test_predicts = []\n",
    "    for i in range(len(test_prob_max)):\n",
    "        test_predicts.append(label_titles[test_prob_max[i]])\n",
    "    \n",
    "    # F1 score\n",
    "    f1 = f1_score(true_labels, test_predicts, average = 'macro')\n",
    "    print(\"F1 macro score:\", f1)\n",
    "    \n",
    "    # Classification Report\n",
    "    print(classification_report(y_true = true_labels, \n",
    "                                        y_pred = test_predicts,\n",
    "                                        target_names = label_titles))\n",
    "    \n",
    "    # Confusion Matrix plot\n",
    "    confuse = confusion_matrix(y_true = true_labels, y_pred = test_predicts)\n",
    "    plt.figure(figsize = (20, 5))\n",
    "    confusion_plot(confuse, label_titles)\n",
    "    plt.show()"
   ]
  },
  {
   "cell_type": "code",
   "execution_count": 152,
   "metadata": {},
   "outputs": [],
   "source": [
    "# Histograms of predicted probabilities\n",
    "def class_prob_breakdown(true_labels, test_probs, label_titles):\n",
    "    plt.figure(figsize=(20, 10))\n",
    "\n",
    "    plt.subplot(2,3,1)\n",
    "    plt.title(\"Prob. Dist. - Predicted \" + label_titles[0])\n",
    "    plt.hist([item[0] for item in test_probs])\n",
    "\n",
    "    plt.subplot(2,3,2)\n",
    "    plt.title(\"Prob. Dist. - Predicted \" + label_titles[1])\n",
    "    plt.hist([item[1] for item in test_probs])\n",
    "\n",
    "    plt.subplot(2,3,3)\n",
    "    plt.title(\"Prob. Dist. - Predicted \" + label_titles[2])\n",
    "    plt.hist([item[2] for item in test_probs])\n",
    "\n",
    "    plt.subplot(2,3,4)\n",
    "    plt.title(\"Prob. Dist., by True Label - \" + label_titles[0])\n",
    "    sns.distplot([item[0] for item in test_probs[true_labels==label_titles[0]]], hist = False, label = \"True \" + label_titles[0])\n",
    "    sns.distplot([item[0] for item in test_probs[true_labels==label_titles[1]]], hist = False, label = \"True \" + label_titles[1])\n",
    "    sns.distplot([item[0] for item in test_probs[true_labels==label_titles[2]]], hist = False, label = \"True \" + label_titles[2])\n",
    "\n",
    "    plt.subplot(2,3,5)\n",
    "    plt.title(\"Prob. Dist., by True Label - \" + label_titles[1])\n",
    "    sns.distplot([item[1] for item in test_probs[true_labels==label_titles[0]]], hist = False, label = \"True \" + label_titles[0])\n",
    "    sns.distplot([item[1] for item in test_probs[true_labels==label_titles[1]]], hist = False, label = \"True \" + label_titles[1])\n",
    "    sns.distplot([item[1] for item in test_probs[true_labels==label_titles[2]]], hist = False, label = \"True \" + label_titles[2])\n",
    "    \n",
    "    plt.subplot(2,3,6)\n",
    "    plt.title(\"Prob. Dist., by True Label - \" + label_titles[2])\n",
    "    sns.distplot([item[2] for item in test_probs[true_labels==label_titles[0]]], hist = False, label = \"True \" + label_titles[0])\n",
    "    sns.distplot([item[2] for item in test_probs[true_labels==label_titles[1]]], hist = False, label = \"True \" + label_titles[1])\n",
    "    sns.distplot([item[2] for item in test_probs[true_labels==label_titles[2]]], hist = False, label = \"True \" + label_titles[2])\n",
    "\n",
    "    plt.show()"
   ]
  },
  {
   "cell_type": "markdown",
   "metadata": {},
   "source": [
    "## Define model"
   ]
  },
  {
   "cell_type": "code",
   "execution_count": 188,
   "metadata": {},
   "outputs": [
    {
     "name": "stdout",
     "output_type": "stream",
     "text": [
      "Model: \"model_7\"\n",
      "_________________________________________________________________\n",
      "Layer (type)                 Output Shape              Param #   \n",
      "=================================================================\n",
      "input_numbers (InputLayer)   [(None, 32, 1024)]        0         \n",
      "_________________________________________________________________\n",
      "bidirectional_7 (Bidirection (None, 12)                49488     \n",
      "_________________________________________________________________\n",
      "classification (Dense)       (None, 3)                 39        \n",
      "=================================================================\n",
      "Total params: 49,527\n",
      "Trainable params: 49,527\n",
      "Non-trainable params: 0\n",
      "_________________________________________________________________\n"
     ]
    }
   ],
   "source": [
    "def lstm_model(activation_function_lstm = 'tanh', \n",
    "                optimizer = 'adam', \n",
    "                kernel_initializer = tf.keras.initializers.he_normal(seed=115), \n",
    "                bias_initializer = 'zeros'):\n",
    "    \n",
    "    # Input layer(s)\n",
    "    input_vectors = tf.keras.layers.Input(shape = (32,1024), \n",
    "                                          name = \"input_numbers\")\n",
    "    \n",
    "    # LSTM layer\n",
    "    # TS NOTE: LSTM units set to 5, don't we want some factor of 3 (3 output classes)?\n",
    "    lstm1 = tf.keras.layers.Bidirectional(\n",
    "        tf.keras.layers.LSTM(units = 6, \n",
    "                             input_shape = (32,1024),\n",
    "                             activation = activation_function_lstm,\n",
    "                             recurrent_activation = activation_function_lstm,\n",
    "                             kernel_initializer = kernel_initializer,\n",
    "                             recurrent_initializer = kernel_initializer,\n",
    "                             bias_initializer = bias_initializer,\n",
    "                             dropout = 0.5,\n",
    "                             name = 'lstm1'), \n",
    "        merge_mode = 'concat')\n",
    "    \n",
    "    # RUN LSTM layer 1\n",
    "    lstm_output1 = lstm1(input_vectors)\n",
    "    \n",
    "    # Classification layer (softmax since we have 3 classes)\n",
    "    classification_layer = tf.keras.layers.Dense(3, \n",
    "                                                 activation = 'softmax', \n",
    "                                                 name = 'classification') \n",
    "    classification_output = classification_layer(lstm_output1) \n",
    "\n",
    "    # Build and compile model\n",
    "    lstm_mod = tf.keras.models.Model(input_vectors, classification_output)\n",
    "    \n",
    "    lstm_mod.compile(loss = 'categorical_crossentropy', \n",
    "                     optimizer = optimizer, \n",
    "                     metrics = ['categorical_accuracy'])\n",
    "    \n",
    "    return lstm_mod\n",
    "\n",
    "lstm_mod = lstm_model()\n",
    "lstm_mod.summary()    "
   ]
  },
  {
   "cell_type": "markdown",
   "metadata": {},
   "source": [
    "# Run LSTM on 'ELMO' outputs"
   ]
  },
  {
   "cell_type": "code",
   "execution_count": 189,
   "metadata": {},
   "outputs": [
    {
     "name": "stdout",
     "output_type": "stream",
     "text": [
      "Train on 410 samples, validate on 103 samples\n",
      "Epoch 1/100\n",
      "410/410 - 2s - loss: 1.1324 - categorical_accuracy: 0.3366 - val_loss: 1.0523 - val_categorical_accuracy: 0.4563\n",
      "Epoch 2/100\n",
      "410/410 - 1s - loss: 1.1181 - categorical_accuracy: 0.3756 - val_loss: 1.0327 - val_categorical_accuracy: 0.5049\n",
      "Epoch 3/100\n",
      "410/410 - 1s - loss: 1.1082 - categorical_accuracy: 0.4098 - val_loss: 0.9838 - val_categorical_accuracy: 0.6408\n",
      "Epoch 4/100\n",
      "410/410 - 1s - loss: 1.0710 - categorical_accuracy: 0.4537 - val_loss: 0.9340 - val_categorical_accuracy: 0.7379\n",
      "Epoch 5/100\n",
      "410/410 - 1s - loss: 1.0727 - categorical_accuracy: 0.4561 - val_loss: 0.8904 - val_categorical_accuracy: 0.7864\n",
      "Epoch 6/100\n",
      "410/410 - 1s - loss: 1.0467 - categorical_accuracy: 0.4659 - val_loss: 0.8640 - val_categorical_accuracy: 0.8058\n",
      "Epoch 7/100\n",
      "410/410 - 1s - loss: 1.0475 - categorical_accuracy: 0.4902 - val_loss: 0.8385 - val_categorical_accuracy: 0.8252\n",
      "Epoch 8/100\n",
      "410/410 - 1s - loss: 1.0314 - categorical_accuracy: 0.5000 - val_loss: 0.8146 - val_categorical_accuracy: 0.8350\n",
      "Epoch 9/100\n",
      "410/410 - 1s - loss: 1.0138 - categorical_accuracy: 0.5220 - val_loss: 0.7998 - val_categorical_accuracy: 0.8447\n",
      "Epoch 10/100\n",
      "410/410 - 1s - loss: 1.0122 - categorical_accuracy: 0.5073 - val_loss: 0.7872 - val_categorical_accuracy: 0.8641\n",
      "Epoch 11/100\n",
      "410/410 - 1s - loss: 1.0238 - categorical_accuracy: 0.5195 - val_loss: 0.7744 - val_categorical_accuracy: 0.8738\n",
      "Epoch 12/100\n",
      "410/410 - 1s - loss: 0.9913 - categorical_accuracy: 0.5317 - val_loss: 0.7655 - val_categorical_accuracy: 0.8641\n",
      "Epoch 13/100\n",
      "410/410 - 1s - loss: 1.0078 - categorical_accuracy: 0.5000 - val_loss: 0.7524 - val_categorical_accuracy: 0.8641\n",
      "Epoch 14/100\n",
      "410/410 - 1s - loss: 0.9907 - categorical_accuracy: 0.5317 - val_loss: 0.7452 - val_categorical_accuracy: 0.8641\n",
      "Epoch 15/100\n",
      "410/410 - 1s - loss: 0.9994 - categorical_accuracy: 0.5146 - val_loss: 0.7486 - val_categorical_accuracy: 0.8738\n",
      "Epoch 16/100\n",
      "410/410 - 1s - loss: 1.0014 - categorical_accuracy: 0.5049 - val_loss: 0.7484 - val_categorical_accuracy: 0.8641\n",
      "Epoch 17/100\n",
      "410/410 - 1s - loss: 1.0154 - categorical_accuracy: 0.4927 - val_loss: 0.7463 - val_categorical_accuracy: 0.8641\n",
      "Epoch 18/100\n",
      "410/410 - 1s - loss: 0.9803 - categorical_accuracy: 0.5317 - val_loss: 0.7388 - val_categorical_accuracy: 0.8641\n",
      "Epoch 19/100\n",
      "410/410 - 1s - loss: 0.9764 - categorical_accuracy: 0.5293 - val_loss: 0.7657 - val_categorical_accuracy: 0.8641\n",
      "Epoch 20/100\n",
      "410/410 - 1s - loss: 0.9834 - categorical_accuracy: 0.5293 - val_loss: 0.7824 - val_categorical_accuracy: 0.8252\n",
      "Epoch 21/100\n",
      "410/410 - 1s - loss: 0.9879 - categorical_accuracy: 0.5049 - val_loss: 0.7860 - val_categorical_accuracy: 0.8155\n",
      "Epoch 22/100\n",
      "410/410 - 1s - loss: 0.9669 - categorical_accuracy: 0.5268 - val_loss: 0.8014 - val_categorical_accuracy: 0.7476\n",
      "Epoch 23/100\n",
      "410/410 - 1s - loss: 0.9553 - categorical_accuracy: 0.5610 - val_loss: 0.7939 - val_categorical_accuracy: 0.7670\n",
      "Epoch 24/100\n",
      "410/410 - 1s - loss: 0.9597 - categorical_accuracy: 0.5439 - val_loss: 0.7784 - val_categorical_accuracy: 0.7767\n",
      "Epoch 25/100\n",
      "410/410 - 1s - loss: 0.9582 - categorical_accuracy: 0.5610 - val_loss: 0.7567 - val_categorical_accuracy: 0.8058\n",
      "Epoch 26/100\n",
      "410/410 - 1s - loss: 0.9255 - categorical_accuracy: 0.5537 - val_loss: 0.7383 - val_categorical_accuracy: 0.8447\n",
      "Epoch 27/100\n",
      "410/410 - 1s - loss: 0.9502 - categorical_accuracy: 0.5415 - val_loss: 0.7423 - val_categorical_accuracy: 0.8447\n",
      "Epoch 28/100\n",
      "410/410 - 1s - loss: 0.9458 - categorical_accuracy: 0.5537 - val_loss: 0.7646 - val_categorical_accuracy: 0.8155\n",
      "Epoch 29/100\n",
      "410/410 - 1s - loss: 0.9224 - categorical_accuracy: 0.5756 - val_loss: 0.7445 - val_categorical_accuracy: 0.8155\n",
      "Epoch 30/100\n",
      "410/410 - 1s - loss: 0.9377 - categorical_accuracy: 0.5488 - val_loss: 0.7158 - val_categorical_accuracy: 0.8350\n",
      "Epoch 31/100\n",
      "410/410 - 1s - loss: 0.9106 - categorical_accuracy: 0.5780 - val_loss: 0.7012 - val_categorical_accuracy: 0.8447\n",
      "Epoch 32/100\n",
      "410/410 - 1s - loss: 0.9234 - categorical_accuracy: 0.5707 - val_loss: 0.7134 - val_categorical_accuracy: 0.7961\n",
      "Epoch 33/100\n",
      "410/410 - 1s - loss: 0.8968 - categorical_accuracy: 0.5976 - val_loss: 0.7342 - val_categorical_accuracy: 0.7670\n",
      "Epoch 34/100\n",
      "410/410 - 1s - loss: 0.9206 - categorical_accuracy: 0.5756 - val_loss: 0.7735 - val_categorical_accuracy: 0.7184\n",
      "Epoch 35/100\n",
      "410/410 - 1s - loss: 0.9089 - categorical_accuracy: 0.5659 - val_loss: 0.7846 - val_categorical_accuracy: 0.7087\n",
      "Epoch 36/100\n",
      "410/410 - 1s - loss: 0.8969 - categorical_accuracy: 0.5756 - val_loss: 0.7646 - val_categorical_accuracy: 0.7282\n",
      "Epoch 37/100\n",
      "410/410 - 1s - loss: 0.9037 - categorical_accuracy: 0.5512 - val_loss: 0.7416 - val_categorical_accuracy: 0.7379\n",
      "Epoch 38/100\n",
      "410/410 - 1s - loss: 0.8773 - categorical_accuracy: 0.5780 - val_loss: 0.7306 - val_categorical_accuracy: 0.7476\n",
      "Epoch 39/100\n",
      "410/410 - 1s - loss: 0.8875 - categorical_accuracy: 0.5878 - val_loss: 0.7189 - val_categorical_accuracy: 0.7476\n",
      "Epoch 40/100\n",
      "410/410 - 1s - loss: 0.8641 - categorical_accuracy: 0.6268 - val_loss: 0.7108 - val_categorical_accuracy: 0.7573\n",
      "Epoch 41/100\n",
      "410/410 - 1s - loss: 0.8492 - categorical_accuracy: 0.6220 - val_loss: 0.6823 - val_categorical_accuracy: 0.7476\n",
      "Epoch 42/100\n",
      "410/410 - 1s - loss: 0.8447 - categorical_accuracy: 0.6073 - val_loss: 0.6618 - val_categorical_accuracy: 0.7864\n",
      "Epoch 43/100\n",
      "410/410 - 1s - loss: 0.8624 - categorical_accuracy: 0.6024 - val_loss: 0.6782 - val_categorical_accuracy: 0.7864\n",
      "Epoch 44/100\n",
      "410/410 - 1s - loss: 0.8647 - categorical_accuracy: 0.6171 - val_loss: 0.7184 - val_categorical_accuracy: 0.7670\n",
      "Epoch 45/100\n",
      "410/410 - 1s - loss: 0.8491 - categorical_accuracy: 0.6122 - val_loss: 0.7059 - val_categorical_accuracy: 0.7670\n",
      "Epoch 46/100\n",
      "410/410 - 1s - loss: 0.8515 - categorical_accuracy: 0.5902 - val_loss: 0.6658 - val_categorical_accuracy: 0.7767\n",
      "Epoch 47/100\n",
      "410/410 - 1s - loss: 0.8618 - categorical_accuracy: 0.6122 - val_loss: 0.6459 - val_categorical_accuracy: 0.7864\n",
      "Epoch 48/100\n",
      "410/410 - 1s - loss: 0.8093 - categorical_accuracy: 0.6220 - val_loss: 0.6492 - val_categorical_accuracy: 0.7573\n",
      "Epoch 49/100\n",
      "410/410 - 1s - loss: 0.8237 - categorical_accuracy: 0.6341 - val_loss: 0.6383 - val_categorical_accuracy: 0.7670\n",
      "Epoch 50/100\n",
      "410/410 - 1s - loss: 0.7993 - categorical_accuracy: 0.6610 - val_loss: 0.5977 - val_categorical_accuracy: 0.7864\n",
      "Epoch 51/100\n",
      "410/410 - 1s - loss: 0.7973 - categorical_accuracy: 0.6317 - val_loss: 0.5420 - val_categorical_accuracy: 0.8447\n",
      "Epoch 52/100\n",
      "410/410 - 1s - loss: 0.8352 - categorical_accuracy: 0.6073 - val_loss: 0.5416 - val_categorical_accuracy: 0.8641\n",
      "Epoch 53/100\n",
      "410/410 - 1s - loss: 0.8063 - categorical_accuracy: 0.6317 - val_loss: 0.6180 - val_categorical_accuracy: 0.7379\n",
      "Epoch 54/100\n",
      "410/410 - 1s - loss: 0.8102 - categorical_accuracy: 0.6244 - val_loss: 0.7304 - val_categorical_accuracy: 0.7184\n",
      "Epoch 55/100\n",
      "410/410 - 1s - loss: 0.7918 - categorical_accuracy: 0.6634 - val_loss: 0.7365 - val_categorical_accuracy: 0.7184\n",
      "Epoch 56/100\n",
      "410/410 - 1s - loss: 0.7840 - categorical_accuracy: 0.6610 - val_loss: 0.7403 - val_categorical_accuracy: 0.7184\n",
      "Epoch 57/100\n",
      "410/410 - 2s - loss: 0.7795 - categorical_accuracy: 0.6756 - val_loss: 0.7086 - val_categorical_accuracy: 0.7087\n",
      "Epoch 58/100\n",
      "410/410 - 2s - loss: 0.7899 - categorical_accuracy: 0.6683 - val_loss: 0.6574 - val_categorical_accuracy: 0.7087\n",
      "Epoch 59/100\n",
      "410/410 - 2s - loss: 0.7666 - categorical_accuracy: 0.6317 - val_loss: 0.6209 - val_categorical_accuracy: 0.7476\n",
      "Epoch 60/100\n",
      "410/410 - 2s - loss: 0.7362 - categorical_accuracy: 0.7073 - val_loss: 0.6175 - val_categorical_accuracy: 0.7476\n",
      "Epoch 61/100\n",
      "410/410 - 2s - loss: 0.7549 - categorical_accuracy: 0.6610 - val_loss: 0.6289 - val_categorical_accuracy: 0.7379\n",
      "Epoch 62/100\n",
      "410/410 - 2s - loss: 0.7415 - categorical_accuracy: 0.6683 - val_loss: 0.6390 - val_categorical_accuracy: 0.7379\n",
      "Epoch 63/100\n",
      "410/410 - 2s - loss: 0.7223 - categorical_accuracy: 0.6756 - val_loss: 0.6760 - val_categorical_accuracy: 0.7087\n",
      "Epoch 64/100\n",
      "410/410 - 2s - loss: 0.7461 - categorical_accuracy: 0.7000 - val_loss: 0.7271 - val_categorical_accuracy: 0.6990\n",
      "Epoch 65/100\n",
      "410/410 - 2s - loss: 0.7499 - categorical_accuracy: 0.7000 - val_loss: 0.7380 - val_categorical_accuracy: 0.6408\n"
     ]
    },
    {
     "name": "stdout",
     "output_type": "stream",
     "text": [
      "Epoch 66/100\n",
      "410/410 - 2s - loss: 0.7365 - categorical_accuracy: 0.7024 - val_loss: 0.7121 - val_categorical_accuracy: 0.6990\n",
      "Epoch 67/100\n",
      "410/410 - 2s - loss: 0.7380 - categorical_accuracy: 0.6585 - val_loss: 0.6611 - val_categorical_accuracy: 0.7476\n",
      "Epoch 68/100\n",
      "410/410 - 2s - loss: 0.7236 - categorical_accuracy: 0.7000 - val_loss: 0.6951 - val_categorical_accuracy: 0.7087\n",
      "Epoch 69/100\n",
      "410/410 - 2s - loss: 0.7071 - categorical_accuracy: 0.7122 - val_loss: 0.7132 - val_categorical_accuracy: 0.6990\n",
      "Epoch 70/100\n",
      "410/410 - 2s - loss: 0.6930 - categorical_accuracy: 0.7098 - val_loss: 0.7160 - val_categorical_accuracy: 0.6990\n",
      "Epoch 71/100\n",
      "410/410 - 2s - loss: 0.7108 - categorical_accuracy: 0.6976 - val_loss: 0.7563 - val_categorical_accuracy: 0.6408\n",
      "Epoch 72/100\n",
      "410/410 - 2s - loss: 0.6879 - categorical_accuracy: 0.7341 - val_loss: 0.7464 - val_categorical_accuracy: 0.6699\n",
      "Epoch 73/100\n",
      "410/410 - 2s - loss: 0.6892 - categorical_accuracy: 0.7122 - val_loss: 0.7732 - val_categorical_accuracy: 0.6408\n",
      "Epoch 74/100\n",
      "410/410 - 2s - loss: 0.7066 - categorical_accuracy: 0.7000 - val_loss: 0.7976 - val_categorical_accuracy: 0.6117\n",
      "Epoch 75/100\n",
      "410/410 - 2s - loss: 0.7166 - categorical_accuracy: 0.7000 - val_loss: 0.8224 - val_categorical_accuracy: 0.6019\n",
      "Epoch 76/100\n",
      "410/410 - 2s - loss: 0.6780 - categorical_accuracy: 0.7293 - val_loss: 0.8106 - val_categorical_accuracy: 0.6214\n",
      "Epoch 77/100\n",
      "410/410 - 2s - loss: 0.6619 - categorical_accuracy: 0.7463 - val_loss: 0.7023 - val_categorical_accuracy: 0.7184\n",
      "Epoch 78/100\n",
      "410/410 - 1s - loss: 0.6726 - categorical_accuracy: 0.7122 - val_loss: 0.6020 - val_categorical_accuracy: 0.7864\n",
      "Epoch 79/100\n",
      "410/410 - 1s - loss: 0.6497 - categorical_accuracy: 0.7220 - val_loss: 0.5839 - val_categorical_accuracy: 0.7670\n",
      "Epoch 80/100\n",
      "410/410 - 2s - loss: 0.6535 - categorical_accuracy: 0.7415 - val_loss: 0.5814 - val_categorical_accuracy: 0.7670\n",
      "Epoch 81/100\n",
      "410/410 - 1s - loss: 0.6439 - categorical_accuracy: 0.7317 - val_loss: 0.5717 - val_categorical_accuracy: 0.7864\n",
      "Epoch 82/100\n",
      "410/410 - 2s - loss: 0.6430 - categorical_accuracy: 0.7463 - val_loss: 0.6266 - val_categorical_accuracy: 0.7379\n",
      "Epoch 83/100\n",
      "410/410 - 2s - loss: 0.6354 - categorical_accuracy: 0.7317 - val_loss: 0.6890 - val_categorical_accuracy: 0.7184\n",
      "Epoch 84/100\n",
      "410/410 - 2s - loss: 0.6593 - categorical_accuracy: 0.7293 - val_loss: 0.7010 - val_categorical_accuracy: 0.6990\n",
      "Epoch 85/100\n",
      "410/410 - 2s - loss: 0.6617 - categorical_accuracy: 0.7268 - val_loss: 0.6892 - val_categorical_accuracy: 0.7087\n",
      "Epoch 86/100\n",
      "410/410 - 1s - loss: 0.6343 - categorical_accuracy: 0.7537 - val_loss: 0.6612 - val_categorical_accuracy: 0.7087\n",
      "Epoch 87/100\n",
      "410/410 - 1s - loss: 0.6321 - categorical_accuracy: 0.7463 - val_loss: 0.6141 - val_categorical_accuracy: 0.7476\n",
      "Epoch 88/100\n",
      "410/410 - 2s - loss: 0.6394 - categorical_accuracy: 0.7366 - val_loss: 0.5684 - val_categorical_accuracy: 0.7767\n",
      "Epoch 89/100\n",
      "410/410 - 2s - loss: 0.6160 - categorical_accuracy: 0.7659 - val_loss: 0.5935 - val_categorical_accuracy: 0.7767\n",
      "Epoch 90/100\n",
      "410/410 - 2s - loss: 0.6285 - categorical_accuracy: 0.7732 - val_loss: 0.6051 - val_categorical_accuracy: 0.7767\n",
      "Epoch 91/100\n",
      "410/410 - 2s - loss: 0.6035 - categorical_accuracy: 0.7561 - val_loss: 0.6586 - val_categorical_accuracy: 0.7379\n",
      "Epoch 92/100\n",
      "410/410 - 2s - loss: 0.6236 - categorical_accuracy: 0.7488 - val_loss: 0.6858 - val_categorical_accuracy: 0.7087\n",
      "Epoch 93/100\n",
      "410/410 - 1s - loss: 0.6033 - categorical_accuracy: 0.7488 - val_loss: 0.7138 - val_categorical_accuracy: 0.6893\n",
      "Epoch 94/100\n",
      "410/410 - 2s - loss: 0.5840 - categorical_accuracy: 0.7854 - val_loss: 0.6782 - val_categorical_accuracy: 0.6893\n",
      "Epoch 95/100\n",
      "410/410 - 1s - loss: 0.6024 - categorical_accuracy: 0.7634 - val_loss: 0.6641 - val_categorical_accuracy: 0.6990\n",
      "Epoch 96/100\n",
      "410/410 - 1s - loss: 0.5988 - categorical_accuracy: 0.7366 - val_loss: 0.6449 - val_categorical_accuracy: 0.7379\n",
      "Epoch 97/100\n",
      "410/410 - 2s - loss: 0.5689 - categorical_accuracy: 0.7780 - val_loss: 0.6546 - val_categorical_accuracy: 0.7282\n",
      "Epoch 98/100\n",
      "410/410 - 1s - loss: 0.5589 - categorical_accuracy: 0.7829 - val_loss: 0.6786 - val_categorical_accuracy: 0.6990\n",
      "Epoch 99/100\n",
      "410/410 - 1s - loss: 0.5564 - categorical_accuracy: 0.7976 - val_loss: 0.6634 - val_categorical_accuracy: 0.7087\n",
      "Epoch 100/100\n",
      "410/410 - 2s - loss: 0.5496 - categorical_accuracy: 0.7902 - val_loss: 0.6562 - val_categorical_accuracy: 0.6990\n"
     ]
    }
   ],
   "source": [
    "lstm_atheism = lstm_model()\n",
    "\n",
    "# Train model\n",
    "lstm_atheism.fit(\n",
    "    x = atheism_dict['embeddings_train'],\n",
    "    y = atheism_dict['labels_train'],\n",
    "    epochs = 100,\n",
    "    batch_size = 100,\n",
    "    verbose = 2,\n",
    "    # TS ADDs\n",
    "    validation_split = 0.2,\n",
    "    shuffle = True,\n",
    "    class_weight = atheism_dict['labels_weight_train']\n",
    ")\n",
    "\n",
    "# Predictions\n",
    "atheism_test_pred = lstm_atheism.predict(atheism_dict['embeddings_test'])"
   ]
  },
  {
   "cell_type": "code",
   "execution_count": 190,
   "metadata": {},
   "outputs": [
    {
     "name": "stdout",
     "output_type": "stream",
     "text": [
      "F1 macro score: 0.5216141514648976\n",
      "              precision    recall  f1-score   support\n",
      "\n",
      "     AGAINST       0.82      0.89      0.85       160\n",
      "       FAVOR       0.54      0.22      0.31        32\n",
      "        NONE       0.38      0.43      0.40        28\n",
      "\n",
      "    accuracy                           0.74       220\n",
      "   macro avg       0.58      0.51      0.52       220\n",
      "weighted avg       0.72      0.74      0.72       220\n",
      "\n"
     ]
    },
    {
     "data": {
      "image/png": "[encoded data removed]",
      "text/plain": [
       "<Figure size 1440x360 with 2 Axes>"
      ]
     },
     "metadata": {
      "needs_background": "light"
     },
     "output_type": "display_data"
    }
   ],
   "source": [
    "# Output Metrics\n",
    "standard_metrics(true_labels = atheism_dict['labels_raw_test'], \n",
    "                 test_probs = atheism_test_pred,\n",
    "                 label_titles = label_categories)"
   ]
  },
  {
   "cell_type": "code",
   "execution_count": 191,
   "metadata": {},
   "outputs": [
    {
     "data": {
      "image/png": "[encoded data removed]",
      "text/plain": [
       "<Figure size 1440x720 with 6 Axes>"
      ]
     },
     "metadata": {
      "needs_background": "light"
     },
     "output_type": "display_data"
    }
   ],
   "source": [
    "class_prob_breakdown(true_labels = atheism_dict['labels_raw_test'], \n",
    "                     test_probs = atheism_test_pred,\n",
    "                     label_titles = label_categories)"
   ]
  },
  {
   "cell_type": "code",
   "execution_count": 126,
   "metadata": {},
   "outputs": [
    {
     "data": {
      "text/plain": [
       "array(['Hillary Clinton', 'Legalization of Abortion', 'Atheism',\n",
       "       'Climate Change is a Real Concern', 'Feminist Movement'],\n",
       "      dtype=object)"
      ]
     },
     "execution_count": 126,
     "metadata": {},
     "output_type": "execute_result"
    }
   ],
   "source": [
    "target_categories = twitter_train['Target'].unique()\n",
    "target_categories"
   ]
  }
 ],
 "metadata": {
  "kernelspec": {
   "display_name": "Python 3",
   "language": "python",
   "name": "python3"
  },
  "language_info": {
   "codemirror_mode": {
    "name": "ipython",
    "version": 3
   },
   "file_extension": ".py",
   "mimetype": "text/x-python",
   "name": "python",
   "nbconvert_exporter": "python",
   "pygments_lexer": "ipython3",
   "version": "3.7.3"
  }
 },
 "nbformat": 4,
 "nbformat_minor": 2
}
