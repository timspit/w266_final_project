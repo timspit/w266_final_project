{
 "cells": [
  {
   "cell_type": "markdown",
   "metadata": {},
   "source": [
    "## Setup"
   ]
  },
  {
   "cell_type": "code",
   "execution_count": 28,
   "metadata": {},
   "outputs": [],
   "source": [
    "## PATH STUFF FIRST SO EASY TO SWITCH BETWEEN US ##\n",
    "\n",
    "# Set working directory\n",
    "# os.chdir(\"/Users/alexdessouky/Desktop/MIDS/w266\")\n",
    "os.chdir(\"/Users/manat/OneDrive/Documents/Tim/MIDS/266_NLP/Final Project\")\n",
    "\n",
    "# Store the paths to bert & data\n",
    "# bert_path =   '/Users/alexdessouky/Desktop/MIDS/w266/bert' \n",
    "# data_path = '/Users/alexdessouky/Desktop/MIDS/w266/w266_final_project/StanceDataset'  \n",
    "# bert_path =   '/Users/manat/OneDrive/Documents/Tim/MIDS/266_NLP/w266/bert' \n",
    "# data_path = '/Users/manat/OneDrive/Documents/Tim/MIDS/266_NLP/Final Project/w266_final_project/StanceDataset'  \n",
    "local_bert_path = r'C:\\Users\\manat\\OneDrive\\Documents\\Tim\\MIDS\\266_NLP\\w266\\bert\\\\' # change as needed\n",
    "data_path = r'C:\\Users\\manat\\OneDrive\\Documents\\Tim\\MIDS\\266_NLP\\Final Project\\w266_final_project\\StanceDataset'  \n",
    "\n",
    "# Make sure that the paths are accessible within the notebook\n",
    "sys.path.insert(0, bert_path)\n",
    "sys.path.insert(0, data_path)"
   ]
  },
  {
   "cell_type": "code",
   "execution_count": 14,
   "metadata": {},
   "outputs": [],
   "source": [
    "# System and Storage\n",
    "import time\n",
    "import os\n",
    "import sys\n",
    "from datetime import datetime\n",
    "now = datetime.now() # current date and time\n",
    "\n",
    "# Data structures\n",
    "import pandas as pd\n",
    "import numpy as np\n",
    "\n",
    "# Strings\n",
    "import string\n",
    "import re\n",
    "\n",
    "# Pre-Processing\n",
    "from sklearn.preprocessing import OneHotEncoder\n",
    "from itertools import compress\n",
    "from sklearn.utils.class_weight import compute_class_weight\n",
    "\n",
    "# Tensorflow\n",
    "import tensorflow as tf\n",
    "import tensorflow_hub as hub\n",
    "from tensorflow.keras import backend as K\n",
    "from tensorflow.keras import layers\n",
    "from tensorflow.python.keras.layers import Lambda\n",
    "from tensorflow.keras.callbacks import TensorBoard\n",
    "from tensorflow.keras.backend import sparse_categorical_crossentropy\n",
    "from tensorflow.keras.layers import Dense, TimeDistributed\n",
    "import optimization\n",
    "import run_classifier\n",
    "import tokenization\n",
    "import run_classifier_with_tfhub\n",
    "# Tensorflow hub path to BERT module of choice\n",
    "bert_url = \"https://tfhub.dev/google/bert_cased_L-12_H-768_A-12/1\"\n",
    "\n",
    "# Outputs\n",
    "from sklearn.metrics import f1_score\n",
    "from sklearn.metrics import confusion_matrix, classification_report\n",
    "import matplotlib.pyplot as plt\n",
    "%matplotlib inline"
   ]
  },
  {
   "cell_type": "code",
   "execution_count": 117,
   "metadata": {},
   "outputs": [
    {
     "data": {
      "text/plain": [
       "(2914, 5)"
      ]
     },
     "execution_count": 117,
     "metadata": {},
     "output_type": "execute_result"
    }
   ],
   "source": [
    "# Load data\n",
    "# Training data\n",
    "twitter_train = pd.read_excel('./w266_final_project/StanceDataset/train.xlsx')\n",
    "\n",
    "# Test data\n",
    "twitter_test = pd.read_excel('./w266_final_project/StanceDataset/test.xlsx')\n",
    "\n",
    "twitter_train_raw.shape"
   ]
  },
  {
   "cell_type": "markdown",
   "metadata": {},
   "source": [
    "## Pre-Process Data  \n",
    "\n",
    "### Labels $y$"
   ]
  },
  {
   "cell_type": "code",
   "execution_count": 118,
   "metadata": {},
   "outputs": [
    {
     "name": "stdout",
     "output_type": "stream",
     "text": [
      "['AGAINST' 'FAVOR' 'NONE']\n",
      "[[1. 0. 0.]\n",
      " [0. 1. 0.]\n",
      " [1. 0. 0.]\n",
      " [1. 0. 0.]\n",
      " [0. 0. 1.]]\n"
     ]
    }
   ],
   "source": [
    "# PREP LABELS FOR NN\n",
    "stance_train = np.array(twitter_train['Stance'])\n",
    "stance_test = np.array(twitter_test['Stance'])\n",
    "\n",
    "# One-hot Encoder\n",
    "enc = OneHotEncoder(handle_unknown = 'ignore')\n",
    "enc.fit(stance_train.reshape(-1, 1))\n",
    "label_categories = enc.categories_[0]\n",
    "\n",
    "labels_train = enc.transform(stance_train.reshape(-1, 1)).toarray()\n",
    "labels_test = enc.transform(stance_test.reshape(-1, 1)).toarray()\n",
    "\n",
    "print(label_categories)\n",
    "print(labels_train[:5])"
   ]
  },
  {
   "cell_type": "markdown",
   "metadata": {},
   "source": [
    "### Tokens $x$"
   ]
  },
  {
   "cell_type": "code",
   "execution_count": 119,
   "metadata": {},
   "outputs": [
    {
     "name": "stdout",
     "output_type": "stream",
     "text": [
      "Raw: @tedcruz And, #HandOverTheServer she wiped clean + 30k deleted emails, explains dereliction of duty/lies re #Benghazi,etc #tcot\n",
      "Clean: @tedcruz and #handovertheserver she wiped clean  DIGITk deleted emails explains dereliction of dutylies re #benghazietc #tcot\n"
     ]
    }
   ],
   "source": [
    "def preprocess_tweets(x):\n",
    "    \n",
    "    # Remove punctuation EXCEPT for hashtags (#) and handles (@)\n",
    "    exclude_punc = [punc for punc in string.punctuation if punc not in ['#', '@']]\n",
    "    x_nopunc = ''.join(ch for ch in x if ch not in exclude_punc)\n",
    "\n",
    "    # lower case\n",
    "    x_lower = x_nopunc.lower()\n",
    "    \n",
    "    # Replace digits with DIGIT\n",
    "    x_digits = re.sub(\"\\d+\", \"DIGIT\", x_lower)\n",
    "    \n",
    "    return x_digits\n",
    "\n",
    "# Clean tweests\n",
    "twitter_train['tweet_clean'] = np.array(twitter_train['Tweet'].apply(lambda x: preprocess_tweets(x)))\n",
    "twitter_test['tweet_clean'] = np.array(twitter_test['Tweet'].apply(lambda x: preprocess_tweets(x)))\n",
    "\n",
    "# Example tweet\n",
    "print(\"Raw: \" + str(twitter_train['Tweet'][0]))\n",
    "print(\"Clean: \" + str(preprocess_tweets(twitter_train['Tweet'][0])))"
   ]
  },
  {
   "cell_type": "code",
   "execution_count": 120,
   "metadata": {},
   "outputs": [
    {
     "data": {
      "text/plain": [
       "0    @tedcruz and #handovertheserver she wiped clea...\n",
       "1    hillary is our best choice if we truly want to...\n",
       "2    @theview i think our country is ready for a fe...\n",
       "3    i just gave an unhealthy amount of my hardearn...\n",
       "4    @portiaaboulger thank you for adding me to you...\n",
       "Name: tweet_clean, dtype: object"
      ]
     },
     "execution_count": 120,
     "metadata": {},
     "output_type": "execute_result"
    }
   ],
   "source": [
    "train_x = twitter_train['tweet_clean']\n",
    "test_x = twitter_test['tweet_clean']\n",
    "\n",
    "train_x[:5]"
   ]
  },
  {
   "cell_type": "markdown",
   "metadata": {},
   "source": [
    "### Bert tokenizer"
   ]
  },
  {
   "cell_type": "code",
   "execution_count": 121,
   "metadata": {},
   "outputs": [
    {
     "data": {
      "text/plain": [
       "'https://tfhub.dev/google/bert_cased_L-12_H-768_A-12/1'"
      ]
     },
     "execution_count": 121,
     "metadata": {},
     "output_type": "execute_result"
    }
   ],
   "source": [
    "bert_url = \"https://tfhub.dev/google/bert_cased_L-12_H-768_A-12/1\"\n",
    "bert_url"
   ]
  },
  {
   "cell_type": "code",
   "execution_count": 122,
   "metadata": {},
   "outputs": [],
   "source": [
    "# Define maximal length of input 'sentences' (post tokenization).\n",
    "max_length = 83"
   ]
  },
  {
   "cell_type": "code",
   "execution_count": 100,
   "metadata": {},
   "outputs": [
    {
     "name": "stdout",
     "output_type": "stream",
     "text": [
      "INFO:tensorflow:Saver not created because there are no variables in the graph to restore\n"
     ]
    },
    {
     "name": "stderr",
     "output_type": "stream",
     "text": [
      "INFO:tensorflow:Saver not created because there are no variables in the graph to restore\n"
     ]
    }
   ],
   "source": [
    "def create_tokenizer_from_hub_module():\n",
    "    \"\"\"Get the vocab file and casing info from the Hub module.\"\"\"\n",
    "    with tf.Graph().as_default():\n",
    "        bert_module = hub.Module(bert_url)\n",
    "        tokenization_info = bert_module(signature=\"tokenization_info\", as_dict=True)\n",
    "        with tf.Session() as sess:\n",
    "            vocab_file, do_lower_case = sess.run([tokenization_info[\"vocab_file\"],\n",
    "                                            tokenization_info[\"do_lower_case\"]])\n",
    "      \n",
    "    return tokenization.FullTokenizer(\n",
    "      vocab_file=vocab_file, do_lower_case=do_lower_case)\n",
    "\n",
    "tokenizer = create_tokenizer_from_hub_module()"
   ]
  },
  {
   "cell_type": "code",
   "execution_count": 125,
   "metadata": {},
   "outputs": [],
   "source": [
    "# Create tokens surrounded by the [CLS] and [SEP] tokens\n",
    "train_tokens = train_x.apply(lambda x: ['[CLS]'] + tokenizer.tokenize(x) + ['[SEP]'])\n",
    "test_tokens = test_x.apply(lambda x: ['[CLS]'] + tokenizer.tokenize(x) + ['[SEP]'])\n",
    "\n",
    "# Mask ids (mask out the paddings)\n",
    "train_mask_ids = train_tokens.apply(lambda x: len(x)*[1])\n",
    "test_mask_ids = test_tokens.apply(lambda x: len(x)*[1])\n",
    "\n",
    "train_mask_ids = train_mask_ids.apply(lambda x: np.array(x + (max_length - len(x)) * [0]) if len(x) < max_length else \n",
    "                                      np.array(x)).tolist()\n",
    "test_mask_ids = test_mask_ids.apply(lambda x: np.array(x + (max_length - len(x)) * [0]) if len(x) < max_length else \n",
    "                                    np.array(x)).tolist()\n",
    "\n",
    "# Add padding to tokens\n",
    "train_tokens = train_tokens.apply(lambda x: x + (max_length - len(x)) * ['[PAD]'] if len(x) < max_length else x)\n",
    "test_tokens = test_tokens.apply(lambda x: x + (max_length - len(x)) * ['[PAD]'] if len(x) < max_length else x)\n",
    "\n",
    "# Sequence vectors\n",
    "train_sequenceids = train_tokens.apply(lambda x: np.array(max_length*[0])).tolist()\n",
    "test_sequenceids = test_tokens.apply(lambda x: np.array(max_length*[0])).tolist()\n",
    "\n",
    "# Convert tokens to sentence ids\n",
    "train_sentenceids = train_tokens.apply(lambda x: np.array(tokenizer.convert_tokens_to_ids(x))).tolist()\n",
    "test_sentenceids = test_tokens.apply(lambda x: np.array(tokenizer.convert_tokens_to_ids(x))).tolist()\n",
    "\n",
    "# Bert features\n",
    "bert_train = [np.array(train_sentenceids), np.array(train_mask_ids), np.array(train_sequenceids)]\n",
    "bert_test = [np.array(test_sentenceids), np.array(test_mask_ids), np.array(test_sequenceids)]"
   ]
  },
  {
   "cell_type": "code",
   "execution_count": 124,
   "metadata": {},
   "outputs": [
    {
     "name": "stdout",
     "output_type": "stream",
     "text": [
      "@tedcruz and #handovertheserver she wiped clean  DIGITk deleted emails explains dereliction of dutylies re #benghazietc #tcot\n",
      "['[CLS]', '@', 'te', '##d', '##c', '##ru', '##z', 'and', '#', 'hand', '##over', '##the', '##serve', '##r', 'she', 'wiped', 'clean', 'D', '##IG', '##IT', '##k', 'deleted', 'emails', 'explains', 'der', '##eli', '##ction', 'of', 'duty', '##lies', 're', '#', 'ben', '##gh', '##azi', '##et', '##c', '#', 't', '##cot', '[SEP]']\n"
     ]
    }
   ],
   "source": [
    "print(train_x[0])\n",
    "print(train_tokens[0])\n",
    "\n",
    "# NOTES: why such small tokens? e.g. benghazi has to be an important token by itself, right?"
   ]
  },
  {
   "cell_type": "code",
   "execution_count": 126,
   "metadata": {},
   "outputs": [
    {
     "name": "stdout",
     "output_type": "stream",
     "text": [
      "[1 1 1 1 1 1 1 1 1 1 1 1 1 1 1 1 1 1 1 1 1 1 1 1 1 1 1 1 1 1 1 1 1 1 1 1 1\n",
      " 1 1 1 1 0 0 0 0 0 0 0 0 0 0 0 0 0 0 0 0 0 0 0 0 0 0 0 0 0 0 0 0 0 0 0 0 0\n",
      " 0 0 0 0 0 0 0 0 0]\n"
     ]
    }
   ],
   "source": [
    "print(train_mask_ids[0])\n",
    "\n",
    "# NOTES: unclear"
   ]
  },
  {
   "cell_type": "code",
   "execution_count": 128,
   "metadata": {},
   "outputs": [
    {
     "name": "stdout",
     "output_type": "stream",
     "text": [
      "['[CLS]', '@', 'te', '##d', '##c', '##ru', '##z', 'and', '#', 'hand', '##over', '##the', '##serve', '##r', 'she', 'wiped', 'clean', 'D', '##IG', '##IT', '##k', 'deleted', 'emails', 'explains', 'der', '##eli', '##ction', 'of', 'duty', '##lies', 're', '#', 'ben', '##gh', '##azi', '##et', '##c', '#', 't', '##cot', '[SEP]', '[PAD]', '[PAD]', '[PAD]', '[PAD]', '[PAD]', '[PAD]', '[PAD]', '[PAD]', '[PAD]', '[PAD]', '[PAD]', '[PAD]', '[PAD]', '[PAD]', '[PAD]', '[PAD]', '[PAD]', '[PAD]', '[PAD]', '[PAD]', '[PAD]', '[PAD]', '[PAD]', '[PAD]', '[PAD]', '[PAD]', '[PAD]', '[PAD]', '[PAD]', '[PAD]', '[PAD]', '[PAD]', '[PAD]', '[PAD]', '[PAD]', '[PAD]', '[PAD]', '[PAD]', '[PAD]', '[PAD]', '[PAD]', '[PAD]']\n"
     ]
    }
   ],
   "source": [
    "print(train_tokens[0])\n",
    "\n",
    "# NOTES: every tweet same length of tokens (max_length)"
   ]
  },
  {
   "cell_type": "code",
   "execution_count": 130,
   "metadata": {},
   "outputs": [
    {
     "name": "stdout",
     "output_type": "stream",
     "text": [
      "[0 0 0 0 0 0 0 0 0 0 0 0 0 0 0 0 0 0 0 0 0 0 0 0 0 0 0 0 0 0 0 0 0 0 0 0 0\n",
      " 0 0 0 0 0 0 0 0 0 0 0 0 0 0 0 0 0 0 0 0 0 0 0 0 0 0 0 0 0 0 0 0 0 0 0 0 0\n",
      " 0 0 0 0 0 0 0 0 0]\n",
      "[0 0 0 0 0 0 0 0 0 0 0 0 0 0 0 0 0 0 0 0 0 0 0 0 0 0 0 0 0 0 0 0 0 0 0 0 0\n",
      " 0 0 0 0 0 0 0 0 0 0 0 0 0 0 0 0 0 0 0 0 0 0 0 0 0 0 0 0 0 0 0 0 0 0 0 0 0\n",
      " 0 0 0 0 0 0 0 0 0]\n",
      "[ 101 4665 3113 1110 1412 1436 3026 1191 1195 5098 1328 1106 2760 1217\n",
      "  170 8706 3790  108 9294 2660  102    0    0    0    0    0    0    0\n",
      "    0    0    0    0    0    0    0    0    0    0    0    0    0    0\n",
      "    0    0    0    0    0    0    0    0    0    0    0    0    0    0\n",
      "    0    0    0    0    0    0    0    0    0    0    0    0    0    0\n",
      "    0    0    0    0    0    0    0    0    0    0    0    0    0]\n"
     ]
    }
   ],
   "source": [
    "print(train_sequenceids[0])\n",
    "print(train_sequenceids[100])\n",
    "print(train_sentenceids[1])\n",
    "\n",
    "# NOTES: what are sequence ids?"
   ]
  },
  {
   "cell_type": "code",
   "execution_count": 132,
   "metadata": {},
   "outputs": [
    {
     "name": "stdout",
     "output_type": "stream",
     "text": [
      "[array([[  101,   137, 21359, ...,     0,     0,     0],\n",
      "       [  101,  4665,  3113, ...,     0,     0,     0],\n",
      "       [  101,   137,  1103, ...,     0,     0,     0],\n",
      "       ...,\n",
      "       [  101,  1293,  9164, ...,     0,     0,     0],\n",
      "       [  101,  4463,  2266, ...,     0,     0,     0],\n",
      "       [  101,   108,  9814, ...,     0,     0,     0]]), array([[1, 1, 1, ..., 0, 0, 0],\n",
      "       [1, 1, 1, ..., 0, 0, 0],\n",
      "       [1, 1, 1, ..., 0, 0, 0],\n",
      "       ...,\n",
      "       [1, 1, 1, ..., 0, 0, 0],\n",
      "       [1, 1, 1, ..., 0, 0, 0],\n",
      "       [1, 1, 1, ..., 0, 0, 0]]), array([[0, 0, 0, ..., 0, 0, 0],\n",
      "       [0, 0, 0, ..., 0, 0, 0],\n",
      "       [0, 0, 0, ..., 0, 0, 0],\n",
      "       ...,\n",
      "       [0, 0, 0, ..., 0, 0, 0],\n",
      "       [0, 0, 0, ..., 0, 0, 0],\n",
      "       [0, 0, 0, ..., 0, 0, 0]])]\n"
     ]
    }
   ],
   "source": [
    "print(bert_train)"
   ]
  },
  {
   "cell_type": "markdown",
   "metadata": {},
   "source": [
    "## Subset by Target"
   ]
  },
  {
   "cell_type": "code",
   "execution_count": 163,
   "metadata": {},
   "outputs": [
    {
     "name": "stdout",
     "output_type": "stream",
     "text": [
      "2914\n",
      "2914\n",
      "2914\n",
      "(2914, 3)\n",
      "1956\n",
      "1956\n",
      "1956\n",
      "(1956, 3)\n"
     ]
    }
   ],
   "source": [
    "print(len(train_sentenceids))\n",
    "print(len(train_mask_ids))\n",
    "print(len(train_sequenceids))\n",
    "print(labels_train.shape)\n",
    "\n",
    "print(len(test_sentenceids))\n",
    "print(len(test_mask_ids))\n",
    "print(len(test_sequenceids))\n",
    "print(labels_test.shape)"
   ]
  },
  {
   "cell_type": "code",
   "execution_count": 165,
   "metadata": {},
   "outputs": [],
   "source": [
    "# Hillary\n",
    "topic_list = ['hillary clinton']\n",
    "matches_hillary_train = np.array(twitter_train['Target'].apply(lambda x: x.lower() in topic_list))\n",
    "matches_hillary_test = np.array(twitter_test['Target'].apply(lambda x: x.lower() in topic_list))\n",
    "\n",
    "labels_train_hillary = labels_train[matches_hillary_train,]\n",
    "labels_test_hillary = labels_test[matches_hillary_test,]\n",
    "\n",
    "train_sentenceids_hillary = list(compress(train_sentenceids, matches_hillary_train))\n",
    "train_mask_ids_hillary = list(compress(train_mask_ids, matches_hillary_train))\n",
    "train_sequenceids_hillary = list(compress(train_sequenceids, matches_hillary_train))\n",
    "test_sentenceids_hillary = list(compress(test_sentenceids, matches_hillary_test))\n",
    "test_mask_ids_hillary = list(compress(test_mask_ids, matches_hillary_test))\n",
    "test_sequenceids_hillary = list(compress(test_sequenceids, matches_hillary_test))\n",
    "\n",
    "bert_train_hillary = [np.array(train_sentenceids_hillary), \n",
    "                      np.array(train_mask_ids_hillary), \n",
    "                      np.array(train_sequenceids_hillary)]\n",
    "bert_test_hillary = [np.array(test_sentenceids_hillary), \n",
    "                     np.array(test_mask_ids_hillary), \n",
    "                     np.array(test_sequenceids_hillary)]"
   ]
  },
  {
   "cell_type": "code",
   "execution_count": 166,
   "metadata": {},
   "outputs": [
    {
     "name": "stdout",
     "output_type": "stream",
     "text": [
      "689\n",
      "689\n",
      "689\n",
      "(689, 3)\n",
      "295\n",
      "295\n",
      "295\n",
      "(295, 3)\n"
     ]
    }
   ],
   "source": [
    "print(len(train_sentenceids_hillary))\n",
    "print(len(train_mask_ids_hillary))\n",
    "print(len(train_sequenceids_hillary))\n",
    "print(labels_train_hillary.shape)\n",
    "\n",
    "print(len(test_sentenceids_hillary))\n",
    "print(len(test_mask_ids_hillary))\n",
    "print(len(test_sequenceids_hillary))\n",
    "print(labels_test_hillary.shape)"
   ]
  },
  {
   "cell_type": "markdown",
   "metadata": {},
   "source": [
    "## Custom layer to create Bert"
   ]
  },
  {
   "cell_type": "code",
   "execution_count": 133,
   "metadata": {},
   "outputs": [],
   "source": [
    "class BertLayer(tf.keras.layers.Layer):\n",
    "    def __init__(self, n_fine_tune_layers=10, **kwargs):\n",
    "        self.n_fine_tune_layers = n_fine_tune_layers\n",
    "        self.trainable = True\n",
    "        self.output_size = 768\n",
    "        super(BertLayer, self).__init__(**kwargs)\n",
    "\n",
    "    def build(self, input_shape):\n",
    "        self.bert = hub.Module(\n",
    "            bert_url,\n",
    "            trainable=self.trainable,\n",
    "            name=\"{}_module\".format(self.name)\n",
    "        )\n",
    "        trainable_vars = self.bert.variables\n",
    "        \n",
    "        # Remove unused layers\n",
    "        trainable_vars = [var for var in trainable_vars if not \"/cls/\" in var.name]\n",
    "        \n",
    "        # Select how many layers to fine tune\n",
    "        trainable_vars = trainable_vars[-self.n_fine_tune_layers :]\n",
    "        \n",
    "        # Add to trainable weights\n",
    "        for var in trainable_vars:\n",
    "            self._trainable_weights.append(var)\n",
    "        \n",
    "        # Add non-trainable weights\n",
    "        for var in self.bert.variables:\n",
    "            if var not in self._trainable_weights:\n",
    "                self._non_trainable_weights.append(var)\n",
    "        \n",
    "        super(BertLayer, self).build(input_shape)\n",
    "\n",
    "    def call(self, inputs):\n",
    "        inputs = [K.cast(x, dtype=\"int32\") for x in inputs]\n",
    "        input_ids, input_mask, segment_ids = inputs\n",
    "        bert_inputs = dict(\n",
    "            input_ids=input_ids, input_mask=input_mask, segment_ids=segment_ids\n",
    "        )\n",
    "        result = self.bert(inputs=bert_inputs, signature=\"tokens\", as_dict=True)[\n",
    "            \"pooled_output\"\n",
    "        ]\n",
    "        return result\n",
    "\n",
    "    def compute_output_shape(self, input_shape):\n",
    "        return (input_shape[0], self.output_size)"
   ]
  },
  {
   "cell_type": "code",
   "execution_count": 134,
   "metadata": {},
   "outputs": [],
   "source": [
    "def variable_summaries(var):\n",
    "    \"\"\"Attach a lot of summaries to a Tensor (for TensorBoard visualization).\"\"\"\n",
    "    with tf.name_scope('summaries'):\n",
    "        mean = tf.reduce_mean(var)\n",
    "        tf.summary.scalar('mean', mean)\n",
    "        with tf.name_scope('stddev'):\n",
    "            stddev = tf.sqrt(tf.reduce_mean(tf.square(var - mean)))\n",
    "        tf.summary.scalar('stddev', stddev)\n",
    "        tf.summary.scalar('max', tf.reduce_max(var))\n",
    "        tf.summary.scalar('min', tf.reduce_min(var))\n",
    "        tf.summary.histogram('histogram', var)"
   ]
  },
  {
   "cell_type": "markdown",
   "metadata": {},
   "source": [
    "## Define Model"
   ]
  },
  {
   "cell_type": "code",
   "execution_count": 136,
   "metadata": {},
   "outputs": [],
   "source": [
    "# NOTES: \n",
    "    # why have max_input_length as a parameter when we use max_length?\n",
    "\n",
    "def bert_model(max_input_length, train_layers, optimizer = tf.keras.optimizers.Adam(learning_rate=1)):\n",
    "    \n",
    "    in_id = tf.keras.layers.Input(shape=(max_input_length,), name=\"input_ids\")\n",
    "    in_mask = tf.keras.layers.Input(shape=(max_input_length,), name=\"input_masks\")\n",
    "    in_segment = tf.keras.layers.Input(shape=(max_input_length,), name=\"segment_ids\")\n",
    "    \n",
    "    \n",
    "    bert_inputs = [in_id, in_mask, in_segment]\n",
    "    \n",
    "    bert_sequence = BertLayer(n_fine_tune_layers = train_layers)(bert_inputs)\n",
    "    \n",
    "    #dense = tf.keras.layers.Dense(256, activation='relu', name='dense')(bert_sequence)\n",
    "    \n",
    "    dropout = tf.keras.layers.Dropout(rate=0.3)(bert_sequence)\n",
    "    \n",
    "    pred = tf.keras.layers.Dense(3, activation='softmax', name='classification')(dropout)\n",
    "    \n",
    "    model = tf.keras.models.Model(inputs=bert_inputs, outputs=pred)\n",
    "\n",
    "    model.compile(loss='categorical_crossentropy', optimizer=optimizer, metrics = ['categorical_accuracy'])\n",
    "    \n",
    "    model.summary()\n",
    "    \n",
    "    return model\n",
    "\n",
    "def initialize_vars(sess):\n",
    "    sess.run(tf.local_variables_initializer())\n",
    "    sess.run(tf.global_variables_initializer())\n",
    "    sess.run(tf.tables_initializer())\n",
    "    K.set_session(sess)"
   ]
  },
  {
   "cell_type": "code",
   "execution_count": 170,
   "metadata": {},
   "outputs": [
    {
     "data": {
      "text/plain": [
       "{0: 0.6962962962962963, 1: 1.289951305887561, 2: 1.268059181897302}"
      ]
     },
     "execution_count": 170,
     "metadata": {},
     "output_type": "execute_result"
    }
   ],
   "source": [
    "compute_class = compute_class_weight('balanced', np.unique(stance_train), stance_train)\n",
    "weights = {0: compute_class[0], 1:compute_class[1], 2:compute_class[2]}\n",
    "weights"
   ]
  },
  {
   "cell_type": "code",
   "execution_count": 171,
   "metadata": {},
   "outputs": [
    {
     "name": "stdout",
     "output_type": "stream",
     "text": [
      "INFO:tensorflow:Saver not created because there are no variables in the graph to restore\n"
     ]
    },
    {
     "name": "stderr",
     "output_type": "stream",
     "text": [
      "INFO:tensorflow:Saver not created because there are no variables in the graph to restore\n"
     ]
    },
    {
     "name": "stdout",
     "output_type": "stream",
     "text": [
      "Model: \"model_7\"\n",
      "__________________________________________________________________________________________________\n",
      "Layer (type)                    Output Shape         Param #     Connected to                     \n",
      "==================================================================================================\n",
      "input_ids (InputLayer)          [(None, 83)]         0                                            \n",
      "__________________________________________________________________________________________________\n",
      "input_masks (InputLayer)        [(None, 83)]         0                                            \n",
      "__________________________________________________________________________________________________\n",
      "segment_ids (InputLayer)        [(None, 83)]         0                                            \n",
      "__________________________________________________________________________________________________\n",
      "bert_layer_7 (BertLayer)        (None, 768)          108931396   input_ids[0][0]                  \n",
      "                                                                 input_masks[0][0]                \n",
      "                                                                 segment_ids[0][0]                \n",
      "__________________________________________________________________________________________________\n",
      "dropout_7 (Dropout)             (None, 768)          0           bert_layer_7[0][0]               \n",
      "__________________________________________________________________________________________________\n",
      "classification (Dense)          (None, 3)            2307        dropout_7[0][0]                  \n",
      "==================================================================================================\n",
      "Total params: 108,933,703\n",
      "Trainable params: 6,498,051\n",
      "Non-trainable params: 102,435,652\n",
      "__________________________________________________________________________________________________\n",
      "Train on 551 samples, validate on 138 samples\n",
      "Epoch 1/30\n",
      "551/551 [==============================] - 276s 501ms/sample - loss: 1.2061 - categorical_accuracy: 0.4247 - val_loss: 0.7519 - val_categorical_accuracy: 0.5652\n",
      "Epoch 2/30\n",
      "551/551 [==============================] - 278s 505ms/sample - loss: 0.9353 - categorical_accuracy: 0.5426 - val_loss: 1.0403 - val_categorical_accuracy: 0.1884\n",
      "Epoch 3/30\n",
      "551/551 [==============================] - 281s 510ms/sample - loss: 0.8300 - categorical_accuracy: 0.5917 - val_loss: 1.0665 - val_categorical_accuracy: 0.6014\n",
      "Epoch 4/30\n",
      "551/551 [==============================] - 286s 520ms/sample - loss: 0.5223 - categorical_accuracy: 0.7586 - val_loss: 0.6226 - val_categorical_accuracy: 0.6739\n",
      "Epoch 5/30\n",
      "551/551 [==============================] - 288s 522ms/sample - loss: 0.3995 - categorical_accuracy: 0.8421 - val_loss: 1.3343 - val_categorical_accuracy: 0.5362\n",
      "Epoch 6/30\n",
      "551/551 [==============================] - 286s 520ms/sample - loss: 0.2647 - categorical_accuracy: 0.8748 - val_loss: 1.0581 - val_categorical_accuracy: 0.6087\n",
      "Epoch 7/30\n",
      "551/551 [==============================] - 288s 523ms/sample - loss: 0.1046 - categorical_accuracy: 0.9583 - val_loss: 1.4529 - val_categorical_accuracy: 0.5507\n",
      "Epoch 8/30\n",
      "551/551 [==============================] - 294s 534ms/sample - loss: 0.1160 - categorical_accuracy: 0.9601 - val_loss: 1.3066 - val_categorical_accuracy: 0.6449\n",
      "Epoch 9/30\n",
      "551/551 [==============================] - 288s 523ms/sample - loss: 0.0782 - categorical_accuracy: 0.9800 - val_loss: 1.6376 - val_categorical_accuracy: 0.6522\n",
      "Epoch 10/30\n",
      "551/551 [==============================] - 295s 535ms/sample - loss: 0.0364 - categorical_accuracy: 0.9837 - val_loss: 2.3438 - val_categorical_accuracy: 0.4783\n",
      "Epoch 11/30\n",
      "551/551 [==============================] - 293s 532ms/sample - loss: 0.0697 - categorical_accuracy: 0.9764 - val_loss: 1.4105 - val_categorical_accuracy: 0.6377\n",
      "Epoch 12/30\n",
      "551/551 [==============================] - 292s 530ms/sample - loss: 0.0425 - categorical_accuracy: 0.9837 - val_loss: 1.8648 - val_categorical_accuracy: 0.5290\n",
      "Epoch 13/30\n",
      "551/551 [==============================] - 297s 539ms/sample - loss: 0.0473 - categorical_accuracy: 0.9800 - val_loss: 1.6656 - val_categorical_accuracy: 0.5797\n",
      "Epoch 14/30\n",
      "551/551 [==============================] - 295s 536ms/sample - loss: 0.0694 - categorical_accuracy: 0.9800 - val_loss: 1.5062 - val_categorical_accuracy: 0.5507\n",
      "Epoch 15/30\n",
      "551/551 [==============================] - 297s 540ms/sample - loss: 0.0530 - categorical_accuracy: 0.9873 - val_loss: 1.8332 - val_categorical_accuracy: 0.6014\n",
      "Epoch 16/30\n",
      "551/551 [==============================] - 294s 534ms/sample - loss: 0.0201 - categorical_accuracy: 0.9946 - val_loss: 1.8191 - val_categorical_accuracy: 0.6304\n",
      "Epoch 17/30\n",
      "551/551 [==============================] - 303s 549ms/sample - loss: 0.0158 - categorical_accuracy: 0.9946 - val_loss: 1.3284 - val_categorical_accuracy: 0.6957\n",
      "Epoch 18/30\n",
      "551/551 [==============================] - 297s 539ms/sample - loss: 0.0030 - categorical_accuracy: 1.0000 - val_loss: 1.9621 - val_categorical_accuracy: 0.6377\n",
      "Epoch 19/30\n",
      "551/551 [==============================] - 296s 536ms/sample - loss: 0.0024 - categorical_accuracy: 1.0000 - val_loss: 2.4911 - val_categorical_accuracy: 0.5870\n",
      "Epoch 20/30\n",
      "551/551 [==============================] - 294s 533ms/sample - loss: 0.0050 - categorical_accuracy: 0.9982 - val_loss: 2.3454 - val_categorical_accuracy: 0.6377\n",
      "Epoch 21/30\n",
      "551/551 [==============================] - 294s 533ms/sample - loss: 0.0048 - categorical_accuracy: 0.9982 - val_loss: 2.1007 - val_categorical_accuracy: 0.6957\n",
      "Epoch 22/30\n",
      "551/551 [==============================] - 295s 535ms/sample - loss: 0.0081 - categorical_accuracy: 0.9964 - val_loss: 2.1835 - val_categorical_accuracy: 0.6594\n",
      "Epoch 23/30\n",
      "551/551 [==============================] - 289s 525ms/sample - loss: 0.0026 - categorical_accuracy: 0.9982 - val_loss: 2.4116 - val_categorical_accuracy: 0.6449\n",
      "Epoch 24/30\n",
      "551/551 [==============================] - 290s 526ms/sample - loss: 5.3352e-04 - categorical_accuracy: 1.0000 - val_loss: 2.7972 - val_categorical_accuracy: 0.6159\n",
      "Epoch 25/30\n",
      "551/551 [==============================] - 291s 528ms/sample - loss: 4.5811e-05 - categorical_accuracy: 1.0000 - val_loss: 2.6806 - val_categorical_accuracy: 0.6304\n",
      "Epoch 26/30\n",
      "551/551 [==============================] - 290s 526ms/sample - loss: 2.6374e-05 - categorical_accuracy: 1.0000 - val_loss: 2.6505 - val_categorical_accuracy: 0.6377\n",
      "Epoch 27/30\n",
      "551/551 [==============================] - 291s 528ms/sample - loss: 1.8175e-05 - categorical_accuracy: 1.0000 - val_loss: 2.6389 - val_categorical_accuracy: 0.6377\n",
      "Epoch 28/30\n",
      "551/551 [==============================] - 290s 526ms/sample - loss: 2.3844e-05 - categorical_accuracy: 1.0000 - val_loss: 2.6315 - val_categorical_accuracy: 0.6377\n",
      "Epoch 29/30\n",
      "551/551 [==============================] - 289s 524ms/sample - loss: 3.0470e-05 - categorical_accuracy: 1.0000 - val_loss: 2.6284 - val_categorical_accuracy: 0.6377\n",
      "Epoch 30/30\n",
      "551/551 [==============================] - 289s 525ms/sample - loss: 1.7776e-05 - categorical_accuracy: 1.0000 - val_loss: 2.6247 - val_categorical_accuracy: 0.6304\n"
     ]
    },
    {
     "data": {
      "text/plain": [
       "<tensorflow.python.keras.callbacks.History at 0x1718183b978>"
      ]
     },
     "execution_count": 171,
     "metadata": {},
     "output_type": "execute_result"
    }
   ],
   "source": [
    "#Start session\n",
    "\n",
    "sess = tf.Session()\n",
    "\n",
    "model = bert_model(max_input_length = max_length, # + 1 \n",
    "                   train_layers = 12, \n",
    "                   optimizer = 'adam')\n",
    "\n",
    "# Instantiate variables\n",
    "initialize_vars(sess)\n",
    "\n",
    "model.fit(\n",
    "    x = bert_train_hillary, \n",
    "    y = labels_train_hillary,\n",
    "    validation_split = 0.2,\n",
    "    shuffle = True,\n",
    "    epochs = 30,\n",
    "    verbose = 1,\n",
    "    batch_size=32,\n",
    "    class_weight = weights\n",
    ")    "
   ]
  },
  {
   "cell_type": "code",
   "execution_count": 173,
   "metadata": {},
   "outputs": [],
   "source": [
    "test_hillary = model.predict(bert_test_hillary)"
   ]
  },
  {
   "cell_type": "code",
   "execution_count": 174,
   "metadata": {},
   "outputs": [
    {
     "data": {
      "text/plain": [
       "array([0, 2, 2, 0, 2, 1, 0, 2, 0, 0, 2, 0, 1, 2, 0, 0, 0, 0, 0, 0, 0, 0,\n",
       "       1, 0, 0, 2, 2, 2, 0, 1, 0, 1, 0, 0, 0, 0, 0, 0, 2, 0, 0, 0, 0, 0,\n",
       "       0, 0, 2, 0, 0, 2, 0, 2, 0, 2, 0, 0, 2, 0, 0, 2, 0, 2, 2, 2, 0, 2,\n",
       "       2, 0, 0, 2, 2, 2, 0, 2, 2, 0, 0, 0, 0, 0, 2, 0, 2, 2, 2, 0, 0, 0,\n",
       "       0, 0, 2, 1, 2, 0, 2, 1, 1, 0, 1, 0, 0, 1, 0, 0, 0, 2, 0, 1, 2, 0,\n",
       "       0, 1, 2, 0, 0, 0, 0, 0, 0, 0, 0, 2, 0, 0, 0, 2, 2, 0, 0, 0, 0, 0,\n",
       "       0, 0, 0, 0, 2, 2, 2, 0, 2, 0, 0, 0, 0, 0, 0, 0, 0, 0, 0, 0, 0, 2,\n",
       "       2, 0, 2, 0, 0, 0, 2, 0, 1, 0, 1, 0, 2, 0, 0, 0, 0, 2, 2, 2, 0, 0,\n",
       "       0, 2, 0, 0, 0, 2, 2, 2, 0, 2, 2, 0, 2, 2, 0, 1, 1, 1, 0, 0, 0, 1,\n",
       "       2, 0, 2, 0, 0, 0, 0, 2, 2, 2, 2, 0, 1, 2, 0, 2, 2, 0, 2, 0, 0, 2,\n",
       "       0, 2, 0, 0, 0, 0, 0, 0, 0, 0, 2, 0, 0, 1, 0, 0, 2, 0, 2, 0, 0, 0,\n",
       "       2, 2, 2, 0, 0, 0, 2, 2, 0, 0, 2, 0, 0, 0, 0, 0, 1, 1, 0, 0, 0, 1,\n",
       "       2, 2, 2, 1, 0, 2, 2, 2, 2, 2, 0, 2, 0, 2, 1, 0, 2, 2, 0, 2, 0, 0,\n",
       "       0, 2, 2, 0, 1, 2, 0, 0, 2], dtype=int64)"
      ]
     },
     "execution_count": 174,
     "metadata": {},
     "output_type": "execute_result"
    }
   ],
   "source": [
    "np.argmax(test_hillary, axis = 1)"
   ]
  },
  {
   "cell_type": "code",
   "execution_count": 179,
   "metadata": {},
   "outputs": [],
   "source": [
    "def confusion_plot(confusion_matrix, target_names):\n",
    "    # Plot confusion matrix (via imshow)\n",
    "    plt.imshow(confusion_matrix, interpolation = \"nearest\", cmap = plt.cm.Blues)\n",
    "    plt.title(\"Confusion matrix\")\n",
    "    plt.colorbar()\n",
    "    tick_marks = np.arange(len(target_names))\n",
    "    plt.xticks(tick_marks, target_names)\n",
    "    plt.yticks(tick_marks, target_names)\n",
    "    plt.tight_layout()\n",
    "\n",
    "    # Loop through each value of the matrix to add data labels\n",
    "    width, height = confusion_matrix.shape\n",
    "    for x in range(width):\n",
    "        for y in range(height):\n",
    "            plt.annotate(str(confusion_matrix[x][y]), xy = (y, x), \n",
    "                        horizontalalignment = \"center\",\n",
    "                        verticalalignment = \"center\")\n",
    "    plt.ylabel(\"True label\")\n",
    "    \n",
    "def metrics(true_labels_in, test_probs):\n",
    "    \n",
    "    #find predicted labels\n",
    "    test_predicts = np.argmax(test_probs, axis = 1)\n",
    "    true_labels = np.argmax(true_labels_in, axis = 1)\n",
    "    \n",
    "    #calculate f1 score\n",
    "    f1 = f1_score(true_labels, test_predicts, average = 'macro')\n",
    "    \n",
    "    print(\"F1 macro score:\", f1)\n",
    "    \n",
    "    print(classification_report(y_true = true_labels, \n",
    "                                        y_pred = test_predicts,\n",
    "                                        target_names = ['Against', 'None', 'Favor']))\n",
    "    \n",
    "    confuse = confusion_matrix(y_true = true_labels, y_pred = test_predicts)\n",
    "    \n",
    "    plt.figure(figsize=(15, 5))\n",
    "    confusion_plot(confuse, ['Against', 'None', 'Favor'])\n",
    "    plt.show()"
   ]
  },
  {
   "cell_type": "code",
   "execution_count": 180,
   "metadata": {},
   "outputs": [
    {
     "name": "stdout",
     "output_type": "stream",
     "text": [
      "F1 macro score: 0.6099603824497372\n",
      "              precision    recall  f1-score   support\n",
      "\n",
      "     Against       0.74      0.74      0.74       172\n",
      "        None       0.54      0.31      0.39        45\n",
      "       Favor       0.63      0.78      0.70        78\n",
      "\n",
      "    accuracy                           0.68       295\n",
      "   macro avg       0.64      0.61      0.61       295\n",
      "weighted avg       0.68      0.68      0.67       295\n",
      "\n"
     ]
    },
    {
     "data": {
      "image/png": "[encoded data removed]",
      "text/plain": [
       "<Figure size 1080x360 with 2 Axes>"
      ]
     },
     "metadata": {
      "needs_background": "light"
     },
     "output_type": "display_data"
    }
   ],
   "source": [
    "metrics(true_labels_in = labels_test_hillary, \n",
    "        test_probs = test_hillary)"
   ]
  }
 ],
 "metadata": {
  "kernelspec": {
   "display_name": "Python 3",
   "language": "python",
   "name": "python3"
  },
  "language_info": {
   "codemirror_mode": {
    "name": "ipython",
    "version": 3
   },
   "file_extension": ".py",
   "mimetype": "text/x-python",
   "name": "python",
   "nbconvert_exporter": "python",
   "pygments_lexer": "ipython3",
   "version": "3.6.9"
  }
 },
 "nbformat": 4,
 "nbformat_minor": 2
}
