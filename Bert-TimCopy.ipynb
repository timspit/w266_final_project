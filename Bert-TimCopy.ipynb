{
 "cells": [
  {
   "cell_type": "markdown",
   "metadata": {},
   "source": [
    "# Twitter Stance Detection  \n",
    "W266 - NLP  \n",
    "Alex Dessouky & Tim Spittle"
   ]
  },
  {
   "cell_type": "markdown",
   "metadata": {},
   "source": [
    "## Setup  \n",
    "\n",
    "### Packages"
   ]
  },
  {
   "cell_type": "code",
   "execution_count": 1,
   "metadata": {},
   "outputs": [],
   "source": [
    "# System and Storage\n",
    "import time\n",
    "import os\n",
    "import sys\n",
    "from datetime import datetime\n",
    "now = datetime.now() # current date and time\n",
    "\n",
    "# Data structures\n",
    "import pandas as pd\n",
    "import numpy as np\n",
    "\n",
    "# Strings\n",
    "import string\n",
    "import re\n",
    "\n",
    "# Pre-Processing\n",
    "from sklearn.preprocessing import OneHotEncoder\n",
    "from itertools import compress\n",
    "from sklearn.utils.class_weight import compute_class_weight\n",
    "\n",
    "# Tensorflow\n",
    "import tensorflow as tf\n",
    "import tensorflow_hub as hub\n",
    "from tensorflow.keras import backend as K\n",
    "from tensorflow.keras import layers\n",
    "from tensorflow.python.keras.layers import Lambda\n",
    "from tensorflow.keras.callbacks import TensorBoard\n",
    "from tensorflow.keras.backend import sparse_categorical_crossentropy\n",
    "from tensorflow.keras.layers import Dense, TimeDistributed\n",
    "\n",
    "# Outputs\n",
    "from sklearn.metrics import f1_score\n",
    "from sklearn.metrics import confusion_matrix, classification_report\n",
    "import matplotlib.pyplot as plt\n",
    "%matplotlib inline\n",
    "import seaborn as sns"
   ]
  },
  {
   "cell_type": "markdown",
   "metadata": {},
   "source": [
    "### Paths & Local Packages"
   ]
  },
  {
   "cell_type": "code",
   "execution_count": 2,
   "metadata": {},
   "outputs": [],
   "source": [
    "## PATH STUFF FIRST SO EASY TO SWITCH BETWEEN US ##\n",
    "\n",
    "# Set working directory\n",
    "# os.chdir(\"/Users/alexdessouky/Desktop/MIDS/w266\")\n",
    "# os.chdir(\"/Users/manat/OneDrive/Documents/Tim/MIDS/266_NLP/Final Project\")\n",
    "\n",
    "# Store the paths to bert & data\n",
    "# bert_path =   '/Users/alexdessouky/Desktop/MIDS/w266/bert' \n",
    "# data_path = '/Users/alexdessouky/Desktop/MIDS/w266/w266_final_project/StanceDataset'  \n",
    "# TIM LOCAL\n",
    "# bert_path = r'C:\\Users\\manat\\OneDrive\\Documents\\Tim\\MIDS\\266_NLP\\w266\\bert\\\\' # change as needed\n",
    "# data_path = r'C:\\Users\\manat\\OneDrive\\Documents\\Tim\\MIDS\\266_NLP\\Final Project\\w266_final_project\\StanceDataset'  \n",
    "# TIM CLOUD\n",
    "bert_path = r'/home/timspittle/w266_final_project/bert/' \n",
    "data_path = r'/home/timspittle/w266_final_project/StanceDataset/'  \n",
    "\n",
    "# Make sure that the paths are accessible within the notebook\n",
    "sys.path.insert(0, bert_path)\n",
    "sys.path.insert(0, data_path)"
   ]
  },
  {
   "cell_type": "code",
   "execution_count": 3,
   "metadata": {},
   "outputs": [
    {
     "name": "stdout",
     "output_type": "stream",
     "text": [
      "WARNING:tensorflow:From /home/timspittle/w266_final_project/bert/optimization.py:87: The name tf.train.Optimizer is deprecated. Please use tf.compat.v1.train.Optimizer instead.\n",
      "\n"
     ]
    }
   ],
   "source": [
    "# Packages imported from bert local path\n",
    "import optimization\n",
    "import run_classifier\n",
    "import tokenization\n",
    "import run_classifier_with_tfhub\n",
    "\n",
    "# Tensorflow hub path to BERT module of choice\n",
    "bert_url = \"https://tfhub.dev/google/bert_cased_L-12_H-768_A-12/1\""
   ]
  },
  {
   "cell_type": "markdown",
   "metadata": {},
   "source": [
    "### Import Raw Data"
   ]
  },
  {
   "cell_type": "code",
   "execution_count": 4,
   "metadata": {},
   "outputs": [
    {
     "name": "stdout",
     "output_type": "stream",
     "text": [
      "Training (shape): (2914, 5)\n",
      "Test (shape): (1956, 5)\n"
     ]
    },
    {
     "data": {
      "text/html": [
       "<div>\n",
       "<style scoped>\n",
       "    .dataframe tbody tr th:only-of-type {\n",
       "        vertical-align: middle;\n",
       "    }\n",
       "\n",
       "    .dataframe tbody tr th {\n",
       "        vertical-align: top;\n",
       "    }\n",
       "\n",
       "    .dataframe thead th {\n",
       "        text-align: right;\n",
       "    }\n",
       "</style>\n",
       "<table border=\"1\" class=\"dataframe\">\n",
       "  <thead>\n",
       "    <tr style=\"text-align: right;\">\n",
       "      <th></th>\n",
       "      <th>Tweet</th>\n",
       "      <th>Target</th>\n",
       "      <th>Stance</th>\n",
       "      <th>Opinion Towards</th>\n",
       "      <th>Sentiment</th>\n",
       "    </tr>\n",
       "  </thead>\n",
       "  <tbody>\n",
       "    <tr>\n",
       "      <th>0</th>\n",
       "      <td>@tedcruz And, #HandOverTheServer she wiped cle...</td>\n",
       "      <td>Hillary Clinton</td>\n",
       "      <td>AGAINST</td>\n",
       "      <td>1.  The tweet explicitly expresses opinion abo...</td>\n",
       "      <td>neg</td>\n",
       "    </tr>\n",
       "    <tr>\n",
       "      <th>1</th>\n",
       "      <td>Hillary is our best choice if we truly want to...</td>\n",
       "      <td>Hillary Clinton</td>\n",
       "      <td>FAVOR</td>\n",
       "      <td>1.  The tweet explicitly expresses opinion abo...</td>\n",
       "      <td>pos</td>\n",
       "    </tr>\n",
       "    <tr>\n",
       "      <th>2</th>\n",
       "      <td>@TheView I think our country is ready for a fe...</td>\n",
       "      <td>Hillary Clinton</td>\n",
       "      <td>AGAINST</td>\n",
       "      <td>1.  The tweet explicitly expresses opinion abo...</td>\n",
       "      <td>neg</td>\n",
       "    </tr>\n",
       "    <tr>\n",
       "      <th>3</th>\n",
       "      <td>I just gave an unhealthy amount of my hard-ear...</td>\n",
       "      <td>Hillary Clinton</td>\n",
       "      <td>AGAINST</td>\n",
       "      <td>1.  The tweet explicitly expresses opinion abo...</td>\n",
       "      <td>neg</td>\n",
       "    </tr>\n",
       "    <tr>\n",
       "      <th>4</th>\n",
       "      <td>@PortiaABoulger Thank you for adding me to you...</td>\n",
       "      <td>Hillary Clinton</td>\n",
       "      <td>NONE</td>\n",
       "      <td>3.  The tweet is not explicitly expressing opi...</td>\n",
       "      <td>pos</td>\n",
       "    </tr>\n",
       "  </tbody>\n",
       "</table>\n",
       "</div>"
      ],
      "text/plain": [
       "                                               Tweet           Target  \\\n",
       "0  @tedcruz And, #HandOverTheServer she wiped cle...  Hillary Clinton   \n",
       "1  Hillary is our best choice if we truly want to...  Hillary Clinton   \n",
       "2  @TheView I think our country is ready for a fe...  Hillary Clinton   \n",
       "3  I just gave an unhealthy amount of my hard-ear...  Hillary Clinton   \n",
       "4  @PortiaABoulger Thank you for adding me to you...  Hillary Clinton   \n",
       "\n",
       "    Stance                                    Opinion Towards Sentiment  \n",
       "0  AGAINST  1.  The tweet explicitly expresses opinion abo...       neg  \n",
       "1    FAVOR  1.  The tweet explicitly expresses opinion abo...       pos  \n",
       "2  AGAINST  1.  The tweet explicitly expresses opinion abo...       neg  \n",
       "3  AGAINST  1.  The tweet explicitly expresses opinion abo...       neg  \n",
       "4     NONE  3.  The tweet is not explicitly expressing opi...       pos  "
      ]
     },
     "execution_count": 4,
     "metadata": {},
     "output_type": "execute_result"
    }
   ],
   "source": [
    "# Load data\n",
    "# Training data\n",
    "# twitter_train = pd.read_excel('./w266_final_project/StanceDataset/train.xlsx')\n",
    "twitter_train_raw = pd.read_excel('./StanceDataset/train.xlsx')\n",
    "\n",
    "# Test data\n",
    "# twitter_test = pd.read_excel('./w266_final_project/StanceDataset/test.xlsx')\n",
    "twitter_test_raw = pd.read_excel('./StanceDataset/test.xlsx')\n",
    "\n",
    "print(\"Training (shape): \" + str(twitter_train_raw.shape))\n",
    "print(\"Test (shape): \" + str(twitter_test_raw.shape))\n",
    "twitter_train_raw.head()"
   ]
  },
  {
   "cell_type": "markdown",
   "metadata": {},
   "source": [
    "## Pre-Process Data  \n",
    "\n",
    "### Labels $y$"
   ]
  },
  {
   "cell_type": "code",
   "execution_count": 5,
   "metadata": {},
   "outputs": [
    {
     "name": "stdout",
     "output_type": "stream",
     "text": [
      "['AGAINST' 'FAVOR' 'NONE']\n",
      "[[1. 0. 0.]\n",
      " [0. 1. 0.]\n",
      " [1. 0. 0.]\n",
      " [1. 0. 0.]\n",
      " [0. 0. 1.]]\n"
     ]
    }
   ],
   "source": [
    "# Text Labels (needed for plotting)\n",
    "labels_text_train = np.array(twitter_train_raw['Stance'])\n",
    "labels_text_test = np.array(twitter_test_raw['Stance'])\n",
    "\n",
    "# One-hot Encoder\n",
    "enc_labels = OneHotEncoder(handle_unknown = 'ignore')\n",
    "enc_labels.fit(labels_text_train.reshape(-1, 1))\n",
    "label_categories = enc_labels.categories_[0]\n",
    "\n",
    "# Encoded Labels (for NN)\n",
    "labels_encoded_train = enc_labels.transform(labels_text_train.reshape(-1, 1)).toarray()\n",
    "labels_encoded_test = enc_labels.transform(labels_text_test.reshape(-1, 1)).toarray()\n",
    "\n",
    "print(label_categories)\n",
    "print(labels_encoded_train[:5])"
   ]
  },
  {
   "cell_type": "markdown",
   "metadata": {},
   "source": [
    "### Tokens $x$"
   ]
  },
  {
   "cell_type": "code",
   "execution_count": 6,
   "metadata": {},
   "outputs": [
    {
     "name": "stdout",
     "output_type": "stream",
     "text": [
      "Raw: @tedcruz And, #HandOverTheServer she wiped clean + 30k deleted emails, explains dereliction of duty/lies re #Benghazi,etc #tcot\n",
      "Clean: @tedcruz and #handovertheserver she wiped clean  DIGITk deleted emails explains dereliction of dutylies re #benghazietc #tcot\n"
     ]
    }
   ],
   "source": [
    "def preprocess_tweets(x):\n",
    "    \n",
    "    # Remove punctuation EXCEPT for hashtags (#) and handles (@)\n",
    "    exclude_punc = [punc for punc in string.punctuation if punc not in ['#', '@']]\n",
    "    x_nopunc = ''.join(ch for ch in x if ch not in exclude_punc)\n",
    "\n",
    "    # lower case\n",
    "    x_lower = x_nopunc.lower()\n",
    "    \n",
    "    # Replace digits with DIGIT\n",
    "    x_digits = re.sub(\"\\d+\", \"DIGIT\", x_lower)\n",
    "    \n",
    "    return x_digits\n",
    "\n",
    "# Clean tweests\n",
    "twitter_train_raw['tweet_prep'] = np.array(twitter_train_raw['Tweet'].apply(lambda x: preprocess_tweets(x)))\n",
    "twitter_test_raw['tweet_prep'] = np.array(twitter_test_raw['Tweet'].apply(lambda x: preprocess_tweets(x)))\n",
    "\n",
    "# Example tweet\n",
    "print(\"Raw: \" + str(twitter_train_raw['Tweet'][0]))\n",
    "print(\"Clean: \" + str(preprocess_tweets(twitter_train_raw['Tweet'][0])))"
   ]
  },
  {
   "cell_type": "markdown",
   "metadata": {},
   "source": [
    "### Bert tokenizer"
   ]
  },
  {
   "cell_type": "code",
   "execution_count": 7,
   "metadata": {},
   "outputs": [
    {
     "name": "stdout",
     "output_type": "stream",
     "text": [
      "INFO:tensorflow:Saver not created because there are no variables in the graph to restore\n"
     ]
    },
    {
     "name": "stderr",
     "output_type": "stream",
     "text": [
      "INFO:tensorflow:Saver not created because there are no variables in the graph to restore\n"
     ]
    },
    {
     "name": "stdout",
     "output_type": "stream",
     "text": [
      "WARNING:tensorflow:From /home/timspittle/w266_final_project/bert/tokenization.py:125: The name tf.gfile.GFile is deprecated. Please use tf.io.gfile.GFile instead.\n",
      "\n"
     ]
    },
    {
     "name": "stderr",
     "output_type": "stream",
     "text": [
      "WARNING:tensorflow:From /home/timspittle/w266_final_project/bert/tokenization.py:125: The name tf.gfile.GFile is deprecated. Please use tf.io.gfile.GFile instead.\n",
      "\n"
     ]
    }
   ],
   "source": [
    "def create_tokenizer_from_hub_module():\n",
    "    \"\"\"Get the vocab file and casing info from the Hub module.\"\"\"\n",
    "    with tf.Graph().as_default():\n",
    "        bert_module = hub.Module(bert_url)\n",
    "        tokenization_info = bert_module(signature=\"tokenization_info\", as_dict=True)\n",
    "        with tf.Session() as sess:\n",
    "            vocab_file, do_lower_case = sess.run([tokenization_info[\"vocab_file\"],\n",
    "                                            tokenization_info[\"do_lower_case\"]])\n",
    "      \n",
    "    return tokenization.FullTokenizer(\n",
    "      vocab_file=vocab_file, do_lower_case=do_lower_case)\n",
    "\n",
    "tokenizer = create_tokenizer_from_hub_module()"
   ]
  },
  {
   "cell_type": "code",
   "execution_count": 8,
   "metadata": {},
   "outputs": [],
   "source": [
    "# Create tokens surrounded by the [CLS] and [SEP] tokens\n",
    "tokens_train = twitter_train_raw['tweet_prep'].apply(lambda x: ['[CLS]'] + tokenizer.tokenize(x) + ['[SEP]'])\n",
    "tokens_test = twitter_test_raw['tweet_prep'].apply(lambda x: ['[CLS]'] + tokenizer.tokenize(x) + ['[SEP]'])"
   ]
  },
  {
   "cell_type": "code",
   "execution_count": 9,
   "metadata": {},
   "outputs": [],
   "source": [
    "# Define maximal length of input 'sentences' (post tokenization).\n",
    "sen_length_list = []\n",
    "for sent in tokens_train.append(tokens_test):\n",
    "    sen_length_list.append(len(sent))\n",
    "max_length = np.max(sen_length_list)"
   ]
  },
  {
   "cell_type": "code",
   "execution_count": 10,
   "metadata": {},
   "outputs": [],
   "source": [
    "def bert_lists(tokens_in, max_length_in):\n",
    "\n",
    "    # Mask ids (mask out the paddings)\n",
    "    mask_ids = tokens_in.apply(lambda x: len(x)*[1])\n",
    "    \n",
    "    mask_ids = mask_ids.apply(lambda x: np.array(x + (max_length_in - len(x)) * [0])\n",
    "                              if len(x) < max_length_in else np.array(x)).tolist()\n",
    "    \n",
    "    # Add padding to tokens\n",
    "    tokens_pad = tokens_in.apply(lambda x: x + (max_length_in - len(x)) * ['[PAD]'] if len(x) < max_length_in else x)\n",
    "    \n",
    "    # Sequence vectors\n",
    "    sequenceids = tokens_pad.apply(lambda x: np.array(max_length_in*[0])).tolist()\n",
    "    \n",
    "    # Convert tokens to sentence ids\n",
    "    sentenceids = tokens_pad.apply(lambda x: tokenizer.convert_tokens_to_ids(x)).tolist()\n",
    "    \n",
    "    # Bert features\n",
    "    bert = [np.array(sentenceids), np.array(mask_ids), np.array(sequenceids)]\n",
    "    return(bert)"
   ]
  },
  {
   "cell_type": "code",
   "execution_count": 11,
   "metadata": {},
   "outputs": [],
   "source": [
    "bert_train = bert_lists(tokens_in = tokens_train, max_length_in = max_length)\n",
    "bert_test = bert_lists(tokens_in = tokens_test, max_length_in = max_length)"
   ]
  },
  {
   "cell_type": "code",
   "execution_count": 68,
   "metadata": {},
   "outputs": [
    {
     "name": "stdout",
     "output_type": "stream",
     "text": [
      "@tedcruz and #handovertheserver she wiped clean  DIGITk deleted emails explains dereliction of dutylies re #benghazietc #tcot\n",
      "['[CLS]', '@', 'te', '##d', '##c', '##ru', '##z', 'and', '#', 'hand', '##over', '##the', '##serve', '##r', 'she', 'wiped', 'clean', 'D', '##IG', '##IT', '##k', 'deleted', 'emails', 'explains', 'der', '##eli', '##ction', 'of', 'duty', '##lies', 're', '#', 'ben', '##gh', '##azi', '##et', '##c', '#', 't', '##cot', '[SEP]']\n",
      "[[  101   137 21359 ...     0     0     0]\n",
      " [  101  4665  3113 ...     0     0     0]\n",
      " [  101   137  1103 ...     0     0     0]\n",
      " ...\n",
      " [  101  1293  9164 ...     0     0     0]\n",
      " [  101  4463  2266 ...     0     0     0]\n",
      " [  101   108  9814 ...     0     0     0]]\n",
      "[[1 1 1 ... 0 0 0]\n",
      " [1 1 1 ... 0 0 0]\n",
      " [1 1 1 ... 0 0 0]\n",
      " ...\n",
      " [1 1 1 ... 0 0 0]\n",
      " [1 1 1 ... 0 0 0]\n",
      " [1 1 1 ... 0 0 0]]\n",
      "[[0 0 0 ... 0 0 0]\n",
      " [0 0 0 ... 0 0 0]\n",
      " [0 0 0 ... 0 0 0]\n",
      " ...\n",
      " [0 0 0 ... 0 0 0]\n",
      " [0 0 0 ... 0 0 0]\n",
      " [0 0 0 ... 0 0 0]]\n"
     ]
    }
   ],
   "source": [
    "print(twitter_train_raw['tweet_prep'][0])\n",
    "print(tokens_train[0])\n",
    "# NOTES: why such small tokens? e.g. benghazi and ted cruz have to be important tokens by themselves, right?\n",
    "    # If mask token is \"#\" we're losing out on hashtags\n",
    "print(bert_train[0])\n",
    "# NOTES: converting tokens to IDs makes sense, why call them sentence IDs?\n",
    "print(bert_train[1])\n",
    "# NOTES: is this just a 0 for PADs?\n",
    "print(bert_train[2])\n",
    "# NOTES: what the hell is this? all 0's?"
   ]
  },
  {
   "cell_type": "code",
   "execution_count": 13,
   "metadata": {},
   "outputs": [
    {
     "name": "stdout",
     "output_type": "stream",
     "text": [
      "(2914, 95), (2914, 95), (2914, 95)\n",
      "(2914, 3)\n",
      "(1956, 95), (1956, 95), (1956, 95)\n",
      "(1956, 3)\n"
     ]
    }
   ],
   "source": [
    "# CHECK SIZES\n",
    "print(str(bert_train[0].shape) +\", \"+  str(bert_train[1].shape) +\", \"+ str(bert_train[2].shape))\n",
    "print(labels_encoded_train.shape)\n",
    "\n",
    "print(str(bert_test[0].shape) +\", \"+  str(bert_test[1].shape) +\", \"+ str(bert_test[2].shape))\n",
    "print(labels_encoded_test.shape)"
   ]
  },
  {
   "cell_type": "markdown",
   "metadata": {},
   "source": [
    "## Subset by Target"
   ]
  },
  {
   "cell_type": "code",
   "execution_count": 14,
   "metadata": {},
   "outputs": [],
   "source": [
    "def topic_subset(targets_in, labels_text_in, labels_encoded_in, bert_in, topic_in):\n",
    "        \n",
    "    # Convert topic lower case\n",
    "    topic_in = topic_in.lower()\n",
    "    \n",
    "    # Find boolean series of all rows pertaining to the relevant topics\n",
    "    matches_target_topic = targets_in.apply(lambda x: x.lower() == topic_in)\n",
    "    \n",
    "    # LABELS\n",
    "    labels_text_sub = labels_text_in[matches_target_topic]\n",
    "    labels_encoded_sub = labels_encoded_in[matches_target_topic,:]\n",
    "    compute_class = compute_class_weight('balanced', np.unique(labels_text_sub), labels_text_sub)\n",
    "    weights = {0: compute_class[0], 1:compute_class[1], 2:compute_class[2]}\n",
    "    \n",
    "    # BERT\n",
    "    bert_sub = []\n",
    "    for input_list in bert_in:\n",
    "        bert_sub.append(input_list[matches_target_topic])\n",
    "        \n",
    "    # Output Dictionary\n",
    "    subset_dict = {}\n",
    "    subset_dict['target'] = topic_in\n",
    "    subset_dict['labels_text'] = labels_text_sub\n",
    "    subset_dict['labels_encoded'] = labels_encoded_sub\n",
    "    subset_dict['class_weights'] = weights\n",
    "    subset_dict['bert'] = bert_sub\n",
    "    \n",
    "    return subset_dict"
   ]
  },
  {
   "cell_type": "code",
   "execution_count": 15,
   "metadata": {},
   "outputs": [
    {
     "data": {
      "text/plain": [
       "['Legalization of Abortion',\n",
       " 'Climate Change is a Real Concern',\n",
       " 'Hillary Clinton',\n",
       " 'Atheism',\n",
       " 'Feminist Movement']"
      ]
     },
     "execution_count": 15,
     "metadata": {},
     "output_type": "execute_result"
    }
   ],
   "source": [
    "target_list = list(set(twitter_train_raw['Target']))\n",
    "target_abortion = target_list[0]\n",
    "target_atheism = target_list[1]\n",
    "target_climate_change = target_list[2]\n",
    "target_feminism = target_list[3]\n",
    "target_hillary = target_list[4]\n",
    "target_list"
   ]
  },
  {
   "cell_type": "code",
   "execution_count": 16,
   "metadata": {},
   "outputs": [],
   "source": [
    "#### Abortion\n",
    "abortion_train_subset = topic_subset(targets_in = twitter_train_raw['Target'], \n",
    "                                    labels_text_in = labels_text_train, \n",
    "                                    labels_encoded_in = labels_encoded_train, \n",
    "                                    bert_in = bert_train, \n",
    "                                    topic_in = target_abortion)\n",
    "\n",
    "abortion_test_subset = topic_subset(targets_in = twitter_test_raw['Target'], \n",
    "                                    labels_text_in = labels_text_test, \n",
    "                                    labels_encoded_in = labels_encoded_test, \n",
    "                                    bert_in = bert_test, \n",
    "                                    topic_in = target_abortion)"
   ]
  },
  {
   "cell_type": "code",
   "execution_count": 17,
   "metadata": {},
   "outputs": [],
   "source": [
    "#### Atheism\n",
    "atheism_train_subset = topic_subset(targets_in = twitter_train_raw['Target'], \n",
    "                                    labels_text_in = labels_text_train, \n",
    "                                    labels_encoded_in = labels_encoded_train, \n",
    "                                    bert_in = bert_train, \n",
    "                                    topic_in = target_atheism)\n",
    "\n",
    "atheism_test_subset = topic_subset(targets_in = twitter_test_raw['Target'], \n",
    "                                    labels_text_in = labels_text_test, \n",
    "                                    labels_encoded_in = labels_encoded_test, \n",
    "                                    bert_in = bert_test, \n",
    "                                    topic_in = target_atheism)"
   ]
  },
  {
   "cell_type": "code",
   "execution_count": 18,
   "metadata": {},
   "outputs": [],
   "source": [
    "#### Climate Change\n",
    "climate_change_train_subset = topic_subset(targets_in = twitter_train_raw['Target'], \n",
    "                                    labels_text_in = labels_text_train, \n",
    "                                    labels_encoded_in = labels_encoded_train, \n",
    "                                    bert_in = bert_train, \n",
    "                                    topic_in = target_climate_change)\n",
    "\n",
    "climate_change_test_subset = topic_subset(targets_in = twitter_test_raw['Target'], \n",
    "                                    labels_text_in = labels_text_test, \n",
    "                                    labels_encoded_in = labels_encoded_test, \n",
    "                                    bert_in = bert_test, \n",
    "                                    topic_in = target_climate_change)"
   ]
  },
  {
   "cell_type": "code",
   "execution_count": 19,
   "metadata": {},
   "outputs": [],
   "source": [
    "#### Feminism\n",
    "feminism_train_subset = topic_subset(targets_in = twitter_train_raw['Target'], \n",
    "                                    labels_text_in = labels_text_train, \n",
    "                                    labels_encoded_in = labels_encoded_train, \n",
    "                                    bert_in = bert_train, \n",
    "                                    topic_in = target_feminism)\n",
    "\n",
    "feminism_test_subset = topic_subset(targets_in = twitter_test_raw['Target'], \n",
    "                                    labels_text_in = labels_text_test, \n",
    "                                    labels_encoded_in = labels_encoded_test, \n",
    "                                    bert_in = bert_test, \n",
    "                                    topic_in = target_feminism)"
   ]
  },
  {
   "cell_type": "code",
   "execution_count": 20,
   "metadata": {},
   "outputs": [],
   "source": [
    "#### Hillary\n",
    "hillary_train_subset = topic_subset(targets_in = twitter_train_raw['Target'], \n",
    "                                    labels_text_in = labels_text_train, \n",
    "                                    labels_encoded_in = labels_encoded_train, \n",
    "                                    bert_in = bert_train, \n",
    "                                    topic_in = target_hillary)\n",
    "\n",
    "hillary_test_subset = topic_subset(targets_in = twitter_test_raw['Target'], \n",
    "                                    labels_text_in = labels_text_test, \n",
    "                                    labels_encoded_in = labels_encoded_test, \n",
    "                                    bert_in = bert_test, \n",
    "                                    topic_in = target_hillary)"
   ]
  },
  {
   "cell_type": "code",
   "execution_count": 21,
   "metadata": {},
   "outputs": [
    {
     "data": {
      "text/plain": [
       "True"
      ]
     },
     "execution_count": 21,
     "metadata": {},
     "output_type": "execute_result"
    }
   ],
   "source": [
    "len(twitter_train_raw['Target']) == len(abortion_train_subset['labels_text']) + len(atheism_train_subset['labels_text']) + len(climate_change_train_subset['labels_text']) + len(feminism_train_subset['labels_text']) + len(hillary_train_subset['labels_text'])"
   ]
  },
  {
   "cell_type": "markdown",
   "metadata": {},
   "source": [
    "## Custom layer to create Bert"
   ]
  },
  {
   "cell_type": "code",
   "execution_count": 46,
   "metadata": {},
   "outputs": [],
   "source": [
    "class BertLayer(tf.keras.layers.Layer):\n",
    "    def __init__(self, n_fine_tune_layers=10, **kwargs):\n",
    "        self.n_fine_tune_layers = n_fine_tune_layers\n",
    "        self.trainable = True\n",
    "        self.output_size = 768\n",
    "        super(BertLayer, self).__init__(**kwargs)\n",
    "\n",
    "    def build(self, input_shape):\n",
    "        self.bert = hub.Module(\n",
    "            bert_url,\n",
    "            trainable=self.trainable,\n",
    "            name=\"{}_module\".format(self.name)\n",
    "        )\n",
    "        trainable_vars = self.bert.variables\n",
    "        \n",
    "        # Remove unused layers\n",
    "        trainable_vars = [var for var in trainable_vars if not \"/cls/\" in var.name and not \"/pooler/\" in var.name]\n",
    "        \n",
    "        # Select how many layers to fine tune\n",
    "        trainable_vars = trainable_vars[-self.n_fine_tune_layers :]\n",
    "        \n",
    "        # Add to trainable weights\n",
    "        for var in trainable_vars:\n",
    "            self._trainable_weights.append(var)\n",
    "        \n",
    "        # Add non-trainable weights\n",
    "        for var in self.bert.variables:\n",
    "            if var not in self._trainable_weights:\n",
    "                self._non_trainable_weights.append(var)\n",
    "        \n",
    "        super(BertLayer, self).build(input_shape)\n",
    "\n",
    "    def call(self, inputs):\n",
    "        inputs = [K.cast(x, dtype=\"int32\") for x in inputs]\n",
    "        input_ids, input_mask, segment_ids = inputs\n",
    "        bert_inputs = dict(\n",
    "            input_ids=input_ids, input_mask=input_mask, segment_ids=segment_ids\n",
    "        )\n",
    "        result = self.bert(inputs=bert_inputs, signature=\"tokens\", as_dict=True)[\n",
    "            \"sequence_output\"\n",
    "        ]\n",
    "        \n",
    "        mul_mask = lambda x, m: x * tf.expand_dims(m, axis=-1)\n",
    "        \n",
    "        return result\n",
    "\n",
    "    def compute_output_shape(self, input_shape):\n",
    "        return (input_shape[0], self.output_size)"
   ]
  },
  {
   "cell_type": "markdown",
   "metadata": {},
   "source": [
    "## Define Model"
   ]
  },
  {
   "cell_type": "code",
   "execution_count": 47,
   "metadata": {},
   "outputs": [],
   "source": [
    "# NTOE: paramterized a lot of this setup\n",
    "\n",
    "def bert_lstm_model(max_length_in, bert_fine_tune_layers, optimizer, learning_rate_in, dropout_rate_in):\n",
    "    \n",
    "    in_id = tf.keras.layers.Input(shape=(max_length_in,), name=\"input_ids\")\n",
    "    in_mask = tf.keras.layers.Input(shape=(max_length_in,), name=\"input_masks\")\n",
    "    in_segment = tf.keras.layers.Input(shape=(max_length_in,), name=\"segment_ids\")\n",
    "    \n",
    "    bert_inputs = [in_id, in_mask, in_segment]\n",
    "    bert_sequence = BertLayer(n_fine_tune_layers=bert_fine_tune_layers)(bert_inputs)\n",
    "    dropout1= tf.keras.layers.Dropout(rate=dropout_rate_in)(bert_sequence)\n",
    "    \n",
    "    # Bi-Directional?\n",
    "    lstm1 = tf.keras.layers.LSTM(128, name='lstm1')(dropout1)\n",
    "    \n",
    "    dense1 = tf.keras.layers.Dense(64, \n",
    "                                   activation='relu', \n",
    "                                   kernel_initializer = tf.keras.initializers.he_normal(), \n",
    "                                   name='dense1')(lstm1)\n",
    "    dropout2 = tf.keras.layers.Dropout(rate=dropout_rate_in)(dense1)\n",
    "    \n",
    "    pred = tf.keras.layers.Dense(3, activation='softmax', name='classification')(dropout2)\n",
    "    \n",
    "    tf.keras.optimizers.Adam(learning_rate=learning_rate_in)\n",
    "    model = tf.keras.models.Model(inputs=bert_inputs, outputs=pred)\n",
    "    model.compile(loss='categorical_crossentropy', optimizer=optimizer, metrics = ['categorical_accuracy'])\n",
    "    model.summary()\n",
    "    \n",
    "    return model\n",
    "\n",
    "def initialize_vars(sess):\n",
    "    sess.run(tf.local_variables_initializer())\n",
    "    sess.run(tf.global_variables_initializer())\n",
    "    sess.run(tf.tables_initializer())\n",
    "    K.set_session(sess)"
   ]
  },
  {
   "cell_type": "code",
   "execution_count": 32,
   "metadata": {},
   "outputs": [],
   "source": [
    "def confusion_plot(confusion_matrix, target_names):\n",
    "    # Plot confusion matrix (via imshow)\n",
    "    plt.imshow(confusion_matrix, interpolation = \"nearest\", cmap = plt.cm.Blues)\n",
    "    plt.title(\"Confusion matrix\")\n",
    "    plt.colorbar()\n",
    "    tick_marks = np.arange(len(target_names))\n",
    "    plt.xticks(tick_marks, target_names)\n",
    "    plt.yticks(tick_marks, target_names)\n",
    "    plt.ylim([-0.5, 2.5]) # Fixed values for now\n",
    "    plt.tight_layout()\n",
    "\n",
    "    # Loop through each value of the matrix to add data labels\n",
    "    width, height = confusion_matrix.shape\n",
    "    for x in range(width):\n",
    "        for y in range(height):\n",
    "            plt.annotate(str(confusion_matrix[x][y]), xy = (y, x), \n",
    "                        horizontalalignment = \"center\",\n",
    "                        verticalalignment = \"center\")\n",
    "    plt.ylabel(\"True label\")\n",
    "    plt.xlabel(\"Predicted label\")\n",
    "    \n",
    "def standard_metrics(true_labels, test_probs, label_titles):\n",
    "    # Find predicted labels\n",
    "    test_prob_max = np.argmax(test_probs, axis = 1)\n",
    "\n",
    "    test_predicts = []\n",
    "    for i in range(len(test_prob_max)):\n",
    "        test_predicts.append(label_titles[test_prob_max[i]])\n",
    "    \n",
    "    # F1 score\n",
    "    f1 = f1_score(true_labels, test_predicts, average = 'macro')\n",
    "    print(\"F1 macro score:\", f1)\n",
    "    \n",
    "    # Classification Report\n",
    "    print(classification_report(y_true = true_labels, \n",
    "                                        y_pred = test_predicts,\n",
    "                                        target_names = label_titles))\n",
    "    \n",
    "    # Confusion Matrix plot\n",
    "    confuse = confusion_matrix(y_true = true_labels, y_pred = test_predicts)\n",
    "    plt.figure(figsize = (20, 5))\n",
    "    confusion_plot(confuse, label_titles)\n",
    "    plt.show()"
   ]
  },
  {
   "cell_type": "markdown",
   "metadata": {},
   "source": [
    "### Abortion"
   ]
  },
  {
   "cell_type": "code",
   "execution_count": 70,
   "metadata": {
    "scrolled": true
   },
   "outputs": [
    {
     "name": "stdout",
     "output_type": "stream",
     "text": [
      "INFO:tensorflow:Saver not created because there are no variables in the graph to restore\n"
     ]
    },
    {
     "name": "stderr",
     "output_type": "stream",
     "text": [
      "INFO:tensorflow:Saver not created because there are no variables in the graph to restore\n"
     ]
    },
    {
     "name": "stdout",
     "output_type": "stream",
     "text": [
      "Model: \"model_10\"\n",
      "__________________________________________________________________________________________________\n",
      "Layer (type)                    Output Shape         Param #     Connected to                     \n",
      "==================================================================================================\n",
      "input_ids (InputLayer)          [(None, 95)]         0                                            \n",
      "__________________________________________________________________________________________________\n",
      "input_masks (InputLayer)        [(None, 95)]         0                                            \n",
      "__________________________________________________________________________________________________\n",
      "segment_ids (InputLayer)        [(None, 95)]         0                                            \n",
      "__________________________________________________________________________________________________\n",
      "bert_layer_10 (BertLayer)       (None, None, 768)    108931396   input_ids[0][0]                  \n",
      "                                                                 input_masks[0][0]                \n",
      "                                                                 segment_ids[0][0]                \n",
      "__________________________________________________________________________________________________\n",
      "dropout_20 (Dropout)            (None, None, 768)    0           bert_layer_10[0][0]              \n",
      "__________________________________________________________________________________________________\n",
      "lstm1 (LSTM)                    (None, 128)          459264      dropout_20[0][0]                 \n",
      "__________________________________________________________________________________________________\n",
      "dense1 (Dense)                  (None, 64)           8256        lstm1[0][0]                      \n",
      "__________________________________________________________________________________________________\n",
      "dropout_21 (Dropout)            (None, 64)           0           dense1[0][0]                     \n",
      "__________________________________________________________________________________________________\n",
      "classification (Dense)          (None, 3)            195         dropout_21[0][0]                 \n",
      "==================================================================================================\n",
      "Total params: 109,399,111\n",
      "Trainable params: 6,963,459\n",
      "Non-trainable params: 102,435,652\n",
      "__________________________________________________________________________________________________\n",
      "Train on 522 samples, validate on 131 samples\n",
      "Epoch 1/15\n",
      "522/522 - 52s - loss: 1.2027 - categorical_accuracy: 0.3487 - val_loss: 0.9418 - val_categorical_accuracy: 0.1985\n",
      "Epoch 2/15\n",
      "522/522 - 42s - loss: 1.1526 - categorical_accuracy: 0.3276 - val_loss: 0.9125 - val_categorical_accuracy: 0.5878\n",
      "Epoch 3/15\n",
      "522/522 - 42s - loss: 1.0928 - categorical_accuracy: 0.4100 - val_loss: 0.8647 - val_categorical_accuracy: 0.3740\n",
      "Epoch 4/15\n",
      "522/522 - 42s - loss: 0.9742 - categorical_accuracy: 0.4962 - val_loss: 0.7806 - val_categorical_accuracy: 0.6565\n",
      "Epoch 5/15\n",
      "522/522 - 42s - loss: 0.8470 - categorical_accuracy: 0.5709 - val_loss: 0.9104 - val_categorical_accuracy: 0.4580\n",
      "Epoch 6/15\n",
      "522/522 - 42s - loss: 0.6725 - categorical_accuracy: 0.6801 - val_loss: 1.0509 - val_categorical_accuracy: 0.5191\n",
      "Epoch 7/15\n",
      "522/522 - 43s - loss: 0.5065 - categorical_accuracy: 0.7586 - val_loss: 1.4523 - val_categorical_accuracy: 0.4733\n",
      "Epoch 8/15\n",
      "522/522 - 43s - loss: 0.3884 - categorical_accuracy: 0.8084 - val_loss: 1.4260 - val_categorical_accuracy: 0.4962\n",
      "Epoch 9/15\n",
      "522/522 - 44s - loss: 0.3076 - categorical_accuracy: 0.8889 - val_loss: 1.9961 - val_categorical_accuracy: 0.5191\n",
      "Epoch 10/15\n",
      "522/522 - 45s - loss: 0.2526 - categorical_accuracy: 0.9100 - val_loss: 1.9477 - val_categorical_accuracy: 0.5573\n",
      "Epoch 11/15\n",
      "522/522 - 44s - loss: 0.2859 - categorical_accuracy: 0.8927 - val_loss: 2.6220 - val_categorical_accuracy: 0.5267\n",
      "Epoch 12/15\n",
      "522/522 - 43s - loss: 0.2841 - categorical_accuracy: 0.8966 - val_loss: 2.1353 - val_categorical_accuracy: 0.5115\n",
      "Epoch 13/15\n",
      "522/522 - 43s - loss: 0.2332 - categorical_accuracy: 0.9100 - val_loss: 2.9361 - val_categorical_accuracy: 0.4427\n",
      "Epoch 14/15\n",
      "522/522 - 43s - loss: 0.3074 - categorical_accuracy: 0.9119 - val_loss: 2.5560 - val_categorical_accuracy: 0.4198\n",
      "Epoch 15/15\n",
      "522/522 - 43s - loss: 0.3039 - categorical_accuracy: 0.8946 - val_loss: 2.0634 - val_categorical_accuracy: 0.4046\n",
      "F1 macro score: 0.46851603396979624\n",
      "              precision    recall  f1-score   support\n",
      "\n",
      "     AGAINST       0.88      0.35      0.51       189\n",
      "       FAVOR       0.30      0.78      0.43        46\n",
      "        NONE       0.36      0.67      0.47        45\n",
      "\n",
      "    accuracy                           0.48       280\n",
      "   macro avg       0.51      0.60      0.47       280\n",
      "weighted avg       0.70      0.47      0.49       280\n",
      "\n"
     ]
    },
    {
     "data": {
      "image/png": "[encoded data removed]",
      "text/plain": [
       "<Figure size 1440x360 with 2 Axes>"
      ]
     },
     "metadata": {
      "needs_background": "light"
     },
     "output_type": "display_data"
    }
   ],
   "source": [
    "sess = tf.Session()\n",
    "\n",
    "model_abortion = bert_lstm_model(max_length_in = max_length, \n",
    "                                 bert_fine_tune_layers = 12, \n",
    "                                 optimizer = 'adam',\n",
    "                                 learning_rate_in = 0.1,\n",
    "                                 dropout_rate_in = 0.8)\n",
    "\n",
    "initialize_vars(sess)\n",
    "\n",
    "model_abortion.fit(\n",
    "    x = abortion_train_subset['bert'], \n",
    "    y = abortion_train_subset['labels_encoded'],\n",
    "    validation_split = 0.2,\n",
    "    shuffle = True,\n",
    "    epochs = 15,\n",
    "    verbose = 2,\n",
    "    batch_size = 32,\n",
    "    class_weight = abortion_train_subset['class_weights'])\n",
    "\n",
    "# NOTES:\n",
    "    # Validation should not be on test data\n",
    "    # models and weights should be topic-specific\n",
    "    \n",
    "pred_test_abortion = model_abortion.predict(x = abortion_test_subset['bert'])\n",
    "\n",
    "standard_metrics(true_labels = abortion_test_subset['labels_text'], \n",
    "                 test_probs = pred_test_abortion,\n",
    "                 label_titles = label_categories)"
   ]
  },
  {
   "cell_type": "markdown",
   "metadata": {},
   "source": [
    "### Atheism"
   ]
  },
  {
   "cell_type": "code",
   "execution_count": 71,
   "metadata": {
    "scrolled": true
   },
   "outputs": [
    {
     "name": "stdout",
     "output_type": "stream",
     "text": [
      "INFO:tensorflow:Saver not created because there are no variables in the graph to restore\n"
     ]
    },
    {
     "name": "stderr",
     "output_type": "stream",
     "text": [
      "INFO:tensorflow:Saver not created because there are no variables in the graph to restore\n"
     ]
    },
    {
     "name": "stdout",
     "output_type": "stream",
     "text": [
      "Model: \"model_11\"\n",
      "__________________________________________________________________________________________________\n",
      "Layer (type)                    Output Shape         Param #     Connected to                     \n",
      "==================================================================================================\n",
      "input_ids (InputLayer)          [(None, 95)]         0                                            \n",
      "__________________________________________________________________________________________________\n",
      "input_masks (InputLayer)        [(None, 95)]         0                                            \n",
      "__________________________________________________________________________________________________\n",
      "segment_ids (InputLayer)        [(None, 95)]         0                                            \n",
      "__________________________________________________________________________________________________\n",
      "bert_layer_11 (BertLayer)       (None, None, 768)    108931396   input_ids[0][0]                  \n",
      "                                                                 input_masks[0][0]                \n",
      "                                                                 segment_ids[0][0]                \n",
      "__________________________________________________________________________________________________\n",
      "dropout_22 (Dropout)            (None, None, 768)    0           bert_layer_11[0][0]              \n",
      "__________________________________________________________________________________________________\n",
      "lstm1 (LSTM)                    (None, 128)          459264      dropout_22[0][0]                 \n",
      "__________________________________________________________________________________________________\n",
      "dense1 (Dense)                  (None, 64)           8256        lstm1[0][0]                      \n",
      "__________________________________________________________________________________________________\n",
      "dropout_23 (Dropout)            (None, 64)           0           dense1[0][0]                     \n",
      "__________________________________________________________________________________________________\n",
      "classification (Dense)          (None, 3)            195         dropout_23[0][0]                 \n",
      "==================================================================================================\n",
      "Total params: 109,399,111\n",
      "Trainable params: 6,963,459\n",
      "Non-trainable params: 102,435,652\n",
      "__________________________________________________________________________________________________\n",
      "Train on 316 samples, validate on 79 samples\n",
      "Epoch 1/15\n",
      "316/316 - 39s - loss: 1.2200 - categorical_accuracy: 0.4937 - val_loss: 1.7865 - val_categorical_accuracy: 0.4937\n",
      "Epoch 2/15\n",
      "316/316 - 27s - loss: 1.2587 - categorical_accuracy: 0.4177 - val_loss: 1.5224 - val_categorical_accuracy: 0.5190\n",
      "Epoch 3/15\n",
      "316/316 - 26s - loss: 1.0937 - categorical_accuracy: 0.3070 - val_loss: 1.5601 - val_categorical_accuracy: 0.4937\n",
      "Epoch 4/15\n",
      "316/316 - 26s - loss: 1.1137 - categorical_accuracy: 0.4082 - val_loss: 1.5291 - val_categorical_accuracy: 0.4937\n",
      "Epoch 5/15\n",
      "316/316 - 26s - loss: 0.9970 - categorical_accuracy: 0.4367 - val_loss: 1.5403 - val_categorical_accuracy: 0.4937\n",
      "Epoch 6/15\n",
      "316/316 - 26s - loss: 1.0744 - categorical_accuracy: 0.4114 - val_loss: 1.5837 - val_categorical_accuracy: 0.6329\n",
      "Epoch 7/15\n",
      "316/316 - 26s - loss: 0.9729 - categorical_accuracy: 0.4367 - val_loss: 1.6429 - val_categorical_accuracy: 0.5190\n",
      "Epoch 8/15\n",
      "316/316 - 26s - loss: 1.0761 - categorical_accuracy: 0.4335 - val_loss: 1.5753 - val_categorical_accuracy: 0.5570\n",
      "Epoch 9/15\n",
      "316/316 - 26s - loss: 0.9834 - categorical_accuracy: 0.4778 - val_loss: 1.5306 - val_categorical_accuracy: 0.4304\n",
      "Epoch 10/15\n",
      "316/316 - 26s - loss: 0.8512 - categorical_accuracy: 0.4462 - val_loss: 1.6215 - val_categorical_accuracy: 0.5570\n",
      "Epoch 11/15\n",
      "316/316 - 26s - loss: 0.9158 - categorical_accuracy: 0.4557 - val_loss: 2.3807 - val_categorical_accuracy: 0.5823\n",
      "Epoch 12/15\n",
      "316/316 - 27s - loss: 0.9582 - categorical_accuracy: 0.4367 - val_loss: 1.3834 - val_categorical_accuracy: 0.5063\n",
      "Epoch 13/15\n",
      "316/316 - 27s - loss: 0.9437 - categorical_accuracy: 0.4905 - val_loss: 1.9403 - val_categorical_accuracy: 0.6076\n",
      "Epoch 14/15\n",
      "316/316 - 26s - loss: 0.8369 - categorical_accuracy: 0.4715 - val_loss: 1.7191 - val_categorical_accuracy: 0.5443\n",
      "Epoch 15/15\n",
      "316/316 - 26s - loss: 0.8025 - categorical_accuracy: 0.5095 - val_loss: 2.0836 - val_categorical_accuracy: 0.4684\n"
     ]
    },
    {
     "name": "stderr",
     "output_type": "stream",
     "text": [
      "/home/timspittle/anaconda3/lib/python3.7/site-packages/sklearn/metrics/classification.py:1437: UndefinedMetricWarning: F-score is ill-defined and being set to 0.0 in labels with no predicted samples.\n",
      "  'precision', 'predicted', average, warn_for)\n",
      "/home/timspittle/anaconda3/lib/python3.7/site-packages/sklearn/metrics/classification.py:1437: UndefinedMetricWarning: Precision and F-score are ill-defined and being set to 0.0 in labels with no predicted samples.\n",
      "  'precision', 'predicted', average, warn_for)\n"
     ]
    },
    {
     "name": "stdout",
     "output_type": "stream",
     "text": [
      "F1 macro score: 0.14582845242743722\n",
      "              precision    recall  f1-score   support\n",
      "\n",
      "     AGAINST       0.00      0.00      0.00        11\n",
      "       FAVOR       0.86      0.05      0.09       123\n",
      "        NONE       0.21      0.97      0.35        35\n",
      "\n",
      "    accuracy                           0.24       169\n",
      "   macro avg       0.36      0.34      0.15       169\n",
      "weighted avg       0.67      0.24      0.14       169\n",
      "\n"
     ]
    },
    {
     "data": {
      "image/png": "[encoded data removed]",
      "text/plain": [
       "<Figure size 1440x360 with 2 Axes>"
      ]
     },
     "metadata": {
      "needs_background": "light"
     },
     "output_type": "display_data"
    }
   ],
   "source": [
    "sess = tf.Session()\n",
    "\n",
    "model_atheism = bert_lstm_model(max_length_in = max_length, \n",
    "                                bert_fine_tune_layers = 12, \n",
    "                                optimizer = 'adam',\n",
    "                                learning_rate_in = 0.1,\n",
    "                                dropout_rate_in = 0.8)\n",
    "\n",
    "initialize_vars(sess)\n",
    "\n",
    "model_atheism.fit(\n",
    "    x = atheism_train_subset['bert'], \n",
    "    y = atheism_train_subset['labels_encoded'],\n",
    "    validation_split = 0.2,\n",
    "    shuffle = True,\n",
    "    epochs = 15,\n",
    "    verbose = 2,\n",
    "    batch_size = 32,\n",
    "    class_weight = atheism_train_subset['class_weights'])\n",
    "\n",
    "pred_test_atheism = model_atheism.predict(x = atheism_test_subset['bert'])\n",
    "\n",
    "standard_metrics(true_labels = atheism_test_subset['labels_text'], \n",
    "                 test_probs = pred_test_atheism,\n",
    "                 label_titles = label_categories)"
   ]
  },
  {
   "cell_type": "markdown",
   "metadata": {},
   "source": [
    "### Climate Change"
   ]
  },
  {
   "cell_type": "code",
   "execution_count": 72,
   "metadata": {
    "scrolled": true
   },
   "outputs": [
    {
     "name": "stdout",
     "output_type": "stream",
     "text": [
      "INFO:tensorflow:Saver not created because there are no variables in the graph to restore\n"
     ]
    },
    {
     "name": "stderr",
     "output_type": "stream",
     "text": [
      "INFO:tensorflow:Saver not created because there are no variables in the graph to restore\n"
     ]
    },
    {
     "name": "stdout",
     "output_type": "stream",
     "text": [
      "Model: \"model_12\"\n",
      "__________________________________________________________________________________________________\n",
      "Layer (type)                    Output Shape         Param #     Connected to                     \n",
      "==================================================================================================\n",
      "input_ids (InputLayer)          [(None, 95)]         0                                            \n",
      "__________________________________________________________________________________________________\n",
      "input_masks (InputLayer)        [(None, 95)]         0                                            \n",
      "__________________________________________________________________________________________________\n",
      "segment_ids (InputLayer)        [(None, 95)]         0                                            \n",
      "__________________________________________________________________________________________________\n",
      "bert_layer_12 (BertLayer)       (None, None, 768)    108931396   input_ids[0][0]                  \n",
      "                                                                 input_masks[0][0]                \n",
      "                                                                 segment_ids[0][0]                \n",
      "__________________________________________________________________________________________________\n",
      "dropout_24 (Dropout)            (None, None, 768)    0           bert_layer_12[0][0]              \n",
      "__________________________________________________________________________________________________\n",
      "lstm1 (LSTM)                    (None, 128)          459264      dropout_24[0][0]                 \n",
      "__________________________________________________________________________________________________\n",
      "dense1 (Dense)                  (None, 64)           8256        lstm1[0][0]                      \n",
      "__________________________________________________________________________________________________\n",
      "dropout_25 (Dropout)            (None, 64)           0           dense1[0][0]                     \n",
      "__________________________________________________________________________________________________\n",
      "classification (Dense)          (None, 3)            195         dropout_25[0][0]                 \n",
      "==================================================================================================\n",
      "Total params: 109,399,111\n",
      "Trainable params: 6,963,459\n",
      "Non-trainable params: 102,435,652\n",
      "__________________________________________________________________________________________________\n",
      "Train on 551 samples, validate on 138 samples\n",
      "Epoch 1/15\n",
      "551/551 - 59s - loss: 1.2768 - categorical_accuracy: 0.3358 - val_loss: 0.8254 - val_categorical_accuracy: 0.1304\n",
      "Epoch 2/15\n",
      "551/551 - 48s - loss: 1.1854 - categorical_accuracy: 0.2613 - val_loss: 0.8764 - val_categorical_accuracy: 0.1304\n",
      "Epoch 3/15\n",
      "551/551 - 47s - loss: 1.1798 - categorical_accuracy: 0.2595 - val_loss: 0.8559 - val_categorical_accuracy: 0.0725\n",
      "Epoch 4/15\n",
      "551/551 - 46s - loss: 1.1820 - categorical_accuracy: 0.2740 - val_loss: 0.8418 - val_categorical_accuracy: 0.2319\n",
      "Epoch 5/15\n",
      "551/551 - 46s - loss: 1.1605 - categorical_accuracy: 0.3103 - val_loss: 0.9204 - val_categorical_accuracy: 0.1087\n",
      "Epoch 6/15\n",
      "551/551 - 46s - loss: 1.0878 - categorical_accuracy: 0.3920 - val_loss: 0.7677 - val_categorical_accuracy: 0.1884\n",
      "Epoch 7/15\n",
      "551/551 - 47s - loss: 0.9947 - categorical_accuracy: 0.4465 - val_loss: 0.8329 - val_categorical_accuracy: 0.1884\n",
      "Epoch 8/15\n",
      "551/551 - 47s - loss: 0.9185 - categorical_accuracy: 0.4574 - val_loss: 0.8874 - val_categorical_accuracy: 0.1884\n",
      "Epoch 9/15\n",
      "551/551 - 50s - loss: 0.9142 - categorical_accuracy: 0.4791 - val_loss: 0.8371 - val_categorical_accuracy: 0.1884\n",
      "Epoch 10/15\n",
      "551/551 - 49s - loss: 0.7847 - categorical_accuracy: 0.5100 - val_loss: 0.8699 - val_categorical_accuracy: 0.2101\n",
      "Epoch 11/15\n"
     ]
    },
    {
     "ename": "KeyboardInterrupt",
     "evalue": "",
     "output_type": "error",
     "traceback": [
      "\u001b[0;31m---------------------------------------------------------------------------\u001b[0m",
      "\u001b[0;31mKeyboardInterrupt\u001b[0m                         Traceback (most recent call last)",
      "\u001b[0;32m<ipython-input-72-9b461969adb1>\u001b[0m in \u001b[0;36m<module>\u001b[0;34m\u001b[0m\n\u001b[1;32m     17\u001b[0m     \u001b[0mverbose\u001b[0m \u001b[0;34m=\u001b[0m \u001b[0;36m2\u001b[0m\u001b[0;34m,\u001b[0m\u001b[0;34m\u001b[0m\u001b[0;34m\u001b[0m\u001b[0m\n\u001b[1;32m     18\u001b[0m     \u001b[0mbatch_size\u001b[0m \u001b[0;34m=\u001b[0m \u001b[0;36m32\u001b[0m\u001b[0;34m,\u001b[0m\u001b[0;34m\u001b[0m\u001b[0;34m\u001b[0m\u001b[0m\n\u001b[0;32m---> 19\u001b[0;31m     class_weight = climate_change_train_subset['class_weights'])\n\u001b[0m\u001b[1;32m     20\u001b[0m \u001b[0;34m\u001b[0m\u001b[0m\n\u001b[1;32m     21\u001b[0m \u001b[0mpred_test_climate_change\u001b[0m \u001b[0;34m=\u001b[0m \u001b[0mmodel_climate\u001b[0m\u001b[0;34m.\u001b[0m\u001b[0mpredict\u001b[0m\u001b[0;34m(\u001b[0m\u001b[0mx\u001b[0m \u001b[0;34m=\u001b[0m \u001b[0mclimate_change_test_subset\u001b[0m\u001b[0;34m[\u001b[0m\u001b[0;34m'bert'\u001b[0m\u001b[0;34m]\u001b[0m\u001b[0;34m)\u001b[0m\u001b[0;34m\u001b[0m\u001b[0;34m\u001b[0m\u001b[0m\n",
      "\u001b[0;32m~/.local/lib/python3.7/site-packages/tensorflow/python/keras/engine/training.py\u001b[0m in \u001b[0;36mfit\u001b[0;34m(self, x, y, batch_size, epochs, verbose, callbacks, validation_split, validation_data, shuffle, class_weight, sample_weight, initial_epoch, steps_per_epoch, validation_steps, validation_freq, max_queue_size, workers, use_multiprocessing, **kwargs)\u001b[0m\n\u001b[1;32m    778\u001b[0m           \u001b[0mvalidation_steps\u001b[0m\u001b[0;34m=\u001b[0m\u001b[0mvalidation_steps\u001b[0m\u001b[0;34m,\u001b[0m\u001b[0;34m\u001b[0m\u001b[0;34m\u001b[0m\u001b[0m\n\u001b[1;32m    779\u001b[0m           \u001b[0mvalidation_freq\u001b[0m\u001b[0;34m=\u001b[0m\u001b[0mvalidation_freq\u001b[0m\u001b[0;34m,\u001b[0m\u001b[0;34m\u001b[0m\u001b[0;34m\u001b[0m\u001b[0m\n\u001b[0;32m--> 780\u001b[0;31m           steps_name='steps_per_epoch')\n\u001b[0m\u001b[1;32m    781\u001b[0m \u001b[0;34m\u001b[0m\u001b[0m\n\u001b[1;32m    782\u001b[0m   def evaluate(self,\n",
      "\u001b[0;32m~/.local/lib/python3.7/site-packages/tensorflow/python/keras/engine/training_arrays.py\u001b[0m in \u001b[0;36mmodel_iteration\u001b[0;34m(model, inputs, targets, sample_weights, batch_size, epochs, verbose, callbacks, val_inputs, val_targets, val_sample_weights, shuffle, initial_epoch, steps_per_epoch, validation_steps, validation_freq, mode, validation_in_fit, prepared_feed_values_from_dataset, steps_name, **kwargs)\u001b[0m\n\u001b[1;32m    361\u001b[0m \u001b[0;34m\u001b[0m\u001b[0m\n\u001b[1;32m    362\u001b[0m         \u001b[0;31m# Get outputs.\u001b[0m\u001b[0;34m\u001b[0m\u001b[0;34m\u001b[0m\u001b[0;34m\u001b[0m\u001b[0m\n\u001b[0;32m--> 363\u001b[0;31m         \u001b[0mbatch_outs\u001b[0m \u001b[0;34m=\u001b[0m \u001b[0mf\u001b[0m\u001b[0;34m(\u001b[0m\u001b[0mins_batch\u001b[0m\u001b[0;34m)\u001b[0m\u001b[0;34m\u001b[0m\u001b[0;34m\u001b[0m\u001b[0m\n\u001b[0m\u001b[1;32m    364\u001b[0m         \u001b[0;32mif\u001b[0m \u001b[0;32mnot\u001b[0m \u001b[0misinstance\u001b[0m\u001b[0;34m(\u001b[0m\u001b[0mbatch_outs\u001b[0m\u001b[0;34m,\u001b[0m \u001b[0mlist\u001b[0m\u001b[0;34m)\u001b[0m\u001b[0;34m:\u001b[0m\u001b[0;34m\u001b[0m\u001b[0;34m\u001b[0m\u001b[0m\n\u001b[1;32m    365\u001b[0m           \u001b[0mbatch_outs\u001b[0m \u001b[0;34m=\u001b[0m \u001b[0;34m[\u001b[0m\u001b[0mbatch_outs\u001b[0m\u001b[0;34m]\u001b[0m\u001b[0;34m\u001b[0m\u001b[0;34m\u001b[0m\u001b[0m\n",
      "\u001b[0;32m~/.local/lib/python3.7/site-packages/tensorflow/python/keras/backend.py\u001b[0m in \u001b[0;36m__call__\u001b[0;34m(self, inputs)\u001b[0m\n\u001b[1;32m   3290\u001b[0m \u001b[0;34m\u001b[0m\u001b[0m\n\u001b[1;32m   3291\u001b[0m     fetched = self._callable_fn(*array_vals,\n\u001b[0;32m-> 3292\u001b[0;31m                                 run_metadata=self.run_metadata)\n\u001b[0m\u001b[1;32m   3293\u001b[0m     \u001b[0mself\u001b[0m\u001b[0;34m.\u001b[0m\u001b[0m_call_fetch_callbacks\u001b[0m\u001b[0;34m(\u001b[0m\u001b[0mfetched\u001b[0m\u001b[0;34m[\u001b[0m\u001b[0;34m-\u001b[0m\u001b[0mlen\u001b[0m\u001b[0;34m(\u001b[0m\u001b[0mself\u001b[0m\u001b[0;34m.\u001b[0m\u001b[0m_fetches\u001b[0m\u001b[0;34m)\u001b[0m\u001b[0;34m:\u001b[0m\u001b[0;34m]\u001b[0m\u001b[0;34m)\u001b[0m\u001b[0;34m\u001b[0m\u001b[0;34m\u001b[0m\u001b[0m\n\u001b[1;32m   3294\u001b[0m     output_structure = nest.pack_sequence_as(\n",
      "\u001b[0;32m~/.local/lib/python3.7/site-packages/tensorflow/python/client/session.py\u001b[0m in \u001b[0;36m__call__\u001b[0;34m(self, *args, **kwargs)\u001b[0m\n\u001b[1;32m   1456\u001b[0m         ret = tf_session.TF_SessionRunCallable(self._session._session,\n\u001b[1;32m   1457\u001b[0m                                                \u001b[0mself\u001b[0m\u001b[0;34m.\u001b[0m\u001b[0m_handle\u001b[0m\u001b[0;34m,\u001b[0m \u001b[0margs\u001b[0m\u001b[0;34m,\u001b[0m\u001b[0;34m\u001b[0m\u001b[0;34m\u001b[0m\u001b[0m\n\u001b[0;32m-> 1458\u001b[0;31m                                                run_metadata_ptr)\n\u001b[0m\u001b[1;32m   1459\u001b[0m         \u001b[0;32mif\u001b[0m \u001b[0mrun_metadata\u001b[0m\u001b[0;34m:\u001b[0m\u001b[0;34m\u001b[0m\u001b[0;34m\u001b[0m\u001b[0m\n\u001b[1;32m   1460\u001b[0m           \u001b[0mproto_data\u001b[0m \u001b[0;34m=\u001b[0m \u001b[0mtf_session\u001b[0m\u001b[0;34m.\u001b[0m\u001b[0mTF_GetBuffer\u001b[0m\u001b[0;34m(\u001b[0m\u001b[0mrun_metadata_ptr\u001b[0m\u001b[0;34m)\u001b[0m\u001b[0;34m\u001b[0m\u001b[0;34m\u001b[0m\u001b[0m\n",
      "\u001b[0;31mKeyboardInterrupt\u001b[0m: "
     ]
    }
   ],
   "source": [
    "sess = tf.Session()\n",
    "\n",
    "model_climate = bert_lstm_model(max_length_in = max_length, \n",
    "                                bert_fine_tune_layers = 12, \n",
    "                                optimizer = 'adam',\n",
    "                                learning_rate_in = 0.1,\n",
    "                                dropout_rate_in = 0.8)\n",
    "\n",
    "initialize_vars(sess)\n",
    "\n",
    "model_climate.fit(\n",
    "    x = climate_change_train_subset['bert'], \n",
    "    y = climate_change_train_subset['labels_encoded'],\n",
    "    validation_split = 0.2,\n",
    "    shuffle = True,\n",
    "    epochs = 15,\n",
    "    verbose = 2,\n",
    "    batch_size = 32,\n",
    "    class_weight = climate_change_train_subset['class_weights'])\n",
    "\n",
    "pred_test_climate_change = model_climate.predict(x = climate_change_test_subset['bert'])\n",
    "\n",
    "standard_metrics(true_labels = climate_change_test_subset['labels_text'], \n",
    "                 test_probs = pred_test_climate_change,\n",
    "                 label_titles = label_categories)"
   ]
  },
  {
   "cell_type": "markdown",
   "metadata": {},
   "source": [
    "### Feminism"
   ]
  },
  {
   "cell_type": "code",
   "execution_count": null,
   "metadata": {
    "scrolled": true
   },
   "outputs": [],
   "source": [
    "sess = tf.Session()\n",
    "\n",
    "model_feminism = bert_lstm_model(max_length_in = max_length, \n",
    "                                 bert_fine_tune_layers = 12, \n",
    "                                 optimizer = 'adam',\n",
    "                                 learning_rate_in = 0.1,\n",
    "                                 dropout_rate_in = 0.8)\n",
    "\n",
    "initialize_vars(sess)\n",
    "\n",
    "model_feminism.fit(\n",
    "    x = feminism_train_subset['bert'], \n",
    "    y = feminism_train_subset['labels_encoded'],\n",
    "    validation_split = 0.2,\n",
    "    shuffle = True,\n",
    "    epochs = 15,\n",
    "    verbose = 2,\n",
    "    batch_size = 32,\n",
    "    class_weight = feminism_train_subset['class_weights'])\n",
    "\n",
    "pred_test_feminism = model_feminism.predict(x = feminism_test_subset['bert'])\n",
    "\n",
    "standard_metrics(true_labels = feminism_test_subset['labels_text'], \n",
    "                 test_probs = pred_test_feminism,\n",
    "                 label_titles = label_categories)"
   ]
  },
  {
   "cell_type": "markdown",
   "metadata": {},
   "source": [
    "### Hillary"
   ]
  },
  {
   "cell_type": "code",
   "execution_count": null,
   "metadata": {
    "scrolled": true
   },
   "outputs": [],
   "source": [
    "sess = tf.Session()\n",
    "\n",
    "model_hillary = bert_lstm_model(max_length_in = max_length, \n",
    "                                bert_fine_tune_layers = 12, \n",
    "                                optimizer = 'adam',\n",
    "                                learning_rate_in = 0.1,\n",
    "                                dropout_rate_in = 0.8)\n",
    "\n",
    "initialize_vars(sess)\n",
    "\n",
    "model_hillary.fit(\n",
    "    x = hillary_train_subset['bert'], \n",
    "    y = hillary_train_subset['labels_encoded'],\n",
    "    validation_split = 0.2,\n",
    "    shuffle = True,\n",
    "    epochs = 15,\n",
    "    verbose = 2,\n",
    "    batch_size = 32,\n",
    "    class_weight = hillary_train_subset['class_weights'])\n",
    "\n",
    "pred_test_hillary = model_hillary.predict(x = hillary_test_subset['bert'])\n",
    "\n",
    "standard_metrics(true_labels = hillary_test_subset['labels_text'], \n",
    "                 test_probs = pred_test_hillary,\n",
    "                 label_titles = label_categories)"
   ]
  },
  {
   "cell_type": "markdown",
   "metadata": {},
   "source": [
    "## Extra"
   ]
  },
  {
   "cell_type": "code",
   "execution_count": null,
   "metadata": {},
   "outputs": [],
   "source": [
    "# Histograms of predicted probabilities\n",
    "def class_prob_breakdown(true_labels, test_probs, label_titles):\n",
    "    plt.figure(figsize=(20, 10))\n",
    "\n",
    "    plt.subplot(2,3,1)\n",
    "    plt.title(\"Prob. Dist. - Predicted \" + label_titles[0])\n",
    "    plt.hist([item[0] for item in test_probs])\n",
    "\n",
    "    plt.subplot(2,3,2)\n",
    "    plt.title(\"Prob. Dist. - Predicted \" + label_titles[1])\n",
    "    plt.hist([item[1] for item in test_probs])\n",
    "\n",
    "    plt.subplot(2,3,3)\n",
    "    plt.title(\"Prob. Dist. - Predicted \" + label_titles[2])\n",
    "    plt.hist([item[2] for item in test_probs])\n",
    "\n",
    "    plt.subplot(2,3,4)\n",
    "    plt.title(\"Prob. Dist., by True Label - \" + label_titles[0])\n",
    "    sns.distplot([item[0] for item in test_probs[true_labels==label_titles[0]]], hist = False, label = \"True \" + label_titles[0])\n",
    "    sns.distplot([item[0] for item in test_probs[true_labels==label_titles[1]]], hist = False, label = \"True \" + label_titles[1])\n",
    "    sns.distplot([item[0] for item in test_probs[true_labels==label_titles[2]]], hist = False, label = \"True \" + label_titles[2])\n",
    "\n",
    "    plt.subplot(2,3,5)\n",
    "    plt.title(\"Prob. Dist., by True Label - \" + label_titles[1])\n",
    "    sns.distplot([item[1] for item in test_probs[true_labels==label_titles[0]]], hist = False, label = \"True \" + label_titles[0])\n",
    "    sns.distplot([item[1] for item in test_probs[true_labels==label_titles[1]]], hist = False, label = \"True \" + label_titles[1])\n",
    "    sns.distplot([item[1] for item in test_probs[true_labels==label_titles[2]]], hist = False, label = \"True \" + label_titles[2])\n",
    "    \n",
    "    plt.subplot(2,3,6)\n",
    "    plt.title(\"Prob. Dist., by True Label - \" + label_titles[2])\n",
    "    sns.distplot([item[2] for item in test_probs[true_labels==label_titles[0]]], hist = False, label = \"True \" + label_titles[0])\n",
    "    sns.distplot([item[2] for item in test_probs[true_labels==label_titles[1]]], hist = False, label = \"True \" + label_titles[1])\n",
    "    sns.distplot([item[2] for item in test_probs[true_labels==label_titles[2]]], hist = False, label = \"True \" + label_titles[2])\n",
    "\n",
    "    plt.show()"
   ]
  }
 ],
 "metadata": {
  "kernelspec": {
   "display_name": "Python 3",
   "language": "python",
   "name": "python3"
  },
  "language_info": {
   "codemirror_mode": {
    "name": "ipython",
    "version": 3
   },
   "file_extension": ".py",
   "mimetype": "text/x-python",
   "name": "python",
   "nbconvert_exporter": "python",
   "pygments_lexer": "ipython3",
   "version": "3.7.3"
  }
 },
 "nbformat": 4,
 "nbformat_minor": 2
}
