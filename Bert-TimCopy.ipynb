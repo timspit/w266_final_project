{
 "cells": [
  {
   "cell_type": "markdown",
   "metadata": {},
   "source": [
    "# Twitter Stance Detection  \n",
    "W266 - NLP  \n",
    "Alex Dessouky & Tim Spittle"
   ]
  },
  {
   "cell_type": "markdown",
   "metadata": {},
   "source": [
    "## Setup  \n",
    "\n",
    "### Packages"
   ]
  },
  {
   "cell_type": "code",
   "execution_count": 1,
   "metadata": {},
   "outputs": [],
   "source": [
    "# System and Storage\n",
    "import time\n",
    "import os\n",
    "import sys\n",
    "from datetime import datetime\n",
    "now = datetime.now() # current date and time\n",
    "\n",
    "# Data structures\n",
    "import pandas as pd\n",
    "import numpy as np\n",
    "\n",
    "# Strings\n",
    "import string\n",
    "import re\n",
    "\n",
    "# Pre-Processing\n",
    "from sklearn.preprocessing import OneHotEncoder\n",
    "from itertools import compress\n",
    "from sklearn.utils.class_weight import compute_class_weight\n",
    "\n",
    "# Tensorflow\n",
    "import tensorflow as tf\n",
    "import tensorflow_hub as hub\n",
    "from tensorflow.keras import backend as K\n",
    "from tensorflow.keras import layers\n",
    "from tensorflow.python.keras.layers import Lambda\n",
    "from tensorflow.keras.callbacks import TensorBoard\n",
    "from tensorflow.keras.backend import sparse_categorical_crossentropy\n",
    "from tensorflow.keras.layers import Dense, TimeDistributed\n",
    "\n",
    "# Outputs\n",
    "from sklearn.metrics import f1_score\n",
    "from sklearn.metrics import confusion_matrix, classification_report\n",
    "import matplotlib.pyplot as plt\n",
    "%matplotlib inline\n",
    "import seaborn as sns"
   ]
  },
  {
   "cell_type": "markdown",
   "metadata": {},
   "source": [
    "### Paths & Local Packages"
   ]
  },
  {
   "cell_type": "code",
   "execution_count": 2,
   "metadata": {},
   "outputs": [],
   "source": [
    "## PATH STUFF FIRST SO EASY TO SWITCH BETWEEN US ##\n",
    "\n",
    "# Set working directory\n",
    "# os.chdir(\"/Users/alexdessouky/Desktop/MIDS/w266\")\n",
    "# os.chdir(\"/Users/manat/OneDrive/Documents/Tim/MIDS/266_NLP/Final Project\")\n",
    "\n",
    "# Store the paths to bert & data\n",
    "# bert_path =   '/Users/alexdessouky/Desktop/MIDS/w266/bert' \n",
    "# data_path = '/Users/alexdessouky/Desktop/MIDS/w266/w266_final_project/StanceDataset'  \n",
    "# TIM LOCAL\n",
    "# bert_path = r'C:\\Users\\manat\\OneDrive\\Documents\\Tim\\MIDS\\266_NLP\\w266\\bert\\\\' # change as needed\n",
    "# data_path = r'C:\\Users\\manat\\OneDrive\\Documents\\Tim\\MIDS\\266_NLP\\Final Project\\w266_final_project\\StanceDataset'  \n",
    "# TIM CLOUD\n",
    "bert_path = r'/home/timspittle/w266_final_project/bert/' \n",
    "data_path = r'/home/timspittle/w266_final_project/StanceDataset/'  \n",
    "\n",
    "# Make sure that the paths are accessible within the notebook\n",
    "sys.path.insert(0, bert_path)\n",
    "sys.path.insert(0, data_path)"
   ]
  },
  {
   "cell_type": "code",
   "execution_count": 3,
   "metadata": {},
   "outputs": [
    {
     "name": "stdout",
     "output_type": "stream",
     "text": [
      "WARNING:tensorflow:From /home/timspittle/w266_final_project/bert/optimization.py:87: The name tf.train.Optimizer is deprecated. Please use tf.compat.v1.train.Optimizer instead.\n",
      "\n"
     ]
    }
   ],
   "source": [
    "# Packages imported from bert local path\n",
    "import optimization\n",
    "import run_classifier\n",
    "import tokenization\n",
    "import run_classifier_with_tfhub\n",
    "\n",
    "# Tensorflow hub path to BERT module of choice\n",
    "bert_url = \"https://tfhub.dev/google/bert_cased_L-12_H-768_A-12/1\""
   ]
  },
  {
   "cell_type": "markdown",
   "metadata": {},
   "source": [
    "### Import Raw Data"
   ]
  },
  {
   "cell_type": "code",
   "execution_count": 4,
   "metadata": {},
   "outputs": [
    {
     "name": "stdout",
     "output_type": "stream",
     "text": [
      "Training (shape): (2914, 5)\n",
      "Test (shape): (1956, 5)\n"
     ]
    },
    {
     "data": {
      "text/html": [
       "<div>\n",
       "<style scoped>\n",
       "    .dataframe tbody tr th:only-of-type {\n",
       "        vertical-align: middle;\n",
       "    }\n",
       "\n",
       "    .dataframe tbody tr th {\n",
       "        vertical-align: top;\n",
       "    }\n",
       "\n",
       "    .dataframe thead th {\n",
       "        text-align: right;\n",
       "    }\n",
       "</style>\n",
       "<table border=\"1\" class=\"dataframe\">\n",
       "  <thead>\n",
       "    <tr style=\"text-align: right;\">\n",
       "      <th></th>\n",
       "      <th>Tweet</th>\n",
       "      <th>Target</th>\n",
       "      <th>Stance</th>\n",
       "      <th>Opinion Towards</th>\n",
       "      <th>Sentiment</th>\n",
       "    </tr>\n",
       "  </thead>\n",
       "  <tbody>\n",
       "    <tr>\n",
       "      <th>0</th>\n",
       "      <td>@tedcruz And, #HandOverTheServer she wiped cle...</td>\n",
       "      <td>Hillary Clinton</td>\n",
       "      <td>AGAINST</td>\n",
       "      <td>1.  The tweet explicitly expresses opinion abo...</td>\n",
       "      <td>neg</td>\n",
       "    </tr>\n",
       "    <tr>\n",
       "      <th>1</th>\n",
       "      <td>Hillary is our best choice if we truly want to...</td>\n",
       "      <td>Hillary Clinton</td>\n",
       "      <td>FAVOR</td>\n",
       "      <td>1.  The tweet explicitly expresses opinion abo...</td>\n",
       "      <td>pos</td>\n",
       "    </tr>\n",
       "    <tr>\n",
       "      <th>2</th>\n",
       "      <td>@TheView I think our country is ready for a fe...</td>\n",
       "      <td>Hillary Clinton</td>\n",
       "      <td>AGAINST</td>\n",
       "      <td>1.  The tweet explicitly expresses opinion abo...</td>\n",
       "      <td>neg</td>\n",
       "    </tr>\n",
       "    <tr>\n",
       "      <th>3</th>\n",
       "      <td>I just gave an unhealthy amount of my hard-ear...</td>\n",
       "      <td>Hillary Clinton</td>\n",
       "      <td>AGAINST</td>\n",
       "      <td>1.  The tweet explicitly expresses opinion abo...</td>\n",
       "      <td>neg</td>\n",
       "    </tr>\n",
       "    <tr>\n",
       "      <th>4</th>\n",
       "      <td>@PortiaABoulger Thank you for adding me to you...</td>\n",
       "      <td>Hillary Clinton</td>\n",
       "      <td>NONE</td>\n",
       "      <td>3.  The tweet is not explicitly expressing opi...</td>\n",
       "      <td>pos</td>\n",
       "    </tr>\n",
       "  </tbody>\n",
       "</table>\n",
       "</div>"
      ],
      "text/plain": [
       "                                               Tweet           Target  \\\n",
       "0  @tedcruz And, #HandOverTheServer she wiped cle...  Hillary Clinton   \n",
       "1  Hillary is our best choice if we truly want to...  Hillary Clinton   \n",
       "2  @TheView I think our country is ready for a fe...  Hillary Clinton   \n",
       "3  I just gave an unhealthy amount of my hard-ear...  Hillary Clinton   \n",
       "4  @PortiaABoulger Thank you for adding me to you...  Hillary Clinton   \n",
       "\n",
       "    Stance                                    Opinion Towards Sentiment  \n",
       "0  AGAINST  1.  The tweet explicitly expresses opinion abo...       neg  \n",
       "1    FAVOR  1.  The tweet explicitly expresses opinion abo...       pos  \n",
       "2  AGAINST  1.  The tweet explicitly expresses opinion abo...       neg  \n",
       "3  AGAINST  1.  The tweet explicitly expresses opinion abo...       neg  \n",
       "4     NONE  3.  The tweet is not explicitly expressing opi...       pos  "
      ]
     },
     "execution_count": 4,
     "metadata": {},
     "output_type": "execute_result"
    }
   ],
   "source": [
    "# Load data\n",
    "# Training data\n",
    "# twitter_train = pd.read_excel('./w266_final_project/StanceDataset/train.xlsx')\n",
    "twitter_train_raw = pd.read_excel('./StanceDataset/train.xlsx')\n",
    "\n",
    "# Test data\n",
    "# twitter_test = pd.read_excel('./w266_final_project/StanceDataset/test.xlsx')\n",
    "twitter_test_raw = pd.read_excel('./StanceDataset/test.xlsx')\n",
    "\n",
    "print(\"Training (shape): \" + str(twitter_train_raw.shape))\n",
    "print(\"Test (shape): \" + str(twitter_test_raw.shape))\n",
    "twitter_train_raw.head()"
   ]
  },
  {
   "cell_type": "markdown",
   "metadata": {},
   "source": [
    "## Pre-Process Data  \n",
    "\n",
    "### Labels $y$"
   ]
  },
  {
   "cell_type": "code",
   "execution_count": 5,
   "metadata": {},
   "outputs": [
    {
     "name": "stdout",
     "output_type": "stream",
     "text": [
      "['AGAINST' 'FAVOR' 'NONE']\n",
      "[[1. 0. 0.]\n",
      " [0. 1. 0.]\n",
      " [1. 0. 0.]\n",
      " [1. 0. 0.]\n",
      " [0. 0. 1.]]\n"
     ]
    }
   ],
   "source": [
    "# Text Labels (needed for plotting)\n",
    "labels_text_train = np.array(twitter_train_raw['Stance'])\n",
    "labels_text_test = np.array(twitter_test_raw['Stance'])\n",
    "\n",
    "# One-hot Encoder\n",
    "enc_labels = OneHotEncoder(handle_unknown = 'ignore')\n",
    "enc_labels.fit(labels_text_train.reshape(-1, 1))\n",
    "label_categories = enc_labels.categories_[0]\n",
    "\n",
    "# Encoded Labels (for NN)\n",
    "labels_encoded_train = enc_labels.transform(labels_text_train.reshape(-1, 1)).toarray()\n",
    "labels_encoded_test = enc_labels.transform(labels_text_test.reshape(-1, 1)).toarray()\n",
    "\n",
    "print(label_categories)\n",
    "print(labels_encoded_train[:5])"
   ]
  },
  {
   "cell_type": "markdown",
   "metadata": {},
   "source": [
    "### Tokens $x$"
   ]
  },
  {
   "cell_type": "code",
   "execution_count": 6,
   "metadata": {},
   "outputs": [
    {
     "name": "stdout",
     "output_type": "stream",
     "text": [
      "Raw: @tedcruz And, #HandOverTheServer she wiped clean + 30k deleted emails, explains dereliction of duty/lies re #Benghazi,etc #tcot\n",
      "Clean: @tedcruz and #handovertheserver she wiped clean  DIGITk deleted emails explains dereliction of dutylies re #benghazietc #tcot\n"
     ]
    }
   ],
   "source": [
    "def preprocess_tweets(x):\n",
    "    \n",
    "    # Remove punctuation EXCEPT for hashtags (#) and handles (@)\n",
    "    exclude_punc = [punc for punc in string.punctuation if punc not in ['#', '@']]\n",
    "    x_nopunc = ''.join(ch for ch in x if ch not in exclude_punc)\n",
    "\n",
    "    # lower case\n",
    "    x_lower = x_nopunc.lower()\n",
    "    \n",
    "    # Replace digits with DIGIT\n",
    "    x_digits = re.sub(\"\\d+\", \"DIGIT\", x_lower)\n",
    "    \n",
    "    return x_digits\n",
    "\n",
    "# Clean tweests\n",
    "twitter_train_raw['tweet_prep'] = np.array(twitter_train_raw['Tweet'].apply(lambda x: preprocess_tweets(x)))\n",
    "twitter_test_raw['tweet_prep'] = np.array(twitter_test_raw['Tweet'].apply(lambda x: preprocess_tweets(x)))\n",
    "\n",
    "# Example tweet\n",
    "print(\"Raw: \" + str(twitter_train_raw['Tweet'][0]))\n",
    "print(\"Clean: \" + str(preprocess_tweets(twitter_train_raw['Tweet'][0])))"
   ]
  },
  {
   "cell_type": "markdown",
   "metadata": {},
   "source": [
    "### Bert tokenizer"
   ]
  },
  {
   "cell_type": "code",
   "execution_count": 7,
   "metadata": {},
   "outputs": [
    {
     "name": "stdout",
     "output_type": "stream",
     "text": [
      "INFO:tensorflow:Saver not created because there are no variables in the graph to restore\n"
     ]
    },
    {
     "name": "stderr",
     "output_type": "stream",
     "text": [
      "INFO:tensorflow:Saver not created because there are no variables in the graph to restore\n"
     ]
    },
    {
     "name": "stdout",
     "output_type": "stream",
     "text": [
      "WARNING:tensorflow:From /home/timspittle/w266_final_project/bert/tokenization.py:125: The name tf.gfile.GFile is deprecated. Please use tf.io.gfile.GFile instead.\n",
      "\n"
     ]
    },
    {
     "name": "stderr",
     "output_type": "stream",
     "text": [
      "WARNING:tensorflow:From /home/timspittle/w266_final_project/bert/tokenization.py:125: The name tf.gfile.GFile is deprecated. Please use tf.io.gfile.GFile instead.\n",
      "\n"
     ]
    }
   ],
   "source": [
    "def create_tokenizer_from_hub_module():\n",
    "    \"\"\"Get the vocab file and casing info from the Hub module.\"\"\"\n",
    "    with tf.Graph().as_default():\n",
    "        bert_module = hub.Module(bert_url)\n",
    "        tokenization_info = bert_module(signature=\"tokenization_info\", as_dict=True)\n",
    "        with tf.Session() as sess:\n",
    "            vocab_file, do_lower_case = sess.run([tokenization_info[\"vocab_file\"],\n",
    "                                            tokenization_info[\"do_lower_case\"]])\n",
    "      \n",
    "    return tokenization.FullTokenizer(\n",
    "      vocab_file=vocab_file, do_lower_case=do_lower_case)\n",
    "\n",
    "tokenizer = create_tokenizer_from_hub_module()"
   ]
  },
  {
   "cell_type": "code",
   "execution_count": 8,
   "metadata": {},
   "outputs": [],
   "source": [
    "# Create tokens surrounded by the [CLS] and [SEP] tokens\n",
    "tokens_train = twitter_train_raw['tweet_prep'].apply(lambda x: ['[CLS]'] + tokenizer.tokenize(x) + ['[SEP]'])\n",
    "tokens_test = twitter_test_raw['tweet_prep'].apply(lambda x: ['[CLS]'] + tokenizer.tokenize(x) + ['[SEP]'])"
   ]
  },
  {
   "cell_type": "code",
   "execution_count": 9,
   "metadata": {},
   "outputs": [],
   "source": [
    "# Define maximal length of input 'sentences' (post tokenization).\n",
    "sen_length_list = []\n",
    "for sent in tokens_train.append(tokens_test):\n",
    "    sen_length_list.append(len(sent))\n",
    "max_length = np.max(sen_length_list)"
   ]
  },
  {
   "cell_type": "code",
   "execution_count": 10,
   "metadata": {},
   "outputs": [],
   "source": [
    "def bert_lists(tokens_in, max_length_in):\n",
    "\n",
    "    # Mask ids (mask out the paddings)\n",
    "    mask_ids = tokens_in.apply(lambda x: len(x)*[1])\n",
    "    \n",
    "    mask_ids = mask_ids.apply(lambda x: np.array(x + (max_length_in - len(x)) * [0])\n",
    "                              if len(x) < max_length_in else np.array(x)).tolist()\n",
    "    \n",
    "    # Add padding to tokens\n",
    "    tokens_pad = tokens_in.apply(lambda x: x + (max_length_in - len(x)) * ['[PAD]'] if len(x) < max_length_in else x)\n",
    "    \n",
    "    # Sequence vectors\n",
    "    sequenceids = tokens_pad.apply(lambda x: np.array(max_length_in*[0])).tolist()\n",
    "    \n",
    "    # Convert tokens to sentence ids\n",
    "    sentenceids = tokens_pad.apply(lambda x: tokenizer.convert_tokens_to_ids(x)).tolist()\n",
    "    \n",
    "    # Bert features\n",
    "    bert = [np.array(sentenceids), np.array(mask_ids), np.array(sequenceids)]\n",
    "    return(bert)"
   ]
  },
  {
   "cell_type": "code",
   "execution_count": 11,
   "metadata": {},
   "outputs": [],
   "source": [
    "bert_train = bert_lists(tokens_in = tokens_train, max_length_in = max_length)\n",
    "bert_test = bert_lists(tokens_in = tokens_test, max_length_in = max_length)"
   ]
  },
  {
   "cell_type": "code",
   "execution_count": 12,
   "metadata": {},
   "outputs": [
    {
     "name": "stdout",
     "output_type": "stream",
     "text": [
      "@tedcruz and #handovertheserver she wiped clean  DIGITk deleted emails explains dereliction of dutylies re #benghazietc #tcot\n",
      "['[CLS]', '@', 'te', '##d', '##c', '##ru', '##z', 'and', '#', 'hand', '##over', '##the', '##serve', '##r', 'she', 'wiped', 'clean', 'D', '##IG', '##IT', '##k', 'deleted', 'emails', 'explains', 'der', '##eli', '##ction', 'of', 'duty', '##lies', 're', '#', 'ben', '##gh', '##azi', '##et', '##c', '#', 't', '##cot', '[SEP]']\n",
      "[[1 1 1 ... 0 0 0]\n",
      " [1 1 1 ... 0 0 0]\n",
      " [1 1 1 ... 0 0 0]\n",
      " ...\n",
      " [1 1 1 ... 0 0 0]\n",
      " [1 1 1 ... 0 0 0]\n",
      " [1 1 1 ... 0 0 0]]\n",
      "[[0 0 0 ... 0 0 0]\n",
      " [0 0 0 ... 0 0 0]\n",
      " [0 0 0 ... 0 0 0]\n",
      " ...\n",
      " [0 0 0 ... 0 0 0]\n",
      " [0 0 0 ... 0 0 0]\n",
      " [0 0 0 ... 0 0 0]]\n",
      "[[  101   137 21359 ...     0     0     0]\n",
      " [  101  4665  3113 ...     0     0     0]\n",
      " [  101   137  1103 ...     0     0     0]\n",
      " ...\n",
      " [  101  1293  9164 ...     0     0     0]\n",
      " [  101  4463  2266 ...     0     0     0]\n",
      " [  101   108  9814 ...     0     0     0]]\n"
     ]
    }
   ],
   "source": [
    "print(twitter_train_raw['tweet_prep'][0])\n",
    "print(tokens_train[0])\n",
    "# NOTES: why such small tokens? e.g. benghazi and ted cruz have to be important tokens by themselves, right?\n",
    "    # If mask token is \"#\" we're losing out on hashtags\n",
    "print(bert_train[1])\n",
    "# NOTES: is this just a 0 for PADs?\n",
    "print(bert_train[2])\n",
    "# NOTES: what the hell is this? all 0's?\n",
    "print(bert_train[0])\n",
    "# NOTES: converting tokens to IDs makes sense, why call them sentence IDs?"
   ]
  },
  {
   "cell_type": "code",
   "execution_count": 13,
   "metadata": {},
   "outputs": [
    {
     "name": "stdout",
     "output_type": "stream",
     "text": [
      "(2914, 95), (2914, 95), (2914, 95)\n",
      "(2914, 3)\n",
      "(1956, 95), (1956, 95), (1956, 95)\n",
      "(1956, 3)\n"
     ]
    }
   ],
   "source": [
    "# CHECK SIZES\n",
    "print(str(bert_train[0].shape) +\", \"+  str(bert_train[1].shape) +\", \"+ str(bert_train[2].shape))\n",
    "print(labels_encoded_train.shape)\n",
    "\n",
    "print(str(bert_test[0].shape) +\", \"+  str(bert_test[1].shape) +\", \"+ str(bert_test[2].shape))\n",
    "print(labels_encoded_test.shape)"
   ]
  },
  {
   "cell_type": "markdown",
   "metadata": {},
   "source": [
    "## Subset by Target"
   ]
  },
  {
   "cell_type": "code",
   "execution_count": 14,
   "metadata": {},
   "outputs": [],
   "source": [
    "def topic_subset(targets_in, labels_text_in, labels_encoded_in, bert_in, topic_in):\n",
    "        \n",
    "    # Convert topic lower case\n",
    "    topic_in = topic_in.lower()\n",
    "    \n",
    "    # Find boolean series of all rows pertaining to the relevant topics\n",
    "    matches_target_topic = targets_in.apply(lambda x: x.lower() == topic_in)\n",
    "    \n",
    "    # LABELS\n",
    "    labels_text_sub = labels_text_in[matches_target_topic]\n",
    "    labels_encoded_sub = labels_encoded_in[matches_target_topic,:]\n",
    "    compute_class = compute_class_weight('balanced', np.unique(labels_text_sub), labels_text_sub)\n",
    "    weights = {0: compute_class[0], 1:compute_class[1], 2:compute_class[2]}\n",
    "    \n",
    "    # BERT\n",
    "    bert_sub = []\n",
    "    for input_list in bert_in:\n",
    "        bert_sub.append(input_list[matches_target_topic])\n",
    "        \n",
    "    # Output Dictionary\n",
    "    subset_dict = {}\n",
    "    subset_dict['target'] = topic_in\n",
    "    subset_dict['labels_text'] = labels_text_sub\n",
    "    subset_dict['labels_encoded'] = labels_encoded_sub\n",
    "    subset_dict['class_weights'] = weights\n",
    "    subset_dict['bert'] = bert_sub\n",
    "    \n",
    "    return subset_dict"
   ]
  },
  {
   "cell_type": "code",
   "execution_count": 15,
   "metadata": {},
   "outputs": [
    {
     "data": {
      "text/plain": [
       "['Legalization of Abortion',\n",
       " 'Climate Change is a Real Concern',\n",
       " 'Hillary Clinton',\n",
       " 'Atheism',\n",
       " 'Feminist Movement']"
      ]
     },
     "execution_count": 15,
     "metadata": {},
     "output_type": "execute_result"
    }
   ],
   "source": [
    "target_list = list(set(twitter_train_raw['Target']))\n",
    "target_abortion = target_list[0]\n",
    "target_atheism = target_list[1]\n",
    "target_climate_change = target_list[2]\n",
    "target_feminism = target_list[3]\n",
    "target_hillary = target_list[4]\n",
    "target_list"
   ]
  },
  {
   "cell_type": "code",
   "execution_count": 16,
   "metadata": {},
   "outputs": [],
   "source": [
    "#### Abortion\n",
    "abortion_train_subset = topic_subset(targets_in = twitter_train_raw['Target'], \n",
    "                                    labels_text_in = labels_text_train, \n",
    "                                    labels_encoded_in = labels_encoded_train, \n",
    "                                    bert_in = bert_train, \n",
    "                                    topic_in = target_abortion)\n",
    "\n",
    "abortion_test_subset = topic_subset(targets_in = twitter_test_raw['Target'], \n",
    "                                    labels_text_in = labels_text_test, \n",
    "                                    labels_encoded_in = labels_encoded_test, \n",
    "                                    bert_in = bert_test, \n",
    "                                    topic_in = target_abortion)"
   ]
  },
  {
   "cell_type": "code",
   "execution_count": 17,
   "metadata": {},
   "outputs": [],
   "source": [
    "#### Atheism\n",
    "atheism_train_subset = topic_subset(targets_in = twitter_train_raw['Target'], \n",
    "                                    labels_text_in = labels_text_train, \n",
    "                                    labels_encoded_in = labels_encoded_train, \n",
    "                                    bert_in = bert_train, \n",
    "                                    topic_in = target_atheism)\n",
    "\n",
    "atheism_test_subset = topic_subset(targets_in = twitter_test_raw['Target'], \n",
    "                                    labels_text_in = labels_text_test, \n",
    "                                    labels_encoded_in = labels_encoded_test, \n",
    "                                    bert_in = bert_test, \n",
    "                                    topic_in = target_atheism)"
   ]
  },
  {
   "cell_type": "code",
   "execution_count": 18,
   "metadata": {},
   "outputs": [],
   "source": [
    "#### Climate Change\n",
    "climate_change_train_subset = topic_subset(targets_in = twitter_train_raw['Target'], \n",
    "                                    labels_text_in = labels_text_train, \n",
    "                                    labels_encoded_in = labels_encoded_train, \n",
    "                                    bert_in = bert_train, \n",
    "                                    topic_in = target_climate_change)\n",
    "\n",
    "climate_change_test_subset = topic_subset(targets_in = twitter_test_raw['Target'], \n",
    "                                    labels_text_in = labels_text_test, \n",
    "                                    labels_encoded_in = labels_encoded_test, \n",
    "                                    bert_in = bert_test, \n",
    "                                    topic_in = target_climate_change)"
   ]
  },
  {
   "cell_type": "code",
   "execution_count": 19,
   "metadata": {},
   "outputs": [],
   "source": [
    "#### Feminism\n",
    "feminism_train_subset = topic_subset(targets_in = twitter_train_raw['Target'], \n",
    "                                    labels_text_in = labels_text_train, \n",
    "                                    labels_encoded_in = labels_encoded_train, \n",
    "                                    bert_in = bert_train, \n",
    "                                    topic_in = target_feminism)\n",
    "\n",
    "feminism_test_subset = topic_subset(targets_in = twitter_test_raw['Target'], \n",
    "                                    labels_text_in = labels_text_test, \n",
    "                                    labels_encoded_in = labels_encoded_test, \n",
    "                                    bert_in = bert_test, \n",
    "                                    topic_in = target_feminism)"
   ]
  },
  {
   "cell_type": "code",
   "execution_count": 20,
   "metadata": {},
   "outputs": [],
   "source": [
    "#### Hillary\n",
    "hillary_train_subset = topic_subset(targets_in = twitter_train_raw['Target'], \n",
    "                                    labels_text_in = labels_text_train, \n",
    "                                    labels_encoded_in = labels_encoded_train, \n",
    "                                    bert_in = bert_train, \n",
    "                                    topic_in = target_hillary)\n",
    "\n",
    "hillary_test_subset = topic_subset(targets_in = twitter_test_raw['Target'], \n",
    "                                    labels_text_in = labels_text_test, \n",
    "                                    labels_encoded_in = labels_encoded_test, \n",
    "                                    bert_in = bert_test, \n",
    "                                    topic_in = target_hillary)"
   ]
  },
  {
   "cell_type": "code",
   "execution_count": 21,
   "metadata": {},
   "outputs": [
    {
     "data": {
      "text/plain": [
       "True"
      ]
     },
     "execution_count": 21,
     "metadata": {},
     "output_type": "execute_result"
    }
   ],
   "source": [
    "len(twitter_train_raw['Target']) == len(abortion_train_subset['labels_text']) + len(atheism_train_subset['labels_text']) + len(climate_change_train_subset['labels_text']) + len(feminism_train_subset['labels_text']) + len(hillary_train_subset['labels_text'])"
   ]
  },
  {
   "cell_type": "markdown",
   "metadata": {},
   "source": [
    "## Custom layer to create Bert"
   ]
  },
  {
   "cell_type": "code",
   "execution_count": 46,
   "metadata": {},
   "outputs": [],
   "source": [
    "class BertLayer(tf.keras.layers.Layer):\n",
    "    def __init__(self, n_fine_tune_layers=10, **kwargs):\n",
    "        self.n_fine_tune_layers = n_fine_tune_layers\n",
    "        self.trainable = True\n",
    "        self.output_size = 768\n",
    "        super(BertLayer, self).__init__(**kwargs)\n",
    "\n",
    "    def build(self, input_shape):\n",
    "        self.bert = hub.Module(\n",
    "            bert_url,\n",
    "            trainable=self.trainable,\n",
    "            name=\"{}_module\".format(self.name)\n",
    "        )\n",
    "        trainable_vars = self.bert.variables\n",
    "        \n",
    "        # Remove unused layers\n",
    "        trainable_vars = [var for var in trainable_vars if not \"/cls/\" in var.name and not \"/pooler/\" in var.name]\n",
    "        \n",
    "        # Select how many layers to fine tune\n",
    "        trainable_vars = trainable_vars[-self.n_fine_tune_layers :]\n",
    "        \n",
    "        # Add to trainable weights\n",
    "        for var in trainable_vars:\n",
    "            self._trainable_weights.append(var)\n",
    "        \n",
    "        # Add non-trainable weights\n",
    "        for var in self.bert.variables:\n",
    "            if var not in self._trainable_weights:\n",
    "                self._non_trainable_weights.append(var)\n",
    "        \n",
    "        super(BertLayer, self).build(input_shape)\n",
    "\n",
    "    def call(self, inputs):\n",
    "        inputs = [K.cast(x, dtype=\"int32\") for x in inputs]\n",
    "        input_ids, input_mask, segment_ids = inputs\n",
    "        bert_inputs = dict(\n",
    "            input_ids=input_ids, input_mask=input_mask, segment_ids=segment_ids\n",
    "        )\n",
    "        result = self.bert(inputs=bert_inputs, signature=\"tokens\", as_dict=True)[\n",
    "            \"sequence_output\"\n",
    "        ]\n",
    "        \n",
    "        mul_mask = lambda x, m: x * tf.expand_dims(m, axis=-1)\n",
    "        \n",
    "        return result\n",
    "\n",
    "    def compute_output_shape(self, input_shape):\n",
    "        return (input_shape[0], self.output_size)"
   ]
  },
  {
   "cell_type": "markdown",
   "metadata": {},
   "source": [
    "## Define Model"
   ]
  },
  {
   "cell_type": "code",
   "execution_count": 47,
   "metadata": {},
   "outputs": [],
   "source": [
    "# NTOE: paramterized a lot of this setup\n",
    "\n",
    "def bert_lstm_model(max_length_in, bert_fine_tune_layers, optimizer, learning_rate_in, dropout_rate_in):\n",
    "    \n",
    "    in_id = tf.keras.layers.Input(shape=(max_length_in,), name=\"input_ids\")\n",
    "    in_mask = tf.keras.layers.Input(shape=(max_length_in,), name=\"input_masks\")\n",
    "    in_segment = tf.keras.layers.Input(shape=(max_length_in,), name=\"segment_ids\")\n",
    "    \n",
    "    bert_inputs = [in_id, in_mask, in_segment]\n",
    "    bert_sequence = BertLayer(n_fine_tune_layers=bert_fine_tune_layers)(bert_inputs)\n",
    "    dropout1= tf.keras.layers.Dropout(rate=dropout_rate_in)(bert_sequence)\n",
    "    \n",
    "    lstm1 = tf.keras.layers.LSTM(128, \n",
    "#                                  input_shape = (83, 786), # NOTE: Do we need this?\n",
    "                                 name='lstm1')(dropout1)\n",
    "    \n",
    "    dense1 = tf.keras.layers.Dense(64, \n",
    "                                   activation='relu', \n",
    "                                   kernel_initializer = tf.keras.initializers.he_normal(), \n",
    "                                   name='dense1')(lstm1)\n",
    "    dropout2 = tf.keras.layers.Dropout(rate=dropout_rate_in)(dense1)\n",
    "    \n",
    "    pred = tf.keras.layers.Dense(3, activation='softmax', name='classification')(dropout2)\n",
    "    \n",
    "    tf.keras.optimizers.Adam(learning_rate=learning_rate_in)\n",
    "    model = tf.keras.models.Model(inputs=bert_inputs, outputs=pred)\n",
    "    model.compile(loss='categorical_crossentropy', optimizer=optimizer, metrics = ['categorical_accuracy'])\n",
    "    model.summary()\n",
    "    \n",
    "    return model\n",
    "\n",
    "def initialize_vars(sess):\n",
    "    sess.run(tf.local_variables_initializer())\n",
    "    sess.run(tf.global_variables_initializer())\n",
    "    sess.run(tf.tables_initializer())\n",
    "    K.set_session(sess)"
   ]
  },
  {
   "cell_type": "markdown",
   "metadata": {},
   "source": [
    "_NOTES:_ don't fully follow the LSTM"
   ]
  },
  {
   "cell_type": "markdown",
   "metadata": {},
   "source": [
    "### Abortion"
   ]
  },
  {
   "cell_type": "code",
   "execution_count": 48,
   "metadata": {},
   "outputs": [
    {
     "name": "stdout",
     "output_type": "stream",
     "text": [
      "INFO:tensorflow:Saver not created because there are no variables in the graph to restore\n"
     ]
    },
    {
     "name": "stderr",
     "output_type": "stream",
     "text": [
      "INFO:tensorflow:Saver not created because there are no variables in the graph to restore\n"
     ]
    },
    {
     "name": "stdout",
     "output_type": "stream",
     "text": [
      "Model: \"model_5\"\n",
      "__________________________________________________________________________________________________\n",
      "Layer (type)                    Output Shape         Param #     Connected to                     \n",
      "==================================================================================================\n",
      "input_ids (InputLayer)          [(None, 95)]         0                                            \n",
      "__________________________________________________________________________________________________\n",
      "input_masks (InputLayer)        [(None, 95)]         0                                            \n",
      "__________________________________________________________________________________________________\n",
      "segment_ids (InputLayer)        [(None, 95)]         0                                            \n",
      "__________________________________________________________________________________________________\n",
      "bert_layer_5 (BertLayer)        (None, None, 768)    108931396   input_ids[0][0]                  \n",
      "                                                                 input_masks[0][0]                \n",
      "                                                                 segment_ids[0][0]                \n",
      "__________________________________________________________________________________________________\n",
      "dropout_10 (Dropout)            (None, None, 768)    0           bert_layer_5[0][0]               \n",
      "__________________________________________________________________________________________________\n",
      "lstm1 (LSTM)                    (None, 128)          459264      dropout_10[0][0]                 \n",
      "__________________________________________________________________________________________________\n",
      "dense1 (Dense)                  (None, 64)           8256        lstm1[0][0]                      \n",
      "__________________________________________________________________________________________________\n",
      "dropout_11 (Dropout)            (None, 64)           0           dense1[0][0]                     \n",
      "__________________________________________________________________________________________________\n",
      "classification (Dense)          (None, 3)            195         dropout_11[0][0]                 \n",
      "==================================================================================================\n",
      "Total params: 109,399,111\n",
      "Trainable params: 6,963,459\n",
      "Non-trainable params: 102,435,652\n",
      "__________________________________________________________________________________________________\n",
      "Train on 522 samples, validate on 131 samples\n",
      "Epoch 1/15\n",
      "522/522 - 47s - loss: 1.2668 - categorical_accuracy: 0.3333 - val_loss: 0.9838 - val_categorical_accuracy: 0.1527\n",
      "Epoch 2/15\n",
      "522/522 - 42s - loss: 1.1327 - categorical_accuracy: 0.3889 - val_loss: 0.9397 - val_categorical_accuracy: 0.3588\n",
      "Epoch 3/15\n",
      "522/522 - 41s - loss: 1.1266 - categorical_accuracy: 0.3966 - val_loss: 0.9575 - val_categorical_accuracy: 0.4351\n",
      "Epoch 4/15\n",
      "522/522 - 41s - loss: 1.0357 - categorical_accuracy: 0.5038 - val_loss: 0.9146 - val_categorical_accuracy: 0.4504\n",
      "Epoch 5/15\n",
      "522/522 - 42s - loss: 0.9097 - categorical_accuracy: 0.5996 - val_loss: 1.0697 - val_categorical_accuracy: 0.6031\n",
      "Epoch 6/15\n",
      "522/522 - 41s - loss: 0.8914 - categorical_accuracy: 0.6264 - val_loss: 0.8671 - val_categorical_accuracy: 0.4427\n",
      "Epoch 7/15\n",
      "522/522 - 41s - loss: 0.7224 - categorical_accuracy: 0.7414 - val_loss: 1.5880 - val_categorical_accuracy: 0.3282\n",
      "Epoch 8/15\n",
      "522/522 - 41s - loss: 0.6645 - categorical_accuracy: 0.7280 - val_loss: 1.4487 - val_categorical_accuracy: 0.4046\n",
      "Epoch 9/15\n",
      "522/522 - 42s - loss: 0.4744 - categorical_accuracy: 0.8257 - val_loss: 1.5824 - val_categorical_accuracy: 0.4427\n",
      "Epoch 10/15\n",
      "522/522 - 41s - loss: 0.3369 - categorical_accuracy: 0.8966 - val_loss: 1.6642 - val_categorical_accuracy: 0.4351\n",
      "Epoch 11/15\n",
      "522/522 - 42s - loss: 0.3060 - categorical_accuracy: 0.9023 - val_loss: 1.9483 - val_categorical_accuracy: 0.4046\n",
      "Epoch 12/15\n",
      "522/522 - 42s - loss: 0.3383 - categorical_accuracy: 0.9119 - val_loss: 1.3281 - val_categorical_accuracy: 0.4656\n",
      "Epoch 13/15\n",
      "522/522 - 41s - loss: 0.2350 - categorical_accuracy: 0.9176 - val_loss: 2.1045 - val_categorical_accuracy: 0.4275\n",
      "Epoch 14/15\n",
      "522/522 - 41s - loss: 0.2098 - categorical_accuracy: 0.9368 - val_loss: 2.5921 - val_categorical_accuracy: 0.3588\n",
      "Epoch 15/15\n",
      "522/522 - 41s - loss: 0.2079 - categorical_accuracy: 0.9349 - val_loss: 2.1590 - val_categorical_accuracy: 0.5191\n"
     ]
    }
   ],
   "source": [
    "sess = tf.Session()\n",
    "\n",
    "model_abortion = bert_lstm_model(max_length_in = max_length, \n",
    "                                 bert_fine_tune_layers = 12, \n",
    "                                 optimizer = 'adam',\n",
    "                                 learning_rate_in = 0.1,\n",
    "                                 dropout_rate_in = 0.8)\n",
    "\n",
    "initialize_vars(sess)\n",
    "\n",
    "model_abortion.fit(\n",
    "    x = abortion_train_subset['bert'], \n",
    "    y = abortion_train_subset['labels_encoded'],\n",
    "    validation_split = 0.2,\n",
    "    shuffle = True,\n",
    "    epochs = 15,\n",
    "    verbose = 2,\n",
    "    batch_size = 32,\n",
    "    class_weight = abortion_train_subset['class_weights'])\n",
    "\n",
    "# NOTES:\n",
    "    # Validation should not be on test data\n",
    "    # models and weights should be topic-specific\n",
    "    \n",
    "pred_test_abortion = model_abortion.predict(x = abortion_test_subset['bert'])"
   ]
  },
  {
   "cell_type": "markdown",
   "metadata": {},
   "source": [
    "### Atheism"
   ]
  },
  {
   "cell_type": "code",
   "execution_count": 49,
   "metadata": {},
   "outputs": [
    {
     "name": "stdout",
     "output_type": "stream",
     "text": [
      "INFO:tensorflow:Saver not created because there are no variables in the graph to restore\n"
     ]
    },
    {
     "name": "stderr",
     "output_type": "stream",
     "text": [
      "INFO:tensorflow:Saver not created because there are no variables in the graph to restore\n"
     ]
    },
    {
     "name": "stdout",
     "output_type": "stream",
     "text": [
      "Model: \"model_6\"\n",
      "__________________________________________________________________________________________________\n",
      "Layer (type)                    Output Shape         Param #     Connected to                     \n",
      "==================================================================================================\n",
      "input_ids (InputLayer)          [(None, 95)]         0                                            \n",
      "__________________________________________________________________________________________________\n",
      "input_masks (InputLayer)        [(None, 95)]         0                                            \n",
      "__________________________________________________________________________________________________\n",
      "segment_ids (InputLayer)        [(None, 95)]         0                                            \n",
      "__________________________________________________________________________________________________\n",
      "bert_layer_6 (BertLayer)        (None, None, 768)    108931396   input_ids[0][0]                  \n",
      "                                                                 input_masks[0][0]                \n",
      "                                                                 segment_ids[0][0]                \n",
      "__________________________________________________________________________________________________\n",
      "dropout_12 (Dropout)            (None, None, 768)    0           bert_layer_6[0][0]               \n",
      "__________________________________________________________________________________________________\n",
      "lstm1 (LSTM)                    (None, 128)          459264      dropout_12[0][0]                 \n",
      "__________________________________________________________________________________________________\n",
      "dense1 (Dense)                  (None, 64)           8256        lstm1[0][0]                      \n",
      "__________________________________________________________________________________________________\n",
      "dropout_13 (Dropout)            (None, 64)           0           dense1[0][0]                     \n",
      "__________________________________________________________________________________________________\n",
      "classification (Dense)          (None, 3)            195         dropout_13[0][0]                 \n",
      "==================================================================================================\n",
      "Total params: 109,399,111\n",
      "Trainable params: 6,963,459\n",
      "Non-trainable params: 102,435,652\n",
      "__________________________________________________________________________________________________\n",
      "Train on 316 samples, validate on 79 samples\n",
      "Epoch 1/15\n",
      "316/316 - 31s - loss: 1.2681 - categorical_accuracy: 0.4652 - val_loss: 1.7480 - val_categorical_accuracy: 0.5316\n",
      "Epoch 2/15\n",
      "316/316 - 25s - loss: 1.2979 - categorical_accuracy: 0.4399 - val_loss: 1.8306 - val_categorical_accuracy: 0.4937\n",
      "Epoch 3/15\n",
      "316/316 - 25s - loss: 1.0388 - categorical_accuracy: 0.4430 - val_loss: 1.5930 - val_categorical_accuracy: 0.4937\n",
      "Epoch 4/15\n",
      "316/316 - 25s - loss: 1.1907 - categorical_accuracy: 0.3924 - val_loss: 1.4767 - val_categorical_accuracy: 0.4937\n",
      "Epoch 5/15\n",
      "316/316 - 25s - loss: 1.0538 - categorical_accuracy: 0.3639 - val_loss: 1.5305 - val_categorical_accuracy: 0.5443\n",
      "Epoch 6/15\n",
      "316/316 - 25s - loss: 1.0876 - categorical_accuracy: 0.3861 - val_loss: 1.4632 - val_categorical_accuracy: 0.4684\n",
      "Epoch 7/15\n",
      "316/316 - 25s - loss: 1.0013 - categorical_accuracy: 0.3766 - val_loss: 1.5409 - val_categorical_accuracy: 0.4051\n",
      "Epoch 8/15\n",
      "316/316 - 25s - loss: 0.9927 - categorical_accuracy: 0.3449 - val_loss: 1.5866 - val_categorical_accuracy: 0.4937\n",
      "Epoch 9/15\n",
      "316/316 - 25s - loss: 1.0026 - categorical_accuracy: 0.3956 - val_loss: 1.6400 - val_categorical_accuracy: 0.4557\n",
      "Epoch 10/15\n",
      "316/316 - 25s - loss: 0.9038 - categorical_accuracy: 0.4399 - val_loss: 1.6586 - val_categorical_accuracy: 0.5316\n",
      "Epoch 11/15\n",
      "316/316 - 25s - loss: 0.8468 - categorical_accuracy: 0.5032 - val_loss: 1.7912 - val_categorical_accuracy: 0.6076\n",
      "Epoch 12/15\n",
      "316/316 - 25s - loss: 0.8375 - categorical_accuracy: 0.5253 - val_loss: 2.3403 - val_categorical_accuracy: 0.4810\n",
      "Epoch 13/15\n",
      "316/316 - 25s - loss: 0.6664 - categorical_accuracy: 0.4842 - val_loss: 1.8028 - val_categorical_accuracy: 0.5570\n",
      "Epoch 14/15\n",
      "316/316 - 25s - loss: 0.6735 - categorical_accuracy: 0.5316 - val_loss: 2.4447 - val_categorical_accuracy: 0.6203\n",
      "Epoch 15/15\n",
      "316/316 - 25s - loss: 0.6598 - categorical_accuracy: 0.6171 - val_loss: 2.9359 - val_categorical_accuracy: 0.6962\n"
     ]
    }
   ],
   "source": [
    "sess = tf.Session()\n",
    "\n",
    "model_atheism = bert_lstm_model(max_length_in = max_length, \n",
    "                                bert_fine_tune_layers = 12, \n",
    "                                optimizer = 'adam',\n",
    "                                learning_rate_in = 0.1,\n",
    "                                dropout_rate_in = 0.8)\n",
    "\n",
    "initialize_vars(sess)\n",
    "\n",
    "model_atheism.fit(\n",
    "    x = atheism_train_subset['bert'], \n",
    "    y = atheism_train_subset['labels_encoded'],\n",
    "    validation_split = 0.2,\n",
    "    shuffle = True,\n",
    "    epochs = 15,\n",
    "    verbose = 2,\n",
    "    batch_size = 32,\n",
    "    class_weight = atheism_train_subset['class_weights'])"
   ]
  },
  {
   "cell_type": "markdown",
   "metadata": {},
   "source": [
    "### Climate Change"
   ]
  },
  {
   "cell_type": "code",
   "execution_count": 50,
   "metadata": {},
   "outputs": [
    {
     "name": "stdout",
     "output_type": "stream",
     "text": [
      "INFO:tensorflow:Saver not created because there are no variables in the graph to restore\n"
     ]
    },
    {
     "name": "stderr",
     "output_type": "stream",
     "text": [
      "INFO:tensorflow:Saver not created because there are no variables in the graph to restore\n"
     ]
    },
    {
     "name": "stdout",
     "output_type": "stream",
     "text": [
      "Model: \"model_7\"\n",
      "__________________________________________________________________________________________________\n",
      "Layer (type)                    Output Shape         Param #     Connected to                     \n",
      "==================================================================================================\n",
      "input_ids (InputLayer)          [(None, 95)]         0                                            \n",
      "__________________________________________________________________________________________________\n",
      "input_masks (InputLayer)        [(None, 95)]         0                                            \n",
      "__________________________________________________________________________________________________\n",
      "segment_ids (InputLayer)        [(None, 95)]         0                                            \n",
      "__________________________________________________________________________________________________\n",
      "bert_layer_7 (BertLayer)        (None, None, 768)    108931396   input_ids[0][0]                  \n",
      "                                                                 input_masks[0][0]                \n",
      "                                                                 segment_ids[0][0]                \n",
      "__________________________________________________________________________________________________\n",
      "dropout_14 (Dropout)            (None, None, 768)    0           bert_layer_7[0][0]               \n",
      "__________________________________________________________________________________________________\n",
      "lstm1 (LSTM)                    (None, 128)          459264      dropout_14[0][0]                 \n",
      "__________________________________________________________________________________________________\n",
      "dense1 (Dense)                  (None, 64)           8256        lstm1[0][0]                      \n",
      "__________________________________________________________________________________________________\n",
      "dropout_15 (Dropout)            (None, 64)           0           dense1[0][0]                     \n",
      "__________________________________________________________________________________________________\n",
      "classification (Dense)          (None, 3)            195         dropout_15[0][0]                 \n",
      "==================================================================================================\n",
      "Total params: 109,399,111\n",
      "Trainable params: 6,963,459\n",
      "Non-trainable params: 102,435,652\n",
      "__________________________________________________________________________________________________\n",
      "Train on 551 samples, validate on 138 samples\n",
      "Epoch 1/15\n",
      "551/551 - 51s - loss: 1.2608 - categorical_accuracy: 0.3194 - val_loss: 0.8755 - val_categorical_accuracy: 0.1159\n",
      "Epoch 2/15\n",
      "551/551 - 43s - loss: 1.1930 - categorical_accuracy: 0.2777 - val_loss: 0.8577 - val_categorical_accuracy: 0.0725\n",
      "Epoch 3/15\n",
      "551/551 - 43s - loss: 1.1241 - categorical_accuracy: 0.3485 - val_loss: 0.7864 - val_categorical_accuracy: 0.1884\n",
      "Epoch 4/15\n",
      "551/551 - 44s - loss: 0.9949 - categorical_accuracy: 0.4809 - val_loss: 0.7662 - val_categorical_accuracy: 0.1884\n",
      "Epoch 5/15\n",
      "551/551 - 44s - loss: 0.9495 - categorical_accuracy: 0.5009 - val_loss: 0.8235 - val_categorical_accuracy: 0.1449\n",
      "Epoch 6/15\n",
      "551/551 - 43s - loss: 1.0567 - categorical_accuracy: 0.4682 - val_loss: 0.8032 - val_categorical_accuracy: 0.1884\n",
      "Epoch 7/15\n",
      "551/551 - 43s - loss: 0.8586 - categorical_accuracy: 0.4773 - val_loss: 0.9301 - val_categorical_accuracy: 0.1377\n",
      "Epoch 8/15\n",
      "551/551 - 43s - loss: 0.8056 - categorical_accuracy: 0.5027 - val_loss: 0.7951 - val_categorical_accuracy: 0.1957\n",
      "Epoch 9/15\n",
      "551/551 - 43s - loss: 0.7852 - categorical_accuracy: 0.5064 - val_loss: 0.7979 - val_categorical_accuracy: 0.1739\n",
      "Epoch 10/15\n",
      "551/551 - 44s - loss: 0.7306 - categorical_accuracy: 0.5281 - val_loss: 0.9920 - val_categorical_accuracy: 0.1812\n",
      "Epoch 11/15\n",
      "551/551 - 44s - loss: 0.7434 - categorical_accuracy: 0.5281 - val_loss: 0.8547 - val_categorical_accuracy: 0.1812\n",
      "Epoch 12/15\n",
      "551/551 - 44s - loss: 0.6515 - categorical_accuracy: 0.5263 - val_loss: 1.0447 - val_categorical_accuracy: 0.2391\n",
      "Epoch 13/15\n",
      "551/551 - 44s - loss: 0.5362 - categorical_accuracy: 0.6661 - val_loss: 0.9729 - val_categorical_accuracy: 0.5435\n",
      "Epoch 14/15\n",
      "551/551 - 44s - loss: 0.4812 - categorical_accuracy: 0.7078 - val_loss: 0.8940 - val_categorical_accuracy: 0.6449\n",
      "Epoch 15/15\n",
      "551/551 - 44s - loss: 0.4686 - categorical_accuracy: 0.7441 - val_loss: 1.3257 - val_categorical_accuracy: 0.5580\n"
     ]
    }
   ],
   "source": [
    "sess = tf.Session()\n",
    "\n",
    "model_climate = bert_lstm_model(max_length_in = max_length, \n",
    "                                bert_fine_tune_layers = 12, \n",
    "                                optimizer = 'adam',\n",
    "                                learning_rate_in = 0.1,\n",
    "                                dropout_rate_in = 0.8)\n",
    "\n",
    "initialize_vars(sess)\n",
    "\n",
    "model_climate.fit(\n",
    "    x = climate_change_train_subset['bert'], \n",
    "    y = climate_change_train_subset['labels_encoded'],\n",
    "    validation_split = 0.2,\n",
    "    shuffle = True,\n",
    "    epochs = 15,\n",
    "    verbose = 2,\n",
    "    batch_size = 32,\n",
    "    class_weight = climate_change_train_subset['class_weights'])"
   ]
  },
  {
   "cell_type": "markdown",
   "metadata": {},
   "source": [
    "### Feminism"
   ]
  },
  {
   "cell_type": "code",
   "execution_count": 51,
   "metadata": {},
   "outputs": [
    {
     "name": "stdout",
     "output_type": "stream",
     "text": [
      "INFO:tensorflow:Saver not created because there are no variables in the graph to restore\n"
     ]
    },
    {
     "name": "stderr",
     "output_type": "stream",
     "text": [
      "INFO:tensorflow:Saver not created because there are no variables in the graph to restore\n"
     ]
    },
    {
     "name": "stdout",
     "output_type": "stream",
     "text": [
      "Model: \"model_8\"\n",
      "__________________________________________________________________________________________________\n",
      "Layer (type)                    Output Shape         Param #     Connected to                     \n",
      "==================================================================================================\n",
      "input_ids (InputLayer)          [(None, 95)]         0                                            \n",
      "__________________________________________________________________________________________________\n",
      "input_masks (InputLayer)        [(None, 95)]         0                                            \n",
      "__________________________________________________________________________________________________\n",
      "segment_ids (InputLayer)        [(None, 95)]         0                                            \n",
      "__________________________________________________________________________________________________\n",
      "bert_layer_8 (BertLayer)        (None, None, 768)    108931396   input_ids[0][0]                  \n",
      "                                                                 input_masks[0][0]                \n",
      "                                                                 segment_ids[0][0]                \n",
      "__________________________________________________________________________________________________\n",
      "dropout_16 (Dropout)            (None, None, 768)    0           bert_layer_8[0][0]               \n",
      "__________________________________________________________________________________________________\n",
      "lstm1 (LSTM)                    (None, 128)          459264      dropout_16[0][0]                 \n",
      "__________________________________________________________________________________________________\n",
      "dense1 (Dense)                  (None, 64)           8256        lstm1[0][0]                      \n",
      "__________________________________________________________________________________________________\n",
      "dropout_17 (Dropout)            (None, 64)           0           dense1[0][0]                     \n",
      "__________________________________________________________________________________________________\n",
      "classification (Dense)          (None, 3)            195         dropout_17[0][0]                 \n",
      "==================================================================================================\n",
      "Total params: 109,399,111\n",
      "Trainable params: 6,963,459\n",
      "Non-trainable params: 102,435,652\n",
      "__________________________________________________________________________________________________\n",
      "Train on 410 samples, validate on 103 samples\n",
      "Epoch 1/15\n",
      "410/410 - 41s - loss: 1.2810 - categorical_accuracy: 0.3073 - val_loss: 0.7641 - val_categorical_accuracy: 0.3107\n",
      "Epoch 2/15\n",
      "410/410 - 33s - loss: 1.3336 - categorical_accuracy: 0.3463 - val_loss: 0.9470 - val_categorical_accuracy: 0.0485\n",
      "Epoch 3/15\n",
      "410/410 - 33s - loss: 1.2366 - categorical_accuracy: 0.2854 - val_loss: 0.7833 - val_categorical_accuracy: 0.0874\n",
      "Epoch 4/15\n",
      "410/410 - 33s - loss: 1.2279 - categorical_accuracy: 0.2610 - val_loss: 0.7985 - val_categorical_accuracy: 0.0874\n",
      "Epoch 5/15\n",
      "410/410 - 33s - loss: 1.1980 - categorical_accuracy: 0.2805 - val_loss: 0.8105 - val_categorical_accuracy: 0.0777\n",
      "Epoch 6/15\n",
      "410/410 - 33s - loss: 1.1895 - categorical_accuracy: 0.2878 - val_loss: 0.7940 - val_categorical_accuracy: 0.0680\n",
      "Epoch 7/15\n",
      "410/410 - 33s - loss: 1.1847 - categorical_accuracy: 0.3024 - val_loss: 0.8047 - val_categorical_accuracy: 0.0485\n",
      "Epoch 8/15\n",
      "410/410 - 33s - loss: 1.1824 - categorical_accuracy: 0.2732 - val_loss: 0.8402 - val_categorical_accuracy: 0.0485\n",
      "Epoch 9/15\n",
      "410/410 - 33s - loss: 1.1789 - categorical_accuracy: 0.2683 - val_loss: 0.8502 - val_categorical_accuracy: 0.0485\n",
      "Epoch 10/15\n",
      "410/410 - 33s - loss: 1.1484 - categorical_accuracy: 0.2878 - val_loss: 0.8260 - val_categorical_accuracy: 0.0971\n",
      "Epoch 11/15\n",
      "410/410 - 33s - loss: 1.0274 - categorical_accuracy: 0.4634 - val_loss: 0.7756 - val_categorical_accuracy: 0.5146\n",
      "Epoch 12/15\n",
      "410/410 - 33s - loss: 0.8173 - categorical_accuracy: 0.6317 - val_loss: 1.0262 - val_categorical_accuracy: 0.4369\n",
      "Epoch 13/15\n",
      "410/410 - 33s - loss: 0.7027 - categorical_accuracy: 0.7341 - val_loss: 1.1070 - val_categorical_accuracy: 0.4175\n",
      "Epoch 14/15\n",
      "410/410 - 33s - loss: 0.5023 - categorical_accuracy: 0.8024 - val_loss: 1.6303 - val_categorical_accuracy: 0.2136\n",
      "Epoch 15/15\n",
      "410/410 - 33s - loss: 0.6027 - categorical_accuracy: 0.7268 - val_loss: 1.1108 - val_categorical_accuracy: 0.5049\n"
     ]
    }
   ],
   "source": [
    "sess = tf.Session()\n",
    "\n",
    "model_feminism = bert_lstm_model(max_length_in = max_length, \n",
    "                                 bert_fine_tune_layers = 12, \n",
    "                                 optimizer = 'adam',\n",
    "                                 learning_rate_in = 0.1,\n",
    "                                 dropout_rate_in = 0.8)\n",
    "\n",
    "initialize_vars(sess)\n",
    "\n",
    "model_feminism.fit(\n",
    "    x = feminism_train_subset['bert'], \n",
    "    y = feminism_train_subset['labels_encoded'],\n",
    "    validation_split = 0.2,\n",
    "    shuffle = True,\n",
    "    epochs = 15,\n",
    "    verbose = 2,\n",
    "    batch_size = 32,\n",
    "    class_weight = feminism_train_subset['class_weights'])"
   ]
  },
  {
   "cell_type": "markdown",
   "metadata": {},
   "source": [
    "### Hillary"
   ]
  },
  {
   "cell_type": "code",
   "execution_count": 52,
   "metadata": {},
   "outputs": [
    {
     "name": "stdout",
     "output_type": "stream",
     "text": [
      "INFO:tensorflow:Saver not created because there are no variables in the graph to restore\n"
     ]
    },
    {
     "name": "stderr",
     "output_type": "stream",
     "text": [
      "INFO:tensorflow:Saver not created because there are no variables in the graph to restore\n"
     ]
    },
    {
     "name": "stdout",
     "output_type": "stream",
     "text": [
      "Model: \"model_9\"\n",
      "__________________________________________________________________________________________________\n",
      "Layer (type)                    Output Shape         Param #     Connected to                     \n",
      "==================================================================================================\n",
      "input_ids (InputLayer)          [(None, 95)]         0                                            \n",
      "__________________________________________________________________________________________________\n",
      "input_masks (InputLayer)        [(None, 95)]         0                                            \n",
      "__________________________________________________________________________________________________\n",
      "segment_ids (InputLayer)        [(None, 95)]         0                                            \n",
      "__________________________________________________________________________________________________\n",
      "bert_layer_9 (BertLayer)        (None, None, 768)    108931396   input_ids[0][0]                  \n",
      "                                                                 input_masks[0][0]                \n",
      "                                                                 segment_ids[0][0]                \n",
      "__________________________________________________________________________________________________\n",
      "dropout_18 (Dropout)            (None, None, 768)    0           bert_layer_9[0][0]               \n",
      "__________________________________________________________________________________________________\n",
      "lstm1 (LSTM)                    (None, 128)          459264      dropout_18[0][0]                 \n",
      "__________________________________________________________________________________________________\n",
      "dense1 (Dense)                  (None, 64)           8256        lstm1[0][0]                      \n",
      "__________________________________________________________________________________________________\n",
      "dropout_19 (Dropout)            (None, 64)           0           dense1[0][0]                     \n",
      "__________________________________________________________________________________________________\n",
      "classification (Dense)          (None, 3)            195         dropout_19[0][0]                 \n",
      "==================================================================================================\n",
      "Total params: 109,399,111\n",
      "Trainable params: 6,963,459\n",
      "Non-trainable params: 102,435,652\n",
      "__________________________________________________________________________________________________\n",
      "Train on 531 samples, validate on 133 samples\n",
      "Epoch 1/15\n",
      "531/531 - 51s - loss: 1.2232 - categorical_accuracy: 0.3540 - val_loss: 0.8374 - val_categorical_accuracy: 0.4511\n",
      "Epoch 2/15\n",
      "531/531 - 42s - loss: 1.2006 - categorical_accuracy: 0.3089 - val_loss: 0.8755 - val_categorical_accuracy: 0.1053\n",
      "Epoch 3/15\n",
      "531/531 - 42s - loss: 1.1562 - categorical_accuracy: 0.3333 - val_loss: 0.8738 - val_categorical_accuracy: 0.1053\n",
      "Epoch 4/15\n",
      "531/531 - 42s - loss: 1.1382 - categorical_accuracy: 0.3710 - val_loss: 0.8641 - val_categorical_accuracy: 0.1203\n",
      "Epoch 5/15\n",
      "531/531 - 43s - loss: 1.0145 - categorical_accuracy: 0.4520 - val_loss: 0.8106 - val_categorical_accuracy: 0.1278\n",
      "Epoch 6/15\n",
      "531/531 - 42s - loss: 0.9717 - categorical_accuracy: 0.4802 - val_loss: 0.8790 - val_categorical_accuracy: 0.1278\n",
      "Epoch 7/15\n",
      "531/531 - 42s - loss: 0.8851 - categorical_accuracy: 0.5198 - val_loss: 0.8140 - val_categorical_accuracy: 0.2932\n",
      "Epoch 8/15\n",
      "531/531 - 42s - loss: 0.8133 - categorical_accuracy: 0.5518 - val_loss: 0.8624 - val_categorical_accuracy: 0.4135\n",
      "Epoch 9/15\n",
      "531/531 - 42s - loss: 0.6815 - categorical_accuracy: 0.6271 - val_loss: 0.7673 - val_categorical_accuracy: 0.5639\n",
      "Epoch 10/15\n",
      "531/531 - 42s - loss: 0.5781 - categorical_accuracy: 0.6685 - val_loss: 0.7186 - val_categorical_accuracy: 0.6090\n",
      "Epoch 11/15\n",
      "531/531 - 42s - loss: 0.5671 - categorical_accuracy: 0.7401 - val_loss: 1.0240 - val_categorical_accuracy: 0.4962\n",
      "Epoch 12/15\n",
      "531/531 - 42s - loss: 0.4958 - categorical_accuracy: 0.7533 - val_loss: 1.1402 - val_categorical_accuracy: 0.5338\n",
      "Epoch 13/15\n",
      "531/531 - 41s - loss: 0.3908 - categorical_accuracy: 0.8362 - val_loss: 1.1107 - val_categorical_accuracy: 0.6917\n",
      "Epoch 14/15\n",
      "531/531 - 42s - loss: 0.4374 - categorical_accuracy: 0.8173 - val_loss: 1.2414 - val_categorical_accuracy: 0.4962\n",
      "Epoch 15/15\n",
      "531/531 - 41s - loss: 0.3371 - categorical_accuracy: 0.8738 - val_loss: 1.1885 - val_categorical_accuracy: 0.4962\n"
     ]
    }
   ],
   "source": [
    "sess = tf.Session()\n",
    "\n",
    "model_hillary = bert_lstm_model(max_length_in = max_length, \n",
    "                                bert_fine_tune_layers = 12, \n",
    "                                optimizer = 'adam',\n",
    "                                learning_rate_in = 0.1,\n",
    "                                dropout_rate_in = 0.8)\n",
    "\n",
    "initialize_vars(sess)\n",
    "\n",
    "model_hillary.fit(\n",
    "    x = hillary_train_subset['bert'], \n",
    "    y = hillary_train_subset['labels_encoded'],\n",
    "    validation_split = 0.2,\n",
    "    shuffle = True,\n",
    "    epochs = 15,\n",
    "    verbose = 2,\n",
    "    batch_size = 32,\n",
    "    class_weight = hillary_train_subset['class_weights'])"
   ]
  },
  {
   "cell_type": "markdown",
   "metadata": {},
   "source": [
    "## Outputs"
   ]
  },
  {
   "cell_type": "code",
   "execution_count": 32,
   "metadata": {},
   "outputs": [],
   "source": [
    "def confusion_plot(confusion_matrix, target_names):\n",
    "    # Plot confusion matrix (via imshow)\n",
    "    plt.imshow(confusion_matrix, interpolation = \"nearest\", cmap = plt.cm.Blues)\n",
    "    plt.title(\"Confusion matrix\")\n",
    "    plt.colorbar()\n",
    "    tick_marks = np.arange(len(target_names))\n",
    "    plt.xticks(tick_marks, target_names)\n",
    "    plt.yticks(tick_marks, target_names)\n",
    "    plt.ylim([-0.5, 2.5]) # Fixed values for now\n",
    "    plt.tight_layout()\n",
    "\n",
    "    # Loop through each value of the matrix to add data labels\n",
    "    width, height = confusion_matrix.shape\n",
    "    for x in range(width):\n",
    "        for y in range(height):\n",
    "            plt.annotate(str(confusion_matrix[x][y]), xy = (y, x), \n",
    "                        horizontalalignment = \"center\",\n",
    "                        verticalalignment = \"center\")\n",
    "    plt.ylabel(\"True label\")\n",
    "    plt.xlabel(\"Predicted label\")\n",
    "    \n",
    "def standard_metrics(true_labels, test_probs, label_titles):\n",
    "    # Find predicted labels\n",
    "    test_prob_max = np.argmax(test_probs, axis = 1)\n",
    "\n",
    "    test_predicts = []\n",
    "    for i in range(len(test_prob_max)):\n",
    "        test_predicts.append(label_titles[test_prob_max[i]])\n",
    "    \n",
    "    # F1 score\n",
    "    f1 = f1_score(true_labels, test_predicts, average = 'macro')\n",
    "    print(\"F1 macro score:\", f1)\n",
    "    \n",
    "    # Classification Report\n",
    "    print(classification_report(y_true = true_labels, \n",
    "                                        y_pred = test_predicts,\n",
    "                                        target_names = label_titles))\n",
    "    \n",
    "    # Confusion Matrix plot\n",
    "    confuse = confusion_matrix(y_true = true_labels, y_pred = test_predicts)\n",
    "    plt.figure(figsize = (20, 5))\n",
    "    confusion_plot(confuse, label_titles)\n",
    "    plt.show()\n",
    "    \n"
   ]
  },
  {
   "cell_type": "markdown",
   "metadata": {},
   "source": [
    "### Abortion"
   ]
  },
  {
   "cell_type": "code",
   "execution_count": 63,
   "metadata": {},
   "outputs": [
    {
     "name": "stdout",
     "output_type": "stream",
     "text": [
      "F1 macro score: 0.5862785714333832\n",
      "              precision    recall  f1-score   support\n",
      "\n",
      "     AGAINST       0.91      0.54      0.68       189\n",
      "       FAVOR       0.48      0.70      0.57        46\n",
      "        NONE       0.37      0.82      0.51        45\n",
      "\n",
      "    accuracy                           0.61       280\n",
      "   macro avg       0.59      0.69      0.59       280\n",
      "weighted avg       0.75      0.61      0.64       280\n",
      "\n"
     ]
    },
    {
     "data": {
      "image/png": "[encoded data removed]",
      "text/plain": [
       "<Figure size 1440x360 with 2 Axes>"
      ]
     },
     "metadata": {
      "needs_background": "light"
     },
     "output_type": "display_data"
    }
   ],
   "source": [
    "standard_metrics(true_labels = abortion_test_subset['labels_text'], \n",
    "                 test_probs = pred_test_abortion,\n",
    "                 label_titles = label_categories)"
   ]
  },
  {
   "cell_type": "markdown",
   "metadata": {},
   "source": [
    "### Atheism"
   ]
  },
  {
   "cell_type": "code",
   "execution_count": 62,
   "metadata": {},
   "outputs": [
    {
     "name": "stdout",
     "output_type": "stream",
     "text": [
      "F1 macro score: 0.11437908496732026\n",
      "              precision    recall  f1-score   support\n",
      "\n",
      "     AGAINST       0.00      0.00      0.00        11\n",
      "       FAVOR       0.00      0.00      0.00       123\n",
      "        NONE       0.21      1.00      0.34        35\n",
      "\n",
      "    accuracy                           0.21       169\n",
      "   macro avg       0.07      0.33      0.11       169\n",
      "weighted avg       0.04      0.21      0.07       169\n",
      "\n"
     ]
    },
    {
     "data": {
      "image/png": "[encoded data removed]",
      "text/plain": [
       "<Figure size 1440x360 with 2 Axes>"
      ]
     },
     "metadata": {
      "needs_background": "light"
     },
     "output_type": "display_data"
    }
   ],
   "source": [
    "pred_test_atheism = model_atheism.predict(x = atheism_test_subset['bert'])\n",
    "\n",
    "standard_metrics(true_labels = atheism_test_subset['labels_text'], \n",
    "                 test_probs = pred_test_atheism,\n",
    "                 label_titles = label_categories)"
   ]
  },
  {
   "cell_type": "markdown",
   "metadata": {},
   "source": [
    "### Climate Change"
   ]
  },
  {
   "cell_type": "code",
   "execution_count": 60,
   "metadata": {},
   "outputs": [
    {
     "name": "stdout",
     "output_type": "stream",
     "text": [
      "F1 macro score: 0.09340580335317632\n",
      "              precision    recall  f1-score   support\n",
      "\n",
      "     AGAINST       1.00      0.01      0.01       172\n",
      "       FAVOR       0.16      1.00      0.27        45\n",
      "        NONE       0.00      0.00      0.00        78\n",
      "\n",
      "    accuracy                           0.16       295\n",
      "   macro avg       0.39      0.34      0.09       295\n",
      "weighted avg       0.61      0.16      0.05       295\n",
      "\n"
     ]
    },
    {
     "data": {
      "image/png": "[encoded data removed]",
      "text/plain": [
       "<Figure size 1440x360 with 2 Axes>"
      ]
     },
     "metadata": {
      "needs_background": "light"
     },
     "output_type": "display_data"
    }
   ],
   "source": [
    "pred_test_climate_change = model_climate.predict(x = climate_change_test_subset['bert'])\n",
    "\n",
    "standard_metrics(true_labels = climate_change_test_subset['labels_text'], \n",
    "                 test_probs = pred_test_climate_change,\n",
    "                 label_titles = label_categories)"
   ]
  },
  {
   "cell_type": "markdown",
   "metadata": {},
   "source": [
    "### Feminism"
   ]
  },
  {
   "cell_type": "code",
   "execution_count": 61,
   "metadata": {},
   "outputs": [
    {
     "name": "stdout",
     "output_type": "stream",
     "text": [
      "F1 macro score: 0.11917772573510278\n",
      "              precision    recall  f1-score   support\n",
      "\n",
      "     AGAINST       1.00      0.05      0.10       160\n",
      "       FAVOR       0.15      1.00      0.26        32\n",
      "        NONE       0.00      0.00      0.00        28\n",
      "\n",
      "    accuracy                           0.18       220\n",
      "   macro avg       0.38      0.35      0.12       220\n",
      "weighted avg       0.75      0.18      0.11       220\n",
      "\n"
     ]
    },
    {
     "data": {
      "image/png": "[encoded data removed]",
      "text/plain": [
       "<Figure size 1440x360 with 2 Axes>"
      ]
     },
     "metadata": {
      "needs_background": "light"
     },
     "output_type": "display_data"
    }
   ],
   "source": [
    "pred_test_feminism = model_feminism.predict(x = feminism_test_subset['bert'])\n",
    "\n",
    "standard_metrics(true_labels = feminism_test_subset['labels_text'], \n",
    "                 test_probs = pred_test_feminism,\n",
    "                 label_titles = label_categories)"
   ]
  },
  {
   "cell_type": "markdown",
   "metadata": {},
   "source": [
    "### Hillary"
   ]
  },
  {
   "cell_type": "code",
   "execution_count": 59,
   "metadata": {},
   "outputs": [
    {
     "name": "stdout",
     "output_type": "stream",
     "text": [
      "F1 macro score: 0.5216005204944697\n",
      "              precision    recall  f1-score   support\n",
      "\n",
      "     AGAINST       0.80      0.47      0.59       183\n",
      "       FAVOR       0.32      0.86      0.47        58\n",
      "        NONE       0.71      0.39      0.50        44\n",
      "\n",
      "    accuracy                           0.54       285\n",
      "   macro avg       0.61      0.57      0.52       285\n",
      "weighted avg       0.69      0.54      0.55       285\n",
      "\n"
     ]
    },
    {
     "data": {
      "image/png": "[encoded data removed]",
      "text/plain": [
       "<Figure size 1440x360 with 2 Axes>"
      ]
     },
     "metadata": {
      "needs_background": "light"
     },
     "output_type": "display_data"
    }
   ],
   "source": [
    "pred_test_hillary = model_hillary.predict(x = hillary_test_subset['bert'])\n",
    "\n",
    "standard_metrics(true_labels = hillary_test_subset['labels_text'], \n",
    "                 test_probs = pred_test_hillary,\n",
    "                 label_titles = label_categories)"
   ]
  },
  {
   "cell_type": "markdown",
   "metadata": {},
   "source": [
    "## Extra"
   ]
  },
  {
   "cell_type": "code",
   "execution_count": null,
   "metadata": {},
   "outputs": [],
   "source": [
    "# Histograms of predicted probabilities\n",
    "def class_prob_breakdown(true_labels, test_probs, label_titles):\n",
    "    plt.figure(figsize=(20, 10))\n",
    "\n",
    "    plt.subplot(2,3,1)\n",
    "    plt.title(\"Prob. Dist. - Predicted \" + label_titles[0])\n",
    "    plt.hist([item[0] for item in test_probs])\n",
    "\n",
    "    plt.subplot(2,3,2)\n",
    "    plt.title(\"Prob. Dist. - Predicted \" + label_titles[1])\n",
    "    plt.hist([item[1] for item in test_probs])\n",
    "\n",
    "    plt.subplot(2,3,3)\n",
    "    plt.title(\"Prob. Dist. - Predicted \" + label_titles[2])\n",
    "    plt.hist([item[2] for item in test_probs])\n",
    "\n",
    "    plt.subplot(2,3,4)\n",
    "    plt.title(\"Prob. Dist., by True Label - \" + label_titles[0])\n",
    "    sns.distplot([item[0] for item in test_probs[true_labels==label_titles[0]]], hist = False, label = \"True \" + label_titles[0])\n",
    "    sns.distplot([item[0] for item in test_probs[true_labels==label_titles[1]]], hist = False, label = \"True \" + label_titles[1])\n",
    "    sns.distplot([item[0] for item in test_probs[true_labels==label_titles[2]]], hist = False, label = \"True \" + label_titles[2])\n",
    "\n",
    "    plt.subplot(2,3,5)\n",
    "    plt.title(\"Prob. Dist., by True Label - \" + label_titles[1])\n",
    "    sns.distplot([item[1] for item in test_probs[true_labels==label_titles[0]]], hist = False, label = \"True \" + label_titles[0])\n",
    "    sns.distplot([item[1] for item in test_probs[true_labels==label_titles[1]]], hist = False, label = \"True \" + label_titles[1])\n",
    "    sns.distplot([item[1] for item in test_probs[true_labels==label_titles[2]]], hist = False, label = \"True \" + label_titles[2])\n",
    "    \n",
    "    plt.subplot(2,3,6)\n",
    "    plt.title(\"Prob. Dist., by True Label - \" + label_titles[2])\n",
    "    sns.distplot([item[2] for item in test_probs[true_labels==label_titles[0]]], hist = False, label = \"True \" + label_titles[0])\n",
    "    sns.distplot([item[2] for item in test_probs[true_labels==label_titles[1]]], hist = False, label = \"True \" + label_titles[1])\n",
    "    sns.distplot([item[2] for item in test_probs[true_labels==label_titles[2]]], hist = False, label = \"True \" + label_titles[2])\n",
    "\n",
    "    plt.show()"
   ]
  }
 ],
 "metadata": {
  "kernelspec": {
   "display_name": "Python 3",
   "language": "python",
   "name": "python3"
  },
  "language_info": {
   "codemirror_mode": {
    "name": "ipython",
    "version": 3
   },
   "file_extension": ".py",
   "mimetype": "text/x-python",
   "name": "python",
   "nbconvert_exporter": "python",
   "pygments_lexer": "ipython3",
   "version": "3.6.8"
  }
 },
 "nbformat": 4,
 "nbformat_minor": 2
}
