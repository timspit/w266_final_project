{
 "cells": [
  {
   "cell_type": "code",
   "execution_count": 20,
   "metadata": {},
   "outputs": [],
   "source": [
    "import pandas as pd\n",
    "import numpy as np\n",
    "from common import utils\n",
    "from nltk.util import ngrams\n",
    "\n",
    "#load training data\n",
    "twitter_train = pd.read_excel('./StanceDataset/train.xlsx')"
   ]
  },
  {
   "cell_type": "markdown",
   "metadata": {},
   "source": [
    "## Implement baseline - SVM with n-gram features as per the original paper"
   ]
  },
  {
   "cell_type": "code",
   "execution_count": 21,
   "metadata": {},
   "outputs": [
    {
     "data": {
      "text/html": [
       "<div>\n",
       "<style scoped>\n",
       "    .dataframe tbody tr th:only-of-type {\n",
       "        vertical-align: middle;\n",
       "    }\n",
       "\n",
       "    .dataframe tbody tr th {\n",
       "        vertical-align: top;\n",
       "    }\n",
       "\n",
       "    .dataframe thead th {\n",
       "        text-align: right;\n",
       "    }\n",
       "</style>\n",
       "<table border=\"1\" class=\"dataframe\">\n",
       "  <thead>\n",
       "    <tr style=\"text-align: right;\">\n",
       "      <th></th>\n",
       "      <th>Tweet</th>\n",
       "      <th>Target</th>\n",
       "      <th>Stance</th>\n",
       "      <th>Opinion Towards</th>\n",
       "      <th>Sentiment</th>\n",
       "    </tr>\n",
       "  </thead>\n",
       "  <tbody>\n",
       "    <tr>\n",
       "      <td>0</td>\n",
       "      <td>@tedcruz And, #HandOverTheServer she wiped cle...</td>\n",
       "      <td>Hillary Clinton</td>\n",
       "      <td>AGAINST</td>\n",
       "      <td>1.  The tweet explicitly expresses opinion abo...</td>\n",
       "      <td>neg</td>\n",
       "    </tr>\n",
       "    <tr>\n",
       "      <td>1</td>\n",
       "      <td>Hillary is our best choice if we truly want to...</td>\n",
       "      <td>Hillary Clinton</td>\n",
       "      <td>FAVOR</td>\n",
       "      <td>1.  The tweet explicitly expresses opinion abo...</td>\n",
       "      <td>pos</td>\n",
       "    </tr>\n",
       "    <tr>\n",
       "      <td>2</td>\n",
       "      <td>@TheView I think our country is ready for a fe...</td>\n",
       "      <td>Hillary Clinton</td>\n",
       "      <td>AGAINST</td>\n",
       "      <td>1.  The tweet explicitly expresses opinion abo...</td>\n",
       "      <td>neg</td>\n",
       "    </tr>\n",
       "    <tr>\n",
       "      <td>3</td>\n",
       "      <td>I just gave an unhealthy amount of my hard-ear...</td>\n",
       "      <td>Hillary Clinton</td>\n",
       "      <td>AGAINST</td>\n",
       "      <td>1.  The tweet explicitly expresses opinion abo...</td>\n",
       "      <td>neg</td>\n",
       "    </tr>\n",
       "    <tr>\n",
       "      <td>4</td>\n",
       "      <td>@PortiaABoulger Thank you for adding me to you...</td>\n",
       "      <td>Hillary Clinton</td>\n",
       "      <td>NONE</td>\n",
       "      <td>3.  The tweet is not explicitly expressing opi...</td>\n",
       "      <td>pos</td>\n",
       "    </tr>\n",
       "  </tbody>\n",
       "</table>\n",
       "</div>"
      ],
      "text/plain": [
       "                                               Tweet           Target  \\\n",
       "0  @tedcruz And, #HandOverTheServer she wiped cle...  Hillary Clinton   \n",
       "1  Hillary is our best choice if we truly want to...  Hillary Clinton   \n",
       "2  @TheView I think our country is ready for a fe...  Hillary Clinton   \n",
       "3  I just gave an unhealthy amount of my hard-ear...  Hillary Clinton   \n",
       "4  @PortiaABoulger Thank you for adding me to you...  Hillary Clinton   \n",
       "\n",
       "    Stance                                    Opinion Towards Sentiment  \n",
       "0  AGAINST  1.  The tweet explicitly expresses opinion abo...       neg  \n",
       "1    FAVOR  1.  The tweet explicitly expresses opinion abo...       pos  \n",
       "2  AGAINST  1.  The tweet explicitly expresses opinion abo...       neg  \n",
       "3  AGAINST  1.  The tweet explicitly expresses opinion abo...       neg  \n",
       "4     NONE  3.  The tweet is not explicitly expressing opi...       pos  "
      ]
     },
     "execution_count": 21,
     "metadata": {},
     "output_type": "execute_result"
    }
   ],
   "source": [
    "twitter_train.head()"
   ]
  },
  {
   "cell_type": "code",
   "execution_count": 24,
   "metadata": {},
   "outputs": [
    {
     "data": {
      "text/plain": [
       "[('!',),\n",
       " ('!', '#DoctorCarbon'),\n",
       " ('!', '#DoctorCarbon', 'Advocate'),\n",
       " ('!', '#EqualityForAll'),\n",
       " ('!', '#EqualityForAll', '#PJNET'),\n",
       " ('!', '#Life'),\n",
       " ('!', '#Life', '#Humanity'),\n",
       " ('!', '#SemST'),\n",
       " ('!', '#freeallfour'),\n",
       " ('!', '#freeallfour', '#SemST'),\n",
       " ('!', '#morningjoe'),\n",
       " ('!', '#morningjoe', '#unitedblue'),\n",
       " ('!', '#solar'),\n",
       " ('!', '#solar', '#solarimpulse'),\n",
       " ('!', 'How')]"
      ]
     },
     "execution_count": 24,
     "metadata": {},
     "output_type": "execute_result"
    }
   ],
   "source": [
    "#carve out the training tweets\n",
    "tweets = twitter_train['Tweet']\n",
    "\n",
    "#carve out training labels and convert to labels for feeding sklearn SVM\n",
    "stance_labels = np.array(twitter_train['Stance'].apply(lambda x: 2 if x == \"FAVOR\" else \n",
    "                             (1 if x == \"NONE\" else 0)))\n",
    "\n",
    "#tokenize tweets\n",
    "tweets = tweets.apply(lambda x: x.split())\n",
    "\n",
    "#loop to generate uni, bi, and trigrams and store in list\n",
    "word_ngrams = []\n",
    "\n",
    "#inefficient nested for loops to create the universe of word ngrams (uni - tri)\n",
    "for tweet in tweets:\n",
    "    for n in range(1,4):\n",
    "        for gram in ngrams(tweet,n):\n",
    "            word_ngrams.append(gram)\n",
    "\n",
    "#turn into unique list\n",
    "word_ngrams = np.unique(np.asarray(word_ngrams)).tolist()\n",
    "\n",
    "word_ngrams[0:15]"
   ]
  },
  {
   "cell_type": "code",
   "execution_count": 25,
   "metadata": {},
   "outputs": [],
   "source": [
    "#create a dataframe to hold ngram feature 1 hot encodings\n",
    "stance_features = pd.DataFrame()\n",
    "\n",
    "## helper function to identify if n gram is in the string\n",
    "def identify_ngram(string, ngram):\n",
    "    counter = 0\n",
    "    for gram in ngram:\n",
    "        if gram in string:\n",
    "            counter+=1\n",
    "    if counter == len(ngram):\n",
    "        return True\n",
    "    else:\n",
    "        return False\n"
   ]
  },
  {
   "cell_type": "code",
   "execution_count": null,
   "metadata": {},
   "outputs": [],
   "source": [
    "#### don't run this cell yet....takes forever, need to find more efficient way -- will look into the course material\n",
    "for ngram in word_ngrams:\n",
    "    stance_features[ngram] = tweets.apply(lambda x: 1 if identify_ngram(x,ngram) else 0)"
   ]
  }
 ],
 "metadata": {
  "kernelspec": {
   "display_name": "Python 3",
   "language": "python",
   "name": "python3"
  },
  "language_info": {
   "codemirror_mode": {
    "name": "ipython",
    "version": 3
   },
   "file_extension": ".py",
   "mimetype": "text/x-python",
   "name": "python",
   "nbconvert_exporter": "python",
   "pygments_lexer": "ipython3",
   "version": "3.6.8"
  }
 },
 "nbformat": 4,
 "nbformat_minor": 2
}
