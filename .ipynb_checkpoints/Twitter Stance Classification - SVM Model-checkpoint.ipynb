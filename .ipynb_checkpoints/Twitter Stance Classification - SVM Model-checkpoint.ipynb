{
 "cells": [
  {
   "cell_type": "code",
   "execution_count": 31,
   "metadata": {},
   "outputs": [],
   "source": [
    "import pandas as pd\n",
    "import numpy as np\n",
    "from common import utils\n",
    "from nltk.util import ngrams\n",
    "from sklearn.feature_extraction.text import CountVectorizer\n",
    "from scipy.sparse import csr_matrix, hstack\n",
    "from sklearn.svm import SVC\n",
    "from sklearn.metrics import f1_score\n",
    "import time\n",
    "\n",
    "#load training data\n",
    "twitter_train = pd.read_excel('./StanceDataset/train.xlsx')\n",
    "\n",
    "#load test data\n",
    "twitter_test = pd.read_excel('./StanceDataset/test.xlsx')"
   ]
  },
  {
   "cell_type": "code",
   "execution_count": 32,
   "metadata": {},
   "outputs": [
    {
     "data": {
      "text/html": [
       "<div>\n",
       "<style scoped>\n",
       "    .dataframe tbody tr th:only-of-type {\n",
       "        vertical-align: middle;\n",
       "    }\n",
       "\n",
       "    .dataframe tbody tr th {\n",
       "        vertical-align: top;\n",
       "    }\n",
       "\n",
       "    .dataframe thead th {\n",
       "        text-align: right;\n",
       "    }\n",
       "</style>\n",
       "<table border=\"1\" class=\"dataframe\">\n",
       "  <thead>\n",
       "    <tr style=\"text-align: right;\">\n",
       "      <th></th>\n",
       "      <th>Tweet</th>\n",
       "      <th>Target</th>\n",
       "      <th>Stance</th>\n",
       "      <th>Opinion Towards</th>\n",
       "      <th>Sentiment</th>\n",
       "    </tr>\n",
       "  </thead>\n",
       "  <tbody>\n",
       "    <tr>\n",
       "      <td>0</td>\n",
       "      <td>@tedcruz And, #HandOverTheServer she wiped cle...</td>\n",
       "      <td>Hillary Clinton</td>\n",
       "      <td>AGAINST</td>\n",
       "      <td>1.  The tweet explicitly expresses opinion abo...</td>\n",
       "      <td>neg</td>\n",
       "    </tr>\n",
       "    <tr>\n",
       "      <td>1</td>\n",
       "      <td>Hillary is our best choice if we truly want to...</td>\n",
       "      <td>Hillary Clinton</td>\n",
       "      <td>FAVOR</td>\n",
       "      <td>1.  The tweet explicitly expresses opinion abo...</td>\n",
       "      <td>pos</td>\n",
       "    </tr>\n",
       "    <tr>\n",
       "      <td>2</td>\n",
       "      <td>@TheView I think our country is ready for a fe...</td>\n",
       "      <td>Hillary Clinton</td>\n",
       "      <td>AGAINST</td>\n",
       "      <td>1.  The tweet explicitly expresses opinion abo...</td>\n",
       "      <td>neg</td>\n",
       "    </tr>\n",
       "    <tr>\n",
       "      <td>3</td>\n",
       "      <td>I just gave an unhealthy amount of my hard-ear...</td>\n",
       "      <td>Hillary Clinton</td>\n",
       "      <td>AGAINST</td>\n",
       "      <td>1.  The tweet explicitly expresses opinion abo...</td>\n",
       "      <td>neg</td>\n",
       "    </tr>\n",
       "    <tr>\n",
       "      <td>4</td>\n",
       "      <td>@PortiaABoulger Thank you for adding me to you...</td>\n",
       "      <td>Hillary Clinton</td>\n",
       "      <td>NONE</td>\n",
       "      <td>3.  The tweet is not explicitly expressing opi...</td>\n",
       "      <td>pos</td>\n",
       "    </tr>\n",
       "  </tbody>\n",
       "</table>\n",
       "</div>"
      ],
      "text/plain": [
       "                                               Tweet           Target  \\\n",
       "0  @tedcruz And, #HandOverTheServer she wiped cle...  Hillary Clinton   \n",
       "1  Hillary is our best choice if we truly want to...  Hillary Clinton   \n",
       "2  @TheView I think our country is ready for a fe...  Hillary Clinton   \n",
       "3  I just gave an unhealthy amount of my hard-ear...  Hillary Clinton   \n",
       "4  @PortiaABoulger Thank you for adding me to you...  Hillary Clinton   \n",
       "\n",
       "    Stance                                    Opinion Towards Sentiment  \n",
       "0  AGAINST  1.  The tweet explicitly expresses opinion abo...       neg  \n",
       "1    FAVOR  1.  The tweet explicitly expresses opinion abo...       pos  \n",
       "2  AGAINST  1.  The tweet explicitly expresses opinion abo...       neg  \n",
       "3  AGAINST  1.  The tweet explicitly expresses opinion abo...       neg  \n",
       "4     NONE  3.  The tweet is not explicitly expressing opi...       pos  "
      ]
     },
     "execution_count": 32,
     "metadata": {},
     "output_type": "execute_result"
    }
   ],
   "source": [
    "twitter_train.head()"
   ]
  },
  {
   "cell_type": "code",
   "execution_count": 33,
   "metadata": {},
   "outputs": [
    {
     "data": {
      "text/html": [
       "<div>\n",
       "<style scoped>\n",
       "    .dataframe tbody tr th:only-of-type {\n",
       "        vertical-align: middle;\n",
       "    }\n",
       "\n",
       "    .dataframe tbody tr th {\n",
       "        vertical-align: top;\n",
       "    }\n",
       "\n",
       "    .dataframe thead th {\n",
       "        text-align: right;\n",
       "    }\n",
       "</style>\n",
       "<table border=\"1\" class=\"dataframe\">\n",
       "  <thead>\n",
       "    <tr style=\"text-align: right;\">\n",
       "      <th></th>\n",
       "      <th>Tweet</th>\n",
       "      <th>Target</th>\n",
       "      <th>Stance</th>\n",
       "      <th>Opinion Towards</th>\n",
       "      <th>Sentiment</th>\n",
       "    </tr>\n",
       "  </thead>\n",
       "  <tbody>\n",
       "    <tr>\n",
       "      <td>0</td>\n",
       "      <td>He who exalts himself shall      be humbled; a...</td>\n",
       "      <td>Atheism</td>\n",
       "      <td>AGAINST</td>\n",
       "      <td>1.  The tweet explicitly expresses opinion abo...</td>\n",
       "      <td>pos</td>\n",
       "    </tr>\n",
       "    <tr>\n",
       "      <td>1</td>\n",
       "      <td>RT @prayerbullets: I remove Nehushtan -previou...</td>\n",
       "      <td>Atheism</td>\n",
       "      <td>AGAINST</td>\n",
       "      <td>1.  The tweet explicitly expresses opinion abo...</td>\n",
       "      <td>other</td>\n",
       "    </tr>\n",
       "    <tr>\n",
       "      <td>2</td>\n",
       "      <td>@Brainman365 @heidtjj @BenjaminLives I have so...</td>\n",
       "      <td>Atheism</td>\n",
       "      <td>AGAINST</td>\n",
       "      <td>1.  The tweet explicitly expresses opinion abo...</td>\n",
       "      <td>pos</td>\n",
       "    </tr>\n",
       "    <tr>\n",
       "      <td>3</td>\n",
       "      <td>#God is utterly powerless without Human interv...</td>\n",
       "      <td>Atheism</td>\n",
       "      <td>AGAINST</td>\n",
       "      <td>1.  The tweet explicitly expresses opinion abo...</td>\n",
       "      <td>neg</td>\n",
       "    </tr>\n",
       "    <tr>\n",
       "      <td>4</td>\n",
       "      <td>@David_Cameron   Miracles of #Multiculturalism...</td>\n",
       "      <td>Atheism</td>\n",
       "      <td>AGAINST</td>\n",
       "      <td>2. The tweet does NOT expresses opinion about ...</td>\n",
       "      <td>neg</td>\n",
       "    </tr>\n",
       "  </tbody>\n",
       "</table>\n",
       "</div>"
      ],
      "text/plain": [
       "                                               Tweet   Target   Stance  \\\n",
       "0  He who exalts himself shall      be humbled; a...  Atheism  AGAINST   \n",
       "1  RT @prayerbullets: I remove Nehushtan -previou...  Atheism  AGAINST   \n",
       "2  @Brainman365 @heidtjj @BenjaminLives I have so...  Atheism  AGAINST   \n",
       "3  #God is utterly powerless without Human interv...  Atheism  AGAINST   \n",
       "4  @David_Cameron   Miracles of #Multiculturalism...  Atheism  AGAINST   \n",
       "\n",
       "                                     Opinion Towards Sentiment  \n",
       "0  1.  The tweet explicitly expresses opinion abo...       pos  \n",
       "1  1.  The tweet explicitly expresses opinion abo...     other  \n",
       "2  1.  The tweet explicitly expresses opinion abo...       pos  \n",
       "3  1.  The tweet explicitly expresses opinion abo...       neg  \n",
       "4  2. The tweet does NOT expresses opinion about ...       neg  "
      ]
     },
     "execution_count": 33,
     "metadata": {},
     "output_type": "execute_result"
    }
   ],
   "source": [
    "twitter_test.head()"
   ]
  },
  {
   "cell_type": "markdown",
   "metadata": {},
   "source": [
    "## Function for SVM Model"
   ]
  },
  {
   "cell_type": "code",
   "execution_count": 34,
   "metadata": {},
   "outputs": [],
   "source": [
    "def svm_stance(train, test, topic_list):\n",
    "    \"\"\"This function takes a list of topics and returns the stance classification f1 score\n",
    "    of our baseline SVM implementation over the training / test data filtered for the applicable topics\"\"\"\n",
    "    \n",
    "    #convert topic list to lower case\n",
    "    for i in range(0,len(topic_list)):\n",
    "        topic_list[i] = topic_list[i].lower()\n",
    "    \n",
    "    #find boolean series of all training & target rows pertaining to the relevant topics\n",
    "    matches_train = train['Target'].apply(lambda x: x.lower() in topic_list)\n",
    "    matches_test = test['Target'].apply(lambda x: x.lower() in topic_list)\n",
    "    \n",
    "    #carve out the training tweets\n",
    "    tweets_train = twitter_train[matches_train]['Tweet']\n",
    "    tweets_test = twitter_test[matches_test]['Tweet']\n",
    "\n",
    "    #carve out training labels and convert to labels for feeding sklearn SVM\n",
    "    stance_labels_train = np.array(twitter_train[matches_train]['Stance'].apply(lambda x: 2 if x == \"FAVOR\" else \n",
    "                                 (1 if x == \"NONE\" else 0)))\n",
    "\n",
    "    stance_labels_test = np.array(twitter_test[matches_test]['Stance'].apply(lambda x: 2 if x == \"FAVOR\" else \n",
    "                                 (1 if x == \"NONE\" else 0)))\n",
    "\n",
    "    #tokenize tweets so we can determine our own n-grams (by default, CountVectorizer removes things like # in hashtags)\n",
    "    tokens = tweets_train.apply(lambda x: x.split())\n",
    "\n",
    "    #loop to generate uni, bi, and trigrams and store in list\n",
    "    word_ngrams = []\n",
    "\n",
    "    #nested for loops to create the universe of word ngrams (uni - tri)\n",
    "    for tweet in tokens:\n",
    "        for n in range(1,4):\n",
    "            for gram in ngrams(tweet,n):\n",
    "                word_ngrams.append(gram)\n",
    "\n",
    "    #turn into unique list\n",
    "    word_ngrams = np.unique(np.asarray(word_ngrams)).tolist()\n",
    "\n",
    "    #convert training data to sparse matrix for relevant n-gram words\n",
    "    word_grams = CountVectorizer(ngram_range = (1,3), vocabulary = word_ngrams)\n",
    "    train_nwords = word_grams.fit_transform(tweets_train)\n",
    "\n",
    "    #convert test data to sparse matrix for relevant n-gram words\n",
    "    test_nwords = word_grams.transform(tweets_test)\n",
    "    \n",
    "    #convert training data to sparse matrix for relevant n-gram chars\n",
    "    char_grams = CountVectorizer(ngram_range = (2,5), analyzer = 'char')\n",
    "    train_nchars = char_grams.fit_transform(tweets_train)\n",
    "    \n",
    "    #convert test data to sparse matrix for relevant n-gram chars\n",
    "    test_nchars = char_grams.transform(tweets_test)\n",
    "    \n",
    "    #stack the word and char n-grams\n",
    "    train_grams = hstack((train_nwords, train_nchars))\n",
    "    test_grams = hstack((test_nwords, test_nchars))\n",
    "    \n",
    "    #turn counts into presence/absence indicators, as mentioned in the paper\n",
    "    train_grams = pd.DataFrame(train_grams.todense())\n",
    "    test_grams = pd.DataFrame(test_grams.todense())\n",
    "    \n",
    "    train_grams = train_grams.applymap(lambda x: 1 if x > 1 else x)\n",
    "    test_grams = test_grams.applymap(lambda x: 1 if x > 1 else x)\n",
    "    \n",
    "    train_grams = csr_matrix(train_grams.values)\n",
    "    test_grams = csr_matrix(test_grams.values)\n",
    "       \n",
    "    #train SVM\n",
    "    start_time_train = time.time()\n",
    "    svm = SVC(kernel = 'linear')\n",
    "    svm.fit(train_grams,stance_labels_train)\n",
    "    end_time_train = time.time()\n",
    "    print(\"Training time:\",end_time_train - start_time_train)\n",
    "\n",
    "    #prediction\n",
    "    start_time_predict = time.time()\n",
    "    stance_predict = svm.predict(test_grams)\n",
    "    end_time_predict = time.time()\n",
    "    print(\"Prediction time:\", end_time_predict - start_time_predict)\n",
    "\n",
    "    #calculate f1 score\n",
    "    f1 = f1_score(stance_labels_test, stance_predict, average = 'weighted')\n",
    "    \n",
    "    return f1"
   ]
  },
  {
   "cell_type": "markdown",
   "metadata": {},
   "source": [
    "## Model performance on each Twitter topic"
   ]
  },
  {
   "cell_type": "code",
   "execution_count": 35,
   "metadata": {},
   "outputs": [
    {
     "name": "stdout",
     "output_type": "stream",
     "text": [
      "Training time: 0.5772731304168701\n",
      "Prediction time: 0.15432190895080566\n",
      "F1 score for atheism: 0.7120720497407614\n"
     ]
    }
   ],
   "source": [
    "#Atheism\n",
    "f1_ath = svm_stance(twitter_train, twitter_test, ['Atheism'])\n",
    "print(\"F1 score for atheism:\", f1_ath)"
   ]
  },
  {
   "cell_type": "code",
   "execution_count": 36,
   "metadata": {},
   "outputs": [
    {
     "name": "stdout",
     "output_type": "stream",
     "text": [
      "Training time: 1.4473328590393066\n",
      "Prediction time: 0.447063684463501\n",
      "F1 score for Hillary 0.685927622537792\n"
     ]
    }
   ],
   "source": [
    "#Hillary\n",
    "f1_hil = svm_stance(twitter_train, twitter_test, ['Hillary Clinton'])\n",
    "print(\"F1 score for Hillary\", f1_hil)"
   ]
  },
  {
   "cell_type": "code",
   "execution_count": 37,
   "metadata": {},
   "outputs": [
    {
     "name": "stdout",
     "output_type": "stream",
     "text": [
      "Training time: 0.8924682140350342\n",
      "Prediction time: 0.29137110710144043\n",
      "F1 score for Abortion 0.6595309955979014\n"
     ]
    }
   ],
   "source": [
    "#Abortion\n",
    "f1_abort = svm_stance(twitter_train, twitter_test, ['Legalization of Abortion'])\n",
    "print(\"F1 score for Abortion\", f1_abort)"
   ]
  },
  {
   "cell_type": "code",
   "execution_count": 38,
   "metadata": {},
   "outputs": [
    {
     "name": "stdout",
     "output_type": "stream",
     "text": [
      "Training time: 0.36058592796325684\n",
      "Prediction time: 0.09829092025756836\n",
      "F1 score for climate change 0.7113794141872232\n"
     ]
    }
   ],
   "source": [
    "#Climate\n",
    "f1_clim = svm_stance(twitter_train, twitter_test, ['Climate Change is a Real Concern'])\n",
    "print(\"F1 score for climate change\", f1_clim)"
   ]
  },
  {
   "cell_type": "code",
   "execution_count": 39,
   "metadata": {},
   "outputs": [
    {
     "name": "stdout",
     "output_type": "stream",
     "text": [
      "Training time: 0.9476847648620605\n",
      "Prediction time: 0.28357410430908203\n",
      "F1 score for feminist mov 0.6114419953016443\n"
     ]
    }
   ],
   "source": [
    "#Feminism\n",
    "f1_fem = svm_stance(twitter_train, twitter_test, ['Feminist Movement'])\n",
    "print(\"F1 score for feminist mov\", f1_fem)"
   ]
  },
  {
   "cell_type": "markdown",
   "metadata": {},
   "source": [
    "## Model performance when trained on all topics at once"
   ]
  },
  {
   "cell_type": "code",
   "execution_count": 40,
   "metadata": {},
   "outputs": [
    {
     "name": "stdout",
     "output_type": "stream",
     "text": [
      "Training time: 17.65488910675049\n",
      "Prediction time: 5.21016001701355\n",
      "F1 score for all topics 0.6197205020428517\n"
     ]
    }
   ],
   "source": [
    "#All\n",
    "all_tops = ['Hillary Clinton', 'Legalization of Abortion', 'Climate Change is a Real Concern',\n",
    "           'Feminist Movement', 'Atheism']\n",
    "f1_all = svm_stance(twitter_train, twitter_test, all_tops)\n",
    "print(\"F1 score for all topics\", f1_all)"
   ]
  },
  {
   "cell_type": "code",
   "execution_count": null,
   "metadata": {},
   "outputs": [],
   "source": []
  }
 ],
 "metadata": {
  "kernelspec": {
   "display_name": "Python 3",
   "language": "python",
   "name": "python3"
  },
  "language_info": {
   "codemirror_mode": {
    "name": "ipython",
    "version": 3
   },
   "file_extension": ".py",
   "mimetype": "text/x-python",
   "name": "python",
   "nbconvert_exporter": "python",
   "pygments_lexer": "ipython3",
   "version": "3.6.8"
  }
 },
 "nbformat": 4,
 "nbformat_minor": 2
}
