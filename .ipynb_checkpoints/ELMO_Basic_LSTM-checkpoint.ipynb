{
 "cells": [
  {
   "cell_type": "code",
   "execution_count": 1,
   "metadata": {},
   "outputs": [],
   "source": [
    "import pandas as pd\n",
    "import numpy as np\n",
    "from sklearn.metrics import f1_score\n",
    "import time\n",
    "import re\n",
    "import tensorflow as tf\n",
    "import tensorflow_hub as hub\n",
    "import pickle\n",
    "import os\n",
    "from sklearn.metrics import confusion_matrix, classification_report\n",
    "import matplotlib.pyplot as plt\n",
    "from sklearn.model_selection import GridSearchCV\n",
    "import string\n",
    "%matplotlib inline\n",
    "\n",
    "os.chdir(\"/Users/alexdessouky/Desktop/MIDS/w266\")\n",
    "\n",
    "#load training data\n",
    "twitter_train = pd.read_excel('./w266_final_project/StanceDataset/train.xlsx')\n",
    "\n",
    "#load test data\n",
    "twitter_test = pd.read_excel('./w266_final_project/StanceDataset/test.xlsx')"
   ]
  },
  {
   "cell_type": "code",
   "execution_count": 2,
   "metadata": {},
   "outputs": [
    {
     "data": {
      "text/html": [
       "<div>\n",
       "<style scoped>\n",
       "    .dataframe tbody tr th:only-of-type {\n",
       "        vertical-align: middle;\n",
       "    }\n",
       "\n",
       "    .dataframe tbody tr th {\n",
       "        vertical-align: top;\n",
       "    }\n",
       "\n",
       "    .dataframe thead th {\n",
       "        text-align: right;\n",
       "    }\n",
       "</style>\n",
       "<table border=\"1\" class=\"dataframe\">\n",
       "  <thead>\n",
       "    <tr style=\"text-align: right;\">\n",
       "      <th></th>\n",
       "      <th>Tweet</th>\n",
       "      <th>Target</th>\n",
       "      <th>Stance</th>\n",
       "      <th>Opinion Towards</th>\n",
       "      <th>Sentiment</th>\n",
       "    </tr>\n",
       "  </thead>\n",
       "  <tbody>\n",
       "    <tr>\n",
       "      <td>0</td>\n",
       "      <td>@tedcruz And, #HandOverTheServer she wiped cle...</td>\n",
       "      <td>Hillary Clinton</td>\n",
       "      <td>AGAINST</td>\n",
       "      <td>1.  The tweet explicitly expresses opinion abo...</td>\n",
       "      <td>neg</td>\n",
       "    </tr>\n",
       "    <tr>\n",
       "      <td>1</td>\n",
       "      <td>Hillary is our best choice if we truly want to...</td>\n",
       "      <td>Hillary Clinton</td>\n",
       "      <td>FAVOR</td>\n",
       "      <td>1.  The tweet explicitly expresses opinion abo...</td>\n",
       "      <td>pos</td>\n",
       "    </tr>\n",
       "    <tr>\n",
       "      <td>2</td>\n",
       "      <td>@TheView I think our country is ready for a fe...</td>\n",
       "      <td>Hillary Clinton</td>\n",
       "      <td>AGAINST</td>\n",
       "      <td>1.  The tweet explicitly expresses opinion abo...</td>\n",
       "      <td>neg</td>\n",
       "    </tr>\n",
       "    <tr>\n",
       "      <td>3</td>\n",
       "      <td>I just gave an unhealthy amount of my hard-ear...</td>\n",
       "      <td>Hillary Clinton</td>\n",
       "      <td>AGAINST</td>\n",
       "      <td>1.  The tweet explicitly expresses opinion abo...</td>\n",
       "      <td>neg</td>\n",
       "    </tr>\n",
       "    <tr>\n",
       "      <td>4</td>\n",
       "      <td>@PortiaABoulger Thank you for adding me to you...</td>\n",
       "      <td>Hillary Clinton</td>\n",
       "      <td>NONE</td>\n",
       "      <td>3.  The tweet is not explicitly expressing opi...</td>\n",
       "      <td>pos</td>\n",
       "    </tr>\n",
       "  </tbody>\n",
       "</table>\n",
       "</div>"
      ],
      "text/plain": [
       "                                               Tweet           Target  \\\n",
       "0  @tedcruz And, #HandOverTheServer she wiped cle...  Hillary Clinton   \n",
       "1  Hillary is our best choice if we truly want to...  Hillary Clinton   \n",
       "2  @TheView I think our country is ready for a fe...  Hillary Clinton   \n",
       "3  I just gave an unhealthy amount of my hard-ear...  Hillary Clinton   \n",
       "4  @PortiaABoulger Thank you for adding me to you...  Hillary Clinton   \n",
       "\n",
       "    Stance                                    Opinion Towards Sentiment  \n",
       "0  AGAINST  1.  The tweet explicitly expresses opinion abo...       neg  \n",
       "1    FAVOR  1.  The tweet explicitly expresses opinion abo...       pos  \n",
       "2  AGAINST  1.  The tweet explicitly expresses opinion abo...       neg  \n",
       "3  AGAINST  1.  The tweet explicitly expresses opinion abo...       neg  \n",
       "4     NONE  3.  The tweet is not explicitly expressing opi...       pos  "
      ]
     },
     "execution_count": 2,
     "metadata": {},
     "output_type": "execute_result"
    }
   ],
   "source": [
    "twitter_train.head()"
   ]
  },
  {
   "cell_type": "code",
   "execution_count": 3,
   "metadata": {},
   "outputs": [
    {
     "data": {
      "text/html": [
       "<div>\n",
       "<style scoped>\n",
       "    .dataframe tbody tr th:only-of-type {\n",
       "        vertical-align: middle;\n",
       "    }\n",
       "\n",
       "    .dataframe tbody tr th {\n",
       "        vertical-align: top;\n",
       "    }\n",
       "\n",
       "    .dataframe thead th {\n",
       "        text-align: right;\n",
       "    }\n",
       "</style>\n",
       "<table border=\"1\" class=\"dataframe\">\n",
       "  <thead>\n",
       "    <tr style=\"text-align: right;\">\n",
       "      <th></th>\n",
       "      <th>Tweet</th>\n",
       "      <th>Target</th>\n",
       "      <th>Stance</th>\n",
       "      <th>Opinion Towards</th>\n",
       "      <th>Sentiment</th>\n",
       "    </tr>\n",
       "  </thead>\n",
       "  <tbody>\n",
       "    <tr>\n",
       "      <td>0</td>\n",
       "      <td>He who exalts himself shall      be humbled; a...</td>\n",
       "      <td>Atheism</td>\n",
       "      <td>AGAINST</td>\n",
       "      <td>1.  The tweet explicitly expresses opinion abo...</td>\n",
       "      <td>pos</td>\n",
       "    </tr>\n",
       "    <tr>\n",
       "      <td>1</td>\n",
       "      <td>RT @prayerbullets: I remove Nehushtan -previou...</td>\n",
       "      <td>Atheism</td>\n",
       "      <td>AGAINST</td>\n",
       "      <td>1.  The tweet explicitly expresses opinion abo...</td>\n",
       "      <td>other</td>\n",
       "    </tr>\n",
       "    <tr>\n",
       "      <td>2</td>\n",
       "      <td>@Brainman365 @heidtjj @BenjaminLives I have so...</td>\n",
       "      <td>Atheism</td>\n",
       "      <td>AGAINST</td>\n",
       "      <td>1.  The tweet explicitly expresses opinion abo...</td>\n",
       "      <td>pos</td>\n",
       "    </tr>\n",
       "    <tr>\n",
       "      <td>3</td>\n",
       "      <td>#God is utterly powerless without Human interv...</td>\n",
       "      <td>Atheism</td>\n",
       "      <td>AGAINST</td>\n",
       "      <td>1.  The tweet explicitly expresses opinion abo...</td>\n",
       "      <td>neg</td>\n",
       "    </tr>\n",
       "    <tr>\n",
       "      <td>4</td>\n",
       "      <td>@David_Cameron   Miracles of #Multiculturalism...</td>\n",
       "      <td>Atheism</td>\n",
       "      <td>AGAINST</td>\n",
       "      <td>2. The tweet does NOT expresses opinion about ...</td>\n",
       "      <td>neg</td>\n",
       "    </tr>\n",
       "  </tbody>\n",
       "</table>\n",
       "</div>"
      ],
      "text/plain": [
       "                                               Tweet   Target   Stance  \\\n",
       "0  He who exalts himself shall      be humbled; a...  Atheism  AGAINST   \n",
       "1  RT @prayerbullets: I remove Nehushtan -previou...  Atheism  AGAINST   \n",
       "2  @Brainman365 @heidtjj @BenjaminLives I have so...  Atheism  AGAINST   \n",
       "3  #God is utterly powerless without Human interv...  Atheism  AGAINST   \n",
       "4  @David_Cameron   Miracles of #Multiculturalism...  Atheism  AGAINST   \n",
       "\n",
       "                                     Opinion Towards Sentiment  \n",
       "0  1.  The tweet explicitly expresses opinion abo...       pos  \n",
       "1  1.  The tweet explicitly expresses opinion abo...     other  \n",
       "2  1.  The tweet explicitly expresses opinion abo...       pos  \n",
       "3  1.  The tweet explicitly expresses opinion abo...       neg  \n",
       "4  2. The tweet does NOT expresses opinion about ...       neg  "
      ]
     },
     "execution_count": 3,
     "metadata": {},
     "output_type": "execute_result"
    }
   ],
   "source": [
    "twitter_test.head()"
   ]
  },
  {
   "cell_type": "markdown",
   "metadata": {},
   "source": [
    "## Code for loading full Elmo outputs from pickle files and prepping labelled data"
   ]
  },
  {
   "cell_type": "code",
   "execution_count": 4,
   "metadata": {},
   "outputs": [],
   "source": [
    "# ELMO OUTPUTS\n",
    "with open(\"./ELMO Outputs v.2/elmo_train.pickle\", \"rb\") as f:\n",
    "    train_vectors = pickle.load(f)\n",
    "    \n",
    "with open(\"./ELMO Outputs v.2/elmo_test.pickle\", \"rb\") as f:\n",
    "    test_vectors = pickle.load(f)"
   ]
  },
  {
   "cell_type": "code",
   "execution_count": 5,
   "metadata": {},
   "outputs": [],
   "source": [
    "#PREP LABELS\n",
    "stance_labels_train = np.array(twitter_train['Stance'].apply(lambda x: \n",
    "                                                                    2 if x == \"FAVOR\" else \n",
    "                                                                    (1 if x == \"NONE\" else 0)))\n",
    "\n",
    "stance_labels_test = np.array(twitter_test['Stance'].apply(lambda x: \n",
    "                                                                    2 if x == \"FAVOR\" else \n",
    "                                                                    (1 if x == \"NONE\" else 0)))"
   ]
  },
  {
   "cell_type": "code",
   "execution_count": 6,
   "metadata": {},
   "outputs": [],
   "source": [
    "#PREP LABELS FOR NN\n",
    "train_y = np.zeros(shape = (stance_labels_train.shape[0],3))\n",
    "train_y[stance_labels_train == 0,0] = 1\n",
    "train_y[stance_labels_train == 1,1] = 1\n",
    "train_y[stance_labels_train == 2,2] = 1\n",
    "\n",
    "test_y = np.zeros(shape = (stance_labels_test.shape[0],3))\n",
    "test_y[stance_labels_test == 0,0] = 1\n",
    "test_y[stance_labels_test == 1,1] = 1\n",
    "test_y[stance_labels_test == 2,2] = 1"
   ]
  },
  {
   "cell_type": "code",
   "execution_count": 7,
   "metadata": {},
   "outputs": [],
   "source": [
    "test = np.pad(test_vectors['lstm_outputs1'], pad_width = ((0,0),(0,2),(0,0)), mode = 'mean')"
   ]
  },
  {
   "cell_type": "code",
   "execution_count": 8,
   "metadata": {},
   "outputs": [
    {
     "data": {
      "text/plain": [
       "(1956, 32, 1024)"
      ]
     },
     "execution_count": 8,
     "metadata": {},
     "output_type": "execute_result"
    }
   ],
   "source": [
    "test.shape"
   ]
  },
  {
   "cell_type": "markdown",
   "metadata": {},
   "source": [
    "## Helper function for model performances"
   ]
  },
  {
   "cell_type": "code",
   "execution_count": 9,
   "metadata": {},
   "outputs": [],
   "source": [
    "def confusion_plot(confusion_matrix, target_names):\n",
    "    # Plot confusion matrix (via imshow)\n",
    "    plt.imshow(confusion_matrix, interpolation = \"nearest\", cmap = plt.cm.Blues)\n",
    "    plt.title(\"Confusion matrix\")\n",
    "    plt.colorbar()\n",
    "    tick_marks = np.arange(len(target_names))\n",
    "    plt.xticks(tick_marks, target_names)\n",
    "    plt.yticks(tick_marks, target_names)\n",
    "    plt.tight_layout()\n",
    "\n",
    "    # Loop through each value of the matrix to add data labels\n",
    "    width, height = confusion_matrix.shape\n",
    "    for x in range(width):\n",
    "        for y in range(height):\n",
    "            plt.annotate(str(confusion_matrix[x][y]), xy = (y, x), \n",
    "                        horizontalalignment = \"center\",\n",
    "                        verticalalignment = \"center\")\n",
    "    plt.ylabel(\"True label\")\n",
    "    plt.xlabel(\"Predicted label\")"
   ]
  },
  {
   "cell_type": "code",
   "execution_count": 10,
   "metadata": {},
   "outputs": [
    {
     "name": "stderr",
     "output_type": "stream",
     "text": [
      "WARNING: Logging before flag parsing goes to stderr.\n",
      "W1031 21:52:00.502762 140736218923904 deprecation.py:506] From /Users/alexdessouky/anaconda3/lib/python3.6/site-packages/tensorflow/python/ops/init_ops.py:1251: calling VarianceScaling.__init__ (from tensorflow.python.ops.init_ops) with dtype is deprecated and will be removed in a future version.\n",
      "Instructions for updating:\n",
      "Call initializer instance with the dtype argument instead of passing it to the constructor\n"
     ]
    },
    {
     "name": "stdout",
     "output_type": "stream",
     "text": [
      "Model: \"model\"\n",
      "_________________________________________________________________\n",
      "Layer (type)                 Output Shape              Param #   \n",
      "=================================================================\n",
      "input_numbers (InputLayer)   [(None, 32, 1024)]        0         \n",
      "_________________________________________________________________\n",
      "lstm1 (LSTM)                 (None, 32)                135296    \n",
      "_________________________________________________________________\n",
      "dense1 (Dense)               (None, 100)               3300      \n",
      "_________________________________________________________________\n",
      "dense2 (Dense)               (None, 100)               10100     \n",
      "_________________________________________________________________\n",
      "classification (Dense)       (None, 3)                 303       \n",
      "=================================================================\n",
      "Total params: 148,999\n",
      "Trainable params: 148,999\n",
      "Non-trainable params: 0\n",
      "_________________________________________________________________\n"
     ]
    }
   ],
   "source": [
    "def lstm_model(activation_function_lstm = 'tanh', \n",
    "               activation_function_dense = 'relu',\n",
    "                optimizer='adam', \n",
    "                kernel_initializer=tf.keras.initializers.he_normal(), \n",
    "                bias_initializer='zeros'):\n",
    "    \n",
    "    # Define Input layer(s)\n",
    "    input_vectors = tf.keras.layers.Input(shape=(32,1024), name=\"input_numbers\")\n",
    "    \n",
    "    #define LSTM layter\n",
    "    lstm1 = tf.keras.layers.LSTM(32, \n",
    "                                 input_shape = (32,1024),\n",
    "                                 activation=activation_function_lstm,\n",
    "                                 recurrent_activation=activation_function_lstm,\n",
    "                                 kernel_initializer=kernel_initializer,\n",
    "                                 recurrent_initializer=kernel_initializer,\n",
    "                                 bias_initializer=bias_initializer,\n",
    "                                 name='lstm1')\n",
    "    #run lstm layer 1\n",
    "    lstm_output1 = lstm1(input_vectors)\n",
    "    \n",
    "    \n",
    "    #lstm2 = tf.keras.layers.LSTM(32, \n",
    "    #                            input_shape = (32,1024),\n",
    "    #                            activation=activation_function_lstm,\n",
    "    #                             recurrent_activation=activation_function_lstm,\n",
    "    #                             kernel_initializer=kernel_initializer,\n",
    "    #                             recurrent_initializer=kernel_initializer,\n",
    "    #                             bias_initializer=bias_initializer,\n",
    "    #                             name='lstm2')\n",
    "    \n",
    "    #lstm_output2 = lstm2(lstm_output1)\n",
    "    \n",
    "    \n",
    "    dense1 = tf.keras.layers.Dense(100, \n",
    "                                   activation=activation_function_dense, \n",
    "                                   kernel_initializer=kernel_initializer, \n",
    "                                   bias_initializer=bias_initializer,\n",
    "                                   name='dense1')\n",
    "    \n",
    "    dense1_output1 = dense1(lstm_output1)\n",
    "    \n",
    "    \n",
    "    \n",
    "    dense2 = tf.keras.layers.Dense(100, \n",
    "                                   activation=activation_function_dense, \n",
    "                                   kernel_initializer=kernel_initializer, \n",
    "                                   bias_initializer=bias_initializer,\n",
    "                                   name='dense2') \n",
    "    \n",
    "    dense2_output2 = dense2(dense1_output1)\n",
    "\n",
    "    \n",
    "    #define classification layer (softmax since we have 3 classes)\n",
    "    classification_layer = tf.keras.layers.Dense(3, activation='softmax', name='classification') # layer definition\n",
    "    classification_output = classification_layer(dense2_output2)   # layer acting on previous layer's output\n",
    "\n",
    "    # Build and compile model\n",
    "    lstm_mod = tf.keras.models.Model(input_vectors, classification_output)\n",
    "    \n",
    "    lstm_mod.compile(loss='categorical_crossentropy', optimizer=optimizer, metrics = ['categorical_accuracy'])\n",
    "    \n",
    "    return lstm_mod\n",
    "\n",
    "lstm_mod = lstm_model()\n",
    "lstm_mod.summary()\n",
    "    \n",
    "    "
   ]
  },
  {
   "cell_type": "code",
   "execution_count": 11,
   "metadata": {},
   "outputs": [
    {
     "name": "stdout",
     "output_type": "stream",
     "text": [
      "Epoch 1/20\n",
      "2914/2914 [==============================] - 4s 1ms/sample - loss: 1.0643 - categorical_accuracy: 0.4777\n",
      "Epoch 2/20\n",
      "2914/2914 [==============================] - 3s 1ms/sample - loss: 1.0542 - categorical_accuracy: 0.4787\n",
      "Epoch 3/20\n",
      "2914/2914 [==============================] - 3s 1ms/sample - loss: 1.0538 - categorical_accuracy: 0.4791\n",
      "Epoch 4/20\n",
      "2914/2914 [==============================] - 3s 965us/sample - loss: 1.0507 - categorical_accuracy: 0.4791\n",
      "Epoch 5/20\n",
      "2914/2914 [==============================] - 3s 972us/sample - loss: 1.0416 - categorical_accuracy: 0.4791\n",
      "Epoch 6/20\n",
      "2914/2914 [==============================] - 3s 951us/sample - loss: 1.0213 - categorical_accuracy: 0.4811\n",
      "Epoch 7/20\n",
      "2914/2914 [==============================] - 3s 955us/sample - loss: 0.9855 - categorical_accuracy: 0.5051\n",
      "Epoch 8/20\n",
      "2914/2914 [==============================] - 3s 1ms/sample - loss: 0.9562 - categorical_accuracy: 0.5340\n",
      "Epoch 9/20\n",
      "2914/2914 [==============================] - 3s 913us/sample - loss: 0.9082 - categorical_accuracy: 0.5638\n",
      "Epoch 10/20\n",
      "2914/2914 [==============================] - 3s 953us/sample - loss: 0.9106 - categorical_accuracy: 0.5604\n",
      "Epoch 11/20\n",
      "2914/2914 [==============================] - 3s 940us/sample - loss: 0.8956 - categorical_accuracy: 0.5710\n",
      "Epoch 12/20\n",
      "2914/2914 [==============================] - 3s 972us/sample - loss: 0.8500 - categorical_accuracy: 0.5927\n",
      "Epoch 13/20\n",
      "2914/2914 [==============================] - 3s 945us/sample - loss: 0.8733 - categorical_accuracy: 0.5655\n",
      "Epoch 14/20\n",
      "2914/2914 [==============================] - 3s 945us/sample - loss: 0.7965 - categorical_accuracy: 0.6170\n",
      "Epoch 15/20\n",
      "2914/2914 [==============================] - 3s 979us/sample - loss: 0.7864 - categorical_accuracy: 0.6225\n",
      "Epoch 16/20\n",
      "2914/2914 [==============================] - 3s 1ms/sample - loss: 0.7940 - categorical_accuracy: 0.6156\n",
      "Epoch 17/20\n",
      "2914/2914 [==============================] - 3s 1ms/sample - loss: 0.7763 - categorical_accuracy: 0.6352\n",
      "Epoch 18/20\n",
      "2914/2914 [==============================] - 3s 1ms/sample - loss: 0.7220 - categorical_accuracy: 0.6565\n",
      "Epoch 19/20\n",
      "2914/2914 [==============================] - 3s 1ms/sample - loss: 0.7198 - categorical_accuracy: 0.6510\n",
      "Epoch 20/20\n",
      "2914/2914 [==============================] - 3s 1ms/sample - loss: 0.6903 - categorical_accuracy: 0.6603\n"
     ]
    },
    {
     "data": {
      "text/plain": [
       "<tensorflow.python.keras.callbacks.History at 0x1a42856400>"
      ]
     },
     "execution_count": 11,
     "metadata": {},
     "output_type": "execute_result"
    }
   ],
   "source": [
    "#default_train = train_vectors['default'].reshape(2914, 1, 1024)\n",
    "#default_test = test_vectors['default'].reshape(1956,1,1024)\n",
    "lstm_mod.fit(\n",
    "        train_vectors['lstm_outputs1'],\n",
    "        train_y,\n",
    "        epochs=20,\n",
    "        verbose=1)"
   ]
  },
  {
   "cell_type": "code",
   "execution_count": 12,
   "metadata": {},
   "outputs": [
    {
     "data": {
      "text/plain": [
       "array([[1.0365667e-01, 2.9868767e-01, 5.9765565e-01],\n",
       "       [9.9814320e-01, 1.0549371e-04, 1.7512687e-03],\n",
       "       [2.5744680e-01, 4.6923023e-01, 2.7332303e-01],\n",
       "       ...,\n",
       "       [6.2988502e-01, 9.4532825e-02, 2.7558219e-01],\n",
       "       [8.4295434e-01, 5.3453945e-02, 1.0359170e-01],\n",
       "       [9.8923433e-01, 2.1134689e-03, 8.6522372e-03]], dtype=float32)"
      ]
     },
     "execution_count": 12,
     "metadata": {},
     "output_type": "execute_result"
    }
   ],
   "source": [
    "outs = lstm_mod.predict(test)\n",
    "outs"
   ]
  },
  {
   "cell_type": "code",
   "execution_count": 13,
   "metadata": {},
   "outputs": [
    {
     "data": {
      "text/plain": [
       "(1956, 3)"
      ]
     },
     "execution_count": 13,
     "metadata": {},
     "output_type": "execute_result"
    }
   ],
   "source": [
    "outs.shape"
   ]
  },
  {
   "cell_type": "code",
   "execution_count": 14,
   "metadata": {},
   "outputs": [],
   "source": [
    "test_predicts = np.argmax(outs, axis = 1)"
   ]
  },
  {
   "cell_type": "code",
   "execution_count": 15,
   "metadata": {},
   "outputs": [
    {
     "data": {
      "text/plain": [
       "array([0, 0, 0, ..., 2, 0, 1])"
      ]
     },
     "execution_count": 15,
     "metadata": {},
     "output_type": "execute_result"
    }
   ],
   "source": [
    "stance_labels_test"
   ]
  },
  {
   "cell_type": "code",
   "execution_count": 16,
   "metadata": {},
   "outputs": [
    {
     "data": {
      "text/plain": [
       "0.3300864822238476"
      ]
     },
     "execution_count": 16,
     "metadata": {},
     "output_type": "execute_result"
    }
   ],
   "source": [
    "f1_score(stance_labels_test, test_predicts, average = 'macro')"
   ]
  },
  {
   "cell_type": "code",
   "execution_count": null,
   "metadata": {},
   "outputs": [],
   "source": []
  }
 ],
 "metadata": {
  "kernelspec": {
   "display_name": "Python 3",
   "language": "python",
   "name": "python3"
  },
  "language_info": {
   "codemirror_mode": {
    "name": "ipython",
    "version": 3
   },
   "file_extension": ".py",
   "mimetype": "text/x-python",
   "name": "python",
   "nbconvert_exporter": "python",
   "pygments_lexer": "ipython3",
   "version": "3.6.8"
  }
 },
 "nbformat": 4,
 "nbformat_minor": 2
}
