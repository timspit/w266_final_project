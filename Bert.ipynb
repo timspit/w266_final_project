{
 "cells": [
  {
   "cell_type": "markdown",
   "metadata": {},
   "source": [
    "## Setup"
   ]
  },
  {
   "cell_type": "code",
   "execution_count": 7,
   "metadata": {},
   "outputs": [],
   "source": [
    "#imports\n",
    "import pandas as pd\n",
    "import numpy as np\n",
    "from sklearn.metrics import f1_score\n",
    "import time\n",
    "import re\n",
    "import tensorflow as tf\n",
    "import tensorflow_hub as hub\n",
    "import os\n",
    "from sklearn.metrics import confusion_matrix, classification_report\n",
    "import matplotlib.pyplot as plt\n",
    "import string\n",
    "import sys\n",
    "from datetime import datetime\n",
    "from sklearn.utils.class_weight import compute_class_weight\n",
    "\n",
    "\n",
    "from tensorflow.keras import backend as K\n",
    "from tensorflow.keras import layers\n",
    "from tensorflow.python.keras.layers import Lambda\n",
    "from tensorflow.keras.callbacks import TensorBoard\n",
    "from tensorflow.keras.backend import sparse_categorical_crossentropy\n",
    "from tensorflow.keras.layers import Dense, TimeDistributed\n",
    "from datetime import datetime\n",
    "\n",
    "%matplotlib inline\n",
    "\n",
    "#set working directory\n",
    "# os.chdir(\"/Users/alexdessouky/Desktop/MIDS/w266\")\n",
    "\n",
    "#load training data\n",
    "twitter_train = pd.read_excel('./StanceDataset/train.xlsx')\n",
    "train_x = twitter_train['Tweet']\n",
    "train_y = twitter_train['Stance']\n",
    "\n",
    "\n",
    "#load test data\n",
    "twitter_test = pd.read_excel('./StanceDataset/test.xlsx')\n",
    "test_x = twitter_test['Tweet']\n",
    "test_y = twitter_test['Stance']"
   ]
  },
  {
   "cell_type": "code",
   "execution_count": 11,
   "metadata": {},
   "outputs": [],
   "source": [
    "#store the paths to bert & data\n",
    "# local_bert_path =   '/Users/alexdessouky/Desktop/MIDS/w266/bert' \n",
    "# data_path = '/Users/alexdessouky/Desktop/MIDS/w266/w266_final_project/StanceDataset'  \n",
    "bert_path = r'/home/timspittle/w266_final_project/bert/'\n",
    "\n",
    "now = datetime.now() # current date and time\n",
    "\n",
    "# make sure that the paths are accessible within the notebook\n",
    "sys.path.insert(0,bert_path)\n",
    "# sys.path.insert(0,data_path)"
   ]
  },
  {
   "cell_type": "code",
   "execution_count": 12,
   "metadata": {},
   "outputs": [
    {
     "name": "stdout",
     "output_type": "stream",
     "text": [
      "WARNING:tensorflow:From /home/timspittle/w266_final_project/bert/optimization.py:87: The name tf.train.Optimizer is deprecated. Please use tf.compat.v1.train.Optimizer instead.\n",
      "\n"
     ]
    }
   ],
   "source": [
    "import optimization\n",
    "import run_classifier\n",
    "import tokenization\n",
    "import run_classifier_with_tfhub\n",
    "\n",
    "# Tensorflow hub path to BERT module of choice\n",
    "bert_url = \"https://tfhub.dev/google/bert_cased_L-12_H-768_A-12/1\"\n",
    "\n",
    "# Define maximal length of input 'sentences' (post tokenization).\n",
    "max_length = 83"
   ]
  },
  {
   "cell_type": "markdown",
   "metadata": {},
   "source": [
    "## Bert tokenizer"
   ]
  },
  {
   "cell_type": "code",
   "execution_count": 13,
   "metadata": {},
   "outputs": [
    {
     "name": "stdout",
     "output_type": "stream",
     "text": [
      "INFO:tensorflow:Saver not created because there are no variables in the graph to restore\n"
     ]
    },
    {
     "name": "stderr",
     "output_type": "stream",
     "text": [
      "INFO:tensorflow:Saver not created because there are no variables in the graph to restore\n"
     ]
    },
    {
     "name": "stdout",
     "output_type": "stream",
     "text": [
      "WARNING:tensorflow:From /home/timspittle/w266_final_project/bert/tokenization.py:125: The name tf.gfile.GFile is deprecated. Please use tf.io.gfile.GFile instead.\n",
      "\n"
     ]
    },
    {
     "name": "stderr",
     "output_type": "stream",
     "text": [
      "WARNING:tensorflow:From /home/timspittle/w266_final_project/bert/tokenization.py:125: The name tf.gfile.GFile is deprecated. Please use tf.io.gfile.GFile instead.\n",
      "\n"
     ]
    }
   ],
   "source": [
    "def create_tokenizer_from_hub_module():\n",
    "    \"\"\"Get the vocab file and casing info from the Hub module.\"\"\"\n",
    "    with tf.Graph().as_default():\n",
    "        bert_module = hub.Module(bert_url)\n",
    "        tokenization_info = bert_module(signature=\"tokenization_info\", as_dict=True)\n",
    "        with tf.Session() as sess:\n",
    "            vocab_file, do_lower_case = sess.run([tokenization_info[\"vocab_file\"],\n",
    "                                            tokenization_info[\"do_lower_case\"]])\n",
    "      \n",
    "    return tokenization.FullTokenizer(\n",
    "      vocab_file=vocab_file, do_lower_case=do_lower_case)\n",
    "\n",
    "tokenizer = create_tokenizer_from_hub_module()"
   ]
  },
  {
   "cell_type": "markdown",
   "metadata": {},
   "source": [
    "## Pre-Process Data"
   ]
  },
  {
   "cell_type": "code",
   "execution_count": 14,
   "metadata": {},
   "outputs": [],
   "source": [
    "#create tokens surrounded by the [CLS] and [SEP] tokens\n",
    "train_tokens = train_x.apply(lambda x: ['[CLS]'] + tokenizer.tokenize(x) + ['[SEP]'])\n",
    "test_tokens = test_x.apply(lambda x: ['[CLS]'] + tokenizer.tokenize(x) + ['[SEP]'])\n",
    "\n",
    "#mask ids (mask out the paddings)\n",
    "train_mask_ids = train_tokens.apply(lambda x: len(x)*[1])\n",
    "test_mask_ids = test_tokens.apply(lambda x: len(x)*[1])\n",
    "\n",
    "train_mask_ids = train_mask_ids.apply(lambda x: np.array(x + (max_length - len(x)) * [0]) if len(x) < max_length else \n",
    "                                      np.array(x)).tolist()\n",
    "test_mask_ids = test_mask_ids.apply(lambda x: np.array(x + (max_length - len(x)) * [0]) if len(x) < max_length else \n",
    "                                    np.array(x)).tolist()\n",
    "\n",
    "#add padding to tokens\n",
    "train_tokens = train_tokens.apply(lambda x: x + (max_length - len(x)) * ['[PAD]'] if len(x) < max_length else x)\n",
    "test_tokens = test_tokens.apply(lambda x: x + (max_length - len(x)) * ['[PAD]'] if len(x) < max_length else x)\n",
    "\n",
    "#test/train sequence vectors\n",
    "train_sequenceids = train_tokens.apply(lambda x: np.array(max_length*[0])).tolist()\n",
    "test_sequenceids = test_tokens.apply(lambda x: np.array(max_length*[0])).tolist()\n",
    "\n",
    "#convert tokens to sentence ids\n",
    "train_sentenceids = train_tokens.apply(lambda x: np.array(tokenizer.convert_tokens_to_ids(x))).tolist()\n",
    "test_sentenceids = test_tokens.apply(lambda x: np.array(tokenizer.convert_tokens_to_ids(x))).tolist()\n",
    "\n",
    "#bert features\n",
    "bert_train = [np.array(train_sentenceids),np.array(train_mask_ids),np.array(train_sequenceids)]\n",
    "bert_test = [np.array(test_sentenceids),np.array(test_mask_ids),np.array(test_sequenceids)]\n",
    "\n",
    "#labels\n",
    "stance_labels_train = np.array(twitter_train['Stance'].apply(lambda x: \n",
    "                                                                    2 if x == \"FAVOR\" else \n",
    "                                                                    (1 if x == \"NONE\" else 0)))\n",
    "\n",
    "stance_labels_test = np.array(twitter_test['Stance'].apply(lambda x: \n",
    "                                                                    2 if x == \"FAVOR\" else \n",
    "                                                                    (1 if x == \"NONE\" else 0)))\n",
    "\n",
    "            \n",
    "\n",
    "#PREP LABELS FOR NN\n",
    "train_y = np.zeros(shape = (stance_labels_train.shape[0],3))\n",
    "train_y[stance_labels_train == 0,0] = 1\n",
    "train_y[stance_labels_train == 1,1] = 1\n",
    "train_y[stance_labels_train == 2,2] = 1\n",
    "\n",
    "test_y = np.zeros(shape = (stance_labels_test.shape[0],3))\n",
    "test_y[stance_labels_test == 0,0] = 1\n",
    "test_y[stance_labels_test == 1,1] = 1\n",
    "test_y[stance_labels_test == 2,2] = 1"
   ]
  },
  {
   "cell_type": "markdown",
   "metadata": {},
   "source": [
    "## Function to obtain a subset of the data"
   ]
  },
  {
   "cell_type": "code",
   "execution_count": 15,
   "metadata": {},
   "outputs": [],
   "source": [
    "def topic_subset(topic_list):\n",
    "        \n",
    "    #convert topic list to lower case\n",
    "    for i in range(0,len(topic_list)):\n",
    "        topic_list[i] = topic_list[i].lower()\n",
    "    \n",
    "    #find boolean series of all rows pertaining to the relevant topics\n",
    "    matches_train = twitter_train['Target'].apply(lambda x: x.lower() in topic_list)\n",
    "    matches_test = twitter_test['Target'].apply(lambda x: x.lower() in topic_list)\n",
    "    \n",
    "    #subset labels\n",
    "    train_y_sub = train_y[matches_train,:]\n",
    "    test_y_sub = test_y[matches_test,:]\n",
    "    \n",
    "    \n",
    "    #initialize bert training lists for subsetting\n",
    "    bert_train_sub = []\n",
    "    bert_test_sub = []\n",
    "    \n",
    "    for train_input in bert_train:\n",
    "        bert_train_sub.append(train_input[matches_train,:])\n",
    "        \n",
    "    for test_input in bert_test:\n",
    "        bert_test_sub.append(test_input[matches_test,:])\n",
    "        \n",
    "    #also need to return the test labels in this format for metrics\n",
    "    true_labels = stance_labels_test[matches_test]\n",
    "    \n",
    "    return bert_train_sub, train_y_sub, bert_test_sub, test_y_sub, true_labels"
   ]
  },
  {
   "cell_type": "markdown",
   "metadata": {},
   "source": [
    "## Functions to Run Metrics"
   ]
  },
  {
   "cell_type": "code",
   "execution_count": 16,
   "metadata": {},
   "outputs": [],
   "source": [
    "def confusion_plot(confusion_matrix, target_names):\n",
    "    # Plot confusion matrix (via imshow)\n",
    "    plt.imshow(confusion_matrix, interpolation = \"nearest\", cmap = plt.cm.Blues)\n",
    "    plt.title(\"Confusion matrix\")\n",
    "    plt.colorbar()\n",
    "    tick_marks = np.arange(len(target_names))\n",
    "    plt.xticks(tick_marks, target_names)\n",
    "    plt.yticks(tick_marks, target_names)\n",
    "    plt.tight_layout()\n",
    "\n",
    "    # Loop through each value of the matrix to add data labels\n",
    "    width, height = confusion_matrix.shape\n",
    "    for x in range(width):\n",
    "        for y in range(height):\n",
    "            plt.annotate(str(confusion_matrix[x][y]), xy = (y, x), \n",
    "                        horizontalalignment = \"center\",\n",
    "                        verticalalignment = \"center\")\n",
    "    plt.ylabel(\"True label\")\n",
    "    \n",
    "def metrics(true_labels, test_probs):\n",
    "    \n",
    "    #find predicted labels\n",
    "    test_predicts = np.argmax(test_probs, axis = 1)\n",
    "    \n",
    "    #calculate f1 score\n",
    "    f1 = f1_score(true_labels, test_predicts, average = 'macro')\n",
    "    \n",
    "    print(\"F1 macro score:\", f1)\n",
    "    \n",
    "    print(classification_report(y_true = true_labels, \n",
    "                                        y_pred = test_predicts,\n",
    "                                        target_names = ['Against', 'None', 'Favor']))\n",
    "    \n",
    "    confuse = confusion_matrix(y_true = true_labels, y_pred = test_predicts)\n",
    "    \n",
    "    plt.figure(figsize=(15, 5))\n",
    "    confusion_plot(confuse, ['Against', 'None', 'Favor'])\n",
    "    plt.show()"
   ]
  },
  {
   "cell_type": "markdown",
   "metadata": {},
   "source": [
    "## Custom layer to create Bert"
   ]
  },
  {
   "cell_type": "code",
   "execution_count": 17,
   "metadata": {},
   "outputs": [],
   "source": [
    "class BertLayer(tf.keras.layers.Layer):\n",
    "    def __init__(self, n_fine_tune_layers=10, **kwargs):\n",
    "        self.n_fine_tune_layers = n_fine_tune_layers\n",
    "        self.trainable = True\n",
    "        self.output_size = 768\n",
    "        super(BertLayer, self).__init__(**kwargs)\n",
    "\n",
    "    def build(self, input_shape):\n",
    "        self.bert = hub.Module(\n",
    "            bert_url,\n",
    "            trainable=self.trainable,\n",
    "            name=\"{}_module\".format(self.name)\n",
    "        )\n",
    "        trainable_vars = self.bert.variables\n",
    "        \n",
    "        # Remove unused layers\n",
    "        trainable_vars = [var for var in trainable_vars if not \"/cls/\" in var.name]\n",
    "        \n",
    "        # Select how many layers to fine tune\n",
    "        trainable_vars = trainable_vars[-self.n_fine_tune_layers :]\n",
    "        \n",
    "        # Add to trainable weights\n",
    "        for var in trainable_vars:\n",
    "            self._trainable_weights.append(var)\n",
    "        \n",
    "        # Add non-trainable weights\n",
    "        for var in self.bert.variables:\n",
    "            if var not in self._trainable_weights:\n",
    "                self._non_trainable_weights.append(var)\n",
    "        \n",
    "        super(BertLayer, self).build(input_shape)\n",
    "\n",
    "    def call(self, inputs):\n",
    "        inputs = [K.cast(x, dtype=\"int32\") for x in inputs]\n",
    "        input_ids, input_mask, segment_ids = inputs\n",
    "        bert_inputs = dict(\n",
    "            input_ids=input_ids, input_mask=input_mask, segment_ids=segment_ids\n",
    "        )\n",
    "        result = self.bert(inputs=bert_inputs, signature=\"tokens\", as_dict=True)[\n",
    "            \"pooled_output\"\n",
    "        ]\n",
    "        return result\n",
    "\n",
    "    def compute_output_shape(self, input_shape):\n",
    "        return (input_shape[0], self.output_size)"
   ]
  },
  {
   "cell_type": "code",
   "execution_count": 18,
   "metadata": {},
   "outputs": [],
   "source": [
    "class BertLayer2(tf.keras.layers.Layer):\n",
    "    def __init__(self, n_fine_tune_layers=10, **kwargs):\n",
    "        self.n_fine_tune_layers = n_fine_tune_layers\n",
    "        self.trainable = True\n",
    "        self.output_size = 768\n",
    "        super(BertLayer2, self).__init__(**kwargs)\n",
    "\n",
    "    def build(self, input_shape):\n",
    "        self.bert = hub.Module(\n",
    "            bert_url,\n",
    "            trainable=self.trainable,\n",
    "            name=\"{}_module\".format(self.name)\n",
    "        )\n",
    "        trainable_vars = self.bert.variables\n",
    "        \n",
    "        # Remove unused layers\n",
    "        trainable_vars = [var for var in trainable_vars if not \"/cls/\" in var.name and not \"/pooler/\" in var.name]\n",
    "        \n",
    "        # Select how many layers to fine tune\n",
    "        trainable_vars = trainable_vars[-self.n_fine_tune_layers :]\n",
    "        \n",
    "        # Add to trainable weights\n",
    "        for var in trainable_vars:\n",
    "            self._trainable_weights.append(var)\n",
    "        \n",
    "        # Add non-trainable weights\n",
    "        for var in self.bert.variables:\n",
    "            if var not in self._trainable_weights:\n",
    "                self._non_trainable_weights.append(var)\n",
    "        \n",
    "        super(BertLayer2, self).build(input_shape)\n",
    "\n",
    "    def call(self, inputs):\n",
    "        inputs = [K.cast(x, dtype=\"int32\") for x in inputs]\n",
    "        input_ids, input_mask, segment_ids = inputs\n",
    "        bert_inputs = dict(\n",
    "            input_ids=input_ids, input_mask=input_mask, segment_ids=segment_ids\n",
    "        )\n",
    "        result = self.bert(inputs=bert_inputs, signature=\"tokens\", as_dict=True)[\n",
    "            \"sequence_output\"\n",
    "        ]\n",
    "        \n",
    "        mul_mask = lambda x, m: x * tf.expand_dims(m, axis=-1)\n",
    "        \n",
    "        return result\n",
    "\n",
    "    def compute_output_shape(self, input_shape):\n",
    "        return (input_shape[0], self.output_size)"
   ]
  },
  {
   "cell_type": "markdown",
   "metadata": {},
   "source": [
    "## Define Model"
   ]
  },
  {
   "cell_type": "code",
   "execution_count": 19,
   "metadata": {},
   "outputs": [],
   "source": [
    "def bert_model(max_length, train_layers, optimizer = tf.keras.optimizers.Adam(learning_rate=0.1)):\n",
    "    \n",
    "    in_id = tf.keras.layers.Input(shape=(max_length,), name=\"input_ids\")\n",
    "    in_mask = tf.keras.layers.Input(shape=(max_length,), name=\"input_masks\")\n",
    "    in_segment = tf.keras.layers.Input(shape=(max_length,), name=\"segment_ids\")\n",
    "    \n",
    "    \n",
    "    bert_inputs = [in_id, in_mask, in_segment]\n",
    "    \n",
    "    bert_sequence = BertLayer(n_fine_tune_layers=train_layers)(bert_inputs)\n",
    "    \n",
    "    dropout1= tf.keras.layers.Dropout(rate=0.8)(bert_sequence)\n",
    "    \n",
    "    dense1 = tf.keras.layers.Dense(256, activation='relu', name='dense1')(dropout1)\n",
    "    \n",
    "    dropout2 = tf.keras.layers.Dropout(rate=0.8)(dense1)\n",
    "    \n",
    "    #dense2 = tf.keras.layers.Dense(64, activation='relu', name='dense2')(dropout2)\n",
    "    \n",
    "    #dropout3 = tf.keras.layers.Dropout(rate=0.5)(dense2)\n",
    "    \n",
    "    #dense3 = tf.keras.layers.Dense(16, activation='relu', name='dense3')(dropout3)\n",
    "    \n",
    "    #dropout4 = tf.keras.layers.Dropout(rate=0.5)(dense3)\n",
    "    \n",
    "    pred = tf.keras.layers.Dense(3, activation='softmax', name='classification')(dropout2)\n",
    "    \n",
    "    model = tf.keras.models.Model(inputs=bert_inputs, outputs=pred)\n",
    "\n",
    "    model.compile(loss='categorical_crossentropy', optimizer=optimizer, metrics = ['categorical_accuracy'])\n",
    "    \n",
    "    model.summary()\n",
    "    \n",
    "    return model\n",
    "\n",
    "def initialize_vars(sess):\n",
    "    sess.run(tf.local_variables_initializer())\n",
    "    sess.run(tf.global_variables_initializer())\n",
    "    sess.run(tf.tables_initializer())\n",
    "    K.set_session(sess)"
   ]
  },
  {
   "cell_type": "code",
   "execution_count": 20,
   "metadata": {},
   "outputs": [],
   "source": [
    "def bert_model_2(max_length, train_layers, optimizer = tf.keras.optimizers.Adam(learning_rate=0.1)):\n",
    "    \n",
    "    in_id = tf.keras.layers.Input(shape=(max_length,), name=\"input_ids\")\n",
    "    in_mask = tf.keras.layers.Input(shape=(max_length,), name=\"input_masks\")\n",
    "    in_segment = tf.keras.layers.Input(shape=(max_length,), name=\"segment_ids\")\n",
    "    \n",
    "    \n",
    "    bert_inputs = [in_id, in_mask, in_segment]\n",
    "    \n",
    "    bert_sequence = BertLayer2(n_fine_tune_layers=train_layers)(bert_inputs)\n",
    "    \n",
    "    dropout1= tf.keras.layers.Dropout(rate=0.8)(bert_sequence)\n",
    "    \n",
    "    lstm1 = tf.keras.layers.LSTM(128, input_shape = (83, 786),\n",
    "                         #kernel_initializer = keras.initializers.he_normal(),\n",
    "                         #recurrent_initializer = keras.initializers.he_normal(),\n",
    "                         #bias_initializer = keras.initializers.he_normal(),\n",
    "                         name='lstm1')(dropout1)\n",
    "    \n",
    "    dense1 = tf.keras.layers.Dense(64, activation='relu', kernel_initializer = tf.keras.initializers.he_normal(), \n",
    "                                   name='dense1')(lstm1)\n",
    "    \n",
    "    dropout2 = tf.keras.layers.Dropout(rate=0.8)(dense1)\n",
    "    \n",
    "    \n",
    "    #dense2 = tf.keras.layers.Dense(64, activation='relu', name='dense2')(dropout2)\n",
    "    \n",
    "    #dropout3 = tf.keras.layers.Dropout(rate=0.5)(dense2)\n",
    "    \n",
    "    #dense3 = tf.keras.layers.Dense(16, activation='relu', name='dense3')(dropout3)\n",
    "    \n",
    "    #dropout4 = tf.keras.layers.Dropout(rate=0.5)(dense3)\n",
    "    \n",
    "    pred = tf.keras.layers.Dense(3, activation='softmax', name='classification')(dropout2)\n",
    "    \n",
    "    model = tf.keras.models.Model(inputs=bert_inputs, outputs=pred)\n",
    "\n",
    "    model.compile(loss='categorical_crossentropy', optimizer=optimizer, metrics = ['categorical_accuracy'])\n",
    "    \n",
    "    model.summary()\n",
    "    \n",
    "    return model\n",
    "\n",
    "def initialize_vars(sess):\n",
    "    sess.run(tf.local_variables_initializer())\n",
    "    sess.run(tf.global_variables_initializer())\n",
    "    sess.run(tf.tables_initializer())\n",
    "    K.set_session(sess)"
   ]
  },
  {
   "cell_type": "markdown",
   "metadata": {},
   "source": [
    "## Atheism"
   ]
  },
  {
   "cell_type": "code",
   "execution_count": 26,
   "metadata": {},
   "outputs": [
    {
     "name": "stdout",
     "output_type": "stream",
     "text": [
      "INFO:tensorflow:Saver not created because there are no variables in the graph to restore\n"
     ]
    },
    {
     "name": "stderr",
     "output_type": "stream",
     "text": [
      "INFO:tensorflow:Saver not created because there are no variables in the graph to restore\n"
     ]
    },
    {
     "name": "stdout",
     "output_type": "stream",
     "text": [
      "WARNING:tensorflow:Large dropout rate: 0.8 (>0.5). In TensorFlow 2.x, dropout() uses dropout rate instead of keep_prob. Please ensure that this is intended.\n"
     ]
    },
    {
     "name": "stderr",
     "output_type": "stream",
     "text": [
      "WARNING:tensorflow:Large dropout rate: 0.8 (>0.5). In TensorFlow 2.x, dropout() uses dropout rate instead of keep_prob. Please ensure that this is intended.\n"
     ]
    },
    {
     "name": "stdout",
     "output_type": "stream",
     "text": [
      "Model: \"model_2\"\n",
      "__________________________________________________________________________________________________\n",
      "Layer (type)                    Output Shape         Param #     Connected to                     \n",
      "==================================================================================================\n",
      "input_ids (InputLayer)          [(None, 83)]         0                                            \n",
      "__________________________________________________________________________________________________\n",
      "input_masks (InputLayer)        [(None, 83)]         0                                            \n",
      "__________________________________________________________________________________________________\n",
      "segment_ids (InputLayer)        [(None, 83)]         0                                            \n",
      "__________________________________________________________________________________________________\n",
      "bert_layer_2 (BertLayer)        (None, 768)          108931396   input_ids[0][0]                  \n",
      "                                                                 input_masks[0][0]                \n",
      "                                                                 segment_ids[0][0]                \n",
      "__________________________________________________________________________________________________\n",
      "dropout_4 (Dropout)             (None, 768)          0           bert_layer_2[0][0]               \n",
      "__________________________________________________________________________________________________\n",
      "dense1 (Dense)                  (None, 256)          196864      dropout_4[0][0]                  \n",
      "__________________________________________________________________________________________________\n",
      "dropout_5 (Dropout)             (None, 256)          0           dense1[0][0]                     \n",
      "__________________________________________________________________________________________________\n",
      "classification (Dense)          (None, 3)            771         dropout_5[0][0]                  \n",
      "==================================================================================================\n",
      "Total params: 109,129,031\n",
      "Trainable params: 6,693,379\n",
      "Non-trainable params: 102,435,652\n",
      "__________________________________________________________________________________________________\n",
      "Train on 410 samples, validate on 103 samples\n",
      "Epoch 1/12\n",
      "410/410 - 31s - loss: 3.7479 - categorical_accuracy: 0.3195 - val_loss: 0.8464 - val_categorical_accuracy: 0.0777\n",
      "Epoch 2/12\n"
     ]
    },
    {
     "ename": "KeyboardInterrupt",
     "evalue": "",
     "output_type": "error",
     "traceback": [
      "\u001b[0;31m---------------------------------------------------------------------------\u001b[0m",
      "\u001b[0;31mKeyboardInterrupt\u001b[0m                         Traceback (most recent call last)",
      "\u001b[0;32m<ipython-input-26-8efa052bc1b4>\u001b[0m in \u001b[0;36m<module>\u001b[0;34m\u001b[0m\n\u001b[1;32m     22\u001b[0m     \u001b[0mverbose\u001b[0m\u001b[0;34m=\u001b[0m\u001b[0;36m2\u001b[0m\u001b[0;34m,\u001b[0m\u001b[0;34m\u001b[0m\u001b[0;34m\u001b[0m\u001b[0m\n\u001b[1;32m     23\u001b[0m     \u001b[0mbatch_size\u001b[0m\u001b[0;34m=\u001b[0m\u001b[0;36m32\u001b[0m\u001b[0;34m,\u001b[0m\u001b[0;34m\u001b[0m\u001b[0;34m\u001b[0m\u001b[0m\n\u001b[0;32m---> 24\u001b[0;31m     class_weight = weights)\n\u001b[0m",
      "\u001b[0;32m~/.local/lib/python3.7/site-packages/tensorflow/python/keras/engine/training.py\u001b[0m in \u001b[0;36mfit\u001b[0;34m(self, x, y, batch_size, epochs, verbose, callbacks, validation_split, validation_data, shuffle, class_weight, sample_weight, initial_epoch, steps_per_epoch, validation_steps, validation_freq, max_queue_size, workers, use_multiprocessing, **kwargs)\u001b[0m\n\u001b[1;32m    778\u001b[0m           \u001b[0mvalidation_steps\u001b[0m\u001b[0;34m=\u001b[0m\u001b[0mvalidation_steps\u001b[0m\u001b[0;34m,\u001b[0m\u001b[0;34m\u001b[0m\u001b[0;34m\u001b[0m\u001b[0m\n\u001b[1;32m    779\u001b[0m           \u001b[0mvalidation_freq\u001b[0m\u001b[0;34m=\u001b[0m\u001b[0mvalidation_freq\u001b[0m\u001b[0;34m,\u001b[0m\u001b[0;34m\u001b[0m\u001b[0;34m\u001b[0m\u001b[0m\n\u001b[0;32m--> 780\u001b[0;31m           steps_name='steps_per_epoch')\n\u001b[0m\u001b[1;32m    781\u001b[0m \u001b[0;34m\u001b[0m\u001b[0m\n\u001b[1;32m    782\u001b[0m   def evaluate(self,\n",
      "\u001b[0;32m~/.local/lib/python3.7/site-packages/tensorflow/python/keras/engine/training_arrays.py\u001b[0m in \u001b[0;36mmodel_iteration\u001b[0;34m(model, inputs, targets, sample_weights, batch_size, epochs, verbose, callbacks, val_inputs, val_targets, val_sample_weights, shuffle, initial_epoch, steps_per_epoch, validation_steps, validation_freq, mode, validation_in_fit, prepared_feed_values_from_dataset, steps_name, **kwargs)\u001b[0m\n\u001b[1;32m    361\u001b[0m \u001b[0;34m\u001b[0m\u001b[0m\n\u001b[1;32m    362\u001b[0m         \u001b[0;31m# Get outputs.\u001b[0m\u001b[0;34m\u001b[0m\u001b[0;34m\u001b[0m\u001b[0;34m\u001b[0m\u001b[0m\n\u001b[0;32m--> 363\u001b[0;31m         \u001b[0mbatch_outs\u001b[0m \u001b[0;34m=\u001b[0m \u001b[0mf\u001b[0m\u001b[0;34m(\u001b[0m\u001b[0mins_batch\u001b[0m\u001b[0;34m)\u001b[0m\u001b[0;34m\u001b[0m\u001b[0;34m\u001b[0m\u001b[0m\n\u001b[0m\u001b[1;32m    364\u001b[0m         \u001b[0;32mif\u001b[0m \u001b[0;32mnot\u001b[0m \u001b[0misinstance\u001b[0m\u001b[0;34m(\u001b[0m\u001b[0mbatch_outs\u001b[0m\u001b[0;34m,\u001b[0m \u001b[0mlist\u001b[0m\u001b[0;34m)\u001b[0m\u001b[0;34m:\u001b[0m\u001b[0;34m\u001b[0m\u001b[0;34m\u001b[0m\u001b[0m\n\u001b[1;32m    365\u001b[0m           \u001b[0mbatch_outs\u001b[0m \u001b[0;34m=\u001b[0m \u001b[0;34m[\u001b[0m\u001b[0mbatch_outs\u001b[0m\u001b[0;34m]\u001b[0m\u001b[0;34m\u001b[0m\u001b[0;34m\u001b[0m\u001b[0m\n",
      "\u001b[0;32m~/.local/lib/python3.7/site-packages/tensorflow/python/keras/backend.py\u001b[0m in \u001b[0;36m__call__\u001b[0;34m(self, inputs)\u001b[0m\n\u001b[1;32m   3290\u001b[0m \u001b[0;34m\u001b[0m\u001b[0m\n\u001b[1;32m   3291\u001b[0m     fetched = self._callable_fn(*array_vals,\n\u001b[0;32m-> 3292\u001b[0;31m                                 run_metadata=self.run_metadata)\n\u001b[0m\u001b[1;32m   3293\u001b[0m     \u001b[0mself\u001b[0m\u001b[0;34m.\u001b[0m\u001b[0m_call_fetch_callbacks\u001b[0m\u001b[0;34m(\u001b[0m\u001b[0mfetched\u001b[0m\u001b[0;34m[\u001b[0m\u001b[0;34m-\u001b[0m\u001b[0mlen\u001b[0m\u001b[0;34m(\u001b[0m\u001b[0mself\u001b[0m\u001b[0;34m.\u001b[0m\u001b[0m_fetches\u001b[0m\u001b[0;34m)\u001b[0m\u001b[0;34m:\u001b[0m\u001b[0;34m]\u001b[0m\u001b[0;34m)\u001b[0m\u001b[0;34m\u001b[0m\u001b[0;34m\u001b[0m\u001b[0m\n\u001b[1;32m   3294\u001b[0m     output_structure = nest.pack_sequence_as(\n",
      "\u001b[0;32m~/.local/lib/python3.7/site-packages/tensorflow/python/client/session.py\u001b[0m in \u001b[0;36m__call__\u001b[0;34m(self, *args, **kwargs)\u001b[0m\n\u001b[1;32m   1456\u001b[0m         ret = tf_session.TF_SessionRunCallable(self._session._session,\n\u001b[1;32m   1457\u001b[0m                                                \u001b[0mself\u001b[0m\u001b[0;34m.\u001b[0m\u001b[0m_handle\u001b[0m\u001b[0;34m,\u001b[0m \u001b[0margs\u001b[0m\u001b[0;34m,\u001b[0m\u001b[0;34m\u001b[0m\u001b[0;34m\u001b[0m\u001b[0m\n\u001b[0;32m-> 1458\u001b[0;31m                                                run_metadata_ptr)\n\u001b[0m\u001b[1;32m   1459\u001b[0m         \u001b[0;32mif\u001b[0m \u001b[0mrun_metadata\u001b[0m\u001b[0;34m:\u001b[0m\u001b[0;34m\u001b[0m\u001b[0;34m\u001b[0m\u001b[0m\n\u001b[1;32m   1460\u001b[0m           \u001b[0mproto_data\u001b[0m \u001b[0;34m=\u001b[0m \u001b[0mtf_session\u001b[0m\u001b[0;34m.\u001b[0m\u001b[0mTF_GetBuffer\u001b[0m\u001b[0;34m(\u001b[0m\u001b[0mrun_metadata_ptr\u001b[0m\u001b[0;34m)\u001b[0m\u001b[0;34m\u001b[0m\u001b[0;34m\u001b[0m\u001b[0m\n",
      "\u001b[0;31mKeyboardInterrupt\u001b[0m: "
     ]
    }
   ],
   "source": [
    "train_data, train_labels, test_data, test_labels, true_labels = topic_subset([\"Atheism\"])\n",
    "\n",
    "#Start session\n",
    "compute_class = compute_class_weight('balanced', np.unique(true_labels), true_labels)\n",
    "weights = {0: compute_class[0], 1:compute_class[1], 2:compute_class[2]}\n",
    "\n",
    "sess = tf.Session()\n",
    "\n",
    "model = bert_model(max_length, train_layers=12, optimizer = 'adam')\n",
    "\n",
    "# Instantiate variables\n",
    "initialize_vars(sess)\n",
    "\n",
    "\n",
    "model.fit(\n",
    "    train_data, \n",
    "    train_labels,\n",
    "#     validation_data=[test_data, test_labels],\n",
    "    validation_split = 0.2,\n",
    "    shuffle=True,\n",
    "    epochs=12,\n",
    "    verbose=2,\n",
    "    batch_size=32,\n",
    "    class_weight = weights)"
   ]
  },
  {
   "cell_type": "code",
   "execution_count": 25,
   "metadata": {},
   "outputs": [
    {
     "name": "stdout",
     "output_type": "stream",
     "text": [
      "F1 macro score: 0.6177527129795779\n",
      "              precision    recall  f1-score   support\n",
      "\n",
      "     Against       0.91      0.69      0.79       160\n",
      "        None       0.45      0.75      0.56        28\n",
      "       Favor       0.41      0.66      0.51        32\n",
      "\n",
      "   micro avg       0.70      0.70      0.70       220\n",
      "   macro avg       0.59      0.70      0.62       220\n",
      "weighted avg       0.78      0.70      0.72       220\n",
      "\n"
     ]
    },
    {
     "data": {
      "image/png": "[encoded data removed]",
      "text/plain": [
       "<Figure size 1080x360 with 2 Axes>"
      ]
     },
     "metadata": {
      "needs_background": "light"
     },
     "output_type": "display_data"
    }
   ],
   "source": [
    "test_probs = model.predict(test_data)\n",
    "metrics(true_labels, test_probs)"
   ]
  },
  {
   "cell_type": "code",
   "execution_count": 30,
   "metadata": {},
   "outputs": [
    {
     "name": "stdout",
     "output_type": "stream",
     "text": [
      "Model: \"model_9\"\n",
      "__________________________________________________________________________________________________\n",
      "Layer (type)                    Output Shape         Param #     Connected to                     \n",
      "==================================================================================================\n",
      "input_ids (InputLayer)          [(None, 83)]         0                                            \n",
      "__________________________________________________________________________________________________\n",
      "input_masks (InputLayer)        [(None, 83)]         0                                            \n",
      "__________________________________________________________________________________________________\n",
      "segment_ids (InputLayer)        [(None, 83)]         0                                            \n",
      "__________________________________________________________________________________________________\n",
      "bert_layer2_9 (BertLayer2)      (None, None, 768)    108931396   input_ids[0][0]                  \n",
      "                                                                 input_masks[0][0]                \n",
      "                                                                 segment_ids[0][0]                \n",
      "__________________________________________________________________________________________________\n",
      "dropout_18 (Dropout)            (None, None, 768)    0           bert_layer2_9[0][0]              \n",
      "__________________________________________________________________________________________________\n",
      "lstm1 (LSTM)                    (None, 128)          459264      dropout_18[0][0]                 \n",
      "__________________________________________________________________________________________________\n",
      "dense1 (Dense)                  (None, 64)           8256        lstm1[0][0]                      \n",
      "__________________________________________________________________________________________________\n",
      "dropout_19 (Dropout)            (None, 64)           0           dense1[0][0]                     \n",
      "__________________________________________________________________________________________________\n",
      "classification (Dense)          (None, 3)            195         dropout_19[0][0]                 \n",
      "==================================================================================================\n",
      "Total params: 109,399,111\n",
      "Trainable params: 6,963,459\n",
      "Non-trainable params: 102,435,652\n",
      "__________________________________________________________________________________________________\n",
      "Train on 513 samples, validate on 220 samples\n",
      "Epoch 1/15\n",
      "513/513 [==============================] - 137s 267ms/sample - loss: 1.4658 - categorical_accuracy: 0.2924 - val_loss: 1.0564 - val_categorical_accuracy: 0.2818\n",
      "Epoch 2/15\n",
      "513/513 [==============================] - 122s 238ms/sample - loss: 1.5389 - categorical_accuracy: 0.2612 - val_loss: 1.2309 - val_categorical_accuracy: 0.1318\n",
      "Epoch 3/15\n",
      "513/513 [==============================] - 121s 236ms/sample - loss: 1.4093 - categorical_accuracy: 0.2144 - val_loss: 1.3535 - val_categorical_accuracy: 0.1273\n",
      "Epoch 4/15\n",
      "513/513 [==============================] - 122s 238ms/sample - loss: 1.3828 - categorical_accuracy: 0.2359 - val_loss: 1.2571 - val_categorical_accuracy: 0.1273\n",
      "Epoch 5/15\n",
      "513/513 [==============================] - 124s 241ms/sample - loss: 1.4356 - categorical_accuracy: 0.2378 - val_loss: 1.3193 - val_categorical_accuracy: 0.1273\n",
      "Epoch 6/15\n",
      "513/513 [==============================] - 125s 244ms/sample - loss: 1.2882 - categorical_accuracy: 0.2651 - val_loss: 1.0749 - val_categorical_accuracy: 0.3091\n",
      "Epoch 7/15\n",
      "513/513 [==============================] - 126s 246ms/sample - loss: 1.1727 - categorical_accuracy: 0.4522 - val_loss: 1.1873 - val_categorical_accuracy: 0.5727\n",
      "Epoch 8/15\n",
      "513/513 [==============================] - 127s 248ms/sample - loss: 1.1131 - categorical_accuracy: 0.3684 - val_loss: 1.0919 - val_categorical_accuracy: 0.2318\n",
      "Epoch 9/15\n",
      "513/513 [==============================] - 128s 250ms/sample - loss: 0.9766 - categorical_accuracy: 0.4893 - val_loss: 1.0848 - val_categorical_accuracy: 0.5409\n",
      "Epoch 10/15\n",
      "513/513 [==============================] - 129s 251ms/sample - loss: 0.9374 - categorical_accuracy: 0.5283 - val_loss: 1.0221 - val_categorical_accuracy: 0.2273\n",
      "Epoch 11/15\n",
      "513/513 [==============================] - 130s 253ms/sample - loss: 0.8498 - categorical_accuracy: 0.4074 - val_loss: 1.0034 - val_categorical_accuracy: 0.2364\n",
      "Epoch 12/15\n",
      "513/513 [==============================] - 131s 255ms/sample - loss: 0.8044 - categorical_accuracy: 0.4893 - val_loss: 1.1094 - val_categorical_accuracy: 0.6000\n",
      "Epoch 13/15\n",
      "513/513 [==============================] - 131s 255ms/sample - loss: 0.6210 - categorical_accuracy: 0.6082 - val_loss: 1.4012 - val_categorical_accuracy: 0.5091\n",
      "Epoch 14/15\n",
      "513/513 [==============================] - 131s 255ms/sample - loss: 0.7885 - categorical_accuracy: 0.6140 - val_loss: 0.8420 - val_categorical_accuracy: 0.6409\n",
      "Epoch 15/15\n",
      "513/513 [==============================] - 132s 256ms/sample - loss: 0.6214 - categorical_accuracy: 0.6628 - val_loss: 1.0123 - val_categorical_accuracy: 0.6773\n"
     ]
    },
    {
     "data": {
      "text/plain": [
       "<tensorflow.python.keras.callbacks.History at 0x1fce905550>"
      ]
     },
     "execution_count": 30,
     "metadata": {},
     "output_type": "execute_result"
    }
   ],
   "source": [
    "train_data, train_labels, test_data, test_labels, true_labels = topic_subset(['Atheism'])\n",
    "\n",
    "#Start session\n",
    "compute_class = compute_class_weight('balanced', np.unique(true_labels), true_labels)\n",
    "weights = {0: compute_class[0], 1:compute_class[1], 2:compute_class[2]}\n",
    "\n",
    "sess = tf.Session()\n",
    "\n",
    "model = bert_model_2(max_length, train_layers=12, optimizer = 'adam')\n",
    "\n",
    "# Instantiate variables\n",
    "initialize_vars(sess)\n",
    "\n",
    "\n",
    "model.fit(\n",
    "    train_data, \n",
    "    train_labels,\n",
    "    validation_data=[test_data, test_labels],\n",
    "    epochs=15,\n",
    "    verbose=1,\n",
    "    batch_size=32,\n",
    "    class_weight = weights)"
   ]
  },
  {
   "cell_type": "code",
   "execution_count": 31,
   "metadata": {},
   "outputs": [
    {
     "name": "stdout",
     "output_type": "stream",
     "text": [
      "F1 macro score: 0.624866183985223\n",
      "              precision    recall  f1-score   support\n",
      "\n",
      "     Against       0.94      0.63      0.75       160\n",
      "        None       0.46      0.89      0.61        28\n",
      "       Favor       0.40      0.72      0.51        32\n",
      "\n",
      "   micro avg       0.68      0.68      0.68       220\n",
      "   macro avg       0.60      0.75      0.62       220\n",
      "weighted avg       0.80      0.68      0.70       220\n",
      "\n"
     ]
    },
    {
     "data": {
      "image/png": "[encoded data removed]",
      "text/plain": [
       "<Figure size 1080x360 with 2 Axes>"
      ]
     },
     "metadata": {
      "needs_background": "light"
     },
     "output_type": "display_data"
    }
   ],
   "source": [
    "test_probs = model.predict(test_data)\n",
    "metrics(true_labels, test_probs)"
   ]
  },
  {
   "cell_type": "markdown",
   "metadata": {},
   "source": [
    "## Hillary Clinton"
   ]
  },
  {
   "cell_type": "code",
   "execution_count": 22,
   "metadata": {
    "scrolled": true
   },
   "outputs": [
    {
     "name": "stdout",
     "output_type": "stream",
     "text": [
      "Model: \"model_6\"\n",
      "__________________________________________________________________________________________________\n",
      "Layer (type)                    Output Shape         Param #     Connected to                     \n",
      "==================================================================================================\n",
      "input_ids (InputLayer)          [(None, 83)]         0                                            \n",
      "__________________________________________________________________________________________________\n",
      "input_masks (InputLayer)        [(None, 83)]         0                                            \n",
      "__________________________________________________________________________________________________\n",
      "segment_ids (InputLayer)        [(None, 83)]         0                                            \n",
      "__________________________________________________________________________________________________\n",
      "bert_layer_6 (BertLayer)        (None, 768)          108931396   input_ids[0][0]                  \n",
      "                                                                 input_masks[0][0]                \n",
      "                                                                 segment_ids[0][0]                \n",
      "__________________________________________________________________________________________________\n",
      "dropout_13 (Dropout)            (None, 768)          0           bert_layer_6[0][0]               \n",
      "__________________________________________________________________________________________________\n",
      "dense1 (Dense)                  (None, 256)          196864      dropout_13[0][0]                 \n",
      "__________________________________________________________________________________________________\n",
      "dropout_14 (Dropout)            (None, 256)          0           dense1[0][0]                     \n",
      "__________________________________________________________________________________________________\n",
      "classification (Dense)          (None, 3)            771         dropout_14[0][0]                 \n",
      "==================================================================================================\n",
      "Total params: 109,129,031\n",
      "Trainable params: 6,693,379\n",
      "Non-trainable params: 102,435,652\n",
      "__________________________________________________________________________________________________\n",
      "Train on 689 samples, validate on 295 samples\n",
      "Epoch 1/12\n",
      "689/689 [==============================] - 167s 242ms/sample - loss: 2.6375 - categorical_accuracy: 0.3280 - val_loss: 1.0662 - val_categorical_accuracy: 0.5695\n",
      "Epoch 2/12\n",
      "689/689 [==============================] - 161s 233ms/sample - loss: 1.5592 - categorical_accuracy: 0.3527 - val_loss: 1.0493 - val_categorical_accuracy: 0.5831\n",
      "Epoch 3/12\n",
      "689/689 [==============================] - 162s 235ms/sample - loss: 1.4563 - categorical_accuracy: 0.3614 - val_loss: 1.1177 - val_categorical_accuracy: 0.3017\n",
      "Epoch 4/12\n",
      "689/689 [==============================] - 170s 247ms/sample - loss: 1.3319 - categorical_accuracy: 0.3266 - val_loss: 1.0577 - val_categorical_accuracy: 0.6169\n",
      "Epoch 5/12\n",
      "689/689 [==============================] - 168s 244ms/sample - loss: 1.2569 - categorical_accuracy: 0.3440 - val_loss: 1.0916 - val_categorical_accuracy: 0.4068\n",
      "Epoch 6/12\n",
      "689/689 [==============================] - 174s 252ms/sample - loss: 1.0238 - categorical_accuracy: 0.4615 - val_loss: 0.7937 - val_categorical_accuracy: 0.6644\n",
      "Epoch 7/12\n",
      "689/689 [==============================] - 175s 254ms/sample - loss: 0.9442 - categorical_accuracy: 0.5530 - val_loss: 0.8672 - val_categorical_accuracy: 0.6203\n",
      "Epoch 8/12\n",
      "689/689 [==============================] - 177s 257ms/sample - loss: 0.8009 - categorical_accuracy: 0.6459 - val_loss: 0.8048 - val_categorical_accuracy: 0.6644\n",
      "Epoch 9/12\n",
      "689/689 [==============================] - 179s 260ms/sample - loss: 0.6557 - categorical_accuracy: 0.7242 - val_loss: 0.9017 - val_categorical_accuracy: 0.6034\n",
      "Epoch 10/12\n",
      "689/689 [==============================] - 181s 263ms/sample - loss: 0.4322 - categorical_accuracy: 0.8200 - val_loss: 0.8028 - val_categorical_accuracy: 0.6983\n",
      "Epoch 11/12\n",
      "689/689 [==============================] - 183s 266ms/sample - loss: 0.2917 - categorical_accuracy: 0.8853 - val_loss: 1.1181 - val_categorical_accuracy: 0.6441\n",
      "Epoch 12/12\n",
      "689/689 [==============================] - 184s 268ms/sample - loss: 0.3291 - categorical_accuracy: 0.8607 - val_loss: 0.8949 - val_categorical_accuracy: 0.7254\n"
     ]
    },
    {
     "data": {
      "text/plain": [
       "<tensorflow.python.keras.callbacks.History at 0x1c397d6cc0>"
      ]
     },
     "execution_count": 22,
     "metadata": {},
     "output_type": "execute_result"
    }
   ],
   "source": [
    "train_data, train_labels, test_data, test_labels, true_labels = topic_subset([\"Hillary Clinton\"])\n",
    "\n",
    "#Start session\n",
    "compute_class = compute_class_weight('balanced', np.unique(true_labels), true_labels)\n",
    "weights = {0: compute_class[0], 1:compute_class[1], 2:compute_class[2]}\n",
    "\n",
    "sess = tf.Session()\n",
    "\n",
    "model = bert_model(max_length, train_layers=12, optimizer = 'adam')\n",
    "\n",
    "# Instantiate variables\n",
    "initialize_vars(sess)\n",
    "\n",
    "\n",
    "model.fit(\n",
    "    train_data, \n",
    "    train_labels,\n",
    "    validation_data=[test_data, test_labels],\n",
    "    epochs=12,\n",
    "    verbose=1,\n",
    "    batch_size=32,\n",
    "    class_weight = weights)"
   ]
  },
  {
   "cell_type": "code",
   "execution_count": 23,
   "metadata": {
    "scrolled": true
   },
   "outputs": [
    {
     "name": "stdout",
     "output_type": "stream",
     "text": [
      "F1 macro score: 0.6788145876361057\n",
      "              precision    recall  f1-score   support\n",
      "\n",
      "     Against       0.83      0.72      0.77       172\n",
      "        None       0.62      0.87      0.73        78\n",
      "       Favor       0.59      0.49      0.54        45\n",
      "\n",
      "   micro avg       0.73      0.73      0.73       295\n",
      "   macro avg       0.68      0.69      0.68       295\n",
      "weighted avg       0.74      0.73      0.72       295\n",
      "\n"
     ]
    },
    {
     "data": {
      "image/png": "[encoded data removed]",
      "text/plain": [
       "<Figure size 1080x360 with 2 Axes>"
      ]
     },
     "metadata": {
      "needs_background": "light"
     },
     "output_type": "display_data"
    }
   ],
   "source": [
    "test_probs = model.predict(test_data)\n",
    "metrics(true_labels, test_probs)"
   ]
  },
  {
   "cell_type": "code",
   "execution_count": 32,
   "metadata": {},
   "outputs": [
    {
     "name": "stdout",
     "output_type": "stream",
     "text": [
      "Model: \"model_10\"\n",
      "__________________________________________________________________________________________________\n",
      "Layer (type)                    Output Shape         Param #     Connected to                     \n",
      "==================================================================================================\n",
      "input_ids (InputLayer)          [(None, 83)]         0                                            \n",
      "__________________________________________________________________________________________________\n",
      "input_masks (InputLayer)        [(None, 83)]         0                                            \n",
      "__________________________________________________________________________________________________\n",
      "segment_ids (InputLayer)        [(None, 83)]         0                                            \n",
      "__________________________________________________________________________________________________\n",
      "bert_layer2_10 (BertLayer2)     (None, None, 768)    108931396   input_ids[0][0]                  \n",
      "                                                                 input_masks[0][0]                \n",
      "                                                                 segment_ids[0][0]                \n",
      "__________________________________________________________________________________________________\n",
      "dropout_20 (Dropout)            (None, None, 768)    0           bert_layer2_10[0][0]             \n",
      "__________________________________________________________________________________________________\n",
      "lstm1 (LSTM)                    (None, 128)          459264      dropout_20[0][0]                 \n",
      "__________________________________________________________________________________________________\n",
      "dense1 (Dense)                  (None, 64)           8256        lstm1[0][0]                      \n",
      "__________________________________________________________________________________________________\n",
      "dropout_21 (Dropout)            (None, 64)           0           dense1[0][0]                     \n",
      "__________________________________________________________________________________________________\n",
      "classification (Dense)          (None, 3)            195         dropout_21[0][0]                 \n",
      "==================================================================================================\n",
      "Total params: 109,399,111\n",
      "Trainable params: 6,963,459\n",
      "Non-trainable params: 102,435,652\n",
      "__________________________________________________________________________________________________\n",
      "Train on 689 samples, validate on 295 samples\n",
      "Epoch 1/12\n",
      "689/689 [==============================] - 180s 261ms/sample - loss: 1.2172 - categorical_accuracy: 0.3251 - val_loss: 1.0400 - val_categorical_accuracy: 0.5661\n",
      "Epoch 2/12\n",
      "689/689 [==============================] - 158s 230ms/sample - loss: 1.1384 - categorical_accuracy: 0.3614 - val_loss: 1.0186 - val_categorical_accuracy: 0.3797\n",
      "Epoch 3/12\n",
      "689/689 [==============================] - 159s 231ms/sample - loss: 1.0557 - categorical_accuracy: 0.3716 - val_loss: 1.0281 - val_categorical_accuracy: 0.3729\n",
      "Epoch 4/12\n",
      "689/689 [==============================] - 159s 231ms/sample - loss: 0.9688 - categorical_accuracy: 0.4412 - val_loss: 0.9232 - val_categorical_accuracy: 0.4271\n",
      "Epoch 5/12\n",
      "689/689 [==============================] - 160s 232ms/sample - loss: 0.9899 - categorical_accuracy: 0.4340 - val_loss: 0.9954 - val_categorical_accuracy: 0.3763\n",
      "Epoch 6/12\n",
      "689/689 [==============================] - 161s 234ms/sample - loss: 0.9212 - categorical_accuracy: 0.4354 - val_loss: 0.9730 - val_categorical_accuracy: 0.4644\n",
      "Epoch 7/12\n",
      "689/689 [==============================] - 163s 237ms/sample - loss: 0.9054 - categorical_accuracy: 0.4920 - val_loss: 1.0066 - val_categorical_accuracy: 0.4407\n",
      "Epoch 8/12\n",
      "689/689 [==============================] - 166s 240ms/sample - loss: 0.7909 - categorical_accuracy: 0.5573 - val_loss: 0.8557 - val_categorical_accuracy: 0.5695\n",
      "Epoch 9/12\n",
      "689/689 [==============================] - 171s 248ms/sample - loss: 0.6809 - categorical_accuracy: 0.6430 - val_loss: 0.9898 - val_categorical_accuracy: 0.5797\n",
      "Epoch 10/12\n",
      "689/689 [==============================] - 178s 258ms/sample - loss: 0.6487 - categorical_accuracy: 0.7155 - val_loss: 1.4655 - val_categorical_accuracy: 0.4610\n",
      "Epoch 11/12\n",
      "689/689 [==============================] - 181s 263ms/sample - loss: 0.6492 - categorical_accuracy: 0.6792 - val_loss: 0.7792 - val_categorical_accuracy: 0.6373\n",
      "Epoch 12/12\n",
      "689/689 [==============================] - 187s 271ms/sample - loss: 0.4896 - categorical_accuracy: 0.7954 - val_loss: 0.8442 - val_categorical_accuracy: 0.6814\n"
     ]
    },
    {
     "data": {
      "text/plain": [
       "<tensorflow.python.keras.callbacks.History at 0x210d6c79b0>"
      ]
     },
     "execution_count": 32,
     "metadata": {},
     "output_type": "execute_result"
    }
   ],
   "source": [
    "train_data, train_labels, test_data, test_labels, true_labels = topic_subset(['Hillary Clinton'])\n",
    "\n",
    "#Start session\n",
    "compute_class = compute_class_weight('balanced', np.unique(true_labels), true_labels)\n",
    "weights = {0: compute_class[0], 1:compute_class[1], 2:compute_class[2]}\n",
    "\n",
    "sess = tf.Session()\n",
    "\n",
    "model = bert_model_2(max_length, train_layers=12, optimizer = 'adam')\n",
    "\n",
    "# Instantiate variables\n",
    "initialize_vars(sess)\n",
    "\n",
    "\n",
    "model.fit(\n",
    "    train_data, \n",
    "    train_labels,\n",
    "    validation_data=[test_data, test_labels],\n",
    "    epochs=12,\n",
    "    verbose=1,\n",
    "    batch_size=32,\n",
    "    class_weight = weights)"
   ]
  },
  {
   "cell_type": "code",
   "execution_count": 33,
   "metadata": {},
   "outputs": [
    {
     "name": "stdout",
     "output_type": "stream",
     "text": [
      "F1 macro score: 0.6161183919853315\n",
      "              precision    recall  f1-score   support\n",
      "\n",
      "     Against       0.79      0.68      0.73       172\n",
      "        None       0.60      0.87      0.71        78\n",
      "       Favor       0.47      0.36      0.41        45\n",
      "\n",
      "   micro avg       0.68      0.68      0.68       295\n",
      "   macro avg       0.62      0.64      0.62       295\n",
      "weighted avg       0.69      0.68      0.68       295\n",
      "\n"
     ]
    },
    {
     "data": {
      "image/png": "[encoded data removed]",
      "text/plain": [
       "<Figure size 1080x360 with 2 Axes>"
      ]
     },
     "metadata": {
      "needs_background": "light"
     },
     "output_type": "display_data"
    }
   ],
   "source": [
    "test_probs = model.predict(test_data)\n",
    "metrics(true_labels, test_probs)"
   ]
  },
  {
   "cell_type": "markdown",
   "metadata": {},
   "source": [
    "## Abortion"
   ]
  },
  {
   "cell_type": "code",
   "execution_count": 29,
   "metadata": {},
   "outputs": [
    {
     "name": "stdout",
     "output_type": "stream",
     "text": [
      "Model: \"model_9\"\n",
      "__________________________________________________________________________________________________\n",
      "Layer (type)                    Output Shape         Param #     Connected to                     \n",
      "==================================================================================================\n",
      "input_ids (InputLayer)          [(None, 83)]         0                                            \n",
      "__________________________________________________________________________________________________\n",
      "input_masks (InputLayer)        [(None, 83)]         0                                            \n",
      "__________________________________________________________________________________________________\n",
      "segment_ids (InputLayer)        [(None, 83)]         0                                            \n",
      "__________________________________________________________________________________________________\n",
      "bert_layer_10 (BertLayer)       (None, 768)          108931396   input_ids[0][0]                  \n",
      "                                                                 input_masks[0][0]                \n",
      "                                                                 segment_ids[0][0]                \n",
      "__________________________________________________________________________________________________\n",
      "dropout_19 (Dropout)            (None, 768)          0           bert_layer_10[0][0]              \n",
      "__________________________________________________________________________________________________\n",
      "dense1 (Dense)                  (None, 256)          196864      dropout_19[0][0]                 \n",
      "__________________________________________________________________________________________________\n",
      "dropout_20 (Dropout)            (None, 256)          0           dense1[0][0]                     \n",
      "__________________________________________________________________________________________________\n",
      "classification (Dense)          (None, 3)            771         dropout_20[0][0]                 \n",
      "==================================================================================================\n",
      "Total params: 109,129,031\n",
      "Trainable params: 6,693,379\n",
      "Non-trainable params: 102,435,652\n",
      "__________________________________________________________________________________________________\n",
      "Train on 653 samples, validate on 280 samples\n",
      "Epoch 1/20\n",
      "653/653 - 178s - loss: 2.9571 - categorical_accuracy: 0.2649 - val_loss: 1.2499 - val_categorical_accuracy: 0.1607\n",
      "Epoch 2/20\n",
      "653/653 - 165s - loss: 1.8312 - categorical_accuracy: 0.3093 - val_loss: 1.1557 - val_categorical_accuracy: 0.1643\n",
      "Epoch 3/20\n",
      "653/653 - 169s - loss: 1.5849 - categorical_accuracy: 0.3216 - val_loss: 1.1885 - val_categorical_accuracy: 0.2179\n",
      "Epoch 4/20\n",
      "653/653 - 168s - loss: 1.2227 - categorical_accuracy: 0.4012 - val_loss: 1.2351 - val_categorical_accuracy: 0.2571\n",
      "Epoch 5/20\n",
      "653/653 - 169s - loss: 1.1275 - categorical_accuracy: 0.4686 - val_loss: 1.0570 - val_categorical_accuracy: 0.5000\n",
      "Epoch 6/20\n",
      "653/653 - 170s - loss: 0.8588 - categorical_accuracy: 0.5436 - val_loss: 1.5482 - val_categorical_accuracy: 0.2214\n",
      "Epoch 7/20\n",
      "653/653 - 171s - loss: 0.7245 - categorical_accuracy: 0.6340 - val_loss: 1.4012 - val_categorical_accuracy: 0.5393\n",
      "Epoch 8/20\n",
      "653/653 - 172s - loss: 0.5436 - categorical_accuracy: 0.7274 - val_loss: 1.2250 - val_categorical_accuracy: 0.5571\n",
      "Epoch 9/20\n",
      "653/653 - 173s - loss: 0.4726 - categorical_accuracy: 0.7810 - val_loss: 1.5793 - val_categorical_accuracy: 0.5464\n",
      "Epoch 10/20\n",
      "653/653 - 173s - loss: 0.3802 - categorical_accuracy: 0.8545 - val_loss: 1.6787 - val_categorical_accuracy: 0.4679\n",
      "Epoch 11/20\n",
      "653/653 - 175s - loss: 0.2500 - categorical_accuracy: 0.8882 - val_loss: 1.8084 - val_categorical_accuracy: 0.6107\n",
      "Epoch 12/20\n",
      "653/653 - 173s - loss: 0.1654 - categorical_accuracy: 0.9372 - val_loss: 1.8881 - val_categorical_accuracy: 0.5929\n",
      "Epoch 13/20\n",
      "653/653 - 178s - loss: 0.1477 - categorical_accuracy: 0.9541 - val_loss: 1.5974 - val_categorical_accuracy: 0.5929\n",
      "Epoch 14/20\n",
      "653/653 - 174s - loss: 0.1414 - categorical_accuracy: 0.9678 - val_loss: 2.0742 - val_categorical_accuracy: 0.6179\n",
      "Epoch 15/20\n",
      "653/653 - 173s - loss: 0.0921 - categorical_accuracy: 0.9694 - val_loss: 2.7486 - val_categorical_accuracy: 0.6107\n",
      "Epoch 16/20\n",
      "653/653 - 172s - loss: 0.1038 - categorical_accuracy: 0.9709 - val_loss: 2.8118 - val_categorical_accuracy: 0.5036\n",
      "Epoch 17/20\n",
      "653/653 - 172s - loss: 0.1916 - categorical_accuracy: 0.9326 - val_loss: 2.8402 - val_categorical_accuracy: 0.5000\n",
      "Epoch 18/20\n",
      "653/653 - 173s - loss: 0.0994 - categorical_accuracy: 0.9632 - val_loss: 2.9472 - val_categorical_accuracy: 0.5321\n",
      "Epoch 19/20\n",
      "653/653 - 172s - loss: 0.0997 - categorical_accuracy: 0.9724 - val_loss: 2.4541 - val_categorical_accuracy: 0.5714\n",
      "Epoch 20/20\n",
      "653/653 - 171s - loss: 0.0312 - categorical_accuracy: 0.9908 - val_loss: 2.8935 - val_categorical_accuracy: 0.6179\n"
     ]
    },
    {
     "data": {
      "text/plain": [
       "<tensorflow.python.keras.callbacks.History at 0x1ee00866a0>"
      ]
     },
     "execution_count": 29,
     "metadata": {},
     "output_type": "execute_result"
    }
   ],
   "source": [
    "train_data, train_labels, test_data, test_labels, true_labels = topic_subset(['Legalization of Abortion'])\n",
    "\n",
    "#Start session\n",
    "compute_class = compute_class_weight('balanced', np.unique(true_labels), true_labels)\n",
    "weights = {0: compute_class[0], 1:compute_class[1], 2:compute_class[2]}\n",
    "\n",
    "sess = tf.Session()\n",
    "\n",
    "model = bert_model(max_length, train_layers=12, optimizer = 'adam')\n",
    "\n",
    "# Instantiate variables\n",
    "initialize_vars(sess)\n",
    "\n",
    "\n",
    "model.fit(\n",
    "    train_data, \n",
    "    train_labels,\n",
    "    validation_data=[test_data, test_labels],\n",
    "    epochs=20,\n",
    "    verbose=2,\n",
    "    batch_size=32,\n",
    "    class_weight = weights)"
   ]
  },
  {
   "cell_type": "code",
   "execution_count": 30,
   "metadata": {},
   "outputs": [
    {
     "name": "stdout",
     "output_type": "stream",
     "text": [
      "F1 macro score: 0.5595024875621891\n",
      "              precision    recall  f1-score   support\n",
      "\n",
      "     Against       0.80      0.62      0.70       189\n",
      "        None       0.44      0.78      0.56        45\n",
      "       Favor       0.39      0.46      0.42        46\n",
      "\n",
      "   micro avg       0.62      0.62      0.62       280\n",
      "   macro avg       0.54      0.62      0.56       280\n",
      "weighted avg       0.68      0.62      0.63       280\n",
      "\n"
     ]
    },
    {
     "data": {
      "image/png": "[encoded data removed]",
      "text/plain": [
       "<Figure size 1080x360 with 2 Axes>"
      ]
     },
     "metadata": {
      "needs_background": "light"
     },
     "output_type": "display_data"
    }
   ],
   "source": [
    "test_probs = model.predict(test_data)\n",
    "metrics(true_labels, test_probs)"
   ]
  },
  {
   "cell_type": "code",
   "execution_count": 22,
   "metadata": {},
   "outputs": [
    {
     "name": "stdout",
     "output_type": "stream",
     "text": [
      "Model: \"model_5\"\n",
      "__________________________________________________________________________________________________\n",
      "Layer (type)                    Output Shape         Param #     Connected to                     \n",
      "==================================================================================================\n",
      "input_ids (InputLayer)          [(None, 83)]         0                                            \n",
      "__________________________________________________________________________________________________\n",
      "input_masks (InputLayer)        [(None, 83)]         0                                            \n",
      "__________________________________________________________________________________________________\n",
      "segment_ids (InputLayer)        [(None, 83)]         0                                            \n",
      "__________________________________________________________________________________________________\n",
      "bert_layer2_5 (BertLayer2)      (None, None, 768)    108931396   input_ids[0][0]                  \n",
      "                                                                 input_masks[0][0]                \n",
      "                                                                 segment_ids[0][0]                \n",
      "__________________________________________________________________________________________________\n",
      "dropout_10 (Dropout)            (None, None, 768)    0           bert_layer2_5[0][0]              \n",
      "__________________________________________________________________________________________________\n",
      "lstm1 (LSTM)                    (None, 128)          459264      dropout_10[0][0]                 \n",
      "__________________________________________________________________________________________________\n",
      "dense1 (Dense)                  (None, 64)           8256        lstm1[0][0]                      \n",
      "__________________________________________________________________________________________________\n",
      "dropout_11 (Dropout)            (None, 64)           0           dense1[0][0]                     \n",
      "__________________________________________________________________________________________________\n",
      "classification (Dense)          (None, 3)            195         dropout_11[0][0]                 \n",
      "==================================================================================================\n",
      "Total params: 109,399,111\n",
      "Trainable params: 6,963,459\n",
      "Non-trainable params: 102,435,652\n",
      "__________________________________________________________________________________________________\n",
      "Train on 653 samples, validate on 280 samples\n",
      "Epoch 1/30\n",
      "653/653 [==============================] - 157s 241ms/sample - loss: 1.4806 - categorical_accuracy: 0.3185 - val_loss: 1.1407 - val_categorical_accuracy: 0.1679\n",
      "Epoch 2/30\n",
      "653/653 [==============================] - 153s 234ms/sample - loss: 1.3733 - categorical_accuracy: 0.2818 - val_loss: 1.3082 - val_categorical_accuracy: 0.1607\n",
      "Epoch 3/30\n",
      "653/653 [==============================] - 155s 238ms/sample - loss: 1.3311 - categorical_accuracy: 0.2619 - val_loss: 1.2710 - val_categorical_accuracy: 0.1607\n",
      "Epoch 4/30\n",
      "653/653 [==============================] - 156s 238ms/sample - loss: 1.2937 - categorical_accuracy: 0.2726 - val_loss: 1.3391 - val_categorical_accuracy: 0.1607\n",
      "Epoch 5/30\n",
      "653/653 [==============================] - 159s 244ms/sample - loss: 1.2997 - categorical_accuracy: 0.2802 - val_loss: 1.1810 - val_categorical_accuracy: 0.1607\n",
      "Epoch 6/30\n",
      "653/653 [==============================] - 162s 247ms/sample - loss: 1.2165 - categorical_accuracy: 0.3185 - val_loss: 1.1573 - val_categorical_accuracy: 0.2643\n",
      "Epoch 7/30\n",
      "653/653 [==============================] - 165s 253ms/sample - loss: 1.1318 - categorical_accuracy: 0.3721 - val_loss: 1.3435 - val_categorical_accuracy: 0.2536\n",
      "Epoch 8/30\n",
      "653/653 [==============================] - 168s 257ms/sample - loss: 0.9632 - categorical_accuracy: 0.4135 - val_loss: 1.8162 - val_categorical_accuracy: 0.2571\n",
      "Epoch 9/30\n",
      "653/653 [==============================] - 172s 263ms/sample - loss: 0.9032 - categorical_accuracy: 0.4456 - val_loss: 1.5314 - val_categorical_accuracy: 0.2750\n",
      "Epoch 10/30\n",
      "653/653 [==============================] - 174s 266ms/sample - loss: 0.7884 - categorical_accuracy: 0.4671 - val_loss: 1.4165 - val_categorical_accuracy: 0.3107\n",
      "Epoch 11/30\n",
      "653/653 [==============================] - 176s 270ms/sample - loss: 0.7109 - categorical_accuracy: 0.5145 - val_loss: 1.7329 - val_categorical_accuracy: 0.3286\n",
      "Epoch 12/30\n",
      "653/653 [==============================] - 179s 273ms/sample - loss: 0.6764 - categorical_accuracy: 0.5590 - val_loss: 1.6204 - val_categorical_accuracy: 0.3393\n",
      "Epoch 13/30\n",
      "653/653 [==============================] - 183s 280ms/sample - loss: 0.6570 - categorical_accuracy: 0.5789 - val_loss: 1.8187 - val_categorical_accuracy: 0.4429\n",
      "Epoch 14/30\n",
      "653/653 [==============================] - 178s 273ms/sample - loss: 0.5978 - categorical_accuracy: 0.6309 - val_loss: 1.7458 - val_categorical_accuracy: 0.5143\n",
      "Epoch 15/30\n",
      "653/653 [==============================] - 179s 273ms/sample - loss: 0.5064 - categorical_accuracy: 0.6830 - val_loss: 2.0818 - val_categorical_accuracy: 0.5036\n",
      "Epoch 16/30\n",
      "653/653 [==============================] - 178s 272ms/sample - loss: 0.3762 - categorical_accuracy: 0.7519 - val_loss: 2.3657 - val_categorical_accuracy: 0.5179\n",
      "Epoch 17/30\n",
      "653/653 [==============================] - 177s 271ms/sample - loss: 0.4115 - categorical_accuracy: 0.8055 - val_loss: 2.0725 - val_categorical_accuracy: 0.6107\n",
      "Epoch 18/30\n",
      "653/653 [==============================] - 178s 273ms/sample - loss: 0.3196 - categorical_accuracy: 0.8346 - val_loss: 2.2007 - val_categorical_accuracy: 0.6107\n",
      "Epoch 19/30\n",
      "653/653 [==============================] - 176s 269ms/sample - loss: 0.2877 - categorical_accuracy: 0.8729 - val_loss: 2.5506 - val_categorical_accuracy: 0.5321\n",
      "Epoch 20/30\n",
      "653/653 [==============================] - 176s 270ms/sample - loss: 0.3086 - categorical_accuracy: 0.8560 - val_loss: 2.1319 - val_categorical_accuracy: 0.6143\n",
      "Epoch 21/30\n",
      "653/653 [==============================] - 176s 269ms/sample - loss: 0.2834 - categorical_accuracy: 0.8867 - val_loss: 2.7073 - val_categorical_accuracy: 0.5393\n",
      "Epoch 22/30\n",
      "653/653 [==============================] - 175s 269ms/sample - loss: 0.2029 - categorical_accuracy: 0.9188 - val_loss: 2.2960 - val_categorical_accuracy: 0.6286\n",
      "Epoch 23/30\n",
      "653/653 [==============================] - 176s 270ms/sample - loss: 0.1484 - categorical_accuracy: 0.9449 - val_loss: 2.9211 - val_categorical_accuracy: 0.5786\n",
      "Epoch 24/30\n",
      "653/653 [==============================] - 176s 270ms/sample - loss: 0.1977 - categorical_accuracy: 0.9418 - val_loss: 2.1642 - val_categorical_accuracy: 0.6250\n",
      "Epoch 25/30\n",
      "653/653 [==============================] - 175s 268ms/sample - loss: 0.1579 - categorical_accuracy: 0.9464 - val_loss: 2.6055 - val_categorical_accuracy: 0.6000\n",
      "Epoch 26/30\n",
      "653/653 [==============================] - 175s 268ms/sample - loss: 0.1138 - categorical_accuracy: 0.9571 - val_loss: 2.6312 - val_categorical_accuracy: 0.6357\n",
      "Epoch 27/30\n",
      "653/653 [==============================] - 177s 271ms/sample - loss: 0.3826 - categorical_accuracy: 0.8959 - val_loss: 1.5792 - val_categorical_accuracy: 0.6607\n",
      "Epoch 28/30\n",
      "653/653 [==============================] - 177s 271ms/sample - loss: 0.2324 - categorical_accuracy: 0.9296 - val_loss: 2.1178 - val_categorical_accuracy: 0.6464\n",
      "Epoch 29/30\n",
      "653/653 [==============================] - 171s 261ms/sample - loss: 0.1449 - categorical_accuracy: 0.9541 - val_loss: 2.5097 - val_categorical_accuracy: 0.6143\n",
      "Epoch 30/30\n",
      "653/653 [==============================] - 170s 260ms/sample - loss: 0.1182 - categorical_accuracy: 0.9632 - val_loss: 2.3989 - val_categorical_accuracy: 0.6500\n"
     ]
    },
    {
     "data": {
      "text/plain": [
       "<tensorflow.python.keras.callbacks.History at 0x1be6dabeb8>"
      ]
     },
     "execution_count": 22,
     "metadata": {},
     "output_type": "execute_result"
    }
   ],
   "source": [
    "train_data, train_labels, test_data, test_labels, true_labels = topic_subset(['Legalization of Abortion'])\n",
    "\n",
    "#Start session\n",
    "compute_class = compute_class_weight('balanced', np.unique(true_labels), true_labels)\n",
    "weights = {0: compute_class[0], 1:compute_class[1], 2:compute_class[2]}\n",
    "\n",
    "sess = tf.Session()\n",
    "\n",
    "model = bert_model_2(max_length, train_layers=12, optimizer = 'adam')\n",
    "\n",
    "# Instantiate variables\n",
    "initialize_vars(sess)\n",
    "\n",
    "\n",
    "model.fit(\n",
    "    train_data, \n",
    "    train_labels,\n",
    "    validation_data=[test_data, test_labels],\n",
    "    epochs=30,\n",
    "    verbose=1,\n",
    "    batch_size=32,\n",
    "    class_weight = weights)"
   ]
  },
  {
   "cell_type": "code",
   "execution_count": 23,
   "metadata": {},
   "outputs": [
    {
     "name": "stdout",
     "output_type": "stream",
     "text": [
      "F1 macro score: 0.6048326627168942\n",
      "              precision    recall  f1-score   support\n",
      "\n",
      "     Against       0.83      0.64      0.72       189\n",
      "        None       0.39      0.78      0.52        45\n",
      "       Favor       0.58      0.57      0.57        46\n",
      "\n",
      "   micro avg       0.65      0.65      0.65       280\n",
      "   macro avg       0.60      0.66      0.60       280\n",
      "weighted avg       0.72      0.65      0.67       280\n",
      "\n"
     ]
    },
    {
     "data": {
      "image/png": "[encoded data removed]",
      "text/plain": [
       "<Figure size 1080x360 with 2 Axes>"
      ]
     },
     "metadata": {
      "needs_background": "light"
     },
     "output_type": "display_data"
    }
   ],
   "source": [
    "test_probs = model.predict(test_data)\n",
    "metrics(true_labels, test_probs)"
   ]
  },
  {
   "cell_type": "markdown",
   "metadata": {},
   "source": [
    "## Climate Change"
   ]
  },
  {
   "cell_type": "code",
   "execution_count": 33,
   "metadata": {},
   "outputs": [
    {
     "name": "stdout",
     "output_type": "stream",
     "text": [
      "Model: \"model_11\"\n",
      "__________________________________________________________________________________________________\n",
      "Layer (type)                    Output Shape         Param #     Connected to                     \n",
      "==================================================================================================\n",
      "input_ids (InputLayer)          [(None, 83)]         0                                            \n",
      "__________________________________________________________________________________________________\n",
      "input_masks (InputLayer)        [(None, 83)]         0                                            \n",
      "__________________________________________________________________________________________________\n",
      "segment_ids (InputLayer)        [(None, 83)]         0                                            \n",
      "__________________________________________________________________________________________________\n",
      "bert_layer_12 (BertLayer)       (None, 768)          108931396   input_ids[0][0]                  \n",
      "                                                                 input_masks[0][0]                \n",
      "                                                                 segment_ids[0][0]                \n",
      "__________________________________________________________________________________________________\n",
      "dropout_23 (Dropout)            (None, 768)          0           bert_layer_12[0][0]              \n",
      "__________________________________________________________________________________________________\n",
      "dense1 (Dense)                  (None, 256)          196864      dropout_23[0][0]                 \n",
      "__________________________________________________________________________________________________\n",
      "dropout_24 (Dropout)            (None, 256)          0           dense1[0][0]                     \n",
      "__________________________________________________________________________________________________\n",
      "classification (Dense)          (None, 3)            771         dropout_24[0][0]                 \n",
      "==================================================================================================\n",
      "Total params: 109,129,031\n",
      "Trainable params: 6,693,379\n",
      "Non-trainable params: 102,435,652\n",
      "__________________________________________________________________________________________________\n",
      "Train on 395 samples, validate on 169 samples\n",
      "Epoch 1/20\n",
      "395/395 - 110s - loss: 3.3449 - categorical_accuracy: 0.4000 - val_loss: 3.0626 - val_categorical_accuracy: 0.2071\n",
      "Epoch 2/20\n",
      "395/395 - 88s - loss: 2.5415 - categorical_accuracy: 0.4076 - val_loss: 1.7553 - val_categorical_accuracy: 0.2071\n",
      "Epoch 3/20\n",
      "395/395 - 88s - loss: 1.4655 - categorical_accuracy: 0.4582 - val_loss: 1.1072 - val_categorical_accuracy: 0.2071\n",
      "Epoch 4/20\n",
      "395/395 - 88s - loss: 1.6779 - categorical_accuracy: 0.4937 - val_loss: 1.0610 - val_categorical_accuracy: 0.3373\n",
      "Epoch 5/20\n",
      "395/395 - 88s - loss: 1.2167 - categorical_accuracy: 0.5443 - val_loss: 1.1041 - val_categorical_accuracy: 0.4852\n",
      "Epoch 6/20\n",
      "395/395 - 88s - loss: 1.1656 - categorical_accuracy: 0.5848 - val_loss: 1.7257 - val_categorical_accuracy: 0.3254\n",
      "Epoch 7/20\n",
      "395/395 - 88s - loss: 0.8617 - categorical_accuracy: 0.6278 - val_loss: 1.5339 - val_categorical_accuracy: 0.3491\n",
      "Epoch 8/20\n",
      "395/395 - 88s - loss: 0.9651 - categorical_accuracy: 0.6101 - val_loss: 0.6081 - val_categorical_accuracy: 0.7633\n",
      "Epoch 9/20\n",
      "395/395 - 88s - loss: 0.6789 - categorical_accuracy: 0.7797 - val_loss: 2.1419 - val_categorical_accuracy: 0.2367\n",
      "Epoch 10/20\n",
      "395/395 - 89s - loss: 0.6320 - categorical_accuracy: 0.6684 - val_loss: 0.6907 - val_categorical_accuracy: 0.7396\n",
      "Epoch 11/20\n",
      "395/395 - 89s - loss: 0.4401 - categorical_accuracy: 0.8532 - val_loss: 0.8343 - val_categorical_accuracy: 0.7396\n",
      "Epoch 12/20\n",
      "395/395 - 88s - loss: 0.1848 - categorical_accuracy: 0.9342 - val_loss: 1.2447 - val_categorical_accuracy: 0.6509\n",
      "Epoch 13/20\n",
      "395/395 - 89s - loss: 0.2175 - categorical_accuracy: 0.9291 - val_loss: 1.3194 - val_categorical_accuracy: 0.6805\n",
      "Epoch 14/20\n",
      "395/395 - 89s - loss: 0.1942 - categorical_accuracy: 0.9114 - val_loss: 0.8979 - val_categorical_accuracy: 0.7988\n",
      "Epoch 15/20\n",
      "395/395 - 88s - loss: 0.1976 - categorical_accuracy: 0.9392 - val_loss: 0.7363 - val_categorical_accuracy: 0.8166\n",
      "Epoch 16/20\n",
      "395/395 - 89s - loss: 0.2703 - categorical_accuracy: 0.9570 - val_loss: 1.4198 - val_categorical_accuracy: 0.7041\n",
      "Epoch 17/20\n",
      "395/395 - 89s - loss: 0.0823 - categorical_accuracy: 0.9418 - val_loss: 1.0827 - val_categorical_accuracy: 0.7456\n",
      "Epoch 18/20\n",
      "395/395 - 90s - loss: 0.0932 - categorical_accuracy: 0.9797 - val_loss: 1.0840 - val_categorical_accuracy: 0.7337\n",
      "Epoch 19/20\n",
      "395/395 - 89s - loss: 0.0286 - categorical_accuracy: 0.9975 - val_loss: 1.1539 - val_categorical_accuracy: 0.7751\n",
      "Epoch 20/20\n",
      "395/395 - 90s - loss: 0.0548 - categorical_accuracy: 0.9873 - val_loss: 1.3119 - val_categorical_accuracy: 0.7988\n"
     ]
    },
    {
     "data": {
      "text/plain": [
       "<tensorflow.python.keras.callbacks.History at 0x2176b870f0>"
      ]
     },
     "execution_count": 33,
     "metadata": {},
     "output_type": "execute_result"
    }
   ],
   "source": [
    "train_data, train_labels, test_data, test_labels, true_labels = topic_subset(['Climate Change is a Real Concern'])\n",
    "\n",
    "#Start session\n",
    "compute_class = compute_class_weight('balanced', np.unique(true_labels), true_labels)\n",
    "weights = {0: compute_class[0], 1:compute_class[1], 2:compute_class[2]}\n",
    "\n",
    "sess = tf.Session()\n",
    "\n",
    "model = bert_model(max_length, train_layers=12, optimizer = 'adam')\n",
    "\n",
    "# Instantiate variables\n",
    "initialize_vars(sess)\n",
    "\n",
    "\n",
    "model.fit(\n",
    "    train_data, \n",
    "    train_labels,\n",
    "    validation_data=[test_data, test_labels],\n",
    "    epochs=20,\n",
    "    verbose=2,\n",
    "    batch_size=32,\n",
    "    class_weight = weights)"
   ]
  },
  {
   "cell_type": "code",
   "execution_count": 34,
   "metadata": {},
   "outputs": [
    {
     "name": "stderr",
     "output_type": "stream",
     "text": [
      "/Users/alexdessouky/anaconda3/lib/python3.6/site-packages/sklearn/metrics/classification.py:1143: UndefinedMetricWarning: F-score is ill-defined and being set to 0.0 in labels with no predicted samples.\n",
      "  'precision', 'predicted', average, warn_for)\n",
      "/Users/alexdessouky/anaconda3/lib/python3.6/site-packages/sklearn/metrics/classification.py:1143: UndefinedMetricWarning: Precision and F-score are ill-defined and being set to 0.0 in labels with no predicted samples.\n",
      "  'precision', 'predicted', average, warn_for)\n"
     ]
    },
    {
     "name": "stdout",
     "output_type": "stream",
     "text": [
      "F1 macro score: 0.5221322537112011\n",
      "              precision    recall  f1-score   support\n",
      "\n",
      "     Against       0.00      0.00      0.00        11\n",
      "        None       0.62      0.80      0.70        35\n",
      "       Favor       0.86      0.87      0.87       123\n",
      "\n",
      "   micro avg       0.80      0.80      0.80       169\n",
      "   macro avg       0.50      0.56      0.52       169\n",
      "weighted avg       0.76      0.80      0.78       169\n",
      "\n"
     ]
    },
    {
     "data": {
      "image/png": "[encoded data removed]",
      "text/plain": [
       "<Figure size 1080x360 with 2 Axes>"
      ]
     },
     "metadata": {
      "needs_background": "light"
     },
     "output_type": "display_data"
    }
   ],
   "source": [
    "test_probs = model.predict(test_data)\n",
    "metrics(true_labels, test_probs)"
   ]
  },
  {
   "cell_type": "code",
   "execution_count": 37,
   "metadata": {},
   "outputs": [
    {
     "name": "stdout",
     "output_type": "stream",
     "text": [
      "Model: \"model_12\"\n",
      "__________________________________________________________________________________________________\n",
      "Layer (type)                    Output Shape         Param #     Connected to                     \n",
      "==================================================================================================\n",
      "input_ids (InputLayer)          [(None, 83)]         0                                            \n",
      "__________________________________________________________________________________________________\n",
      "input_masks (InputLayer)        [(None, 83)]         0                                            \n",
      "__________________________________________________________________________________________________\n",
      "segment_ids (InputLayer)        [(None, 83)]         0                                            \n",
      "__________________________________________________________________________________________________\n",
      "bert_layer2_13 (BertLayer2)     (None, None, 768)    108931396   input_ids[0][0]                  \n",
      "                                                                 input_masks[0][0]                \n",
      "                                                                 segment_ids[0][0]                \n",
      "__________________________________________________________________________________________________\n",
      "dropout_24 (Dropout)            (None, None, 768)    0           bert_layer2_13[0][0]             \n",
      "__________________________________________________________________________________________________\n",
      "lstm1 (LSTM)                    (None, 128)          459264      dropout_24[0][0]                 \n",
      "__________________________________________________________________________________________________\n",
      "dense1 (Dense)                  (None, 64)           8256        lstm1[0][0]                      \n",
      "__________________________________________________________________________________________________\n",
      "dropout_25 (Dropout)            (None, 64)           0           dense1[0][0]                     \n",
      "__________________________________________________________________________________________________\n",
      "classification (Dense)          (None, 3)            195         dropout_25[0][0]                 \n",
      "==================================================================================================\n",
      "Total params: 109,399,111\n",
      "Trainable params: 6,963,459\n",
      "Non-trainable params: 102,435,652\n",
      "__________________________________________________________________________________________________\n",
      "Train on 395 samples, validate on 169 samples\n",
      "Epoch 1/15\n",
      "395/395 [==============================] - 107s 270ms/sample - loss: 1.3031 - categorical_accuracy: 0.3848 - val_loss: 1.2589 - val_categorical_accuracy: 0.2071\n",
      "Epoch 2/15\n",
      "395/395 [==============================] - 96s 243ms/sample - loss: 1.1979 - categorical_accuracy: 0.4076 - val_loss: 1.0051 - val_categorical_accuracy: 0.4320\n",
      "Epoch 3/15\n",
      "395/395 [==============================] - 99s 251ms/sample - loss: 1.1158 - categorical_accuracy: 0.4861 - val_loss: 1.2593 - val_categorical_accuracy: 0.2959\n",
      "Epoch 4/15\n",
      "395/395 [==============================] - 104s 264ms/sample - loss: 0.8828 - categorical_accuracy: 0.5646 - val_loss: 0.9721 - val_categorical_accuracy: 0.6509\n",
      "Epoch 5/15\n",
      "395/395 [==============================] - 100s 252ms/sample - loss: 0.8618 - categorical_accuracy: 0.6405 - val_loss: 1.0846 - val_categorical_accuracy: 0.6036\n",
      "Epoch 6/15\n",
      "395/395 [==============================] - 101s 255ms/sample - loss: 0.7495 - categorical_accuracy: 0.6633 - val_loss: 1.1116 - val_categorical_accuracy: 0.5503\n",
      "Epoch 7/15\n",
      "395/395 [==============================] - 102s 259ms/sample - loss: 0.5903 - categorical_accuracy: 0.7519 - val_loss: 0.9561 - val_categorical_accuracy: 0.7337\n",
      "Epoch 8/15\n",
      "395/395 [==============================] - 103s 261ms/sample - loss: 0.5029 - categorical_accuracy: 0.7722 - val_loss: 1.2399 - val_categorical_accuracy: 0.6982\n",
      "Epoch 9/15\n",
      "395/395 [==============================] - 106s 267ms/sample - loss: 0.3937 - categorical_accuracy: 0.8203 - val_loss: 0.9433 - val_categorical_accuracy: 0.7219\n",
      "Epoch 10/15\n",
      "395/395 [==============================] - 105s 267ms/sample - loss: 0.3784 - categorical_accuracy: 0.8152 - val_loss: 1.1662 - val_categorical_accuracy: 0.7101\n",
      "Epoch 11/15\n",
      "395/395 [==============================] - 106s 270ms/sample - loss: 0.2297 - categorical_accuracy: 0.8886 - val_loss: 1.8378 - val_categorical_accuracy: 0.6568\n",
      "Epoch 12/15\n",
      "395/395 [==============================] - 107s 270ms/sample - loss: 0.3488 - categorical_accuracy: 0.8532 - val_loss: 1.7996 - val_categorical_accuracy: 0.5917\n",
      "Epoch 13/15\n",
      "395/395 [==============================] - 106s 269ms/sample - loss: 0.3054 - categorical_accuracy: 0.8861 - val_loss: 0.8998 - val_categorical_accuracy: 0.7574\n",
      "Epoch 14/15\n",
      "395/395 [==============================] - 108s 273ms/sample - loss: 0.2014 - categorical_accuracy: 0.9519 - val_loss: 1.3233 - val_categorical_accuracy: 0.7278\n",
      "Epoch 15/15\n",
      "395/395 [==============================] - 108s 274ms/sample - loss: 0.1812 - categorical_accuracy: 0.9215 - val_loss: 0.9741 - val_categorical_accuracy: 0.8107\n"
     ]
    },
    {
     "data": {
      "text/plain": [
       "<tensorflow.python.keras.callbacks.History at 0x236c3b6f28>"
      ]
     },
     "execution_count": 37,
     "metadata": {},
     "output_type": "execute_result"
    }
   ],
   "source": [
    "train_data, train_labels, test_data, test_labels, true_labels = topic_subset(['Climate Change is a Real Concern'])\n",
    "\n",
    "#Start session\n",
    "compute_class = compute_class_weight('balanced', np.unique(true_labels), true_labels)\n",
    "weights = {0: compute_class[0], 1:compute_class[1], 2:compute_class[2]}\n",
    "\n",
    "sess = tf.Session()\n",
    "\n",
    "model = bert_model_2(max_length, train_layers=12, optimizer = 'adam')\n",
    "\n",
    "# Instantiate variables\n",
    "initialize_vars(sess)\n",
    "\n",
    "\n",
    "model.fit(\n",
    "    train_data, \n",
    "    train_labels,\n",
    "    validation_data=[test_data, test_labels],\n",
    "    epochs=15,\n",
    "    verbose=1,\n",
    "    batch_size=32,\n",
    "    class_weight = weights)"
   ]
  },
  {
   "cell_type": "code",
   "execution_count": 38,
   "metadata": {},
   "outputs": [
    {
     "name": "stdout",
     "output_type": "stream",
     "text": [
      "F1 macro score: 0.5254447360746574\n",
      "              precision    recall  f1-score   support\n",
      "\n",
      "     Against       0.00      0.00      0.00        11\n",
      "        None       0.68      0.71      0.69        35\n",
      "       Favor       0.85      0.91      0.88       123\n",
      "\n",
      "   micro avg       0.81      0.81      0.81       169\n",
      "   macro avg       0.51      0.54      0.53       169\n",
      "weighted avg       0.76      0.81      0.79       169\n",
      "\n"
     ]
    },
    {
     "data": {
      "image/png": "[encoded data removed]",
      "text/plain": [
       "<Figure size 1080x360 with 2 Axes>"
      ]
     },
     "metadata": {
      "needs_background": "light"
     },
     "output_type": "display_data"
    }
   ],
   "source": [
    "test_probs = model.predict(test_data)\n",
    "metrics(true_labels, test_probs)"
   ]
  },
  {
   "cell_type": "markdown",
   "metadata": {},
   "source": [
    "## Feminism"
   ]
  },
  {
   "cell_type": "code",
   "execution_count": 11,
   "metadata": {},
   "outputs": [
    {
     "ename": "NameError",
     "evalue": "name 'bert_model' is not defined",
     "output_type": "error",
     "traceback": [
      "\u001b[0;31m---------------------------------------------------------------------------\u001b[0m",
      "\u001b[0;31mNameError\u001b[0m                                 Traceback (most recent call last)",
      "\u001b[0;32m<ipython-input-11-5b30f7f524f0>\u001b[0m in \u001b[0;36m<module>\u001b[0;34m\u001b[0m\n\u001b[1;32m      7\u001b[0m \u001b[0msess\u001b[0m \u001b[0;34m=\u001b[0m \u001b[0mtf\u001b[0m\u001b[0;34m.\u001b[0m\u001b[0mSession\u001b[0m\u001b[0;34m(\u001b[0m\u001b[0;34m)\u001b[0m\u001b[0;34m\u001b[0m\u001b[0;34m\u001b[0m\u001b[0m\n\u001b[1;32m      8\u001b[0m \u001b[0;34m\u001b[0m\u001b[0m\n\u001b[0;32m----> 9\u001b[0;31m \u001b[0mmodel\u001b[0m \u001b[0;34m=\u001b[0m \u001b[0mbert_model\u001b[0m\u001b[0;34m(\u001b[0m\u001b[0mmax_length\u001b[0m\u001b[0;34m,\u001b[0m \u001b[0mtrain_layers\u001b[0m\u001b[0;34m=\u001b[0m\u001b[0;36m12\u001b[0m\u001b[0;34m,\u001b[0m \u001b[0moptimizer\u001b[0m \u001b[0;34m=\u001b[0m \u001b[0;34m'adam'\u001b[0m\u001b[0;34m)\u001b[0m\u001b[0;34m\u001b[0m\u001b[0;34m\u001b[0m\u001b[0m\n\u001b[0m\u001b[1;32m     10\u001b[0m \u001b[0;34m\u001b[0m\u001b[0m\n\u001b[1;32m     11\u001b[0m \u001b[0;31m# Instantiate variables\u001b[0m\u001b[0;34m\u001b[0m\u001b[0;34m\u001b[0m\u001b[0;34m\u001b[0m\u001b[0m\n",
      "\u001b[0;31mNameError\u001b[0m: name 'bert_model' is not defined"
     ]
    }
   ],
   "source": [
    "train_data, train_labels, test_data, test_labels, true_labels = topic_subset(['Feminist Movement'])\n",
    "\n",
    "#Start session\n",
    "compute_class = compute_class_weight('balanced', np.unique(true_labels), true_labels)\n",
    "weights = {0: compute_class[0], 1:compute_class[1], 2:compute_class[2]}\n",
    "\n",
    "sess = tf.Session()\n",
    "\n",
    "model = bert_model(max_length, train_layers=12, optimizer = 'adam')\n",
    "\n",
    "# Instantiate variables\n",
    "initialize_vars(sess)\n",
    "\n",
    "\n",
    "model.fit(\n",
    "    train_data, \n",
    "    train_labels,\n",
    "    validation_data=[test_data, test_labels],\n",
    "    epochs=25,\n",
    "    verbose=2,\n",
    "    batch_size=32,\n",
    "    class_weight = weights)"
   ]
  },
  {
   "cell_type": "code",
   "execution_count": 15,
   "metadata": {},
   "outputs": [
    {
     "name": "stdout",
     "output_type": "stream",
     "text": [
      "F1 macro score: 0.5047244148717484\n",
      "              precision    recall  f1-score   support\n",
      "\n",
      "     Against       0.75      0.51      0.61       183\n",
      "        None       0.51      0.41      0.46        44\n",
      "       Favor       0.33      0.71      0.45        58\n",
      "\n",
      "   micro avg       0.54      0.54      0.54       285\n",
      "   macro avg       0.53      0.54      0.50       285\n",
      "weighted avg       0.63      0.54      0.55       285\n",
      "\n"
     ]
    },
    {
     "data": {
      "image/png": "[encoded data removed]",
      "text/plain": [
       "<Figure size 1080x360 with 2 Axes>"
      ]
     },
     "metadata": {
      "needs_background": "light"
     },
     "output_type": "display_data"
    }
   ],
   "source": [
    "test_probs = model.predict(test_data)\n",
    "metrics(true_labels, test_probs)"
   ]
  },
  {
   "cell_type": "code",
   "execution_count": 12,
   "metadata": {
    "scrolled": false
   },
   "outputs": [
    {
     "name": "stderr",
     "output_type": "stream",
     "text": [
      "W1115 13:06:25.219290 140735964402560 nn_ops.py:4224] Large dropout rate: 0.8 (>0.5). In TensorFlow 2.x, dropout() uses dropout rate instead of keep_prob. Please ensure that this is intended.\n",
      "W1115 13:06:25.234714 140735964402560 deprecation.py:506] From /Users/alexdessouky/anaconda3/lib/python3.6/site-packages/tensorflow/python/ops/init_ops.py:1251: calling VarianceScaling.__init__ (from tensorflow.python.ops.init_ops) with dtype is deprecated and will be removed in a future version.\n",
      "Instructions for updating:\n",
      "Call initializer instance with the dtype argument instead of passing it to the constructor\n",
      "W1115 13:06:25.443450 140735964402560 nn_ops.py:4224] Large dropout rate: 0.8 (>0.5). In TensorFlow 2.x, dropout() uses dropout rate instead of keep_prob. Please ensure that this is intended.\n"
     ]
    },
    {
     "name": "stdout",
     "output_type": "stream",
     "text": [
      "Model: \"model\"\n",
      "__________________________________________________________________________________________________\n",
      "Layer (type)                    Output Shape         Param #     Connected to                     \n",
      "==================================================================================================\n",
      "input_ids (InputLayer)          [(None, 83)]         0                                            \n",
      "__________________________________________________________________________________________________\n",
      "input_masks (InputLayer)        [(None, 83)]         0                                            \n",
      "__________________________________________________________________________________________________\n",
      "segment_ids (InputLayer)        [(None, 83)]         0                                            \n",
      "__________________________________________________________________________________________________\n",
      "bert_layer2 (BertLayer2)        (None, None, 768)    108931396   input_ids[0][0]                  \n",
      "                                                                 input_masks[0][0]                \n",
      "                                                                 segment_ids[0][0]                \n",
      "__________________________________________________________________________________________________\n",
      "dropout (Dropout)               (None, None, 768)    0           bert_layer2[0][0]                \n",
      "__________________________________________________________________________________________________\n",
      "lstm1 (LSTM)                    (None, 128)          459264      dropout[0][0]                    \n",
      "__________________________________________________________________________________________________\n",
      "dense1 (Dense)                  (None, 64)           8256        lstm1[0][0]                      \n",
      "__________________________________________________________________________________________________\n",
      "dropout_1 (Dropout)             (None, 64)           0           dense1[0][0]                     \n",
      "__________________________________________________________________________________________________\n",
      "classification (Dense)          (None, 3)            195         dropout_1[0][0]                  \n",
      "==================================================================================================\n",
      "Total params: 109,399,111\n",
      "Trainable params: 6,963,459\n",
      "Non-trainable params: 102,435,652\n",
      "__________________________________________________________________________________________________\n"
     ]
    },
    {
     "name": "stderr",
     "output_type": "stream",
     "text": [
      "W1115 13:06:27.071362 140735964402560 deprecation.py:323] From /Users/alexdessouky/anaconda3/lib/python3.6/site-packages/tensorflow/python/ops/math_grad.py:1250: add_dispatch_support.<locals>.wrapper (from tensorflow.python.ops.array_ops) is deprecated and will be removed in a future version.\n",
      "Instructions for updating:\n",
      "Use tf.where in 2.0, which has the same broadcast rule as np.where\n"
     ]
    },
    {
     "name": "stdout",
     "output_type": "stream",
     "text": [
      "Train on 664 samples, validate on 285 samples\n",
      "Epoch 1/25\n",
      "664/664 [==============================] - 159s 240ms/sample - loss: 1.3860 - categorical_accuracy: 0.2982 - val_loss: 1.1881 - val_categorical_accuracy: 0.2070\n",
      "Epoch 2/25\n",
      "664/664 [==============================] - 162s 243ms/sample - loss: 1.3285 - categorical_accuracy: 0.3208 - val_loss: 1.1703 - val_categorical_accuracy: 0.2035\n",
      "Epoch 3/25\n",
      "664/664 [==============================] - 165s 249ms/sample - loss: 1.2679 - categorical_accuracy: 0.3178 - val_loss: 1.1854 - val_categorical_accuracy: 0.2386\n",
      "Epoch 4/25\n",
      "664/664 [==============================] - 170s 256ms/sample - loss: 1.2623 - categorical_accuracy: 0.3313 - val_loss: 1.2871 - val_categorical_accuracy: 0.2386\n",
      "Epoch 5/25\n",
      "664/664 [==============================] - 174s 262ms/sample - loss: 1.2592 - categorical_accuracy: 0.3358 - val_loss: 1.2122 - val_categorical_accuracy: 0.2351\n",
      "Epoch 6/25\n",
      "664/664 [==============================] - 176s 266ms/sample - loss: 1.1720 - categorical_accuracy: 0.3464 - val_loss: 1.4019 - val_categorical_accuracy: 0.2632\n",
      "Epoch 7/25\n",
      "664/664 [==============================] - 177s 267ms/sample - loss: 1.1129 - categorical_accuracy: 0.3886 - val_loss: 1.2781 - val_categorical_accuracy: 0.2772\n",
      "Epoch 8/25\n",
      "664/664 [==============================] - 180s 270ms/sample - loss: 0.9108 - categorical_accuracy: 0.4473 - val_loss: 1.3142 - val_categorical_accuracy: 0.2632\n",
      "Epoch 9/25\n",
      "664/664 [==============================] - 178s 268ms/sample - loss: 0.8580 - categorical_accuracy: 0.4563 - val_loss: 1.1504 - val_categorical_accuracy: 0.2877\n",
      "Epoch 10/25\n",
      "664/664 [==============================] - 179s 270ms/sample - loss: 0.7530 - categorical_accuracy: 0.4729 - val_loss: 1.3612 - val_categorical_accuracy: 0.2632\n",
      "Epoch 11/25\n",
      "664/664 [==============================] - 180s 271ms/sample - loss: 0.6165 - categorical_accuracy: 0.5030 - val_loss: 1.5320 - val_categorical_accuracy: 0.3088\n",
      "Epoch 12/25\n",
      "664/664 [==============================] - 181s 273ms/sample - loss: 0.5590 - categorical_accuracy: 0.5798 - val_loss: 1.3460 - val_categorical_accuracy: 0.6175\n",
      "Epoch 13/25\n",
      "664/664 [==============================] - 179s 269ms/sample - loss: 0.4706 - categorical_accuracy: 0.6642 - val_loss: 1.3504 - val_categorical_accuracy: 0.6140\n",
      "Epoch 14/25\n",
      "664/664 [==============================] - 180s 270ms/sample - loss: 0.4029 - categorical_accuracy: 0.7590 - val_loss: 1.5754 - val_categorical_accuracy: 0.5439\n",
      "Epoch 15/25\n",
      "664/664 [==============================] - 178s 269ms/sample - loss: 0.3621 - categorical_accuracy: 0.8193 - val_loss: 1.2735 - val_categorical_accuracy: 0.6386\n",
      "Epoch 16/25\n",
      "664/664 [==============================] - 183s 276ms/sample - loss: 0.3929 - categorical_accuracy: 0.7560 - val_loss: 1.7004 - val_categorical_accuracy: 0.4947\n",
      "Epoch 17/25\n",
      "664/664 [==============================] - 179s 270ms/sample - loss: 0.2908 - categorical_accuracy: 0.8464 - val_loss: 1.5396 - val_categorical_accuracy: 0.6000\n",
      "Epoch 18/25\n",
      "664/664 [==============================] - 178s 268ms/sample - loss: 0.2652 - categorical_accuracy: 0.8931 - val_loss: 2.6289 - val_categorical_accuracy: 0.5088\n",
      "Epoch 19/25\n",
      "664/664 [==============================] - 177s 267ms/sample - loss: 0.2654 - categorical_accuracy: 0.8931 - val_loss: 2.5341 - val_categorical_accuracy: 0.5544\n",
      "Epoch 20/25\n",
      "664/664 [==============================] - 178s 269ms/sample - loss: 0.1848 - categorical_accuracy: 0.8916 - val_loss: 2.1843 - val_categorical_accuracy: 0.5895\n",
      "Epoch 21/25\n",
      "664/664 [==============================] - 177s 267ms/sample - loss: 0.1948 - categorical_accuracy: 0.9307 - val_loss: 1.8828 - val_categorical_accuracy: 0.6175\n",
      "Epoch 22/25\n",
      "664/664 [==============================] - 177s 266ms/sample - loss: 0.1627 - categorical_accuracy: 0.9488 - val_loss: 2.2723 - val_categorical_accuracy: 0.6070\n",
      "Epoch 23/25\n",
      "664/664 [==============================] - 179s 269ms/sample - loss: 0.1602 - categorical_accuracy: 0.9639 - val_loss: 3.3406 - val_categorical_accuracy: 0.5474\n",
      "Epoch 24/25\n",
      "664/664 [==============================] - 177s 266ms/sample - loss: 0.2114 - categorical_accuracy: 0.9458 - val_loss: 2.9658 - val_categorical_accuracy: 0.5193\n",
      "Epoch 25/25\n",
      "664/664 [==============================] - 177s 267ms/sample - loss: 0.1963 - categorical_accuracy: 0.9398 - val_loss: 2.6546 - val_categorical_accuracy: 0.5895\n"
     ]
    },
    {
     "data": {
      "text/plain": [
       "<tensorflow.python.keras.callbacks.History at 0x1a4f451898>"
      ]
     },
     "execution_count": 12,
     "metadata": {},
     "output_type": "execute_result"
    }
   ],
   "source": [
    "train_data, train_labels, test_data, test_labels, true_labels = topic_subset(['Feminist Movement'])\n",
    "\n",
    "#Start session\n",
    "compute_class = compute_class_weight('balanced', np.unique(true_labels), true_labels)\n",
    "weights = {0: compute_class[0], 1:compute_class[1], 2:compute_class[2]}\n",
    "\n",
    "sess = tf.Session()\n",
    "\n",
    "model = bert_model_2(max_length, train_layers=12, optimizer = 'adam')\n",
    "\n",
    "# Instantiate variables\n",
    "initialize_vars(sess)\n",
    "\n",
    "\n",
    "model.fit(\n",
    "    train_data, \n",
    "    train_labels,\n",
    "    validation_data=[test_data, test_labels],\n",
    "    epochs=25,\n",
    "    verbose=1,\n",
    "    batch_size=32,\n",
    "    class_weight = weights)"
   ]
  },
  {
   "cell_type": "code",
   "execution_count": 13,
   "metadata": {},
   "outputs": [
    {
     "name": "stdout",
     "output_type": "stream",
     "text": [
      "F1 macro score: 0.5641507170046053\n",
      "              precision    recall  f1-score   support\n",
      "\n",
      "     Against       0.79      0.56      0.65       183\n",
      "        None       0.48      0.70      0.57        44\n",
      "       Favor       0.38      0.60      0.47        58\n",
      "\n",
      "   micro avg       0.59      0.59      0.59       285\n",
      "   macro avg       0.55      0.62      0.56       285\n",
      "weighted avg       0.66      0.59      0.60       285\n",
      "\n"
     ]
    },
    {
     "data": {
      "image/png": "[encoded data removed]",
      "text/plain": [
       "<Figure size 1080x360 with 2 Axes>"
      ]
     },
     "metadata": {
      "needs_background": "light"
     },
     "output_type": "display_data"
    }
   ],
   "source": [
    "test_probs = model.predict(test_data)\n",
    "metrics(true_labels, test_probs)"
   ]
  },
  {
   "cell_type": "markdown",
   "metadata": {},
   "source": [
    "## ALL"
   ]
  },
  {
   "cell_type": "code",
   "execution_count": 17,
   "metadata": {
    "scrolled": true
   },
   "outputs": [
    {
     "name": "stdout",
     "output_type": "stream",
     "text": [
      "Model: \"model_4\"\n",
      "__________________________________________________________________________________________________\n",
      "Layer (type)                    Output Shape         Param #     Connected to                     \n",
      "==================================================================================================\n",
      "input_ids (InputLayer)          [(None, 83)]         0                                            \n",
      "__________________________________________________________________________________________________\n",
      "input_masks (InputLayer)        [(None, 83)]         0                                            \n",
      "__________________________________________________________________________________________________\n",
      "segment_ids (InputLayer)        [(None, 83)]         0                                            \n",
      "__________________________________________________________________________________________________\n",
      "bert_layer_4 (BertLayer)        (None, 768)          108931396   input_ids[0][0]                  \n",
      "                                                                 input_masks[0][0]                \n",
      "                                                                 segment_ids[0][0]                \n",
      "__________________________________________________________________________________________________\n",
      "dropout_8 (Dropout)             (None, 768)          0           bert_layer_4[0][0]               \n",
      "__________________________________________________________________________________________________\n",
      "dense1 (Dense)                  (None, 256)          196864      dropout_8[0][0]                  \n",
      "__________________________________________________________________________________________________\n",
      "dropout_9 (Dropout)             (None, 256)          0           dense1[0][0]                     \n",
      "__________________________________________________________________________________________________\n",
      "classification (Dense)          (None, 3)            771         dropout_9[0][0]                  \n",
      "==================================================================================================\n",
      "Total params: 109,129,031\n",
      "Trainable params: 6,693,379\n",
      "Non-trainable params: 102,435,652\n",
      "__________________________________________________________________________________________________\n",
      "Train on 2914 samples, validate on 1249 samples\n",
      "Epoch 1/20\n",
      "2914/2914 [==============================] - 674s 231ms/sample - loss: 1.7128 - categorical_accuracy: 0.3130 - val_loss: 1.1650 - val_categorical_accuracy: 0.1841\n",
      "Epoch 2/20\n",
      "2914/2914 [==============================] - 678s 233ms/sample - loss: 1.3060 - categorical_accuracy: 0.3071 - val_loss: 1.1380 - val_categorical_accuracy: 0.1841\n",
      "Epoch 3/20\n",
      "2914/2914 [==============================] - 684s 235ms/sample - loss: 1.2446 - categorical_accuracy: 0.2982 - val_loss: 1.1312 - val_categorical_accuracy: 0.1841\n",
      "Epoch 4/20\n",
      "2914/2914 [==============================] - 688s 236ms/sample - loss: 1.1718 - categorical_accuracy: 0.3428 - val_loss: 1.1394 - val_categorical_accuracy: 0.3259\n",
      "Epoch 5/20\n",
      "2914/2914 [==============================] - 679s 233ms/sample - loss: 1.1014 - categorical_accuracy: 0.4204 - val_loss: 1.0968 - val_categorical_accuracy: 0.2986\n",
      "Epoch 6/20\n",
      "2914/2914 [==============================] - 695s 238ms/sample - loss: 1.0264 - categorical_accuracy: 0.4300 - val_loss: 1.1635 - val_categorical_accuracy: 0.3131\n",
      "Epoch 7/20\n",
      "2914/2914 [==============================] - 705s 242ms/sample - loss: 0.9286 - categorical_accuracy: 0.4681 - val_loss: 0.9960 - val_categorical_accuracy: 0.3715\n",
      "Epoch 8/20\n",
      "2914/2914 [==============================] - 704s 242ms/sample - loss: 0.8049 - categorical_accuracy: 0.5254 - val_loss: 1.0242 - val_categorical_accuracy: 0.4019\n",
      "Epoch 9/20\n",
      "2914/2914 [==============================] - 708s 243ms/sample - loss: 0.7176 - categorical_accuracy: 0.5676 - val_loss: 1.0833 - val_categorical_accuracy: 0.3427\n",
      "Epoch 10/20\n",
      "2914/2914 [==============================] - 704s 242ms/sample - loss: 0.6287 - categorical_accuracy: 0.6383 - val_loss: 1.0365 - val_categorical_accuracy: 0.4027\n",
      "Epoch 11/20\n",
      "2914/2914 [==============================] - 672s 231ms/sample - loss: 0.5283 - categorical_accuracy: 0.6953 - val_loss: 1.2881 - val_categorical_accuracy: 0.5508\n",
      "Epoch 12/20\n",
      "2914/2914 [==============================] - 682s 234ms/sample - loss: 0.4725 - categorical_accuracy: 0.7464 - val_loss: 1.2771 - val_categorical_accuracy: 0.6229\n",
      "Epoch 13/20\n",
      "2914/2914 [==============================] - 1217s 418ms/sample - loss: 0.4018 - categorical_accuracy: 0.7999 - val_loss: 1.4727 - val_categorical_accuracy: 0.5669\n",
      "Epoch 14/20\n",
      "2914/2914 [==============================] - 766s 263ms/sample - loss: 0.3604 - categorical_accuracy: 0.8181 - val_loss: 1.3933 - val_categorical_accuracy: 0.6021\n",
      "Epoch 15/20\n",
      "2914/2914 [==============================] - 773s 265ms/sample - loss: 0.2308 - categorical_accuracy: 0.8933 - val_loss: 1.6693 - val_categorical_accuracy: 0.5989\n",
      "Epoch 16/20\n",
      "2914/2914 [==============================] - 795s 273ms/sample - loss: 0.2188 - categorical_accuracy: 0.9008 - val_loss: 2.0645 - val_categorical_accuracy: 0.6245\n",
      "Epoch 17/20\n",
      "2914/2914 [==============================] - 698s 240ms/sample - loss: 0.2692 - categorical_accuracy: 0.8998 - val_loss: 2.2562 - val_categorical_accuracy: 0.5108\n",
      "Epoch 18/20\n",
      "2914/2914 [==============================] - 656s 225ms/sample - loss: 0.6430 - categorical_accuracy: 0.7406 - val_loss: 1.3559 - val_categorical_accuracy: 0.5500\n",
      "Epoch 19/20\n",
      "2914/2914 [==============================] - 659s 226ms/sample - loss: 0.3097 - categorical_accuracy: 0.8699 - val_loss: 1.7232 - val_categorical_accuracy: 0.5933\n",
      "Epoch 20/20\n",
      "2914/2914 [==============================] - 667s 229ms/sample - loss: 0.1712 - categorical_accuracy: 0.9331 - val_loss: 2.5680 - val_categorical_accuracy: 0.5316\n"
     ]
    },
    {
     "data": {
      "text/plain": [
       "<tensorflow.python.keras.callbacks.History at 0x1b720d5f28>"
      ]
     },
     "execution_count": 17,
     "metadata": {},
     "output_type": "execute_result"
    }
   ],
   "source": [
    "train_data, train_labels, test_data, test_labels, true_labels = topic_subset(['Hillary Clinton', \n",
    "                                                                              'Legalization of Abortion', \n",
    "                                                                              'Climate Change is a Real Concern',\n",
    "                                                                             'Atheism',\n",
    "                                                                             'Feminist Movement'])\n",
    "\n",
    "\n",
    "#Start session\n",
    "compute_class = compute_class_weight('balanced', np.unique(true_labels), true_labels)\n",
    "weights = {0: compute_class[0], 1:compute_class[1], 2:compute_class[2]}\n",
    "\n",
    "sess = tf.Session()\n",
    "\n",
    "model = bert_model(max_length, train_layers=12, optimizer = 'adam')\n",
    "\n",
    "# Instantiate variables\n",
    "initialize_vars(sess)\n",
    "\n",
    "\n",
    "model.fit(\n",
    "    train_data, \n",
    "    train_labels,\n",
    "    validation_data=[test_data, test_labels],\n",
    "    epochs=20,\n",
    "    verbose=1,\n",
    "    batch_size=32,\n",
    "    class_weight = weights)"
   ]
  },
  {
   "cell_type": "code",
   "execution_count": 18,
   "metadata": {
    "scrolled": true
   },
   "outputs": [
    {
     "name": "stdout",
     "output_type": "stream",
     "text": [
      "F1 macro score: 0.5210482828539095\n",
      "              precision    recall  f1-score   support\n",
      "\n",
      "     Against       0.82      0.46      0.59       715\n",
      "        None       0.33      0.87      0.48       230\n",
      "       Favor       0.57      0.44      0.50       304\n",
      "\n",
      "   micro avg       0.53      0.53      0.53      1249\n",
      "   macro avg       0.57      0.59      0.52      1249\n",
      "weighted avg       0.67      0.53      0.55      1249\n",
      "\n"
     ]
    },
    {
     "data": {
      "image/png": "[encoded data removed]",
      "text/plain": [
       "<Figure size 1080x360 with 2 Axes>"
      ]
     },
     "metadata": {
      "needs_background": "light"
     },
     "output_type": "display_data"
    }
   ],
   "source": [
    "test_probs = model.predict(test_data)\n",
    "metrics(true_labels, test_probs)"
   ]
  },
  {
   "cell_type": "code",
   "execution_count": null,
   "metadata": {},
   "outputs": [],
   "source": [
    "train_data, train_labels, test_data, test_labels, true_labels = topic_subset(['Hillary Clinton', \n",
    "                                                                              'Legalization of Abortion', \n",
    "                                                                              'Climate Change is a Real Concern',\n",
    "                                                                             'Atheism',\n",
    "                                                                             'Feminist Movement'])\n",
    "\n",
    "\n",
    "#Start session\n",
    "compute_class = compute_class_weight('balanced', np.unique(true_labels), true_labels)\n",
    "weights = {0: compute_class[0], 1:compute_class[1], 2:compute_class[2]}\n",
    "\n",
    "sess = tf.Session()\n",
    "\n",
    "model = bert_model_2(max_length, train_layers=12, optimizer = 'adam')\n",
    "\n",
    "# Instantiate variables\n",
    "initialize_vars(sess)\n",
    "\n",
    "\n",
    "model.fit(\n",
    "    train_data, \n",
    "    train_labels,\n",
    "    validation_data=[test_data, test_labels],\n",
    "    epochs=20,\n",
    "    verbose=1,\n",
    "    batch_size=32,\n",
    "    class_weight = weights)"
   ]
  },
  {
   "cell_type": "code",
   "execution_count": 15,
   "metadata": {},
   "outputs": [
    {
     "name": "stdout",
     "output_type": "stream",
     "text": [
      "F1 macro score: 0.48972684163414665\n",
      "              precision    recall  f1-score   support\n",
      "\n",
      "     Against       0.77      0.34      0.47       715\n",
      "        None       0.35      0.80      0.49       230\n",
      "       Favor       0.44      0.60      0.51       304\n",
      "\n",
      "   micro avg       0.49      0.49      0.49      1249\n",
      "   macro avg       0.52      0.58      0.49      1249\n",
      "weighted avg       0.61      0.49      0.48      1249\n",
      "\n"
     ]
    },
    {
     "data": {
      "image/png": "[encoded data removed]",
      "text/plain": [
       "<Figure size 1080x360 with 2 Axes>"
      ]
     },
     "metadata": {
      "needs_background": "light"
     },
     "output_type": "display_data"
    }
   ],
   "source": [
    "test_probs = model.predict(test_data)\n",
    "metrics(true_labels, test_probs)"
   ]
  },
  {
   "cell_type": "code",
   "execution_count": null,
   "metadata": {},
   "outputs": [],
   "source": []
  }
 ],
 "metadata": {
  "kernelspec": {
   "display_name": "Python 3",
   "language": "python",
   "name": "python3"
  },
  "language_info": {
   "codemirror_mode": {
    "name": "ipython",
    "version": 3
   },
   "file_extension": ".py",
   "mimetype": "text/x-python",
   "name": "python",
   "nbconvert_exporter": "python",
   "pygments_lexer": "ipython3",
   "version": "3.7.3"
  }
 },
 "nbformat": 4,
 "nbformat_minor": 2
}
