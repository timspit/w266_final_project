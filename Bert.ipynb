{
 "cells": [
  {
   "cell_type": "markdown",
   "metadata": {},
   "source": [
    "## Setup"
   ]
  },
  {
   "cell_type": "code",
   "execution_count": 2,
   "metadata": {},
   "outputs": [],
   "source": [
    "#imports\n",
    "import pandas as pd\n",
    "import numpy as np\n",
    "from sklearn.metrics import f1_score\n",
    "import time\n",
    "import re\n",
    "import tensorflow as tf\n",
    "import tensorflow_hub as hub\n",
    "import os\n",
    "from sklearn.metrics import confusion_matrix, classification_report\n",
    "import matplotlib.pyplot as plt\n",
    "import string\n",
    "import sys\n",
    "from datetime import datetime\n",
    "from sklearn.utils.class_weight import compute_class_weight\n",
    "\n",
    "\n",
    "from tensorflow.keras import backend as K\n",
    "from tensorflow.keras import layers\n",
    "from tensorflow.python.keras.layers import Lambda\n",
    "from tensorflow.keras.callbacks import TensorBoard\n",
    "from tensorflow.keras.backend import sparse_categorical_crossentropy\n",
    "from tensorflow.keras.layers import Dense, TimeDistributed\n",
    "from datetime import datetime\n",
    "\n",
    "%matplotlib inline\n",
    "\n",
    "#set working directory\n",
    "os.chdir(\"/Users/alexdessouky/Desktop/MIDS/w266\")\n",
    "\n",
    "#load training data\n",
    "twitter_train = pd.read_excel('./w266_final_project/StanceDataset/train.xlsx')\n",
    "train_x = twitter_train['Tweet']\n",
    "train_y = twitter_train['Stance']\n",
    "\n",
    "\n",
    "#load test data\n",
    "twitter_test = pd.read_excel('./w266_final_project/StanceDataset/test.xlsx')\n",
    "test_x = twitter_test['Tweet']\n",
    "test_y = twitter_test['Stance']"
   ]
  },
  {
   "cell_type": "code",
   "execution_count": 3,
   "metadata": {},
   "outputs": [],
   "source": [
    "#store the paths to bert & data\n",
    "local_bert_path =   '/Users/alexdessouky/Desktop/MIDS/w266/bert' \n",
    "data_path = '/Users/alexdessouky/Desktop/MIDS/w266/w266_final_project/StanceDataset'  \n",
    "\n",
    "now = datetime.now() # current date and time\n",
    "\n",
    "# make sure that the paths are accessible within the notebook\n",
    "sys.path.insert(0,local_bert_path)\n",
    "sys.path.insert(0,data_path)"
   ]
  },
  {
   "cell_type": "code",
   "execution_count": 4,
   "metadata": {},
   "outputs": [
    {
     "name": "stderr",
     "output_type": "stream",
     "text": [
      "WARNING: Logging before flag parsing goes to stderr.\n",
      "W1114 14:25:30.876966 140735964402560 deprecation_wrapper.py:119] From /Users/alexdessouky/Desktop/MIDS/w266/bert/optimization.py:87: The name tf.train.Optimizer is deprecated. Please use tf.compat.v1.train.Optimizer instead.\n",
      "\n"
     ]
    }
   ],
   "source": [
    "import optimization\n",
    "import run_classifier\n",
    "import tokenization\n",
    "import run_classifier_with_tfhub\n",
    "\n",
    "# Tensorflow hub path to BERT module of choice\n",
    "bert_url = \"https://tfhub.dev/google/bert_cased_L-12_H-768_A-12/1\"\n",
    "\n",
    "# Define maximal length of input 'sentences' (post tokenization).\n",
    "max_length = 83"
   ]
  },
  {
   "cell_type": "markdown",
   "metadata": {},
   "source": [
    "## Bert tokenizer"
   ]
  },
  {
   "cell_type": "code",
   "execution_count": 5,
   "metadata": {},
   "outputs": [
    {
     "name": "stderr",
     "output_type": "stream",
     "text": [
      "W1114 14:25:34.139852 140735964402560 deprecation_wrapper.py:119] From /Users/alexdessouky/Desktop/MIDS/w266/bert/tokenization.py:125: The name tf.gfile.GFile is deprecated. Please use tf.io.gfile.GFile instead.\n",
      "\n"
     ]
    }
   ],
   "source": [
    "def create_tokenizer_from_hub_module():\n",
    "    \"\"\"Get the vocab file and casing info from the Hub module.\"\"\"\n",
    "    with tf.Graph().as_default():\n",
    "        bert_module = hub.Module(bert_url)\n",
    "        tokenization_info = bert_module(signature=\"tokenization_info\", as_dict=True)\n",
    "        with tf.Session() as sess:\n",
    "            vocab_file, do_lower_case = sess.run([tokenization_info[\"vocab_file\"],\n",
    "                                            tokenization_info[\"do_lower_case\"]])\n",
    "      \n",
    "    return tokenization.FullTokenizer(\n",
    "      vocab_file=vocab_file, do_lower_case=do_lower_case)\n",
    "\n",
    "tokenizer = create_tokenizer_from_hub_module()"
   ]
  },
  {
   "cell_type": "markdown",
   "metadata": {},
   "source": [
    "## Pre-Process Data"
   ]
  },
  {
   "cell_type": "code",
   "execution_count": 6,
   "metadata": {},
   "outputs": [],
   "source": [
    "#create tokens surrounded by the [CLS] and [SEP] tokens\n",
    "train_tokens = train_x.apply(lambda x: ['[CLS]'] + tokenizer.tokenize(x) + ['[SEP]'])\n",
    "test_tokens = test_x.apply(lambda x: ['[CLS]'] + tokenizer.tokenize(x) + ['[SEP]'])\n",
    "\n",
    "#mask ids (mask out the paddings)\n",
    "train_mask_ids = train_tokens.apply(lambda x: len(x)*[1])\n",
    "test_mask_ids = test_tokens.apply(lambda x: len(x)*[1])\n",
    "\n",
    "train_mask_ids = train_mask_ids.apply(lambda x: np.array(x + (max_length - len(x)) * [0]) if len(x) < max_length else \n",
    "                                      np.array(x)).tolist()\n",
    "test_mask_ids = test_mask_ids.apply(lambda x: np.array(x + (max_length - len(x)) * [0]) if len(x) < max_length else \n",
    "                                    np.array(x)).tolist()\n",
    "\n",
    "#add padding to tokens\n",
    "train_tokens = train_tokens.apply(lambda x: x + (max_length - len(x)) * ['[PAD]'] if len(x) < max_length else x)\n",
    "test_tokens = test_tokens.apply(lambda x: x + (max_length - len(x)) * ['[PAD]'] if len(x) < max_length else x)\n",
    "\n",
    "#test/train sequence vectors\n",
    "train_sequenceids = train_tokens.apply(lambda x: np.array(max_length*[0])).tolist()\n",
    "test_sequenceids = test_tokens.apply(lambda x: np.array(max_length*[0])).tolist()\n",
    "\n",
    "#convert tokens to sentence ids\n",
    "train_sentenceids = train_tokens.apply(lambda x: np.array(tokenizer.convert_tokens_to_ids(x))).tolist()\n",
    "test_sentenceids = test_tokens.apply(lambda x: np.array(tokenizer.convert_tokens_to_ids(x))).tolist()\n",
    "\n",
    "#bert features\n",
    "bert_train = [np.array(train_sentenceids),np.array(train_mask_ids),np.array(train_sequenceids)]\n",
    "bert_test = [np.array(test_sentenceids),np.array(test_mask_ids),np.array(test_sequenceids)]\n",
    "\n",
    "#labels\n",
    "stance_labels_train = np.array(twitter_train['Stance'].apply(lambda x: \n",
    "                                                                    2 if x == \"FAVOR\" else \n",
    "                                                                    (1 if x == \"NONE\" else 0)))\n",
    "\n",
    "stance_labels_test = np.array(twitter_test['Stance'].apply(lambda x: \n",
    "                                                                    2 if x == \"FAVOR\" else \n",
    "                                                                    (1 if x == \"NONE\" else 0)))\n",
    "\n",
    "            \n",
    "\n",
    "#PREP LABELS FOR NN\n",
    "train_y = np.zeros(shape = (stance_labels_train.shape[0],3))\n",
    "train_y[stance_labels_train == 0,0] = 1\n",
    "train_y[stance_labels_train == 1,1] = 1\n",
    "train_y[stance_labels_train == 2,2] = 1\n",
    "\n",
    "test_y = np.zeros(shape = (stance_labels_test.shape[0],3))\n",
    "test_y[stance_labels_test == 0,0] = 1\n",
    "test_y[stance_labels_test == 1,1] = 1\n",
    "test_y[stance_labels_test == 2,2] = 1"
   ]
  },
  {
   "cell_type": "markdown",
   "metadata": {},
   "source": [
    "## Function to obtain a subset of the data"
   ]
  },
  {
   "cell_type": "code",
   "execution_count": 7,
   "metadata": {},
   "outputs": [],
   "source": [
    "def topic_subset(topic_list):\n",
    "        \n",
    "    #convert topic list to lower case\n",
    "    for i in range(0,len(topic_list)):\n",
    "        topic_list[i] = topic_list[i].lower()\n",
    "    \n",
    "    #find boolean series of all rows pertaining to the relevant topics\n",
    "    matches_train = twitter_train['Target'].apply(lambda x: x.lower() in topic_list)\n",
    "    matches_test = twitter_test['Target'].apply(lambda x: x.lower() in topic_list)\n",
    "    \n",
    "    #subset labels\n",
    "    train_y_sub = train_y[matches_train,:]\n",
    "    test_y_sub = test_y[matches_test,:]\n",
    "    \n",
    "    \n",
    "    #initialize bert training lists for subsetting\n",
    "    bert_train_sub = []\n",
    "    bert_test_sub = []\n",
    "    \n",
    "    for train_input in bert_train:\n",
    "        bert_train_sub.append(train_input[matches_train,:])\n",
    "        \n",
    "    for test_input in bert_test:\n",
    "        bert_test_sub.append(test_input[matches_test,:])\n",
    "        \n",
    "    #also need to return the test labels in this format for metrics\n",
    "    true_labels = stance_labels_test[matches_test]\n",
    "    \n",
    "    return bert_train_sub, train_y_sub, bert_test_sub, test_y_sub, true_labels"
   ]
  },
  {
   "cell_type": "markdown",
   "metadata": {},
   "source": [
    "## Functions to Run Metrics"
   ]
  },
  {
   "cell_type": "code",
   "execution_count": 8,
   "metadata": {},
   "outputs": [],
   "source": [
    "def confusion_plot(confusion_matrix, target_names):\n",
    "    # Plot confusion matrix (via imshow)\n",
    "    plt.imshow(confusion_matrix, interpolation = \"nearest\", cmap = plt.cm.Blues)\n",
    "    plt.title(\"Confusion matrix\")\n",
    "    plt.colorbar()\n",
    "    tick_marks = np.arange(len(target_names))\n",
    "    plt.xticks(tick_marks, target_names)\n",
    "    plt.yticks(tick_marks, target_names)\n",
    "    plt.tight_layout()\n",
    "\n",
    "    # Loop through each value of the matrix to add data labels\n",
    "    width, height = confusion_matrix.shape\n",
    "    for x in range(width):\n",
    "        for y in range(height):\n",
    "            plt.annotate(str(confusion_matrix[x][y]), xy = (y, x), \n",
    "                        horizontalalignment = \"center\",\n",
    "                        verticalalignment = \"center\")\n",
    "    plt.ylabel(\"True label\")\n",
    "    \n",
    "def metrics(true_labels, test_probs):\n",
    "    \n",
    "    #find predicted labels\n",
    "    test_predicts = np.argmax(test_probs, axis = 1)\n",
    "    \n",
    "    #calculate f1 score\n",
    "    f1 = f1_score(true_labels, test_predicts, average = 'macro')\n",
    "    \n",
    "    print(\"F1 macro score:\", f1)\n",
    "    \n",
    "    print(classification_report(y_true = true_labels, \n",
    "                                        y_pred = test_predicts,\n",
    "                                        target_names = ['Against', 'None', 'Favor']))\n",
    "    \n",
    "    confuse = confusion_matrix(y_true = true_labels, y_pred = test_predicts)\n",
    "    \n",
    "    plt.figure(figsize=(15, 5))\n",
    "    confusion_plot(confuse, ['Against', 'None', 'Favor'])\n",
    "    plt.show()"
   ]
  },
  {
   "cell_type": "markdown",
   "metadata": {},
   "source": [
    "## Custom layer to create Bert"
   ]
  },
  {
   "cell_type": "code",
   "execution_count": 9,
   "metadata": {},
   "outputs": [],
   "source": [
    "class BertLayer(tf.keras.layers.Layer):\n",
    "    def __init__(self, n_fine_tune_layers=10, **kwargs):\n",
    "        self.n_fine_tune_layers = n_fine_tune_layers\n",
    "        self.trainable = True\n",
    "        self.output_size = 768\n",
    "        super(BertLayer, self).__init__(**kwargs)\n",
    "\n",
    "    def build(self, input_shape):\n",
    "        self.bert = hub.Module(\n",
    "            bert_url,\n",
    "            trainable=self.trainable,\n",
    "            name=\"{}_module\".format(self.name)\n",
    "        )\n",
    "        trainable_vars = self.bert.variables\n",
    "        \n",
    "        # Remove unused layers\n",
    "        trainable_vars = [var for var in trainable_vars if not \"/cls/\" in var.name]\n",
    "        \n",
    "        # Select how many layers to fine tune\n",
    "        trainable_vars = trainable_vars[-self.n_fine_tune_layers :]\n",
    "        \n",
    "        # Add to trainable weights\n",
    "        for var in trainable_vars:\n",
    "            self._trainable_weights.append(var)\n",
    "        \n",
    "        # Add non-trainable weights\n",
    "        for var in self.bert.variables:\n",
    "            if var not in self._trainable_weights:\n",
    "                self._non_trainable_weights.append(var)\n",
    "        \n",
    "        super(BertLayer, self).build(input_shape)\n",
    "\n",
    "    def call(self, inputs):\n",
    "        inputs = [K.cast(x, dtype=\"int32\") for x in inputs]\n",
    "        input_ids, input_mask, segment_ids = inputs\n",
    "        bert_inputs = dict(\n",
    "            input_ids=input_ids, input_mask=input_mask, segment_ids=segment_ids\n",
    "        )\n",
    "        result = self.bert(inputs=bert_inputs, signature=\"tokens\", as_dict=True)[\n",
    "            \"pooled_output\"\n",
    "        ]\n",
    "        return result\n",
    "\n",
    "    def compute_output_shape(self, input_shape):\n",
    "        return (input_shape[0], self.output_size)"
   ]
  },
  {
   "cell_type": "code",
   "execution_count": null,
   "metadata": {},
   "outputs": [],
   "source": [
    "class BertLayer2(tf.keras.layers.Layer):\n",
    "    def __init__(self, n_fine_tune_layers=10, **kwargs):\n",
    "        self.n_fine_tune_layers = n_fine_tune_layers\n",
    "        self.trainable = True\n",
    "        self.output_size = 768\n",
    "        super(BertLayer, self).__init__(**kwargs)\n",
    "\n",
    "    def build(self, input_shape):\n",
    "        self.bert = hub.Module(\n",
    "            bert_url,\n",
    "            trainable=self.trainable,\n",
    "            name=\"{}_module\".format(self.name)\n",
    "        )\n",
    "        trainable_vars = self.bert.variables\n",
    "        \n",
    "        # Remove unused layers\n",
    "        trainable_vars = [var for var in trainable_vars if not \"/cls/\" in var.name]\n",
    "        \n",
    "        # Select how many layers to fine tune\n",
    "        trainable_vars = trainable_vars[-self.n_fine_tune_layers :]\n",
    "        \n",
    "        # Add to trainable weights\n",
    "        for var in trainable_vars:\n",
    "            self._trainable_weights.append(var)\n",
    "        \n",
    "        # Add non-trainable weights\n",
    "        for var in self.bert.variables:\n",
    "            if var not in self._trainable_weights:\n",
    "                self._non_trainable_weights.append(var)\n",
    "        \n",
    "        super(BertLayer, self).build(input_shape)\n",
    "\n",
    "    def call(self, inputs):\n",
    "        inputs = [K.cast(x, dtype=\"int32\") for x in inputs]\n",
    "        input_ids, input_mask, segment_ids = inputs\n",
    "        bert_inputs = dict(\n",
    "            input_ids=input_ids, input_mask=input_mask, segment_ids=segment_ids\n",
    "        )\n",
    "        result = self.bert(inputs=bert_inputs, signature=\"tokens\", as_dict=True)[\n",
    "            \"sequence_output\"\n",
    "        ]\n",
    "        return result\n",
    "\n",
    "    def compute_output_shape(self, input_shape):\n",
    "        return (input_shape[0], self.output_size)"
   ]
  },
  {
   "cell_type": "markdown",
   "metadata": {},
   "source": [
    "## Define Model"
   ]
  },
  {
   "cell_type": "code",
   "execution_count": 10,
   "metadata": {},
   "outputs": [],
   "source": [
    "def bert_model(max_length, train_layers, optimizer = tf.keras.optimizers.Adam(learning_rate=0.1)):\n",
    "    \n",
    "    in_id = tf.keras.layers.Input(shape=(max_length,), name=\"input_ids\")\n",
    "    in_mask = tf.keras.layers.Input(shape=(max_length,), name=\"input_masks\")\n",
    "    in_segment = tf.keras.layers.Input(shape=(max_length,), name=\"segment_ids\")\n",
    "    \n",
    "    \n",
    "    bert_inputs = [in_id, in_mask, in_segment]\n",
    "    \n",
    "    bert_sequence = BertLayer(n_fine_tune_layers=train_layers)(bert_inputs)\n",
    "    \n",
    "    dropout1= tf.keras.layers.Dropout(rate=0.8)(bert_sequence)\n",
    "    \n",
    "    dense1 = tf.keras.layers.Dense(256, activation='relu', name='dense1')(dropout1)\n",
    "    \n",
    "    dropout2 = tf.keras.layers.Dropout(rate=0.8)(dense1)\n",
    "    \n",
    "    #dense2 = tf.keras.layers.Dense(64, activation='relu', name='dense2')(dropout2)\n",
    "    \n",
    "    #dropout3 = tf.keras.layers.Dropout(rate=0.5)(dense2)\n",
    "    \n",
    "    #dense3 = tf.keras.layers.Dense(16, activation='relu', name='dense3')(dropout3)\n",
    "    \n",
    "    #dropout4 = tf.keras.layers.Dropout(rate=0.5)(dense3)\n",
    "    \n",
    "    pred = tf.keras.layers.Dense(3, activation='softmax', name='classification')(dropout2)\n",
    "    \n",
    "    model = tf.keras.models.Model(inputs=bert_inputs, outputs=pred)\n",
    "\n",
    "    model.compile(loss='categorical_crossentropy', optimizer=optimizer, metrics = ['categorical_accuracy'])\n",
    "    \n",
    "    model.summary()\n",
    "    \n",
    "    return model\n",
    "\n",
    "def initialize_vars(sess):\n",
    "    sess.run(tf.local_variables_initializer())\n",
    "    sess.run(tf.global_variables_initializer())\n",
    "    sess.run(tf.tables_initializer())\n",
    "    K.set_session(sess)"
   ]
  },
  {
   "cell_type": "code",
   "execution_count": null,
   "metadata": {},
   "outputs": [],
   "source": [
    "def bert_model_2(max_length, train_layers, optimizer = tf.keras.optimizers.Adam(learning_rate=0.1)):\n",
    "    \n",
    "    in_id = tf.keras.layers.Input(shape=(max_length,), name=\"input_ids\")\n",
    "    in_mask = tf.keras.layers.Input(shape=(max_length,), name=\"input_masks\")\n",
    "    in_segment = tf.keras.layers.Input(shape=(max_length,), name=\"segment_ids\")\n",
    "    \n",
    "    \n",
    "    bert_inputs = [in_id, in_mask, in_segment]\n",
    "    \n",
    "    bert_sequence = BertLayer2(n_fine_tune_layers=train_layers)(bert_inputs)\n",
    "    \n",
    "    dropout1= tf.keras.layers.Dropout(rate=0.8)(bert_sequence)\n",
    "    \n",
    "    lstm1 = tf.keras.layers.LSTM(83, \n",
    "                         #kernel_initializer = keras.initializers.he_normal(),\n",
    "                         #recurrent_initializer = keras.initializers.he_normal(),\n",
    "                         #bias_initializer = keras.initializers.he_normal(),\n",
    "                         dropout = 0.7,\n",
    "                         name='lstm1')(dropout1)\n",
    "    \n",
    "    dense1 = tf.keras.layers.Dense(64, activation='relu', keras.initializers.he_normal(), name='dense1')(lstm1)\n",
    "    \n",
    "    dropout2 = tf.keras.layers.Dropout(rate=0.8)(dense1)\n",
    "    \n",
    "    \n",
    "    #dense2 = tf.keras.layers.Dense(64, activation='relu', name='dense2')(dropout2)\n",
    "    \n",
    "    #dropout3 = tf.keras.layers.Dropout(rate=0.5)(dense2)\n",
    "    \n",
    "    #dense3 = tf.keras.layers.Dense(16, activation='relu', name='dense3')(dropout3)\n",
    "    \n",
    "    #dropout4 = tf.keras.layers.Dropout(rate=0.5)(dense3)\n",
    "    \n",
    "    pred = tf.keras.layers.Dense(3, activation='softmax', name='classification')(dropout2)\n",
    "    \n",
    "    model = tf.keras.models.Model(inputs=bert_inputs, outputs=pred)\n",
    "\n",
    "    model.compile(loss='categorical_crossentropy', optimizer=optimizer, metrics = ['categorical_accuracy'])\n",
    "    \n",
    "    model.summary()\n",
    "    \n",
    "    return model\n",
    "\n",
    "def initialize_vars(sess):\n",
    "    sess.run(tf.local_variables_initializer())\n",
    "    sess.run(tf.global_variables_initializer())\n",
    "    sess.run(tf.tables_initializer())\n",
    "    K.set_session(sess)"
   ]
  },
  {
   "cell_type": "markdown",
   "metadata": {},
   "source": [
    "## Atheism"
   ]
  },
  {
   "cell_type": "code",
   "execution_count": 24,
   "metadata": {},
   "outputs": [
    {
     "name": "stdout",
     "output_type": "stream",
     "text": [
      "Model: \"model_7\"\n",
      "__________________________________________________________________________________________________\n",
      "Layer (type)                    Output Shape         Param #     Connected to                     \n",
      "==================================================================================================\n",
      "input_ids (InputLayer)          [(None, 83)]         0                                            \n",
      "__________________________________________________________________________________________________\n",
      "input_masks (InputLayer)        [(None, 83)]         0                                            \n",
      "__________________________________________________________________________________________________\n",
      "segment_ids (InputLayer)        [(None, 83)]         0                                            \n",
      "__________________________________________________________________________________________________\n",
      "bert_layer_7 (BertLayer)        (None, 768)          108931396   input_ids[0][0]                  \n",
      "                                                                 input_masks[0][0]                \n",
      "                                                                 segment_ids[0][0]                \n",
      "__________________________________________________________________________________________________\n",
      "dropout_15 (Dropout)            (None, 768)          0           bert_layer_7[0][0]               \n",
      "__________________________________________________________________________________________________\n",
      "dense1 (Dense)                  (None, 256)          196864      dropout_15[0][0]                 \n",
      "__________________________________________________________________________________________________\n",
      "dropout_16 (Dropout)            (None, 256)          0           dense1[0][0]                     \n",
      "__________________________________________________________________________________________________\n",
      "classification (Dense)          (None, 3)            771         dropout_16[0][0]                 \n",
      "==================================================================================================\n",
      "Total params: 109,129,031\n",
      "Trainable params: 6,693,379\n",
      "Non-trainable params: 102,435,652\n",
      "__________________________________________________________________________________________________\n",
      "Train on 513 samples, validate on 220 samples\n",
      "Epoch 1/12\n",
      "513/513 - 123s - loss: 3.7597 - categorical_accuracy: 0.3587 - val_loss: 1.5196 - val_categorical_accuracy: 0.1273\n",
      "Epoch 2/12\n",
      "513/513 - 115s - loss: 2.2714 - categorical_accuracy: 0.3431 - val_loss: 1.7162 - val_categorical_accuracy: 0.1273\n",
      "Epoch 3/12\n",
      "513/513 - 117s - loss: 2.6167 - categorical_accuracy: 0.2729 - val_loss: 1.1648 - val_categorical_accuracy: 0.1273\n",
      "Epoch 4/12\n",
      "513/513 - 117s - loss: 2.0123 - categorical_accuracy: 0.3002 - val_loss: 1.1447 - val_categorical_accuracy: 0.2318\n",
      "Epoch 5/12\n",
      "513/513 - 120s - loss: 1.5181 - categorical_accuracy: 0.3489 - val_loss: 1.1243 - val_categorical_accuracy: 0.2409\n",
      "Epoch 6/12\n",
      "513/513 - 119s - loss: 1.3719 - categorical_accuracy: 0.4094 - val_loss: 1.1826 - val_categorical_accuracy: 0.2227\n",
      "Epoch 7/12\n",
      "513/513 - 119s - loss: 1.0680 - categorical_accuracy: 0.4659 - val_loss: 1.1148 - val_categorical_accuracy: 0.2227\n",
      "Epoch 8/12\n",
      "513/513 - 120s - loss: 0.9132 - categorical_accuracy: 0.4639 - val_loss: 1.0444 - val_categorical_accuracy: 0.2455\n",
      "Epoch 9/12\n",
      "513/513 - 122s - loss: 0.7048 - categorical_accuracy: 0.5458 - val_loss: 1.2057 - val_categorical_accuracy: 0.6273\n",
      "Epoch 10/12\n",
      "513/513 - 126s - loss: 0.6056 - categorical_accuracy: 0.6472 - val_loss: 0.8559 - val_categorical_accuracy: 0.6955\n",
      "Epoch 11/12\n",
      "513/513 - 127s - loss: 0.5348 - categorical_accuracy: 0.6920 - val_loss: 1.2869 - val_categorical_accuracy: 0.5864\n",
      "Epoch 12/12\n",
      "513/513 - 129s - loss: 0.3526 - categorical_accuracy: 0.7778 - val_loss: 0.9267 - val_categorical_accuracy: 0.6955\n"
     ]
    },
    {
     "data": {
      "text/plain": [
       "<tensorflow.python.keras.callbacks.History at 0x1d059c3f28>"
      ]
     },
     "execution_count": 24,
     "metadata": {},
     "output_type": "execute_result"
    }
   ],
   "source": [
    "train_data, train_labels, test_data, test_labels, true_labels = topic_subset([\"Atheism\"])\n",
    "\n",
    "#Start session\n",
    "compute_class = compute_class_weight('balanced', np.unique(true_labels), true_labels)\n",
    "weights = {0: compute_class[0], 1:compute_class[1], 2:compute_class[2]}\n",
    "\n",
    "sess = tf.Session()\n",
    "\n",
    "model = bert_model(max_length, train_layers=12, optimizer = 'adam')\n",
    "\n",
    "# Instantiate variables\n",
    "initialize_vars(sess)\n",
    "\n",
    "\n",
    "model.fit(\n",
    "    train_data, \n",
    "    train_labels,\n",
    "    validation_data=[test_data, test_labels],\n",
    "    epochs=12,\n",
    "    verbose=2,\n",
    "    batch_size=32,\n",
    "    class_weight = weights)"
   ]
  },
  {
   "cell_type": "code",
   "execution_count": 25,
   "metadata": {},
   "outputs": [
    {
     "name": "stdout",
     "output_type": "stream",
     "text": [
      "F1 macro score: 0.6177527129795779\n",
      "              precision    recall  f1-score   support\n",
      "\n",
      "     Against       0.91      0.69      0.79       160\n",
      "        None       0.45      0.75      0.56        28\n",
      "       Favor       0.41      0.66      0.51        32\n",
      "\n",
      "   micro avg       0.70      0.70      0.70       220\n",
      "   macro avg       0.59      0.70      0.62       220\n",
      "weighted avg       0.78      0.70      0.72       220\n",
      "\n"
     ]
    },
    {
     "data": {
      "image/png": "[encoded data removed]",
      "text/plain": [
       "<Figure size 1080x360 with 2 Axes>"
      ]
     },
     "metadata": {
      "needs_background": "light"
     },
     "output_type": "display_data"
    }
   ],
   "source": [
    "test_probs = model.predict(test_data)\n",
    "metrics(true_labels, test_probs)"
   ]
  },
  {
   "cell_type": "markdown",
   "metadata": {},
   "source": [
    "## Hillary Clinton"
   ]
  },
  {
   "cell_type": "code",
   "execution_count": 22,
   "metadata": {
    "scrolled": false
   },
   "outputs": [
    {
     "name": "stdout",
     "output_type": "stream",
     "text": [
      "Model: \"model_6\"\n",
      "__________________________________________________________________________________________________\n",
      "Layer (type)                    Output Shape         Param #     Connected to                     \n",
      "==================================================================================================\n",
      "input_ids (InputLayer)          [(None, 83)]         0                                            \n",
      "__________________________________________________________________________________________________\n",
      "input_masks (InputLayer)        [(None, 83)]         0                                            \n",
      "__________________________________________________________________________________________________\n",
      "segment_ids (InputLayer)        [(None, 83)]         0                                            \n",
      "__________________________________________________________________________________________________\n",
      "bert_layer_6 (BertLayer)        (None, 768)          108931396   input_ids[0][0]                  \n",
      "                                                                 input_masks[0][0]                \n",
      "                                                                 segment_ids[0][0]                \n",
      "__________________________________________________________________________________________________\n",
      "dropout_13 (Dropout)            (None, 768)          0           bert_layer_6[0][0]               \n",
      "__________________________________________________________________________________________________\n",
      "dense1 (Dense)                  (None, 256)          196864      dropout_13[0][0]                 \n",
      "__________________________________________________________________________________________________\n",
      "dropout_14 (Dropout)            (None, 256)          0           dense1[0][0]                     \n",
      "__________________________________________________________________________________________________\n",
      "classification (Dense)          (None, 3)            771         dropout_14[0][0]                 \n",
      "==================================================================================================\n",
      "Total params: 109,129,031\n",
      "Trainable params: 6,693,379\n",
      "Non-trainable params: 102,435,652\n",
      "__________________________________________________________________________________________________\n",
      "Train on 689 samples, validate on 295 samples\n",
      "Epoch 1/12\n",
      "689/689 [==============================] - 167s 242ms/sample - loss: 2.6375 - categorical_accuracy: 0.3280 - val_loss: 1.0662 - val_categorical_accuracy: 0.5695\n",
      "Epoch 2/12\n",
      "689/689 [==============================] - 161s 233ms/sample - loss: 1.5592 - categorical_accuracy: 0.3527 - val_loss: 1.0493 - val_categorical_accuracy: 0.5831\n",
      "Epoch 3/12\n",
      "689/689 [==============================] - 162s 235ms/sample - loss: 1.4563 - categorical_accuracy: 0.3614 - val_loss: 1.1177 - val_categorical_accuracy: 0.3017\n",
      "Epoch 4/12\n",
      "689/689 [==============================] - 170s 247ms/sample - loss: 1.3319 - categorical_accuracy: 0.3266 - val_loss: 1.0577 - val_categorical_accuracy: 0.6169\n",
      "Epoch 5/12\n",
      "689/689 [==============================] - 168s 244ms/sample - loss: 1.2569 - categorical_accuracy: 0.3440 - val_loss: 1.0916 - val_categorical_accuracy: 0.4068\n",
      "Epoch 6/12\n",
      "689/689 [==============================] - 174s 252ms/sample - loss: 1.0238 - categorical_accuracy: 0.4615 - val_loss: 0.7937 - val_categorical_accuracy: 0.6644\n",
      "Epoch 7/12\n",
      "689/689 [==============================] - 175s 254ms/sample - loss: 0.9442 - categorical_accuracy: 0.5530 - val_loss: 0.8672 - val_categorical_accuracy: 0.6203\n",
      "Epoch 8/12\n",
      "689/689 [==============================] - 177s 257ms/sample - loss: 0.8009 - categorical_accuracy: 0.6459 - val_loss: 0.8048 - val_categorical_accuracy: 0.6644\n",
      "Epoch 9/12\n",
      "689/689 [==============================] - 179s 260ms/sample - loss: 0.6557 - categorical_accuracy: 0.7242 - val_loss: 0.9017 - val_categorical_accuracy: 0.6034\n",
      "Epoch 10/12\n",
      "689/689 [==============================] - 181s 263ms/sample - loss: 0.4322 - categorical_accuracy: 0.8200 - val_loss: 0.8028 - val_categorical_accuracy: 0.6983\n",
      "Epoch 11/12\n",
      "689/689 [==============================] - 183s 266ms/sample - loss: 0.2917 - categorical_accuracy: 0.8853 - val_loss: 1.1181 - val_categorical_accuracy: 0.6441\n",
      "Epoch 12/12\n",
      "689/689 [==============================] - 184s 268ms/sample - loss: 0.3291 - categorical_accuracy: 0.8607 - val_loss: 0.8949 - val_categorical_accuracy: 0.7254\n"
     ]
    },
    {
     "data": {
      "text/plain": [
       "<tensorflow.python.keras.callbacks.History at 0x1c397d6cc0>"
      ]
     },
     "execution_count": 22,
     "metadata": {},
     "output_type": "execute_result"
    }
   ],
   "source": [
    "train_data, train_labels, test_data, test_labels, true_labels = topic_subset([\"Hillary Clinton\"])\n",
    "\n",
    "#Start session\n",
    "compute_class = compute_class_weight('balanced', np.unique(true_labels), true_labels)\n",
    "weights = {0: compute_class[0], 1:compute_class[1], 2:compute_class[2]}\n",
    "\n",
    "sess = tf.Session()\n",
    "\n",
    "model = bert_model(max_length, train_layers=12, optimizer = 'adam')\n",
    "\n",
    "# Instantiate variables\n",
    "initialize_vars(sess)\n",
    "\n",
    "\n",
    "model.fit(\n",
    "    train_data, \n",
    "    train_labels,\n",
    "    validation_data=[test_data, test_labels],\n",
    "    epochs=12,\n",
    "    verbose=1,\n",
    "    batch_size=32,\n",
    "    class_weight = weights)"
   ]
  },
  {
   "cell_type": "code",
   "execution_count": 23,
   "metadata": {},
   "outputs": [
    {
     "name": "stdout",
     "output_type": "stream",
     "text": [
      "F1 macro score: 0.6788145876361057\n",
      "              precision    recall  f1-score   support\n",
      "\n",
      "     Against       0.83      0.72      0.77       172\n",
      "        None       0.62      0.87      0.73        78\n",
      "       Favor       0.59      0.49      0.54        45\n",
      "\n",
      "   micro avg       0.73      0.73      0.73       295\n",
      "   macro avg       0.68      0.69      0.68       295\n",
      "weighted avg       0.74      0.73      0.72       295\n",
      "\n"
     ]
    },
    {
     "data": {
      "image/png": "[encoded data removed]",
      "text/plain": [
       "<Figure size 1080x360 with 2 Axes>"
      ]
     },
     "metadata": {
      "needs_background": "light"
     },
     "output_type": "display_data"
    }
   ],
   "source": [
    "test_probs = model.predict(test_data)\n",
    "metrics(true_labels, test_probs)"
   ]
  },
  {
   "cell_type": "markdown",
   "metadata": {},
   "source": [
    "## Abortion"
   ]
  },
  {
   "cell_type": "code",
   "execution_count": 29,
   "metadata": {},
   "outputs": [
    {
     "name": "stdout",
     "output_type": "stream",
     "text": [
      "Model: \"model_9\"\n",
      "__________________________________________________________________________________________________\n",
      "Layer (type)                    Output Shape         Param #     Connected to                     \n",
      "==================================================================================================\n",
      "input_ids (InputLayer)          [(None, 83)]         0                                            \n",
      "__________________________________________________________________________________________________\n",
      "input_masks (InputLayer)        [(None, 83)]         0                                            \n",
      "__________________________________________________________________________________________________\n",
      "segment_ids (InputLayer)        [(None, 83)]         0                                            \n",
      "__________________________________________________________________________________________________\n",
      "bert_layer_10 (BertLayer)       (None, 768)          108931396   input_ids[0][0]                  \n",
      "                                                                 input_masks[0][0]                \n",
      "                                                                 segment_ids[0][0]                \n",
      "__________________________________________________________________________________________________\n",
      "dropout_19 (Dropout)            (None, 768)          0           bert_layer_10[0][0]              \n",
      "__________________________________________________________________________________________________\n",
      "dense1 (Dense)                  (None, 256)          196864      dropout_19[0][0]                 \n",
      "__________________________________________________________________________________________________\n",
      "dropout_20 (Dropout)            (None, 256)          0           dense1[0][0]                     \n",
      "__________________________________________________________________________________________________\n",
      "classification (Dense)          (None, 3)            771         dropout_20[0][0]                 \n",
      "==================================================================================================\n",
      "Total params: 109,129,031\n",
      "Trainable params: 6,693,379\n",
      "Non-trainable params: 102,435,652\n",
      "__________________________________________________________________________________________________\n",
      "Train on 653 samples, validate on 280 samples\n",
      "Epoch 1/20\n",
      "653/653 - 178s - loss: 2.9571 - categorical_accuracy: 0.2649 - val_loss: 1.2499 - val_categorical_accuracy: 0.1607\n",
      "Epoch 2/20\n",
      "653/653 - 165s - loss: 1.8312 - categorical_accuracy: 0.3093 - val_loss: 1.1557 - val_categorical_accuracy: 0.1643\n",
      "Epoch 3/20\n",
      "653/653 - 169s - loss: 1.5849 - categorical_accuracy: 0.3216 - val_loss: 1.1885 - val_categorical_accuracy: 0.2179\n",
      "Epoch 4/20\n",
      "653/653 - 168s - loss: 1.2227 - categorical_accuracy: 0.4012 - val_loss: 1.2351 - val_categorical_accuracy: 0.2571\n",
      "Epoch 5/20\n",
      "653/653 - 169s - loss: 1.1275 - categorical_accuracy: 0.4686 - val_loss: 1.0570 - val_categorical_accuracy: 0.5000\n",
      "Epoch 6/20\n",
      "653/653 - 170s - loss: 0.8588 - categorical_accuracy: 0.5436 - val_loss: 1.5482 - val_categorical_accuracy: 0.2214\n",
      "Epoch 7/20\n",
      "653/653 - 171s - loss: 0.7245 - categorical_accuracy: 0.6340 - val_loss: 1.4012 - val_categorical_accuracy: 0.5393\n",
      "Epoch 8/20\n",
      "653/653 - 172s - loss: 0.5436 - categorical_accuracy: 0.7274 - val_loss: 1.2250 - val_categorical_accuracy: 0.5571\n",
      "Epoch 9/20\n",
      "653/653 - 173s - loss: 0.4726 - categorical_accuracy: 0.7810 - val_loss: 1.5793 - val_categorical_accuracy: 0.5464\n",
      "Epoch 10/20\n",
      "653/653 - 173s - loss: 0.3802 - categorical_accuracy: 0.8545 - val_loss: 1.6787 - val_categorical_accuracy: 0.4679\n",
      "Epoch 11/20\n",
      "653/653 - 175s - loss: 0.2500 - categorical_accuracy: 0.8882 - val_loss: 1.8084 - val_categorical_accuracy: 0.6107\n",
      "Epoch 12/20\n",
      "653/653 - 173s - loss: 0.1654 - categorical_accuracy: 0.9372 - val_loss: 1.8881 - val_categorical_accuracy: 0.5929\n",
      "Epoch 13/20\n",
      "653/653 - 178s - loss: 0.1477 - categorical_accuracy: 0.9541 - val_loss: 1.5974 - val_categorical_accuracy: 0.5929\n",
      "Epoch 14/20\n",
      "653/653 - 174s - loss: 0.1414 - categorical_accuracy: 0.9678 - val_loss: 2.0742 - val_categorical_accuracy: 0.6179\n",
      "Epoch 15/20\n",
      "653/653 - 173s - loss: 0.0921 - categorical_accuracy: 0.9694 - val_loss: 2.7486 - val_categorical_accuracy: 0.6107\n",
      "Epoch 16/20\n",
      "653/653 - 172s - loss: 0.1038 - categorical_accuracy: 0.9709 - val_loss: 2.8118 - val_categorical_accuracy: 0.5036\n",
      "Epoch 17/20\n",
      "653/653 - 172s - loss: 0.1916 - categorical_accuracy: 0.9326 - val_loss: 2.8402 - val_categorical_accuracy: 0.5000\n",
      "Epoch 18/20\n",
      "653/653 - 173s - loss: 0.0994 - categorical_accuracy: 0.9632 - val_loss: 2.9472 - val_categorical_accuracy: 0.5321\n",
      "Epoch 19/20\n",
      "653/653 - 172s - loss: 0.0997 - categorical_accuracy: 0.9724 - val_loss: 2.4541 - val_categorical_accuracy: 0.5714\n",
      "Epoch 20/20\n",
      "653/653 - 171s - loss: 0.0312 - categorical_accuracy: 0.9908 - val_loss: 2.8935 - val_categorical_accuracy: 0.6179\n"
     ]
    },
    {
     "data": {
      "text/plain": [
       "<tensorflow.python.keras.callbacks.History at 0x1ee00866a0>"
      ]
     },
     "execution_count": 29,
     "metadata": {},
     "output_type": "execute_result"
    }
   ],
   "source": [
    "train_data, train_labels, test_data, test_labels, true_labels = topic_subset(['Legalization of Abortion'])\n",
    "\n",
    "#Start session\n",
    "compute_class = compute_class_weight('balanced', np.unique(true_labels), true_labels)\n",
    "weights = {0: compute_class[0], 1:compute_class[1], 2:compute_class[2]}\n",
    "\n",
    "sess = tf.Session()\n",
    "\n",
    "model = bert_model(max_length, train_layers=12, optimizer = 'adam')\n",
    "\n",
    "# Instantiate variables\n",
    "initialize_vars(sess)\n",
    "\n",
    "\n",
    "model.fit(\n",
    "    train_data, \n",
    "    train_labels,\n",
    "    validation_data=[test_data, test_labels],\n",
    "    epochs=20,\n",
    "    verbose=2,\n",
    "    batch_size=32,\n",
    "    class_weight = weights)"
   ]
  },
  {
   "cell_type": "code",
   "execution_count": 30,
   "metadata": {},
   "outputs": [
    {
     "name": "stdout",
     "output_type": "stream",
     "text": [
      "F1 macro score: 0.5595024875621891\n",
      "              precision    recall  f1-score   support\n",
      "\n",
      "     Against       0.80      0.62      0.70       189\n",
      "        None       0.44      0.78      0.56        45\n",
      "       Favor       0.39      0.46      0.42        46\n",
      "\n",
      "   micro avg       0.62      0.62      0.62       280\n",
      "   macro avg       0.54      0.62      0.56       280\n",
      "weighted avg       0.68      0.62      0.63       280\n",
      "\n"
     ]
    },
    {
     "data": {
      "image/png": "[encoded data removed]",
      "text/plain": [
       "<Figure size 1080x360 with 2 Axes>"
      ]
     },
     "metadata": {
      "needs_background": "light"
     },
     "output_type": "display_data"
    }
   ],
   "source": [
    "test_probs = model.predict(test_data)\n",
    "metrics(true_labels, test_probs)"
   ]
  },
  {
   "cell_type": "markdown",
   "metadata": {},
   "source": [
    "## Climate Change"
   ]
  },
  {
   "cell_type": "code",
   "execution_count": 33,
   "metadata": {},
   "outputs": [
    {
     "name": "stdout",
     "output_type": "stream",
     "text": [
      "Model: \"model_11\"\n",
      "__________________________________________________________________________________________________\n",
      "Layer (type)                    Output Shape         Param #     Connected to                     \n",
      "==================================================================================================\n",
      "input_ids (InputLayer)          [(None, 83)]         0                                            \n",
      "__________________________________________________________________________________________________\n",
      "input_masks (InputLayer)        [(None, 83)]         0                                            \n",
      "__________________________________________________________________________________________________\n",
      "segment_ids (InputLayer)        [(None, 83)]         0                                            \n",
      "__________________________________________________________________________________________________\n",
      "bert_layer_12 (BertLayer)       (None, 768)          108931396   input_ids[0][0]                  \n",
      "                                                                 input_masks[0][0]                \n",
      "                                                                 segment_ids[0][0]                \n",
      "__________________________________________________________________________________________________\n",
      "dropout_23 (Dropout)            (None, 768)          0           bert_layer_12[0][0]              \n",
      "__________________________________________________________________________________________________\n",
      "dense1 (Dense)                  (None, 256)          196864      dropout_23[0][0]                 \n",
      "__________________________________________________________________________________________________\n",
      "dropout_24 (Dropout)            (None, 256)          0           dense1[0][0]                     \n",
      "__________________________________________________________________________________________________\n",
      "classification (Dense)          (None, 3)            771         dropout_24[0][0]                 \n",
      "==================================================================================================\n",
      "Total params: 109,129,031\n",
      "Trainable params: 6,693,379\n",
      "Non-trainable params: 102,435,652\n",
      "__________________________________________________________________________________________________\n",
      "Train on 395 samples, validate on 169 samples\n",
      "Epoch 1/20\n",
      "395/395 - 110s - loss: 3.3449 - categorical_accuracy: 0.4000 - val_loss: 3.0626 - val_categorical_accuracy: 0.2071\n",
      "Epoch 2/20\n",
      "395/395 - 88s - loss: 2.5415 - categorical_accuracy: 0.4076 - val_loss: 1.7553 - val_categorical_accuracy: 0.2071\n",
      "Epoch 3/20\n",
      "395/395 - 88s - loss: 1.4655 - categorical_accuracy: 0.4582 - val_loss: 1.1072 - val_categorical_accuracy: 0.2071\n",
      "Epoch 4/20\n",
      "395/395 - 88s - loss: 1.6779 - categorical_accuracy: 0.4937 - val_loss: 1.0610 - val_categorical_accuracy: 0.3373\n",
      "Epoch 5/20\n",
      "395/395 - 88s - loss: 1.2167 - categorical_accuracy: 0.5443 - val_loss: 1.1041 - val_categorical_accuracy: 0.4852\n",
      "Epoch 6/20\n",
      "395/395 - 88s - loss: 1.1656 - categorical_accuracy: 0.5848 - val_loss: 1.7257 - val_categorical_accuracy: 0.3254\n",
      "Epoch 7/20\n",
      "395/395 - 88s - loss: 0.8617 - categorical_accuracy: 0.6278 - val_loss: 1.5339 - val_categorical_accuracy: 0.3491\n",
      "Epoch 8/20\n",
      "395/395 - 88s - loss: 0.9651 - categorical_accuracy: 0.6101 - val_loss: 0.6081 - val_categorical_accuracy: 0.7633\n",
      "Epoch 9/20\n",
      "395/395 - 88s - loss: 0.6789 - categorical_accuracy: 0.7797 - val_loss: 2.1419 - val_categorical_accuracy: 0.2367\n",
      "Epoch 10/20\n",
      "395/395 - 89s - loss: 0.6320 - categorical_accuracy: 0.6684 - val_loss: 0.6907 - val_categorical_accuracy: 0.7396\n",
      "Epoch 11/20\n",
      "395/395 - 89s - loss: 0.4401 - categorical_accuracy: 0.8532 - val_loss: 0.8343 - val_categorical_accuracy: 0.7396\n",
      "Epoch 12/20\n",
      "395/395 - 88s - loss: 0.1848 - categorical_accuracy: 0.9342 - val_loss: 1.2447 - val_categorical_accuracy: 0.6509\n",
      "Epoch 13/20\n",
      "395/395 - 89s - loss: 0.2175 - categorical_accuracy: 0.9291 - val_loss: 1.3194 - val_categorical_accuracy: 0.6805\n",
      "Epoch 14/20\n",
      "395/395 - 89s - loss: 0.1942 - categorical_accuracy: 0.9114 - val_loss: 0.8979 - val_categorical_accuracy: 0.7988\n",
      "Epoch 15/20\n",
      "395/395 - 88s - loss: 0.1976 - categorical_accuracy: 0.9392 - val_loss: 0.7363 - val_categorical_accuracy: 0.8166\n",
      "Epoch 16/20\n",
      "395/395 - 89s - loss: 0.2703 - categorical_accuracy: 0.9570 - val_loss: 1.4198 - val_categorical_accuracy: 0.7041\n",
      "Epoch 17/20\n",
      "395/395 - 89s - loss: 0.0823 - categorical_accuracy: 0.9418 - val_loss: 1.0827 - val_categorical_accuracy: 0.7456\n",
      "Epoch 18/20\n",
      "395/395 - 90s - loss: 0.0932 - categorical_accuracy: 0.9797 - val_loss: 1.0840 - val_categorical_accuracy: 0.7337\n",
      "Epoch 19/20\n",
      "395/395 - 89s - loss: 0.0286 - categorical_accuracy: 0.9975 - val_loss: 1.1539 - val_categorical_accuracy: 0.7751\n",
      "Epoch 20/20\n",
      "395/395 - 90s - loss: 0.0548 - categorical_accuracy: 0.9873 - val_loss: 1.3119 - val_categorical_accuracy: 0.7988\n"
     ]
    },
    {
     "data": {
      "text/plain": [
       "<tensorflow.python.keras.callbacks.History at 0x2176b870f0>"
      ]
     },
     "execution_count": 33,
     "metadata": {},
     "output_type": "execute_result"
    }
   ],
   "source": [
    "train_data, train_labels, test_data, test_labels, true_labels = topic_subset(['Climate Change is a Real Concern'])\n",
    "\n",
    "#Start session\n",
    "compute_class = compute_class_weight('balanced', np.unique(true_labels), true_labels)\n",
    "weights = {0: compute_class[0], 1:compute_class[1], 2:compute_class[2]}\n",
    "\n",
    "sess = tf.Session()\n",
    "\n",
    "model = bert_model(max_length, train_layers=12, optimizer = 'adam')\n",
    "\n",
    "# Instantiate variables\n",
    "initialize_vars(sess)\n",
    "\n",
    "\n",
    "model.fit(\n",
    "    train_data, \n",
    "    train_labels,\n",
    "    validation_data=[test_data, test_labels],\n",
    "    epochs=20,\n",
    "    verbose=2,\n",
    "    batch_size=32,\n",
    "    class_weight = weights)"
   ]
  },
  {
   "cell_type": "code",
   "execution_count": 34,
   "metadata": {},
   "outputs": [
    {
     "name": "stderr",
     "output_type": "stream",
     "text": [
      "/Users/alexdessouky/anaconda3/lib/python3.6/site-packages/sklearn/metrics/classification.py:1143: UndefinedMetricWarning: F-score is ill-defined and being set to 0.0 in labels with no predicted samples.\n",
      "  'precision', 'predicted', average, warn_for)\n",
      "/Users/alexdessouky/anaconda3/lib/python3.6/site-packages/sklearn/metrics/classification.py:1143: UndefinedMetricWarning: Precision and F-score are ill-defined and being set to 0.0 in labels with no predicted samples.\n",
      "  'precision', 'predicted', average, warn_for)\n"
     ]
    },
    {
     "name": "stdout",
     "output_type": "stream",
     "text": [
      "F1 macro score: 0.5221322537112011\n",
      "              precision    recall  f1-score   support\n",
      "\n",
      "     Against       0.00      0.00      0.00        11\n",
      "        None       0.62      0.80      0.70        35\n",
      "       Favor       0.86      0.87      0.87       123\n",
      "\n",
      "   micro avg       0.80      0.80      0.80       169\n",
      "   macro avg       0.50      0.56      0.52       169\n",
      "weighted avg       0.76      0.80      0.78       169\n",
      "\n"
     ]
    },
    {
     "data": {
      "image/png": "[encoded data removed]",
      "text/plain": [
       "<Figure size 1080x360 with 2 Axes>"
      ]
     },
     "metadata": {
      "needs_background": "light"
     },
     "output_type": "display_data"
    }
   ],
   "source": [
    "test_probs = model.predict(test_data)\n",
    "metrics(true_labels, test_probs)"
   ]
  },
  {
   "cell_type": "markdown",
   "metadata": {},
   "source": [
    "## Feminism"
   ]
  },
  {
   "cell_type": "code",
   "execution_count": 14,
   "metadata": {},
   "outputs": [
    {
     "name": "stderr",
     "output_type": "stream",
     "text": [
      "W1114 15:07:14.578288 140735964402560 nn_ops.py:4224] Large dropout rate: 0.8 (>0.5). In TensorFlow 2.x, dropout() uses dropout rate instead of keep_prob. Please ensure that this is intended.\n"
     ]
    },
    {
     "name": "stdout",
     "output_type": "stream",
     "text": [
      "Model: \"model_2\"\n",
      "__________________________________________________________________________________________________\n",
      "Layer (type)                    Output Shape         Param #     Connected to                     \n",
      "==================================================================================================\n",
      "input_ids (InputLayer)          [(None, 83)]         0                                            \n",
      "__________________________________________________________________________________________________\n",
      "input_masks (InputLayer)        [(None, 83)]         0                                            \n",
      "__________________________________________________________________________________________________\n",
      "segment_ids (InputLayer)        [(None, 83)]         0                                            \n",
      "__________________________________________________________________________________________________\n",
      "bert_layer_2 (BertLayer)        (None, 768)          108931396   input_ids[0][0]                  \n",
      "                                                                 input_masks[0][0]                \n",
      "                                                                 segment_ids[0][0]                \n",
      "__________________________________________________________________________________________________\n",
      "dropout_4 (Dropout)             (None, 768)          0           bert_layer_2[0][0]               \n",
      "__________________________________________________________________________________________________\n",
      "dense1 (Dense)                  (None, 256)          196864      dropout_4[0][0]                  \n",
      "__________________________________________________________________________________________________\n",
      "dropout_5 (Dropout)             (None, 256)          0           dense1[0][0]                     \n",
      "__________________________________________________________________________________________________\n",
      "classification (Dense)          (None, 3)            771         dropout_5[0][0]                  \n",
      "==================================================================================================\n",
      "Total params: 109,129,031\n",
      "Trainable params: 6,693,379\n",
      "Non-trainable params: 102,435,652\n",
      "__________________________________________________________________________________________________\n",
      "Train on 664 samples, validate on 285 samples\n",
      "Epoch 1/20\n",
      "664/664 - 149s - loss: 2.9726 - categorical_accuracy: 0.3298 - val_loss: 1.0561 - val_categorical_accuracy: 0.2035\n",
      "Epoch 2/20\n",
      "664/664 - 149s - loss: 2.0304 - categorical_accuracy: 0.2861 - val_loss: 1.1474 - val_categorical_accuracy: 0.2035\n",
      "Epoch 3/20\n",
      "664/664 - 154s - loss: 1.5194 - categorical_accuracy: 0.3313 - val_loss: 1.1130 - val_categorical_accuracy: 0.2035\n",
      "Epoch 4/20\n",
      "664/664 - 152s - loss: 1.4525 - categorical_accuracy: 0.2846 - val_loss: 1.2300 - val_categorical_accuracy: 0.2070\n",
      "Epoch 5/20\n",
      "664/664 - 149s - loss: 1.4512 - categorical_accuracy: 0.2937 - val_loss: 1.1478 - val_categorical_accuracy: 0.2246\n",
      "Epoch 6/20\n",
      "664/664 - 151s - loss: 1.2798 - categorical_accuracy: 0.3524 - val_loss: 1.1509 - val_categorical_accuracy: 0.2702\n",
      "Epoch 7/20\n",
      "664/664 - 151s - loss: 1.1888 - categorical_accuracy: 0.3931 - val_loss: 1.1122 - val_categorical_accuracy: 0.2702\n",
      "Epoch 8/20\n",
      "664/664 - 152s - loss: 1.0887 - categorical_accuracy: 0.4142 - val_loss: 1.1085 - val_categorical_accuracy: 0.2772\n",
      "Epoch 9/20\n",
      "664/664 - 151s - loss: 0.9609 - categorical_accuracy: 0.4533 - val_loss: 1.1429 - val_categorical_accuracy: 0.2807\n",
      "Epoch 10/20\n",
      "664/664 - 153s - loss: 0.8526 - categorical_accuracy: 0.4955 - val_loss: 1.2270 - val_categorical_accuracy: 0.2667\n",
      "Epoch 11/20\n",
      "664/664 - 153s - loss: 0.8282 - categorical_accuracy: 0.5015 - val_loss: 1.1805 - val_categorical_accuracy: 0.2421\n",
      "Epoch 12/20\n",
      "664/664 - 151s - loss: 0.6777 - categorical_accuracy: 0.5256 - val_loss: 1.2020 - val_categorical_accuracy: 0.2456\n",
      "Epoch 13/20\n",
      "664/664 - 152s - loss: 0.5818 - categorical_accuracy: 0.5602 - val_loss: 1.1849 - val_categorical_accuracy: 0.3368\n",
      "Epoch 14/20\n",
      "664/664 - 152s - loss: 0.4442 - categorical_accuracy: 0.6777 - val_loss: 1.3013 - val_categorical_accuracy: 0.4386\n",
      "Epoch 15/20\n",
      "664/664 - 152s - loss: 0.3037 - categorical_accuracy: 0.8148 - val_loss: 1.5389 - val_categorical_accuracy: 0.4912\n",
      "Epoch 16/20\n",
      "664/664 - 154s - loss: 0.2184 - categorical_accuracy: 0.8976 - val_loss: 2.4369 - val_categorical_accuracy: 0.3860\n",
      "Epoch 17/20\n",
      "664/664 - 153s - loss: 0.2434 - categorical_accuracy: 0.8961 - val_loss: 2.0131 - val_categorical_accuracy: 0.5018\n",
      "Epoch 18/20\n",
      "664/664 - 153s - loss: 0.3245 - categorical_accuracy: 0.8584 - val_loss: 2.1397 - val_categorical_accuracy: 0.4702\n",
      "Epoch 19/20\n",
      "664/664 - 153s - loss: 0.2861 - categorical_accuracy: 0.8840 - val_loss: 2.6741 - val_categorical_accuracy: 0.4667\n",
      "Epoch 20/20\n",
      "664/664 - 154s - loss: 0.2173 - categorical_accuracy: 0.9202 - val_loss: 2.1584 - val_categorical_accuracy: 0.5368\n"
     ]
    },
    {
     "data": {
      "text/plain": [
       "<tensorflow.python.keras.callbacks.History at 0x1af384ff60>"
      ]
     },
     "execution_count": 14,
     "metadata": {},
     "output_type": "execute_result"
    }
   ],
   "source": [
    "train_data, train_labels, test_data, test_labels, true_labels = topic_subset(['Feminist Movement'])\n",
    "\n",
    "#Start session\n",
    "compute_class = compute_class_weight('balanced', np.unique(true_labels), true_labels)\n",
    "weights = {0: compute_class[0], 1:compute_class[1], 2:compute_class[2]}\n",
    "\n",
    "sess = tf.Session()\n",
    "\n",
    "model = bert_model(max_length, train_layers=12, optimizer = 'adam')\n",
    "\n",
    "# Instantiate variables\n",
    "initialize_vars(sess)\n",
    "\n",
    "\n",
    "model.fit(\n",
    "    train_data, \n",
    "    train_labels,\n",
    "    validation_data=[test_data, test_labels],\n",
    "    epochs=25,\n",
    "    verbose=2,\n",
    "    batch_size=32,\n",
    "    class_weight = weights)"
   ]
  },
  {
   "cell_type": "code",
   "execution_count": 15,
   "metadata": {},
   "outputs": [
    {
     "name": "stdout",
     "output_type": "stream",
     "text": [
      "F1 macro score: 0.5047244148717484\n",
      "              precision    recall  f1-score   support\n",
      "\n",
      "     Against       0.75      0.51      0.61       183\n",
      "        None       0.51      0.41      0.46        44\n",
      "       Favor       0.33      0.71      0.45        58\n",
      "\n",
      "   micro avg       0.54      0.54      0.54       285\n",
      "   macro avg       0.53      0.54      0.50       285\n",
      "weighted avg       0.63      0.54      0.55       285\n",
      "\n"
     ]
    },
    {
     "data": {
      "image/png": "[encoded data removed]",
      "text/plain": [
       "<Figure size 1080x360 with 2 Axes>"
      ]
     },
     "metadata": {
      "needs_background": "light"
     },
     "output_type": "display_data"
    }
   ],
   "source": [
    "test_probs = model.predict(test_data)\n",
    "metrics(true_labels, test_probs)"
   ]
  },
  {
   "cell_type": "markdown",
   "metadata": {},
   "source": [
    "## ALL"
   ]
  },
  {
   "cell_type": "code",
   "execution_count": 17,
   "metadata": {},
   "outputs": [
    {
     "name": "stdout",
     "output_type": "stream",
     "text": [
      "Model: \"model_4\"\n",
      "__________________________________________________________________________________________________\n",
      "Layer (type)                    Output Shape         Param #     Connected to                     \n",
      "==================================================================================================\n",
      "input_ids (InputLayer)          [(None, 83)]         0                                            \n",
      "__________________________________________________________________________________________________\n",
      "input_masks (InputLayer)        [(None, 83)]         0                                            \n",
      "__________________________________________________________________________________________________\n",
      "segment_ids (InputLayer)        [(None, 83)]         0                                            \n",
      "__________________________________________________________________________________________________\n",
      "bert_layer_4 (BertLayer)        (None, 768)          108931396   input_ids[0][0]                  \n",
      "                                                                 input_masks[0][0]                \n",
      "                                                                 segment_ids[0][0]                \n",
      "__________________________________________________________________________________________________\n",
      "dropout_8 (Dropout)             (None, 768)          0           bert_layer_4[0][0]               \n",
      "__________________________________________________________________________________________________\n",
      "dense1 (Dense)                  (None, 256)          196864      dropout_8[0][0]                  \n",
      "__________________________________________________________________________________________________\n",
      "dropout_9 (Dropout)             (None, 256)          0           dense1[0][0]                     \n",
      "__________________________________________________________________________________________________\n",
      "classification (Dense)          (None, 3)            771         dropout_9[0][0]                  \n",
      "==================================================================================================\n",
      "Total params: 109,129,031\n",
      "Trainable params: 6,693,379\n",
      "Non-trainable params: 102,435,652\n",
      "__________________________________________________________________________________________________\n",
      "Train on 2914 samples, validate on 1249 samples\n",
      "Epoch 1/20\n",
      "2914/2914 [==============================] - 674s 231ms/sample - loss: 1.7128 - categorical_accuracy: 0.3130 - val_loss: 1.1650 - val_categorical_accuracy: 0.1841\n",
      "Epoch 2/20\n",
      "2914/2914 [==============================] - 678s 233ms/sample - loss: 1.3060 - categorical_accuracy: 0.3071 - val_loss: 1.1380 - val_categorical_accuracy: 0.1841\n",
      "Epoch 3/20\n",
      "2914/2914 [==============================] - 684s 235ms/sample - loss: 1.2446 - categorical_accuracy: 0.2982 - val_loss: 1.1312 - val_categorical_accuracy: 0.1841\n",
      "Epoch 4/20\n",
      "2914/2914 [==============================] - 688s 236ms/sample - loss: 1.1718 - categorical_accuracy: 0.3428 - val_loss: 1.1394 - val_categorical_accuracy: 0.3259\n",
      "Epoch 5/20\n",
      "2914/2914 [==============================] - 679s 233ms/sample - loss: 1.1014 - categorical_accuracy: 0.4204 - val_loss: 1.0968 - val_categorical_accuracy: 0.2986\n",
      "Epoch 6/20\n",
      "2914/2914 [==============================] - 695s 238ms/sample - loss: 1.0264 - categorical_accuracy: 0.4300 - val_loss: 1.1635 - val_categorical_accuracy: 0.3131\n",
      "Epoch 7/20\n",
      "2914/2914 [==============================] - 705s 242ms/sample - loss: 0.9286 - categorical_accuracy: 0.4681 - val_loss: 0.9960 - val_categorical_accuracy: 0.3715\n",
      "Epoch 8/20\n",
      "2914/2914 [==============================] - 704s 242ms/sample - loss: 0.8049 - categorical_accuracy: 0.5254 - val_loss: 1.0242 - val_categorical_accuracy: 0.4019\n",
      "Epoch 9/20\n",
      "2914/2914 [==============================] - 708s 243ms/sample - loss: 0.7176 - categorical_accuracy: 0.5676 - val_loss: 1.0833 - val_categorical_accuracy: 0.3427\n",
      "Epoch 10/20\n",
      "2914/2914 [==============================] - 704s 242ms/sample - loss: 0.6287 - categorical_accuracy: 0.6383 - val_loss: 1.0365 - val_categorical_accuracy: 0.4027\n",
      "Epoch 11/20\n",
      "2914/2914 [==============================] - 672s 231ms/sample - loss: 0.5283 - categorical_accuracy: 0.6953 - val_loss: 1.2881 - val_categorical_accuracy: 0.5508\n",
      "Epoch 12/20\n",
      "2914/2914 [==============================] - 682s 234ms/sample - loss: 0.4725 - categorical_accuracy: 0.7464 - val_loss: 1.2771 - val_categorical_accuracy: 0.6229\n",
      "Epoch 13/20\n",
      "2914/2914 [==============================] - 1217s 418ms/sample - loss: 0.4018 - categorical_accuracy: 0.7999 - val_loss: 1.4727 - val_categorical_accuracy: 0.5669\n",
      "Epoch 14/20\n",
      "2914/2914 [==============================] - 766s 263ms/sample - loss: 0.3604 - categorical_accuracy: 0.8181 - val_loss: 1.3933 - val_categorical_accuracy: 0.6021\n",
      "Epoch 15/20\n",
      "2914/2914 [==============================] - 773s 265ms/sample - loss: 0.2308 - categorical_accuracy: 0.8933 - val_loss: 1.6693 - val_categorical_accuracy: 0.5989\n",
      "Epoch 16/20\n",
      "2914/2914 [==============================] - 795s 273ms/sample - loss: 0.2188 - categorical_accuracy: 0.9008 - val_loss: 2.0645 - val_categorical_accuracy: 0.6245\n",
      "Epoch 17/20\n",
      "2914/2914 [==============================] - 698s 240ms/sample - loss: 0.2692 - categorical_accuracy: 0.8998 - val_loss: 2.2562 - val_categorical_accuracy: 0.5108\n",
      "Epoch 18/20\n",
      "2914/2914 [==============================] - 656s 225ms/sample - loss: 0.6430 - categorical_accuracy: 0.7406 - val_loss: 1.3559 - val_categorical_accuracy: 0.5500\n",
      "Epoch 19/20\n",
      "2914/2914 [==============================] - 659s 226ms/sample - loss: 0.3097 - categorical_accuracy: 0.8699 - val_loss: 1.7232 - val_categorical_accuracy: 0.5933\n",
      "Epoch 20/20\n",
      "2914/2914 [==============================] - 667s 229ms/sample - loss: 0.1712 - categorical_accuracy: 0.9331 - val_loss: 2.5680 - val_categorical_accuracy: 0.5316\n"
     ]
    },
    {
     "data": {
      "text/plain": [
       "<tensorflow.python.keras.callbacks.History at 0x1b720d5f28>"
      ]
     },
     "execution_count": 17,
     "metadata": {},
     "output_type": "execute_result"
    }
   ],
   "source": [
    "train_data, train_labels, test_data, test_labels, true_labels = topic_subset(['Hillary Clinton', \n",
    "                                                                              'Legalization of Abortion', \n",
    "                                                                              'Climate Change is a Real Concern',\n",
    "                                                                             'Atheism',\n",
    "                                                                             'Feminist Movement'])\n",
    "\n",
    "\n",
    "#Start session\n",
    "compute_class = compute_class_weight('balanced', np.unique(true_labels), true_labels)\n",
    "weights = {0: compute_class[0], 1:compute_class[1], 2:compute_class[2]}\n",
    "\n",
    "sess = tf.Session()\n",
    "\n",
    "model = bert_model(max_length, train_layers=12, optimizer = 'adam')\n",
    "\n",
    "# Instantiate variables\n",
    "initialize_vars(sess)\n",
    "\n",
    "\n",
    "model.fit(\n",
    "    train_data, \n",
    "    train_labels,\n",
    "    validation_data=[test_data, test_labels],\n",
    "    epochs=20,\n",
    "    verbose=1,\n",
    "    batch_size=32,\n",
    "    class_weight = weights)"
   ]
  },
  {
   "cell_type": "code",
   "execution_count": 18,
   "metadata": {},
   "outputs": [
    {
     "name": "stdout",
     "output_type": "stream",
     "text": [
      "F1 macro score: 0.5210482828539095\n",
      "              precision    recall  f1-score   support\n",
      "\n",
      "     Against       0.82      0.46      0.59       715\n",
      "        None       0.33      0.87      0.48       230\n",
      "       Favor       0.57      0.44      0.50       304\n",
      "\n",
      "   micro avg       0.53      0.53      0.53      1249\n",
      "   macro avg       0.57      0.59      0.52      1249\n",
      "weighted avg       0.67      0.53      0.55      1249\n",
      "\n"
     ]
    },
    {
     "data": {
      "image/png": "[encoded data removed]",
      "text/plain": [
       "<Figure size 1080x360 with 2 Axes>"
      ]
     },
     "metadata": {
      "needs_background": "light"
     },
     "output_type": "display_data"
    }
   ],
   "source": [
    "test_probs = model.predict(test_data)\n",
    "metrics(true_labels, test_probs)"
   ]
  },
  {
   "cell_type": "code",
   "execution_count": null,
   "metadata": {},
   "outputs": [],
   "source": []
  }
 ],
 "metadata": {
  "kernelspec": {
   "display_name": "Python 3",
   "language": "python",
   "name": "python3"
  },
  "language_info": {
   "codemirror_mode": {
    "name": "ipython",
    "version": 3
   },
   "file_extension": ".py",
   "mimetype": "text/x-python",
   "name": "python",
   "nbconvert_exporter": "python",
   "pygments_lexer": "ipython3",
   "version": "3.6.8"
  }
 },
 "nbformat": 4,
 "nbformat_minor": 2
}
