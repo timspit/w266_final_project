{
 "cells": [
  {
   "cell_type": "markdown",
   "metadata": {},
   "source": [
    "## Setup"
   ]
  },
  {
   "cell_type": "code",
   "execution_count": 9,
   "metadata": {},
   "outputs": [],
   "source": [
    "#imports\n",
    "import pandas as pd\n",
    "import numpy as np\n",
    "from sklearn.metrics import f1_score\n",
    "import time\n",
    "import re\n",
    "import tensorflow as tf\n",
    "import tensorflow_hub as hub\n",
    "import os\n",
    "from sklearn.metrics import confusion_matrix, classification_report\n",
    "import matplotlib.pyplot as plt\n",
    "import string\n",
    "import sys\n",
    "from datetime import datetime\n",
    "from sklearn.utils.class_weight import compute_class_weight\n",
    "from sklearn.model_selection import train_test_split\n",
    "\n",
    "\n",
    "from tensorflow.keras import backend as K\n",
    "from tensorflow.keras import layers\n",
    "from tensorflow.python.keras.layers import Lambda\n",
    "from tensorflow.keras.callbacks import TensorBoard\n",
    "from tensorflow.keras.backend import sparse_categorical_crossentropy\n",
    "from tensorflow.keras.layers import Dense, TimeDistributed\n",
    "from datetime import datetime\n",
    "\n",
    "%matplotlib inline\n",
    "\n",
    "#set working directory\n",
    "# os.chdir(\"/Users/alexdessouky/Desktop/MIDS/w266\")\n",
    "\n",
    "#load training data\n",
    "twitter_train = pd.read_excel('./StanceDataset/train.xlsx')\n",
    "train_x = twitter_train['Tweet']\n",
    "train_y = twitter_train['Stance']\n",
    "\n",
    "\n",
    "#load test data\n",
    "twitter_test = pd.read_excel('./StanceDataset/test.xlsx')\n",
    "test_x = twitter_test['Tweet']\n",
    "test_y = twitter_test[['Stance','Target']]\n",
    "\n",
    "#carve out 15% of test data to use as dev data\n",
    "test_x, dev_x, test_y, dev_y = train_test_split(test_x, test_y, test_size=0.15, random_state=42)\n",
    "\n",
    "#need to save the target arrays for test & dev separately; then can drop them from our y arrays\n",
    "target_test = test_y['Target']\n",
    "target_dev = dev_y['Target']\n",
    "\n",
    "test_y = test_y['Stance']\n",
    "dev_y = dev_y['Stance']"
   ]
  },
  {
   "cell_type": "code",
   "execution_count": 10,
   "metadata": {},
   "outputs": [],
   "source": [
    "#store the paths to bert & data\n",
    "bert_path =   '/Users/alexdessouky/Desktop/MIDS/w266/bert' \n",
    "#data_path = '/Users/alexdessouky/Desktop/MIDS/w266/w266_final_project/StanceDataset'  \n",
    "\n",
    "now = datetime.now() # current date and time\n",
    "\n",
    "# make sure that the paths are accessible within the notebook\n",
    "sys.path.insert(0,bert_path)\n",
    "# sys.path.insert(0,data_path)"
   ]
  },
  {
   "cell_type": "code",
   "execution_count": 11,
   "metadata": {},
   "outputs": [],
   "source": [
    "import optimization\n",
    "import run_classifier\n",
    "import tokenization\n",
    "import run_classifier_with_tfhub\n",
    "\n",
    "# Tensorflow hub path to BERT module of choice\n",
    "bert_url = \"https://tfhub.dev/google/bert_cased_L-12_H-768_A-12/1\"\n",
    "\n",
    "# Define maximal length of input 'sentences' (post tokenization).\n",
    "max_length = 83 ## max length with no preprocessing"
   ]
  },
  {
   "cell_type": "markdown",
   "metadata": {},
   "source": [
    "## Bert tokenizer"
   ]
  },
  {
   "cell_type": "code",
   "execution_count": 12,
   "metadata": {},
   "outputs": [],
   "source": [
    "def create_tokenizer_from_hub_module():\n",
    "    \"\"\"Get the vocab file and casing info from the Hub module.\"\"\"\n",
    "    with tf.Graph().as_default():\n",
    "        bert_module = hub.Module(bert_url)\n",
    "        tokenization_info = bert_module(signature=\"tokenization_info\", as_dict=True)\n",
    "        with tf.Session() as sess:\n",
    "            vocab_file, do_lower_case = sess.run([tokenization_info[\"vocab_file\"],\n",
    "                                            tokenization_info[\"do_lower_case\"]])\n",
    "      \n",
    "    return tokenization.FullTokenizer(\n",
    "      vocab_file=vocab_file, do_lower_case=do_lower_case)\n",
    "\n",
    "tokenizer = create_tokenizer_from_hub_module()"
   ]
  },
  {
   "cell_type": "markdown",
   "metadata": {},
   "source": [
    "## If we want to \"Clean\" the tweets; uncomment out this cell (performs better without)"
   ]
  },
  {
   "cell_type": "code",
   "execution_count": 13,
   "metadata": {},
   "outputs": [],
   "source": [
    "#def preprocess_tweets(x):\n",
    "    \n",
    "    # Remove punctuation EXCEPT for hashtags (#) and handles (@)\n",
    "#    exclude_punc = [punc for punc in string.punctuation if punc not in ['#', '@']]\n",
    "#    x_nopunc = ''.join(ch for ch in x if ch not in exclude_punc)\n",
    "\n",
    "    # lower case\n",
    "#    x_lower = x_nopunc.lower()\n",
    "    \n",
    "    # Replace digits with DIGIT\n",
    "#    x_digits = re.sub(\"\\d+\", \"DIGIT\", x_lower)\n",
    "    \n",
    "#    return x_digits\n",
    "\n",
    "#train_x = twitter_train['Tweet'].apply(lambda x: preprocess_tweets(x))\n",
    "#test_x = twitter_test['Tweet'].apply(lambda x: preprocess_tweets(x))\n",
    "\n",
    "#max_length = 95 #redefine max length - this is what it is when we clean the tweets"
   ]
  },
  {
   "cell_type": "markdown",
   "metadata": {},
   "source": [
    "## Pre-Process Data"
   ]
  },
  {
   "cell_type": "code",
   "execution_count": 14,
   "metadata": {},
   "outputs": [],
   "source": [
    "#create tokens surrounded by the [CLS] and [SEP] tokens\n",
    "train_tokens = train_x.apply(lambda x: ['[CLS]'] + tokenizer.tokenize(x) + ['[SEP]'])\n",
    "test_tokens = test_x.apply(lambda x: ['[CLS]'] + tokenizer.tokenize(x) + ['[SEP]'])\n",
    "dev_tokens = dev_x.apply(lambda x: ['[CLS]'] + tokenizer.tokenize(x) + ['[SEP]'])\n",
    "\n",
    "#mask ids (mask out the paddings)\n",
    "train_mask_ids = train_tokens.apply(lambda x: len(x)*[1])\n",
    "test_mask_ids = test_tokens.apply(lambda x: len(x)*[1])\n",
    "dev_mask_ids = dev_tokens.apply(lambda x: len(x)*[1])\n",
    "\n",
    "train_mask_ids = train_mask_ids.apply(lambda x: np.array(x + (max_length - len(x)) * [0]) if len(x) < max_length else \n",
    "                                      np.array(x)).tolist()\n",
    "test_mask_ids = test_mask_ids.apply(lambda x: np.array(x + (max_length - len(x)) * [0]) if len(x) < max_length else \n",
    "                                    np.array(x)).tolist()\n",
    "dev_mask_ids = dev_mask_ids.apply(lambda x: np.array(x + (max_length - len(x)) * [0]) if len(x) < max_length else \n",
    "                                    np.array(x)).tolist()\n",
    "\n",
    "#add padding to tokens\n",
    "train_tokens = train_tokens.apply(lambda x: x + (max_length - len(x)) * ['[PAD]'] if len(x) < max_length else x)\n",
    "test_tokens = test_tokens.apply(lambda x: x + (max_length - len(x)) * ['[PAD]'] if len(x) < max_length else x)\n",
    "dev_tokens = dev_tokens.apply(lambda x: x + (max_length - len(x)) * ['[PAD]'] if len(x) < max_length else x)\n",
    "\n",
    "#test/train sequence vectors\n",
    "train_sequenceids = train_tokens.apply(lambda x: np.array(max_length*[0])).tolist()\n",
    "test_sequenceids = test_tokens.apply(lambda x: np.array(max_length*[0])).tolist()\n",
    "dev_sequenceids = dev_tokens.apply(lambda x: np.array(max_length*[0])).tolist()\n",
    "\n",
    "#convert tokens to sentence ids\n",
    "train_sentenceids = train_tokens.apply(lambda x: np.array(tokenizer.convert_tokens_to_ids(x))).tolist()\n",
    "test_sentenceids = test_tokens.apply(lambda x: np.array(tokenizer.convert_tokens_to_ids(x))).tolist()\n",
    "dev_sentenceids = dev_tokens.apply(lambda x: np.array(tokenizer.convert_tokens_to_ids(x))).tolist()\n",
    "\n",
    "#bert features\n",
    "bert_train = [np.array(train_sentenceids),np.array(train_mask_ids),np.array(train_sequenceids)]\n",
    "bert_test = [np.array(test_sentenceids),np.array(test_mask_ids),np.array(test_sequenceids)]\n",
    "bert_dev = [np.array(dev_sentenceids),np.array(dev_mask_ids),np.array(dev_sequenceids)]\n",
    "\n",
    "#labels\n",
    "stance_labels_train = np.array(twitter_train['Stance'].apply(lambda x: \n",
    "                                                                    2 if x == \"FAVOR\" else \n",
    "                                                                    (1 if x == \"NONE\" else 0)))\n",
    "\n",
    "stance_labels_test = np.array(pd.Series(test_y).apply(lambda x: \n",
    "                                                                2 if x == \"FAVOR\" else \n",
    "                                                                (1 if x == \"NONE\" else 0)))\n",
    "\n",
    "stance_labels_dev = np.array(pd.Series(dev_y).apply(lambda x: \n",
    "                                                                2 if x == \"FAVOR\" else \n",
    "                                                                (1 if x == \"NONE\" else 0)))\n",
    "      \n",
    "\n",
    "#PREP LABELS FOR NN\n",
    "train_y = np.zeros(shape = (stance_labels_train.shape[0],3))\n",
    "train_y[stance_labels_train == 0,0] = 1\n",
    "train_y[stance_labels_train == 1,1] = 1\n",
    "train_y[stance_labels_train == 2,2] = 1\n",
    "\n",
    "test_y = np.zeros(shape = (stance_labels_test.shape[0],3))\n",
    "test_y[stance_labels_test == 0,0] = 1\n",
    "test_y[stance_labels_test == 1,1] = 1\n",
    "test_y[stance_labels_test == 2,2] = 1\n",
    "\n",
    "dev_y = np.zeros(shape = (stance_labels_dev.shape[0],3))\n",
    "dev_y[stance_labels_dev == 0,0] = 1\n",
    "dev_y[stance_labels_dev == 1,1] = 1\n",
    "dev_y[stance_labels_dev == 2,2] = 1"
   ]
  },
  {
   "cell_type": "markdown",
   "metadata": {},
   "source": [
    "## Check data shapes"
   ]
  },
  {
   "cell_type": "code",
   "execution_count": 15,
   "metadata": {},
   "outputs": [
    {
     "name": "stdout",
     "output_type": "stream",
     "text": [
      "(2914, 83)(2914, 83)(2914, 83)\n",
      "(2914, 3)\n",
      "(1662, 83)(1662, 83)(1662, 83)\n",
      "(1662, 3)\n",
      "(294, 83)(294, 83)(294, 83)\n",
      "(294, 3)\n"
     ]
    }
   ],
   "source": [
    "print(str(bert_train[0].shape) + str(bert_train[1].shape) + str(bert_train[2].shape))\n",
    "print(train_y.shape)\n",
    "\n",
    "print(str(bert_test[0].shape) + str(bert_test[1].shape) + str(bert_test[2].shape))\n",
    "print(test_y.shape)\n",
    "\n",
    "print(str(bert_dev[0].shape) + str(bert_dev[1].shape) + str(bert_dev[2].shape))\n",
    "print(dev_y.shape)"
   ]
  },
  {
   "cell_type": "markdown",
   "metadata": {},
   "source": [
    "## Function to obtain a subset of the data"
   ]
  },
  {
   "cell_type": "code",
   "execution_count": 22,
   "metadata": {},
   "outputs": [],
   "source": [
    "def topic_subset(topic_list):\n",
    "        \n",
    "    #convert topic list to lower case\n",
    "    for i in range(0,len(topic_list)):\n",
    "        topic_list[i] = topic_list[i].lower()\n",
    "    \n",
    "    #find boolean series of all rows pertaining to the relevant topics\n",
    "    matches_train = twitter_train['Target'].apply(lambda x: x.lower() in topic_list)\n",
    "    matches_test = pd.Series(target_test).apply(lambda x: x.lower() in topic_list)\n",
    "    matches_dev = pd.Series(target_dev).apply(lambda x: x.lower() in topic_list)\n",
    "    \n",
    "    #subset labels\n",
    "    train_y_sub = train_y[matches_train,:]\n",
    "    test_y_sub = test_y[matches_test,:]\n",
    "    dev_y_sub = dev_y[matches_dev,:]\n",
    "    \n",
    "    \n",
    "    #initialize bert training lists for subsetting\n",
    "    bert_train_sub = []\n",
    "    bert_test_sub = []\n",
    "    bert_dev_sub = []\n",
    "    \n",
    "    for train_input in bert_train:\n",
    "        bert_train_sub.append(train_input[matches_train,:])\n",
    "        \n",
    "    for test_input in bert_test:\n",
    "        bert_test_sub.append(test_input[matches_test,:])\n",
    "        \n",
    "    for dev_input in bert_dev:\n",
    "        bert_dev_sub.append(dev_input[matches_dev,:])\n",
    "        \n",
    "    #also need to return the test labels in this format for metrics\n",
    "    true_labels = stance_labels_test[matches_test]\n",
    "    \n",
    "    return bert_train_sub, train_y_sub, bert_test_sub, test_y_sub, true_labels, bert_dev_sub, dev_y_sub"
   ]
  },
  {
   "cell_type": "markdown",
   "metadata": {},
   "source": [
    "## Functions to Run Metrics"
   ]
  },
  {
   "cell_type": "code",
   "execution_count": 17,
   "metadata": {},
   "outputs": [],
   "source": [
    "def confusion_plot(confusion_matrix, target_names):\n",
    "    # Plot confusion matrix (via imshow)\n",
    "    plt.imshow(confusion_matrix, interpolation = \"nearest\", cmap = plt.cm.Blues)\n",
    "    plt.title(\"Confusion matrix\")\n",
    "    plt.colorbar()\n",
    "    tick_marks = np.arange(len(target_names))\n",
    "    plt.xticks(tick_marks, target_names)\n",
    "    plt.yticks(tick_marks, target_names)\n",
    "    plt.tight_layout()\n",
    "\n",
    "    # Loop through each value of the matrix to add data labels\n",
    "    width, height = confusion_matrix.shape\n",
    "    for x in range(width):\n",
    "        for y in range(height):\n",
    "            plt.annotate(str(confusion_matrix[x][y]), xy = (y, x), \n",
    "                        horizontalalignment = \"center\",\n",
    "                        verticalalignment = \"center\")\n",
    "    plt.ylabel(\"True label\")\n",
    "    \n",
    "def metrics(true_labels, test_probs):\n",
    "    \n",
    "    #find predicted labels\n",
    "    test_predicts = np.argmax(test_probs, axis = 1)\n",
    "    \n",
    "    #calculate f1 score\n",
    "    f1 = f1_score(true_labels, test_predicts, average = 'macro')\n",
    "    \n",
    "    print(\"F1 macro score:\", f1)\n",
    "    \n",
    "    print(classification_report(y_true = true_labels, \n",
    "                                        y_pred = test_predicts,\n",
    "                                        target_names = ['Against', 'None', 'Favor']))\n",
    "    \n",
    "    confuse = confusion_matrix(y_true = true_labels, y_pred = test_predicts)\n",
    "    \n",
    "    plt.figure(figsize=(15, 5))\n",
    "    confusion_plot(confuse, ['Against', 'None', 'Favor'])\n",
    "    plt.show()"
   ]
  },
  {
   "cell_type": "markdown",
   "metadata": {},
   "source": [
    "## Custom layer to create Bert (1 for pooled output and another for Sequential)"
   ]
  },
  {
   "cell_type": "code",
   "execution_count": null,
   "metadata": {},
   "outputs": [],
   "source": [
    "class BertLayer_Pool(tf.keras.layers.Layer):\n",
    "    def __init__(self, n_fine_tune_layers=10, **kwargs):\n",
    "        self.n_fine_tune_layers = n_fine_tune_layers\n",
    "        self.trainable = True\n",
    "        self.output_size = 768\n",
    "        super(BertLayer_Pool, self).__init__(**kwargs)\n",
    "\n",
    "    def build(self, input_shape):\n",
    "        self.bert = hub.Module(\n",
    "            bert_url,\n",
    "            trainable=self.trainable,\n",
    "            name=\"{}_module\".format(self.name)\n",
    "        )\n",
    "        trainable_vars = self.bert.variables\n",
    "        \n",
    "        # Remove unused layers\n",
    "        trainable_vars = [var for var in trainable_vars if not \"/cls/\" in var.name]\n",
    "        \n",
    "        # Select how many layers to fine tune\n",
    "        trainable_vars = trainable_vars[-self.n_fine_tune_layers :]\n",
    "        \n",
    "        # Add to trainable weights\n",
    "        for var in trainable_vars:\n",
    "            self._trainable_weights.append(var)\n",
    "        \n",
    "        # Add non-trainable weights\n",
    "        for var in self.bert.variables:\n",
    "            if var not in self._trainable_weights:\n",
    "                self._non_trainable_weights.append(var)\n",
    "        \n",
    "        super(BertLayer_Pool, self).build(input_shape)\n",
    "\n",
    "    def call(self, inputs):\n",
    "        inputs = [K.cast(x, dtype=\"int32\") for x in inputs]\n",
    "        input_ids, input_mask, segment_ids = inputs\n",
    "        bert_inputs = dict(\n",
    "            input_ids=input_ids, input_mask=input_mask, segment_ids=segment_ids\n",
    "        )\n",
    "        result = self.bert(inputs=bert_inputs, signature=\"tokens\", as_dict=True)[\n",
    "            \"pooled_output\"\n",
    "        ]\n",
    "        return result\n",
    "\n",
    "    def compute_output_shape(self, input_shape):\n",
    "        return (input_shape[0], self.output_size)"
   ]
  },
  {
   "cell_type": "code",
   "execution_count": 18,
   "metadata": {},
   "outputs": [],
   "source": [
    "class BertLayer_Seq(tf.keras.layers.Layer):\n",
    "    def __init__(self, n_fine_tune_layers=10, **kwargs):\n",
    "        self.n_fine_tune_layers = n_fine_tune_layers\n",
    "        self.trainable = True\n",
    "        self.output_size = 768\n",
    "        super(BertLayer_Seq, self).__init__(**kwargs)\n",
    "\n",
    "    def build(self, input_shape):\n",
    "        self.bert = hub.Module(\n",
    "            bert_url,\n",
    "            trainable=self.trainable,\n",
    "            name=\"{}_module\".format(self.name)\n",
    "        )\n",
    "        trainable_vars = self.bert.variables\n",
    "        \n",
    "        # Remove unused layers\n",
    "        trainable_vars = [var for var in trainable_vars if not \"/cls/\" in var.name and not \"/pooler/\" in var.name]\n",
    "        \n",
    "        # Select how many layers to fine tune\n",
    "        trainable_vars = trainable_vars[-self.n_fine_tune_layers :]\n",
    "        \n",
    "        # Add to trainable weights\n",
    "        for var in trainable_vars:\n",
    "            self._trainable_weights.append(var)\n",
    "        \n",
    "        # Add non-trainable weights\n",
    "        for var in self.bert.variables:\n",
    "            if var not in self._trainable_weights:\n",
    "                self._non_trainable_weights.append(var)\n",
    "        \n",
    "        super(BertLayer_Seq, self).build(input_shape)\n",
    "\n",
    "    def call(self, inputs):\n",
    "        inputs = [K.cast(x, dtype=\"int32\") for x in inputs]\n",
    "        input_ids, input_mask, segment_ids = inputs\n",
    "        bert_inputs = dict(\n",
    "            input_ids=input_ids, input_mask=input_mask, segment_ids=segment_ids\n",
    "        )\n",
    "        result = self.bert(inputs=bert_inputs, signature=\"tokens\", as_dict=True)[\n",
    "            \"sequence_output\"\n",
    "        ]\n",
    "        \n",
    "        mul_mask = lambda x, m: x * tf.expand_dims(m, axis=-1)\n",
    "        \n",
    "        return result\n",
    "\n",
    "    def compute_output_shape(self, input_shape):\n",
    "        return (input_shape[0], self.output_size)"
   ]
  },
  {
   "cell_type": "markdown",
   "metadata": {},
   "source": [
    "## Define Model (1 Pooled output 1 Sequential output)"
   ]
  },
  {
   "cell_type": "code",
   "execution_count": 19,
   "metadata": {},
   "outputs": [],
   "source": [
    "def bert_model_pool(max_length, train_layers, optimizer, dropout_rate):\n",
    "    \n",
    "    #inputs\n",
    "    in_id = tf.keras.layers.Input(shape=(max_length,), name=\"input_ids\")\n",
    "    in_mask = tf.keras.layers.Input(shape=(max_length,), name=\"input_masks\")\n",
    "    in_segment = tf.keras.layers.Input(shape=(max_length,), name=\"segment_ids\")\n",
    "    \n",
    "    bert_inputs = [in_id, in_mask, in_segment]\n",
    "    \n",
    "    #obtain bert pooled ouput\n",
    "    bert_sequence = BertLayer_Pool(n_fine_tune_layers=train_layers)(bert_inputs)\n",
    "    \n",
    "    #perform dropout\n",
    "    dropout1= tf.keras.layers.Dropout(rate=dropout_rate)(bert_sequence)\n",
    "    \n",
    "    #dense layer of 256 units\n",
    "    dense1 = tf.keras.layers.Dense(256, activation='relu', name='dense1')(dropout1)\n",
    "    \n",
    "    #another dropout\n",
    "    dropout2 = tf.keras.layers.Dropout(rate=dropout_rate)(dense1)\n",
    "    \n",
    "    #classification layer\n",
    "    pred = tf.keras.layers.Dense(3, activation='softmax', name='classification')(dropout2)\n",
    "    \n",
    "    #compile model\n",
    "    model = tf.keras.models.Model(inputs=bert_inputs, outputs=pred)\n",
    "    model.compile(loss='categorical_crossentropy', optimizer=optimizer, metrics = ['categorical_accuracy'])\n",
    "    model.summary()\n",
    "    \n",
    "    return model\n",
    "\n",
    "def initialize_vars(sess):\n",
    "    sess.run(tf.local_variables_initializer())\n",
    "    sess.run(tf.global_variables_initializer())\n",
    "    sess.run(tf.tables_initializer())\n",
    "    K.set_session(sess)"
   ]
  },
  {
   "cell_type": "code",
   "execution_count": 20,
   "metadata": {},
   "outputs": [],
   "source": [
    "def bert_model_seq(max_length, train_layers, optimizer, dropout_rate):\n",
    "    \n",
    "    #inputs\n",
    "    in_id = tf.keras.layers.Input(shape=(max_length,), name=\"input_ids\")\n",
    "    in_mask = tf.keras.layers.Input(shape=(max_length,), name=\"input_masks\")\n",
    "    in_segment = tf.keras.layers.Input(shape=(max_length,), name=\"segment_ids\")\n",
    "    \n",
    "    bert_inputs = [in_id, in_mask, in_segment]\n",
    "    \n",
    "    #obtain bert Sequential output\n",
    "    bert_sequence = BertLayer_Seq(n_fine_tune_layers=train_layers)(bert_inputs)\n",
    "    \n",
    "    #perform dropout\n",
    "    dropout1= tf.keras.layers.Dropout(rate=dropout_rate)(bert_sequence)\n",
    "    \n",
    "    #LSTM layer to handle Sequential output\n",
    "    lstm1 = tf.keras.layers.LSTM(128, name='lstm1')(dropout1)\n",
    "    \n",
    "    #Feed LSTM layer to 1 dense layer\n",
    "    dense1 = tf.keras.layers.Dense(64, activation='relu', \n",
    "                                 kernel_initializer = tf.keras.initializers.he_normal(), \n",
    "                                 name='dense1')(lstm1)\n",
    "    \n",
    "    #perform another dropout\n",
    "    dropout2 = tf.keras.layers.Dropout(rate=dropout_rate)(dense1)\n",
    "    \n",
    "    #classification layer\n",
    "    pred = tf.keras.layers.Dense(3, activation='softmax', name='classification')(dropout2)\n",
    "    \n",
    "    #compile model\n",
    "    model = tf.keras.models.Model(inputs=bert_inputs, outputs=pred)\n",
    "    model.compile(loss='categorical_crossentropy', optimizer=optimizer, metrics = ['categorical_accuracy'])\n",
    "    model.summary()\n",
    "    \n",
    "    return model\n",
    "\n",
    "def initialize_vars(sess):\n",
    "    sess.run(tf.local_variables_initializer())\n",
    "    sess.run(tf.global_variables_initializer())\n",
    "    sess.run(tf.tables_initializer())\n",
    "    K.set_session(sess)"
   ]
  },
  {
   "cell_type": "markdown",
   "metadata": {},
   "source": [
    "## Atheism"
   ]
  },
  {
   "cell_type": "code",
   "execution_count": null,
   "metadata": {},
   "outputs": [],
   "source": [
    "train_data, train_labels, test_data, test_labels, true_labels = topic_subset(['Atheism'])\n",
    "\n",
    "#Start session\n",
    "compute_class = compute_class_weight('balanced', np.unique(true_labels), true_labels)\n",
    "weights = {0: compute_class[0], 1:compute_class[1], 2:compute_class[2]}\n",
    "\n",
    "sess = tf.Session()\n",
    "\n",
    "model = bert_model_pool(max_length = max_length, \n",
    "                     train_layers=12, \n",
    "                     optimizer = tf.keras.optimizers.Adam(learning_rate=0.001,\n",
    "                                                         beta_1 = 0.9,\n",
    "                                                         beta_2 = 0.999),\n",
    "                     dropout_rate= 0.8)\n",
    "\n",
    "# Instantiate variables\n",
    "initialize_vars(sess)\n",
    "\n",
    "\n",
    "model.fit(\n",
    "    train_data, \n",
    "    train_labels,\n",
    "    validation_split = 0.1,\n",
    "    shuffle=True,\n",
    "    epochs=30,\n",
    "    verbose=1,\n",
    "    batch_size=32,\n",
    "    class_weight = weights)"
   ]
  },
  {
   "cell_type": "code",
   "execution_count": null,
   "metadata": {},
   "outputs": [],
   "source": [
    "test_probs = model.predict(test_data)\n",
    "metrics(true_labels, test_probs)"
   ]
  },
  {
   "cell_type": "code",
   "execution_count": 24,
   "metadata": {},
   "outputs": [
    {
     "name": "stderr",
     "output_type": "stream",
     "text": [
      "W1121 19:46:42.821422 140735964402560 nn_ops.py:4224] Large dropout rate: 0.8 (>0.5). In TensorFlow 2.x, dropout() uses dropout rate instead of keep_prob. Please ensure that this is intended.\n",
      "W1121 19:46:43.007048 140735964402560 nn_ops.py:4224] Large dropout rate: 0.8 (>0.5). In TensorFlow 2.x, dropout() uses dropout rate instead of keep_prob. Please ensure that this is intended.\n"
     ]
    },
    {
     "name": "stdout",
     "output_type": "stream",
     "text": [
      "Model: \"model_1\"\n",
      "__________________________________________________________________________________________________\n",
      "Layer (type)                    Output Shape         Param #     Connected to                     \n",
      "==================================================================================================\n",
      "input_ids (InputLayer)          [(None, 83)]         0                                            \n",
      "__________________________________________________________________________________________________\n",
      "input_masks (InputLayer)        [(None, 83)]         0                                            \n",
      "__________________________________________________________________________________________________\n",
      "segment_ids (InputLayer)        [(None, 83)]         0                                            \n",
      "__________________________________________________________________________________________________\n",
      "bert_layer__seq_1 (BertLayer_Se (None, None, 768)    108931396   input_ids[0][0]                  \n",
      "                                                                 input_masks[0][0]                \n",
      "                                                                 segment_ids[0][0]                \n",
      "__________________________________________________________________________________________________\n",
      "dropout_2 (Dropout)             (None, None, 768)    0           bert_layer__seq_1[0][0]          \n",
      "__________________________________________________________________________________________________\n",
      "lstm1 (LSTM)                    (None, 128)          459264      dropout_2[0][0]                  \n",
      "__________________________________________________________________________________________________\n",
      "dense1 (Dense)                  (None, 64)           8256        lstm1[0][0]                      \n",
      "__________________________________________________________________________________________________\n",
      "dropout_3 (Dropout)             (None, 64)           0           dense1[0][0]                     \n",
      "__________________________________________________________________________________________________\n",
      "classification (Dense)          (None, 3)            195         dropout_3[0][0]                  \n",
      "==================================================================================================\n",
      "Total params: 109,399,111\n",
      "Trainable params: 6,963,459\n",
      "Non-trainable params: 102,435,652\n",
      "__________________________________________________________________________________________________\n",
      "Train on 513 samples, validate on 35 samples\n",
      "Epoch 1/17\n",
      "513/513 [==============================] - 104s 203ms/sample - loss: 1.4234 - categorical_accuracy: 0.2593 - val_loss: 1.1898 - val_categorical_accuracy: 0.0571\n",
      "Epoch 2/17\n",
      "513/513 [==============================] - 104s 202ms/sample - loss: 1.3363 - categorical_accuracy: 0.3060 - val_loss: 1.1957 - val_categorical_accuracy: 0.0286\n",
      "Epoch 3/17\n",
      "513/513 [==============================] - 105s 204ms/sample - loss: 1.2575 - categorical_accuracy: 0.3353 - val_loss: 1.1813 - val_categorical_accuracy: 0.2000\n",
      "Epoch 4/17\n",
      "513/513 [==============================] - 107s 209ms/sample - loss: 1.1429 - categorical_accuracy: 0.4425 - val_loss: 1.0165 - val_categorical_accuracy: 0.2857\n",
      "Epoch 5/17\n",
      "513/513 [==============================] - 110s 214ms/sample - loss: 1.0319 - categorical_accuracy: 0.4659 - val_loss: 0.9732 - val_categorical_accuracy: 0.4000\n",
      "Epoch 6/17\n",
      "513/513 [==============================] - 112s 219ms/sample - loss: 0.9827 - categorical_accuracy: 0.6218 - val_loss: 0.8747 - val_categorical_accuracy: 0.5429\n",
      "Epoch 7/17\n",
      "513/513 [==============================] - 115s 225ms/sample - loss: 0.7676 - categorical_accuracy: 0.6608 - val_loss: 1.0580 - val_categorical_accuracy: 0.5143\n",
      "Epoch 8/17\n",
      "513/513 [==============================] - 116s 226ms/sample - loss: 0.7815 - categorical_accuracy: 0.7076 - val_loss: 0.5184 - val_categorical_accuracy: 0.8000\n",
      "Epoch 9/17\n",
      "513/513 [==============================] - 114s 223ms/sample - loss: 0.6159 - categorical_accuracy: 0.7290 - val_loss: 0.7010 - val_categorical_accuracy: 0.8000\n",
      "Epoch 10/17\n",
      "513/513 [==============================] - 112s 219ms/sample - loss: 0.6662 - categorical_accuracy: 0.7349 - val_loss: 0.5959 - val_categorical_accuracy: 0.8000\n",
      "Epoch 11/17\n",
      "513/513 [==============================] - 112s 218ms/sample - loss: 0.6243 - categorical_accuracy: 0.7680 - val_loss: 1.1484 - val_categorical_accuracy: 0.4857\n",
      "Epoch 12/17\n",
      "513/513 [==============================] - 112s 218ms/sample - loss: 0.5342 - categorical_accuracy: 0.7622 - val_loss: 0.9275 - val_categorical_accuracy: 0.6286\n",
      "Epoch 13/17\n",
      "513/513 [==============================] - 111s 216ms/sample - loss: 0.3535 - categorical_accuracy: 0.8363 - val_loss: 1.1515 - val_categorical_accuracy: 0.7143\n",
      "Epoch 14/17\n",
      "513/513 [==============================] - 110s 215ms/sample - loss: 0.2990 - categorical_accuracy: 0.8635 - val_loss: 0.8615 - val_categorical_accuracy: 0.6857\n",
      "Epoch 15/17\n",
      "513/513 [==============================] - 101s 197ms/sample - loss: 0.2723 - categorical_accuracy: 0.8713 - val_loss: 1.0383 - val_categorical_accuracy: 0.6571\n",
      "Epoch 16/17\n",
      "513/513 [==============================] - 100s 195ms/sample - loss: 0.1815 - categorical_accuracy: 0.9279 - val_loss: 0.6470 - val_categorical_accuracy: 0.8857\n",
      "Epoch 17/17\n",
      "513/513 [==============================] - 99s 193ms/sample - loss: 0.1458 - categorical_accuracy: 0.9240 - val_loss: 0.6732 - val_categorical_accuracy: 0.8000\n"
     ]
    },
    {
     "data": {
      "text/plain": [
       "<tensorflow.python.keras.callbacks.History at 0x1a9d0ed048>"
      ]
     },
     "execution_count": 24,
     "metadata": {},
     "output_type": "execute_result"
    }
   ],
   "source": [
    "train_data, train_labels, test_data, test_labels, true_labels, val_data, val_y = topic_subset(['Atheism'])\n",
    "\n",
    "#Start session\n",
    "compute_class = compute_class_weight('balanced', np.unique(true_labels), true_labels)\n",
    "weights = {0: compute_class[0], 1:compute_class[1], 2:compute_class[2]}\n",
    "\n",
    "sess = tf.Session()\n",
    "\n",
    "model = bert_model_seq(max_length = max_length, \n",
    "                     train_layers=12, \n",
    "                     optimizer = tf.keras.optimizers.Adam(learning_rate=0.001,\n",
    "                                                         beta_1 = 0.9,\n",
    "                                                         beta_2 = 0.999),\n",
    "                     dropout_rate= 0.8)\n",
    "\n",
    "# Instantiate variables\n",
    "initialize_vars(sess)\n",
    "\n",
    "\n",
    "model.fit(\n",
    "    train_data, \n",
    "    train_labels,\n",
    "    validation_data = [val_data, val_y],\n",
    "    epochs=17,\n",
    "    verbose=1,\n",
    "    batch_size=32,\n",
    "    class_weight = weights)"
   ]
  },
  {
   "cell_type": "code",
   "execution_count": 25,
   "metadata": {},
   "outputs": [
    {
     "name": "stdout",
     "output_type": "stream",
     "text": [
      "F1 macro score: 0.6514980016236808\n",
      "              precision    recall  f1-score   support\n",
      "\n",
      "     Against       0.86      0.74      0.79       128\n",
      "        None       0.51      0.71      0.60        28\n",
      "       Favor       0.51      0.62      0.56        29\n",
      "\n",
      "   micro avg       0.72      0.72      0.72       185\n",
      "   macro avg       0.63      0.69      0.65       185\n",
      "weighted avg       0.75      0.72      0.73       185\n",
      "\n"
     ]
    },
    {
     "data": {
      "image/png": "[encoded data removed]",
      "text/plain": [
       "<Figure size 1080x360 with 2 Axes>"
      ]
     },
     "metadata": {
      "needs_background": "light"
     },
     "output_type": "display_data"
    }
   ],
   "source": [
    "test_probs = model.predict(test_data)\n",
    "metrics(true_labels, test_probs)"
   ]
  },
  {
   "cell_type": "markdown",
   "metadata": {},
   "source": [
    "## Hillary Clinton"
   ]
  },
  {
   "cell_type": "code",
   "execution_count": null,
   "metadata": {
    "scrolled": true
   },
   "outputs": [],
   "source": [
    "train_data, train_labels, test_data, test_labels, true_labels = topic_subset(['Hillary Clinton'])\n",
    "\n",
    "#Start session\n",
    "compute_class = compute_class_weight('balanced', np.unique(true_labels), true_labels)\n",
    "weights = {0: compute_class[0], 1:compute_class[1], 2:compute_class[2]}\n",
    "\n",
    "sess = tf.Session()\n",
    "\n",
    "model = bert_model_pool(max_length = max_length, \n",
    "                     train_layers=12, \n",
    "                     optimizer = tf.keras.optimizers.Adam(learning_rate=0.001,\n",
    "                                                         beta_1 = 0.9,\n",
    "                                                         beta_2 = 0.999),\n",
    "                     dropout_rate= 0.8)\n",
    "\n",
    "# Instantiate variables\n",
    "initialize_vars(sess)\n",
    "\n",
    "\n",
    "model.fit(\n",
    "    train_data, \n",
    "    train_labels,\n",
    "    validation_split = 0.1,\n",
    "    shuffle=True,\n",
    "    epochs=30,\n",
    "    verbose=1,\n",
    "    batch_size=32,\n",
    "    class_weight = weights)"
   ]
  },
  {
   "cell_type": "code",
   "execution_count": null,
   "metadata": {
    "scrolled": true
   },
   "outputs": [],
   "source": [
    "test_probs = model.predict(test_data)\n",
    "metrics(true_labels, test_probs)"
   ]
  },
  {
   "cell_type": "code",
   "execution_count": 29,
   "metadata": {},
   "outputs": [
    {
     "name": "stdout",
     "output_type": "stream",
     "text": [
      "Model: \"model_4\"\n",
      "__________________________________________________________________________________________________\n",
      "Layer (type)                    Output Shape         Param #     Connected to                     \n",
      "==================================================================================================\n",
      "input_ids (InputLayer)          [(None, 83)]         0                                            \n",
      "__________________________________________________________________________________________________\n",
      "input_masks (InputLayer)        [(None, 83)]         0                                            \n",
      "__________________________________________________________________________________________________\n",
      "segment_ids (InputLayer)        [(None, 83)]         0                                            \n",
      "__________________________________________________________________________________________________\n",
      "bert_layer__seq_4 (BertLayer_Se (None, None, 768)    108931396   input_ids[0][0]                  \n",
      "                                                                 input_masks[0][0]                \n",
      "                                                                 segment_ids[0][0]                \n",
      "__________________________________________________________________________________________________\n",
      "dropout_8 (Dropout)             (None, None, 768)    0           bert_layer__seq_4[0][0]          \n",
      "__________________________________________________________________________________________________\n",
      "lstm1 (LSTM)                    (None, 128)          459264      dropout_8[0][0]                  \n",
      "__________________________________________________________________________________________________\n",
      "dense1 (Dense)                  (None, 64)           8256        lstm1[0][0]                      \n",
      "__________________________________________________________________________________________________\n",
      "dropout_9 (Dropout)             (None, 64)           0           dense1[0][0]                     \n",
      "__________________________________________________________________________________________________\n",
      "classification (Dense)          (None, 3)            195         dropout_9[0][0]                  \n",
      "==================================================================================================\n",
      "Total params: 109,399,111\n",
      "Trainable params: 6,963,459\n",
      "Non-trainable params: 102,435,652\n",
      "__________________________________________________________________________________________________\n",
      "Train on 689 samples, validate on 48 samples\n",
      "Epoch 1/25\n",
      "689/689 [==============================] - 156s 226ms/sample - loss: 1.3093 - categorical_accuracy: 0.3208 - val_loss: 1.1999 - val_categorical_accuracy: 0.2292\n",
      "Epoch 2/25\n",
      "689/689 [==============================] - 143s 207ms/sample - loss: 1.2081 - categorical_accuracy: 0.2787 - val_loss: 1.1148 - val_categorical_accuracy: 0.2292\n",
      "Epoch 3/25\n",
      "689/689 [==============================] - 144s 209ms/sample - loss: 1.1421 - categorical_accuracy: 0.2627 - val_loss: 1.0185 - val_categorical_accuracy: 0.4583\n",
      "Epoch 4/25\n",
      "689/689 [==============================] - 136s 197ms/sample - loss: 1.0493 - categorical_accuracy: 0.3991 - val_loss: 0.9342 - val_categorical_accuracy: 0.4792\n",
      "Epoch 5/25\n",
      "689/689 [==============================] - 151s 220ms/sample - loss: 1.0157 - categorical_accuracy: 0.4107 - val_loss: 0.9869 - val_categorical_accuracy: 0.4583\n",
      "Epoch 6/25\n",
      "689/689 [==============================] - 154s 224ms/sample - loss: 0.9402 - categorical_accuracy: 0.4107 - val_loss: 0.8909 - val_categorical_accuracy: 0.5208\n",
      "Epoch 7/25\n",
      "689/689 [==============================] - 170s 247ms/sample - loss: 0.8546 - categorical_accuracy: 0.4761 - val_loss: 1.0589 - val_categorical_accuracy: 0.5833\n",
      "Epoch 8/25\n",
      "689/689 [==============================] - 138s 201ms/sample - loss: 0.8589 - categorical_accuracy: 0.4819 - val_loss: 0.8602 - val_categorical_accuracy: 0.5417\n",
      "Epoch 9/25\n",
      "689/689 [==============================] - 136s 198ms/sample - loss: 0.6949 - categorical_accuracy: 0.5515 - val_loss: 0.7536 - val_categorical_accuracy: 0.6667\n",
      "Epoch 10/25\n",
      "689/689 [==============================] - 136s 197ms/sample - loss: 0.6845 - categorical_accuracy: 0.6517 - val_loss: 0.8795 - val_categorical_accuracy: 0.6458\n",
      "Epoch 11/25\n",
      "689/689 [==============================] - 136s 197ms/sample - loss: 0.5838 - categorical_accuracy: 0.6778 - val_loss: 0.9489 - val_categorical_accuracy: 0.5625\n",
      "Epoch 12/25\n",
      "689/689 [==============================] - 142s 206ms/sample - loss: 0.7091 - categorical_accuracy: 0.6197 - val_loss: 0.7820 - val_categorical_accuracy: 0.6250\n",
      "Epoch 13/25\n",
      "689/689 [==============================] - 142s 207ms/sample - loss: 0.5322 - categorical_accuracy: 0.7576 - val_loss: 0.8027 - val_categorical_accuracy: 0.7083\n",
      "Epoch 14/25\n",
      "689/689 [==============================] - 136s 197ms/sample - loss: 0.4708 - categorical_accuracy: 0.7736 - val_loss: 0.8322 - val_categorical_accuracy: 0.7083\n",
      "Epoch 15/25\n",
      "689/689 [==============================] - 136s 197ms/sample - loss: 0.3612 - categorical_accuracy: 0.8403 - val_loss: 0.7224 - val_categorical_accuracy: 0.7708\n",
      "Epoch 16/25\n",
      "689/689 [==============================] - 137s 198ms/sample - loss: 0.3281 - categorical_accuracy: 0.8418 - val_loss: 0.8467 - val_categorical_accuracy: 0.7500\n",
      "Epoch 17/25\n",
      "689/689 [==============================] - 139s 201ms/sample - loss: 0.2423 - categorical_accuracy: 0.8868 - val_loss: 0.8868 - val_categorical_accuracy: 0.6458\n",
      "Epoch 18/25\n",
      "689/689 [==============================] - 138s 200ms/sample - loss: 0.2119 - categorical_accuracy: 0.9115 - val_loss: 0.9373 - val_categorical_accuracy: 0.6875\n",
      "Epoch 19/25\n",
      "689/689 [==============================] - 139s 202ms/sample - loss: 0.2085 - categorical_accuracy: 0.9274 - val_loss: 1.2642 - val_categorical_accuracy: 0.6667\n",
      "Epoch 20/25\n",
      "689/689 [==============================] - 140s 203ms/sample - loss: 0.1792 - categorical_accuracy: 0.9260 - val_loss: 1.1318 - val_categorical_accuracy: 0.6458\n",
      "Epoch 21/25\n",
      "689/689 [==============================] - 141s 204ms/sample - loss: 0.1305 - categorical_accuracy: 0.9463 - val_loss: 1.2936 - val_categorical_accuracy: 0.7292\n",
      "Epoch 22/25\n",
      "689/689 [==============================] - 141s 205ms/sample - loss: 0.1416 - categorical_accuracy: 0.9478 - val_loss: 1.4959 - val_categorical_accuracy: 0.6250\n",
      "Epoch 23/25\n",
      "689/689 [==============================] - 142s 206ms/sample - loss: 0.2713 - categorical_accuracy: 0.9028 - val_loss: 1.5736 - val_categorical_accuracy: 0.6458\n",
      "Epoch 24/25\n",
      "689/689 [==============================] - 142s 206ms/sample - loss: 0.2793 - categorical_accuracy: 0.9129 - val_loss: 1.4728 - val_categorical_accuracy: 0.7083\n",
      "Epoch 25/25\n",
      "689/689 [==============================] - 143s 207ms/sample - loss: 0.1693 - categorical_accuracy: 0.9332 - val_loss: 1.6535 - val_categorical_accuracy: 0.6875\n"
     ]
    },
    {
     "data": {
      "text/plain": [
       "<tensorflow.python.keras.callbacks.History at 0x1bec81beb8>"
      ]
     },
     "execution_count": 29,
     "metadata": {},
     "output_type": "execute_result"
    }
   ],
   "source": [
    "train_data, train_labels, test_data, test_labels, true_labels, val_data, val_y = topic_subset(['Hillary Clinton'])\n",
    "\n",
    "#Start session\n",
    "compute_class = compute_class_weight('balanced', np.unique(true_labels), true_labels)\n",
    "weights = {0: compute_class[0], 1:compute_class[1], 2:compute_class[2]}\n",
    "\n",
    "sess = tf.Session()\n",
    "\n",
    "model = bert_model_seq(max_length = max_length, \n",
    "                     train_layers=12, \n",
    "                     optimizer = tf.keras.optimizers.Adam(learning_rate=0.001,\n",
    "                                                         beta_1 = 0.9,\n",
    "                                                         beta_2 = 0.999),\n",
    "                     dropout_rate= 0.8)\n",
    "\n",
    "# Instantiate variables\n",
    "initialize_vars(sess)\n",
    "\n",
    "model.fit(\n",
    "    train_data, \n",
    "    train_labels,\n",
    "    validation_data = [val_data, val_y],\n",
    "    epochs=25,\n",
    "    verbose=1,\n",
    "    batch_size=32,\n",
    "    class_weight = weights)"
   ]
  },
  {
   "cell_type": "code",
   "execution_count": 30,
   "metadata": {},
   "outputs": [
    {
     "name": "stdout",
     "output_type": "stream",
     "text": [
      "F1 macro score: 0.6035523218403747\n",
      "              precision    recall  f1-score   support\n",
      "\n",
      "     Against       0.80      0.65      0.72       150\n",
      "        None       0.66      0.62      0.64        63\n",
      "       Favor       0.34      0.68      0.46        34\n",
      "\n",
      "   micro avg       0.64      0.64      0.64       247\n",
      "   macro avg       0.60      0.65      0.60       247\n",
      "weighted avg       0.70      0.64      0.66       247\n",
      "\n"
     ]
    },
    {
     "data": {
      "image/png": "[encoded data removed]",
      "text/plain": [
       "<Figure size 1080x360 with 2 Axes>"
      ]
     },
     "metadata": {
      "needs_background": "light"
     },
     "output_type": "display_data"
    }
   ],
   "source": [
    "test_probs = model.predict(test_data)\n",
    "metrics(true_labels, test_probs)"
   ]
  },
  {
   "cell_type": "markdown",
   "metadata": {},
   "source": [
    "## Abortion"
   ]
  },
  {
   "cell_type": "code",
   "execution_count": null,
   "metadata": {},
   "outputs": [],
   "source": [
    "train_data, train_labels, test_data, test_labels, true_labels = topic_subset(['Legalization of Abortion'])\n",
    "\n",
    "#Start session\n",
    "compute_class = compute_class_weight('balanced', np.unique(true_labels), true_labels)\n",
    "weights = {0: compute_class[0], 1:compute_class[1], 2:compute_class[2]}\n",
    "\n",
    "sess = tf.Session()\n",
    "\n",
    "model = bert_model_pool(max_length = max_length, \n",
    "                     train_layers=12, \n",
    "                     optimizer = tf.keras.optimizers.Adam(learning_rate=0.001,\n",
    "                                                         beta_1 = 0.9,\n",
    "                                                         beta_2 = 0.999),\n",
    "                     dropout_rate= 0.8)\n",
    "\n",
    "# Instantiate variables\n",
    "initialize_vars(sess)\n",
    "\n",
    "\n",
    "model.fit(\n",
    "    train_data, \n",
    "    train_labels,\n",
    "    validation_split = 0.1,\n",
    "    shuffle=True,\n",
    "    epochs=30,\n",
    "    verbose=1,\n",
    "    batch_size=32,\n",
    "    class_weight = weights)"
   ]
  },
  {
   "cell_type": "code",
   "execution_count": null,
   "metadata": {},
   "outputs": [],
   "source": [
    "test_probs = model.predict(test_data)\n",
    "metrics(true_labels, test_probs)"
   ]
  },
  {
   "cell_type": "code",
   "execution_count": 35,
   "metadata": {},
   "outputs": [
    {
     "name": "stdout",
     "output_type": "stream",
     "text": [
      "Model: \"model_7\"\n",
      "__________________________________________________________________________________________________\n",
      "Layer (type)                    Output Shape         Param #     Connected to                     \n",
      "==================================================================================================\n",
      "input_ids (InputLayer)          [(None, 83)]         0                                            \n",
      "__________________________________________________________________________________________________\n",
      "input_masks (InputLayer)        [(None, 83)]         0                                            \n",
      "__________________________________________________________________________________________________\n",
      "segment_ids (InputLayer)        [(None, 83)]         0                                            \n",
      "__________________________________________________________________________________________________\n",
      "bert_layer__seq_7 (BertLayer_Se (None, None, 768)    108931396   input_ids[0][0]                  \n",
      "                                                                 input_masks[0][0]                \n",
      "                                                                 segment_ids[0][0]                \n",
      "__________________________________________________________________________________________________\n",
      "dropout_14 (Dropout)            (None, None, 768)    0           bert_layer__seq_7[0][0]          \n",
      "__________________________________________________________________________________________________\n",
      "lstm1 (LSTM)                    (None, 128)          459264      dropout_14[0][0]                 \n",
      "__________________________________________________________________________________________________\n",
      "dense1 (Dense)                  (None, 64)           8256        lstm1[0][0]                      \n",
      "__________________________________________________________________________________________________\n",
      "dropout_15 (Dropout)            (None, 64)           0           dense1[0][0]                     \n",
      "__________________________________________________________________________________________________\n",
      "classification (Dense)          (None, 3)            195         dropout_15[0][0]                 \n",
      "==================================================================================================\n",
      "Total params: 109,399,111\n",
      "Trainable params: 6,963,459\n",
      "Non-trainable params: 102,435,652\n",
      "__________________________________________________________________________________________________\n",
      "Train on 653 samples, validate on 41 samples\n",
      "Epoch 1/17\n",
      "653/653 [==============================] - 139s 213ms/sample - loss: 1.4031 - categorical_accuracy: 0.3109 - val_loss: 1.2387 - val_categorical_accuracy: 0.1951\n",
      "Epoch 2/17\n",
      "653/653 [==============================] - 126s 194ms/sample - loss: 1.3644 - categorical_accuracy: 0.2818 - val_loss: 1.3053 - val_categorical_accuracy: 0.1951\n",
      "Epoch 3/17\n",
      "653/653 [==============================] - 128s 197ms/sample - loss: 1.3215 - categorical_accuracy: 0.2910 - val_loss: 1.1563 - val_categorical_accuracy: 0.1951\n",
      "Epoch 4/17\n",
      "653/653 [==============================] - 132s 202ms/sample - loss: 1.3047 - categorical_accuracy: 0.2757 - val_loss: 1.1714 - val_categorical_accuracy: 0.1951\n",
      "Epoch 5/17\n",
      "653/653 [==============================] - 135s 206ms/sample - loss: 1.2641 - categorical_accuracy: 0.2956 - val_loss: 1.2188 - val_categorical_accuracy: 0.2683\n",
      "Epoch 6/17\n",
      "653/653 [==============================] - 138s 211ms/sample - loss: 1.2254 - categorical_accuracy: 0.3553 - val_loss: 1.1391 - val_categorical_accuracy: 0.2439\n",
      "Epoch 7/17\n",
      "653/653 [==============================] - 140s 215ms/sample - loss: 1.0601 - categorical_accuracy: 0.4334 - val_loss: 1.2688 - val_categorical_accuracy: 0.3902\n",
      "Epoch 8/17\n",
      "653/653 [==============================] - 141s 216ms/sample - loss: 1.0033 - categorical_accuracy: 0.4717 - val_loss: 1.1202 - val_categorical_accuracy: 0.3415\n",
      "Epoch 9/17\n",
      "653/653 [==============================] - 140s 215ms/sample - loss: 0.8925 - categorical_accuracy: 0.5084 - val_loss: 1.3593 - val_categorical_accuracy: 0.3171\n",
      "Epoch 10/17\n",
      "653/653 [==============================] - 139s 213ms/sample - loss: 0.7562 - categorical_accuracy: 0.5268 - val_loss: 1.1526 - val_categorical_accuracy: 0.5366\n",
      "Epoch 11/17\n",
      "653/653 [==============================] - 138s 211ms/sample - loss: 0.7560 - categorical_accuracy: 0.5482 - val_loss: 1.3818 - val_categorical_accuracy: 0.4390\n",
      "Epoch 12/17\n",
      "653/653 [==============================] - 136s 209ms/sample - loss: 0.5598 - categorical_accuracy: 0.6677 - val_loss: 1.2792 - val_categorical_accuracy: 0.6585\n",
      "Epoch 13/17\n",
      "653/653 [==============================] - 135s 207ms/sample - loss: 0.4147 - categorical_accuracy: 0.7902 - val_loss: 2.0553 - val_categorical_accuracy: 0.4146\n",
      "Epoch 14/17\n",
      "653/653 [==============================] - 134s 206ms/sample - loss: 0.4839 - categorical_accuracy: 0.7351 - val_loss: 1.4331 - val_categorical_accuracy: 0.5854\n",
      "Epoch 15/17\n",
      "653/653 [==============================] - 134s 205ms/sample - loss: 0.5271 - categorical_accuracy: 0.7443 - val_loss: 1.6004 - val_categorical_accuracy: 0.4146\n",
      "Epoch 16/17\n",
      "653/653 [==============================] - 136s 208ms/sample - loss: 0.3842 - categorical_accuracy: 0.7642 - val_loss: 1.3897 - val_categorical_accuracy: 0.6585\n",
      "Epoch 17/17\n",
      "653/653 [==============================] - 133s 203ms/sample - loss: 0.3167 - categorical_accuracy: 0.8300 - val_loss: 1.2623 - val_categorical_accuracy: 0.6341\n"
     ]
    },
    {
     "data": {
      "text/plain": [
       "<tensorflow.python.keras.callbacks.History at 0x1d59b92048>"
      ]
     },
     "execution_count": 35,
     "metadata": {},
     "output_type": "execute_result"
    }
   ],
   "source": [
    "train_data, train_labels, test_data, test_labels, true_labels, val_data, val_y = topic_subset(['Legalization of Abortion'])\n",
    "\n",
    "#Start session\n",
    "compute_class = compute_class_weight('balanced', np.unique(true_labels), true_labels)\n",
    "weights = {0: compute_class[0], 1:compute_class[1], 2:compute_class[2]}\n",
    "\n",
    "sess = tf.Session()\n",
    "\n",
    "model = bert_model_seq(max_length = max_length, \n",
    "                     train_layers=12, \n",
    "                     optimizer = tf.keras.optimizers.Adam(learning_rate=0.001,\n",
    "                                                         beta_1 = 0.9,\n",
    "                                                         beta_2 = 0.999),\n",
    "                     dropout_rate= 0.8)\n",
    "\n",
    "# Instantiate variables\n",
    "initialize_vars(sess)\n",
    "\n",
    "\n",
    "model.fit(\n",
    "    train_data, \n",
    "    train_labels,\n",
    "    validation_data = [val_data, val_y],\n",
    "    epochs=17,\n",
    "    verbose=1,\n",
    "    batch_size=32,\n",
    "    class_weight = weights)"
   ]
  },
  {
   "cell_type": "code",
   "execution_count": 36,
   "metadata": {},
   "outputs": [
    {
     "name": "stdout",
     "output_type": "stream",
     "text": [
      "F1 macro score: 0.5769465652482826\n",
      "              precision    recall  f1-score   support\n",
      "\n",
      "     Against       0.82      0.58      0.68       161\n",
      "        None       0.40      0.76      0.52        37\n",
      "       Favor       0.46      0.61      0.53        41\n",
      "\n",
      "   micro avg       0.62      0.62      0.62       239\n",
      "   macro avg       0.56      0.65      0.58       239\n",
      "weighted avg       0.69      0.62      0.63       239\n",
      "\n"
     ]
    },
    {
     "data": {
      "image/png": "[encoded data removed]",
      "text/plain": [
       "<Figure size 1080x360 with 2 Axes>"
      ]
     },
     "metadata": {
      "needs_background": "light"
     },
     "output_type": "display_data"
    }
   ],
   "source": [
    "test_probs = model.predict(test_data)\n",
    "metrics(true_labels, test_probs)"
   ]
  },
  {
   "cell_type": "markdown",
   "metadata": {},
   "source": [
    "## Climate Change"
   ]
  },
  {
   "cell_type": "code",
   "execution_count": null,
   "metadata": {},
   "outputs": [],
   "source": [
    "train_data, train_labels, test_data, test_labels, true_labels = topic_subset(['Climate Change is a Real Concern'])\n",
    "\n",
    "#Start session\n",
    "compute_class = compute_class_weight('balanced', np.unique(true_labels), true_labels)\n",
    "weights = {0: compute_class[0], 1:compute_class[1], 2:compute_class[2]}\n",
    "\n",
    "sess = tf.Session()\n",
    "\n",
    "model = bert_model_pool(max_length = max_length, \n",
    "                     train_layers=12, \n",
    "                     optimizer = tf.keras.optimizers.Adam(learning_rate=0.001,\n",
    "                                                         beta_1 = 0.9,\n",
    "                                                         beta_2 = 0.999),\n",
    "                     dropout_rate= 0.8)\n",
    "\n",
    "# Instantiate variables\n",
    "initialize_vars(sess)\n",
    "\n",
    "\n",
    "model.fit(\n",
    "    train_data, \n",
    "    train_labels,\n",
    "    validation_split = 0.1,\n",
    "    shuffle=True,\n",
    "    epochs=30,\n",
    "    verbose=1,\n",
    "    batch_size=32,\n",
    "    class_weight = weights)"
   ]
  },
  {
   "cell_type": "code",
   "execution_count": null,
   "metadata": {},
   "outputs": [],
   "source": [
    "test_probs = model.predict(test_data)\n",
    "metrics(true_labels, test_probs)"
   ]
  },
  {
   "cell_type": "code",
   "execution_count": 39,
   "metadata": {},
   "outputs": [
    {
     "name": "stdout",
     "output_type": "stream",
     "text": [
      "Model: \"model_9\"\n",
      "__________________________________________________________________________________________________\n",
      "Layer (type)                    Output Shape         Param #     Connected to                     \n",
      "==================================================================================================\n",
      "input_ids (InputLayer)          [(None, 83)]         0                                            \n",
      "__________________________________________________________________________________________________\n",
      "input_masks (InputLayer)        [(None, 83)]         0                                            \n",
      "__________________________________________________________________________________________________\n",
      "segment_ids (InputLayer)        [(None, 83)]         0                                            \n",
      "__________________________________________________________________________________________________\n",
      "bert_layer__seq_9 (BertLayer_Se (None, None, 768)    108931396   input_ids[0][0]                  \n",
      "                                                                 input_masks[0][0]                \n",
      "                                                                 segment_ids[0][0]                \n",
      "__________________________________________________________________________________________________\n",
      "dropout_18 (Dropout)            (None, None, 768)    0           bert_layer__seq_9[0][0]          \n",
      "__________________________________________________________________________________________________\n",
      "lstm1 (LSTM)                    (None, 128)          459264      dropout_18[0][0]                 \n",
      "__________________________________________________________________________________________________\n",
      "dense1 (Dense)                  (None, 64)           8256        lstm1[0][0]                      \n",
      "__________________________________________________________________________________________________\n",
      "dropout_19 (Dropout)            (None, 64)           0           dense1[0][0]                     \n",
      "__________________________________________________________________________________________________\n",
      "classification (Dense)          (None, 3)            195         dropout_19[0][0]                 \n",
      "==================================================================================================\n",
      "Total params: 109,399,111\n",
      "Trainable params: 6,963,459\n",
      "Non-trainable params: 102,435,652\n",
      "__________________________________________________________________________________________________\n",
      "Train on 395 samples, validate on 30 samples\n",
      "Epoch 1/20\n",
      "395/395 [==============================] - 90s 228ms/sample - loss: 1.2630 - categorical_accuracy: 0.3747 - val_loss: 1.0427 - val_categorical_accuracy: 0.3667\n",
      "Epoch 2/20\n",
      "395/395 [==============================] - 73s 185ms/sample - loss: 1.2545 - categorical_accuracy: 0.4430 - val_loss: 1.2678 - val_categorical_accuracy: 0.3667\n",
      "Epoch 3/20\n",
      "395/395 [==============================] - 73s 186ms/sample - loss: 1.1791 - categorical_accuracy: 0.4354 - val_loss: 1.4710 - val_categorical_accuracy: 0.3667\n",
      "Epoch 4/20\n",
      "395/395 [==============================] - 74s 187ms/sample - loss: 1.0159 - categorical_accuracy: 0.4962 - val_loss: 1.1872 - val_categorical_accuracy: 0.3667\n",
      "Epoch 5/20\n",
      "395/395 [==============================] - 74s 186ms/sample - loss: 0.8605 - categorical_accuracy: 0.4987 - val_loss: 0.9825 - val_categorical_accuracy: 0.5000\n",
      "Epoch 6/20\n",
      "395/395 [==============================] - 75s 190ms/sample - loss: 0.7369 - categorical_accuracy: 0.5772 - val_loss: 1.0780 - val_categorical_accuracy: 0.4333\n",
      "Epoch 7/20\n",
      "395/395 [==============================] - 74s 187ms/sample - loss: 0.6164 - categorical_accuracy: 0.6456 - val_loss: 1.2234 - val_categorical_accuracy: 0.3000\n",
      "Epoch 8/20\n",
      "395/395 [==============================] - 75s 190ms/sample - loss: 0.5207 - categorical_accuracy: 0.6405 - val_loss: 1.0453 - val_categorical_accuracy: 0.7000\n",
      "Epoch 9/20\n",
      "395/395 [==============================] - 84s 213ms/sample - loss: 0.4769 - categorical_accuracy: 0.7342 - val_loss: 1.0498 - val_categorical_accuracy: 0.4000\n",
      "Epoch 10/20\n",
      "395/395 [==============================] - 88s 222ms/sample - loss: 0.4372 - categorical_accuracy: 0.7443 - val_loss: 0.9848 - val_categorical_accuracy: 0.7667\n",
      "Epoch 11/20\n",
      "395/395 [==============================] - 75s 190ms/sample - loss: 0.4640 - categorical_accuracy: 0.8329 - val_loss: 1.2520 - val_categorical_accuracy: 0.5333\n",
      "Epoch 12/20\n",
      "395/395 [==============================] - 74s 187ms/sample - loss: 0.3547 - categorical_accuracy: 0.8076 - val_loss: 1.4389 - val_categorical_accuracy: 0.4667\n",
      "Epoch 13/20\n",
      "395/395 [==============================] - 74s 187ms/sample - loss: 0.3217 - categorical_accuracy: 0.8051 - val_loss: 1.0319 - val_categorical_accuracy: 0.7333\n",
      "Epoch 14/20\n",
      "395/395 [==============================] - 74s 188ms/sample - loss: 0.1910 - categorical_accuracy: 0.9443 - val_loss: 1.5241 - val_categorical_accuracy: 0.7333\n",
      "Epoch 15/20\n",
      "395/395 [==============================] - 74s 188ms/sample - loss: 0.2301 - categorical_accuracy: 0.9443 - val_loss: 1.4797 - val_categorical_accuracy: 0.7667\n",
      "Epoch 16/20\n",
      "395/395 [==============================] - 79s 199ms/sample - loss: 0.2377 - categorical_accuracy: 0.8835 - val_loss: 1.4472 - val_categorical_accuracy: 0.8000\n",
      "Epoch 17/20\n",
      "395/395 [==============================] - 79s 201ms/sample - loss: 0.2146 - categorical_accuracy: 0.9165 - val_loss: 1.4108 - val_categorical_accuracy: 0.7333\n",
      "Epoch 18/20\n",
      "395/395 [==============================] - 76s 192ms/sample - loss: 0.2315 - categorical_accuracy: 0.9316 - val_loss: 0.9619 - val_categorical_accuracy: 0.8667\n",
      "Epoch 19/20\n",
      "395/395 [==============================] - 76s 193ms/sample - loss: 0.1442 - categorical_accuracy: 0.9367 - val_loss: 1.6621 - val_categorical_accuracy: 0.6000\n",
      "Epoch 20/20\n",
      "395/395 [==============================] - 76s 193ms/sample - loss: 0.1620 - categorical_accuracy: 0.9114 - val_loss: 1.0393 - val_categorical_accuracy: 0.8333\n"
     ]
    },
    {
     "data": {
      "text/plain": [
       "<tensorflow.python.keras.callbacks.History at 0x1f836fdef0>"
      ]
     },
     "execution_count": 39,
     "metadata": {},
     "output_type": "execute_result"
    }
   ],
   "source": [
    "train_data, train_labels, test_data, test_labels, true_labels, val_data, val_y = topic_subset(['Climate Change is a Real Concern'])\n",
    "\n",
    "#Start session\n",
    "compute_class = compute_class_weight('balanced', np.unique(true_labels), true_labels)\n",
    "weights = {0: compute_class[0], 1:compute_class[1], 2:compute_class[2]}\n",
    "\n",
    "sess = tf.Session()\n",
    "\n",
    "model = bert_model_seq(max_length = max_length, \n",
    "                     train_layers=12, \n",
    "                     optimizer = tf.keras.optimizers.Adam(learning_rate=0.001,\n",
    "                                                         beta_1 = 0.9,\n",
    "                                                         beta_2 = 0.999),\n",
    "                     dropout_rate= 0.8)\n",
    "\n",
    "# Instantiate variables\n",
    "initialize_vars(sess)\n",
    "\n",
    "\n",
    "model.fit(\n",
    "    train_data, \n",
    "    train_labels,\n",
    "    validation_data = [val_data, val_y],\n",
    "    epochs=20,\n",
    "    verbose=1,\n",
    "    batch_size=32,\n",
    "    class_weight = weights)"
   ]
  },
  {
   "cell_type": "code",
   "execution_count": 40,
   "metadata": {},
   "outputs": [
    {
     "name": "stdout",
     "output_type": "stream",
     "text": [
      "F1 macro score: 0.5107836089144501\n",
      "              precision    recall  f1-score   support\n",
      "\n",
      "     Against       0.00      0.00      0.00        10\n",
      "        None       0.61      0.71      0.65        24\n",
      "       Favor       0.86      0.90      0.88       105\n",
      "\n",
      "   micro avg       0.80      0.80      0.80       139\n",
      "   macro avg       0.49      0.53      0.51       139\n",
      "weighted avg       0.76      0.80      0.78       139\n",
      "\n"
     ]
    },
    {
     "data": {
      "image/png": "[encoded data removed]",
      "text/plain": [
       "<Figure size 1080x360 with 2 Axes>"
      ]
     },
     "metadata": {
      "needs_background": "light"
     },
     "output_type": "display_data"
    }
   ],
   "source": [
    "test_probs = model.predict(test_data)\n",
    "metrics(true_labels, test_probs)"
   ]
  },
  {
   "cell_type": "markdown",
   "metadata": {},
   "source": [
    "## Feminism"
   ]
  },
  {
   "cell_type": "code",
   "execution_count": null,
   "metadata": {},
   "outputs": [],
   "source": [
    "train_data, train_labels, test_data, test_labels, true_labels = topic_subset(['Feminist Movement'])\n",
    "\n",
    "#Start session\n",
    "compute_class = compute_class_weight('balanced', np.unique(true_labels), true_labels)\n",
    "weights = {0: compute_class[0], 1:compute_class[1], 2:compute_class[2]}\n",
    "\n",
    "sess = tf.Session()\n",
    "\n",
    "model = bert_model_pool(max_length = max_length, \n",
    "                     train_layers=12, \n",
    "                     optimizer = tf.keras.optimizers.Adam(learning_rate=0.001,\n",
    "                                                         beta_1 = 0.9,\n",
    "                                                         beta_2 = 0.999),\n",
    "                     dropout_rate= 0.8)\n",
    "\n",
    "# Instantiate variables\n",
    "initialize_vars(sess)\n",
    "\n",
    "\n",
    "model.fit(\n",
    "    train_data, \n",
    "    train_labels,\n",
    "    validation_split = 0.1,\n",
    "    shuffle=True,\n",
    "    epochs=30,\n",
    "    verbose=1,\n",
    "    batch_size=32,\n",
    "    class_weight = weights)"
   ]
  },
  {
   "cell_type": "code",
   "execution_count": null,
   "metadata": {},
   "outputs": [],
   "source": [
    "test_probs = model.predict(test_data)\n",
    "metrics(true_labels, test_probs)"
   ]
  },
  {
   "cell_type": "code",
   "execution_count": 42,
   "metadata": {},
   "outputs": [
    {
     "name": "stdout",
     "output_type": "stream",
     "text": [
      "Model: \"model_11\"\n",
      "__________________________________________________________________________________________________\n",
      "Layer (type)                    Output Shape         Param #     Connected to                     \n",
      "==================================================================================================\n",
      "input_ids (InputLayer)          [(None, 83)]         0                                            \n",
      "__________________________________________________________________________________________________\n",
      "input_masks (InputLayer)        [(None, 83)]         0                                            \n",
      "__________________________________________________________________________________________________\n",
      "segment_ids (InputLayer)        [(None, 83)]         0                                            \n",
      "__________________________________________________________________________________________________\n",
      "bert_layer__seq_11 (BertLayer_S (None, None, 768)    108931396   input_ids[0][0]                  \n",
      "                                                                 input_masks[0][0]                \n",
      "                                                                 segment_ids[0][0]                \n",
      "__________________________________________________________________________________________________\n",
      "dropout_22 (Dropout)            (None, None, 768)    0           bert_layer__seq_11[0][0]         \n",
      "__________________________________________________________________________________________________\n",
      "lstm1 (LSTM)                    (None, 128)          459264      dropout_22[0][0]                 \n",
      "__________________________________________________________________________________________________\n",
      "dense1 (Dense)                  (None, 64)           8256        lstm1[0][0]                      \n",
      "__________________________________________________________________________________________________\n",
      "dropout_23 (Dropout)            (None, 64)           0           dense1[0][0]                     \n",
      "__________________________________________________________________________________________________\n",
      "classification (Dense)          (None, 3)            195         dropout_23[0][0]                 \n",
      "==================================================================================================\n",
      "Total params: 109,399,111\n",
      "Trainable params: 6,963,459\n",
      "Non-trainable params: 102,435,652\n",
      "__________________________________________________________________________________________________\n",
      "Train on 664 samples, validate on 37 samples\n",
      "Epoch 1/30\n",
      "664/664 [==============================] - 138s 208ms/sample - loss: 1.3550 - categorical_accuracy: 0.3298 - val_loss: 1.1858 - val_categorical_accuracy: 0.1622\n",
      "Epoch 2/30\n",
      "664/664 [==============================] - 124s 187ms/sample - loss: 1.3227 - categorical_accuracy: 0.3072 - val_loss: 1.1475 - val_categorical_accuracy: 0.3243\n",
      "Epoch 3/30\n",
      "664/664 [==============================] - 125s 188ms/sample - loss: 1.2936 - categorical_accuracy: 0.2922 - val_loss: 1.1724 - val_categorical_accuracy: 0.2973\n",
      "Epoch 4/30\n",
      "664/664 [==============================] - 125s 188ms/sample - loss: 1.2476 - categorical_accuracy: 0.3133 - val_loss: 1.1100 - val_categorical_accuracy: 0.2973\n",
      "Epoch 5/30\n",
      "664/664 [==============================] - 126s 190ms/sample - loss: 1.1616 - categorical_accuracy: 0.4036 - val_loss: 1.2778 - val_categorical_accuracy: 0.2703\n",
      "Epoch 6/30\n",
      "664/664 [==============================] - 128s 193ms/sample - loss: 1.1148 - categorical_accuracy: 0.4202 - val_loss: 1.2653 - val_categorical_accuracy: 0.2973\n",
      "Epoch 7/30\n",
      "664/664 [==============================] - 128s 193ms/sample - loss: 1.0276 - categorical_accuracy: 0.4729 - val_loss: 1.2644 - val_categorical_accuracy: 0.2973\n",
      "Epoch 8/30\n",
      "664/664 [==============================] - 131s 197ms/sample - loss: 0.8766 - categorical_accuracy: 0.5181 - val_loss: 1.3202 - val_categorical_accuracy: 0.3514\n",
      "Epoch 9/30\n",
      "664/664 [==============================] - 134s 202ms/sample - loss: 0.7410 - categorical_accuracy: 0.5557 - val_loss: 1.4989 - val_categorical_accuracy: 0.3243\n",
      "Epoch 10/30\n",
      "664/664 [==============================] - 135s 203ms/sample - loss: 0.7074 - categorical_accuracy: 0.5587 - val_loss: 1.6907 - val_categorical_accuracy: 0.4054\n",
      "Epoch 11/30\n",
      "664/664 [==============================] - 137s 206ms/sample - loss: 0.6776 - categorical_accuracy: 0.5934 - val_loss: 1.2290 - val_categorical_accuracy: 0.4054\n",
      "Epoch 12/30\n",
      "664/664 [==============================] - 141s 212ms/sample - loss: 0.5329 - categorical_accuracy: 0.6913 - val_loss: 1.2989 - val_categorical_accuracy: 0.5676\n",
      "Epoch 13/30\n",
      "664/664 [==============================] - 142s 214ms/sample - loss: 0.4519 - categorical_accuracy: 0.7334 - val_loss: 1.7242 - val_categorical_accuracy: 0.2973\n",
      "Epoch 14/30\n",
      "664/664 [==============================] - 142s 214ms/sample - loss: 0.3868 - categorical_accuracy: 0.7756 - val_loss: 1.6812 - val_categorical_accuracy: 0.5135\n",
      "Epoch 15/30\n",
      "664/664 [==============================] - 143s 216ms/sample - loss: 0.3234 - categorical_accuracy: 0.8464 - val_loss: 1.9091 - val_categorical_accuracy: 0.5135\n",
      "Epoch 16/30\n",
      "664/664 [==============================] - 143s 215ms/sample - loss: 0.3613 - categorical_accuracy: 0.8268 - val_loss: 2.1953 - val_categorical_accuracy: 0.5135\n",
      "Epoch 17/30\n",
      "664/664 [==============================] - 145s 218ms/sample - loss: 0.3219 - categorical_accuracy: 0.8645 - val_loss: 2.1813 - val_categorical_accuracy: 0.5405\n",
      "Epoch 18/30\n",
      "664/664 [==============================] - 145s 218ms/sample - loss: 0.2722 - categorical_accuracy: 0.8870 - val_loss: 2.3213 - val_categorical_accuracy: 0.5676\n",
      "Epoch 19/30\n",
      "664/664 [==============================] - 146s 221ms/sample - loss: 0.5076 - categorical_accuracy: 0.7711 - val_loss: 2.0994 - val_categorical_accuracy: 0.4865\n",
      "Epoch 20/30\n",
      "664/664 [==============================] - 146s 220ms/sample - loss: 0.4050 - categorical_accuracy: 0.8479 - val_loss: 2.4367 - val_categorical_accuracy: 0.4595\n",
      "Epoch 21/30\n",
      "664/664 [==============================] - 147s 222ms/sample - loss: 0.2915 - categorical_accuracy: 0.8735 - val_loss: 3.1356 - val_categorical_accuracy: 0.4324\n",
      "Epoch 22/30\n",
      "664/664 [==============================] - 147s 222ms/sample - loss: 0.2328 - categorical_accuracy: 0.9157 - val_loss: 2.1769 - val_categorical_accuracy: 0.4595\n",
      "Epoch 23/30\n",
      "664/664 [==============================] - 146s 221ms/sample - loss: 0.1641 - categorical_accuracy: 0.9307 - val_loss: 2.9558 - val_categorical_accuracy: 0.4324\n",
      "Epoch 24/30\n",
      "664/664 [==============================] - 147s 221ms/sample - loss: 0.1294 - categorical_accuracy: 0.9367 - val_loss: 3.2219 - val_categorical_accuracy: 0.4865\n",
      "Epoch 25/30\n",
      "664/664 [==============================] - 147s 222ms/sample - loss: 0.1354 - categorical_accuracy: 0.9398 - val_loss: 3.3336 - val_categorical_accuracy: 0.5135\n",
      "Epoch 26/30\n",
      "664/664 [==============================] - 149s 224ms/sample - loss: 0.0776 - categorical_accuracy: 0.9819 - val_loss: 3.8213 - val_categorical_accuracy: 0.4595\n",
      "Epoch 27/30\n",
      "664/664 [==============================] - 147s 222ms/sample - loss: 0.0645 - categorical_accuracy: 0.9789 - val_loss: 3.8316 - val_categorical_accuracy: 0.4595\n",
      "Epoch 28/30\n",
      "664/664 [==============================] - 148s 223ms/sample - loss: 0.0719 - categorical_accuracy: 0.9744 - val_loss: 4.1021 - val_categorical_accuracy: 0.4865\n",
      "Epoch 29/30\n",
      "664/664 [==============================] - 147s 222ms/sample - loss: 0.0719 - categorical_accuracy: 0.9729 - val_loss: 4.3340 - val_categorical_accuracy: 0.4865\n",
      "Epoch 30/30\n",
      "664/664 [==============================] - 148s 222ms/sample - loss: 0.0553 - categorical_accuracy: 0.9774 - val_loss: 4.5937 - val_categorical_accuracy: 0.4865\n"
     ]
    },
    {
     "data": {
      "text/plain": [
       "<tensorflow.python.keras.callbacks.History at 0x1f8be84ef0>"
      ]
     },
     "execution_count": 42,
     "metadata": {},
     "output_type": "execute_result"
    }
   ],
   "source": [
    "train_data, train_labels, test_data, test_labels, true_labels, val_data, val_y = topic_subset(['Feminist Movement'])\n",
    "\n",
    "#Start session\n",
    "compute_class = compute_class_weight('balanced', np.unique(true_labels), true_labels)\n",
    "weights = {0: compute_class[0], 1:compute_class[1], 2:compute_class[2]}\n",
    "\n",
    "sess = tf.Session()\n",
    "\n",
    "model = bert_model_seq(max_length = max_length, \n",
    "                     train_layers=12, \n",
    "                     optimizer = tf.keras.optimizers.Adam(learning_rate=0.001,\n",
    "                                                         beta_1 = 0.9,\n",
    "                                                         beta_2 = 0.999),\n",
    "                     dropout_rate= 0.8)\n",
    "\n",
    "# Instantiate variables\n",
    "initialize_vars(sess)\n",
    "\n",
    "\n",
    "model.fit(\n",
    "    train_data, \n",
    "    train_labels,\n",
    "    validation_data = [val_data, val_y],\n",
    "    epochs=30,\n",
    "    verbose=1,\n",
    "    batch_size=32,\n",
    "    class_weight = weights)"
   ]
  },
  {
   "cell_type": "code",
   "execution_count": 43,
   "metadata": {},
   "outputs": [
    {
     "name": "stdout",
     "output_type": "stream",
     "text": [
      "F1 macro score: 0.5469157466305964\n",
      "              precision    recall  f1-score   support\n",
      "\n",
      "     Against       0.77      0.64      0.70       159\n",
      "        None       0.59      0.43      0.50        37\n",
      "       Favor       0.35      0.60      0.44        52\n",
      "\n",
      "   micro avg       0.60      0.60      0.60       248\n",
      "   macro avg       0.57      0.56      0.55       248\n",
      "weighted avg       0.66      0.60      0.62       248\n",
      "\n"
     ]
    },
    {
     "data": {
      "image/png": "[encoded data removed]",
      "text/plain": [
       "<Figure size 1080x360 with 2 Axes>"
      ]
     },
     "metadata": {
      "needs_background": "light"
     },
     "output_type": "display_data"
    }
   ],
   "source": [
    "test_probs = model.predict(test_data)\n",
    "metrics(true_labels, test_probs)"
   ]
  },
  {
   "cell_type": "markdown",
   "metadata": {},
   "source": [
    "## ALL"
   ]
  },
  {
   "cell_type": "code",
   "execution_count": null,
   "metadata": {
    "scrolled": true
   },
   "outputs": [],
   "source": [
    "train_data, train_labels, test_data, test_labels, true_labels = topic_subset(['Hillary Clinton', \n",
    "                                                                              'Legalization of Abortion', \n",
    "                                                                              'Climate Change is a Real Concern',\n",
    "                                                                             'Atheism',\n",
    "                                                                             'Feminist Movement'])\n",
    "\n",
    "\n",
    "#Start session\n",
    "compute_class = compute_class_weight('balanced', np.unique(true_labels), true_labels)\n",
    "weights = {0: compute_class[0], 1:compute_class[1], 2:compute_class[2]}\n",
    "\n",
    "sess = tf.Session()\n",
    "\n",
    "model = bert_model(max_length, train_layers=12, optimizer = 'adam')\n",
    "\n",
    "# Instantiate variables\n",
    "initialize_vars(sess)\n",
    "\n",
    "\n",
    "model.fit(\n",
    "    train_data, \n",
    "    train_labels,\n",
    "    validation_data=[test_data, test_labels],\n",
    "    epochs=20,\n",
    "    verbose=1,\n",
    "    batch_size=32,\n",
    "    class_weight = weights)"
   ]
  },
  {
   "cell_type": "code",
   "execution_count": null,
   "metadata": {
    "scrolled": true
   },
   "outputs": [],
   "source": [
    "test_probs = model.predict(test_data)\n",
    "metrics(true_labels, test_probs)"
   ]
  },
  {
   "cell_type": "code",
   "execution_count": null,
   "metadata": {},
   "outputs": [],
   "source": [
    "train_data, train_labels, test_data, test_labels, true_labels = topic_subset(['Hillary Clinton', \n",
    "                                                                              'Legalization of Abortion', \n",
    "                                                                              'Climate Change is a Real Concern',\n",
    "                                                                             'Atheism',\n",
    "                                                                             'Feminist Movement'])\n",
    "\n",
    "\n",
    "#Start session\n",
    "compute_class = compute_class_weight('balanced', np.unique(true_labels), true_labels)\n",
    "weights = {0: compute_class[0], 1:compute_class[1], 2:compute_class[2]}\n",
    "\n",
    "sess = tf.Session()\n",
    "\n",
    "model = bert_model_2(max_length, train_layers=12, optimizer = 'adam')\n",
    "\n",
    "# Instantiate variables\n",
    "initialize_vars(sess)\n",
    "\n",
    "\n",
    "model.fit(\n",
    "    train_data, \n",
    "    train_labels,\n",
    "    validation_data=[test_data, test_labels],\n",
    "    epochs=20,\n",
    "    verbose=1,\n",
    "    batch_size=32,\n",
    "    class_weight = weights)"
   ]
  },
  {
   "cell_type": "code",
   "execution_count": null,
   "metadata": {},
   "outputs": [],
   "source": [
    "test_probs = model.predict(test_data)\n",
    "metrics(true_labels, test_probs)"
   ]
  },
  {
   "cell_type": "code",
   "execution_count": null,
   "metadata": {},
   "outputs": [],
   "source": []
  }
 ],
 "metadata": {
  "kernelspec": {
   "display_name": "Python 3",
   "language": "python",
   "name": "python3"
  },
  "language_info": {
   "codemirror_mode": {
    "name": "ipython",
    "version": 3
   },
   "file_extension": ".py",
   "mimetype": "text/x-python",
   "name": "python",
   "nbconvert_exporter": "python",
   "pygments_lexer": "ipython3",
   "version": "3.6.8"
  }
 },
 "nbformat": 4,
 "nbformat_minor": 2
}
