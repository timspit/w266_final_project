{
 "cells": [
  {
   "cell_type": "markdown",
   "metadata": {},
   "source": [
    "## Setup"
   ]
  },
  {
   "cell_type": "code",
   "execution_count": 1,
   "metadata": {},
   "outputs": [],
   "source": [
    "#imports\n",
    "import pandas as pd\n",
    "import numpy as np\n",
    "from sklearn.metrics import f1_score\n",
    "import time\n",
    "import re\n",
    "import tensorflow as tf\n",
    "import tensorflow_hub as hub\n",
    "import os\n",
    "from sklearn.metrics import confusion_matrix, classification_report\n",
    "import matplotlib.pyplot as plt\n",
    "import string\n",
    "import sys\n",
    "from datetime import datetime\n",
    "from sklearn.utils.class_weight import compute_class_weight\n",
    "from sklearn.model_selection import train_test_split\n",
    "\n",
    "\n",
    "from tensorflow.keras import backend as K\n",
    "from tensorflow.keras import layers\n",
    "from tensorflow.python.keras.layers import Lambda\n",
    "from tensorflow.keras.callbacks import TensorBoard\n",
    "from tensorflow.keras.backend import sparse_categorical_crossentropy\n",
    "from tensorflow.keras.layers import Dense, TimeDistributed\n",
    "from datetime import datetime\n",
    "\n",
    "%matplotlib inline\n",
    "\n",
    "#set working directory\n",
    "# os.chdir(\"/Users/alexdessouky/Desktop/MIDS/w266\")\n",
    "\n",
    "#load training data\n",
    "twitter_train = pd.read_excel('./StanceDataset/train.xlsx')\n",
    "train_x = twitter_train['Tweet']\n",
    "train_y = twitter_train['Stance']\n",
    "\n",
    "\n",
    "#load test data\n",
    "twitter_test = pd.read_excel('./StanceDataset/test.xlsx')\n",
    "test_x = twitter_test['Tweet']\n",
    "test_y = twitter_test[['Stance','Target']]\n",
    "\n",
    "#carve out 15% of test data to use as dev data\n",
    "test_x, dev_x, test_y, dev_y = train_test_split(test_x, test_y, test_size=0.15, random_state=42)\n",
    "\n",
    "#need to save the target arrays for test & dev separately; then can drop them from our y arrays\n",
    "target_test = test_y['Target']\n",
    "target_dev = dev_y['Target']\n",
    "\n",
    "test_y = test_y['Stance']\n",
    "dev_y = dev_y['Stance']"
   ]
  },
  {
   "cell_type": "code",
   "execution_count": 2,
   "metadata": {},
   "outputs": [],
   "source": [
    "#store the paths to bert & data\n",
    "bert_path =   '/Users/alexdessouky/Desktop/MIDS/w266/bert' \n",
    "#data_path = '/Users/alexdessouky/Desktop/MIDS/w266/w266_final_project/StanceDataset'  \n",
    "\n",
    "now = datetime.now() # current date and time\n",
    "\n",
    "# make sure that the paths are accessible within the notebook\n",
    "sys.path.insert(0,bert_path)\n",
    "# sys.path.insert(0,data_path)"
   ]
  },
  {
   "cell_type": "code",
   "execution_count": 3,
   "metadata": {},
   "outputs": [
    {
     "name": "stderr",
     "output_type": "stream",
     "text": [
      "WARNING: Logging before flag parsing goes to stderr.\n",
      "W1122 19:18:22.174176 140735964402560 deprecation_wrapper.py:119] From /Users/alexdessouky/Desktop/MIDS/w266/bert/optimization.py:87: The name tf.train.Optimizer is deprecated. Please use tf.compat.v1.train.Optimizer instead.\n",
      "\n"
     ]
    }
   ],
   "source": [
    "import optimization\n",
    "import run_classifier\n",
    "import tokenization\n",
    "import run_classifier_with_tfhub\n",
    "\n",
    "# Tensorflow hub path to BERT module of choice\n",
    "bert_url = \"https://tfhub.dev/google/bert_cased_L-12_H-768_A-12/1\"\n",
    "\n",
    "# Define maximal length of input 'sentences' (post tokenization).\n",
    "max_length = 83 ## max length with no preprocessing"
   ]
  },
  {
   "cell_type": "markdown",
   "metadata": {},
   "source": [
    "## Bert tokenizer"
   ]
  },
  {
   "cell_type": "code",
   "execution_count": 4,
   "metadata": {},
   "outputs": [
    {
     "name": "stderr",
     "output_type": "stream",
     "text": [
      "W1122 19:18:25.066998 140735964402560 deprecation_wrapper.py:119] From /Users/alexdessouky/Desktop/MIDS/w266/bert/tokenization.py:125: The name tf.gfile.GFile is deprecated. Please use tf.io.gfile.GFile instead.\n",
      "\n"
     ]
    }
   ],
   "source": [
    "def create_tokenizer_from_hub_module():\n",
    "    \"\"\"Get the vocab file and casing info from the Hub module.\"\"\"\n",
    "    with tf.Graph().as_default():\n",
    "        bert_module = hub.Module(bert_url)\n",
    "        tokenization_info = bert_module(signature=\"tokenization_info\", as_dict=True)\n",
    "        with tf.Session() as sess:\n",
    "            vocab_file, do_lower_case = sess.run([tokenization_info[\"vocab_file\"],\n",
    "                                            tokenization_info[\"do_lower_case\"]])\n",
    "      \n",
    "    return tokenization.FullTokenizer(\n",
    "      vocab_file=vocab_file, do_lower_case=do_lower_case)\n",
    "\n",
    "tokenizer = create_tokenizer_from_hub_module()"
   ]
  },
  {
   "cell_type": "markdown",
   "metadata": {},
   "source": [
    "## If we want to \"Clean\" the tweets; uncomment out this cell (performs better without)"
   ]
  },
  {
   "cell_type": "code",
   "execution_count": 5,
   "metadata": {},
   "outputs": [],
   "source": [
    "#def preprocess_tweets(x):\n",
    "    \n",
    "    # Remove punctuation EXCEPT for hashtags (#) and handles (@)\n",
    "#    exclude_punc = [punc for punc in string.punctuation if punc not in ['#', '@']]\n",
    "#    x_nopunc = ''.join(ch for ch in x if ch not in exclude_punc)\n",
    "\n",
    "    # lower case\n",
    "#    x_lower = x_nopunc.lower()\n",
    "    \n",
    "    # Replace digits with DIGIT\n",
    "#    x_digits = re.sub(\"\\d+\", \"DIGIT\", x_lower)\n",
    "    \n",
    "#    return x_digits\n",
    "\n",
    "#train_x = twitter_train['Tweet'].apply(lambda x: preprocess_tweets(x))\n",
    "#test_x = twitter_test['Tweet'].apply(lambda x: preprocess_tweets(x))\n",
    "\n",
    "#max_length = 95 #redefine max length - this is what it is when we clean the tweets"
   ]
  },
  {
   "cell_type": "markdown",
   "metadata": {},
   "source": [
    "## Pre-Process Data"
   ]
  },
  {
   "cell_type": "code",
   "execution_count": 6,
   "metadata": {},
   "outputs": [],
   "source": [
    "#create tokens surrounded by the [CLS] and [SEP] tokens\n",
    "train_tokens = train_x.apply(lambda x: ['[CLS]'] + tokenizer.tokenize(x) + ['[SEP]'])\n",
    "test_tokens = test_x.apply(lambda x: ['[CLS]'] + tokenizer.tokenize(x) + ['[SEP]'])\n",
    "dev_tokens = dev_x.apply(lambda x: ['[CLS]'] + tokenizer.tokenize(x) + ['[SEP]'])\n",
    "\n",
    "#mask ids (mask out the paddings)\n",
    "train_mask_ids = train_tokens.apply(lambda x: len(x)*[1])\n",
    "test_mask_ids = test_tokens.apply(lambda x: len(x)*[1])\n",
    "dev_mask_ids = dev_tokens.apply(lambda x: len(x)*[1])\n",
    "\n",
    "train_mask_ids = train_mask_ids.apply(lambda x: np.array(x + (max_length - len(x)) * [0]) if len(x) < max_length else \n",
    "                                      np.array(x)).tolist()\n",
    "test_mask_ids = test_mask_ids.apply(lambda x: np.array(x + (max_length - len(x)) * [0]) if len(x) < max_length else \n",
    "                                    np.array(x)).tolist()\n",
    "dev_mask_ids = dev_mask_ids.apply(lambda x: np.array(x + (max_length - len(x)) * [0]) if len(x) < max_length else \n",
    "                                    np.array(x)).tolist()\n",
    "\n",
    "#add padding to tokens\n",
    "train_tokens = train_tokens.apply(lambda x: x + (max_length - len(x)) * ['[PAD]'] if len(x) < max_length else x)\n",
    "test_tokens = test_tokens.apply(lambda x: x + (max_length - len(x)) * ['[PAD]'] if len(x) < max_length else x)\n",
    "dev_tokens = dev_tokens.apply(lambda x: x + (max_length - len(x)) * ['[PAD]'] if len(x) < max_length else x)\n",
    "\n",
    "#test/train sequence vectors\n",
    "train_sequenceids = train_tokens.apply(lambda x: np.array(max_length*[0])).tolist()\n",
    "test_sequenceids = test_tokens.apply(lambda x: np.array(max_length*[0])).tolist()\n",
    "dev_sequenceids = dev_tokens.apply(lambda x: np.array(max_length*[0])).tolist()\n",
    "\n",
    "#convert tokens to sentence ids\n",
    "train_sentenceids = train_tokens.apply(lambda x: np.array(tokenizer.convert_tokens_to_ids(x))).tolist()\n",
    "test_sentenceids = test_tokens.apply(lambda x: np.array(tokenizer.convert_tokens_to_ids(x))).tolist()\n",
    "dev_sentenceids = dev_tokens.apply(lambda x: np.array(tokenizer.convert_tokens_to_ids(x))).tolist()\n",
    "\n",
    "#bert features\n",
    "bert_train = [np.array(train_sentenceids),np.array(train_mask_ids),np.array(train_sequenceids)]\n",
    "bert_test = [np.array(test_sentenceids),np.array(test_mask_ids),np.array(test_sequenceids)]\n",
    "bert_dev = [np.array(dev_sentenceids),np.array(dev_mask_ids),np.array(dev_sequenceids)]\n",
    "\n",
    "#labels\n",
    "stance_labels_train = np.array(twitter_train['Stance'].apply(lambda x: \n",
    "                                                                    2 if x == \"FAVOR\" else \n",
    "                                                                    (1 if x == \"NONE\" else 0)))\n",
    "\n",
    "stance_labels_test = np.array(pd.Series(test_y).apply(lambda x: \n",
    "                                                                2 if x == \"FAVOR\" else \n",
    "                                                                (1 if x == \"NONE\" else 0)))\n",
    "\n",
    "stance_labels_dev = np.array(pd.Series(dev_y).apply(lambda x: \n",
    "                                                                2 if x == \"FAVOR\" else \n",
    "                                                                (1 if x == \"NONE\" else 0)))\n",
    "      \n",
    "\n",
    "#PREP LABELS FOR NN\n",
    "train_y = np.zeros(shape = (stance_labels_train.shape[0],3))\n",
    "train_y[stance_labels_train == 0,0] = 1\n",
    "train_y[stance_labels_train == 1,1] = 1\n",
    "train_y[stance_labels_train == 2,2] = 1\n",
    "\n",
    "test_y = np.zeros(shape = (stance_labels_test.shape[0],3))\n",
    "test_y[stance_labels_test == 0,0] = 1\n",
    "test_y[stance_labels_test == 1,1] = 1\n",
    "test_y[stance_labels_test == 2,2] = 1\n",
    "\n",
    "dev_y = np.zeros(shape = (stance_labels_dev.shape[0],3))\n",
    "dev_y[stance_labels_dev == 0,0] = 1\n",
    "dev_y[stance_labels_dev == 1,1] = 1\n",
    "dev_y[stance_labels_dev == 2,2] = 1"
   ]
  },
  {
   "cell_type": "markdown",
   "metadata": {},
   "source": [
    "## Check data shapes"
   ]
  },
  {
   "cell_type": "code",
   "execution_count": 7,
   "metadata": {},
   "outputs": [
    {
     "name": "stdout",
     "output_type": "stream",
     "text": [
      "(2914, 83)(2914, 83)(2914, 83)\n",
      "(2914, 3)\n",
      "(1662, 83)(1662, 83)(1662, 83)\n",
      "(1662, 3)\n",
      "(294, 83)(294, 83)(294, 83)\n",
      "(294, 3)\n"
     ]
    }
   ],
   "source": [
    "print(str(bert_train[0].shape) + str(bert_train[1].shape) + str(bert_train[2].shape))\n",
    "print(train_y.shape)\n",
    "\n",
    "print(str(bert_test[0].shape) + str(bert_test[1].shape) + str(bert_test[2].shape))\n",
    "print(test_y.shape)\n",
    "\n",
    "print(str(bert_dev[0].shape) + str(bert_dev[1].shape) + str(bert_dev[2].shape))\n",
    "print(dev_y.shape)"
   ]
  },
  {
   "cell_type": "markdown",
   "metadata": {},
   "source": [
    "## Function to obtain a subset of the data"
   ]
  },
  {
   "cell_type": "code",
   "execution_count": 8,
   "metadata": {},
   "outputs": [],
   "source": [
    "def topic_subset(topic_list):\n",
    "        \n",
    "    #convert topic list to lower case\n",
    "    for i in range(0,len(topic_list)):\n",
    "        topic_list[i] = topic_list[i].lower()\n",
    "    \n",
    "    #find boolean series of all rows pertaining to the relevant topics\n",
    "    matches_train = twitter_train['Target'].apply(lambda x: x.lower() in topic_list)\n",
    "    matches_test = pd.Series(target_test).apply(lambda x: x.lower() in topic_list)\n",
    "    matches_dev = pd.Series(target_dev).apply(lambda x: x.lower() in topic_list)\n",
    "    \n",
    "    #subset labels\n",
    "    train_y_sub = train_y[matches_train,:]\n",
    "    test_y_sub = test_y[matches_test,:]\n",
    "    dev_y_sub = dev_y[matches_dev,:]\n",
    "    \n",
    "    \n",
    "    #initialize bert training lists for subsetting\n",
    "    bert_train_sub = []\n",
    "    bert_test_sub = []\n",
    "    bert_dev_sub = []\n",
    "    \n",
    "    for train_input in bert_train:\n",
    "        bert_train_sub.append(train_input[matches_train,:])\n",
    "        \n",
    "    for test_input in bert_test:\n",
    "        bert_test_sub.append(test_input[matches_test,:])\n",
    "        \n",
    "    for dev_input in bert_dev:\n",
    "        bert_dev_sub.append(dev_input[matches_dev,:])\n",
    "        \n",
    "    #also need to return the test labels in this format for metrics\n",
    "    true_labels = stance_labels_test[matches_test]\n",
    "    \n",
    "    return bert_train_sub, train_y_sub, bert_test_sub, test_y_sub, true_labels, bert_dev_sub, dev_y_sub"
   ]
  },
  {
   "cell_type": "markdown",
   "metadata": {},
   "source": [
    "## Functions to Run Metrics"
   ]
  },
  {
   "cell_type": "code",
   "execution_count": 9,
   "metadata": {},
   "outputs": [],
   "source": [
    "def confusion_plot(confusion_matrix, target_names):\n",
    "    # Plot confusion matrix (via imshow)\n",
    "    plt.imshow(confusion_matrix, interpolation = \"nearest\", cmap = plt.cm.Blues)\n",
    "    plt.title(\"Confusion matrix\")\n",
    "    plt.colorbar()\n",
    "    tick_marks = np.arange(len(target_names))\n",
    "    plt.xticks(tick_marks, target_names)\n",
    "    plt.yticks(tick_marks, target_names)\n",
    "    plt.tight_layout()\n",
    "\n",
    "    # Loop through each value of the matrix to add data labels\n",
    "    width, height = confusion_matrix.shape\n",
    "    for x in range(width):\n",
    "        for y in range(height):\n",
    "            plt.annotate(str(confusion_matrix[x][y]), xy = (y, x), \n",
    "                        horizontalalignment = \"center\",\n",
    "                        verticalalignment = \"center\")\n",
    "    plt.ylabel(\"True label\")\n",
    "    \n",
    "def metrics(true_labels, test_probs):\n",
    "    \n",
    "    #find predicted labels\n",
    "    test_predicts = np.argmax(test_probs, axis = 1)\n",
    "    \n",
    "    #calculate f1 score\n",
    "    f1 = f1_score(true_labels, test_predicts, average = 'macro')\n",
    "    \n",
    "    print(\"F1 macro score:\", f1)\n",
    "    \n",
    "    print(classification_report(y_true = true_labels, \n",
    "                                        y_pred = test_predicts,\n",
    "                                        target_names = ['Against', 'None', 'Favor']))\n",
    "    \n",
    "    confuse = confusion_matrix(y_true = true_labels, y_pred = test_predicts)\n",
    "    \n",
    "    plt.figure(figsize=(15, 5))\n",
    "    confusion_plot(confuse, ['Against', 'None', 'Favor'])\n",
    "    plt.show()"
   ]
  },
  {
   "cell_type": "markdown",
   "metadata": {},
   "source": [
    "## Custom layer to create Bert (1 for pooled output and another for Sequential)"
   ]
  },
  {
   "cell_type": "code",
   "execution_count": 10,
   "metadata": {},
   "outputs": [],
   "source": [
    "class BertLayer_Pool(tf.keras.layers.Layer):\n",
    "    def __init__(self, n_fine_tune_layers=10, **kwargs):\n",
    "        self.n_fine_tune_layers = n_fine_tune_layers\n",
    "        self.trainable = True\n",
    "        self.output_size = 768\n",
    "        super(BertLayer_Pool, self).__init__(**kwargs)\n",
    "\n",
    "    def build(self, input_shape):\n",
    "        self.bert = hub.Module(\n",
    "            bert_url,\n",
    "            trainable=self.trainable,\n",
    "            name=\"{}_module\".format(self.name)\n",
    "        )\n",
    "        trainable_vars = self.bert.variables\n",
    "        \n",
    "        # Remove unused layers\n",
    "        trainable_vars = [var for var in trainable_vars if not \"/cls/\" in var.name]\n",
    "        \n",
    "        # Select how many layers to fine tune\n",
    "        trainable_vars = trainable_vars[-self.n_fine_tune_layers :]\n",
    "        \n",
    "        # Add to trainable weights\n",
    "        for var in trainable_vars:\n",
    "            self._trainable_weights.append(var)\n",
    "        \n",
    "        # Add non-trainable weights\n",
    "        for var in self.bert.variables:\n",
    "            if var not in self._trainable_weights:\n",
    "                self._non_trainable_weights.append(var)\n",
    "        \n",
    "        super(BertLayer_Pool, self).build(input_shape)\n",
    "\n",
    "    def call(self, inputs):\n",
    "        inputs = [K.cast(x, dtype=\"int32\") for x in inputs]\n",
    "        input_ids, input_mask, segment_ids = inputs\n",
    "        bert_inputs = dict(\n",
    "            input_ids=input_ids, input_mask=input_mask, segment_ids=segment_ids\n",
    "        )\n",
    "        result = self.bert(inputs=bert_inputs, signature=\"tokens\", as_dict=True)[\n",
    "            \"pooled_output\"\n",
    "        ]\n",
    "        return result\n",
    "\n",
    "    def compute_output_shape(self, input_shape):\n",
    "        return (input_shape[0], self.output_size)"
   ]
  },
  {
   "cell_type": "code",
   "execution_count": 11,
   "metadata": {},
   "outputs": [],
   "source": [
    "class BertLayer_Seq(tf.keras.layers.Layer):\n",
    "    def __init__(self, n_fine_tune_layers=10, **kwargs):\n",
    "        self.n_fine_tune_layers = n_fine_tune_layers\n",
    "        self.trainable = True\n",
    "        self.output_size = 768\n",
    "        super(BertLayer_Seq, self).__init__(**kwargs)\n",
    "\n",
    "    def build(self, input_shape):\n",
    "        self.bert = hub.Module(\n",
    "            bert_url,\n",
    "            trainable=self.trainable,\n",
    "            name=\"{}_module\".format(self.name)\n",
    "        )\n",
    "        trainable_vars = self.bert.variables\n",
    "        \n",
    "        # Remove unused layers\n",
    "        trainable_vars = [var for var in trainable_vars if not \"/cls/\" in var.name and not \"/pooler/\" in var.name]\n",
    "        \n",
    "        # Select how many layers to fine tune\n",
    "        trainable_vars = trainable_vars[-self.n_fine_tune_layers :]\n",
    "        \n",
    "        # Add to trainable weights\n",
    "        for var in trainable_vars:\n",
    "            self._trainable_weights.append(var)\n",
    "        \n",
    "        # Add non-trainable weights\n",
    "        for var in self.bert.variables:\n",
    "            if var not in self._trainable_weights:\n",
    "                self._non_trainable_weights.append(var)\n",
    "        \n",
    "        super(BertLayer_Seq, self).build(input_shape)\n",
    "\n",
    "    def call(self, inputs):\n",
    "        inputs = [K.cast(x, dtype=\"int32\") for x in inputs]\n",
    "        input_ids, input_mask, segment_ids = inputs\n",
    "        bert_inputs = dict(\n",
    "            input_ids=input_ids, input_mask=input_mask, segment_ids=segment_ids\n",
    "        )\n",
    "        result = self.bert(inputs=bert_inputs, signature=\"tokens\", as_dict=True)[\n",
    "            \"sequence_output\"\n",
    "        ]\n",
    "        \n",
    "        mul_mask = lambda x, m: x * tf.expand_dims(m, axis=-1)\n",
    "        \n",
    "        return result\n",
    "\n",
    "    def compute_output_shape(self, input_shape):\n",
    "        return (input_shape[0], self.output_size)"
   ]
  },
  {
   "cell_type": "markdown",
   "metadata": {},
   "source": [
    "## Define Model (1 Pooled output 1 Sequential output)"
   ]
  },
  {
   "cell_type": "code",
   "execution_count": 12,
   "metadata": {},
   "outputs": [],
   "source": [
    "def bert_model_pool(max_length, train_layers, optimizer, dropout_rate):\n",
    "    \n",
    "    #inputs\n",
    "    in_id = tf.keras.layers.Input(shape=(max_length,), name=\"input_ids\")\n",
    "    in_mask = tf.keras.layers.Input(shape=(max_length,), name=\"input_masks\")\n",
    "    in_segment = tf.keras.layers.Input(shape=(max_length,), name=\"segment_ids\")\n",
    "    \n",
    "    bert_inputs = [in_id, in_mask, in_segment]\n",
    "    \n",
    "    #obtain bert pooled ouput\n",
    "    bert_sequence = BertLayer_Pool(n_fine_tune_layers=train_layers)(bert_inputs)\n",
    "    \n",
    "    #perform dropout\n",
    "    dropout1= tf.keras.layers.Dropout(rate=dropout_rate)(bert_sequence)\n",
    "    \n",
    "    #dense layer of 256 units\n",
    "    dense1 = tf.keras.layers.Dense(256, activation='relu', name='dense1')(dropout1)\n",
    "    \n",
    "    #another dropout\n",
    "    dropout2 = tf.keras.layers.Dropout(rate=dropout_rate)(dense1)\n",
    "    \n",
    "    #classification layer\n",
    "    pred = tf.keras.layers.Dense(3, activation='softmax', name='classification')(dropout2)\n",
    "    \n",
    "    #compile model\n",
    "    model = tf.keras.models.Model(inputs=bert_inputs, outputs=pred)\n",
    "    model.compile(loss='categorical_crossentropy', optimizer=optimizer, metrics = ['categorical_accuracy'])\n",
    "    model.summary()\n",
    "    \n",
    "    return model\n",
    "\n",
    "def initialize_vars(sess):\n",
    "    sess.run(tf.local_variables_initializer())\n",
    "    sess.run(tf.global_variables_initializer())\n",
    "    sess.run(tf.tables_initializer())\n",
    "    K.set_session(sess)"
   ]
  },
  {
   "cell_type": "code",
   "execution_count": 13,
   "metadata": {},
   "outputs": [],
   "source": [
    "def bert_model_seq(max_length, train_layers, optimizer, dropout_rate):\n",
    "    \n",
    "    #inputs\n",
    "    in_id = tf.keras.layers.Input(shape=(max_length,), name=\"input_ids\")\n",
    "    in_mask = tf.keras.layers.Input(shape=(max_length,), name=\"input_masks\")\n",
    "    in_segment = tf.keras.layers.Input(shape=(max_length,), name=\"segment_ids\")\n",
    "    \n",
    "    bert_inputs = [in_id, in_mask, in_segment]\n",
    "    \n",
    "    #obtain bert Sequential output\n",
    "    bert_sequence = BertLayer_Seq(n_fine_tune_layers=train_layers)(bert_inputs)\n",
    "    \n",
    "    #perform dropout\n",
    "    dropout1= tf.keras.layers.Dropout(rate=dropout_rate)(bert_sequence)\n",
    "    \n",
    "    #LSTM layer to handle Sequential output\n",
    "    lstm1 = tf.keras.layers.LSTM(128, name='lstm1')(dropout1)\n",
    "    \n",
    "    #Feed LSTM layer to 1 dense layer\n",
    "    dense1 = tf.keras.layers.Dense(64, activation='relu', \n",
    "                                 kernel_initializer = tf.keras.initializers.he_normal(), \n",
    "                                 name='dense1')(lstm1)\n",
    "    \n",
    "    #perform another dropout\n",
    "    dropout2 = tf.keras.layers.Dropout(rate=dropout_rate)(dense1)\n",
    "    \n",
    "    #classification layer\n",
    "    pred = tf.keras.layers.Dense(3, activation='softmax', name='classification')(dropout2)\n",
    "    \n",
    "    #compile model\n",
    "    model = tf.keras.models.Model(inputs=bert_inputs, outputs=pred)\n",
    "    model.compile(loss='categorical_crossentropy', optimizer=optimizer, metrics = ['categorical_accuracy'])\n",
    "    model.summary()\n",
    "    \n",
    "    return model\n",
    "\n",
    "def initialize_vars(sess):\n",
    "    sess.run(tf.local_variables_initializer())\n",
    "    sess.run(tf.global_variables_initializer())\n",
    "    sess.run(tf.tables_initializer())\n",
    "    K.set_session(sess)"
   ]
  },
  {
   "cell_type": "markdown",
   "metadata": {},
   "source": [
    "## Atheism"
   ]
  },
  {
   "cell_type": "code",
   "execution_count": 29,
   "metadata": {},
   "outputs": [
    {
     "name": "stdout",
     "output_type": "stream",
     "text": [
      "Model: \"model_8\"\n",
      "__________________________________________________________________________________________________\n",
      "Layer (type)                    Output Shape         Param #     Connected to                     \n",
      "==================================================================================================\n",
      "input_ids (InputLayer)          [(None, 83)]         0                                            \n",
      "__________________________________________________________________________________________________\n",
      "input_masks (InputLayer)        [(None, 83)]         0                                            \n",
      "__________________________________________________________________________________________________\n",
      "segment_ids (InputLayer)        [(None, 83)]         0                                            \n",
      "__________________________________________________________________________________________________\n",
      "bert_layer__pool (BertLayer_Poo (None, 768)          108931396   input_ids[0][0]                  \n",
      "                                                                 input_masks[0][0]                \n",
      "                                                                 segment_ids[0][0]                \n",
      "__________________________________________________________________________________________________\n",
      "dropout_16 (Dropout)            (None, 768)          0           bert_layer__pool[0][0]           \n",
      "__________________________________________________________________________________________________\n",
      "dense1 (Dense)                  (None, 256)          196864      dropout_16[0][0]                 \n",
      "__________________________________________________________________________________________________\n",
      "dropout_17 (Dropout)            (None, 256)          0           dense1[0][0]                     \n",
      "__________________________________________________________________________________________________\n",
      "classification (Dense)          (None, 3)            771         dropout_17[0][0]                 \n",
      "==================================================================================================\n",
      "Total params: 109,129,031\n",
      "Trainable params: 6,693,379\n",
      "Non-trainable params: 102,435,652\n",
      "__________________________________________________________________________________________________\n",
      "Train on 513 samples, validate on 35 samples\n",
      "Epoch 1/17\n",
      "513/513 [==============================] - 115s 224ms/sample - loss: 2.6095 - categorical_accuracy: 0.3431 - val_loss: 1.4082 - val_categorical_accuracy: 0.0000e+00\n",
      "Epoch 2/17\n",
      "513/513 [==============================] - 96s 186ms/sample - loss: 1.9281 - categorical_accuracy: 0.3411 - val_loss: 1.3477 - val_categorical_accuracy: 0.0000e+00\n",
      "Epoch 3/17\n",
      "513/513 [==============================] - 94s 183ms/sample - loss: 1.8338 - categorical_accuracy: 0.3216 - val_loss: 1.1630 - val_categorical_accuracy: 0.0857\n",
      "Epoch 4/17\n",
      "513/513 [==============================] - 92s 179ms/sample - loss: 1.6474 - categorical_accuracy: 0.2729 - val_loss: 1.4143 - val_categorical_accuracy: 0.0000e+00\n",
      "Epoch 5/17\n",
      "513/513 [==============================] - 92s 179ms/sample - loss: 1.4502 - categorical_accuracy: 0.3489 - val_loss: 1.2540 - val_categorical_accuracy: 0.0857\n",
      "Epoch 6/17\n",
      "513/513 [==============================] - 92s 179ms/sample - loss: 1.4294 - categorical_accuracy: 0.3294 - val_loss: 1.1699 - val_categorical_accuracy: 0.0286\n",
      "Epoch 7/17\n",
      "513/513 [==============================] - 92s 180ms/sample - loss: 1.4236 - categorical_accuracy: 0.3099 - val_loss: 1.1726 - val_categorical_accuracy: 0.0000e+00\n",
      "Epoch 8/17\n",
      "513/513 [==============================] - 93s 180ms/sample - loss: 1.4011 - categorical_accuracy: 0.3255 - val_loss: 1.1760 - val_categorical_accuracy: 0.0000e+00\n",
      "Epoch 9/17\n",
      "513/513 [==============================] - 95s 185ms/sample - loss: 1.2136 - categorical_accuracy: 0.4776 - val_loss: 1.2460 - val_categorical_accuracy: 0.4571\n",
      "Epoch 10/17\n",
      "513/513 [==============================] - 95s 184ms/sample - loss: 1.4108 - categorical_accuracy: 0.4776 - val_loss: 1.9272 - val_categorical_accuracy: 0.0571\n",
      "Epoch 11/17\n",
      "513/513 [==============================] - 95s 184ms/sample - loss: 1.9446 - categorical_accuracy: 0.4211 - val_loss: 0.7753 - val_categorical_accuracy: 0.5143\n",
      "Epoch 12/17\n",
      "513/513 [==============================] - 95s 186ms/sample - loss: 1.1918 - categorical_accuracy: 0.5029 - val_loss: 0.6747 - val_categorical_accuracy: 0.5143\n",
      "Epoch 13/17\n",
      "513/513 [==============================] - 97s 188ms/sample - loss: 1.1706 - categorical_accuracy: 0.5419 - val_loss: 0.8353 - val_categorical_accuracy: 0.4857\n",
      "Epoch 14/17\n",
      "513/513 [==============================] - 95s 186ms/sample - loss: 1.0045 - categorical_accuracy: 0.6550 - val_loss: 1.0732 - val_categorical_accuracy: 0.4286\n",
      "Epoch 15/17\n",
      "513/513 [==============================] - 95s 186ms/sample - loss: 0.9266 - categorical_accuracy: 0.6647 - val_loss: 0.6237 - val_categorical_accuracy: 0.6571\n",
      "Epoch 16/17\n",
      "513/513 [==============================] - 95s 186ms/sample - loss: 0.6284 - categorical_accuracy: 0.7739 - val_loss: 0.8032 - val_categorical_accuracy: 0.6000\n",
      "Epoch 17/17\n",
      "513/513 [==============================] - 96s 187ms/sample - loss: 0.7416 - categorical_accuracy: 0.7388 - val_loss: 0.7688 - val_categorical_accuracy: 0.6000\n"
     ]
    },
    {
     "data": {
      "text/plain": [
       "<tensorflow.python.keras.callbacks.History at 0x1f3f882b70>"
      ]
     },
     "execution_count": 29,
     "metadata": {},
     "output_type": "execute_result"
    }
   ],
   "source": [
    "train_data, train_labels, test_data, test_labels, true_labels, val_data, val_y = topic_subset(['Atheism'])\n",
    "\n",
    "#Start session\n",
    "compute_class = compute_class_weight('balanced', np.unique(true_labels), true_labels)\n",
    "weights = {0: compute_class[0], 1:compute_class[1], 2:compute_class[2]}\n",
    "\n",
    "sess = tf.Session()\n",
    "\n",
    "model = bert_model_pool(max_length = max_length, \n",
    "                     train_layers=12, \n",
    "                     optimizer = tf.keras.optimizers.Adam(learning_rate=0.001,\n",
    "                                                         beta_1 = 0.9,\n",
    "                                                         beta_2 = 0.999),\n",
    "                     dropout_rate= 0.8)\n",
    "\n",
    "# Instantiate variables\n",
    "initialize_vars(sess)\n",
    "\n",
    "\n",
    "model.fit(\n",
    "    train_data, \n",
    "    train_labels,\n",
    "   validation_data = [val_data, val_y],\n",
    "    epochs=17,\n",
    "    verbose=1,\n",
    "    batch_size=32,\n",
    "    class_weight = weights)"
   ]
  },
  {
   "cell_type": "code",
   "execution_count": 30,
   "metadata": {},
   "outputs": [
    {
     "name": "stdout",
     "output_type": "stream",
     "text": [
      "F1 macro score: 0.5399187045750767\n",
      "              precision    recall  f1-score   support\n",
      "\n",
      "     Against       0.97      0.48      0.64       128\n",
      "        None       0.35      0.89      0.50        28\n",
      "       Favor       0.38      0.66      0.48        29\n",
      "\n",
      "   micro avg       0.57      0.57      0.57       185\n",
      "   macro avg       0.57      0.67      0.54       185\n",
      "weighted avg       0.78      0.57      0.59       185\n",
      "\n"
     ]
    },
    {
     "data": {
      "image/png": "[encoded data removed]",
      "text/plain": [
       "<Figure size 1080x360 with 2 Axes>"
      ]
     },
     "metadata": {
      "needs_background": "light"
     },
     "output_type": "display_data"
    }
   ],
   "source": [
    "test_probs = model.predict(test_data)\n",
    "metrics(true_labels, test_probs)"
   ]
  },
  {
   "cell_type": "code",
   "execution_count": 24,
   "metadata": {},
   "outputs": [
    {
     "name": "stderr",
     "output_type": "stream",
     "text": [
      "W1121 19:46:42.821422 140735964402560 nn_ops.py:4224] Large dropout rate: 0.8 (>0.5). In TensorFlow 2.x, dropout() uses dropout rate instead of keep_prob. Please ensure that this is intended.\n",
      "W1121 19:46:43.007048 140735964402560 nn_ops.py:4224] Large dropout rate: 0.8 (>0.5). In TensorFlow 2.x, dropout() uses dropout rate instead of keep_prob. Please ensure that this is intended.\n"
     ]
    },
    {
     "name": "stdout",
     "output_type": "stream",
     "text": [
      "Model: \"model_1\"\n",
      "__________________________________________________________________________________________________\n",
      "Layer (type)                    Output Shape         Param #     Connected to                     \n",
      "==================================================================================================\n",
      "input_ids (InputLayer)          [(None, 83)]         0                                            \n",
      "__________________________________________________________________________________________________\n",
      "input_masks (InputLayer)        [(None, 83)]         0                                            \n",
      "__________________________________________________________________________________________________\n",
      "segment_ids (InputLayer)        [(None, 83)]         0                                            \n",
      "__________________________________________________________________________________________________\n",
      "bert_layer__seq_1 (BertLayer_Se (None, None, 768)    108931396   input_ids[0][0]                  \n",
      "                                                                 input_masks[0][0]                \n",
      "                                                                 segment_ids[0][0]                \n",
      "__________________________________________________________________________________________________\n",
      "dropout_2 (Dropout)             (None, None, 768)    0           bert_layer__seq_1[0][0]          \n",
      "__________________________________________________________________________________________________\n",
      "lstm1 (LSTM)                    (None, 128)          459264      dropout_2[0][0]                  \n",
      "__________________________________________________________________________________________________\n",
      "dense1 (Dense)                  (None, 64)           8256        lstm1[0][0]                      \n",
      "__________________________________________________________________________________________________\n",
      "dropout_3 (Dropout)             (None, 64)           0           dense1[0][0]                     \n",
      "__________________________________________________________________________________________________\n",
      "classification (Dense)          (None, 3)            195         dropout_3[0][0]                  \n",
      "==================================================================================================\n",
      "Total params: 109,399,111\n",
      "Trainable params: 6,963,459\n",
      "Non-trainable params: 102,435,652\n",
      "__________________________________________________________________________________________________\n",
      "Train on 513 samples, validate on 35 samples\n",
      "Epoch 1/17\n",
      "513/513 [==============================] - 104s 203ms/sample - loss: 1.4234 - categorical_accuracy: 0.2593 - val_loss: 1.1898 - val_categorical_accuracy: 0.0571\n",
      "Epoch 2/17\n",
      "513/513 [==============================] - 104s 202ms/sample - loss: 1.3363 - categorical_accuracy: 0.3060 - val_loss: 1.1957 - val_categorical_accuracy: 0.0286\n",
      "Epoch 3/17\n",
      "513/513 [==============================] - 105s 204ms/sample - loss: 1.2575 - categorical_accuracy: 0.3353 - val_loss: 1.1813 - val_categorical_accuracy: 0.2000\n",
      "Epoch 4/17\n",
      "513/513 [==============================] - 107s 209ms/sample - loss: 1.1429 - categorical_accuracy: 0.4425 - val_loss: 1.0165 - val_categorical_accuracy: 0.2857\n",
      "Epoch 5/17\n",
      "513/513 [==============================] - 110s 214ms/sample - loss: 1.0319 - categorical_accuracy: 0.4659 - val_loss: 0.9732 - val_categorical_accuracy: 0.4000\n",
      "Epoch 6/17\n",
      "513/513 [==============================] - 112s 219ms/sample - loss: 0.9827 - categorical_accuracy: 0.6218 - val_loss: 0.8747 - val_categorical_accuracy: 0.5429\n",
      "Epoch 7/17\n",
      "513/513 [==============================] - 115s 225ms/sample - loss: 0.7676 - categorical_accuracy: 0.6608 - val_loss: 1.0580 - val_categorical_accuracy: 0.5143\n",
      "Epoch 8/17\n",
      "513/513 [==============================] - 116s 226ms/sample - loss: 0.7815 - categorical_accuracy: 0.7076 - val_loss: 0.5184 - val_categorical_accuracy: 0.8000\n",
      "Epoch 9/17\n",
      "513/513 [==============================] - 114s 223ms/sample - loss: 0.6159 - categorical_accuracy: 0.7290 - val_loss: 0.7010 - val_categorical_accuracy: 0.8000\n",
      "Epoch 10/17\n",
      "513/513 [==============================] - 112s 219ms/sample - loss: 0.6662 - categorical_accuracy: 0.7349 - val_loss: 0.5959 - val_categorical_accuracy: 0.8000\n",
      "Epoch 11/17\n",
      "513/513 [==============================] - 112s 218ms/sample - loss: 0.6243 - categorical_accuracy: 0.7680 - val_loss: 1.1484 - val_categorical_accuracy: 0.4857\n",
      "Epoch 12/17\n",
      "513/513 [==============================] - 112s 218ms/sample - loss: 0.5342 - categorical_accuracy: 0.7622 - val_loss: 0.9275 - val_categorical_accuracy: 0.6286\n",
      "Epoch 13/17\n",
      "513/513 [==============================] - 111s 216ms/sample - loss: 0.3535 - categorical_accuracy: 0.8363 - val_loss: 1.1515 - val_categorical_accuracy: 0.7143\n",
      "Epoch 14/17\n",
      "513/513 [==============================] - 110s 215ms/sample - loss: 0.2990 - categorical_accuracy: 0.8635 - val_loss: 0.8615 - val_categorical_accuracy: 0.6857\n",
      "Epoch 15/17\n",
      "513/513 [==============================] - 101s 197ms/sample - loss: 0.2723 - categorical_accuracy: 0.8713 - val_loss: 1.0383 - val_categorical_accuracy: 0.6571\n",
      "Epoch 16/17\n",
      "513/513 [==============================] - 100s 195ms/sample - loss: 0.1815 - categorical_accuracy: 0.9279 - val_loss: 0.6470 - val_categorical_accuracy: 0.8857\n",
      "Epoch 17/17\n",
      "513/513 [==============================] - 99s 193ms/sample - loss: 0.1458 - categorical_accuracy: 0.9240 - val_loss: 0.6732 - val_categorical_accuracy: 0.8000\n"
     ]
    },
    {
     "data": {
      "text/plain": [
       "<tensorflow.python.keras.callbacks.History at 0x1a9d0ed048>"
      ]
     },
     "execution_count": 24,
     "metadata": {},
     "output_type": "execute_result"
    }
   ],
   "source": [
    "train_data, train_labels, test_data, test_labels, true_labels, val_data, val_y = topic_subset(['Atheism'])\n",
    "\n",
    "#Start session\n",
    "compute_class = compute_class_weight('balanced', np.unique(true_labels), true_labels)\n",
    "weights = {0: compute_class[0], 1:compute_class[1], 2:compute_class[2]}\n",
    "\n",
    "sess = tf.Session()\n",
    "\n",
    "model = bert_model_seq(max_length = max_length, \n",
    "                     train_layers=12, \n",
    "                     optimizer = tf.keras.optimizers.Adam(learning_rate=0.001,\n",
    "                                                         beta_1 = 0.9,\n",
    "                                                         beta_2 = 0.999),\n",
    "                     dropout_rate= 0.8)\n",
    "\n",
    "# Instantiate variables\n",
    "initialize_vars(sess)\n",
    "\n",
    "\n",
    "model.fit(\n",
    "    train_data, \n",
    "    train_labels,\n",
    "    validation_data = [val_data, val_y],\n",
    "    epochs=17,\n",
    "    verbose=1,\n",
    "    batch_size=32,\n",
    "    class_weight = weights)"
   ]
  },
  {
   "cell_type": "code",
   "execution_count": 25,
   "metadata": {},
   "outputs": [
    {
     "name": "stdout",
     "output_type": "stream",
     "text": [
      "F1 macro score: 0.6514980016236808\n",
      "              precision    recall  f1-score   support\n",
      "\n",
      "     Against       0.86      0.74      0.79       128\n",
      "        None       0.51      0.71      0.60        28\n",
      "       Favor       0.51      0.62      0.56        29\n",
      "\n",
      "   micro avg       0.72      0.72      0.72       185\n",
      "   macro avg       0.63      0.69      0.65       185\n",
      "weighted avg       0.75      0.72      0.73       185\n",
      "\n"
     ]
    },
    {
     "data": {
      "image/png": "[encoded data removed]",
      "text/plain": [
       "<Figure size 1080x360 with 2 Axes>"
      ]
     },
     "metadata": {
      "needs_background": "light"
     },
     "output_type": "display_data"
    }
   ],
   "source": [
    "test_probs = model.predict(test_data)\n",
    "metrics(true_labels, test_probs)"
   ]
  },
  {
   "cell_type": "markdown",
   "metadata": {},
   "source": [
    "## Hillary Clinton"
   ]
  },
  {
   "cell_type": "code",
   "execution_count": 31,
   "metadata": {
    "scrolled": true
   },
   "outputs": [
    {
     "name": "stdout",
     "output_type": "stream",
     "text": [
      "Model: \"model_9\"\n",
      "__________________________________________________________________________________________________\n",
      "Layer (type)                    Output Shape         Param #     Connected to                     \n",
      "==================================================================================================\n",
      "input_ids (InputLayer)          [(None, 83)]         0                                            \n",
      "__________________________________________________________________________________________________\n",
      "input_masks (InputLayer)        [(None, 83)]         0                                            \n",
      "__________________________________________________________________________________________________\n",
      "segment_ids (InputLayer)        [(None, 83)]         0                                            \n",
      "__________________________________________________________________________________________________\n",
      "bert_layer__pool_1 (BertLayer_P (None, 768)          108931396   input_ids[0][0]                  \n",
      "                                                                 input_masks[0][0]                \n",
      "                                                                 segment_ids[0][0]                \n",
      "__________________________________________________________________________________________________\n",
      "dropout_18 (Dropout)            (None, 768)          0           bert_layer__pool_1[0][0]         \n",
      "__________________________________________________________________________________________________\n",
      "dense1 (Dense)                  (None, 256)          196864      dropout_18[0][0]                 \n",
      "__________________________________________________________________________________________________\n",
      "dropout_19 (Dropout)            (None, 256)          0           dense1[0][0]                     \n",
      "__________________________________________________________________________________________________\n",
      "classification (Dense)          (None, 3)            771         dropout_19[0][0]                 \n",
      "==================================================================================================\n",
      "Total params: 109,129,031\n",
      "Trainable params: 6,693,379\n",
      "Non-trainable params: 102,435,652\n",
      "__________________________________________________________________________________________________\n",
      "Train on 689 samples, validate on 48 samples\n",
      "Epoch 1/15\n",
      "689/689 [==============================] - 144s 209ms/sample - loss: 2.2927 - categorical_accuracy: 0.3440 - val_loss: 1.1149 - val_categorical_accuracy: 0.2292\n",
      "Epoch 2/15\n",
      "689/689 [==============================] - 131s 190ms/sample - loss: 1.6407 - categorical_accuracy: 0.3512 - val_loss: 1.2495 - val_categorical_accuracy: 0.2292\n",
      "Epoch 3/15\n",
      "689/689 [==============================] - 132s 192ms/sample - loss: 1.4899 - categorical_accuracy: 0.2961 - val_loss: 1.1452 - val_categorical_accuracy: 0.2292\n",
      "Epoch 4/15\n",
      "689/689 [==============================] - 132s 192ms/sample - loss: 1.4179 - categorical_accuracy: 0.3324 - val_loss: 1.1531 - val_categorical_accuracy: 0.2292\n",
      "Epoch 5/15\n",
      "689/689 [==============================] - 134s 194ms/sample - loss: 1.3572 - categorical_accuracy: 0.2975 - val_loss: 1.1120 - val_categorical_accuracy: 0.2708\n",
      "Epoch 6/15\n",
      "689/689 [==============================] - 135s 196ms/sample - loss: 1.3104 - categorical_accuracy: 0.2685 - val_loss: 1.1142 - val_categorical_accuracy: 0.2292\n",
      "Epoch 7/15\n",
      "689/689 [==============================] - 135s 196ms/sample - loss: 1.2079 - categorical_accuracy: 0.3570 - val_loss: 1.1204 - val_categorical_accuracy: 0.2292\n",
      "Epoch 8/15\n",
      "689/689 [==============================] - 135s 197ms/sample - loss: 1.2543 - categorical_accuracy: 0.2830 - val_loss: 1.1202 - val_categorical_accuracy: 0.2292\n",
      "Epoch 9/15\n",
      "689/689 [==============================] - 136s 197ms/sample - loss: 1.2304 - categorical_accuracy: 0.2903 - val_loss: 1.0946 - val_categorical_accuracy: 0.3958\n",
      "Epoch 10/15\n",
      "689/689 [==============================] - 137s 199ms/sample - loss: 1.1823 - categorical_accuracy: 0.3338 - val_loss: 1.0853 - val_categorical_accuracy: 0.3958\n",
      "Epoch 11/15\n",
      "689/689 [==============================] - 139s 201ms/sample - loss: 1.1589 - categorical_accuracy: 0.3425 - val_loss: 1.0645 - val_categorical_accuracy: 0.3333\n",
      "Epoch 12/15\n",
      "689/689 [==============================] - 139s 202ms/sample - loss: 1.0979 - categorical_accuracy: 0.3846 - val_loss: 0.9092 - val_categorical_accuracy: 0.5833\n",
      "Epoch 13/15\n",
      "689/689 [==============================] - 136s 197ms/sample - loss: 0.9070 - categorical_accuracy: 0.4964 - val_loss: 0.8768 - val_categorical_accuracy: 0.5208\n",
      "Epoch 14/15\n",
      "689/689 [==============================] - 134s 194ms/sample - loss: 0.8454 - categorical_accuracy: 0.5704 - val_loss: 0.8031 - val_categorical_accuracy: 0.6875\n",
      "Epoch 15/15\n",
      "689/689 [==============================] - 131s 190ms/sample - loss: 0.6600 - categorical_accuracy: 0.6401 - val_loss: 0.7466 - val_categorical_accuracy: 0.6458\n"
     ]
    },
    {
     "data": {
      "text/plain": [
       "<tensorflow.python.keras.callbacks.History at 0x1f51515c50>"
      ]
     },
     "execution_count": 31,
     "metadata": {},
     "output_type": "execute_result"
    }
   ],
   "source": [
    "train_data, train_labels, test_data, test_labels, true_labels, val_data, val_y = topic_subset(['Hillary Clinton'])\n",
    "\n",
    "#Start session\n",
    "compute_class = compute_class_weight('balanced', np.unique(true_labels), true_labels)\n",
    "weights = {0: compute_class[0], 1:compute_class[1], 2:compute_class[2]}\n",
    "\n",
    "sess = tf.Session()\n",
    "\n",
    "model = bert_model_pool(max_length = max_length, \n",
    "                     train_layers=12, \n",
    "                     optimizer = tf.keras.optimizers.Adam(learning_rate=0.001,\n",
    "                                                         beta_1 = 0.9,\n",
    "                                                         beta_2 = 0.999),\n",
    "                     dropout_rate= 0.8)\n",
    "\n",
    "# Instantiate variables\n",
    "initialize_vars(sess)\n",
    "\n",
    "\n",
    "model.fit(\n",
    "    train_data, \n",
    "    train_labels,\n",
    "    validation_data = [val_data, val_y],\n",
    "    epochs=15,\n",
    "    verbose=1,\n",
    "    batch_size=32,\n",
    "    class_weight = weights)"
   ]
  },
  {
   "cell_type": "code",
   "execution_count": 32,
   "metadata": {
    "scrolled": true
   },
   "outputs": [
    {
     "name": "stdout",
     "output_type": "stream",
     "text": [
      "F1 macro score: 0.5922287429424612\n",
      "              precision    recall  f1-score   support\n",
      "\n",
      "     Against       0.88      0.58      0.70       150\n",
      "        None       0.50      0.87      0.64        63\n",
      "       Favor       0.41      0.47      0.44        34\n",
      "\n",
      "   micro avg       0.64      0.64      0.64       247\n",
      "   macro avg       0.60      0.64      0.59       247\n",
      "weighted avg       0.72      0.64      0.65       247\n",
      "\n"
     ]
    },
    {
     "data": {
      "image/png": "[encoded data removed]",
      "text/plain": [
       "<Figure size 1080x360 with 2 Axes>"
      ]
     },
     "metadata": {
      "needs_background": "light"
     },
     "output_type": "display_data"
    }
   ],
   "source": [
    "test_probs = model.predict(test_data)\n",
    "metrics(true_labels, test_probs)"
   ]
  },
  {
   "cell_type": "code",
   "execution_count": 19,
   "metadata": {},
   "outputs": [
    {
     "name": "stdout",
     "output_type": "stream",
     "text": [
      "Model: \"model_3\"\n",
      "__________________________________________________________________________________________________\n",
      "Layer (type)                    Output Shape         Param #     Connected to                     \n",
      "==================================================================================================\n",
      "input_ids (InputLayer)          [(None, 83)]         0                                            \n",
      "__________________________________________________________________________________________________\n",
      "input_masks (InputLayer)        [(None, 83)]         0                                            \n",
      "__________________________________________________________________________________________________\n",
      "segment_ids (InputLayer)        [(None, 83)]         0                                            \n",
      "__________________________________________________________________________________________________\n",
      "bert_layer__seq_3 (BertLayer_Se (None, None, 768)    108931396   input_ids[0][0]                  \n",
      "                                                                 input_masks[0][0]                \n",
      "                                                                 segment_ids[0][0]                \n",
      "__________________________________________________________________________________________________\n",
      "dropout_6 (Dropout)             (None, None, 768)    0           bert_layer__seq_3[0][0]          \n",
      "__________________________________________________________________________________________________\n",
      "lstm1 (LSTM)                    (None, 128)          459264      dropout_6[0][0]                  \n",
      "__________________________________________________________________________________________________\n",
      "dense1 (Dense)                  (None, 64)           8256        lstm1[0][0]                      \n",
      "__________________________________________________________________________________________________\n",
      "dropout_7 (Dropout)             (None, 64)           0           dense1[0][0]                     \n",
      "__________________________________________________________________________________________________\n",
      "classification (Dense)          (None, 3)            195         dropout_7[0][0]                  \n",
      "==================================================================================================\n",
      "Total params: 109,399,111\n",
      "Trainable params: 6,963,459\n",
      "Non-trainable params: 102,435,652\n",
      "__________________________________________________________________________________________________\n",
      "Train on 689 samples, validate on 48 samples\n",
      "Epoch 1/15\n",
      "689/689 [==============================] - 164s 238ms/sample - loss: 1.2696 - categorical_accuracy: 0.3077 - val_loss: 1.1110 - val_categorical_accuracy: 0.2708\n",
      "Epoch 2/15\n",
      "689/689 [==============================] - 159s 231ms/sample - loss: 1.1850 - categorical_accuracy: 0.3367 - val_loss: 0.9923 - val_categorical_accuracy: 0.4792\n",
      "Epoch 3/15\n",
      "689/689 [==============================] - 155s 225ms/sample - loss: 1.0872 - categorical_accuracy: 0.3367 - val_loss: 0.9721 - val_categorical_accuracy: 0.5000\n",
      "Epoch 4/15\n",
      "689/689 [==============================] - 155s 225ms/sample - loss: 1.0016 - categorical_accuracy: 0.4209 - val_loss: 1.0572 - val_categorical_accuracy: 0.3750\n",
      "Epoch 5/15\n",
      "689/689 [==============================] - 155s 225ms/sample - loss: 1.0418 - categorical_accuracy: 0.3846 - val_loss: 0.8999 - val_categorical_accuracy: 0.5000\n",
      "Epoch 6/15\n",
      "689/689 [==============================] - 155s 225ms/sample - loss: 0.9769 - categorical_accuracy: 0.4006 - val_loss: 0.8676 - val_categorical_accuracy: 0.5000\n",
      "Epoch 7/15\n",
      "689/689 [==============================] - 155s 225ms/sample - loss: 0.9008 - categorical_accuracy: 0.3948 - val_loss: 0.8720 - val_categorical_accuracy: 0.5833\n",
      "Epoch 8/15\n",
      "689/689 [==============================] - 156s 226ms/sample - loss: 0.8351 - categorical_accuracy: 0.4528 - val_loss: 0.9125 - val_categorical_accuracy: 0.4792\n",
      "Epoch 9/15\n",
      "689/689 [==============================] - 155s 225ms/sample - loss: 0.8232 - categorical_accuracy: 0.4340 - val_loss: 0.8553 - val_categorical_accuracy: 0.5208\n",
      "Epoch 10/15\n",
      "689/689 [==============================] - 156s 227ms/sample - loss: 0.8195 - categorical_accuracy: 0.4659 - val_loss: 0.7901 - val_categorical_accuracy: 0.5833\n",
      "Epoch 11/15\n",
      "689/689 [==============================] - 155s 225ms/sample - loss: 0.8019 - categorical_accuracy: 0.4673 - val_loss: 0.9149 - val_categorical_accuracy: 0.5208\n",
      "Epoch 12/15\n",
      "689/689 [==============================] - 155s 226ms/sample - loss: 0.7971 - categorical_accuracy: 0.4862 - val_loss: 0.9157 - val_categorical_accuracy: 0.5833\n",
      "Epoch 13/15\n",
      "689/689 [==============================] - 157s 228ms/sample - loss: 0.7749 - categorical_accuracy: 0.4688 - val_loss: 0.9557 - val_categorical_accuracy: 0.5417\n",
      "Epoch 14/15\n",
      "689/689 [==============================] - 156s 226ms/sample - loss: 0.6396 - categorical_accuracy: 0.5530 - val_loss: 0.8657 - val_categorical_accuracy: 0.5833\n",
      "Epoch 15/15\n",
      "689/689 [==============================] - 156s 226ms/sample - loss: 0.5929 - categorical_accuracy: 0.6168 - val_loss: 0.8569 - val_categorical_accuracy: 0.6042\n"
     ]
    },
    {
     "data": {
      "text/plain": [
       "<tensorflow.python.keras.callbacks.History at 0x1b34163908>"
      ]
     },
     "execution_count": 19,
     "metadata": {},
     "output_type": "execute_result"
    }
   ],
   "source": [
    "train_data, train_labels, test_data, test_labels, true_labels, val_data, val_y = topic_subset(['Hillary Clinton'])\n",
    "\n",
    "#Start session\n",
    "compute_class = compute_class_weight('balanced', np.unique(true_labels), true_labels)\n",
    "weights = {0: compute_class[0], 1:compute_class[1], 2:compute_class[2]}\n",
    "\n",
    "sess = tf.Session()\n",
    "\n",
    "model = bert_model_seq(max_length = max_length, \n",
    "                     train_layers=12, \n",
    "                     optimizer = tf.keras.optimizers.Adam(learning_rate=0.001,\n",
    "                                                         beta_1 = 0.9,\n",
    "                                                         beta_2 = 0.999),\n",
    "                     dropout_rate= 0.8)\n",
    "\n",
    "# Instantiate variables\n",
    "initialize_vars(sess)\n",
    "\n",
    "model.fit(\n",
    "    train_data, \n",
    "    train_labels,\n",
    "    validation_data = [val_data, val_y],\n",
    "    epochs=15,\n",
    "    verbose=1,\n",
    "    batch_size=32,\n",
    "    class_weight = weights)"
   ]
  },
  {
   "cell_type": "code",
   "execution_count": 20,
   "metadata": {},
   "outputs": [
    {
     "name": "stdout",
     "output_type": "stream",
     "text": [
      "F1 macro score: 0.6106188852352535\n",
      "              precision    recall  f1-score   support\n",
      "\n",
      "     Against       0.76      0.62      0.68       150\n",
      "        None       0.64      0.76      0.70        63\n",
      "       Favor       0.38      0.56      0.45        34\n",
      "\n",
      "   micro avg       0.65      0.65      0.65       247\n",
      "   macro avg       0.59      0.65      0.61       247\n",
      "weighted avg       0.68      0.65      0.65       247\n",
      "\n"
     ]
    },
    {
     "data": {
      "image/png": "[encoded data removed]",
      "text/plain": [
       "<Figure size 1080x360 with 2 Axes>"
      ]
     },
     "metadata": {
      "needs_background": "light"
     },
     "output_type": "display_data"
    }
   ],
   "source": [
    "test_probs = model.predict(test_data)\n",
    "metrics(true_labels, test_probs)"
   ]
  },
  {
   "cell_type": "markdown",
   "metadata": {},
   "source": [
    "## Abortion"
   ]
  },
  {
   "cell_type": "code",
   "execution_count": 33,
   "metadata": {},
   "outputs": [
    {
     "name": "stdout",
     "output_type": "stream",
     "text": [
      "Model: \"model_10\"\n",
      "__________________________________________________________________________________________________\n",
      "Layer (type)                    Output Shape         Param #     Connected to                     \n",
      "==================================================================================================\n",
      "input_ids (InputLayer)          [(None, 83)]         0                                            \n",
      "__________________________________________________________________________________________________\n",
      "input_masks (InputLayer)        [(None, 83)]         0                                            \n",
      "__________________________________________________________________________________________________\n",
      "segment_ids (InputLayer)        [(None, 83)]         0                                            \n",
      "__________________________________________________________________________________________________\n",
      "bert_layer__pool_2 (BertLayer_P (None, 768)          108931396   input_ids[0][0]                  \n",
      "                                                                 input_masks[0][0]                \n",
      "                                                                 segment_ids[0][0]                \n",
      "__________________________________________________________________________________________________\n",
      "dropout_20 (Dropout)            (None, 768)          0           bert_layer__pool_2[0][0]         \n",
      "__________________________________________________________________________________________________\n",
      "dense1 (Dense)                  (None, 256)          196864      dropout_20[0][0]                 \n",
      "__________________________________________________________________________________________________\n",
      "dropout_21 (Dropout)            (None, 256)          0           dense1[0][0]                     \n",
      "__________________________________________________________________________________________________\n",
      "classification (Dense)          (None, 3)            771         dropout_21[0][0]                 \n",
      "==================================================================================================\n",
      "Total params: 109,129,031\n",
      "Trainable params: 6,693,379\n",
      "Non-trainable params: 102,435,652\n",
      "__________________________________________________________________________________________________\n",
      "Train on 653 samples, validate on 41 samples\n",
      "Epoch 1/15\n",
      "653/653 [==============================] - 126s 192ms/sample - loss: 3.0502 - categorical_accuracy: 0.3262 - val_loss: 1.1245 - val_categorical_accuracy: 0.1951\n",
      "Epoch 2/15\n",
      "653/653 [==============================] - 115s 176ms/sample - loss: 1.8433 - categorical_accuracy: 0.3078 - val_loss: 1.1982 - val_categorical_accuracy: 0.1951\n",
      "Epoch 3/15\n",
      "653/653 [==============================] - 116s 177ms/sample - loss: 1.6328 - categorical_accuracy: 0.3400 - val_loss: 1.0692 - val_categorical_accuracy: 0.2195\n",
      "Epoch 4/15\n",
      "653/653 [==============================] - 117s 179ms/sample - loss: 1.2823 - categorical_accuracy: 0.4227 - val_loss: 1.1012 - val_categorical_accuracy: 0.2927\n",
      "Epoch 5/15\n",
      "653/653 [==============================] - 118s 181ms/sample - loss: 1.0890 - categorical_accuracy: 0.4288 - val_loss: 0.9839 - val_categorical_accuracy: 0.4390\n",
      "Epoch 6/15\n",
      "653/653 [==============================] - 119s 182ms/sample - loss: 0.8822 - categorical_accuracy: 0.5268 - val_loss: 0.9931 - val_categorical_accuracy: 0.3659\n",
      "Epoch 7/15\n",
      "653/653 [==============================] - 119s 183ms/sample - loss: 0.8135 - categorical_accuracy: 0.5590 - val_loss: 0.9027 - val_categorical_accuracy: 0.4878\n",
      "Epoch 8/15\n",
      "653/653 [==============================] - 120s 183ms/sample - loss: 0.6128 - categorical_accuracy: 0.6187 - val_loss: 0.9081 - val_categorical_accuracy: 0.6098\n",
      "Epoch 9/15\n",
      "653/653 [==============================] - 122s 186ms/sample - loss: 0.5204 - categorical_accuracy: 0.7060 - val_loss: 0.9652 - val_categorical_accuracy: 0.6829\n",
      "Epoch 10/15\n",
      "653/653 [==============================] - 121s 185ms/sample - loss: 0.4474 - categorical_accuracy: 0.7795 - val_loss: 1.9791 - val_categorical_accuracy: 0.5122\n",
      "Epoch 11/15\n",
      "653/653 [==============================] - 120s 184ms/sample - loss: 0.4380 - categorical_accuracy: 0.8116 - val_loss: 1.5047 - val_categorical_accuracy: 0.6585\n",
      "Epoch 12/15\n",
      "653/653 [==============================] - 120s 184ms/sample - loss: 0.2330 - categorical_accuracy: 0.8959 - val_loss: 1.4854 - val_categorical_accuracy: 0.6341\n",
      "Epoch 13/15\n",
      "653/653 [==============================] - 120s 183ms/sample - loss: 0.2102 - categorical_accuracy: 0.9188 - val_loss: 1.5511 - val_categorical_accuracy: 0.7073\n",
      "Epoch 14/15\n",
      "653/653 [==============================] - 120s 184ms/sample - loss: 0.2850 - categorical_accuracy: 0.9204 - val_loss: 1.6544 - val_categorical_accuracy: 0.5122\n",
      "Epoch 15/15\n",
      "653/653 [==============================] - 121s 185ms/sample - loss: 0.2586 - categorical_accuracy: 0.9005 - val_loss: 1.3993 - val_categorical_accuracy: 0.6829\n"
     ]
    },
    {
     "data": {
      "text/plain": [
       "<tensorflow.python.keras.callbacks.History at 0x21a109beb8>"
      ]
     },
     "execution_count": 33,
     "metadata": {},
     "output_type": "execute_result"
    }
   ],
   "source": [
    "train_data, train_labels, test_data, test_labels, true_labels, val_data, val_y = topic_subset(['Legalization of Abortion'])\n",
    "\n",
    "#Start session\n",
    "compute_class = compute_class_weight('balanced', np.unique(true_labels), true_labels)\n",
    "weights = {0: compute_class[0], 1:compute_class[1], 2:compute_class[2]}\n",
    "\n",
    "sess = tf.Session()\n",
    "\n",
    "model = bert_model_pool(max_length = max_length, \n",
    "                     train_layers=12, \n",
    "                     optimizer = tf.keras.optimizers.Adam(learning_rate=0.001,\n",
    "                                                         beta_1 = 0.9,\n",
    "                                                         beta_2 = 0.999),\n",
    "                     dropout_rate= 0.8)\n",
    "\n",
    "# Instantiate variables\n",
    "initialize_vars(sess)\n",
    "\n",
    "\n",
    "model.fit(\n",
    "    train_data, \n",
    "    train_labels,\n",
    "    validation_data = [val_data, val_y],\n",
    "    epochs=15,\n",
    "    verbose=1,\n",
    "    batch_size=32,\n",
    "    class_weight = weights)"
   ]
  },
  {
   "cell_type": "code",
   "execution_count": 34,
   "metadata": {},
   "outputs": [
    {
     "name": "stdout",
     "output_type": "stream",
     "text": [
      "F1 macro score: 0.576339709673043\n",
      "              precision    recall  f1-score   support\n",
      "\n",
      "     Against       0.83      0.57      0.67       161\n",
      "        None       0.34      0.73      0.46        37\n",
      "       Favor       0.54      0.66      0.59        41\n",
      "\n",
      "   micro avg       0.61      0.61      0.61       239\n",
      "   macro avg       0.57      0.65      0.58       239\n",
      "weighted avg       0.71      0.61      0.63       239\n",
      "\n"
     ]
    },
    {
     "data": {
      "image/png": "[encoded data removed]",
      "text/plain": [
       "<Figure size 1080x360 with 2 Axes>"
      ]
     },
     "metadata": {
      "needs_background": "light"
     },
     "output_type": "display_data"
    }
   ],
   "source": [
    "test_probs = model.predict(test_data)\n",
    "metrics(true_labels, test_probs)"
   ]
  },
  {
   "cell_type": "code",
   "execution_count": 21,
   "metadata": {},
   "outputs": [
    {
     "name": "stdout",
     "output_type": "stream",
     "text": [
      "Model: \"model_4\"\n",
      "__________________________________________________________________________________________________\n",
      "Layer (type)                    Output Shape         Param #     Connected to                     \n",
      "==================================================================================================\n",
      "input_ids (InputLayer)          [(None, 83)]         0                                            \n",
      "__________________________________________________________________________________________________\n",
      "input_masks (InputLayer)        [(None, 83)]         0                                            \n",
      "__________________________________________________________________________________________________\n",
      "segment_ids (InputLayer)        [(None, 83)]         0                                            \n",
      "__________________________________________________________________________________________________\n",
      "bert_layer__seq_4 (BertLayer_Se (None, None, 768)    108931396   input_ids[0][0]                  \n",
      "                                                                 input_masks[0][0]                \n",
      "                                                                 segment_ids[0][0]                \n",
      "__________________________________________________________________________________________________\n",
      "dropout_8 (Dropout)             (None, None, 768)    0           bert_layer__seq_4[0][0]          \n",
      "__________________________________________________________________________________________________\n",
      "lstm1 (LSTM)                    (None, 128)          459264      dropout_8[0][0]                  \n",
      "__________________________________________________________________________________________________\n",
      "dense1 (Dense)                  (None, 64)           8256        lstm1[0][0]                      \n",
      "__________________________________________________________________________________________________\n",
      "dropout_9 (Dropout)             (None, 64)           0           dense1[0][0]                     \n",
      "__________________________________________________________________________________________________\n",
      "classification (Dense)          (None, 3)            195         dropout_9[0][0]                  \n",
      "==================================================================================================\n",
      "Total params: 109,399,111\n",
      "Trainable params: 6,963,459\n",
      "Non-trainable params: 102,435,652\n",
      "__________________________________________________________________________________________________\n",
      "Train on 653 samples, validate on 41 samples\n",
      "Epoch 1/15\n",
      "653/653 [==============================] - 135s 207ms/sample - loss: 1.4713 - categorical_accuracy: 0.3139 - val_loss: 1.2225 - val_categorical_accuracy: 0.1951\n",
      "Epoch 2/15\n",
      "653/653 [==============================] - 136s 208ms/sample - loss: 1.3151 - categorical_accuracy: 0.2634 - val_loss: 1.1946 - val_categorical_accuracy: 0.1951\n",
      "Epoch 3/15\n",
      "653/653 [==============================] - 138s 212ms/sample - loss: 1.2245 - categorical_accuracy: 0.3292 - val_loss: 1.1766 - val_categorical_accuracy: 0.2927\n",
      "Epoch 4/15\n",
      "653/653 [==============================] - 141s 217ms/sample - loss: 1.1076 - categorical_accuracy: 0.3997 - val_loss: 1.1494 - val_categorical_accuracy: 0.2927\n",
      "Epoch 5/15\n",
      "653/653 [==============================] - 145s 221ms/sample - loss: 1.0624 - categorical_accuracy: 0.3982 - val_loss: 1.2478 - val_categorical_accuracy: 0.2683\n",
      "Epoch 6/15\n",
      "653/653 [==============================] - 147s 225ms/sample - loss: 0.9404 - categorical_accuracy: 0.4242 - val_loss: 1.1162 - val_categorical_accuracy: 0.2927\n",
      "Epoch 7/15\n",
      "653/653 [==============================] - 149s 229ms/sample - loss: 0.8691 - categorical_accuracy: 0.4533 - val_loss: 1.0595 - val_categorical_accuracy: 0.3171\n",
      "Epoch 8/15\n",
      "653/653 [==============================] - 150s 229ms/sample - loss: 0.7726 - categorical_accuracy: 0.5100 - val_loss: 1.1727 - val_categorical_accuracy: 0.2927\n",
      "Epoch 9/15\n",
      "653/653 [==============================] - 151s 232ms/sample - loss: 0.6559 - categorical_accuracy: 0.4916 - val_loss: 1.0405 - val_categorical_accuracy: 0.2927\n",
      "Epoch 10/15\n",
      "653/653 [==============================] - 151s 231ms/sample - loss: 0.6627 - categorical_accuracy: 0.5084 - val_loss: 1.3161 - val_categorical_accuracy: 0.3171\n",
      "Epoch 11/15\n",
      "653/653 [==============================] - 150s 230ms/sample - loss: 0.5986 - categorical_accuracy: 0.5636 - val_loss: 1.0500 - val_categorical_accuracy: 0.5610\n",
      "Epoch 12/15\n",
      "653/653 [==============================] - 148s 227ms/sample - loss: 0.6181 - categorical_accuracy: 0.5773 - val_loss: 1.7640 - val_categorical_accuracy: 0.4146\n",
      "Epoch 13/15\n",
      "653/653 [==============================] - 147s 224ms/sample - loss: 0.6203 - categorical_accuracy: 0.6631 - val_loss: 1.3637 - val_categorical_accuracy: 0.4634\n",
      "Epoch 14/15\n",
      "653/653 [==============================] - 145s 222ms/sample - loss: 0.5361 - categorical_accuracy: 0.6493 - val_loss: 1.4052 - val_categorical_accuracy: 0.5366\n",
      "Epoch 15/15\n",
      "653/653 [==============================] - 143s 219ms/sample - loss: 0.4155 - categorical_accuracy: 0.7320 - val_loss: 0.6916 - val_categorical_accuracy: 0.8293\n"
     ]
    },
    {
     "data": {
      "text/plain": [
       "<tensorflow.python.keras.callbacks.History at 0x1bcbf44978>"
      ]
     },
     "execution_count": 21,
     "metadata": {},
     "output_type": "execute_result"
    }
   ],
   "source": [
    "train_data, train_labels, test_data, test_labels, true_labels, val_data, val_y = topic_subset(['Legalization of Abortion'])\n",
    "\n",
    "#Start session\n",
    "compute_class = compute_class_weight('balanced', np.unique(true_labels), true_labels)\n",
    "weights = {0: compute_class[0], 1:compute_class[1], 2:compute_class[2]}\n",
    "\n",
    "sess = tf.Session()\n",
    "\n",
    "model = bert_model_seq(max_length = max_length, \n",
    "                     train_layers=12, \n",
    "                     optimizer = tf.keras.optimizers.Adam(learning_rate=0.001,\n",
    "                                                         beta_1 = 0.9,\n",
    "                                                         beta_2 = 0.999),\n",
    "                     dropout_rate= 0.8)\n",
    "\n",
    "# Instantiate variables\n",
    "initialize_vars(sess)\n",
    "\n",
    "\n",
    "model.fit(\n",
    "    train_data, \n",
    "    train_labels,\n",
    "    validation_data = [val_data, val_y],\n",
    "    epochs=15,\n",
    "    verbose=1,\n",
    "    batch_size=32,\n",
    "    class_weight = weights)"
   ]
  },
  {
   "cell_type": "code",
   "execution_count": 22,
   "metadata": {},
   "outputs": [
    {
     "name": "stdout",
     "output_type": "stream",
     "text": [
      "F1 macro score: 0.5807695402663956\n",
      "              precision    recall  f1-score   support\n",
      "\n",
      "     Against       0.80      0.68      0.73       161\n",
      "        None       0.41      0.76      0.53        37\n",
      "       Favor       0.53      0.44      0.48        41\n",
      "\n",
      "   micro avg       0.65      0.65      0.65       239\n",
      "   macro avg       0.58      0.62      0.58       239\n",
      "weighted avg       0.69      0.65      0.66       239\n",
      "\n"
     ]
    },
    {
     "data": {
      "image/png": "[encoded data removed]",
      "text/plain": [
       "<Figure size 1080x360 with 2 Axes>"
      ]
     },
     "metadata": {
      "needs_background": "light"
     },
     "output_type": "display_data"
    }
   ],
   "source": [
    "test_probs = model.predict(test_data)\n",
    "metrics(true_labels, test_probs)"
   ]
  },
  {
   "cell_type": "markdown",
   "metadata": {},
   "source": [
    "## Climate Change"
   ]
  },
  {
   "cell_type": "code",
   "execution_count": 35,
   "metadata": {},
   "outputs": [
    {
     "name": "stdout",
     "output_type": "stream",
     "text": [
      "Model: \"model_11\"\n",
      "__________________________________________________________________________________________________\n",
      "Layer (type)                    Output Shape         Param #     Connected to                     \n",
      "==================================================================================================\n",
      "input_ids (InputLayer)          [(None, 83)]         0                                            \n",
      "__________________________________________________________________________________________________\n",
      "input_masks (InputLayer)        [(None, 83)]         0                                            \n",
      "__________________________________________________________________________________________________\n",
      "segment_ids (InputLayer)        [(None, 83)]         0                                            \n",
      "__________________________________________________________________________________________________\n",
      "bert_layer__pool_3 (BertLayer_P (None, 768)          108931396   input_ids[0][0]                  \n",
      "                                                                 input_masks[0][0]                \n",
      "                                                                 segment_ids[0][0]                \n",
      "__________________________________________________________________________________________________\n",
      "dropout_22 (Dropout)            (None, 768)          0           bert_layer__pool_3[0][0]         \n",
      "__________________________________________________________________________________________________\n",
      "dense1 (Dense)                  (None, 256)          196864      dropout_22[0][0]                 \n",
      "__________________________________________________________________________________________________\n",
      "dropout_23 (Dropout)            (None, 256)          0           dense1[0][0]                     \n",
      "__________________________________________________________________________________________________\n",
      "classification (Dense)          (None, 3)            771         dropout_23[0][0]                 \n",
      "==================================================================================================\n",
      "Total params: 109,129,031\n",
      "Trainable params: 6,693,379\n",
      "Non-trainable params: 102,435,652\n",
      "__________________________________________________________________________________________________\n",
      "Train on 395 samples, validate on 30 samples\n",
      "Epoch 1/7\n",
      "395/395 [==============================] - 87s 220ms/sample - loss: 3.7154 - categorical_accuracy: 0.4481 - val_loss: 1.5058 - val_categorical_accuracy: 0.1000\n",
      "Epoch 2/7\n",
      "395/395 [==============================] - 72s 182ms/sample - loss: 2.2997 - categorical_accuracy: 0.4000 - val_loss: 1.5217 - val_categorical_accuracy: 0.3667\n",
      "Epoch 3/7\n",
      "395/395 [==============================] - 73s 186ms/sample - loss: 1.7812 - categorical_accuracy: 0.4152 - val_loss: 1.5575 - val_categorical_accuracy: 0.3667\n",
      "Epoch 4/7\n",
      "395/395 [==============================] - 75s 189ms/sample - loss: 1.4172 - categorical_accuracy: 0.5114 - val_loss: 0.7840 - val_categorical_accuracy: 0.7333\n",
      "Epoch 5/7\n",
      "395/395 [==============================] - 76s 194ms/sample - loss: 1.4033 - categorical_accuracy: 0.5316 - val_loss: 1.3675 - val_categorical_accuracy: 0.3667\n",
      "Epoch 6/7\n",
      "395/395 [==============================] - 75s 190ms/sample - loss: 1.0321 - categorical_accuracy: 0.6532 - val_loss: 0.8763 - val_categorical_accuracy: 0.6667\n",
      "Epoch 7/7\n",
      "395/395 [==============================] - 75s 189ms/sample - loss: 0.8530 - categorical_accuracy: 0.6456 - val_loss: 0.7211 - val_categorical_accuracy: 0.8000\n"
     ]
    },
    {
     "data": {
      "text/plain": [
       "<tensorflow.python.keras.callbacks.History at 0x22fc147e80>"
      ]
     },
     "execution_count": 35,
     "metadata": {},
     "output_type": "execute_result"
    }
   ],
   "source": [
    "train_data, train_labels, test_data, test_labels, true_labels, val_data, val_y = topic_subset(['Climate Change is a Real Concern'])\n",
    "\n",
    "#Start session\n",
    "compute_class = compute_class_weight('balanced', np.unique(true_labels), true_labels)\n",
    "weights = {0: compute_class[0], 1:compute_class[1], 2:compute_class[2]}\n",
    "\n",
    "sess = tf.Session()\n",
    "\n",
    "model = bert_model_pool(max_length = max_length, \n",
    "                     train_layers=12, \n",
    "                     optimizer = tf.keras.optimizers.Adam(learning_rate=0.001,\n",
    "                                                         beta_1 = 0.9,\n",
    "                                                         beta_2 = 0.999),\n",
    "                     dropout_rate= 0.8)\n",
    "\n",
    "# Instantiate variables\n",
    "initialize_vars(sess)\n",
    "\n",
    "\n",
    "model.fit(\n",
    "    train_data, \n",
    "    train_labels,\n",
    "    validation_data = [val_data, val_y],\n",
    "    epochs=7,\n",
    "    verbose=1,\n",
    "    batch_size=32,\n",
    "    class_weight = weights)"
   ]
  },
  {
   "cell_type": "code",
   "execution_count": 36,
   "metadata": {},
   "outputs": [
    {
     "name": "stdout",
     "output_type": "stream",
     "text": [
      "F1 macro score: 0.44093810514236537\n",
      "              precision    recall  f1-score   support\n",
      "\n",
      "     Against       0.00      0.00      0.00        10\n",
      "        None       0.41      0.83      0.55        24\n",
      "       Favor       0.86      0.70      0.77       105\n",
      "\n",
      "   micro avg       0.68      0.68      0.68       139\n",
      "   macro avg       0.42      0.51      0.44       139\n",
      "weighted avg       0.72      0.68      0.68       139\n",
      "\n"
     ]
    },
    {
     "data": {
      "image/png": "[encoded data removed]",
      "text/plain": [
       "<Figure size 1080x360 with 2 Axes>"
      ]
     },
     "metadata": {
      "needs_background": "light"
     },
     "output_type": "display_data"
    }
   ],
   "source": [
    "test_probs = model.predict(test_data)\n",
    "metrics(true_labels, test_probs)"
   ]
  },
  {
   "cell_type": "code",
   "execution_count": 25,
   "metadata": {},
   "outputs": [
    {
     "name": "stdout",
     "output_type": "stream",
     "text": [
      "Model: \"model_6\"\n",
      "__________________________________________________________________________________________________\n",
      "Layer (type)                    Output Shape         Param #     Connected to                     \n",
      "==================================================================================================\n",
      "input_ids (InputLayer)          [(None, 83)]         0                                            \n",
      "__________________________________________________________________________________________________\n",
      "input_masks (InputLayer)        [(None, 83)]         0                                            \n",
      "__________________________________________________________________________________________________\n",
      "segment_ids (InputLayer)        [(None, 83)]         0                                            \n",
      "__________________________________________________________________________________________________\n",
      "bert_layer__seq_6 (BertLayer_Se (None, None, 768)    108931396   input_ids[0][0]                  \n",
      "                                                                 input_masks[0][0]                \n",
      "                                                                 segment_ids[0][0]                \n",
      "__________________________________________________________________________________________________\n",
      "dropout_12 (Dropout)            (None, None, 768)    0           bert_layer__seq_6[0][0]          \n",
      "__________________________________________________________________________________________________\n",
      "lstm1 (LSTM)                    (None, 128)          459264      dropout_12[0][0]                 \n",
      "__________________________________________________________________________________________________\n",
      "dense1 (Dense)                  (None, 64)           8256        lstm1[0][0]                      \n",
      "__________________________________________________________________________________________________\n",
      "dropout_13 (Dropout)            (None, 64)           0           dense1[0][0]                     \n",
      "__________________________________________________________________________________________________\n",
      "classification (Dense)          (None, 3)            195         dropout_13[0][0]                 \n",
      "==================================================================================================\n",
      "Total params: 109,399,111\n",
      "Trainable params: 6,963,459\n",
      "Non-trainable params: 102,435,652\n",
      "__________________________________________________________________________________________________\n",
      "Train on 395 samples, validate on 30 samples\n",
      "Epoch 1/7\n",
      "395/395 [==============================] - 81s 205ms/sample - loss: 1.4273 - categorical_accuracy: 0.4304 - val_loss: 1.1189 - val_categorical_accuracy: 0.3667\n",
      "Epoch 2/7\n",
      "395/395 [==============================] - 77s 195ms/sample - loss: 1.3050 - categorical_accuracy: 0.4380 - val_loss: 0.9058 - val_categorical_accuracy: 0.5000\n",
      "Epoch 3/7\n",
      "395/395 [==============================] - 78s 197ms/sample - loss: 0.9863 - categorical_accuracy: 0.5468 - val_loss: 0.9748 - val_categorical_accuracy: 0.6333\n",
      "Epoch 4/7\n",
      "395/395 [==============================] - 80s 203ms/sample - loss: 0.7806 - categorical_accuracy: 0.5443 - val_loss: 0.9460 - val_categorical_accuracy: 0.5333\n",
      "Epoch 5/7\n",
      "395/395 [==============================] - 80s 201ms/sample - loss: 0.7458 - categorical_accuracy: 0.6506 - val_loss: 1.0160 - val_categorical_accuracy: 0.3667\n",
      "Epoch 6/7\n",
      "395/395 [==============================] - 81s 205ms/sample - loss: 0.6304 - categorical_accuracy: 0.5797 - val_loss: 0.8443 - val_categorical_accuracy: 0.7667\n",
      "Epoch 7/7\n",
      "395/395 [==============================] - 82s 208ms/sample - loss: 0.4901 - categorical_accuracy: 0.7747 - val_loss: 0.6801 - val_categorical_accuracy: 0.8333\n"
     ]
    },
    {
     "data": {
      "text/plain": [
       "<tensorflow.python.keras.callbacks.History at 0x1d5012ba58>"
      ]
     },
     "execution_count": 25,
     "metadata": {},
     "output_type": "execute_result"
    }
   ],
   "source": [
    "train_data, train_labels, test_data, test_labels, true_labels, val_data, val_y = topic_subset(['Climate Change is a Real Concern'])\n",
    "\n",
    "#Start session\n",
    "compute_class = compute_class_weight('balanced', np.unique(true_labels), true_labels)\n",
    "weights = {0: compute_class[0], 1:compute_class[1], 2:compute_class[2]}\n",
    "\n",
    "sess = tf.Session()\n",
    "\n",
    "model = bert_model_seq(max_length = max_length, \n",
    "                     train_layers=12, \n",
    "                     optimizer = tf.keras.optimizers.Adam(learning_rate=0.001,\n",
    "                                                         beta_1 = 0.9,\n",
    "                                                         beta_2 = 0.999),\n",
    "                     dropout_rate= 0.8)\n",
    "\n",
    "# Instantiate variables\n",
    "initialize_vars(sess)\n",
    "\n",
    "\n",
    "model.fit(\n",
    "    train_data, \n",
    "    train_labels,\n",
    "    validation_data = [val_data, val_y],\n",
    "    epochs=7,\n",
    "    verbose=1,\n",
    "    batch_size=32,\n",
    "    class_weight = weights)"
   ]
  },
  {
   "cell_type": "code",
   "execution_count": 26,
   "metadata": {},
   "outputs": [
    {
     "name": "stdout",
     "output_type": "stream",
     "text": [
      "F1 macro score: 0.5243612596553774\n",
      "              precision    recall  f1-score   support\n",
      "\n",
      "     Against       0.50      0.10      0.17        10\n",
      "        None       0.45      0.83      0.59        24\n",
      "       Favor       0.87      0.77      0.82       105\n",
      "\n",
      "   micro avg       0.73      0.73      0.73       139\n",
      "   macro avg       0.61      0.57      0.52       139\n",
      "weighted avg       0.77      0.73      0.73       139\n",
      "\n"
     ]
    },
    {
     "data": {
      "image/png": "[encoded data removed]",
      "text/plain": [
       "<Figure size 1080x360 with 2 Axes>"
      ]
     },
     "metadata": {
      "needs_background": "light"
     },
     "output_type": "display_data"
    }
   ],
   "source": [
    "test_probs = model.predict(test_data)\n",
    "metrics(true_labels, test_probs)"
   ]
  },
  {
   "cell_type": "markdown",
   "metadata": {},
   "source": [
    "## Feminism"
   ]
  },
  {
   "cell_type": "code",
   "execution_count": 14,
   "metadata": {},
   "outputs": [
    {
     "name": "stderr",
     "output_type": "stream",
     "text": [
      "W1122 19:18:54.321408 140735964402560 nn_ops.py:4224] Large dropout rate: 0.8 (>0.5). In TensorFlow 2.x, dropout() uses dropout rate instead of keep_prob. Please ensure that this is intended.\n",
      "W1122 19:18:54.337010 140735964402560 deprecation.py:506] From /Users/alexdessouky/anaconda3/lib/python3.6/site-packages/tensorflow/python/ops/init_ops.py:1251: calling VarianceScaling.__init__ (from tensorflow.python.ops.init_ops) with dtype is deprecated and will be removed in a future version.\n",
      "Instructions for updating:\n",
      "Call initializer instance with the dtype argument instead of passing it to the constructor\n",
      "W1122 19:18:54.357648 140735964402560 nn_ops.py:4224] Large dropout rate: 0.8 (>0.5). In TensorFlow 2.x, dropout() uses dropout rate instead of keep_prob. Please ensure that this is intended.\n"
     ]
    },
    {
     "name": "stdout",
     "output_type": "stream",
     "text": [
      "Model: \"model\"\n",
      "__________________________________________________________________________________________________\n",
      "Layer (type)                    Output Shape         Param #     Connected to                     \n",
      "==================================================================================================\n",
      "input_ids (InputLayer)          [(None, 83)]         0                                            \n",
      "__________________________________________________________________________________________________\n",
      "input_masks (InputLayer)        [(None, 83)]         0                                            \n",
      "__________________________________________________________________________________________________\n",
      "segment_ids (InputLayer)        [(None, 83)]         0                                            \n",
      "__________________________________________________________________________________________________\n",
      "bert_layer__pool (BertLayer_Poo (None, 768)          108931396   input_ids[0][0]                  \n",
      "                                                                 input_masks[0][0]                \n",
      "                                                                 segment_ids[0][0]                \n",
      "__________________________________________________________________________________________________\n",
      "dropout (Dropout)               (None, 768)          0           bert_layer__pool[0][0]           \n",
      "__________________________________________________________________________________________________\n",
      "dense1 (Dense)                  (None, 256)          196864      dropout[0][0]                    \n",
      "__________________________________________________________________________________________________\n",
      "dropout_1 (Dropout)             (None, 256)          0           dense1[0][0]                     \n",
      "__________________________________________________________________________________________________\n",
      "classification (Dense)          (None, 3)            771         dropout_1[0][0]                  \n",
      "==================================================================================================\n",
      "Total params: 109,129,031\n",
      "Trainable params: 6,693,379\n",
      "Non-trainable params: 102,435,652\n",
      "__________________________________________________________________________________________________\n",
      "Train on 664 samples, validate on 37 samples\n"
     ]
    },
    {
     "name": "stderr",
     "output_type": "stream",
     "text": [
      "W1122 19:18:55.989862 140735964402560 deprecation.py:323] From /Users/alexdessouky/anaconda3/lib/python3.6/site-packages/tensorflow/python/ops/math_grad.py:1205: add_dispatch_support.<locals>.wrapper (from tensorflow.python.ops.array_ops) is deprecated and will be removed in a future version.\n",
      "Instructions for updating:\n",
      "Use tf.where in 2.0, which has the same broadcast rule as np.where\n"
     ]
    },
    {
     "name": "stdout",
     "output_type": "stream",
     "text": [
      "Epoch 1/17\n",
      "664/664 [==============================] - 118s 178ms/sample - loss: 2.6089 - categorical_accuracy: 0.3373 - val_loss: 1.2315 - val_categorical_accuracy: 0.1622\n",
      "Epoch 2/17\n",
      "664/664 [==============================] - 118s 177ms/sample - loss: 1.7069 - categorical_accuracy: 0.3238 - val_loss: 1.3880 - val_categorical_accuracy: 0.2432\n",
      "Epoch 3/17\n",
      "664/664 [==============================] - 119s 179ms/sample - loss: 1.4412 - categorical_accuracy: 0.3268 - val_loss: 1.1851 - val_categorical_accuracy: 0.2703\n",
      "Epoch 4/17\n",
      "664/664 [==============================] - 121s 182ms/sample - loss: 1.2810 - categorical_accuracy: 0.4081 - val_loss: 1.2230 - val_categorical_accuracy: 0.3243\n",
      "Epoch 5/17\n",
      "664/664 [==============================] - 125s 188ms/sample - loss: 1.1721 - categorical_accuracy: 0.4428 - val_loss: 1.1618 - val_categorical_accuracy: 0.3514\n",
      "Epoch 6/17\n",
      "664/664 [==============================] - 126s 190ms/sample - loss: 1.0013 - categorical_accuracy: 0.4639 - val_loss: 1.1035 - val_categorical_accuracy: 0.2973\n",
      "Epoch 7/17\n",
      "664/664 [==============================] - 128s 193ms/sample - loss: 0.8096 - categorical_accuracy: 0.4864 - val_loss: 1.4655 - val_categorical_accuracy: 0.2703\n",
      "Epoch 8/17\n",
      "664/664 [==============================] - 131s 198ms/sample - loss: 0.6334 - categorical_accuracy: 0.5633 - val_loss: 1.3930 - val_categorical_accuracy: 0.4324\n",
      "Epoch 9/17\n",
      "664/664 [==============================] - 138s 207ms/sample - loss: 0.5009 - categorical_accuracy: 0.6416 - val_loss: 1.2394 - val_categorical_accuracy: 0.4054\n",
      "Epoch 10/17\n",
      "664/664 [==============================] - 138s 208ms/sample - loss: 0.3661 - categorical_accuracy: 0.7545 - val_loss: 1.5435 - val_categorical_accuracy: 0.4865\n",
      "Epoch 11/17\n",
      "664/664 [==============================] - 139s 210ms/sample - loss: 0.2210 - categorical_accuracy: 0.8810 - val_loss: 1.8520 - val_categorical_accuracy: 0.5946\n",
      "Epoch 12/17\n",
      "664/664 [==============================] - 140s 210ms/sample - loss: 0.3023 - categorical_accuracy: 0.8599 - val_loss: 1.8835 - val_categorical_accuracy: 0.5676\n",
      "Epoch 13/17\n",
      "664/664 [==============================] - 140s 211ms/sample - loss: 0.3507 - categorical_accuracy: 0.8434 - val_loss: 2.3206 - val_categorical_accuracy: 0.5135\n",
      "Epoch 14/17\n",
      "664/664 [==============================] - 139s 209ms/sample - loss: 0.2054 - categorical_accuracy: 0.8916 - val_loss: 3.0865 - val_categorical_accuracy: 0.5405\n",
      "Epoch 15/17\n",
      "664/664 [==============================] - 139s 209ms/sample - loss: 0.1425 - categorical_accuracy: 0.9563 - val_loss: 3.0578 - val_categorical_accuracy: 0.4595\n",
      "Epoch 16/17\n",
      "664/664 [==============================] - 138s 208ms/sample - loss: 0.2492 - categorical_accuracy: 0.9036 - val_loss: 2.3806 - val_categorical_accuracy: 0.6216\n",
      "Epoch 17/17\n",
      "664/664 [==============================] - 137s 207ms/sample - loss: 0.1268 - categorical_accuracy: 0.9428 - val_loss: 3.5102 - val_categorical_accuracy: 0.5135\n"
     ]
    },
    {
     "data": {
      "text/plain": [
       "<tensorflow.python.keras.callbacks.History at 0x1a3aec6e48>"
      ]
     },
     "execution_count": 14,
     "metadata": {},
     "output_type": "execute_result"
    }
   ],
   "source": [
    "train_data, train_labels, test_data, test_labels, true_labels, val_data, val_y = topic_subset(['Feminist Movement'])\n",
    "\n",
    "#Start session\n",
    "compute_class = compute_class_weight('balanced', np.unique(true_labels), true_labels)\n",
    "weights = {0: compute_class[0], 1:compute_class[1], 2:compute_class[2]}\n",
    "\n",
    "sess = tf.Session()\n",
    "\n",
    "model = bert_model_pool(max_length = max_length, \n",
    "                     train_layers=12, \n",
    "                     optimizer = tf.keras.optimizers.Adam(learning_rate=0.001,\n",
    "                                                         beta_1 = 0.9,\n",
    "                                                         beta_2 = 0.999),\n",
    "                     dropout_rate= 0.8)\n",
    "\n",
    "# Instantiate variables\n",
    "initialize_vars(sess)\n",
    "\n",
    "\n",
    "model.fit(\n",
    "    train_data, \n",
    "    train_labels,\n",
    "    validation_data = [val_data, val_y],\n",
    "    epochs=17,\n",
    "    verbose=1,\n",
    "    batch_size=32,\n",
    "    class_weight = weights)"
   ]
  },
  {
   "cell_type": "code",
   "execution_count": 15,
   "metadata": {},
   "outputs": [
    {
     "name": "stdout",
     "output_type": "stream",
     "text": [
      "F1 macro score: 0.5454129740263269\n",
      "              precision    recall  f1-score   support\n",
      "\n",
      "     Against       0.74      0.73      0.74       159\n",
      "        None       0.44      0.68      0.53        37\n",
      "       Favor       0.46      0.31      0.37        52\n",
      "\n",
      "   micro avg       0.63      0.63      0.63       248\n",
      "   macro avg       0.55      0.57      0.55       248\n",
      "weighted avg       0.64      0.63      0.63       248\n",
      "\n"
     ]
    },
    {
     "data": {
      "image/png": "[encoded data removed]",
      "text/plain": [
       "<Figure size 1080x360 with 2 Axes>"
      ]
     },
     "metadata": {
      "needs_background": "light"
     },
     "output_type": "display_data"
    }
   ],
   "source": [
    "test_probs = model.predict(test_data)\n",
    "metrics(true_labels, test_probs)"
   ]
  },
  {
   "cell_type": "code",
   "execution_count": 27,
   "metadata": {},
   "outputs": [
    {
     "name": "stdout",
     "output_type": "stream",
     "text": [
      "Model: \"model_7\"\n",
      "__________________________________________________________________________________________________\n",
      "Layer (type)                    Output Shape         Param #     Connected to                     \n",
      "==================================================================================================\n",
      "input_ids (InputLayer)          [(None, 83)]         0                                            \n",
      "__________________________________________________________________________________________________\n",
      "input_masks (InputLayer)        [(None, 83)]         0                                            \n",
      "__________________________________________________________________________________________________\n",
      "segment_ids (InputLayer)        [(None, 83)]         0                                            \n",
      "__________________________________________________________________________________________________\n",
      "bert_layer__seq_7 (BertLayer_Se (None, None, 768)    108931396   input_ids[0][0]                  \n",
      "                                                                 input_masks[0][0]                \n",
      "                                                                 segment_ids[0][0]                \n",
      "__________________________________________________________________________________________________\n",
      "dropout_14 (Dropout)            (None, None, 768)    0           bert_layer__seq_7[0][0]          \n",
      "__________________________________________________________________________________________________\n",
      "lstm1 (LSTM)                    (None, 128)          459264      dropout_14[0][0]                 \n",
      "__________________________________________________________________________________________________\n",
      "dense1 (Dense)                  (None, 64)           8256        lstm1[0][0]                      \n",
      "__________________________________________________________________________________________________\n",
      "dropout_15 (Dropout)            (None, 64)           0           dense1[0][0]                     \n",
      "__________________________________________________________________________________________________\n",
      "classification (Dense)          (None, 3)            195         dropout_15[0][0]                 \n",
      "==================================================================================================\n",
      "Total params: 109,399,111\n",
      "Trainable params: 6,963,459\n",
      "Non-trainable params: 102,435,652\n",
      "__________________________________________________________________________________________________\n",
      "Train on 664 samples, validate on 37 samples\n",
      "Epoch 1/17\n",
      "664/664 [==============================] - 141s 212ms/sample - loss: 1.3519 - categorical_accuracy: 0.3057 - val_loss: 1.1691 - val_categorical_accuracy: 0.1622\n",
      "Epoch 2/17\n",
      "664/664 [==============================] - 122s 184ms/sample - loss: 1.2805 - categorical_accuracy: 0.2952 - val_loss: 1.2196 - val_categorical_accuracy: 0.2973\n",
      "Epoch 3/17\n",
      "664/664 [==============================] - 122s 183ms/sample - loss: 1.1992 - categorical_accuracy: 0.3479 - val_loss: 1.1000 - val_categorical_accuracy: 0.3243\n",
      "Epoch 4/17\n",
      "664/664 [==============================] - 122s 183ms/sample - loss: 1.1125 - categorical_accuracy: 0.3765 - val_loss: 1.2406 - val_categorical_accuracy: 0.3514\n",
      "Epoch 5/17\n",
      "664/664 [==============================] - 122s 184ms/sample - loss: 1.0449 - categorical_accuracy: 0.4518 - val_loss: 1.0667 - val_categorical_accuracy: 0.2973\n",
      "Epoch 6/17\n",
      "664/664 [==============================] - 123s 185ms/sample - loss: 0.9041 - categorical_accuracy: 0.4548 - val_loss: 1.2615 - val_categorical_accuracy: 0.2973\n",
      "Epoch 7/17\n",
      "664/664 [==============================] - 122s 184ms/sample - loss: 0.7598 - categorical_accuracy: 0.4834 - val_loss: 1.3961 - val_categorical_accuracy: 0.2973\n",
      "Epoch 8/17\n",
      "664/664 [==============================] - 123s 185ms/sample - loss: 0.6940 - categorical_accuracy: 0.5226 - val_loss: 1.3008 - val_categorical_accuracy: 0.3243\n",
      "Epoch 9/17\n",
      "664/664 [==============================] - 125s 188ms/sample - loss: 0.6958 - categorical_accuracy: 0.5166 - val_loss: 1.5519 - val_categorical_accuracy: 0.3784\n",
      "Epoch 10/17\n",
      "664/664 [==============================] - 126s 190ms/sample - loss: 0.6135 - categorical_accuracy: 0.5407 - val_loss: 1.6673 - val_categorical_accuracy: 0.3784\n",
      "Epoch 11/17\n",
      "664/664 [==============================] - 128s 193ms/sample - loss: 0.5575 - categorical_accuracy: 0.5572 - val_loss: 1.5601 - val_categorical_accuracy: 0.3243\n",
      "Epoch 12/17\n",
      "664/664 [==============================] - 130s 196ms/sample - loss: 0.5674 - categorical_accuracy: 0.6009 - val_loss: 1.6170 - val_categorical_accuracy: 0.3243\n",
      "Epoch 13/17\n",
      "664/664 [==============================] - 132s 199ms/sample - loss: 0.5317 - categorical_accuracy: 0.6009 - val_loss: 1.3174 - val_categorical_accuracy: 0.5676\n",
      "Epoch 14/17\n",
      "664/664 [==============================] - 135s 203ms/sample - loss: 0.3908 - categorical_accuracy: 0.7048 - val_loss: 1.8610 - val_categorical_accuracy: 0.4865\n",
      "Epoch 15/17\n",
      "664/664 [==============================] - 136s 205ms/sample - loss: 0.3591 - categorical_accuracy: 0.7169 - val_loss: 1.9846 - val_categorical_accuracy: 0.5405\n",
      "Epoch 16/17\n",
      "664/664 [==============================] - 137s 206ms/sample - loss: 0.3700 - categorical_accuracy: 0.7651 - val_loss: 2.5050 - val_categorical_accuracy: 0.5135\n",
      "Epoch 17/17\n",
      "664/664 [==============================] - 138s 209ms/sample - loss: 0.2607 - categorical_accuracy: 0.8283 - val_loss: 2.6152 - val_categorical_accuracy: 0.5676\n"
     ]
    },
    {
     "data": {
      "text/plain": [
       "<tensorflow.python.keras.callbacks.History at 0x1e3bf1c7f0>"
      ]
     },
     "execution_count": 27,
     "metadata": {},
     "output_type": "execute_result"
    }
   ],
   "source": [
    "train_data, train_labels, test_data, test_labels, true_labels, val_data, val_y = topic_subset(['Feminist Movement'])\n",
    "\n",
    "#Start session\n",
    "compute_class = compute_class_weight('balanced', np.unique(true_labels), true_labels)\n",
    "weights = {0: compute_class[0], 1:compute_class[1], 2:compute_class[2]}\n",
    "\n",
    "sess = tf.Session()\n",
    "\n",
    "model = bert_model_seq(max_length = max_length, \n",
    "                     train_layers=12, \n",
    "                     optimizer = tf.keras.optimizers.Adam(learning_rate=0.001,\n",
    "                                                         beta_1 = 0.9,\n",
    "                                                         beta_2 = 0.999),\n",
    "                     dropout_rate= 0.8)\n",
    "\n",
    "# Instantiate variables\n",
    "initialize_vars(sess)\n",
    "\n",
    "\n",
    "model.fit(\n",
    "    train_data, \n",
    "    train_labels,\n",
    "    validation_data = [val_data, val_y],\n",
    "    epochs=17,\n",
    "    verbose=1,\n",
    "    batch_size=32,\n",
    "    class_weight = weights)"
   ]
  },
  {
   "cell_type": "code",
   "execution_count": 28,
   "metadata": {},
   "outputs": [
    {
     "name": "stdout",
     "output_type": "stream",
     "text": [
      "F1 macro score: 0.5936478758169935\n",
      "              precision    recall  f1-score   support\n",
      "\n",
      "     Against       0.86      0.61      0.71       159\n",
      "        None       0.47      0.76      0.58        37\n",
      "       Favor       0.41      0.60      0.48        52\n",
      "\n",
      "   micro avg       0.63      0.63      0.63       248\n",
      "   macro avg       0.58      0.65      0.59       248\n",
      "weighted avg       0.71      0.63      0.65       248\n",
      "\n"
     ]
    },
    {
     "data": {
      "image/png": "[encoded data removed]",
      "text/plain": [
       "<Figure size 1080x360 with 2 Axes>"
      ]
     },
     "metadata": {
      "needs_background": "light"
     },
     "output_type": "display_data"
    }
   ],
   "source": [
    "test_probs = model.predict(test_data)\n",
    "metrics(true_labels, test_probs)"
   ]
  },
  {
   "cell_type": "markdown",
   "metadata": {},
   "source": [
    "## ALL"
   ]
  },
  {
   "cell_type": "code",
   "execution_count": null,
   "metadata": {
    "scrolled": true
   },
   "outputs": [],
   "source": [
    "train_data, train_labels, test_data, test_labels, true_labels = topic_subset(['Hillary Clinton', \n",
    "                                                                              'Legalization of Abortion', \n",
    "                                                                              'Climate Change is a Real Concern',\n",
    "                                                                             'Atheism',\n",
    "                                                                             'Feminist Movement'])\n",
    "\n",
    "\n",
    "#Start session\n",
    "compute_class = compute_class_weight('balanced', np.unique(true_labels), true_labels)\n",
    "weights = {0: compute_class[0], 1:compute_class[1], 2:compute_class[2]}\n",
    "\n",
    "sess = tf.Session()\n",
    "\n",
    "model = bert_model(max_length, train_layers=12, optimizer = 'adam')\n",
    "\n",
    "# Instantiate variables\n",
    "initialize_vars(sess)\n",
    "\n",
    "\n",
    "model.fit(\n",
    "    train_data, \n",
    "    train_labels,\n",
    "    validation_data=[test_data, test_labels],\n",
    "    epochs=20,\n",
    "    verbose=1,\n",
    "    batch_size=32,\n",
    "    class_weight = weights)"
   ]
  },
  {
   "cell_type": "code",
   "execution_count": null,
   "metadata": {
    "scrolled": true
   },
   "outputs": [],
   "source": [
    "test_probs = model.predict(test_data)\n",
    "metrics(true_labels, test_probs)"
   ]
  },
  {
   "cell_type": "code",
   "execution_count": null,
   "metadata": {},
   "outputs": [],
   "source": [
    "train_data, train_labels, test_data, test_labels, true_labels = topic_subset(['Hillary Clinton', \n",
    "                                                                              'Legalization of Abortion', \n",
    "                                                                              'Climate Change is a Real Concern',\n",
    "                                                                             'Atheism',\n",
    "                                                                             'Feminist Movement'])\n",
    "\n",
    "\n",
    "#Start session\n",
    "compute_class = compute_class_weight('balanced', np.unique(true_labels), true_labels)\n",
    "weights = {0: compute_class[0], 1:compute_class[1], 2:compute_class[2]}\n",
    "\n",
    "sess = tf.Session()\n",
    "\n",
    "model = bert_model_2(max_length, train_layers=12, optimizer = 'adam')\n",
    "\n",
    "# Instantiate variables\n",
    "initialize_vars(sess)\n",
    "\n",
    "\n",
    "model.fit(\n",
    "    train_data, \n",
    "    train_labels,\n",
    "    validation_data=[test_data, test_labels],\n",
    "    epochs=20,\n",
    "    verbose=1,\n",
    "    batch_size=32,\n",
    "    class_weight = weights)"
   ]
  },
  {
   "cell_type": "code",
   "execution_count": null,
   "metadata": {},
   "outputs": [],
   "source": [
    "test_probs = model.predict(test_data)\n",
    "metrics(true_labels, test_probs)"
   ]
  },
  {
   "cell_type": "code",
   "execution_count": null,
   "metadata": {},
   "outputs": [],
   "source": []
  }
 ],
 "metadata": {
  "kernelspec": {
   "display_name": "Python 3",
   "language": "python",
   "name": "python3"
  },
  "language_info": {
   "codemirror_mode": {
    "name": "ipython",
    "version": 3
   },
   "file_extension": ".py",
   "mimetype": "text/x-python",
   "name": "python",
   "nbconvert_exporter": "python",
   "pygments_lexer": "ipython3",
   "version": "3.7.3"
  }
 },
 "nbformat": 4,
 "nbformat_minor": 2
}
