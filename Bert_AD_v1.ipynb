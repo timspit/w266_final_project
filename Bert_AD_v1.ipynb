{
 "cells": [
  {
   "cell_type": "markdown",
   "metadata": {},
   "source": [
    "## Setup"
   ]
  },
  {
   "cell_type": "code",
   "execution_count": 19,
   "metadata": {},
   "outputs": [],
   "source": [
    "#imports\n",
    "import pandas as pd\n",
    "import numpy as np\n",
    "from sklearn.metrics import f1_score\n",
    "import time\n",
    "import re\n",
    "import tensorflow as tf\n",
    "import tensorflow_hub as hub\n",
    "import os\n",
    "from sklearn.metrics import confusion_matrix, classification_report\n",
    "import matplotlib.pyplot as plt\n",
    "import string\n",
    "import sys\n",
    "from datetime import datetime\n",
    "from sklearn.utils.class_weight import compute_class_weight\n",
    "from sklearn.model_selection import train_test_split\n",
    "\n",
    "\n",
    "from tensorflow.keras import backend as K\n",
    "from tensorflow.keras import layers\n",
    "from tensorflow.python.keras.layers import Lambda\n",
    "from tensorflow.keras.callbacks import TensorBoard\n",
    "from tensorflow.keras.backend import sparse_categorical_crossentropy\n",
    "from tensorflow.keras.layers import Dense, TimeDistributed\n",
    "from datetime import datetime\n",
    "\n",
    "%matplotlib inline\n",
    "\n",
    "#set working directory\n",
    "# os.chdir(\"/Users/alexdessouky/Desktop/MIDS/w266\")\n",
    "\n",
    "#load training data\n",
    "twitter_train = pd.read_excel('./StanceDataset/train.xlsx')\n",
    "train_x = twitter_train['Tweet']\n",
    "train_y = twitter_train['Stance']\n",
    "\n",
    "\n",
    "#load test data\n",
    "twitter_test = pd.read_excel('./StanceDataset/test.xlsx')\n",
    "test_x = twitter_test['Tweet']\n",
    "test_y = twitter_test[['Stance','Target']]\n",
    "\n",
    "#carve out 15% of test data to use as dev data\n",
    "test_x, dev_x, test_y, dev_y = train_test_split(test_x, test_y, test_size=0.15, random_state=42)\n",
    "\n",
    "#need to save the target arrays for test & dev separately; then can drop them from our y arrays\n",
    "target_test = test_y['Target']\n",
    "target_dev = dev_y['Target']\n",
    "\n",
    "test_y = test_y['Stance']\n",
    "dev_y = dev_y['Stance']"
   ]
  },
  {
   "cell_type": "code",
   "execution_count": 20,
   "metadata": {},
   "outputs": [],
   "source": [
    "#store the paths to bert & data\n",
    "bert_path =   '/Users/alexdessouky/Desktop/MIDS/w266/bert' \n",
    "#data_path = '/Users/alexdessouky/Desktop/MIDS/w266/w266_final_project/StanceDataset'  \n",
    "\n",
    "now = datetime.now() # current date and time\n",
    "\n",
    "# make sure that the paths are accessible within the notebook\n",
    "sys.path.insert(0,bert_path)\n",
    "# sys.path.insert(0,data_path)"
   ]
  },
  {
   "cell_type": "code",
   "execution_count": 21,
   "metadata": {},
   "outputs": [],
   "source": [
    "import optimization\n",
    "import run_classifier\n",
    "import tokenization\n",
    "import run_classifier_with_tfhub\n",
    "\n",
    "# Tensorflow hub path to BERT module of choice\n",
    "bert_url = \"https://tfhub.dev/google/bert_cased_L-12_H-768_A-12/1\"\n",
    "\n",
    "# Define maximal length of input 'sentences' (post tokenization).\n",
    "max_length = 83 ## max length with no preprocessing"
   ]
  },
  {
   "cell_type": "markdown",
   "metadata": {},
   "source": [
    "## Bert tokenizer"
   ]
  },
  {
   "cell_type": "code",
   "execution_count": 22,
   "metadata": {},
   "outputs": [],
   "source": [
    "def create_tokenizer_from_hub_module():\n",
    "    \"\"\"Get the vocab file and casing info from the Hub module.\"\"\"\n",
    "    with tf.Graph().as_default():\n",
    "        bert_module = hub.Module(bert_url)\n",
    "        tokenization_info = bert_module(signature=\"tokenization_info\", as_dict=True)\n",
    "        with tf.Session() as sess:\n",
    "            vocab_file, do_lower_case = sess.run([tokenization_info[\"vocab_file\"],\n",
    "                                            tokenization_info[\"do_lower_case\"]])\n",
    "      \n",
    "    return tokenization.FullTokenizer(\n",
    "      vocab_file=vocab_file, do_lower_case=do_lower_case)\n",
    "\n",
    "tokenizer = create_tokenizer_from_hub_module()"
   ]
  },
  {
   "cell_type": "markdown",
   "metadata": {},
   "source": [
    "## If we want to \"Clean\" the tweets; uncomment out this cell (performs better without)"
   ]
  },
  {
   "cell_type": "code",
   "execution_count": 23,
   "metadata": {},
   "outputs": [],
   "source": [
    "#def preprocess_tweets(x):\n",
    "    \n",
    "    # Remove punctuation EXCEPT for hashtags (#) and handles (@)\n",
    "#    exclude_punc = [punc for punc in string.punctuation if punc not in ['#', '@']]\n",
    "#    x_nopunc = ''.join(ch for ch in x if ch not in exclude_punc)\n",
    "\n",
    "    # lower case\n",
    "#    x_lower = x_nopunc.lower()\n",
    "    \n",
    "    # Replace digits with DIGIT\n",
    "#    x_digits = re.sub(\"\\d+\", \"DIGIT\", x_lower)\n",
    "    \n",
    "#    return x_digits\n",
    "\n",
    "#train_x = twitter_train['Tweet'].apply(lambda x: preprocess_tweets(x))\n",
    "#test_x = twitter_test['Tweet'].apply(lambda x: preprocess_tweets(x))\n",
    "\n",
    "#max_length = 95 #redefine max length - this is what it is when we clean the tweets"
   ]
  },
  {
   "cell_type": "markdown",
   "metadata": {},
   "source": [
    "## Pre-Process Data"
   ]
  },
  {
   "cell_type": "code",
   "execution_count": 24,
   "metadata": {},
   "outputs": [],
   "source": [
    "#create tokens surrounded by the [CLS] and [SEP] tokens\n",
    "train_tokens = train_x.apply(lambda x: ['[CLS]'] + tokenizer.tokenize(x) + ['[SEP]'])\n",
    "test_tokens = test_x.apply(lambda x: ['[CLS]'] + tokenizer.tokenize(x) + ['[SEP]'])\n",
    "dev_tokens = dev_x.apply(lambda x: ['[CLS]'] + tokenizer.tokenize(x) + ['[SEP]'])\n",
    "\n",
    "#mask ids (mask out the paddings)\n",
    "train_mask_ids = train_tokens.apply(lambda x: len(x)*[1])\n",
    "test_mask_ids = test_tokens.apply(lambda x: len(x)*[1])\n",
    "dev_mask_ids = dev_tokens.apply(lambda x: len(x)*[1])\n",
    "\n",
    "train_mask_ids = train_mask_ids.apply(lambda x: np.array(x + (max_length - len(x)) * [0]) if len(x) < max_length else \n",
    "                                      np.array(x)).tolist()\n",
    "test_mask_ids = test_mask_ids.apply(lambda x: np.array(x + (max_length - len(x)) * [0]) if len(x) < max_length else \n",
    "                                    np.array(x)).tolist()\n",
    "dev_mask_ids = dev_mask_ids.apply(lambda x: np.array(x + (max_length - len(x)) * [0]) if len(x) < max_length else \n",
    "                                    np.array(x)).tolist()\n",
    "\n",
    "#add padding to tokens\n",
    "train_tokens = train_tokens.apply(lambda x: x + (max_length - len(x)) * ['[PAD]'] if len(x) < max_length else x)\n",
    "test_tokens = test_tokens.apply(lambda x: x + (max_length - len(x)) * ['[PAD]'] if len(x) < max_length else x)\n",
    "dev_tokens = dev_tokens.apply(lambda x: x + (max_length - len(x)) * ['[PAD]'] if len(x) < max_length else x)\n",
    "\n",
    "#test/train sequence vectors\n",
    "train_sequenceids = train_tokens.apply(lambda x: np.array(max_length*[0])).tolist()\n",
    "test_sequenceids = test_tokens.apply(lambda x: np.array(max_length*[0])).tolist()\n",
    "dev_sequenceids = dev_tokens.apply(lambda x: np.array(max_length*[0])).tolist()\n",
    "\n",
    "#convert tokens to sentence ids\n",
    "train_sentenceids = train_tokens.apply(lambda x: np.array(tokenizer.convert_tokens_to_ids(x))).tolist()\n",
    "test_sentenceids = test_tokens.apply(lambda x: np.array(tokenizer.convert_tokens_to_ids(x))).tolist()\n",
    "dev_sentenceids = dev_tokens.apply(lambda x: np.array(tokenizer.convert_tokens_to_ids(x))).tolist()\n",
    "\n",
    "#bert features\n",
    "bert_train = [np.array(train_sentenceids),np.array(train_mask_ids),np.array(train_sequenceids)]\n",
    "bert_test = [np.array(test_sentenceids),np.array(test_mask_ids),np.array(test_sequenceids)]\n",
    "bert_dev = [np.array(dev_sentenceids),np.array(dev_mask_ids),np.array(dev_sequenceids)]\n",
    "\n",
    "#labels\n",
    "stance_labels_train = np.array(twitter_train['Stance'].apply(lambda x: \n",
    "                                                                    2 if x == \"FAVOR\" else \n",
    "                                                                    (1 if x == \"NONE\" else 0)))\n",
    "\n",
    "stance_labels_test = np.array(pd.Series(test_y).apply(lambda x: \n",
    "                                                                2 if x == \"FAVOR\" else \n",
    "                                                                (1 if x == \"NONE\" else 0)))\n",
    "\n",
    "stance_labels_dev = np.array(pd.Series(dev_y).apply(lambda x: \n",
    "                                                                2 if x == \"FAVOR\" else \n",
    "                                                                (1 if x == \"NONE\" else 0)))\n",
    "      \n",
    "\n",
    "#PREP LABELS FOR NN\n",
    "train_y = np.zeros(shape = (stance_labels_train.shape[0],3))\n",
    "train_y[stance_labels_train == 0,0] = 1\n",
    "train_y[stance_labels_train == 1,1] = 1\n",
    "train_y[stance_labels_train == 2,2] = 1\n",
    "\n",
    "test_y = np.zeros(shape = (stance_labels_test.shape[0],3))\n",
    "test_y[stance_labels_test == 0,0] = 1\n",
    "test_y[stance_labels_test == 1,1] = 1\n",
    "test_y[stance_labels_test == 2,2] = 1\n",
    "\n",
    "dev_y = np.zeros(shape = (stance_labels_dev.shape[0],3))\n",
    "dev_y[stance_labels_dev == 0,0] = 1\n",
    "dev_y[stance_labels_dev == 1,1] = 1\n",
    "dev_y[stance_labels_dev == 2,2] = 1"
   ]
  },
  {
   "cell_type": "markdown",
   "metadata": {},
   "source": [
    "## Check data shapes"
   ]
  },
  {
   "cell_type": "code",
   "execution_count": 25,
   "metadata": {},
   "outputs": [
    {
     "name": "stdout",
     "output_type": "stream",
     "text": [
      "(2914, 83)(2914, 83)(2914, 83)\n",
      "(2914, 3)\n",
      "(1662, 83)(1662, 83)(1662, 83)\n",
      "(1662, 3)\n",
      "(294, 83)(294, 83)(294, 83)\n",
      "(294, 3)\n"
     ]
    }
   ],
   "source": [
    "print(str(bert_train[0].shape) + str(bert_train[1].shape) + str(bert_train[2].shape))\n",
    "print(train_y.shape)\n",
    "\n",
    "print(str(bert_test[0].shape) + str(bert_test[1].shape) + str(bert_test[2].shape))\n",
    "print(test_y.shape)\n",
    "\n",
    "print(str(bert_dev[0].shape) + str(bert_dev[1].shape) + str(bert_dev[2].shape))\n",
    "print(dev_y.shape)"
   ]
  },
  {
   "cell_type": "markdown",
   "metadata": {},
   "source": [
    "## Function to obtain a subset of the data"
   ]
  },
  {
   "cell_type": "code",
   "execution_count": 26,
   "metadata": {},
   "outputs": [],
   "source": [
    "def topic_subset(topic_list):\n",
    "        \n",
    "    #convert topic list to lower case\n",
    "    for i in range(0,len(topic_list)):\n",
    "        topic_list[i] = topic_list[i].lower()\n",
    "    \n",
    "    #find boolean series of all rows pertaining to the relevant topics\n",
    "    matches_train = twitter_train['Target'].apply(lambda x: x.lower() in topic_list)\n",
    "    matches_test = pd.Series(target_test).apply(lambda x: x.lower() in topic_list)\n",
    "    matches_dev = pd.Series(target_dev).apply(lambda x: x.lower() in topic_list)\n",
    "    \n",
    "    #subset labels\n",
    "    train_y_sub = train_y[matches_train,:]\n",
    "    test_y_sub = test_y[matches_test,:]\n",
    "    dev_y_sub = dev_y[matches_dev,:]\n",
    "    \n",
    "    \n",
    "    #initialize bert training lists for subsetting\n",
    "    bert_train_sub = []\n",
    "    bert_test_sub = []\n",
    "    bert_dev_sub = []\n",
    "    \n",
    "    for train_input in bert_train:\n",
    "        bert_train_sub.append(train_input[matches_train,:])\n",
    "        \n",
    "    for test_input in bert_test:\n",
    "        bert_test_sub.append(test_input[matches_test,:])\n",
    "        \n",
    "    for dev_input in bert_dev:\n",
    "        bert_dev_sub.append(dev_input[matches_dev,:])\n",
    "        \n",
    "    #also need to return the test labels in this format for metrics\n",
    "    true_labels = stance_labels_test[matches_test]\n",
    "    \n",
    "    return bert_train_sub, train_y_sub, bert_test_sub, test_y_sub, true_labels, bert_dev_sub, dev_y_sub"
   ]
  },
  {
   "cell_type": "markdown",
   "metadata": {},
   "source": [
    "## Functions to Run Metrics"
   ]
  },
  {
   "cell_type": "code",
   "execution_count": 27,
   "metadata": {},
   "outputs": [],
   "source": [
    "def confusion_plot(confusion_matrix, target_names):\n",
    "    # Plot confusion matrix (via imshow)\n",
    "    plt.imshow(confusion_matrix, interpolation = \"nearest\", cmap = plt.cm.Blues)\n",
    "    plt.title(\"Confusion matrix\")\n",
    "    plt.colorbar()\n",
    "    tick_marks = np.arange(len(target_names))\n",
    "    plt.xticks(tick_marks, target_names)\n",
    "    plt.yticks(tick_marks, target_names)\n",
    "    plt.tight_layout()\n",
    "\n",
    "    # Loop through each value of the matrix to add data labels\n",
    "    width, height = confusion_matrix.shape\n",
    "    for x in range(width):\n",
    "        for y in range(height):\n",
    "            plt.annotate(str(confusion_matrix[x][y]), xy = (y, x), \n",
    "                        horizontalalignment = \"center\",\n",
    "                        verticalalignment = \"center\")\n",
    "    plt.ylabel(\"True label\")\n",
    "    \n",
    "def metrics(true_labels, test_probs):\n",
    "    \n",
    "    #find predicted labels\n",
    "    test_predicts = np.argmax(test_probs, axis = 1)\n",
    "    \n",
    "    #calculate f1 score and print classification report\n",
    "    class_report = classification_report(y_true = true_labels, \n",
    "                                        y_pred = test_predicts,\n",
    "                                        target_names = ['Against', 'None', 'Favor'], output_dict=True)\n",
    "    \n",
    "    print(\"F1 macro score (Favor and Against only)\", str((class_report['Favor']['f1-score'] + \n",
    "         class_report['Against']['f1-score']) / 2))\n",
    "    \n",
    "    print(classification_report(y_true = true_labels, \n",
    "                                        y_pred = test_predicts,\n",
    "                                        target_names = ['Against', 'None', 'Favor']))\n",
    "    \n",
    "    confuse = confusion_matrix(y_true = true_labels, y_pred = test_predicts)\n",
    "    \n",
    "    plt.figure(figsize=(15, 5))\n",
    "    confusion_plot(confuse, ['Against', 'None', 'Favor'])\n",
    "    plt.show()"
   ]
  },
  {
   "cell_type": "markdown",
   "metadata": {},
   "source": [
    "## Custom layer to create Bert"
   ]
  },
  {
   "cell_type": "code",
   "execution_count": 28,
   "metadata": {},
   "outputs": [],
   "source": [
    "class BertLayer_Seq(tf.keras.layers.Layer):\n",
    "    def __init__(self, n_fine_tune_layers=10, **kwargs):\n",
    "        self.n_fine_tune_layers = n_fine_tune_layers\n",
    "        self.trainable = True\n",
    "        self.output_size = 768\n",
    "        super(BertLayer_Seq, self).__init__(**kwargs)\n",
    "\n",
    "    def build(self, input_shape):\n",
    "        self.bert = hub.Module(\n",
    "            bert_url,\n",
    "            trainable=self.trainable,\n",
    "            name=\"{}_module\".format(self.name)\n",
    "        )\n",
    "        trainable_vars = self.bert.variables\n",
    "        \n",
    "        # Remove unused layers\n",
    "        trainable_vars = [var for var in trainable_vars if not \"/cls/\" in var.name and not \"/pooler/\" in var.name]\n",
    "        \n",
    "        # Select how many layers to fine tune\n",
    "        trainable_vars = trainable_vars[-self.n_fine_tune_layers :]\n",
    "        \n",
    "        # Add to trainable weights\n",
    "        for var in trainable_vars:\n",
    "            self._trainable_weights.append(var)\n",
    "        \n",
    "        # Add non-trainable weights\n",
    "        for var in self.bert.variables:\n",
    "            if var not in self._trainable_weights:\n",
    "                self._non_trainable_weights.append(var)\n",
    "        \n",
    "        super(BertLayer_Seq, self).build(input_shape)\n",
    "\n",
    "    def call(self, inputs):\n",
    "        inputs = [K.cast(x, dtype=\"int32\") for x in inputs]\n",
    "        input_ids, input_mask, segment_ids = inputs\n",
    "        bert_inputs = dict(\n",
    "            input_ids=input_ids, input_mask=input_mask, segment_ids=segment_ids\n",
    "        )\n",
    "        result = self.bert(inputs=bert_inputs, signature=\"tokens\", as_dict=True)[\n",
    "            \"sequence_output\"\n",
    "        ]\n",
    "        \n",
    "        mul_mask = lambda x, m: x * tf.expand_dims(m, axis=-1)\n",
    "        \n",
    "        return result\n",
    "\n",
    "    def compute_output_shape(self, input_shape):\n",
    "        return (input_shape[0], self.output_size)"
   ]
  },
  {
   "cell_type": "markdown",
   "metadata": {},
   "source": [
    "## Define Model"
   ]
  },
  {
   "cell_type": "code",
   "execution_count": 11,
   "metadata": {},
   "outputs": [],
   "source": [
    "def bert_model_seq(max_length, train_layers, optimizer, dropout_rate):\n",
    "    \n",
    "    #inputs\n",
    "    in_id = tf.keras.layers.Input(shape=(max_length,), name=\"input_ids\")\n",
    "    in_mask = tf.keras.layers.Input(shape=(max_length,), name=\"input_masks\")\n",
    "    in_segment = tf.keras.layers.Input(shape=(max_length,), name=\"segment_ids\")\n",
    "    \n",
    "    bert_inputs = [in_id, in_mask, in_segment]\n",
    "    \n",
    "    #obtain bert Sequential output\n",
    "    bert_sequence = BertLayer_Seq(n_fine_tune_layers=train_layers)(bert_inputs)\n",
    "    \n",
    "    #perform dropout\n",
    "    dropout1= tf.keras.layers.Dropout(rate=dropout_rate)(bert_sequence)\n",
    "    \n",
    "    #LSTM layer to handle Sequential output\n",
    "    lstm1 = tf.keras.layers.LSTM(128, name='lstm1')(dropout1)\n",
    "    \n",
    "    #Feed LSTM layer to 1 dense layer\n",
    "    dense1 = tf.keras.layers.Dense(64, activation='relu', \n",
    "                                 kernel_initializer = tf.keras.initializers.he_normal(), \n",
    "                                 name='dense1')(lstm1)\n",
    "    \n",
    "    #perform another dropout\n",
    "    dropout2 = tf.keras.layers.Dropout(rate=dropout_rate)(dense1)\n",
    "    \n",
    "    #classification layer\n",
    "    pred = tf.keras.layers.Dense(3, activation='softmax', name='classification')(dropout2)\n",
    "    \n",
    "    #compile model\n",
    "    model = tf.keras.models.Model(inputs=bert_inputs, outputs=pred)\n",
    "    model.compile(loss='categorical_crossentropy', optimizer=optimizer, metrics = ['categorical_accuracy'])\n",
    "    model.summary()\n",
    "    \n",
    "    return model\n",
    "\n",
    "def initialize_vars(sess):\n",
    "    sess.run(tf.local_variables_initializer())\n",
    "    sess.run(tf.global_variables_initializer())\n",
    "    sess.run(tf.tables_initializer())\n",
    "    K.set_session(sess)"
   ]
  },
  {
   "cell_type": "markdown",
   "metadata": {},
   "source": [
    "## Atheism"
   ]
  },
  {
   "cell_type": "code",
   "execution_count": 40,
   "metadata": {},
   "outputs": [
    {
     "name": "stdout",
     "output_type": "stream",
     "text": [
      "Model: \"model_7\"\n",
      "__________________________________________________________________________________________________\n",
      "Layer (type)                    Output Shape         Param #     Connected to                     \n",
      "==================================================================================================\n",
      "input_ids (InputLayer)          [(None, 83)]         0                                            \n",
      "__________________________________________________________________________________________________\n",
      "input_masks (InputLayer)        [(None, 83)]         0                                            \n",
      "__________________________________________________________________________________________________\n",
      "segment_ids (InputLayer)        [(None, 83)]         0                                            \n",
      "__________________________________________________________________________________________________\n",
      "bert_layer__seq_7 (BertLayer_Se (None, None, 768)    108931396   input_ids[0][0]                  \n",
      "                                                                 input_masks[0][0]                \n",
      "                                                                 segment_ids[0][0]                \n",
      "__________________________________________________________________________________________________\n",
      "dropout_14 (Dropout)            (None, None, 768)    0           bert_layer__seq_7[0][0]          \n",
      "__________________________________________________________________________________________________\n",
      "lstm1 (LSTM)                    (None, 128)          459264      dropout_14[0][0]                 \n",
      "__________________________________________________________________________________________________\n",
      "dense1 (Dense)                  (None, 64)           8256        lstm1[0][0]                      \n",
      "__________________________________________________________________________________________________\n",
      "dropout_15 (Dropout)            (None, 64)           0           dense1[0][0]                     \n",
      "__________________________________________________________________________________________________\n",
      "classification (Dense)          (None, 3)            195         dropout_15[0][0]                 \n",
      "==================================================================================================\n",
      "Total params: 109,399,111\n",
      "Trainable params: 5,191,683\n",
      "Non-trainable params: 104,207,428\n",
      "__________________________________________________________________________________________________\n",
      "Train on 513 samples, validate on 35 samples\n",
      "Epoch 1/15\n",
      "513/513 [==============================] - 106s 207ms/sample - loss: 1.2871 - categorical_accuracy: 0.3645 - val_loss: 0.8620 - val_categorical_accuracy: 0.6000\n",
      "Epoch 2/15\n",
      "513/513 [==============================] - 95s 185ms/sample - loss: 0.8896 - categorical_accuracy: 0.6706 - val_loss: 1.2741 - val_categorical_accuracy: 0.5714\n",
      "Epoch 3/15\n",
      "513/513 [==============================] - 95s 185ms/sample - loss: 0.7058 - categorical_accuracy: 0.7544 - val_loss: 0.7854 - val_categorical_accuracy: 0.6286\n",
      "Epoch 4/15\n",
      "513/513 [==============================] - 95s 184ms/sample - loss: 0.5757 - categorical_accuracy: 0.8148 - val_loss: 0.3721 - val_categorical_accuracy: 0.8286\n",
      "Epoch 5/15\n",
      "513/513 [==============================] - 95s 186ms/sample - loss: 0.4367 - categorical_accuracy: 0.8343 - val_loss: 1.0705 - val_categorical_accuracy: 0.6571\n",
      "Epoch 6/15\n",
      "513/513 [==============================] - 96s 187ms/sample - loss: 0.3751 - categorical_accuracy: 0.8733 - val_loss: 1.1473 - val_categorical_accuracy: 0.6857\n",
      "Epoch 7/15\n",
      "513/513 [==============================] - 97s 188ms/sample - loss: 0.3045 - categorical_accuracy: 0.8791 - val_loss: 1.2221 - val_categorical_accuracy: 0.6000\n",
      "Epoch 8/15\n",
      "513/513 [==============================] - 97s 189ms/sample - loss: 0.3957 - categorical_accuracy: 0.8616 - val_loss: 1.1416 - val_categorical_accuracy: 0.5714\n",
      "Epoch 9/15\n",
      "513/513 [==============================] - 99s 193ms/sample - loss: 0.2244 - categorical_accuracy: 0.9064 - val_loss: 1.3635 - val_categorical_accuracy: 0.6000\n",
      "Epoch 10/15\n",
      "513/513 [==============================] - 99s 192ms/sample - loss: 0.2333 - categorical_accuracy: 0.8947 - val_loss: 1.6541 - val_categorical_accuracy: 0.4571\n",
      "Epoch 11/15\n",
      "513/513 [==============================] - 99s 192ms/sample - loss: 0.2512 - categorical_accuracy: 0.9084 - val_loss: 1.7112 - val_categorical_accuracy: 0.5143\n",
      "Epoch 12/15\n",
      "513/513 [==============================] - 99s 194ms/sample - loss: 0.3330 - categorical_accuracy: 0.8772 - val_loss: 0.7880 - val_categorical_accuracy: 0.6857\n",
      "Epoch 13/15\n",
      "513/513 [==============================] - 99s 194ms/sample - loss: 0.1557 - categorical_accuracy: 0.9298 - val_loss: 0.8483 - val_categorical_accuracy: 0.7143\n",
      "Epoch 14/15\n",
      "513/513 [==============================] - 99s 194ms/sample - loss: 0.0702 - categorical_accuracy: 0.9786 - val_loss: 1.1421 - val_categorical_accuracy: 0.7143\n",
      "Epoch 15/15\n",
      "513/513 [==============================] - 100s 195ms/sample - loss: 0.0413 - categorical_accuracy: 0.9825 - val_loss: 0.8268 - val_categorical_accuracy: 0.7714\n"
     ]
    },
    {
     "data": {
      "text/plain": [
       "<tensorflow.python.keras.callbacks.History at 0x1e40e37b38>"
      ]
     },
     "execution_count": 40,
     "metadata": {},
     "output_type": "execute_result"
    }
   ],
   "source": [
    "train_data, train_labels, test_data, test_labels, true_labels, val_data, val_y = topic_subset(['Atheism'])\n",
    "\n",
    "#Start session\n",
    "compute_class = compute_class_weight('balanced', np.unique(true_labels), true_labels)\n",
    "weights = {0: compute_class[0], 1:compute_class[1], 2:compute_class[2]}\n",
    "\n",
    "sess = tf.Session()\n",
    "\n",
    "model = bert_model_seq(max_length = max_length, \n",
    "                     train_layers=6, \n",
    "                     optimizer = tf.keras.optimizers.Adam(learning_rate=0.001,\n",
    "                                                         beta_1 = 0.9,\n",
    "                                                         beta_2 = 0.999),\n",
    "                     dropout_rate= 0.5)\n",
    "\n",
    "# Instantiate variables\n",
    "initialize_vars(sess)\n",
    "\n",
    "\n",
    "model.fit(\n",
    "    train_data, \n",
    "    train_labels,\n",
    "    validation_data = [val_data, val_y],\n",
    "    epochs=15,\n",
    "    verbose=1,\n",
    "    batch_size=32,\n",
    "    class_weight = weights)"
   ]
  },
  {
   "cell_type": "code",
   "execution_count": 41,
   "metadata": {},
   "outputs": [
    {
     "name": "stdout",
     "output_type": "stream",
     "text": [
      "F1 macro score (Favor and Against only) 0.68159977388355\n",
      "              precision    recall  f1-score   support\n",
      "\n",
      "     Against       0.85      0.77      0.81       128\n",
      "        None       0.55      0.79      0.65        28\n",
      "       Favor       0.55      0.55      0.55        29\n",
      "\n",
      "   micro avg       0.74      0.74      0.74       185\n",
      "   macro avg       0.65      0.70      0.67       185\n",
      "weighted avg       0.76      0.74      0.75       185\n",
      "\n"
     ]
    },
    {
     "data": {
      "image/png": "[encoded data removed]",
      "text/plain": [
       "<Figure size 1080x360 with 2 Axes>"
      ]
     },
     "metadata": {
      "needs_background": "light"
     },
     "output_type": "display_data"
    }
   ],
   "source": [
    "test_probs = model.predict(test_data)\n",
    "metrics(true_labels, test_probs)"
   ]
  },
  {
   "cell_type": "markdown",
   "metadata": {},
   "source": [
    "## Hillary Clinton"
   ]
  },
  {
   "cell_type": "code",
   "execution_count": 30,
   "metadata": {},
   "outputs": [
    {
     "name": "stdout",
     "output_type": "stream",
     "text": [
      "Model: \"model_2\"\n",
      "__________________________________________________________________________________________________\n",
      "Layer (type)                    Output Shape         Param #     Connected to                     \n",
      "==================================================================================================\n",
      "input_ids (InputLayer)          [(None, 83)]         0                                            \n",
      "__________________________________________________________________________________________________\n",
      "input_masks (InputLayer)        [(None, 83)]         0                                            \n",
      "__________________________________________________________________________________________________\n",
      "segment_ids (InputLayer)        [(None, 83)]         0                                            \n",
      "__________________________________________________________________________________________________\n",
      "bert_layer__seq_2 (BertLayer_Se (None, None, 768)    108931396   input_ids[0][0]                  \n",
      "                                                                 input_masks[0][0]                \n",
      "                                                                 segment_ids[0][0]                \n",
      "__________________________________________________________________________________________________\n",
      "dropout_4 (Dropout)             (None, None, 768)    0           bert_layer__seq_2[0][0]          \n",
      "__________________________________________________________________________________________________\n",
      "lstm1 (LSTM)                    (None, 128)          459264      dropout_4[0][0]                  \n",
      "__________________________________________________________________________________________________\n",
      "dense1 (Dense)                  (None, 64)           8256        lstm1[0][0]                      \n",
      "__________________________________________________________________________________________________\n",
      "dropout_5 (Dropout)             (None, 64)           0           dense1[0][0]                     \n",
      "__________________________________________________________________________________________________\n",
      "classification (Dense)          (None, 3)            195         dropout_5[0][0]                  \n",
      "==================================================================================================\n",
      "Total params: 109,399,111\n",
      "Trainable params: 5,191,683\n",
      "Non-trainable params: 104,207,428\n",
      "__________________________________________________________________________________________________\n",
      "Train on 689 samples, validate on 48 samples\n",
      "Epoch 1/15\n",
      "689/689 [==============================] - 134s 194ms/sample - loss: 1.1935 - categorical_accuracy: 0.3556 - val_loss: 1.0552 - val_categorical_accuracy: 0.3750\n",
      "Epoch 2/15\n",
      "689/689 [==============================] - 131s 190ms/sample - loss: 0.9910 - categorical_accuracy: 0.4427 - val_loss: 0.8176 - val_categorical_accuracy: 0.6250\n",
      "Epoch 3/15\n",
      "689/689 [==============================] - 136s 198ms/sample - loss: 0.8097 - categorical_accuracy: 0.5457 - val_loss: 0.7129 - val_categorical_accuracy: 0.6667\n",
      "Epoch 4/15\n",
      "689/689 [==============================] - 137s 199ms/sample - loss: 0.6541 - categorical_accuracy: 0.6763 - val_loss: 0.7785 - val_categorical_accuracy: 0.7083\n",
      "Epoch 5/15\n",
      "689/689 [==============================] - 143s 207ms/sample - loss: 0.5005 - categorical_accuracy: 0.7707 - val_loss: 1.0020 - val_categorical_accuracy: 0.6458\n",
      "Epoch 6/15\n",
      "689/689 [==============================] - 149s 216ms/sample - loss: 0.3275 - categorical_accuracy: 0.8418 - val_loss: 1.1079 - val_categorical_accuracy: 0.6042\n",
      "Epoch 7/15\n",
      "689/689 [==============================] - 142s 206ms/sample - loss: 0.2173 - categorical_accuracy: 0.9173 - val_loss: 1.3634 - val_categorical_accuracy: 0.6042\n",
      "Epoch 8/15\n",
      "689/689 [==============================] - 149s 217ms/sample - loss: 0.1921 - categorical_accuracy: 0.9463 - val_loss: 1.4202 - val_categorical_accuracy: 0.5625\n",
      "Epoch 9/15\n",
      "689/689 [==============================] - 150s 217ms/sample - loss: 0.0936 - categorical_accuracy: 0.9637 - val_loss: 1.4653 - val_categorical_accuracy: 0.6667\n",
      "Epoch 10/15\n",
      "689/689 [==============================] - 156s 227ms/sample - loss: 0.0711 - categorical_accuracy: 0.9739 - val_loss: 1.7257 - val_categorical_accuracy: 0.6667\n",
      "Epoch 11/15\n",
      "689/689 [==============================] - 142s 206ms/sample - loss: 0.0423 - categorical_accuracy: 0.9855 - val_loss: 1.7637 - val_categorical_accuracy: 0.6250\n",
      "Epoch 12/15\n",
      "689/689 [==============================] - 139s 201ms/sample - loss: 0.0936 - categorical_accuracy: 0.9710 - val_loss: 1.8711 - val_categorical_accuracy: 0.6458\n",
      "Epoch 13/15\n",
      "689/689 [==============================] - 146s 211ms/sample - loss: 0.1692 - categorical_accuracy: 0.9289 - val_loss: 1.2174 - val_categorical_accuracy: 0.6458\n",
      "Epoch 14/15\n",
      "689/689 [==============================] - 141s 204ms/sample - loss: 0.1193 - categorical_accuracy: 0.9507 - val_loss: 1.5636 - val_categorical_accuracy: 0.6458\n",
      "Epoch 15/15\n",
      "689/689 [==============================] - 133s 194ms/sample - loss: 0.0531 - categorical_accuracy: 0.9869 - val_loss: 1.7076 - val_categorical_accuracy: 0.6667\n"
     ]
    },
    {
     "data": {
      "text/plain": [
       "<tensorflow.python.keras.callbacks.History at 0x1ad15bb668>"
      ]
     },
     "execution_count": 30,
     "metadata": {},
     "output_type": "execute_result"
    }
   ],
   "source": [
    "train_data, train_labels, test_data, test_labels, true_labels, val_data, val_y = topic_subset(['Hillary Clinton'])\n",
    "\n",
    "#Start session\n",
    "compute_class = compute_class_weight('balanced', np.unique(true_labels), true_labels)\n",
    "weights = {0: compute_class[0], 1:compute_class[1], 2:compute_class[2]}\n",
    "\n",
    "sess = tf.Session()\n",
    "\n",
    "model = bert_model_seq(max_length = max_length, \n",
    "                     train_layers=6, \n",
    "                     optimizer = tf.keras.optimizers.Adam(learning_rate=0.001,\n",
    "                                                         beta_1 = 0.9,\n",
    "                                                         beta_2 = 0.999),\n",
    "                     dropout_rate= 0.5)\n",
    "\n",
    "# Instantiate variables\n",
    "initialize_vars(sess)\n",
    "\n",
    "model.fit(\n",
    "    train_data, \n",
    "    train_labels,\n",
    "    validation_data = [val_data, val_y],\n",
    "    epochs=15,\n",
    "    verbose=1,\n",
    "    batch_size=32,\n",
    "    class_weight = weights)"
   ]
  },
  {
   "cell_type": "code",
   "execution_count": 31,
   "metadata": {},
   "outputs": [
    {
     "name": "stdout",
     "output_type": "stream",
     "text": [
      "F1 macro score (Favor and Against only) 0.6444954128440367\n",
      "              precision    recall  f1-score   support\n",
      "\n",
      "     Against       0.73      0.86      0.79       150\n",
      "        None       0.69      0.52      0.59        63\n",
      "       Favor       0.64      0.41      0.50        34\n",
      "\n",
      "   micro avg       0.71      0.71      0.71       247\n",
      "   macro avg       0.68      0.60      0.63       247\n",
      "weighted avg       0.71      0.71      0.70       247\n",
      "\n"
     ]
    },
    {
     "data": {
      "image/png": "[encoded data removed]",
      "text/plain": [
       "<Figure size 1080x360 with 2 Axes>"
      ]
     },
     "metadata": {
      "needs_background": "light"
     },
     "output_type": "display_data"
    }
   ],
   "source": [
    "test_probs = model.predict(test_data)\n",
    "metrics(true_labels, test_probs)"
   ]
  },
  {
   "cell_type": "markdown",
   "metadata": {},
   "source": [
    "## Abortion"
   ]
  },
  {
   "cell_type": "code",
   "execution_count": 32,
   "metadata": {},
   "outputs": [
    {
     "name": "stdout",
     "output_type": "stream",
     "text": [
      "Model: \"model_3\"\n",
      "__________________________________________________________________________________________________\n",
      "Layer (type)                    Output Shape         Param #     Connected to                     \n",
      "==================================================================================================\n",
      "input_ids (InputLayer)          [(None, 83)]         0                                            \n",
      "__________________________________________________________________________________________________\n",
      "input_masks (InputLayer)        [(None, 83)]         0                                            \n",
      "__________________________________________________________________________________________________\n",
      "segment_ids (InputLayer)        [(None, 83)]         0                                            \n",
      "__________________________________________________________________________________________________\n",
      "bert_layer__seq_3 (BertLayer_Se (None, None, 768)    108931396   input_ids[0][0]                  \n",
      "                                                                 input_masks[0][0]                \n",
      "                                                                 segment_ids[0][0]                \n",
      "__________________________________________________________________________________________________\n",
      "dropout_6 (Dropout)             (None, None, 768)    0           bert_layer__seq_3[0][0]          \n",
      "__________________________________________________________________________________________________\n",
      "lstm1 (LSTM)                    (None, 128)          459264      dropout_6[0][0]                  \n",
      "__________________________________________________________________________________________________\n",
      "dense1 (Dense)                  (None, 64)           8256        lstm1[0][0]                      \n",
      "__________________________________________________________________________________________________\n",
      "dropout_7 (Dropout)             (None, 64)           0           dense1[0][0]                     \n",
      "__________________________________________________________________________________________________\n",
      "classification (Dense)          (None, 3)            195         dropout_7[0][0]                  \n",
      "==================================================================================================\n",
      "Total params: 109,399,111\n",
      "Trainable params: 5,191,683\n",
      "Non-trainable params: 104,207,428\n",
      "__________________________________________________________________________________________________\n",
      "Train on 653 samples, validate on 41 samples\n",
      "Epoch 1/15\n",
      "653/653 [==============================] - 126s 193ms/sample - loss: 1.2843 - categorical_accuracy: 0.2940 - val_loss: 1.2344 - val_categorical_accuracy: 0.2439\n",
      "Epoch 2/15\n",
      "653/653 [==============================] - 123s 188ms/sample - loss: 0.9357 - categorical_accuracy: 0.5513 - val_loss: 1.4982 - val_categorical_accuracy: 0.3659\n",
      "Epoch 3/15\n",
      "653/653 [==============================] - 122s 187ms/sample - loss: 0.7214 - categorical_accuracy: 0.6830 - val_loss: 0.8987 - val_categorical_accuracy: 0.6341\n",
      "Epoch 4/15\n",
      "653/653 [==============================] - 125s 192ms/sample - loss: 0.4593 - categorical_accuracy: 0.8270 - val_loss: 0.9399 - val_categorical_accuracy: 0.6829\n",
      "Epoch 5/15\n",
      "653/653 [==============================] - 122s 187ms/sample - loss: 0.3126 - categorical_accuracy: 0.8714 - val_loss: 1.3367 - val_categorical_accuracy: 0.6098\n",
      "Epoch 6/15\n",
      "653/653 [==============================] - 122s 187ms/sample - loss: 0.2070 - categorical_accuracy: 0.9250 - val_loss: 1.0053 - val_categorical_accuracy: 0.7317\n",
      "Epoch 7/15\n",
      "653/653 [==============================] - 122s 186ms/sample - loss: 0.2158 - categorical_accuracy: 0.9096 - val_loss: 1.3362 - val_categorical_accuracy: 0.6098\n",
      "Epoch 8/15\n",
      "653/653 [==============================] - 122s 187ms/sample - loss: 0.1684 - categorical_accuracy: 0.9418 - val_loss: 1.3676 - val_categorical_accuracy: 0.6829\n",
      "Epoch 9/15\n",
      "653/653 [==============================] - 122s 187ms/sample - loss: 0.1454 - categorical_accuracy: 0.9433 - val_loss: 2.1289 - val_categorical_accuracy: 0.5854\n",
      "Epoch 10/15\n",
      "653/653 [==============================] - 122s 187ms/sample - loss: 0.0884 - categorical_accuracy: 0.9678 - val_loss: 1.6697 - val_categorical_accuracy: 0.6098\n",
      "Epoch 11/15\n",
      "653/653 [==============================] - 123s 188ms/sample - loss: 0.0740 - categorical_accuracy: 0.9755 - val_loss: 1.5621 - val_categorical_accuracy: 0.6829\n",
      "Epoch 12/15\n",
      "653/653 [==============================] - 123s 189ms/sample - loss: 0.1030 - categorical_accuracy: 0.9602 - val_loss: 1.4734 - val_categorical_accuracy: 0.7805\n",
      "Epoch 13/15\n",
      "653/653 [==============================] - 124s 189ms/sample - loss: 0.0211 - categorical_accuracy: 0.9969 - val_loss: 1.5438 - val_categorical_accuracy: 0.7317\n",
      "Epoch 14/15\n",
      "653/653 [==============================] - 124s 190ms/sample - loss: 0.0090 - categorical_accuracy: 0.9985 - val_loss: 1.7478 - val_categorical_accuracy: 0.7317\n",
      "Epoch 15/15\n",
      "653/653 [==============================] - 123s 189ms/sample - loss: 0.0044 - categorical_accuracy: 1.0000 - val_loss: 1.8308 - val_categorical_accuracy: 0.7805\n"
     ]
    },
    {
     "data": {
      "text/plain": [
       "<tensorflow.python.keras.callbacks.History at 0x1b49e2ec18>"
      ]
     },
     "execution_count": 32,
     "metadata": {},
     "output_type": "execute_result"
    }
   ],
   "source": [
    "train_data, train_labels, test_data, test_labels, true_labels, val_data, val_y = topic_subset(['Legalization of Abortion'])\n",
    "\n",
    "#Start session\n",
    "compute_class = compute_class_weight('balanced', np.unique(true_labels), true_labels)\n",
    "weights = {0: compute_class[0], 1:compute_class[1], 2:compute_class[2]}\n",
    "\n",
    "sess = tf.Session()\n",
    "\n",
    "model = bert_model_seq(max_length = max_length, \n",
    "                     train_layers=6, \n",
    "                     optimizer = tf.keras.optimizers.Adam(learning_rate=0.001,\n",
    "                                                         beta_1 = 0.9,\n",
    "                                                         beta_2 = 0.999),\n",
    "                     dropout_rate= 0.5)\n",
    "\n",
    "# Instantiate variables\n",
    "initialize_vars(sess)\n",
    "\n",
    "\n",
    "model.fit(\n",
    "    train_data, \n",
    "    train_labels,\n",
    "    validation_data = [val_data, val_y],\n",
    "    epochs=15,\n",
    "    verbose=1,\n",
    "    batch_size=32,\n",
    "    class_weight = weights)"
   ]
  },
  {
   "cell_type": "code",
   "execution_count": 33,
   "metadata": {},
   "outputs": [
    {
     "name": "stdout",
     "output_type": "stream",
     "text": [
      "F1 macro score (Favor and Against only) 0.6409277504105091\n",
      "              precision    recall  f1-score   support\n",
      "\n",
      "     Against       0.83      0.61      0.71       161\n",
      "        None       0.35      0.70      0.47        37\n",
      "       Favor       0.54      0.61      0.57        41\n",
      "\n",
      "   micro avg       0.63      0.63      0.63       239\n",
      "   macro avg       0.58      0.64      0.58       239\n",
      "weighted avg       0.71      0.63      0.65       239\n",
      "\n"
     ]
    },
    {
     "data": {
      "image/png": "[encoded data removed]",
      "text/plain": [
       "<Figure size 1080x360 with 2 Axes>"
      ]
     },
     "metadata": {
      "needs_background": "light"
     },
     "output_type": "display_data"
    }
   ],
   "source": [
    "test_probs = model.predict(test_data)\n",
    "metrics(true_labels, test_probs)"
   ]
  },
  {
   "cell_type": "markdown",
   "metadata": {},
   "source": [
    "## Climate Change"
   ]
  },
  {
   "cell_type": "code",
   "execution_count": 34,
   "metadata": {},
   "outputs": [
    {
     "name": "stdout",
     "output_type": "stream",
     "text": [
      "Model: \"model_4\"\n",
      "__________________________________________________________________________________________________\n",
      "Layer (type)                    Output Shape         Param #     Connected to                     \n",
      "==================================================================================================\n",
      "input_ids (InputLayer)          [(None, 83)]         0                                            \n",
      "__________________________________________________________________________________________________\n",
      "input_masks (InputLayer)        [(None, 83)]         0                                            \n",
      "__________________________________________________________________________________________________\n",
      "segment_ids (InputLayer)        [(None, 83)]         0                                            \n",
      "__________________________________________________________________________________________________\n",
      "bert_layer__seq_4 (BertLayer_Se (None, None, 768)    108931396   input_ids[0][0]                  \n",
      "                                                                 input_masks[0][0]                \n",
      "                                                                 segment_ids[0][0]                \n",
      "__________________________________________________________________________________________________\n",
      "dropout_8 (Dropout)             (None, None, 768)    0           bert_layer__seq_4[0][0]          \n",
      "__________________________________________________________________________________________________\n",
      "lstm1 (LSTM)                    (None, 128)          459264      dropout_8[0][0]                  \n",
      "__________________________________________________________________________________________________\n",
      "dense1 (Dense)                  (None, 64)           8256        lstm1[0][0]                      \n",
      "__________________________________________________________________________________________________\n",
      "dropout_9 (Dropout)             (None, 64)           0           dense1[0][0]                     \n",
      "__________________________________________________________________________________________________\n",
      "classification (Dense)          (None, 3)            195         dropout_9[0][0]                  \n",
      "==================================================================================================\n",
      "Total params: 109,399,111\n",
      "Trainable params: 5,191,683\n",
      "Non-trainable params: 104,207,428\n",
      "__________________________________________________________________________________________________\n",
      "Train on 395 samples, validate on 30 samples\n",
      "Epoch 1/7\n",
      "395/395 [==============================] - 79s 200ms/sample - loss: 1.2175 - categorical_accuracy: 0.4354 - val_loss: 1.1134 - val_categorical_accuracy: 0.3667\n",
      "Epoch 2/7\n",
      "395/395 [==============================] - 74s 187ms/sample - loss: 0.9221 - categorical_accuracy: 0.4886 - val_loss: 0.8225 - val_categorical_accuracy: 0.8333\n",
      "Epoch 3/7\n",
      "395/395 [==============================] - 74s 187ms/sample - loss: 0.7287 - categorical_accuracy: 0.5797 - val_loss: 0.8674 - val_categorical_accuracy: 0.6333\n",
      "Epoch 4/7\n",
      "395/395 [==============================] - 74s 188ms/sample - loss: 0.5176 - categorical_accuracy: 0.7468 - val_loss: 0.6633 - val_categorical_accuracy: 0.7667\n",
      "Epoch 5/7\n",
      "395/395 [==============================] - 74s 188ms/sample - loss: 0.3978 - categorical_accuracy: 0.7696 - val_loss: 0.7085 - val_categorical_accuracy: 0.7667\n",
      "Epoch 6/7\n",
      "395/395 [==============================] - 76s 192ms/sample - loss: 0.2110 - categorical_accuracy: 0.9165 - val_loss: 0.6244 - val_categorical_accuracy: 0.8000\n",
      "Epoch 7/7\n",
      "395/395 [==============================] - 74s 188ms/sample - loss: 0.1180 - categorical_accuracy: 0.9494 - val_loss: 0.6671 - val_categorical_accuracy: 0.8667\n"
     ]
    },
    {
     "data": {
      "text/plain": [
       "<tensorflow.python.keras.callbacks.History at 0x1bde762400>"
      ]
     },
     "execution_count": 34,
     "metadata": {},
     "output_type": "execute_result"
    }
   ],
   "source": [
    "train_data, train_labels, test_data, test_labels, true_labels, val_data, val_y = topic_subset(['Climate Change is a Real Concern'])\n",
    "\n",
    "#Start session\n",
    "compute_class = compute_class_weight('balanced', np.unique(true_labels), true_labels)\n",
    "weights = {0: compute_class[0], 1:compute_class[1], 2:compute_class[2]}\n",
    "\n",
    "sess = tf.Session()\n",
    "\n",
    "model = bert_model_seq(max_length = max_length, \n",
    "                     train_layers=6, \n",
    "                     optimizer = tf.keras.optimizers.Adam(learning_rate=0.001,\n",
    "                                                         beta_1 = 0.9,\n",
    "                                                         beta_2 = 0.999),\n",
    "                     dropout_rate= 0.5)\n",
    "\n",
    "# Instantiate variables\n",
    "initialize_vars(sess)\n",
    "\n",
    "\n",
    "model.fit(\n",
    "    train_data, \n",
    "    train_labels,\n",
    "    validation_data = [val_data, val_y],\n",
    "    epochs=7,\n",
    "    verbose=1,\n",
    "    batch_size=32,\n",
    "    class_weight = weights)"
   ]
  },
  {
   "cell_type": "code",
   "execution_count": 35,
   "metadata": {},
   "outputs": [
    {
     "name": "stdout",
     "output_type": "stream",
     "text": [
      "F1 macro score (Favor and Against only) 0.49105691056910566\n",
      "              precision    recall  f1-score   support\n",
      "\n",
      "     Against       0.20      0.10      0.13        10\n",
      "        None       0.50      0.71      0.59        24\n",
      "       Favor       0.87      0.83      0.85       105\n",
      "\n",
      "   micro avg       0.76      0.76      0.76       139\n",
      "   macro avg       0.52      0.55      0.52       139\n",
      "weighted avg       0.76      0.76      0.75       139\n",
      "\n"
     ]
    },
    {
     "data": {
      "image/png": "[encoded data removed]",
      "text/plain": [
       "<Figure size 1080x360 with 2 Axes>"
      ]
     },
     "metadata": {
      "needs_background": "light"
     },
     "output_type": "display_data"
    }
   ],
   "source": [
    "test_probs = model.predict(test_data)\n",
    "metrics(true_labels, test_probs)"
   ]
  },
  {
   "cell_type": "markdown",
   "metadata": {},
   "source": [
    "## Feminism"
   ]
  },
  {
   "cell_type": "code",
   "execution_count": 38,
   "metadata": {},
   "outputs": [
    {
     "name": "stdout",
     "output_type": "stream",
     "text": [
      "Model: \"model_6\"\n",
      "__________________________________________________________________________________________________\n",
      "Layer (type)                    Output Shape         Param #     Connected to                     \n",
      "==================================================================================================\n",
      "input_ids (InputLayer)          [(None, 83)]         0                                            \n",
      "__________________________________________________________________________________________________\n",
      "input_masks (InputLayer)        [(None, 83)]         0                                            \n",
      "__________________________________________________________________________________________________\n",
      "segment_ids (InputLayer)        [(None, 83)]         0                                            \n",
      "__________________________________________________________________________________________________\n",
      "bert_layer__seq_6 (BertLayer_Se (None, None, 768)    108931396   input_ids[0][0]                  \n",
      "                                                                 input_masks[0][0]                \n",
      "                                                                 segment_ids[0][0]                \n",
      "__________________________________________________________________________________________________\n",
      "dropout_12 (Dropout)            (None, None, 768)    0           bert_layer__seq_6[0][0]          \n",
      "__________________________________________________________________________________________________\n",
      "lstm1 (LSTM)                    (None, 128)          459264      dropout_12[0][0]                 \n",
      "__________________________________________________________________________________________________\n",
      "dense1 (Dense)                  (None, 64)           8256        lstm1[0][0]                      \n",
      "__________________________________________________________________________________________________\n",
      "dropout_13 (Dropout)            (None, 64)           0           dense1[0][0]                     \n",
      "__________________________________________________________________________________________________\n",
      "classification (Dense)          (None, 3)            195         dropout_13[0][0]                 \n",
      "==================================================================================================\n",
      "Total params: 109,399,111\n",
      "Trainable params: 5,191,683\n",
      "Non-trainable params: 104,207,428\n",
      "__________________________________________________________________________________________________\n",
      "Train on 664 samples, validate on 37 samples\n",
      "Epoch 1/15\n",
      "664/664 [==============================] - 129s 195ms/sample - loss: 1.3047 - categorical_accuracy: 0.3117 - val_loss: 1.1274 - val_categorical_accuracy: 0.3243\n",
      "Epoch 2/15\n",
      "664/664 [==============================] - 121s 183ms/sample - loss: 1.0703 - categorical_accuracy: 0.5045 - val_loss: 1.1733 - val_categorical_accuracy: 0.3514\n",
      "Epoch 3/15\n",
      "664/664 [==============================] - 133s 200ms/sample - loss: 0.8401 - categorical_accuracy: 0.5738 - val_loss: 1.3505 - val_categorical_accuracy: 0.3243\n",
      "Epoch 4/15\n",
      "664/664 [==============================] - 133s 201ms/sample - loss: 0.7525 - categorical_accuracy: 0.6611 - val_loss: 1.3913 - val_categorical_accuracy: 0.4865\n",
      "Epoch 5/15\n",
      "664/664 [==============================] - 135s 203ms/sample - loss: 0.5477 - categorical_accuracy: 0.7244 - val_loss: 1.6942 - val_categorical_accuracy: 0.4324\n",
      "Epoch 6/15\n",
      "664/664 [==============================] - 141s 213ms/sample - loss: 0.3858 - categorical_accuracy: 0.8042 - val_loss: 0.8196 - val_categorical_accuracy: 0.6757\n",
      "Epoch 7/15\n",
      "664/664 [==============================] - 129s 194ms/sample - loss: 0.3040 - categorical_accuracy: 0.8810 - val_loss: 1.3890 - val_categorical_accuracy: 0.3784\n",
      "Epoch 8/15\n",
      "664/664 [==============================] - 128s 193ms/sample - loss: 0.1664 - categorical_accuracy: 0.9428 - val_loss: 2.0368 - val_categorical_accuracy: 0.5405\n",
      "Epoch 9/15\n",
      "664/664 [==============================] - 127s 192ms/sample - loss: 0.1349 - categorical_accuracy: 0.9473 - val_loss: 1.7678 - val_categorical_accuracy: 0.5676\n",
      "Epoch 10/15\n",
      "664/664 [==============================] - 127s 192ms/sample - loss: 0.0951 - categorical_accuracy: 0.9729 - val_loss: 2.5986 - val_categorical_accuracy: 0.5135\n",
      "Epoch 11/15\n",
      "664/664 [==============================] - 128s 192ms/sample - loss: 0.1239 - categorical_accuracy: 0.9639 - val_loss: 1.8095 - val_categorical_accuracy: 0.5405\n",
      "Epoch 12/15\n",
      "664/664 [==============================] - 128s 193ms/sample - loss: 0.0612 - categorical_accuracy: 0.9774 - val_loss: 1.9613 - val_categorical_accuracy: 0.5676\n",
      "Epoch 13/15\n",
      "664/664 [==============================] - 128s 192ms/sample - loss: 0.1175 - categorical_accuracy: 0.9684 - val_loss: 3.6093 - val_categorical_accuracy: 0.4324\n",
      "Epoch 14/15\n",
      "664/664 [==============================] - 128s 193ms/sample - loss: 0.2331 - categorical_accuracy: 0.9111 - val_loss: 1.5193 - val_categorical_accuracy: 0.5946\n",
      "Epoch 15/15\n",
      "664/664 [==============================] - 129s 194ms/sample - loss: 0.1275 - categorical_accuracy: 0.9503 - val_loss: 1.8336 - val_categorical_accuracy: 0.5405\n"
     ]
    },
    {
     "data": {
      "text/plain": [
       "<tensorflow.python.keras.callbacks.History at 0x1d5a7d47f0>"
      ]
     },
     "execution_count": 38,
     "metadata": {},
     "output_type": "execute_result"
    }
   ],
   "source": [
    "train_data, train_labels, test_data, test_labels, true_labels, val_data, val_y = topic_subset(['Feminist Movement'])\n",
    "\n",
    "#Start session\n",
    "compute_class = compute_class_weight('balanced', np.unique(true_labels), true_labels)\n",
    "weights = {0: compute_class[0], 1:compute_class[1], 2:compute_class[2]}\n",
    "\n",
    "sess = tf.Session()\n",
    "\n",
    "model = bert_model_seq(max_length = max_length, \n",
    "                     train_layers=6, \n",
    "                     optimizer = tf.keras.optimizers.Adam(learning_rate=0.001,\n",
    "                                                         beta_1 = 0.9,\n",
    "                                                         beta_2 = 0.999),\n",
    "                     dropout_rate= 0.5)\n",
    "\n",
    "# Instantiate variables\n",
    "initialize_vars(sess)\n",
    "\n",
    "\n",
    "model.fit(\n",
    "    train_data, \n",
    "    train_labels,\n",
    "    validation_data = [val_data, val_y],\n",
    "    epochs=15,\n",
    "    verbose=1,\n",
    "    batch_size=32,\n",
    "    class_weight = weights)"
   ]
  },
  {
   "cell_type": "code",
   "execution_count": 39,
   "metadata": {},
   "outputs": [
    {
     "name": "stdout",
     "output_type": "stream",
     "text": [
      "F1 macro score (Favor and Against only) 0.5403131401814457\n",
      "              precision    recall  f1-score   support\n",
      "\n",
      "     Against       0.80      0.55      0.65       159\n",
      "        None       0.58      0.59      0.59        37\n",
      "       Favor       0.33      0.63      0.43        52\n",
      "\n",
      "   micro avg       0.57      0.57      0.57       248\n",
      "   macro avg       0.57      0.59      0.56       248\n",
      "weighted avg       0.67      0.57      0.59       248\n",
      "\n"
     ]
    },
    {
     "data": {
      "image/png": "[encoded data removed]",
      "text/plain": [
       "<Figure size 1080x360 with 2 Axes>"
      ]
     },
     "metadata": {
      "needs_background": "light"
     },
     "output_type": "display_data"
    }
   ],
   "source": [
    "test_probs = model.predict(test_data)\n",
    "metrics(true_labels, test_probs)"
   ]
  },
  {
   "cell_type": "markdown",
   "metadata": {},
   "source": [
    "## ALL"
   ]
  },
  {
   "cell_type": "code",
   "execution_count": null,
   "metadata": {},
   "outputs": [],
   "source": [
    "train_data, train_labels, test_data, test_labels, true_labels = topic_subset(['Hillary Clinton', \n",
    "                                                                              'Legalization of Abortion', \n",
    "                                                                              'Climate Change is a Real Concern',\n",
    "                                                                             'Atheism',\n",
    "                                                                             'Feminist Movement'])\n",
    "\n",
    "\n",
    "#Start session\n",
    "compute_class = compute_class_weight('balanced', np.unique(true_labels), true_labels)\n",
    "weights = {0: compute_class[0], 1:compute_class[1], 2:compute_class[2]}\n",
    "\n",
    "sess = tf.Session()\n",
    "\n",
    "model = bert_model_2(max_length, train_layers=12, optimizer = 'adam')\n",
    "\n",
    "# Instantiate variables\n",
    "initialize_vars(sess)\n",
    "\n",
    "\n",
    "model.fit(\n",
    "    train_data, \n",
    "    train_labels,\n",
    "    validation_data=[test_data, test_labels],\n",
    "    epochs=20,\n",
    "    verbose=1,\n",
    "    batch_size=32,\n",
    "    class_weight = weights)"
   ]
  },
  {
   "cell_type": "code",
   "execution_count": null,
   "metadata": {},
   "outputs": [],
   "source": [
    "test_probs = model.predict(test_data)\n",
    "metrics(true_labels, test_probs)"
   ]
  }
 ],
 "metadata": {
  "kernelspec": {
   "display_name": "Python 3",
   "language": "python",
   "name": "python3"
  },
  "language_info": {
   "codemirror_mode": {
    "name": "ipython",
    "version": 3
   },
   "file_extension": ".py",
   "mimetype": "text/x-python",
   "name": "python",
   "nbconvert_exporter": "python",
   "pygments_lexer": "ipython3",
   "version": "3.6.8"
  }
 },
 "nbformat": 4,
 "nbformat_minor": 2
}
